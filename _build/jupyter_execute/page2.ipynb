{
 "cells": [
  {
   "attachments": {},
   "cell_type": "markdown",
   "id": "69bac28e",
   "metadata": {},
   "source": [
    "# Calculate your own IR and Raman Spectra\n",
    "\n",
    "The following code is aimed to help you to obtain theoretical spectra of IR and Raman using the web service: xTB [https://ir.cheminfo.org/api/v1/docs#/default/get_ir_spectrum_ir_get] [1]. As you will see, it uses three different theoretical methods GFN2xTB, GFN1xTB and GFNFF.The way you can use the following code is by executing th following cells. BEfore starting make sure you have the SMILES code of the molecule you are going to simulate. \n",
    "\n",
    "If you do not have the smiles code, you can draw your molecule in the following page to obtain it:[https://www.cheminfo.org/flavor/malaria/Utilities/SMILES_generator___checker/index.html]\n",
    "\n",
    "---\n",
    "\n",
    "<sup> Source: J. Chem. Educ. 2022, 99, 2, 561–569 </sup>"
   ]
  },
  {
   "cell_type": "code",
   "execution_count": 1,
   "id": "09087fcb",
   "metadata": {},
   "outputs": [
    {
     "name": "stdout",
     "output_type": "stream",
     "text": [
      "Requirement already satisfied: rdkit in /home/cd96/psi4conda/envs/jbook/lib/python3.11/site-packages (2023.3.1)\r\n",
      "Requirement already satisfied: numpy in /home/cd96/psi4conda/envs/jbook/lib/python3.11/site-packages (from rdkit) (1.24.3)\r\n"
     ]
    },
    {
     "name": "stdout",
     "output_type": "stream",
     "text": [
      "Requirement already satisfied: Pillow in /home/cd96/psi4conda/envs/jbook/lib/python3.11/site-packages (from rdkit) (9.5.0)\r\n"
     ]
    },
    {
     "name": "stdout",
     "output_type": "stream",
     "text": [
      "Note: you may need to restart the kernel to use updated packages.\n"
     ]
    }
   ],
   "source": [
    "pip install rdkit;"
   ]
  },
  {
   "cell_type": "code",
   "execution_count": 2,
   "id": "71946a14",
   "metadata": {
    "tags": [
     "hide-input"
    ]
   },
   "outputs": [],
   "source": [
    "import requests\n",
    "import json\n",
    "from ast import literal_eval\n",
    "from pylab import *\n",
    "from scipy.signal import argrelextrema\n",
    "import pandas as pd\n",
    "import glob\n",
    "\n",
    "from rdkit import Chem\n",
    "from rdkit.Chem.Draw import IPythonConsole\n",
    "from rdkit.Chem import Draw\n",
    "IPythonConsole.ipython_useSVG=True "
   ]
  },
  {
   "cell_type": "code",
   "execution_count": 3,
   "id": "39cdd6d8",
   "metadata": {
    "tags": [
     "hide-input"
    ]
   },
   "outputs": [],
   "source": [
    "def LoadData(File):\n",
    "    File_open=open(File)\n",
    "    File_loaded = json.load(File_open)\n",
    "    Dic = {\"File\": File,\n",
    "           \"wavenumbers\"   : File_loaded[\"@graph\"]['scidata']['dataset']['datagroup']['dataseries'][0]['parameter']['valuearray']['numberarray'],\n",
    "           \"intensities\"  : array(File_loaded[\"@graph\"]['scidata']['dataset']['datagroup']['dataseries'][1]['parameter']['valuearray']['numberarray'])/100\n",
    "           }\n",
    "    return Dic\n",
    "\n",
    "wavenumbers=linspace(0,4000,10001)\n",
    "\n",
    "### Gausian function to broaden peaks\n",
    "def g(wavenumb_sweep, intensity_max, wavenumber_max, σ):\n",
    "    G = intensity_max / (σ *sqrt(2 * pi)) * exp(-(wavenumb_sweep-wavenumber_max)**2 / (2*σ**2))\n",
    "    new_y=array(G)  \n",
    "    return new_y\n",
    "       \n",
    "### Getting IR from xTB GFN2xTB, GFN1xTB and GFNFF\n",
    "def IR_xTB(smiles, method, σ,σ_R):\n",
    "    r          = requests.get('https://ir.cheminfo.org/v1/ir?smiles={0}&method={1}'.format(smiles, method))\n",
    "    data_bytes = r.content\n",
    "    data_dic   = json.loads(data_bytes.decode('utf-8'))\n",
    "    \n",
    "    norm_int   = []\n",
    "    norm_int_R = []\n",
    "    \n",
    "    wavenumb   = array(data_dic[\"wavenumbers\"])\n",
    "    \n",
    "    max_int    = max(data_dic[\"intensities\"])\n",
    "    max_int_Ram= max(data_dic[\"ramanIntensities\"])\n",
    "    \n",
    "    for i in data_dic[\"intensities\"]:\n",
    "        norm_int.append(i/max_int)\n",
    "    for i in data_dic[\"ramanIntensities\"]:\n",
    "        norm_int_R.append(i/max_int_Ram)\n",
    "        \n",
    "\n",
    "    ### Gausian function to broaden peaks\n",
    "    pos_max    = argrelextrema(array(norm_int), np.greater)\n",
    "    x          = wavenumb\n",
    "    all_curve = 0\n",
    "    \n",
    "    for i in pos_max[0]:\n",
    "        all_curve += g(x, norm_int[i], wavenumb[i],σ)      \n",
    "    broad_int = all_curve   \n",
    "    \n",
    "    #Raman\n",
    "    pos_max_R    = argrelextrema(array(norm_int_R), np.greater)\n",
    "    x_R          = wavenumb\n",
    "    all_curve_R = 0\n",
    "    \n",
    "    for i in pos_max_R[0]:\n",
    "        all_curve_R += g(x_R, norm_int_R[i], wavenumb[i],σ_R)      \n",
    "    broad_int_R = all_curve_R  \n",
    "    \n",
    "    \n",
    "    ### Normalization\n",
    "    \n",
    "    max_y = max(broad_int)\n",
    "    int_norm = []\n",
    "    \n",
    "    for i in broad_int:\n",
    "        int_norm.append((i/max_y))\n",
    "        \n",
    "    ### Normalization Raman\n",
    "    \n",
    "    max_y_R = max(broad_int_R)\n",
    "    int_norm_R = []\n",
    "    \n",
    "    for i in broad_int_R:\n",
    "        int_norm_R.append((i/max_y_R))\n",
    "       \n",
    "    #Transmitance\n",
    "    trans = []\n",
    "    for i in int_norm: \n",
    "        trans.append(1-i)\n",
    "       \n",
    "    return  int_norm, trans, int_norm_R"
   ]
  },
  {
   "attachments": {},
   "cell_type": "markdown",
   "id": "5613403f",
   "metadata": {},
   "source": [
    "# Obtain your own theoretical expectra\n",
    "\n",
    "By executing the following code you will be able to obtain your own spectra, you only need:\n",
    "\n",
    "* The smiles code of the molecule of your interest\n",
    "* The method you want to use to calculate the theoretical spectra\n",
    "* How much you want to broaden the peaks of the theoretical bands"
   ]
  },
  {
   "cell_type": "code",
   "execution_count": 4,
   "id": "f9634083",
   "metadata": {
    "tags": [
     "hide-input"
    ]
   },
   "outputs": [],
   "source": [
    "def Ploter_IR_theoretical(smiles_code, method, sigma, sigma_raman):\n",
    "    wavenumbers                = linspace(0,4000,10001)\n",
    "   \n",
    "    smiles                     = smiles_code\n",
    "    \n",
    "    Compound_wn,Compound_int   = wavenumbers, IR_xTB(smiles,method,sigma, sigma_raman)  \n",
    "    \n",
    "    fig,ax = plt.subplots(ncols=2,nrows=1,figsize=(15,7),\n",
    "                       gridspec_kw = {'wspace':0.05, 'hspace':0, 'width_ratios': [2, 1]})\n",
    "    \n",
    "    \n",
    "    ax[0].plot(Compound_wn, 0.5*array(Compound_int[1])+0.5, label=\"Theoretical {0}- IR\".format(method))\n",
    "    ax[0].plot(Compound_wn, 0.5*array(Compound_int[2]), label=\"Theoretical {0} -Raman\".format(method))\n",
    "    ax[0].set_ylim(0,1.2)\n",
    "    ax[0].get_yaxis().set_visible(False)\n",
    "    ax[0].set_ylabel(\"Intensity\")\n",
    "    ax[0].set_xlabel(\"wavenumber $[cm^{-1}]$\")\n",
    "    ax[0].invert_xaxis()\n",
    "    ax[0].legend(loc=1)\n",
    "    mol = Chem.MolFromSmiles(smiles)\n",
    "    im = Chem.Draw.MolToImage(mol)\n",
    "#     ax = plt.axes([0.6, 0.47, 0.38, 0.38], frameon=True)\n",
    "    \n",
    "    ax[1].imshow(im)\n",
    "    ax[1].axis('off')"
   ]
  },
  {
   "cell_type": "code",
   "execution_count": 5,
   "id": "8e221485",
   "metadata": {},
   "outputs": [
    {
     "ename": "StdinNotImplementedError",
     "evalue": "raw_input was called, but this frontend does not support input requests.",
     "output_type": "error",
     "traceback": [
      "\u001b[0;31m---------------------------------------------------------------------------\u001b[0m",
      "\u001b[0;31mStdinNotImplementedError\u001b[0m                  Traceback (most recent call last)",
      "Cell \u001b[0;32mIn[5], line 2\u001b[0m\n\u001b[1;32m      1\u001b[0m plt\u001b[38;5;241m.\u001b[39mrcParams\u001b[38;5;241m.\u001b[39mupdate({\u001b[38;5;124m'\u001b[39m\u001b[38;5;124mfont.size\u001b[39m\u001b[38;5;124m'\u001b[39m: \u001b[38;5;241m14\u001b[39m})\n\u001b[0;32m----> 2\u001b[0m smiles             \u001b[38;5;241m=\u001b[39m \u001b[38;5;28;43minput\u001b[39;49m\u001b[43m(\u001b[49m\u001b[38;5;124;43m\"\u001b[39;49m\u001b[38;5;124;43mplease introduce the smiles code: \u001b[39;49m\u001b[38;5;124;43m\"\u001b[39;49m\u001b[43m)\u001b[49m\n\u001b[1;32m      3\u001b[0m method             \u001b[38;5;241m=\u001b[39m \u001b[38;5;28minput\u001b[39m(\u001b[38;5;124m\"\u001b[39m\u001b[38;5;124mplease introduce the method (GFN2xTB, GFN1xTB, GFNFF): \u001b[39m\u001b[38;5;124m\"\u001b[39m)\n\u001b[1;32m      4\u001b[0m sigma              \u001b[38;5;241m=\u001b[39m \u001b[38;5;28mint\u001b[39m(\u001b[38;5;28minput\u001b[39m(\u001b[38;5;124m\"\u001b[39m\u001b[38;5;124mplease introduce how much you want to broad the theoretical bands (a number between σ=[20,100]): \u001b[39m\u001b[38;5;124m\"\u001b[39m))\n",
      "File \u001b[0;32m~/psi4conda/envs/jbook/lib/python3.11/site-packages/ipykernel/kernelbase.py:1190\u001b[0m, in \u001b[0;36mKernel.raw_input\u001b[0;34m(self, prompt)\u001b[0m\n\u001b[1;32m   1188\u001b[0m \u001b[38;5;28;01mif\u001b[39;00m \u001b[38;5;129;01mnot\u001b[39;00m \u001b[38;5;28mself\u001b[39m\u001b[38;5;241m.\u001b[39m_allow_stdin:\n\u001b[1;32m   1189\u001b[0m     msg \u001b[38;5;241m=\u001b[39m \u001b[38;5;124m\"\u001b[39m\u001b[38;5;124mraw_input was called, but this frontend does not support input requests.\u001b[39m\u001b[38;5;124m\"\u001b[39m\n\u001b[0;32m-> 1190\u001b[0m     \u001b[38;5;28;01mraise\u001b[39;00m StdinNotImplementedError(msg)\n\u001b[1;32m   1191\u001b[0m \u001b[38;5;28;01mreturn\u001b[39;00m \u001b[38;5;28mself\u001b[39m\u001b[38;5;241m.\u001b[39m_input_request(\n\u001b[1;32m   1192\u001b[0m     \u001b[38;5;28mstr\u001b[39m(prompt),\n\u001b[1;32m   1193\u001b[0m     \u001b[38;5;28mself\u001b[39m\u001b[38;5;241m.\u001b[39m_parent_ident[\u001b[38;5;124m\"\u001b[39m\u001b[38;5;124mshell\u001b[39m\u001b[38;5;124m\"\u001b[39m],\n\u001b[1;32m   1194\u001b[0m     \u001b[38;5;28mself\u001b[39m\u001b[38;5;241m.\u001b[39mget_parent(\u001b[38;5;124m\"\u001b[39m\u001b[38;5;124mshell\u001b[39m\u001b[38;5;124m\"\u001b[39m),\n\u001b[1;32m   1195\u001b[0m     password\u001b[38;5;241m=\u001b[39m\u001b[38;5;28;01mFalse\u001b[39;00m,\n\u001b[1;32m   1196\u001b[0m )\n",
      "\u001b[0;31mStdinNotImplementedError\u001b[0m: raw_input was called, but this frontend does not support input requests."
     ]
    }
   ],
   "source": [
    "plt.rcParams.update({'font.size': 14})\n",
    "smiles             = input(\"please introduce the smiles code: \")\n",
    "method             = input(\"please introduce the method (GFN2xTB, GFN1xTB, GFNFF): \")\n",
    "sigma              = int(input(\"please introduce how much you want to broad the theoretical bands (a number between σ=[20,100]): \"))\n",
    "sigma_raman        = int(input(\"please introduce how much you want to broad the Raman theoretical bands (a number between σ=[20,100]): \"))\n",
    "\n",
    "Ploter_IR_theoretical(smiles,method,sigma,sigma_raman)\n",
    "plt.savefig(\"IR_Raman_TheoreticalSpectra_{0}_{1}.png\".format(method, smiles))\n"
   ]
  },
  {
   "attachments": {},
   "cell_type": "markdown",
   "id": "b3ce92ea",
   "metadata": {},
   "source": [
    "# Cellphone environment\n",
    "\n",
    "NOTE: The clauses after the symbol # are instructions. See the last cell to execute and get the spectra of your molecule \n",
    "\n",
    "Populate the following variables as follows:\n",
    "```python \n",
    "\n",
    "\n",
    "smiles             = \"CCCO\" # STRING\n",
    "method             =   \"GFN2xTB\"  # STRING #\"please introduce the method (GFN2xTB, GFN1xTB, GFNFF)\n",
    "sigma              = 20 # INTEGER  #\"please introduce how much you want to broad the IR theoretical bands (a number between σ=[20,100])\n",
    "sigma_raman        =  20 # INTEGER  #\"please introduce how much you want to broad the Raman theoretical bands (a number between σ=[20,100])\n",
    "```\n"
   ]
  },
  {
   "cell_type": "code",
   "execution_count": 5,
   "id": "fbd5ce8e",
   "metadata": {},
   "outputs": [
    {
     "data": {
      "image/png": "[encoded data removed]",
      "text/plain": [
       "<Figure size 1080x504 with 2 Axes>"
      ]
     },
     "metadata": {
      "needs_background": "light"
     },
     "output_type": "display_data"
    }
   ],
   "source": [
    "plt.rcParams.update({'font.size': 14})\n",
    "smiles             = \"Cn1cnc2c1c(=O)[nH]c(=O)n2C\"\n",
    "method             = \"GFN2xTB\"\n",
    "sigma              = 20\n",
    "sigma_raman        = 50\n",
    "\n",
    "\n",
    "Ploter_IR_theoretical(smiles,method,sigma,sigma_raman)\n",
    "plt.savefig(\"IR_Raman_TheoreticalSpectra_{0}_{1}.png\".format(method, smiles))"
   ]
  },
  {
   "cell_type": "code",
   "execution_count": null,
   "id": "c39e6521",
   "metadata": {},
   "outputs": [],
   "source": []
  }
 ],
 "metadata": {
  "kernelspec": {
   "display_name": "Python 3",
   "language": "python",
   "name": "python3"
  },
  "language_info": {
   "codemirror_mode": {
    "name": "ipython",
    "version": 3
   },
   "file_extension": ".py",
   "mimetype": "text/x-python",
   "name": "python",
   "nbconvert_exporter": "python",
   "pygments_lexer": "ipython3",
   "version": "3.11.3"
  }
 },
 "nbformat": 4,
 "nbformat_minor": 5
}
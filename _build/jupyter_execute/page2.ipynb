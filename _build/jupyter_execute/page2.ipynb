{
 "cells": [
  {
   "cell_type": "markdown",
   "id": "69bac28e",
   "metadata": {},
   "source": [
    "# Calculate your own IR and Raman Spectra\n",
    "\n",
    "The following code is aimed to help you to obtain theoretical spectra of IR and Raman using the web service: xTB [https://ir.cheminfo.org/api/v1/docs#/default/get_ir_spectrum_ir_get] [1]. As you will see, it uses three different theoretical methods GFN2xTB, GFN1xTB and GFNFF.The way you can use the following code is by executing th following cells. BEfore starting make sure you have the SMILES code of the molecule you are going to simulate. \n",
    "\n",
    "If you do not have the smiles code, you can draw your molecule in the following page to obtain it:[https://www.cheminfo.org/flavor/malaria/Utilities/SMILES_generator___checker/index.html]\n",
    "\n",
    "---\n",
    "\n",
    "<sup> Source: J. Chem. Educ. 2022, 99, 2, 561–569 </sup>\n",
    "More info abouth this project: cesar.donezmiranda@epfl.ch"
   ]
  },
  {
   "cell_type": "code",
   "execution_count": 1,
   "id": "09087fcb",
   "metadata": {},
   "outputs": [
    {
     "name": "stdout",
     "output_type": "stream",
     "text": [
      "Requirement already satisfied: rdkit in /home/cd96/psi4conda/envs/jbook/lib/python3.11/site-packages (2023.3.1)\r\n",
      "Requirement already satisfied: numpy in /home/cd96/psi4conda/envs/jbook/lib/python3.11/site-packages (from rdkit) (1.24.3)\r\n",
      "Requirement already satisfied: Pillow in /home/cd96/psi4conda/envs/jbook/lib/python3.11/site-packages (from rdkit) (9.5.0)\r\n"
     ]
    },
    {
     "name": "stdout",
     "output_type": "stream",
     "text": [
      "Note: you may need to restart the kernel to use updated packages.\n"
     ]
    }
   ],
   "source": [
    "pip install rdkit;"
   ]
  },
  {
   "cell_type": "code",
   "execution_count": 2,
   "id": "4feed9b5",
   "metadata": {},
   "outputs": [
    {
     "name": "stderr",
     "output_type": "stream",
     "text": [
      "/tmp/ipykernel_396/3777615979.py:1: DeprecationWarning: Importing display from IPython.core.display is deprecated since IPython 7.14, please import from IPython display\n",
      "  from IPython.core.display import display, HTML\n"
     ]
    },
    {
     "data": {
      "text/html": [
       "<style>.container { width:100% !important; }</style>"
      ],
      "text/plain": [
       "<IPython.core.display.HTML object>"
      ]
     },
     "metadata": {},
     "output_type": "display_data"
    }
   ],
   "source": [
    "from IPython.core.display import display, HTML\n",
    "display(HTML(\"<style>.container { width:100% !important; }</style>\"))"
   ]
  },
  {
   "cell_type": "code",
   "execution_count": 3,
   "id": "71946a14",
   "metadata": {
    "tags": [
     "hide-input"
    ]
   },
   "outputs": [],
   "source": [
    "import requests\n",
    "import json\n",
    "from ast import literal_eval\n",
    "from pylab import *\n",
    "from scipy.signal import argrelextrema, argrelmin\n",
    "import pandas as pd\n",
    "import glob\n",
    "\n",
    "from rdkit import Chem\n",
    "from rdkit.Chem.Draw import IPythonConsole\n",
    "from rdkit.Chem import Draw\n",
    "IPythonConsole.ipython_useSVG=True "
   ]
  },
  {
   "cell_type": "code",
   "execution_count": 4,
   "id": "39cdd6d8",
   "metadata": {
    "tags": [
     "hide-input"
    ]
   },
   "outputs": [],
   "source": [
    "\n",
    "wavenumbers=linspace(0,4000,10001)\n",
    "\n",
    "### Gausian function to broaden peaks\n",
    "def g(wavenumb_sweep, intensity_max, wavenumber_max, σ):\n",
    "    G = intensity_max / (σ *sqrt(2 * pi)) * exp(-(wavenumb_sweep-wavenumber_max)**2 / (2*σ**2))\n",
    "    new_y=array(G)  \n",
    "    return new_y\n",
    "       \n",
    "### Getting IR from xTB GFN2xTB, GFN1xTB and GFNFF\n",
    "def IR_xTB(smiles, method, σ,σ_R):\n",
    "    r          = requests.get('https://ir.cheminfo.org/v1/ir?smiles={0}&method={1}'.format(smiles, method))\n",
    "    data_bytes = r.content\n",
    "    data_dic   = json.loads(data_bytes.decode('utf-8'))\n",
    "    \n",
    "    norm_int   = []\n",
    "    norm_int_R = []\n",
    "    \n",
    "    wavenumb   = array(data_dic[\"wavenumbers\"])\n",
    "    \n",
    "    max_int    = max(data_dic[\"intensities\"])\n",
    "    max_int_Ram= max(data_dic[\"ramanIntensities\"])\n",
    "    \n",
    "    for i in data_dic[\"intensities\"]:\n",
    "        norm_int.append(i/max_int)\n",
    "    for i in data_dic[\"ramanIntensities\"]:\n",
    "        norm_int_R.append(i/max_int_Ram)\n",
    "        \n",
    "\n",
    "    ### Gausian function to broaden peaks\n",
    "    pos_max    = argrelextrema(array(norm_int), np.greater)\n",
    "    x          = wavenumb\n",
    "    all_curve = 0\n",
    "    \n",
    "    for i in pos_max[0]:\n",
    "        all_curve += g(x, norm_int[i], wavenumb[i],σ)      \n",
    "    broad_int = all_curve   \n",
    "    \n",
    "    #Raman\n",
    "    pos_max_R    = argrelextrema(array(norm_int_R), np.greater)\n",
    "    x_R          = wavenumb\n",
    "    all_curve_R = 0\n",
    "    \n",
    "    for i in pos_max_R[0]:\n",
    "        all_curve_R += g(x_R, norm_int_R[i], wavenumb[i],σ_R)      \n",
    "    broad_int_R = all_curve_R  \n",
    "    \n",
    "    \n",
    "    ### Normalization\n",
    "    \n",
    "    max_y = max(broad_int)\n",
    "    int_norm = []\n",
    "    \n",
    "    for i in broad_int:\n",
    "        int_norm.append((i/max_y))\n",
    "        \n",
    "    ### Normalization Raman\n",
    "    \n",
    "    max_y_R = max(broad_int_R)\n",
    "    int_norm_R = []\n",
    "    \n",
    "    for i in broad_int_R:\n",
    "        int_norm_R.append((i/max_y_R))\n",
    "       \n",
    "    #Transmitance\n",
    "    trans = []\n",
    "    for i in int_norm: \n",
    "        trans.append(1-i)\n",
    "       \n",
    "    return  int_norm, trans, int_norm_R,norm_int"
   ]
  },
  {
   "cell_type": "markdown",
   "id": "5613403f",
   "metadata": {},
   "source": [
    "# Obtain your own theoretical expectra\n",
    "\n",
    "By executing the following code you will be able to obtain your own spectra, you only need:\n",
    "\n",
    "* The smiles code of the molecule of your interest\n",
    "* The method you want to use to calculate the theoretical spectra\n",
    "* How much you want to broaden the peaks of the theoretical bands"
   ]
  },
  {
   "cell_type": "code",
   "execution_count": 5,
   "id": "3f2b7e30",
   "metadata": {},
   "outputs": [
    {
     "ename": "ModuleNotFoundError",
     "evalue": "No module named 'helpers2'",
     "output_type": "error",
     "traceback": [
      "\u001b[0;31m---------------------------------------------------------------------------\u001b[0m",
      "\u001b[0;31mModuleNotFoundError\u001b[0m                       Traceback (most recent call last)",
      "Cell \u001b[0;32mIn[5], line 6\u001b[0m\n\u001b[1;32m      4\u001b[0m \u001b[38;5;28;01mfrom\u001b[39;00m \u001b[38;5;21;01mIPython\u001b[39;00m\u001b[38;5;21;01m.\u001b[39;00m\u001b[38;5;21;01mdisplay\u001b[39;00m \u001b[38;5;28;01mimport\u001b[39;00m display\n\u001b[1;32m      5\u001b[0m \u001b[38;5;28;01mimport\u001b[39;00m \u001b[38;5;21;01mmatplotlib\u001b[39;00m\u001b[38;5;21;01m.\u001b[39;00m\u001b[38;5;21;01mpyplot\u001b[39;00m \u001b[38;5;28;01mas\u001b[39;00m \u001b[38;5;21;01mplt\u001b[39;00m\n\u001b[0;32m----> 6\u001b[0m \u001b[38;5;28;01mfrom\u001b[39;00m \u001b[38;5;21;01mhelpers2\u001b[39;00m \u001b[38;5;28;01mimport\u001b[39;00m show_normal_modes, parse_molden\n\u001b[1;32m      7\u001b[0m \u001b[38;5;28;01mfrom\u001b[39;00m \u001b[38;5;21;01mAnimator3000\u001b[39;00m \u001b[38;5;28;01mimport\u001b[39;00m Animator_data\n",
      "\u001b[0;31mModuleNotFoundError\u001b[0m: No module named 'helpers2'"
     ]
    }
   ],
   "source": [
    "%matplotlib inline\n",
    "\n",
    "import ipywidgets as widgets\n",
    "from IPython.display import display\n",
    "import matplotlib.pyplot as plt\n",
    "from helpers2 import show_normal_modes, parse_molden\n",
    "from Animator3000 import Animator_data"
   ]
  },
  {
   "cell_type": "code",
   "execution_count": 4,
   "id": "f9634083",
   "metadata": {
    "tags": [
     "hide-input"
    ]
   },
   "outputs": [],
   "source": [
    "def Ploter_IR_theoretical(smiles_code, method, sigma, sigma_raman):\n",
    "    wavenumbers                = linspace(0,4000,10001)\n",
    "   \n",
    "    smiles                     = smiles_code\n",
    "    \n",
    "    Compound_wn,Compound_int   = wavenumbers, IR_xTB(smiles,method,sigma, sigma_raman)  \n",
    "    \n",
    "    a=argrelextrema(array(Compound_int[3]), np.greater)\n",
    "    max_int_n=[]\n",
    "    max_wn_n=[]\n",
    "    for i in a[0]:\n",
    "        max_int_n.append(Compound_int[1][i])\n",
    "        max_wn_n.append(Compound_wn[i])\n",
    "    \n",
    "    \n",
    "    dropdown = widgets.Dropdown(\n",
    "        options=max_wn_n, # integers instead of strings\n",
    "        value=max_wn_n[0],  # integer instead of string\n",
    "        description='Normal Mode frequency[1/cm]:',)\n",
    "    \n",
    "    def Dropdown_Menu(value=2009):\n",
    "        fig,ax = plt.subplots(ncols=3,nrows=1,figsize=(15,7),\n",
    "                           gridspec_kw = {'wspace':0.05, 'hspace':0, 'width_ratios': [2, 1]})\n",
    "        y=max_int_n\n",
    "        x=max_wn_n\n",
    "            # select values\n",
    "        pos = x.index(value)\n",
    "        selected_x = x[pos]\n",
    "        selected_y = y[pos]\n",
    "\n",
    "        print('wavenumber:', selected_x)\n",
    "        print('intensity:', selected_y)\n",
    "        print('There are {0} normal modes:'.format(len(x)))\n",
    "        #plt.show()\n",
    "        ax[0].scatter(selected_x, 0.5*array(selected_y)+0.5, label=\"Selected frequency\", marker=\".\", s=200, alpha=0.4)\n",
    "        ax[0].axvline(selected_x)\n",
    "        ax[0].plot(Compound_wn, 0.5*array(Compound_int[1])+0.5, label=\"Theoretical {0}- IR\".format(method))\n",
    "        ax[0].plot(Compound_wn, 0.5*array(Compound_int[2]), label=\"Theoretical {0} -Raman\".format(method))\n",
    "        ax[0].set_ylim(0,1.3)\n",
    "        ax[0].get_yaxis().set_visible(False)\n",
    "        ax[0].set_ylabel(\"Intensity\")\n",
    "        ax[0].set_xlabel(\"wavenumber $[cm^{-1}]$\")\n",
    "        ax[0].invert_xaxis()\n",
    "        ax[0].legend(loc=1)\n",
    "        mol = Chem.MolFromSmiles(smiles)\n",
    "        im = Chem.Draw.MolToImage(mol)\n",
    "    #     ax = plt.axes([0.6, 0.47, 0.38, 0.38], frameon=True)\n",
    "\n",
    "        ax[1].imshow(im)\n",
    "        ax[1].axis('off')\n",
    "        ax[2]\n",
    "    widgets.interact(Dropdown_Menu, value=dropdown)\n",
    "    Animator_data(smiles,method)\n",
    "    print(\"There are {0} normal modes\".format(len(parse_molden(filename='readme.txt')[0])))\n",
    "    show_normal_modes(filename='readme.txt')"
   ]
  },
  {
   "cell_type": "code",
   "execution_count": 7,
   "id": "8e221485",
   "metadata": {
    "scrolled": false
   },
   "outputs": [
    {
     "name": "stdout",
     "output_type": "stream",
     "text": [
      "please introduce the smiles code: O=C=O\n",
      "please introduce the method (GFN2xTB, GFN1xTB, GFNFF): GFN2xTB\n",
      "please introduce how much you want to broad the theoretical bands (a number between σ=[20,100]): 20\n",
      "please introduce how much you want to broad the Raman theoretical bands (a number between σ=[20,100]): 20\n"
     ]
    },
    {
     "data": {
      "application/vnd.jupyter.widget-view+json": {
       "model_id": "adc18b7bab44480ab6f4f26c03708d99",
       "version_major": 2,
       "version_minor": 0
      },
      "text/plain": [
       "interactive(children=(Dropdown(description='Normal Mode frequency[1/cm]:', options=(538.8000000000001, 600.0, …"
      ]
     },
     "metadata": {},
     "output_type": "display_data"
    },
    {
     "name": "stdout",
     "output_type": "stream",
     "text": [
      "There are 4 normal modes\n"
     ]
    },
    {
     "data": {
      "application/vnd.jupyter.widget-view+json": {
       "model_id": "4ac91b96e5a940d694710ec26b07abda",
       "version_major": 2,
       "version_minor": 0
      },
      "text/plain": [
       "interactive(children=(Dropdown(description='Normal mode:', options=((538.85, 0), (600.02, 1), (1425.06, 2), (2…"
      ]
     },
     "metadata": {},
     "output_type": "display_data"
    },
    {
     "data": {
      "text/plain": [
       "<Figure size 432x288 with 0 Axes>"
      ]
     },
     "metadata": {},
     "output_type": "display_data"
    }
   ],
   "source": [
    "plt.rcParams.update({'font.size': 14})\n",
    "smiles             = input(\"please introduce the smiles code: \")\n",
    "method             = input(\"please introduce the method (GFN2xTB, GFN1xTB, GFNFF): \")\n",
    "sigma              = int(input(\"please introduce how much you want to broad the theoretical bands (a number between σ=[20,100]): \"))\n",
    "sigma_raman        = int(input(\"please introduce how much you want to broad the Raman theoretical bands (a number between σ=[20,100]): \"))\n",
    "\n",
    "Ploter_IR_theoretical(smiles,method,sigma,sigma_raman)\n",
    "plt.savefig(\"IR_Raman_TheoreticalSpectra_{0}_{1}.png\".format(method, smiles))\n"
   ]
  },
  {
   "cell_type": "code",
   "execution_count": null,
   "id": "0789e95a",
   "metadata": {},
   "outputs": [],
   "source": [
    "from helpers2 import show_normal_modes\n",
    "from Animator3000 import Animator_data\n",
    "smiles=\"O=C=O\"\n",
    "method=\"GFN2xTB\"\n",
    "Animator_data(smiles,method)\n",
    "a=show_normal_modes(filename='readme.txt')\n",
    "type(a)"
   ]
  },
  {
   "cell_type": "markdown",
   "id": "b3ce92ea",
   "metadata": {},
   "source": [
    "# Cellphone environment\n",
    "\n",
    "NOTE: The clauses after the symbol # are instructions. See the last cell to execute and get the spectra of your molecule \n",
    "\n",
    "Populate the following variables as follows:\n",
    "```python \n",
    "\n",
    "\n",
    "smiles             = \"CCCO\" # STRING\n",
    "method             =   \"GFN2xTB\"  # STRING #\"please introduce the method (GFN2xTB, GFN1xTB, GFNFF)\n",
    "sigma              = 20 # INTEGER  #\"please introduce how much you want to broad the IR theoretical bands (a number between σ=[20,100])\n",
    "sigma_raman        =  20 # INTEGER  #\"please introduce how much you want to broad the Raman theoretical bands (a number between σ=[20,100])\n",
    "```\n"
   ]
  },
  {
   "cell_type": "code",
   "execution_count": null,
   "id": "fbd5ce8e",
   "metadata": {
    "scrolled": true
   },
   "outputs": [],
   "source": [
    "plt.rcParams.update({'font.size': 14})\n",
    "smiles             = \"Cn1cnc2c1c(=O)[nH]c(=O)n2C\"\n",
    "method             = \"GFN2xTB\"\n",
    "sigma              = 20\n",
    "sigma_raman        = 50\n",
    "\n",
    "\n",
    "Ploter_IR_theoretical(smiles,method,sigma,sigma_raman)\n",
    "plt.savefig(\"IR_Raman_TheoreticalSpectra_{0}_{1}.png\".format(method, smiles))"
   ]
  },
  {
   "cell_type": "markdown",
   "id": "f95ef868",
   "metadata": {},
   "source": [
    "# Coupled version"
   ]
  },
  {
   "cell_type": "code",
   "execution_count": null,
   "id": "ac7a66ac",
   "metadata": {},
   "outputs": [],
   "source": [
    "import requests\n",
    "import json\n",
    "from ast import literal_eval\n",
    "from pylab import *\n",
    "from scipy.signal import argrelextrema\n",
    "import pandas as pd\n",
    "import glob\n",
    "from rdkit import Chem\n",
    "from rdkit.Chem.Draw import IPythonConsole\n",
    "from rdkit.Chem import Draw\n",
    "IPythonConsole.ipython_useSVG=True \n",
    "from helpers import show_normal_modes\n",
    "from Animator3000 import Animator_data"
   ]
  },
  {
   "cell_type": "code",
   "execution_count": null,
   "id": "c39e6521",
   "metadata": {},
   "outputs": [],
   "source": [
    "def Ploter_IR_theoretical(smiles_code, method, sigma, sigma_raman):\n",
    "    wavenumbers                = linspace(0,4000,10001)\n",
    "   \n",
    "    smiles                     = smiles_code\n",
    "    \n",
    "    Compound_wn,Compound_int   = wavenumbers, IR_xTB(smiles,method,sigma, sigma_raman)  \n",
    "    Animator_data(smiles,method)\n",
    "    a=show_normal_modes(filename='readme.txt')\n",
    "    a\n",
    "    fig,ax = plt.subplots(ncols=1,nrows=1,figsize=(7,7))\n",
    "    \n",
    "    \n",
    "    ax.plot(Compound_wn, 0.5*array(Compound_int[1])+0.5, label=\"Theoretical {0}- IR\".format(method))\n",
    "    ax.plot(Compound_wn, 0.5*array(Compound_int[2]), label=\"Theoretical {0} -Raman\".format(method))\n",
    "    ax.set_ylim(0,1.2)\n",
    "    ax.get_yaxis().set_visible(False)\n",
    "    ax.set_ylabel(\"Intensity\")\n",
    "    ax.set_xlabel(\"wavenumber $[cm^{-1}]$\")\n",
    "    ax.invert_xaxis()\n",
    "    ax.legend(loc=1)\n",
    "\n",
    "    \n",
    "    \n",
    "    "
   ]
  },
  {
   "cell_type": "code",
   "execution_count": null,
   "id": "161ca4fb",
   "metadata": {
    "scrolled": false
   },
   "outputs": [],
   "source": [
    "plt.rcParams.update({'font.size': 14})\n",
    "smiles             = input(\"please introduce the smiles code: \")\n",
    "method             = input(\"please introduce the method (GFN2xTB, GFN1xTB, GFNFF): \")\n",
    "sigma              = int(input(\"please introduce how much you want to broad the theoretical bands (a number between σ=[20,100]): \"))\n",
    "sigma_raman        = int(input(\"please introduce how much you want to broad the Raman theoretical bands (a number between σ=[20,100]): \"))\n",
    "\n",
    "Ploter_IR_theoretical(smiles,method,sigma,sigma_raman)\n",
    "plt.savefig(\"IR_Raman_TheoreticalSpectra_{0}_{1}.png\".format(method, smiles))\n"
   ]
  },
  {
   "cell_type": "code",
   "execution_count": null,
   "id": "754634b7",
   "metadata": {},
   "outputs": [],
   "source": [
    "from helpers2 import show_normal_modes\n",
    "from Animator3000 import Animator_data"
   ]
  },
  {
   "cell_type": "code",
   "execution_count": null,
   "id": "3227f64e",
   "metadata": {},
   "outputs": [],
   "source": [
    "Animator_data(\"CCC\",\"GFN2xTB\")\n",
    "show_normal_modes(filename='readme.txt')"
   ]
  },
  {
   "cell_type": "code",
   "execution_count": null,
   "id": "ecbae270",
   "metadata": {},
   "outputs": [],
   "source": []
  },
  {
   "cell_type": "code",
   "execution_count": null,
   "id": "4ba3fddd",
   "metadata": {},
   "outputs": [],
   "source": []
  }
 ],
 "metadata": {
  "kernelspec": {
   "display_name": "Python 3",
   "language": "python",
   "name": "python3"
  },
  "language_info": {
   "codemirror_mode": {
    "name": "ipython",
    "version": 3
   },
   "file_extension": ".py",
   "mimetype": "text/x-python",
   "name": "python",
   "nbconvert_exporter": "python",
   "pygments_lexer": "ipython3",
   "version": "3.11.3"
  }
 },
 "nbformat": 4,
 "nbformat_minor": 5
}
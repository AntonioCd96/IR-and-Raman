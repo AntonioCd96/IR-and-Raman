{
 "cells": [
  {
   "cell_type": "markdown",
   "id": "69bac28e",
   "metadata": {},
   "source": [
    "# Calculate your own IR and Raman Spectra\n",
    "\n",
    "The following code is aimed to help you to obtain theoretical spectra of IR and Raman using the web service: xTB [https://ir.cheminfo.org/api/v1/docs#/default/get_ir_spectrum_ir_get] [1]. As you will see, it uses three different theoretical methods GFN2xTB, GFN1xTB and GFNFF.The way you can use the following code is by executing th following cells. BEfore starting make sure you have the SMILES code of the molecule you are going to simulate. \n",
    "\n",
    "If you do not have the smiles code, you can draw your molecule in the following page to obtain it:[https://www.cheminfo.org/flavor/malaria/Utilities/SMILES_generator___checker/index.html]\n",
    "\n",
    "---\n",
    "\n",
    "<sup> Source: J. Chem. Educ. 2022, 99, 2, 561–569 </sup>\n",
    "More info abouth this project: cesar.donezmiranda@epfl.ch"
   ]
  },
  {
   "cell_type": "code",
   "execution_count": 1,
   "id": "09087fcb",
   "metadata": {},
   "outputs": [
    {
     "ename": "SyntaxError",
     "evalue": "invalid syntax (1248049573.py, line 1)",
     "output_type": "error",
     "traceback": [
      "\u001b[0;36m  Cell \u001b[0;32mIn[1], line 1\u001b[0;36m\u001b[0m\n\u001b[0;31m    pip install rdkit;\u001b[0m\n\u001b[0m        ^\u001b[0m\n\u001b[0;31mSyntaxError\u001b[0m\u001b[0;31m:\u001b[0m invalid syntax\n"
     ]
    }
   ],
   "source": [
    "pip install rdkit;\n",
    "pip install py3dmol"
   ]
  },
  {
   "cell_type": "code",
   "execution_count": null,
   "id": "d594694d",
   "metadata": {},
   "outputs": [],
   "source": [
    "from IPython.core.display import display, HTML\n",
    "display(HTML(\"<style>.container { width:100% !important; }</style>\"))"
   ]
  },
  {
   "cell_type": "code",
   "execution_count": 1,
   "id": "71946a14",
   "metadata": {
    "tags": [
     "hide-input"
    ]
   },
   "outputs": [],
   "source": [
    "import requests\n",
    "import json\n",
    "from ast import literal_eval\n",
    "from pylab import *\n",
    "from scipy.signal import argrelextrema\n",
    "import pandas as pd\n",
    "import glob\n",
    "from rdkit import Chem\n",
    "from rdkit.Chem.Draw import IPythonConsole\n",
    "from rdkit.Chem import Draw\n",
    "IPythonConsole.ipython_useSVG=True \n",
    "from helpers2 import show_normal_modes, parse_molden\n",
    "from Animator3000 import Animator_data\n",
    "import ipywidgets as widgets\n",
    "import pandas as pd"
   ]
  },
  {
   "cell_type": "code",
   "execution_count": 2,
   "id": "39cdd6d8",
   "metadata": {
    "tags": [
     "hide-input"
    ]
   },
   "outputs": [],
   "source": [
    "\n",
    "wavenumbers=linspace(0,4000,10001)\n",
    "\n",
    "### Gausian function to broaden peaks\n",
    "def g(wavenumb_sweep, intensity_max, wavenumber_max, σ):\n",
    "    G = intensity_max / (σ *sqrt(2 * pi)) * exp(-(wavenumb_sweep-wavenumber_max)**2 / (2*σ**2))\n",
    "    new_y=array(G)  \n",
    "    return new_y\n",
    "       \n",
    "### Getting IR from xTB GFN2xTB, GFN1xTB and GFNFF\n",
    "def IR_xTB(smiles, method, σ,σ_R):\n",
    "    r          = requests.get('https://ir.cheminfo.org/v1/ir?smiles={0}&method={1}'.format(smiles, method))\n",
    "    data_bytes = r.content\n",
    "    data_dic   = json.loads(data_bytes.decode('utf-8'))\n",
    "    \n",
    "    norm_int   = []\n",
    "    norm_int_R = []\n",
    "    \n",
    "    wavenumb   = array(data_dic[\"wavenumbers\"])\n",
    "    \n",
    "    max_int    = max(data_dic[\"intensities\"])\n",
    "    max_int_Ram= max(data_dic[\"ramanIntensities\"])\n",
    "    \n",
    "    for i in data_dic[\"intensities\"]:\n",
    "        norm_int.append(i/max_int)\n",
    "    for i in data_dic[\"ramanIntensities\"]:\n",
    "        norm_int_R.append(i/max_int_Ram)\n",
    "        \n",
    "\n",
    "    ### Gausian function to broaden peaks\n",
    "    pos_max    = argrelextrema(array(norm_int), np.greater)\n",
    "    x          = wavenumb\n",
    "    all_curve = 0\n",
    "    \n",
    "    for i in pos_max[0]:\n",
    "        all_curve += g(x, norm_int[i], wavenumb[i],σ)      \n",
    "    broad_int = all_curve   \n",
    "    \n",
    "    #Raman\n",
    "    pos_max_R    = argrelextrema(array(norm_int_R), np.greater)\n",
    "    x_R          = wavenumb\n",
    "    all_curve_R = 0\n",
    "    \n",
    "    for i in pos_max_R[0]:\n",
    "        all_curve_R += g(x_R, norm_int_R[i], wavenumb[i],σ_R)      \n",
    "    broad_int_R = all_curve_R  \n",
    "    \n",
    "    \n",
    "    ### Normalization\n",
    "    \n",
    "    max_y = max(broad_int)\n",
    "    int_norm = []\n",
    "    \n",
    "    for i in broad_int:\n",
    "        int_norm.append((i/max_y))\n",
    "        \n",
    "    ### Normalization Raman\n",
    "    \n",
    "    max_y_R = max(broad_int_R)\n",
    "    int_norm_R = []\n",
    "    \n",
    "    for i in broad_int_R:\n",
    "        int_norm_R.append((i/max_y_R))\n",
    "       \n",
    "    #Transmitance\n",
    "    trans = []\n",
    "    for i in int_norm: \n",
    "        trans.append(1-i)\n",
    "       \n",
    "    return  int_norm, trans, int_norm_R,norm_int"
   ]
  },
  {
   "cell_type": "markdown",
   "id": "5613403f",
   "metadata": {},
   "source": [
    "# Obtain your own theoretical expectra\n",
    "\n",
    "By executing the following code you will be able to obtain your own spectra, you only need:\n",
    "\n",
    "* The smiles code of the molecule of your interest\n",
    "* The method you want to use to calculate the theoretical spectra\n",
    "* How much you want to broaden the peaks of the theoretical bands"
   ]
  },
  {
   "cell_type": "code",
   "execution_count": 3,
   "id": "f9634083",
   "metadata": {
    "tags": [
     "hide-input"
    ]
   },
   "outputs": [],
   "source": [
    "def Ploter_IR_theoretical(smiles_code, method, sigma, sigma_raman):\n",
    "    wavenumbers                = linspace(0,4000,10001)\n",
    "   \n",
    "    smiles                     = smiles_code\n",
    "    \n",
    "    Compound_wn,Compound_int   = wavenumbers, IR_xTB(smiles,method,sigma, sigma_raman)  \n",
    "    \n",
    "    a=argrelextrema(array(Compound_int[3]), np.greater)\n",
    "    max_int_n=[]\n",
    "    max_wn_n=[]\n",
    "    for i in a[0]:\n",
    "        max_int_n.append(Compound_int[1][i])\n",
    "        max_wn_n.append(Compound_wn[i])\n",
    "    \n",
    "    \n",
    "    dropdown = widgets.Dropdown(\n",
    "        options=max_wn_n, # integers instead of strings\n",
    "        value=max_wn_n[0],  # integer instead of string\n",
    "        description='Normal Mode frequency[1/cm]:',)\n",
    "    \n",
    "    def Dropdown_Menu(value=2009):\n",
    "        fig,ax = plt.subplots(ncols=2,nrows=1,figsize=(15,7),\n",
    "                           gridspec_kw = {'wspace':0.05, 'hspace':0, 'width_ratios': [2, 1]})\n",
    "        y=max_int_n\n",
    "        x=max_wn_n\n",
    "            # select values\n",
    "        pos = x.index(value)\n",
    "        selected_x = x[pos]\n",
    "        selected_y = y[pos]\n",
    "\n",
    "        print('wavenumber:', selected_x)\n",
    "        print('intensity:', selected_y)\n",
    "        print('There are {0} normal modes:'.format(len(x)))\n",
    "        #plt.show()\n",
    "        ax[0].scatter(selected_x, 0.5*array(selected_y)+0.5, label=\"Selected frequency\", marker=\".\", s=200, alpha=0.4)\n",
    "        ax[0].axvline(selected_x)\n",
    "        ax[0].plot(Compound_wn, 0.5*array(Compound_int[1])+0.5, label=\"Theoretical {0}- IR\".format(method))\n",
    "        ax[0].plot(Compound_wn, 0.5*array(Compound_int[2]), label=\"Theoretical {0} -Raman\".format(method))\n",
    "        ax[0].set_ylim(0,1.3)\n",
    "        ax[0].get_yaxis().set_visible(False)\n",
    "        ax[0].set_ylabel(\"Intensity\")\n",
    "        ax[0].set_xlabel(\"wavenumber $[cm^{-1}]$\")\n",
    "        ax[0].invert_xaxis()\n",
    "        ax[0].legend(loc=1)\n",
    "        mol = Chem.MolFromSmiles(smiles)\n",
    "        im = Chem.Draw.MolToImage(mol)\n",
    "    #     ax = plt.axes([0.6, 0.47, 0.38, 0.38], frameon=True)\n",
    "\n",
    "        ax[1].imshow(im)\n",
    "        ax[1].axis('off')\n",
    "    widgets.interact(Dropdown_Menu, value=dropdown)\n",
    "    Animator_data(smiles,method)\n",
    "    print(\"There are {0} normal modes\".format(len(parse_molden(filename='readme.txt')[0])))\n",
    "    show_normal_modes(filename='readme.txt')\n",
    "\n",
    "    data = {'wavenumber [1/cm]':Compound_wn,\n",
    "           'intensity IR':0.5*array(Compound_int[1])+0.5,\n",
    "           'intensity Raman':0.5*array(Compound_int[2])}\n",
    "    df = pd.DataFrame.from_dict(data)\n",
    "    excel= df.to_excel('Info_Spectroscopy_IR_Raman_{0}_{1}.xlsx'.format(smiles, method))\n",
    "    return excel\n",
    "\n"
   ]
  },
  {
   "cell_type": "code",
   "execution_count": null,
   "id": "8e221485",
   "metadata": {
    "scrolled": false
   },
   "outputs": [],
   "source": [
    "plt.rcParams.update({'font.size': 14})\n",
    "smiles             = input(\"please introduce the smiles code: \")\n",
    "method             = input(\"please introduce the method (GFN2xTB, GFN1xTB, GFNFF): \")\n",
    "sigma              = int(input(\"please introduce how much you want to broad the theoretical bands (a number between σ=[20,100]): \"))\n",
    "sigma_raman        = int(input(\"please introduce how much you want to broad the Raman theoretical bands (a number between σ=[20,100]): \"))\n",
    "\n",
    "Ploter_IR_theoretical(smiles,method,sigma,sigma_raman)\n",
    "plt.savefig(\"IR_Raman_TheoreticalSpectra_{0}_{1}.png\".format(method, smiles))\n"
   ]
  },
  {
   "cell_type": "markdown",
   "id": "b3ce92ea",
   "metadata": {},
   "source": [
    "# Cellphone environment\n",
    "\n",
    "NOTE: The clauses after the symbol # are instructions. See the last cell to execute and get the spectra of your molecule \n",
    "\n",
    "Populate the following variables as follows:\n",
    "```python \n",
    "\n",
    "\n",
    "smiles             = \"CCCO\" # STRING\n",
    "method             = \"GFN2xTB\"  # STRING #\"please introduce the method (GFN2xTB, GFN1xTB, GFNFF)\n",
    "sigma              = 20 # INTEGER  #\"please introduce how much you want to broad the IR theoretical bands (a number between σ=[20,100])\n",
    "sigma_raman        =  20 # INTEGER  #\"please introduce how much you want to broad the Raman theoretical bands (a number between σ=[20,100])\n",
    "```\n"
   ]
  },
  {
   "cell_type": "code",
   "execution_count": null,
   "id": "dff355b1",
   "metadata": {},
   "outputs": [],
   "source": [
    "from helpers2 import show_normal_modes, parse_molden\n",
    "from Animator3000 import Animator_data\n",
    "import ipywidgets as widgets"
   ]
  },
  {
   "cell_type": "code",
   "execution_count": null,
   "id": "fbd5ce8e",
   "metadata": {
    "scrolled": false
   },
   "outputs": [],
   "source": [
    "plt.rcParams.update({'font.size': 14})\n",
    "smiles             = \"c1ccccc1\"\n",
    "method             = \"GFN2xTB\"\n",
    "sigma              = 20\n",
    "sigma_raman        = 50\n",
    "\n",
    "\n",
    "Ploter_IR_theoretical(smiles,method,sigma,sigma_raman)\n",
    "plt.savefig(\"IR_Raman_TheoreticalSpectra_{0}_{1}.png\".format(method, smiles))"
   ]
  },
  {
   "cell_type": "code",
   "execution_count": null,
   "id": "3c431907",
   "metadata": {},
   "outputs": [],
   "source": []
  },
  {
   "cell_type": "code",
   "execution_count": null,
   "id": "44ec1a00",
   "metadata": {},
   "outputs": [],
   "source": []
  }
 ],
 "metadata": {
  "kernelspec": {
   "display_name": "Python 3",
   "language": "python",
   "name": "python3"
  },
  "language_info": {
   "codemirror_mode": {
    "name": "ipython",
    "version": 3
   },
   "file_extension": ".py",
   "mimetype": "text/x-python",
   "name": "python",
   "nbconvert_exporter": "python",
   "pygments_lexer": "ipython3",
   "version": "3.11.3"
  }
 },
 "nbformat": 4,
 "nbformat_minor": 5
}
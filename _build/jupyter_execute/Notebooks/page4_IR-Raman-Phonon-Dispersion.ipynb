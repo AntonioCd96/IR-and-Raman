{
 "cells": [
  {
   "cell_type": "markdown",
   "id": "3d64f42c-1116-4503-8f0d-248038ec06df",
   "metadata": {},
   "source": [
    "# L - IR and raman of solids"
   ]
  },
  {
   "cell_type": "markdown",
   "id": "6e45e66c-d01f-4c04-9584-fcafdabd40a2",
   "metadata": {},
   "source": [
    "- IR-active modes are characterized by changes in the dipole moment of the molecule during vibration. To calculate IR intensities, you can use the following formula for each mode:\n",
    "\n",
    "\n",
    "$\n",
    "I_{IR} \\propto \\sum_{i} \\left| \\sum_{\\alpha} \\mathbf{e}_{i,\\alpha} \\cdot \\mathbf{d}_{\\alpha} \\right|^2 \\cdot \\delta(\\omega - \\omega_i)\n",
    "$\n",
    "\n",
    "\n",
    "\n",
    "where $\\mathbf{e}_{i,\\alpha}$   is the eigenvector of mode$i$ along direction $\\alpha$ ; $\\mathbf{d}_{\\alpha}$  is the unit vector for the \n",
    "$e_{i, α-th}$ Cartesian direction, a d $\\delta(\\omega-\\omega_i)$ is a Dirac delta function centered at the frequency $\\omega_i$ of the mode $i$\n",
    "\n",
    "\n",
    "The resulting values represent the intensities of IR-active modes in the calculated IR spectrum.\n",
    "- On the other side, to estimate  Raman Intensities\n",
    "Raman-active modes are characterized by changes in polarizability during vibration. The Raman intensity can be calculated using the following formula for each mode:\n",
    "\n",
    "\n",
    "$I_{\\text{Raman}} \\propto \\sum_{i} \\left| \\sum_{\\alpha, \\beta} \\mathbf{e}_{i,\\alpha} \\cdot \\mathbf{e}_{i,\\beta} \\cdot \\alpha_{\\alpha, \\beta} \\right|^2 \\cdot \\delta(\\omega - \\omega_i$\n",
    "\n",
    "\n",
    "where$ \\alpha_{\\alpha, \\beta}$   is the polarizability tensor element between directio $ $\n",
    "α an$d$ β.\n",
    "\n",
    "The resulting values represent the intensities of Raman-active modes in the calculated Raman spectrum."
   ]
  },
  {
   "cell_type": "code",
   "execution_count": 1,
   "id": "45db0380",
   "metadata": {},
   "outputs": [
    {
     "name": "stdout",
     "output_type": "stream",
     "text": [
      "Requirement already satisfied: pip in /home/cd96/psi4conda/envs/jbook/lib/python3.11/site-packages (23.1.2)\r\n"
     ]
    },
    {
     "name": "stdout",
     "output_type": "stream",
     "text": [
      "Collecting pip\r\n"
     ]
    },
    {
     "name": "stdout",
     "output_type": "stream",
     "text": [
      "  Downloading pip-24.0-py3-none-any.whl (2.1 MB)\r\n",
      "\u001b[?25l     \u001b[90m━━━━━━━━━━━━━━━━━━━━━━━━━━━━━━━━━━━━━━━━\u001b[0m \u001b[32m0.0/2.1 MB\u001b[0m \u001b[31m?\u001b[0m eta \u001b[36m-:--:--\u001b[0m"
     ]
    },
    {
     "name": "stdout",
     "output_type": "stream",
     "text": [
      "\r",
      "\u001b[2K     \u001b[90m━━━━━━━━━━━━━━━━━━━━━━━━━━━━━━━━━━━━━━━━\u001b[0m \u001b[32m0.0/2.1 MB\u001b[0m \u001b[31m?\u001b[0m eta \u001b[36m-:--:--\u001b[0m\r",
      "\u001b[2K     \u001b[90m━━━━━━━━━━━━━━━━━━━━━━━━━━━━━━━━━━━━━━━━\u001b[0m \u001b[32m0.0/2.1 MB\u001b[0m \u001b[31m?\u001b[0m eta \u001b[36m-:--:--\u001b[0m"
     ]
    },
    {
     "name": "stdout",
     "output_type": "stream",
     "text": [
      "\r",
      "\u001b[2K     \u001b[90m━━━━━━━━━━━━━━━━━━━━━━━━━━━━━━━━━━━━━━━━\u001b[0m \u001b[32m0.0/2.1 MB\u001b[0m \u001b[31m?\u001b[0m eta \u001b[36m-:--:--\u001b[0m"
     ]
    },
    {
     "name": "stdout",
     "output_type": "stream",
     "text": [
      "\r",
      "\u001b[2K     \u001b[90m━━━━━━━━━━━━━━━━━━━━━━━━━━━━━━━━━━━━━━━━\u001b[0m \u001b[32m0.0/2.1 MB\u001b[0m \u001b[31m?\u001b[0m eta \u001b[36m-:--:--\u001b[0m"
     ]
    },
    {
     "name": "stdout",
     "output_type": "stream",
     "text": [
      "\r",
      "\u001b[2K     \u001b[90m━━━━━━━━━━━━━━━━━━━━━━━━━━━━━━━━━━━━━━━━\u001b[0m \u001b[32m0.0/2.1 MB\u001b[0m \u001b[31m?\u001b[0m eta \u001b[36m-:--:--\u001b[0m\r",
      "\u001b[2K     \u001b[91m╸\u001b[0m\u001b[90m━━━━━━━━━━━━━━━━━━━━━━━━━━━━━━━━━━━━━━━\u001b[0m \u001b[32m0.0/2.1 MB\u001b[0m \u001b[31m151.4 kB/s\u001b[0m eta \u001b[36m0:00:14\u001b[0m"
     ]
    },
    {
     "name": "stdout",
     "output_type": "stream",
     "text": [
      "\r",
      "\u001b[2K     \u001b[91m╸\u001b[0m\u001b[90m━━━━━━━━━━━━━━━━━━━━━━━━━━━━━━━━━━━━━━━\u001b[0m \u001b[32m0.0/2.1 MB\u001b[0m \u001b[31m168.0 kB/s\u001b[0m eta \u001b[36m0:00:13\u001b[0m"
     ]
    },
    {
     "name": "stdout",
     "output_type": "stream",
     "text": [
      "\r",
      "\u001b[2K     \u001b[91m╸\u001b[0m\u001b[90m━━━━━━━━━━━━━━━━━━━━━━━━━━━━━━━━━━━━━━━\u001b[0m \u001b[32m0.0/2.1 MB\u001b[0m \u001b[31m168.0 kB/s\u001b[0m eta \u001b[36m0:00:13\u001b[0m\r",
      "\u001b[2K     \u001b[91m╸\u001b[0m\u001b[90m━━━━━━━━━━━━━━━━━━━━━━━━━━━━━━━━━━━━━━━\u001b[0m \u001b[32m0.0/2.1 MB\u001b[0m \u001b[31m168.0 kB/s\u001b[0m eta \u001b[36m0:00:13\u001b[0m"
     ]
    },
    {
     "name": "stdout",
     "output_type": "stream",
     "text": [
      "\r",
      "\u001b[2K     \u001b[91m━\u001b[0m\u001b[91m╸\u001b[0m\u001b[90m━━━━━━━━━━━━━━━━━━━━━━━━━━━━━━━━━━━━━━\u001b[0m \u001b[32m0.1/2.1 MB\u001b[0m \u001b[31m255.5 kB/s\u001b[0m eta \u001b[36m0:00:08\u001b[0m"
     ]
    },
    {
     "name": "stdout",
     "output_type": "stream",
     "text": [
      "\r",
      "\u001b[2K     \u001b[91m━\u001b[0m\u001b[91m╸\u001b[0m\u001b[90m━━━━━━━━━━━━━━━━━━━━━━━━━━━━━━━━━━━━━━\u001b[0m \u001b[32m0.1/2.1 MB\u001b[0m \u001b[31m255.5 kB/s\u001b[0m eta \u001b[36m0:00:08\u001b[0m\r",
      "\u001b[2K     \u001b[91m━\u001b[0m\u001b[91m╸\u001b[0m\u001b[90m━━━━━━━━━━━━━━━━━━━━━━━━━━━━━━━━━━━━━━\u001b[0m \u001b[32m0.1/2.1 MB\u001b[0m \u001b[31m250.9 kB/s\u001b[0m eta \u001b[36m0:00:09\u001b[0m"
     ]
    },
    {
     "name": "stdout",
     "output_type": "stream",
     "text": [
      "\r",
      "\u001b[2K     \u001b[91m━\u001b[0m\u001b[91m╸\u001b[0m\u001b[90m━━━━━━━━━━━━━━━━━━━━━━━━━━━━━━━━━━━━━━\u001b[0m \u001b[32m0.1/2.1 MB\u001b[0m \u001b[31m250.9 kB/s\u001b[0m eta \u001b[36m0:00:09\u001b[0m"
     ]
    },
    {
     "name": "stdout",
     "output_type": "stream",
     "text": [
      "\r",
      "\u001b[2K     \u001b[91m━\u001b[0m\u001b[91m╸\u001b[0m\u001b[90m━━━━━━━━━━━━━━━━━━━━━━━━━━━━━━━━━━━━━━\u001b[0m \u001b[32m0.1/2.1 MB\u001b[0m \u001b[31m250.9 kB/s\u001b[0m eta \u001b[36m0:00:09\u001b[0m\r",
      "\u001b[2K     \u001b[91m━\u001b[0m\u001b[91m╸\u001b[0m\u001b[90m━━━━━━━━━━━━━━━━━━━━━━━━━━━━━━━━━━━━━━\u001b[0m \u001b[32m0.1/2.1 MB\u001b[0m \u001b[31m250.9 kB/s\u001b[0m eta \u001b[36m0:00:09\u001b[0m"
     ]
    },
    {
     "name": "stdout",
     "output_type": "stream",
     "text": [
      "\r",
      "\u001b[2K     \u001b[91m━\u001b[0m\u001b[91m╸\u001b[0m\u001b[90m━━━━━━━━━━━━━━━━━━━━━━━━━━━━━━━━━━━━━━\u001b[0m \u001b[32m0.1/2.1 MB\u001b[0m \u001b[31m250.9 kB/s\u001b[0m eta \u001b[36m0:00:09\u001b[0m"
     ]
    },
    {
     "name": "stdout",
     "output_type": "stream",
     "text": [
      "\r",
      "\u001b[2K     \u001b[91m━\u001b[0m\u001b[91m╸\u001b[0m\u001b[90m━━━━━━━━━━━━━━━━━━━━━━━━━━━━━━━━━━━━━━\u001b[0m \u001b[32m0.1/2.1 MB\u001b[0m \u001b[31m250.9 kB/s\u001b[0m eta \u001b[36m0:00:09\u001b[0m\r",
      "\u001b[2K     \u001b[91m━━\u001b[0m\u001b[90m╺\u001b[0m\u001b[90m━━━━━━━━━━━━━━━━━━━━━━━━━━━━━━━━━━━━━\u001b[0m \u001b[32m0.1/2.1 MB\u001b[0m \u001b[31m187.0 kB/s\u001b[0m eta \u001b[36m0:00:11\u001b[0m"
     ]
    },
    {
     "name": "stdout",
     "output_type": "stream",
     "text": [
      "\r",
      "\u001b[2K     \u001b[91m━━\u001b[0m\u001b[90m╺\u001b[0m\u001b[90m━━━━━━━━━━━━━━━━━━━━━━━━━━━━━━━━━━━━━\u001b[0m \u001b[32m0.1/2.1 MB\u001b[0m \u001b[31m191.0 kB/s\u001b[0m eta \u001b[36m0:00:11\u001b[0m"
     ]
    },
    {
     "name": "stdout",
     "output_type": "stream",
     "text": [
      "\r",
      "\u001b[2K     \u001b[91m━━\u001b[0m\u001b[91m╸\u001b[0m\u001b[90m━━━━━━━━━━━━━━━━━━━━━━━━━━━━━━━━━━━━━\u001b[0m \u001b[32m0.1/2.1 MB\u001b[0m \u001b[31m214.5 kB/s\u001b[0m eta \u001b[36m0:00:10\u001b[0m\r",
      "\u001b[2K     \u001b[91m━━━\u001b[0m\u001b[90m╺\u001b[0m\u001b[90m━━━━━━━━━━━━━━━━━━━━━━━━━━━━━━━━━━━━\u001b[0m \u001b[32m0.2/2.1 MB\u001b[0m \u001b[31m246.5 kB/s\u001b[0m eta \u001b[36m0:00:08\u001b[0m"
     ]
    },
    {
     "name": "stdout",
     "output_type": "stream",
     "text": [
      "\r",
      "\u001b[2K     \u001b[91m━━━━\u001b[0m\u001b[91m╸\u001b[0m\u001b[90m━━━━━━━━━━━━━━━━━━━━━━━━━━━━━━━━━━━\u001b[0m \u001b[32m0.2/2.1 MB\u001b[0m \u001b[31m330.6 kB/s\u001b[0m eta \u001b[36m0:00:06\u001b[0m"
     ]
    },
    {
     "name": "stdout",
     "output_type": "stream",
     "text": [
      "\r",
      "\u001b[2K     \u001b[91m━━━━\u001b[0m\u001b[91m╸\u001b[0m\u001b[90m━━━━━━━━━━━━━━━━━━━━━━━━━━━━━━━━━━━\u001b[0m \u001b[32m0.2/2.1 MB\u001b[0m \u001b[31m330.6 kB/s\u001b[0m eta \u001b[36m0:00:06\u001b[0m"
     ]
    },
    {
     "name": "stdout",
     "output_type": "stream",
     "text": [
      "\r",
      "\u001b[2K     \u001b[91m━━━━━\u001b[0m\u001b[90m╺\u001b[0m\u001b[90m━━━━━━━━━━━━━━━━━━━━━━━━━━━━━━━━━━\u001b[0m \u001b[32m0.3/2.1 MB\u001b[0m \u001b[31m346.1 kB/s\u001b[0m eta \u001b[36m0:00:06\u001b[0m\r",
      "\u001b[2K     \u001b[91m━━━━━\u001b[0m\u001b[90m╺\u001b[0m\u001b[90m━━━━━━━━━━━━━━━━━━━━━━━━━━━━━━━━━━\u001b[0m \u001b[32m0.3/2.1 MB\u001b[0m \u001b[31m344.6 kB/s\u001b[0m eta \u001b[36m0:00:06\u001b[0m"
     ]
    },
    {
     "name": "stdout",
     "output_type": "stream",
     "text": [
      "\r",
      "\u001b[2K     \u001b[91m━━━━━━\u001b[0m\u001b[90m╺\u001b[0m\u001b[90m━━━━━━━━━━━━━━━━━━━━━━━━━━━━━━━━━\u001b[0m \u001b[32m0.3/2.1 MB\u001b[0m \u001b[31m372.1 kB/s\u001b[0m eta \u001b[36m0:00:05\u001b[0m"
     ]
    },
    {
     "name": "stdout",
     "output_type": "stream",
     "text": [
      "\r",
      "\u001b[2K     \u001b[91m━━━━━━\u001b[0m\u001b[91m╸\u001b[0m\u001b[90m━━━━━━━━━━━━━━━━━━━━━━━━━━━━━━━━━\u001b[0m \u001b[32m0.4/2.1 MB\u001b[0m \u001b[31m391.9 kB/s\u001b[0m eta \u001b[36m0:00:05\u001b[0m\r",
      "\u001b[2K     \u001b[91m━━━━━━\u001b[0m\u001b[91m╸\u001b[0m\u001b[90m━━━━━━━━━━━━━━━━━━━━━━━━━━━━━━━━━\u001b[0m \u001b[32m0.4/2.1 MB\u001b[0m \u001b[31m391.9 kB/s\u001b[0m eta \u001b[36m0:00:05\u001b[0m"
     ]
    },
    {
     "name": "stdout",
     "output_type": "stream",
     "text": [
      "\r",
      "\u001b[2K     \u001b[91m━━━━━━\u001b[0m\u001b[91m╸\u001b[0m\u001b[90m━━━━━━━━━━━━━━━━━━━━━━━━━━━━━━━━━\u001b[0m \u001b[32m0.4/2.1 MB\u001b[0m \u001b[31m391.9 kB/s\u001b[0m eta \u001b[36m0:00:05\u001b[0m"
     ]
    },
    {
     "name": "stdout",
     "output_type": "stream",
     "text": [
      "\r",
      "\u001b[2K     \u001b[91m━━━━━━━\u001b[0m\u001b[90m╺\u001b[0m\u001b[90m━━━━━━━━━━━━━━━━━━━━━━━━━━━━━━━━\u001b[0m \u001b[32m0.4/2.1 MB\u001b[0m \u001b[31m383.2 kB/s\u001b[0m eta \u001b[36m0:00:05\u001b[0m\r",
      "\u001b[2K     \u001b[91m━━━━━━━\u001b[0m\u001b[91m╸\u001b[0m\u001b[90m━━━━━━━━━━━━━━━━━━━━━━━━━━━━━━━━\u001b[0m \u001b[32m0.4/2.1 MB\u001b[0m \u001b[31m392.1 kB/s\u001b[0m eta \u001b[36m0:00:05\u001b[0m"
     ]
    },
    {
     "name": "stdout",
     "output_type": "stream",
     "text": [
      "\r",
      "\u001b[2K     \u001b[91m━━━━━━━━━\u001b[0m\u001b[90m╺\u001b[0m\u001b[90m━━━━━━━━━━━━━━━━━━━━━━━━━━━━━━\u001b[0m \u001b[32m0.5/2.1 MB\u001b[0m \u001b[31m450.5 kB/s\u001b[0m eta \u001b[36m0:00:04\u001b[0m"
     ]
    },
    {
     "name": "stdout",
     "output_type": "stream",
     "text": [
      "\r",
      "\u001b[2K     \u001b[91m━━━━━━━━━\u001b[0m\u001b[90m╺\u001b[0m\u001b[90m━━━━━━━━━━━━━━━━━━━━━━━━━━━━━━\u001b[0m \u001b[32m0.5/2.1 MB\u001b[0m \u001b[31m450.5 kB/s\u001b[0m eta \u001b[36m0:00:04\u001b[0m\r",
      "\u001b[2K     \u001b[91m━━━━━━━━━\u001b[0m\u001b[90m╺\u001b[0m\u001b[90m━━━━━━━━━━━━━━━━━━━━━━━━━━━━━━\u001b[0m \u001b[32m0.5/2.1 MB\u001b[0m \u001b[31m450.5 kB/s\u001b[0m eta \u001b[36m0:00:04\u001b[0m"
     ]
    },
    {
     "name": "stdout",
     "output_type": "stream",
     "text": [
      "\r",
      "\u001b[2K     \u001b[91m━━━━━━━━━\u001b[0m\u001b[91m╸\u001b[0m\u001b[90m━━━━━━━━━━━━━━━━━━━━━━━━━━━━━━\u001b[0m \u001b[32m0.5/2.1 MB\u001b[0m \u001b[31m423.2 kB/s\u001b[0m eta \u001b[36m0:00:04\u001b[0m"
     ]
    },
    {
     "name": "stdout",
     "output_type": "stream",
     "text": [
      "\r",
      "\u001b[2K     \u001b[91m━━━━━━━━━━\u001b[0m\u001b[90m╺\u001b[0m\u001b[90m━━━━━━━━━━━━━━━━━━━━━━━━━━━━━\u001b[0m \u001b[32m0.5/2.1 MB\u001b[0m \u001b[31m435.2 kB/s\u001b[0m eta \u001b[36m0:00:04\u001b[0m\r",
      "\u001b[2K     \u001b[91m━━━━━━━━━━\u001b[0m\u001b[90m╺\u001b[0m\u001b[90m━━━━━━━━━━━━━━━━━━━━━━━━━━━━━\u001b[0m \u001b[32m0.5/2.1 MB\u001b[0m \u001b[31m435.2 kB/s\u001b[0m eta \u001b[36m0:00:04\u001b[0m"
     ]
    },
    {
     "name": "stdout",
     "output_type": "stream",
     "text": [
      "\r",
      "\u001b[2K     \u001b[91m━━━━━━━━━━\u001b[0m\u001b[91m╸\u001b[0m\u001b[90m━━━━━━━━━━━━━━━━━━━━━━━━━━━━━\u001b[0m \u001b[32m0.6/2.1 MB\u001b[0m \u001b[31m441.6 kB/s\u001b[0m eta \u001b[36m0:00:04\u001b[0m"
     ]
    },
    {
     "name": "stdout",
     "output_type": "stream",
     "text": [
      "\r",
      "\u001b[2K     \u001b[91m━━━━━━━━━━\u001b[0m\u001b[91m╸\u001b[0m\u001b[90m━━━━━━━━━━━━━━━━━━━━━━━━━━━━━\u001b[0m \u001b[32m0.6/2.1 MB\u001b[0m \u001b[31m441.6 kB/s\u001b[0m eta \u001b[36m0:00:04\u001b[0m\r",
      "\u001b[2K     \u001b[91m━━━━━━━━━━\u001b[0m\u001b[91m╸\u001b[0m\u001b[90m━━━━━━━━━━━━━━━━━━━━━━━━━━━━━\u001b[0m \u001b[32m0.6/2.1 MB\u001b[0m \u001b[31m441.6 kB/s\u001b[0m eta \u001b[36m0:00:04\u001b[0m"
     ]
    },
    {
     "name": "stdout",
     "output_type": "stream",
     "text": [
      "\r",
      "\u001b[2K     \u001b[91m━━━━━━━━━━\u001b[0m\u001b[91m╸\u001b[0m\u001b[90m━━━━━━━━━━━━━━━━━━━━━━━━━━━━━\u001b[0m \u001b[32m0.6/2.1 MB\u001b[0m \u001b[31m441.6 kB/s\u001b[0m eta \u001b[36m0:00:04\u001b[0m"
     ]
    },
    {
     "name": "stdout",
     "output_type": "stream",
     "text": [
      "\r",
      "\u001b[2K     \u001b[91m━━━━━━━━━━━━━\u001b[0m\u001b[90m╺\u001b[0m\u001b[90m━━━━━━━━━━━━━━━━━━━━━━━━━━\u001b[0m \u001b[32m0.7/2.1 MB\u001b[0m \u001b[31m478.8 kB/s\u001b[0m eta \u001b[36m0:00:03\u001b[0m"
     ]
    },
    {
     "name": "stdout",
     "output_type": "stream",
     "text": [
      "\r",
      "\u001b[2K     \u001b[91m━━━━━━━━━━━━━\u001b[0m\u001b[90m╺\u001b[0m\u001b[90m━━━━━━━━━━━━━━━━━━━━━━━━━━\u001b[0m \u001b[32m0.7/2.1 MB\u001b[0m \u001b[31m478.8 kB/s\u001b[0m eta \u001b[36m0:00:03\u001b[0m\r",
      "\u001b[2K     \u001b[91m━━━━━━━━━━━━━\u001b[0m\u001b[90m╺\u001b[0m\u001b[90m━━━━━━━━━━━━━━━━━━━━━━━━━━\u001b[0m \u001b[32m0.7/2.1 MB\u001b[0m \u001b[31m478.8 kB/s\u001b[0m eta \u001b[36m0:00:03\u001b[0m"
     ]
    },
    {
     "name": "stdout",
     "output_type": "stream",
     "text": [
      "\r",
      "\u001b[2K     \u001b[91m━━━━━━━━━━━━━\u001b[0m\u001b[90m╺\u001b[0m\u001b[90m━━━━━━━━━━━━━━━━━━━━━━━━━━\u001b[0m \u001b[32m0.7/2.1 MB\u001b[0m \u001b[31m478.8 kB/s\u001b[0m eta \u001b[36m0:00:03\u001b[0m"
     ]
    },
    {
     "name": "stdout",
     "output_type": "stream",
     "text": [
      "\r",
      "\u001b[2K     \u001b[91m━━━━━━━━━━━━━\u001b[0m\u001b[90m╺\u001b[0m\u001b[90m━━━━━━━━━━━━━━━━━━━━━━━━━━\u001b[0m \u001b[32m0.7/2.1 MB\u001b[0m \u001b[31m478.8 kB/s\u001b[0m eta \u001b[36m0:00:03\u001b[0m\r",
      "\u001b[2K     \u001b[91m━━━━━━━━━━━━━\u001b[0m\u001b[90m╺\u001b[0m\u001b[90m━━━━━━━━━━━━━━━━━━━━━━━━━━\u001b[0m \u001b[32m0.7/2.1 MB\u001b[0m \u001b[31m478.8 kB/s\u001b[0m eta \u001b[36m0:00:03\u001b[0m"
     ]
    },
    {
     "name": "stdout",
     "output_type": "stream",
     "text": [
      "\r",
      "\u001b[2K     \u001b[91m━━━━━━━━━━━━━\u001b[0m\u001b[90m╺\u001b[0m\u001b[90m━━━━━━━━━━━━━━━━━━━━━━━━━━\u001b[0m \u001b[32m0.7/2.1 MB\u001b[0m \u001b[31m478.8 kB/s\u001b[0m eta \u001b[36m0:00:03\u001b[0m"
     ]
    },
    {
     "name": "stdout",
     "output_type": "stream",
     "text": [
      "\r",
      "\u001b[2K     \u001b[91m━━━━━━━━━━━━━\u001b[0m\u001b[90m╺\u001b[0m\u001b[90m━━━━━━━━━━━━━━━━━━━━━━━━━━\u001b[0m \u001b[32m0.7/2.1 MB\u001b[0m \u001b[31m478.8 kB/s\u001b[0m eta \u001b[36m0:00:03\u001b[0m\r",
      "\u001b[2K     \u001b[91m━━━━━━━━━━━━━\u001b[0m\u001b[90m╺\u001b[0m\u001b[90m━━━━━━━━━━━━━━━━━━━━━━━━━━\u001b[0m \u001b[32m0.7/2.1 MB\u001b[0m \u001b[31m478.8 kB/s\u001b[0m eta \u001b[36m0:00:03\u001b[0m"
     ]
    },
    {
     "name": "stdout",
     "output_type": "stream",
     "text": [
      "\r",
      "\u001b[2K     \u001b[91m━━━━━━━━━━━━━\u001b[0m\u001b[90m╺\u001b[0m\u001b[90m━━━━━━━━━━━━━━━━━━━━━━━━━━\u001b[0m \u001b[32m0.7/2.1 MB\u001b[0m \u001b[31m395.2 kB/s\u001b[0m eta \u001b[36m0:00:04\u001b[0m"
     ]
    },
    {
     "name": "stdout",
     "output_type": "stream",
     "text": [
      "\r",
      "\u001b[2K     \u001b[91m━━━━━━━━━━━━━\u001b[0m\u001b[91m╸\u001b[0m\u001b[90m━━━━━━━━━━━━━━━━━━━━━━━━━━\u001b[0m \u001b[32m0.7/2.1 MB\u001b[0m \u001b[31m399.0 kB/s\u001b[0m eta \u001b[36m0:00:04\u001b[0m\r",
      "\u001b[2K     \u001b[91m━━━━━━━━━━━━━\u001b[0m\u001b[91m╸\u001b[0m\u001b[90m━━━━━━━━━━━━━━━━━━━━━━━━━━\u001b[0m \u001b[32m0.7/2.1 MB\u001b[0m \u001b[31m399.0 kB/s\u001b[0m eta \u001b[36m0:00:04\u001b[0m"
     ]
    },
    {
     "name": "stdout",
     "output_type": "stream",
     "text": [
      "\r",
      "\u001b[2K     \u001b[91m━━━━━━━━━━━━━━\u001b[0m\u001b[90m╺\u001b[0m\u001b[90m━━━━━━━━━━━━━━━━━━━━━━━━━\u001b[0m \u001b[32m0.7/2.1 MB\u001b[0m \u001b[31m404.3 kB/s\u001b[0m eta \u001b[36m0:00:04\u001b[0m"
     ]
    },
    {
     "name": "stdout",
     "output_type": "stream",
     "text": [
      "\r",
      "\u001b[2K     \u001b[91m━━━━━━━━━━━━━━\u001b[0m\u001b[90m╺\u001b[0m\u001b[90m━━━━━━━━━━━━━━━━━━━━━━━━━\u001b[0m \u001b[32m0.7/2.1 MB\u001b[0m \u001b[31m404.3 kB/s\u001b[0m eta \u001b[36m0:00:04\u001b[0m\r",
      "\u001b[2K     \u001b[91m━━━━━━━━━━━━━━\u001b[0m\u001b[90m╺\u001b[0m\u001b[90m━━━━━━━━━━━━━━━━━━━━━━━━━\u001b[0m \u001b[32m0.7/2.1 MB\u001b[0m \u001b[31m404.3 kB/s\u001b[0m eta \u001b[36m0:00:04\u001b[0m"
     ]
    },
    {
     "name": "stdout",
     "output_type": "stream",
     "text": [
      "\r",
      "\u001b[2K     \u001b[91m━━━━━━━━━━━━━━━\u001b[0m\u001b[91m╸\u001b[0m\u001b[90m━━━━━━━━━━━━━━━━━━━━━━━━\u001b[0m \u001b[32m0.8/2.1 MB\u001b[0m \u001b[31m415.9 kB/s\u001b[0m eta \u001b[36m0:00:04\u001b[0m"
     ]
    },
    {
     "name": "stdout",
     "output_type": "stream",
     "text": [
      "\r",
      "\u001b[2K     \u001b[91m━━━━━━━━━━━━━━━\u001b[0m\u001b[91m╸\u001b[0m\u001b[90m━━━━━━━━━━━━━━━━━━━━━━━━\u001b[0m \u001b[32m0.8/2.1 MB\u001b[0m \u001b[31m415.9 kB/s\u001b[0m eta \u001b[36m0:00:04\u001b[0m\r",
      "\u001b[2K     \u001b[91m━━━━━━━━━━━━━━━━\u001b[0m\u001b[91m╸\u001b[0m\u001b[90m━━━━━━━━━━━━━━━━━━━━━━━\u001b[0m \u001b[32m0.9/2.1 MB\u001b[0m \u001b[31m432.2 kB/s\u001b[0m eta \u001b[36m0:00:03\u001b[0m"
     ]
    },
    {
     "name": "stdout",
     "output_type": "stream",
     "text": [
      "\r",
      "\u001b[2K     \u001b[91m━━━━━━━━━━━━━━━━\u001b[0m\u001b[91m╸\u001b[0m\u001b[90m━━━━━━━━━━━━━━━━━━━━━━━\u001b[0m \u001b[32m0.9/2.1 MB\u001b[0m \u001b[31m432.2 kB/s\u001b[0m eta \u001b[36m0:00:03\u001b[0m"
     ]
    },
    {
     "name": "stdout",
     "output_type": "stream",
     "text": [
      "\r",
      "\u001b[2K     \u001b[91m━━━━━━━━━━━━━━━━━\u001b[0m\u001b[90m╺\u001b[0m\u001b[90m━━━━━━━━━━━━━━━━━━━━━━\u001b[0m \u001b[32m0.9/2.1 MB\u001b[0m \u001b[31m427.6 kB/s\u001b[0m eta \u001b[36m0:00:03\u001b[0m\r",
      "\u001b[2K     \u001b[91m━━━━━━━━━━━━━━━━━\u001b[0m\u001b[90m╺\u001b[0m\u001b[90m━━━━━━━━━━━━━━━━━━━━━━\u001b[0m \u001b[32m0.9/2.1 MB\u001b[0m \u001b[31m427.6 kB/s\u001b[0m eta \u001b[36m0:00:03\u001b[0m"
     ]
    },
    {
     "name": "stdout",
     "output_type": "stream",
     "text": [
      "\r",
      "\u001b[2K     \u001b[91m━━━━━━━━━━━━━━━━━\u001b[0m\u001b[90m╺\u001b[0m\u001b[90m━━━━━━━━━━━━━━━━━━━━━━\u001b[0m \u001b[32m0.9/2.1 MB\u001b[0m \u001b[31m427.6 kB/s\u001b[0m eta \u001b[36m0:00:03\u001b[0m"
     ]
    },
    {
     "name": "stdout",
     "output_type": "stream",
     "text": [
      "\r",
      "\u001b[2K     \u001b[91m━━━━━━━━━━━━━━━━━\u001b[0m\u001b[90m╺\u001b[0m\u001b[90m━━━━━━━━━━━━━━━━━━━━━━\u001b[0m \u001b[32m0.9/2.1 MB\u001b[0m \u001b[31m420.9 kB/s\u001b[0m eta \u001b[36m0:00:03\u001b[0m"
     ]
    },
    {
     "name": "stdout",
     "output_type": "stream",
     "text": [
      "\r",
      "\u001b[2K     \u001b[91m━━━━━━━━━━━━━━━━━━\u001b[0m\u001b[91m╸\u001b[0m\u001b[90m━━━━━━━━━━━━━━━━━━━━━\u001b[0m \u001b[32m1.0/2.1 MB\u001b[0m \u001b[31m441.5 kB/s\u001b[0m eta \u001b[36m0:00:03\u001b[0m\r",
      "\u001b[2K     \u001b[91m━━━━━━━━━━━━━━━━━━━\u001b[0m\u001b[91m╸\u001b[0m\u001b[90m━━━━━━━━━━━━━━━━━━━━\u001b[0m \u001b[32m1.0/2.1 MB\u001b[0m \u001b[31m460.9 kB/s\u001b[0m eta \u001b[36m0:00:03\u001b[0m"
     ]
    },
    {
     "name": "stdout",
     "output_type": "stream",
     "text": [
      "\r",
      "\u001b[2K     \u001b[91m━━━━━━━━━━━━━━━━━━━\u001b[0m\u001b[91m╸\u001b[0m\u001b[90m━━━━━━━━━━━━━━━━━━━━\u001b[0m \u001b[32m1.1/2.1 MB\u001b[0m \u001b[31m455.7 kB/s\u001b[0m eta \u001b[36m0:00:03\u001b[0m"
     ]
    },
    {
     "name": "stdout",
     "output_type": "stream",
     "text": [
      "\r",
      "\u001b[2K     \u001b[91m━━━━━━━━━━━━━━━━━━━\u001b[0m\u001b[91m╸\u001b[0m\u001b[90m━━━━━━━━━━━━━━━━━━━━\u001b[0m \u001b[32m1.1/2.1 MB\u001b[0m \u001b[31m455.7 kB/s\u001b[0m eta \u001b[36m0:00:03\u001b[0m\r",
      "\u001b[2K     \u001b[91m━━━━━━━━━━━━━━━━━━━\u001b[0m\u001b[91m╸\u001b[0m\u001b[90m━━━━━━━━━━━━━━━━━━━━\u001b[0m \u001b[32m1.1/2.1 MB\u001b[0m \u001b[31m455.7 kB/s\u001b[0m eta \u001b[36m0:00:03\u001b[0m"
     ]
    },
    {
     "name": "stdout",
     "output_type": "stream",
     "text": [
      "\r",
      "\u001b[2K     \u001b[91m━━━━━━━━━━━━━━━━━━━\u001b[0m\u001b[91m╸\u001b[0m\u001b[90m━━━━━━━━━━━━━━━━━━━━\u001b[0m \u001b[32m1.1/2.1 MB\u001b[0m \u001b[31m455.7 kB/s\u001b[0m eta \u001b[36m0:00:03\u001b[0m"
     ]
    },
    {
     "name": "stdout",
     "output_type": "stream",
     "text": [
      "\r",
      "\u001b[2K     \u001b[91m━━━━━━━━━━━━━━━━━━━\u001b[0m\u001b[91m╸\u001b[0m\u001b[90m━━━━━━━━━━━━━━━━━━━━\u001b[0m \u001b[32m1.1/2.1 MB\u001b[0m \u001b[31m455.7 kB/s\u001b[0m eta \u001b[36m0:00:03\u001b[0m\r",
      "\u001b[2K     \u001b[91m━━━━━━━━━━━━━━━━━━━\u001b[0m\u001b[91m╸\u001b[0m\u001b[90m━━━━━━━━━━━━━━━━━━━━\u001b[0m \u001b[32m1.1/2.1 MB\u001b[0m \u001b[31m455.7 kB/s\u001b[0m eta \u001b[36m0:00:03\u001b[0m"
     ]
    },
    {
     "name": "stdout",
     "output_type": "stream",
     "text": [
      "\r",
      "\u001b[2K     \u001b[91m━━━━━━━━━━━━━━━━━━━\u001b[0m\u001b[91m╸\u001b[0m\u001b[90m━━━━━━━━━━━━━━━━━━━━\u001b[0m \u001b[32m1.1/2.1 MB\u001b[0m \u001b[31m455.7 kB/s\u001b[0m eta \u001b[36m0:00:03\u001b[0m"
     ]
    },
    {
     "name": "stdout",
     "output_type": "stream",
     "text": [
      "\r",
      "\u001b[2K     \u001b[91m━━━━━━━━━━━━━━━━━━━\u001b[0m\u001b[91m╸\u001b[0m\u001b[90m━━━━━━━━━━━━━━━━━━━━\u001b[0m \u001b[32m1.1/2.1 MB\u001b[0m \u001b[31m455.7 kB/s\u001b[0m eta \u001b[36m0:00:03\u001b[0m\r",
      "\u001b[2K     \u001b[91m━━━━━━━━━━━━━━━━━━━\u001b[0m\u001b[91m╸\u001b[0m\u001b[90m━━━━━━━━━━━━━━━━━━━━\u001b[0m \u001b[32m1.1/2.1 MB\u001b[0m \u001b[31m455.7 kB/s\u001b[0m eta \u001b[36m0:00:03\u001b[0m"
     ]
    },
    {
     "name": "stdout",
     "output_type": "stream",
     "text": [
      "\r",
      "\u001b[2K     \u001b[91m━━━━━━━━━━━━━━━━━━━\u001b[0m\u001b[91m╸\u001b[0m\u001b[90m━━━━━━━━━━━━━━━━━━━━\u001b[0m \u001b[32m1.1/2.1 MB\u001b[0m \u001b[31m455.7 kB/s\u001b[0m eta \u001b[36m0:00:03\u001b[0m"
     ]
    },
    {
     "name": "stdout",
     "output_type": "stream",
     "text": [
      "\r",
      "\u001b[2K     \u001b[91m━━━━━━━━━━━━━━━━━━━\u001b[0m\u001b[91m╸\u001b[0m\u001b[90m━━━━━━━━━━━━━━━━━━━━\u001b[0m \u001b[32m1.1/2.1 MB\u001b[0m \u001b[31m455.7 kB/s\u001b[0m eta \u001b[36m0:00:03\u001b[0m\r",
      "\u001b[2K     \u001b[91m━━━━━━━━━━━━━━━━━━━\u001b[0m\u001b[91m╸\u001b[0m\u001b[90m━━━━━━━━━━━━━━━━━━━━\u001b[0m \u001b[32m1.1/2.1 MB\u001b[0m \u001b[31m455.7 kB/s\u001b[0m eta \u001b[36m0:00:03\u001b[0m"
     ]
    },
    {
     "name": "stdout",
     "output_type": "stream",
     "text": [
      "\r",
      "\u001b[2K     \u001b[91m━━━━━━━━━━━━━━━━━━━\u001b[0m\u001b[91m╸\u001b[0m\u001b[90m━━━━━━━━━━━━━━━━━━━━\u001b[0m \u001b[32m1.1/2.1 MB\u001b[0m \u001b[31m455.7 kB/s\u001b[0m eta \u001b[36m0:00:03\u001b[0m"
     ]
    },
    {
     "name": "stdout",
     "output_type": "stream",
     "text": [
      "\r",
      "\u001b[2K     \u001b[91m━━━━━━━━━━━━━━━━━━━\u001b[0m\u001b[91m╸\u001b[0m\u001b[90m━━━━━━━━━━━━━━━━━━━━\u001b[0m \u001b[32m1.1/2.1 MB\u001b[0m \u001b[31m455.7 kB/s\u001b[0m eta \u001b[36m0:00:03\u001b[0m\r",
      "\u001b[2K     \u001b[91m━━━━━━━━━━━━━━━━━━━\u001b[0m\u001b[91m╸\u001b[0m\u001b[90m━━━━━━━━━━━━━━━━━━━━\u001b[0m \u001b[32m1.1/2.1 MB\u001b[0m \u001b[31m455.7 kB/s\u001b[0m eta \u001b[36m0:00:03\u001b[0m"
     ]
    },
    {
     "name": "stdout",
     "output_type": "stream",
     "text": [
      "\r",
      "\u001b[2K     \u001b[91m━━━━━━━━━━━━━━━━━━━\u001b[0m\u001b[91m╸\u001b[0m\u001b[90m━━━━━━━━━━━━━━━━━━━━\u001b[0m \u001b[32m1.1/2.1 MB\u001b[0m \u001b[31m455.7 kB/s\u001b[0m eta \u001b[36m0:00:03\u001b[0m"
     ]
    },
    {
     "name": "stdout",
     "output_type": "stream",
     "text": [
      "\r",
      "\u001b[2K     \u001b[91m━━━━━━━━━━━━━━━━━━━\u001b[0m\u001b[91m╸\u001b[0m\u001b[90m━━━━━━━━━━━━━━━━━━━━\u001b[0m \u001b[32m1.1/2.1 MB\u001b[0m \u001b[31m455.7 kB/s\u001b[0m eta \u001b[36m0:00:03\u001b[0m"
     ]
    },
    {
     "name": "stdout",
     "output_type": "stream",
     "text": [
      "\r",
      "\u001b[2K     \u001b[91m━━━━━━━━━━━━━━━━━━━\u001b[0m\u001b[91m╸\u001b[0m\u001b[90m━━━━━━━━━━━━━━━━━━━━\u001b[0m \u001b[32m1.1/2.1 MB\u001b[0m \u001b[31m455.7 kB/s\u001b[0m eta \u001b[36m0:00:03\u001b[0m\r",
      "\u001b[2K     \u001b[91m━━━━━━━━━━━━━━━━━━━\u001b[0m\u001b[91m╸\u001b[0m\u001b[90m━━━━━━━━━━━━━━━━━━━━\u001b[0m \u001b[32m1.1/2.1 MB\u001b[0m \u001b[31m455.7 kB/s\u001b[0m eta \u001b[36m0:00:03\u001b[0m"
     ]
    },
    {
     "name": "stdout",
     "output_type": "stream",
     "text": [
      "\r",
      "\u001b[2K     \u001b[91m━━━━━━━━━━━━━━━━━━━\u001b[0m\u001b[91m╸\u001b[0m\u001b[90m━━━━━━━━━━━━━━━━━━━━\u001b[0m \u001b[32m1.1/2.1 MB\u001b[0m \u001b[31m455.7 kB/s\u001b[0m eta \u001b[36m0:00:03\u001b[0m"
     ]
    },
    {
     "name": "stdout",
     "output_type": "stream",
     "text": [
      "\r",
      "\u001b[2K     \u001b[91m━━━━━━━━━━━━━━━━━━━\u001b[0m\u001b[91m╸\u001b[0m\u001b[90m━━━━━━━━━━━━━━━━━━━━\u001b[0m \u001b[32m1.1/2.1 MB\u001b[0m \u001b[31m455.7 kB/s\u001b[0m eta \u001b[36m0:00:03\u001b[0m\r",
      "\u001b[2K     \u001b[91m━━━━━━━━━━━━━━━━━━━\u001b[0m\u001b[91m╸\u001b[0m\u001b[90m━━━━━━━━━━━━━━━━━━━━\u001b[0m \u001b[32m1.1/2.1 MB\u001b[0m \u001b[31m455.7 kB/s\u001b[0m eta \u001b[36m0:00:03\u001b[0m"
     ]
    },
    {
     "name": "stdout",
     "output_type": "stream",
     "text": [
      "\r",
      "\u001b[2K     \u001b[91m━━━━━━━━━━━━━━━━━━━\u001b[0m\u001b[91m╸\u001b[0m\u001b[90m━━━━━━━━━━━━━━━━━━━━\u001b[0m \u001b[32m1.1/2.1 MB\u001b[0m \u001b[31m455.7 kB/s\u001b[0m eta \u001b[36m0:00:03\u001b[0m"
     ]
    },
    {
     "name": "stdout",
     "output_type": "stream",
     "text": [
      "\r",
      "\u001b[2K     \u001b[91m━━━━━━━━━━━━━━━━━━━\u001b[0m\u001b[91m╸\u001b[0m\u001b[90m━━━━━━━━━━━━━━━━━━━━\u001b[0m \u001b[32m1.1/2.1 MB\u001b[0m \u001b[31m455.7 kB/s\u001b[0m eta \u001b[36m0:00:03\u001b[0m\r",
      "\u001b[2K     \u001b[91m━━━━━━━━━━━━━━━━━━━\u001b[0m\u001b[91m╸\u001b[0m\u001b[90m━━━━━━━━━━━━━━━━━━━━\u001b[0m \u001b[32m1.1/2.1 MB\u001b[0m \u001b[31m455.7 kB/s\u001b[0m eta \u001b[36m0:00:03\u001b[0m"
     ]
    },
    {
     "name": "stdout",
     "output_type": "stream",
     "text": [
      "\r",
      "\u001b[2K     \u001b[91m━━━━━━━━━━━━━━━━━━━\u001b[0m\u001b[91m╸\u001b[0m\u001b[90m━━━━━━━━━━━━━━━━━━━━\u001b[0m \u001b[32m1.1/2.1 MB\u001b[0m \u001b[31m455.7 kB/s\u001b[0m eta \u001b[36m0:00:03\u001b[0m"
     ]
    },
    {
     "name": "stdout",
     "output_type": "stream",
     "text": [
      "\r",
      "\u001b[2K     \u001b[91m━━━━━━━━━━━━━━━━━━━\u001b[0m\u001b[91m╸\u001b[0m\u001b[90m━━━━━━━━━━━━━━━━━━━━\u001b[0m \u001b[32m1.1/2.1 MB\u001b[0m \u001b[31m455.7 kB/s\u001b[0m eta \u001b[36m0:00:03\u001b[0m\r",
      "\u001b[2K     \u001b[91m━━━━━━━━━━━━━━━━━━━\u001b[0m\u001b[91m╸\u001b[0m\u001b[90m━━━━━━━━━━━━━━━━━━━━\u001b[0m \u001b[32m1.1/2.1 MB\u001b[0m \u001b[31m455.7 kB/s\u001b[0m eta \u001b[36m0:00:03\u001b[0m"
     ]
    },
    {
     "name": "stdout",
     "output_type": "stream",
     "text": [
      "\r",
      "\u001b[2K     \u001b[91m━━━━━━━━━━━━━━━━━━━\u001b[0m\u001b[91m╸\u001b[0m\u001b[90m━━━━━━━━━━━━━━━━━━━━\u001b[0m \u001b[32m1.1/2.1 MB\u001b[0m \u001b[31m455.7 kB/s\u001b[0m eta \u001b[36m0:00:03\u001b[0m"
     ]
    },
    {
     "name": "stdout",
     "output_type": "stream",
     "text": [
      "\r",
      "\u001b[2K     \u001b[91m━━━━━━━━━━━━━━━━━━━\u001b[0m\u001b[91m╸\u001b[0m\u001b[90m━━━━━━━━━━━━━━━━━━━━\u001b[0m \u001b[32m1.1/2.1 MB\u001b[0m \u001b[31m455.7 kB/s\u001b[0m eta \u001b[36m0:00:03\u001b[0m\r",
      "\u001b[2K     \u001b[91m━━━━━━━━━━━━━━━━━━━\u001b[0m\u001b[91m╸\u001b[0m\u001b[90m━━━━━━━━━━━━━━━━━━━━\u001b[0m \u001b[32m1.1/2.1 MB\u001b[0m \u001b[31m455.7 kB/s\u001b[0m eta \u001b[36m0:00:03\u001b[0m"
     ]
    },
    {
     "name": "stdout",
     "output_type": "stream",
     "text": [
      "\r",
      "\u001b[2K     \u001b[91m━━━━━━━━━━━━━━━━━━━\u001b[0m\u001b[91m╸\u001b[0m\u001b[90m━━━━━━━━━━━━━━━━━━━━\u001b[0m \u001b[32m1.1/2.1 MB\u001b[0m \u001b[31m455.7 kB/s\u001b[0m eta \u001b[36m0:00:03\u001b[0m"
     ]
    },
    {
     "name": "stdout",
     "output_type": "stream",
     "text": [
      "\r",
      "\u001b[2K     \u001b[91m━━━━━━━━━━━━━━━━━━━\u001b[0m\u001b[91m╸\u001b[0m\u001b[90m━━━━━━━━━━━━━━━━━━━━\u001b[0m \u001b[32m1.1/2.1 MB\u001b[0m \u001b[31m455.7 kB/s\u001b[0m eta \u001b[36m0:00:03\u001b[0m\r",
      "\u001b[2K     \u001b[91m━━━━━━━━━━━━━━━━━━━\u001b[0m\u001b[91m╸\u001b[0m\u001b[90m━━━━━━━━━━━━━━━━━━━━\u001b[0m \u001b[32m1.1/2.1 MB\u001b[0m \u001b[31m455.7 kB/s\u001b[0m eta \u001b[36m0:00:03\u001b[0m"
     ]
    },
    {
     "name": "stdout",
     "output_type": "stream",
     "text": [
      "\r",
      "\u001b[2K     \u001b[91m━━━━━━━━━━━━━━━━━━━\u001b[0m\u001b[91m╸\u001b[0m\u001b[90m━━━━━━━━━━━━━━━━━━━━\u001b[0m \u001b[32m1.1/2.1 MB\u001b[0m \u001b[31m455.7 kB/s\u001b[0m eta \u001b[36m0:00:03\u001b[0m"
     ]
    },
    {
     "name": "stdout",
     "output_type": "stream",
     "text": [
      "\r",
      "\u001b[2K     \u001b[91m━━━━━━━━━━━━━━━━━━━\u001b[0m\u001b[91m╸\u001b[0m\u001b[90m━━━━━━━━━━━━━━━━━━━━\u001b[0m \u001b[32m1.1/2.1 MB\u001b[0m \u001b[31m455.7 kB/s\u001b[0m eta \u001b[36m0:00:03\u001b[0m\r",
      "\u001b[2K     \u001b[91m━━━━━━━━━━━━━━━━━━━\u001b[0m\u001b[91m╸\u001b[0m\u001b[90m━━━━━━━━━━━━━━━━━━━━\u001b[0m \u001b[32m1.1/2.1 MB\u001b[0m \u001b[31m455.7 kB/s\u001b[0m eta \u001b[36m0:00:03\u001b[0m"
     ]
    },
    {
     "name": "stdout",
     "output_type": "stream",
     "text": [
      "\r",
      "\u001b[2K     \u001b[91m━━━━━━━━━━━━━━━━━━━\u001b[0m\u001b[91m╸\u001b[0m\u001b[90m━━━━━━━━━━━━━━━━━━━━\u001b[0m \u001b[32m1.1/2.1 MB\u001b[0m \u001b[31m455.7 kB/s\u001b[0m eta \u001b[36m0:00:03\u001b[0m"
     ]
    },
    {
     "name": "stdout",
     "output_type": "stream",
     "text": [
      "\r",
      "\u001b[2K     \u001b[91m━━━━━━━━━━━━━━━━━━━\u001b[0m\u001b[91m╸\u001b[0m\u001b[90m━━━━━━━━━━━━━━━━━━━━\u001b[0m \u001b[32m1.1/2.1 MB\u001b[0m \u001b[31m455.7 kB/s\u001b[0m eta \u001b[36m0:00:03\u001b[0m"
     ]
    },
    {
     "name": "stdout",
     "output_type": "stream",
     "text": [
      "\r",
      "\u001b[2K     \u001b[91m━━━━━━━━━━━━━━━━━━━\u001b[0m\u001b[91m╸\u001b[0m\u001b[90m━━━━━━━━━━━━━━━━━━━━\u001b[0m \u001b[32m1.1/2.1 MB\u001b[0m \u001b[31m455.7 kB/s\u001b[0m eta \u001b[36m0:00:03\u001b[0m\r",
      "\u001b[2K     \u001b[91m━━━━━━━━━━━━━━━━━━━\u001b[0m\u001b[91m╸\u001b[0m\u001b[90m━━━━━━━━━━━━━━━━━━━━\u001b[0m \u001b[32m1.1/2.1 MB\u001b[0m \u001b[31m455.7 kB/s\u001b[0m eta \u001b[36m0:00:03\u001b[0m"
     ]
    },
    {
     "name": "stdout",
     "output_type": "stream",
     "text": [
      "\r",
      "\u001b[2K     \u001b[91m━━━━━━━━━━━━━━━━━━━\u001b[0m\u001b[91m╸\u001b[0m\u001b[90m━━━━━━━━━━━━━━━━━━━━\u001b[0m \u001b[32m1.1/2.1 MB\u001b[0m \u001b[31m455.7 kB/s\u001b[0m eta \u001b[36m0:00:03\u001b[0m"
     ]
    },
    {
     "name": "stdout",
     "output_type": "stream",
     "text": [
      "\r",
      "\u001b[2K     \u001b[91m━━━━━━━━━━━━━━━━━━━━━━\u001b[0m\u001b[90m╺\u001b[0m\u001b[90m━━━━━━━━━━━━━━━━━\u001b[0m \u001b[32m1.2/2.1 MB\u001b[0m \u001b[31m306.4 kB/s\u001b[0m eta \u001b[36m0:00:04\u001b[0m\r",
      "\u001b[2K     \u001b[91m━━━━━━━━━━━━━━━━━━━━━━\u001b[0m\u001b[90m╺\u001b[0m\u001b[90m━━━━━━━━━━━━━━━━━\u001b[0m \u001b[32m1.2/2.1 MB\u001b[0m \u001b[31m306.4 kB/s\u001b[0m eta \u001b[36m0:00:04\u001b[0m"
     ]
    },
    {
     "name": "stdout",
     "output_type": "stream",
     "text": [
      "\r",
      "\u001b[2K     \u001b[91m━━━━━━━━━━━━━━━━━━━━━━\u001b[0m\u001b[91m╸\u001b[0m\u001b[90m━━━━━━━━━━━━━━━━━\u001b[0m \u001b[32m1.2/2.1 MB\u001b[0m \u001b[31m310.0 kB/s\u001b[0m eta \u001b[36m0:00:03\u001b[0m"
     ]
    },
    {
     "name": "stdout",
     "output_type": "stream",
     "text": [
      "\r",
      "\u001b[2K     \u001b[91m━━━━━━━━━━━━━━━━━━━━━━\u001b[0m\u001b[91m╸\u001b[0m\u001b[90m━━━━━━━━━━━━━━━━━\u001b[0m \u001b[32m1.2/2.1 MB\u001b[0m \u001b[31m310.0 kB/s\u001b[0m eta \u001b[36m0:00:03\u001b[0m\r",
      "\u001b[2K     \u001b[91m━━━━━━━━━━━━━━━━━━━━━━━━\u001b[0m\u001b[90m╺\u001b[0m\u001b[90m━━━━━━━━━━━━━━━\u001b[0m \u001b[32m1.3/2.1 MB\u001b[0m \u001b[31m322.7 kB/s\u001b[0m eta \u001b[36m0:00:03\u001b[0m"
     ]
    },
    {
     "name": "stdout",
     "output_type": "stream",
     "text": [
      "\r",
      "\u001b[2K     \u001b[91m━━━━━━━━━━━━━━━━━━━━━━━━\u001b[0m\u001b[91m╸\u001b[0m\u001b[90m━━━━━━━━━━━━━━━\u001b[0m \u001b[32m1.3/2.1 MB\u001b[0m \u001b[31m327.8 kB/s\u001b[0m eta \u001b[36m0:00:03\u001b[0m"
     ]
    },
    {
     "name": "stdout",
     "output_type": "stream",
     "text": [
      "\r",
      "\u001b[2K     \u001b[91m━━━━━━━━━━━━━━━━━━━━━━━━\u001b[0m\u001b[91m╸\u001b[0m\u001b[90m━━━━━━━━━━━━━━━\u001b[0m \u001b[32m1.3/2.1 MB\u001b[0m \u001b[31m327.8 kB/s\u001b[0m eta \u001b[36m0:00:03\u001b[0m\r",
      "\u001b[2K     \u001b[91m━━━━━━━━━━━━━━━━━━━━━━━━\u001b[0m\u001b[91m╸\u001b[0m\u001b[90m━━━━━━━━━━━━━━━\u001b[0m \u001b[32m1.3/2.1 MB\u001b[0m \u001b[31m327.8 kB/s\u001b[0m eta \u001b[36m0:00:03\u001b[0m"
     ]
    },
    {
     "name": "stdout",
     "output_type": "stream",
     "text": [
      "\r",
      "\u001b[2K     \u001b[91m━━━━━━━━━━━━━━━━━━━━━━━━\u001b[0m\u001b[91m╸\u001b[0m\u001b[90m━━━━━━━━━━━━━━━\u001b[0m \u001b[32m1.3/2.1 MB\u001b[0m \u001b[31m327.8 kB/s\u001b[0m eta \u001b[36m0:00:03\u001b[0m"
     ]
    },
    {
     "name": "stdout",
     "output_type": "stream",
     "text": [
      "\r",
      "\u001b[2K     \u001b[91m━━━━━━━━━━━━━━━━━━━━━━━━\u001b[0m\u001b[91m╸\u001b[0m\u001b[90m━━━━━━━━━━━━━━━\u001b[0m \u001b[32m1.3/2.1 MB\u001b[0m \u001b[31m327.8 kB/s\u001b[0m eta \u001b[36m0:00:03\u001b[0m\r",
      "\u001b[2K     \u001b[91m━━━━━━━━━━━━━━━━━━━━━━━━\u001b[0m\u001b[91m╸\u001b[0m\u001b[90m━━━━━━━━━━━━━━━\u001b[0m \u001b[32m1.3/2.1 MB\u001b[0m \u001b[31m327.8 kB/s\u001b[0m eta \u001b[36m0:00:03\u001b[0m"
     ]
    },
    {
     "name": "stdout",
     "output_type": "stream",
     "text": [
      "\r",
      "\u001b[2K     \u001b[91m━━━━━━━━━━━━━━━━━━━━━━━━\u001b[0m\u001b[91m╸\u001b[0m\u001b[90m━━━━━━━━━━━━━━━\u001b[0m \u001b[32m1.3/2.1 MB\u001b[0m \u001b[31m327.8 kB/s\u001b[0m eta \u001b[36m0:00:03\u001b[0m"
     ]
    },
    {
     "name": "stdout",
     "output_type": "stream",
     "text": [
      "\r",
      "\u001b[2K     \u001b[91m━━━━━━━━━━━━━━━━━━━━━━━━\u001b[0m\u001b[91m╸\u001b[0m\u001b[90m━━━━━━━━━━━━━━━\u001b[0m \u001b[32m1.3/2.1 MB\u001b[0m \u001b[31m327.8 kB/s\u001b[0m eta \u001b[36m0:00:03\u001b[0m\r",
      "\u001b[2K     \u001b[91m━━━━━━━━━━━━━━━━━━━━━━━━\u001b[0m\u001b[91m╸\u001b[0m\u001b[90m━━━━━━━━━━━━━━━\u001b[0m \u001b[32m1.3/2.1 MB\u001b[0m \u001b[31m327.8 kB/s\u001b[0m eta \u001b[36m0:00:03\u001b[0m"
     ]
    },
    {
     "name": "stdout",
     "output_type": "stream",
     "text": [
      "\r",
      "\u001b[2K     \u001b[91m━━━━━━━━━━━━━━━━━━━━━━━━\u001b[0m\u001b[91m╸\u001b[0m\u001b[90m━━━━━━━━━━━━━━━\u001b[0m \u001b[32m1.3/2.1 MB\u001b[0m \u001b[31m327.8 kB/s\u001b[0m eta \u001b[36m0:00:03\u001b[0m"
     ]
    },
    {
     "name": "stdout",
     "output_type": "stream",
     "text": [
      "\r",
      "\u001b[2K     \u001b[91m━━━━━━━━━━━━━━━━━━━━━━━━\u001b[0m\u001b[91m╸\u001b[0m\u001b[90m━━━━━━━━━━━━━━━\u001b[0m \u001b[32m1.3/2.1 MB\u001b[0m \u001b[31m327.8 kB/s\u001b[0m eta \u001b[36m0:00:03\u001b[0m\r",
      "\u001b[2K     \u001b[91m━━━━━━━━━━━━━━━━━━━━━━━━\u001b[0m\u001b[91m╸\u001b[0m\u001b[90m━━━━━━━━━━━━━━━\u001b[0m \u001b[32m1.3/2.1 MB\u001b[0m \u001b[31m327.8 kB/s\u001b[0m eta \u001b[36m0:00:03\u001b[0m"
     ]
    },
    {
     "name": "stdout",
     "output_type": "stream",
     "text": [
      "\r",
      "\u001b[2K     \u001b[91m━━━━━━━━━━━━━━━━━━━━━━━━\u001b[0m\u001b[91m╸\u001b[0m\u001b[90m━━━━━━━━━━━━━━━\u001b[0m \u001b[32m1.3/2.1 MB\u001b[0m \u001b[31m327.8 kB/s\u001b[0m eta \u001b[36m0:00:03\u001b[0m"
     ]
    },
    {
     "name": "stdout",
     "output_type": "stream",
     "text": [
      "\r",
      "\u001b[2K     \u001b[91m━━━━━━━━━━━━━━━━━━━━━━━━\u001b[0m\u001b[91m╸\u001b[0m\u001b[90m━━━━━━━━━━━━━━━\u001b[0m \u001b[32m1.3/2.1 MB\u001b[0m \u001b[31m327.8 kB/s\u001b[0m eta \u001b[36m0:00:03\u001b[0m"
     ]
    },
    {
     "name": "stdout",
     "output_type": "stream",
     "text": [
      "\r",
      "\u001b[2K     \u001b[91m━━━━━━━━━━━━━━━━━━━━━━━━\u001b[0m\u001b[91m╸\u001b[0m\u001b[90m━━━━━━━━━━━━━━━\u001b[0m \u001b[32m1.3/2.1 MB\u001b[0m \u001b[31m327.8 kB/s\u001b[0m eta \u001b[36m0:00:03\u001b[0m\r",
      "\u001b[2K     \u001b[91m━━━━━━━━━━━━━━━━━━━━━━━━\u001b[0m\u001b[91m╸\u001b[0m\u001b[90m━━━━━━━━━━━━━━━\u001b[0m \u001b[32m1.3/2.1 MB\u001b[0m \u001b[31m327.8 kB/s\u001b[0m eta \u001b[36m0:00:03\u001b[0m"
     ]
    },
    {
     "name": "stdout",
     "output_type": "stream",
     "text": [
      "\r",
      "\u001b[2K     \u001b[91m━━━━━━━━━━━━━━━━━━━━━━━━\u001b[0m\u001b[91m╸\u001b[0m\u001b[90m━━━━━━━━━━━━━━━\u001b[0m \u001b[32m1.3/2.1 MB\u001b[0m \u001b[31m327.8 kB/s\u001b[0m eta \u001b[36m0:00:03\u001b[0m"
     ]
    },
    {
     "name": "stdout",
     "output_type": "stream",
     "text": [
      "\r",
      "\u001b[2K     \u001b[91m━━━━━━━━━━━━━━━━━━━━━━━━\u001b[0m\u001b[91m╸\u001b[0m\u001b[90m━━━━━━━━━━━━━━━\u001b[0m \u001b[32m1.3/2.1 MB\u001b[0m \u001b[31m327.8 kB/s\u001b[0m eta \u001b[36m0:00:03\u001b[0m\r",
      "\u001b[2K     \u001b[91m━━━━━━━━━━━━━━━━━━━━━━━━\u001b[0m\u001b[91m╸\u001b[0m\u001b[90m━━━━━━━━━━━━━━━\u001b[0m \u001b[32m1.3/2.1 MB\u001b[0m \u001b[31m327.8 kB/s\u001b[0m eta \u001b[36m0:00:03\u001b[0m"
     ]
    },
    {
     "name": "stdout",
     "output_type": "stream",
     "text": [
      "\r",
      "\u001b[2K     \u001b[91m━━━━━━━━━━━━━━━━━━━━━━━━\u001b[0m\u001b[91m╸\u001b[0m\u001b[90m━━━━━━━━━━━━━━━\u001b[0m \u001b[32m1.3/2.1 MB\u001b[0m \u001b[31m327.8 kB/s\u001b[0m eta \u001b[36m0:00:03\u001b[0m"
     ]
    },
    {
     "name": "stdout",
     "output_type": "stream",
     "text": [
      "\r",
      "\u001b[2K     \u001b[91m━━━━━━━━━━━━━━━━━━━━━━━━\u001b[0m\u001b[91m╸\u001b[0m\u001b[90m━━━━━━━━━━━━━━━\u001b[0m \u001b[32m1.3/2.1 MB\u001b[0m \u001b[31m327.8 kB/s\u001b[0m eta \u001b[36m0:00:03\u001b[0m\r",
      "\u001b[2K     \u001b[91m━━━━━━━━━━━━━━━━━━━━━━━━━\u001b[0m\u001b[90m╺\u001b[0m\u001b[90m━━━━━━━━━━━━━━\u001b[0m \u001b[32m1.3/2.1 MB\u001b[0m \u001b[31m278.8 kB/s\u001b[0m eta \u001b[36m0:00:03\u001b[0m"
     ]
    },
    {
     "name": "stdout",
     "output_type": "stream",
     "text": [
      "\r",
      "\u001b[2K     \u001b[91m━━━━━━━━━━━━━━━━━━━━━━━━━\u001b[0m\u001b[90m╺\u001b[0m\u001b[90m━━━━━━━━━━━━━━\u001b[0m \u001b[32m1.3/2.1 MB\u001b[0m \u001b[31m278.8 kB/s\u001b[0m eta \u001b[36m0:00:03\u001b[0m"
     ]
    },
    {
     "name": "stdout",
     "output_type": "stream",
     "text": [
      "\r",
      "\u001b[2K     \u001b[91m━━━━━━━━━━━━━━━━━━━━━━━━━\u001b[0m\u001b[90m╺\u001b[0m\u001b[90m━━━━━━━━━━━━━━\u001b[0m \u001b[32m1.3/2.1 MB\u001b[0m \u001b[31m278.8 kB/s\u001b[0m eta \u001b[36m0:00:03\u001b[0m\r",
      "\u001b[2K     \u001b[91m━━━━━━━━━━━━━━━━━━━━━━━━━\u001b[0m\u001b[90m╺\u001b[0m\u001b[90m━━━━━━━━━━━━━━\u001b[0m \u001b[32m1.3/2.1 MB\u001b[0m \u001b[31m278.8 kB/s\u001b[0m eta \u001b[36m0:00:03\u001b[0m"
     ]
    },
    {
     "name": "stdout",
     "output_type": "stream",
     "text": [
      "\r",
      "\u001b[2K     \u001b[91m━━━━━━━━━━━━━━━━━━━━━━━━━\u001b[0m\u001b[90m╺\u001b[0m\u001b[90m━━━━━━━━━━━━━━\u001b[0m \u001b[32m1.3/2.1 MB\u001b[0m \u001b[31m278.8 kB/s\u001b[0m eta \u001b[36m0:00:03\u001b[0m"
     ]
    },
    {
     "name": "stdout",
     "output_type": "stream",
     "text": [
      "\r",
      "\u001b[2K     \u001b[91m━━━━━━━━━━━━━━━━━━━━━━━━━\u001b[0m\u001b[90m╺\u001b[0m\u001b[90m━━━━━━━━━━━━━━\u001b[0m \u001b[32m1.3/2.1 MB\u001b[0m \u001b[31m278.8 kB/s\u001b[0m eta \u001b[36m0:00:03\u001b[0m\r",
      "\u001b[2K     \u001b[91m━━━━━━━━━━━━━━━━━━━━━━━━━\u001b[0m\u001b[90m╺\u001b[0m\u001b[90m━━━━━━━━━━━━━━\u001b[0m \u001b[32m1.3/2.1 MB\u001b[0m \u001b[31m278.8 kB/s\u001b[0m eta \u001b[36m0:00:03\u001b[0m"
     ]
    },
    {
     "name": "stdout",
     "output_type": "stream",
     "text": [
      "\r",
      "\u001b[2K     \u001b[91m━━━━━━━━━━━━━━━━━━━━━━━━━━\u001b[0m\u001b[91m╸\u001b[0m\u001b[90m━━━━━━━━━━━━━\u001b[0m \u001b[32m1.4/2.1 MB\u001b[0m \u001b[31m282.3 kB/s\u001b[0m eta \u001b[36m0:00:03\u001b[0m"
     ]
    },
    {
     "name": "stdout",
     "output_type": "stream",
     "text": [
      "\r",
      "\u001b[2K     \u001b[91m━━━━━━━━━━━━━━━━━━━━━━━━━━\u001b[0m\u001b[91m╸\u001b[0m\u001b[90m━━━━━━━━━━━━━\u001b[0m \u001b[32m1.4/2.1 MB\u001b[0m \u001b[31m282.3 kB/s\u001b[0m eta \u001b[36m0:00:03\u001b[0m\r",
      "\u001b[2K     \u001b[91m━━━━━━━━━━━━━━━━━━━━━━━━━━\u001b[0m\u001b[91m╸\u001b[0m\u001b[90m━━━━━━━━━━━━━\u001b[0m \u001b[32m1.4/2.1 MB\u001b[0m \u001b[31m282.3 kB/s\u001b[0m eta \u001b[36m0:00:03\u001b[0m"
     ]
    },
    {
     "name": "stdout",
     "output_type": "stream",
     "text": [
      "\r",
      "\u001b[2K     \u001b[91m━━━━━━━━━━━━━━━━━━━━━━━━━━\u001b[0m\u001b[91m╸\u001b[0m\u001b[90m━━━━━━━━━━━━━\u001b[0m \u001b[32m1.4/2.1 MB\u001b[0m \u001b[31m282.3 kB/s\u001b[0m eta \u001b[36m0:00:03\u001b[0m"
     ]
    },
    {
     "name": "stdout",
     "output_type": "stream",
     "text": [
      "\r",
      "\u001b[2K     \u001b[91m━━━━━━━━━━━━━━━━━━━━━━━━━━\u001b[0m\u001b[91m╸\u001b[0m\u001b[90m━━━━━━━━━━━━━\u001b[0m \u001b[32m1.4/2.1 MB\u001b[0m \u001b[31m282.3 kB/s\u001b[0m eta \u001b[36m0:00:03\u001b[0m"
     ]
    },
    {
     "name": "stdout",
     "output_type": "stream",
     "text": [
      "\r",
      "\u001b[2K     \u001b[91m━━━━━━━━━━━━━━━━━━━━━━━━━━\u001b[0m\u001b[91m╸\u001b[0m\u001b[90m━━━━━━━━━━━━━\u001b[0m \u001b[32m1.4/2.1 MB\u001b[0m \u001b[31m282.3 kB/s\u001b[0m eta \u001b[36m0:00:03\u001b[0m\r",
      "\u001b[2K     \u001b[91m━━━━━━━━━━━━━━━━━━━━━━━━━━━\u001b[0m\u001b[91m╸\u001b[0m\u001b[90m━━━━━━━━━━━━\u001b[0m \u001b[32m1.5/2.1 MB\u001b[0m \u001b[31m279.3 kB/s\u001b[0m eta \u001b[36m0:00:03\u001b[0m"
     ]
    },
    {
     "name": "stdout",
     "output_type": "stream",
     "text": [
      "\r",
      "\u001b[2K     \u001b[91m━━━━━━━━━━━━━━━━━━━━━━━━━━━\u001b[0m\u001b[91m╸\u001b[0m\u001b[90m━━━━━━━━━━━━\u001b[0m \u001b[32m1.5/2.1 MB\u001b[0m \u001b[31m279.4 kB/s\u001b[0m eta \u001b[36m0:00:03\u001b[0m"
     ]
    },
    {
     "name": "stdout",
     "output_type": "stream",
     "text": [
      "\r",
      "\u001b[2K     \u001b[91m━━━━━━━━━━━━━━━━━━━━━━━━━━━\u001b[0m\u001b[91m╸\u001b[0m\u001b[90m━━━━━━━━━━━━\u001b[0m \u001b[32m1.5/2.1 MB\u001b[0m \u001b[31m279.4 kB/s\u001b[0m eta \u001b[36m0:00:03\u001b[0m\r",
      "\u001b[2K     \u001b[91m━━━━━━━━━━━━━━━━━━━━━━━━━━━━\u001b[0m\u001b[90m╺\u001b[0m\u001b[90m━━━━━━━━━━━\u001b[0m \u001b[32m1.5/2.1 MB\u001b[0m \u001b[31m280.3 kB/s\u001b[0m eta \u001b[36m0:00:03\u001b[0m"
     ]
    },
    {
     "name": "stdout",
     "output_type": "stream",
     "text": [
      "\r",
      "\u001b[2K     \u001b[91m━━━━━━━━━━━━━━━━━━━━━━━━━━━━\u001b[0m\u001b[91m╸\u001b[0m\u001b[90m━━━━━━━━━━━\u001b[0m \u001b[32m1.5/2.1 MB\u001b[0m \u001b[31m284.1 kB/s\u001b[0m eta \u001b[36m0:00:03\u001b[0m"
     ]
    },
    {
     "name": "stdout",
     "output_type": "stream",
     "text": [
      "\r",
      "\u001b[2K     \u001b[91m━━━━━━━━━━━━━━━━━━━━━━━━━━━━━\u001b[0m\u001b[90m╺\u001b[0m\u001b[90m━━━━━━━━━━\u001b[0m \u001b[32m1.5/2.1 MB\u001b[0m \u001b[31m287.1 kB/s\u001b[0m eta \u001b[36m0:00:02\u001b[0m\r",
      "\u001b[2K     \u001b[91m━━━━━━━━━━━━━━━━━━━━━━━━━━━━━\u001b[0m\u001b[91m╸\u001b[0m\u001b[90m━━━━━━━━━━\u001b[0m \u001b[32m1.6/2.1 MB\u001b[0m \u001b[31m289.2 kB/s\u001b[0m eta \u001b[36m0:00:02\u001b[0m"
     ]
    },
    {
     "name": "stdout",
     "output_type": "stream",
     "text": [
      "\r",
      "\u001b[2K     \u001b[91m━━━━━━━━━━━━━━━━━━━━━━━━━━━━━━\u001b[0m\u001b[90m╺\u001b[0m\u001b[90m━━━━━━━━━\u001b[0m \u001b[32m1.6/2.1 MB\u001b[0m \u001b[31m291.3 kB/s\u001b[0m eta \u001b[36m0:00:02\u001b[0m"
     ]
    },
    {
     "name": "stdout",
     "output_type": "stream",
     "text": [
      "\r",
      "\u001b[2K     \u001b[91m━━━━━━━━━━━━━━━━━━━━━━━━━━━━━━\u001b[0m\u001b[90m╺\u001b[0m\u001b[90m━━━━━━━━━\u001b[0m \u001b[32m1.6/2.1 MB\u001b[0m \u001b[31m294.0 kB/s\u001b[0m eta \u001b[36m0:00:02\u001b[0m\r",
      "\u001b[2K     \u001b[91m━━━━━━━━━━━━━━━━━━━━━━━━━━━━━━━\u001b[0m\u001b[90m╺\u001b[0m\u001b[90m━━━━━━━━\u001b[0m \u001b[32m1.6/2.1 MB\u001b[0m \u001b[31m296.7 kB/s\u001b[0m eta \u001b[36m0:00:02\u001b[0m"
     ]
    },
    {
     "name": "stdout",
     "output_type": "stream",
     "text": [
      "\r",
      "\u001b[2K     \u001b[91m━━━━━━━━━━━━━━━━━━━━━━━━━━━━━━━\u001b[0m\u001b[90m╺\u001b[0m\u001b[90m━━━━━━━━\u001b[0m \u001b[32m1.6/2.1 MB\u001b[0m \u001b[31m298.2 kB/s\u001b[0m eta \u001b[36m0:00:02\u001b[0m"
     ]
    },
    {
     "name": "stdout",
     "output_type": "stream",
     "text": [
      "\r",
      "\u001b[2K     \u001b[91m━━━━━━━━━━━━━━━━━━━━━━━━━━━━━━━\u001b[0m\u001b[91m╸\u001b[0m\u001b[90m━━━━━━━━\u001b[0m \u001b[32m1.7/2.1 MB\u001b[0m \u001b[31m299.8 kB/s\u001b[0m eta \u001b[36m0:00:02\u001b[0m\r",
      "\u001b[2K     \u001b[91m━━━━━━━━━━━━━━━━━━━━━━━━━━━━━━━━\u001b[0m\u001b[91m╸\u001b[0m\u001b[90m━━━━━━━\u001b[0m \u001b[32m1.7/2.1 MB\u001b[0m \u001b[31m305.8 kB/s\u001b[0m eta \u001b[36m0:00:02\u001b[0m"
     ]
    },
    {
     "name": "stdout",
     "output_type": "stream",
     "text": [
      "\r",
      "\u001b[2K     \u001b[91m━━━━━━━━━━━━━━━━━━━━━━━━━━━━━━━━\u001b[0m\u001b[91m╸\u001b[0m\u001b[90m━━━━━━━\u001b[0m \u001b[32m1.7/2.1 MB\u001b[0m \u001b[31m306.2 kB/s\u001b[0m eta \u001b[36m0:00:02\u001b[0m"
     ]
    },
    {
     "name": "stdout",
     "output_type": "stream",
     "text": [
      "\r",
      "\u001b[2K     \u001b[91m━━━━━━━━━━━━━━━━━━━━━━━━━━━━━━━━━\u001b[0m\u001b[91m╸\u001b[0m\u001b[90m━━━━━━\u001b[0m \u001b[32m1.8/2.1 MB\u001b[0m \u001b[31m311.3 kB/s\u001b[0m eta \u001b[36m0:00:02\u001b[0m\r",
      "\u001b[2K     \u001b[91m━━━━━━━━━━━━━━━━━━━━━━━━━━━━━━━━━━\u001b[0m\u001b[90m╺\u001b[0m\u001b[90m━━━━━\u001b[0m \u001b[32m1.8/2.1 MB\u001b[0m \u001b[31m314.5 kB/s\u001b[0m eta \u001b[36m0:00:01\u001b[0m"
     ]
    },
    {
     "name": "stdout",
     "output_type": "stream",
     "text": [
      "\r",
      "\u001b[2K     \u001b[91m━━━━━━━━━━━━━━━━━━━━━━━━━━━━━━━━━━━\u001b[0m\u001b[90m╺\u001b[0m\u001b[90m━━━━\u001b[0m \u001b[32m1.9/2.1 MB\u001b[0m \u001b[31m321.3 kB/s\u001b[0m eta \u001b[36m0:00:01\u001b[0m"
     ]
    },
    {
     "name": "stdout",
     "output_type": "stream",
     "text": [
      "\r",
      "\u001b[2K     \u001b[91m━━━━━━━━━━━━━━━━━━━━━━━━━━━━━━━━━━━\u001b[0m\u001b[90m╺\u001b[0m\u001b[90m━━━━\u001b[0m \u001b[32m1.9/2.1 MB\u001b[0m \u001b[31m321.7 kB/s\u001b[0m eta \u001b[36m0:00:01\u001b[0m"
     ]
    },
    {
     "name": "stdout",
     "output_type": "stream",
     "text": [
      "\r",
      "\u001b[2K     \u001b[91m━━━━━━━━━━━━━━━━━━━━━━━━━━━━━━━━━━━\u001b[0m\u001b[91m╸\u001b[0m\u001b[90m━━━━\u001b[0m \u001b[32m1.9/2.1 MB\u001b[0m \u001b[31m325.6 kB/s\u001b[0m eta \u001b[36m0:00:01\u001b[0m\r",
      "\u001b[2K     \u001b[91m━━━━━━━━━━━━━━━━━━━━━━━━━━━━━━━━━━━━\u001b[0m\u001b[91m╸\u001b[0m\u001b[90m━━━\u001b[0m \u001b[32m1.9/2.1 MB\u001b[0m \u001b[31m331.7 kB/s\u001b[0m eta \u001b[36m0:00:01\u001b[0m"
     ]
    },
    {
     "name": "stdout",
     "output_type": "stream",
     "text": [
      "\r",
      "\u001b[2K     \u001b[91m━━━━━━━━━━━━━━━━━━━━━━━━━━━━━━━━━━━━━\u001b[0m\u001b[90m╺\u001b[0m\u001b[90m━━\u001b[0m \u001b[32m2.0/2.1 MB\u001b[0m \u001b[31m332.6 kB/s\u001b[0m eta \u001b[36m0:00:01\u001b[0m"
     ]
    },
    {
     "name": "stdout",
     "output_type": "stream",
     "text": [
      "\r",
      "\u001b[2K     \u001b[91m━━━━━━━━━━━━━━━━━━━━━━━━━━━━━━━━━━━━━\u001b[0m\u001b[91m╸\u001b[0m\u001b[90m━━\u001b[0m \u001b[32m2.0/2.1 MB\u001b[0m \u001b[31m336.0 kB/s\u001b[0m eta \u001b[36m0:00:01\u001b[0m\r",
      "\u001b[2K     \u001b[91m━━━━━━━━━━━━━━━━━━━━━━━━━━━━━━━━━━━━━━\u001b[0m\u001b[90m╺\u001b[0m\u001b[90m━\u001b[0m \u001b[32m2.0/2.1 MB\u001b[0m \u001b[31m339.3 kB/s\u001b[0m eta \u001b[36m0:00:01\u001b[0m"
     ]
    },
    {
     "name": "stdout",
     "output_type": "stream",
     "text": [
      "\r",
      "\u001b[2K     \u001b[91m━━━━━━━━━━━━━━━━━━━━━━━━━━━━━━━━━━━━━━━\u001b[0m\u001b[90m╺\u001b[0m \u001b[32m2.1/2.1 MB\u001b[0m \u001b[31m342.3 kB/s\u001b[0m eta \u001b[36m0:00:01\u001b[0m"
     ]
    },
    {
     "name": "stdout",
     "output_type": "stream",
     "text": [
      "\r",
      "\u001b[2K     \u001b[91m━━━━━━━━━━━━━━━━━━━━━━━━━━━━━━━━━━━━━━━\u001b[0m\u001b[90m╺\u001b[0m \u001b[32m2.1/2.1 MB\u001b[0m \u001b[31m344.0 kB/s\u001b[0m eta \u001b[36m0:00:01\u001b[0m\r",
      "\u001b[2K     \u001b[91m━━━━━━━━━━━━━━━━━━━━━━━━━━━━━━━━━━━━━━━\u001b[0m\u001b[91m╸\u001b[0m \u001b[32m2.1/2.1 MB\u001b[0m \u001b[31m345.4 kB/s\u001b[0m eta \u001b[36m0:00:01\u001b[0m"
     ]
    },
    {
     "name": "stdout",
     "output_type": "stream",
     "text": [
      "\r",
      "\u001b[2K     \u001b[91m━━━━━━━━━━━━━━━━━━━━━━━━━━━━━━━━━━━━━━━\u001b[0m\u001b[91m╸\u001b[0m \u001b[32m2.1/2.1 MB\u001b[0m \u001b[31m345.7 kB/s\u001b[0m eta \u001b[36m0:00:01\u001b[0m"
     ]
    },
    {
     "name": "stdout",
     "output_type": "stream",
     "text": [
      "\r",
      "\u001b[2K     \u001b[90m━━━━━━━━━━━━━━━━━━━━━━━━━━━━━━━━━━━━━━━━\u001b[0m \u001b[32m2.1/2.1 MB\u001b[0m \u001b[31m342.8 kB/s\u001b[0m eta \u001b[36m0:00:00\u001b[0m\r\n",
      "\u001b[?25h"
     ]
    },
    {
     "name": "stdout",
     "output_type": "stream",
     "text": [
      "Installing collected packages: pip\r\n",
      "  Attempting uninstall: pip\r\n"
     ]
    },
    {
     "name": "stdout",
     "output_type": "stream",
     "text": [
      "    Found existing installation: pip 23.1.2\r\n",
      "    Uninstalling pip-23.1.2:\r\n"
     ]
    },
    {
     "name": "stdout",
     "output_type": "stream",
     "text": [
      "      Successfully uninstalled pip-23.1.2\r\n"
     ]
    },
    {
     "name": "stdout",
     "output_type": "stream",
     "text": [
      "Successfully installed pip-24.0\r\n"
     ]
    },
    {
     "name": "stdout",
     "output_type": "stream",
     "text": [
      "Note: you may need to restart the kernel to use updated packages.\n"
     ]
    }
   ],
   "source": [
    "pip install --upgrade pip"
   ]
  },
  {
   "cell_type": "code",
   "execution_count": 2,
   "id": "556d4bbb-58c1-455b-be42-713631d42ccf",
   "metadata": {},
   "outputs": [
    {
     "name": "stdout",
     "output_type": "stream",
     "text": [
      "Requirement already satisfied: mp-api==0.40.0 in /home/cd96/psi4conda/envs/jbook/lib/python3.11/site-packages (0.40.0)\r\n",
      "Requirement already satisfied: setuptools in /home/cd96/psi4conda/envs/jbook/lib/python3.11/site-packages (from mp-api==0.40.0) (67.7.2)\r\n",
      "Requirement already satisfied: msgpack in /home/cd96/psi4conda/envs/jbook/lib/python3.11/site-packages (from mp-api==0.40.0) (1.0.7)\r\n",
      "Requirement already satisfied: maggma>=0.57.1 in /home/cd96/psi4conda/envs/jbook/lib/python3.11/site-packages (from mp-api==0.40.0) (0.63.1)\r\n",
      "Requirement already satisfied: pymatgen>=2022.3.7 in /home/cd96/psi4conda/envs/jbook/lib/python3.11/site-packages (from mp-api==0.40.0) (2024.2.8)\r\n",
      "Requirement already satisfied: typing-extensions>=3.7.4.1 in /home/cd96/psi4conda/envs/jbook/lib/python3.11/site-packages (from mp-api==0.40.0) (4.9.0)\r\n",
      "Requirement already satisfied: requests>=2.23.0 in /home/cd96/psi4conda/envs/jbook/lib/python3.11/site-packages (from mp-api==0.40.0) (2.29.0)\r\n",
      "Requirement already satisfied: monty>=2023.9.25 in /home/cd96/psi4conda/envs/jbook/lib/python3.11/site-packages (from mp-api==0.40.0) (2024.2.2)\r\n",
      "Requirement already satisfied: emmet-core>=0.78.0rc3 in /home/cd96/psi4conda/envs/jbook/lib/python3.11/site-packages (from mp-api==0.40.0) (0.78.0rc3)\r\n",
      "Requirement already satisfied: pydantic>=2.0 in /home/cd96/psi4conda/envs/jbook/lib/python3.11/site-packages (from emmet-core>=0.78.0rc3->mp-api==0.40.0) (2.6.1)\r\n",
      "Requirement already satisfied: pydantic-settings>=2.0 in /home/cd96/psi4conda/envs/jbook/lib/python3.11/site-packages (from emmet-core>=0.78.0rc3->mp-api==0.40.0) (2.1.0)\r\n",
      "Requirement already satisfied: pybtex~=0.24 in /home/cd96/psi4conda/envs/jbook/lib/python3.11/site-packages (from emmet-core>=0.78.0rc3->mp-api==0.40.0) (0.24.0)\r\n"
     ]
    },
    {
     "name": "stdout",
     "output_type": "stream",
     "text": [
      "Requirement already satisfied: ruamel.yaml<0.18 in /home/cd96/psi4conda/envs/jbook/lib/python3.11/site-packages (from maggma>=0.57.1->mp-api==0.40.0) (0.17.40)\r\n",
      "Requirement already satisfied: pymongo>=4.2.0 in /home/cd96/psi4conda/envs/jbook/lib/python3.11/site-packages (from maggma>=0.57.1->mp-api==0.40.0) (4.6.1)\r\n",
      "Requirement already satisfied: mongomock>=3.10.0 in /home/cd96/psi4conda/envs/jbook/lib/python3.11/site-packages (from maggma>=0.57.1->mp-api==0.40.0) (4.1.2)\r\n",
      "Requirement already satisfied: pydash>=4.1.0 in /home/cd96/psi4conda/envs/jbook/lib/python3.11/site-packages (from maggma>=0.57.1->mp-api==0.40.0) (7.0.7)\r\n",
      "Requirement already satisfied: jsonschema>=3.1.1 in /home/cd96/psi4conda/envs/jbook/lib/python3.11/site-packages (from maggma>=0.57.1->mp-api==0.40.0) (4.17.3)\r\n",
      "Requirement already satisfied: tqdm>=4.19.6 in /home/cd96/psi4conda/envs/jbook/lib/python3.11/site-packages (from maggma>=0.57.1->mp-api==0.40.0) (4.66.2)\r\n",
      "Requirement already satisfied: mongogrant>=0.3.1 in /home/cd96/psi4conda/envs/jbook/lib/python3.11/site-packages (from maggma>=0.57.1->mp-api==0.40.0) (0.3.3)\r\n",
      "Requirement already satisfied: aioitertools>=0.5.1 in /home/cd96/psi4conda/envs/jbook/lib/python3.11/site-packages (from maggma>=0.57.1->mp-api==0.40.0) (0.11.0)\r\n",
      "Requirement already satisfied: numpy>=1.17.3 in /home/cd96/psi4conda/envs/jbook/lib/python3.11/site-packages (from maggma>=0.57.1->mp-api==0.40.0) (1.25.2)\r\n",
      "Requirement already satisfied: fastapi>=0.42.0 in /home/cd96/psi4conda/envs/jbook/lib/python3.11/site-packages (from maggma>=0.57.1->mp-api==0.40.0) (0.109.2)\r\n",
      "Requirement already satisfied: pyzmq>=24.0.1 in /home/cd96/psi4conda/envs/jbook/lib/python3.11/site-packages (from maggma>=0.57.1->mp-api==0.40.0) (25.0.2)\r\n",
      "Requirement already satisfied: dnspython>=1.16.0 in /home/cd96/psi4conda/envs/jbook/lib/python3.11/site-packages (from maggma>=0.57.1->mp-api==0.40.0) (2.5.0)\r\n",
      "Requirement already satisfied: sshtunnel>=0.1.5 in /home/cd96/psi4conda/envs/jbook/lib/python3.11/site-packages (from maggma>=0.57.1->mp-api==0.40.0) (0.4.0)\r\n",
      "Requirement already satisfied: orjson>=3.9.0 in /home/cd96/psi4conda/envs/jbook/lib/python3.11/site-packages (from maggma>=0.57.1->mp-api==0.40.0) (3.9.14)\r\n",
      "Requirement already satisfied: boto3>=1.20.41 in /home/cd96/psi4conda/envs/jbook/lib/python3.11/site-packages (from maggma>=0.57.1->mp-api==0.40.0) (1.34.43)\r\n",
      "Requirement already satisfied: python-dateutil>=2.8.2 in /home/cd96/psi4conda/envs/jbook/lib/python3.11/site-packages (from maggma>=0.57.1->mp-api==0.40.0) (2.8.2)\r\n"
     ]
    },
    {
     "name": "stdout",
     "output_type": "stream",
     "text": [
      "Requirement already satisfied: uvicorn>=0.18.3 in /home/cd96/psi4conda/envs/jbook/lib/python3.11/site-packages (from maggma>=0.57.1->mp-api==0.40.0) (0.27.1)\r\n",
      "Requirement already satisfied: matplotlib>=1.5 in /home/cd96/psi4conda/envs/jbook/lib/python3.11/site-packages (from pymatgen>=2022.3.7->mp-api==0.40.0) (3.7.1)\r\n",
      "Requirement already satisfied: networkx>=2.2 in /home/cd96/psi4conda/envs/jbook/lib/python3.11/site-packages (from pymatgen>=2022.3.7->mp-api==0.40.0) (3.2.1)\r\n",
      "Requirement already satisfied: palettable>=3.1.1 in /home/cd96/psi4conda/envs/jbook/lib/python3.11/site-packages (from pymatgen>=2022.3.7->mp-api==0.40.0) (3.3.3)\r\n",
      "Requirement already satisfied: pandas in /home/cd96/psi4conda/envs/jbook/lib/python3.11/site-packages (from pymatgen>=2022.3.7->mp-api==0.40.0) (2.0.1)\r\n",
      "Requirement already satisfied: plotly>=4.5.0 in /home/cd96/psi4conda/envs/jbook/lib/python3.11/site-packages (from pymatgen>=2022.3.7->mp-api==0.40.0) (5.14.1)\r\n",
      "Requirement already satisfied: scipy>=1.5.0 in /home/cd96/psi4conda/envs/jbook/lib/python3.11/site-packages (from pymatgen>=2022.3.7->mp-api==0.40.0) (1.9.2)\r\n",
      "Requirement already satisfied: spglib>=2.0.2 in /home/cd96/psi4conda/envs/jbook/lib/python3.11/site-packages (from pymatgen>=2022.3.7->mp-api==0.40.0) (2.3.1)\r\n",
      "Requirement already satisfied: sympy in /home/cd96/psi4conda/envs/jbook/lib/python3.11/site-packages (from pymatgen>=2022.3.7->mp-api==0.40.0) (1.12)\r\n",
      "Requirement already satisfied: tabulate in /home/cd96/psi4conda/envs/jbook/lib/python3.11/site-packages (from pymatgen>=2022.3.7->mp-api==0.40.0) (0.9.0)\r\n",
      "Requirement already satisfied: uncertainties>=3.1.4 in /home/cd96/psi4conda/envs/jbook/lib/python3.11/site-packages (from pymatgen>=2022.3.7->mp-api==0.40.0) (3.1.7)\r\n",
      "Requirement already satisfied: joblib in /home/cd96/psi4conda/envs/jbook/lib/python3.11/site-packages (from pymatgen>=2022.3.7->mp-api==0.40.0) (1.3.2)\r\n"
     ]
    },
    {
     "name": "stdout",
     "output_type": "stream",
     "text": [
      "Requirement already satisfied: charset-normalizer<4,>=2 in /home/cd96/psi4conda/envs/jbook/lib/python3.11/site-packages (from requests>=2.23.0->mp-api==0.40.0) (3.1.0)\r\n",
      "Requirement already satisfied: idna<4,>=2.5 in /home/cd96/psi4conda/envs/jbook/lib/python3.11/site-packages (from requests>=2.23.0->mp-api==0.40.0) (3.4)\r\n",
      "Requirement already satisfied: urllib3<1.27,>=1.21.1 in /home/cd96/psi4conda/envs/jbook/lib/python3.11/site-packages (from requests>=2.23.0->mp-api==0.40.0) (1.26.15)\r\n",
      "Requirement already satisfied: certifi>=2017.4.17 in /home/cd96/psi4conda/envs/jbook/lib/python3.11/site-packages (from requests>=2.23.0->mp-api==0.40.0) (2023.7.22)\r\n",
      "Requirement already satisfied: botocore<1.35.0,>=1.34.43 in /home/cd96/psi4conda/envs/jbook/lib/python3.11/site-packages (from boto3>=1.20.41->maggma>=0.57.1->mp-api==0.40.0) (1.34.43)\r\n",
      "Requirement already satisfied: jmespath<2.0.0,>=0.7.1 in /home/cd96/psi4conda/envs/jbook/lib/python3.11/site-packages (from boto3>=1.20.41->maggma>=0.57.1->mp-api==0.40.0) (1.0.1)\r\n",
      "Requirement already satisfied: s3transfer<0.11.0,>=0.10.0 in /home/cd96/psi4conda/envs/jbook/lib/python3.11/site-packages (from boto3>=1.20.41->maggma>=0.57.1->mp-api==0.40.0) (0.10.0)\r\n"
     ]
    },
    {
     "name": "stdout",
     "output_type": "stream",
     "text": [
      "Requirement already satisfied: starlette<0.37.0,>=0.36.3 in /home/cd96/psi4conda/envs/jbook/lib/python3.11/site-packages (from fastapi>=0.42.0->maggma>=0.57.1->mp-api==0.40.0) (0.36.3)\r\n",
      "Requirement already satisfied: attrs>=17.4.0 in /home/cd96/psi4conda/envs/jbook/lib/python3.11/site-packages (from jsonschema>=3.1.1->maggma>=0.57.1->mp-api==0.40.0) (23.1.0)\r\n",
      "Requirement already satisfied: pyrsistent!=0.17.0,!=0.17.1,!=0.17.2,>=0.14.0 in /home/cd96/psi4conda/envs/jbook/lib/python3.11/site-packages (from jsonschema>=3.1.1->maggma>=0.57.1->mp-api==0.40.0) (0.19.3)\r\n",
      "Requirement already satisfied: contourpy>=1.0.1 in /home/cd96/psi4conda/envs/jbook/lib/python3.11/site-packages (from matplotlib>=1.5->pymatgen>=2022.3.7->mp-api==0.40.0) (1.0.7)\r\n",
      "Requirement already satisfied: cycler>=0.10 in /home/cd96/psi4conda/envs/jbook/lib/python3.11/site-packages (from matplotlib>=1.5->pymatgen>=2022.3.7->mp-api==0.40.0) (0.11.0)\r\n"
     ]
    },
    {
     "name": "stdout",
     "output_type": "stream",
     "text": [
      "Requirement already satisfied: fonttools>=4.22.0 in /home/cd96/psi4conda/envs/jbook/lib/python3.11/site-packages (from matplotlib>=1.5->pymatgen>=2022.3.7->mp-api==0.40.0) (4.39.4)\r\n",
      "Requirement already satisfied: kiwisolver>=1.0.1 in /home/cd96/psi4conda/envs/jbook/lib/python3.11/site-packages (from matplotlib>=1.5->pymatgen>=2022.3.7->mp-api==0.40.0) (1.4.4)\r\n",
      "Requirement already satisfied: packaging>=20.0 in /home/cd96/psi4conda/envs/jbook/lib/python3.11/site-packages (from matplotlib>=1.5->pymatgen>=2022.3.7->mp-api==0.40.0) (23.1)\r\n",
      "Requirement already satisfied: pillow>=6.2.0 in /home/cd96/psi4conda/envs/jbook/lib/python3.11/site-packages (from matplotlib>=1.5->pymatgen>=2022.3.7->mp-api==0.40.0) (9.5.0)\r\n",
      "Requirement already satisfied: pyparsing>=2.3.1 in /home/cd96/psi4conda/envs/jbook/lib/python3.11/site-packages (from matplotlib>=1.5->pymatgen>=2022.3.7->mp-api==0.40.0) (3.0.9)\r\n",
      "Requirement already satisfied: Click in /home/cd96/psi4conda/envs/jbook/lib/python3.11/site-packages (from mongogrant>=0.3.1->maggma>=0.57.1->mp-api==0.40.0) (8.1.3)\r\n",
      "Requirement already satisfied: Flask>=1.0 in /home/cd96/psi4conda/envs/jbook/lib/python3.11/site-packages (from mongogrant>=0.3.1->maggma>=0.57.1->mp-api==0.40.0) (3.0.2)\r\n",
      "Requirement already satisfied: sentinels in /home/cd96/psi4conda/envs/jbook/lib/python3.11/site-packages (from mongomock>=3.10.0->maggma>=0.57.1->mp-api==0.40.0) (1.0.0)\r\n",
      "Requirement already satisfied: tenacity>=6.2.0 in /home/cd96/psi4conda/envs/jbook/lib/python3.11/site-packages (from plotly>=4.5.0->pymatgen>=2022.3.7->mp-api==0.40.0) (8.2.2)\r\n",
      "Requirement already satisfied: PyYAML>=3.01 in /home/cd96/psi4conda/envs/jbook/lib/python3.11/site-packages (from pybtex~=0.24->emmet-core>=0.78.0rc3->mp-api==0.40.0) (6.0)\r\n",
      "Requirement already satisfied: latexcodec>=1.0.4 in /home/cd96/psi4conda/envs/jbook/lib/python3.11/site-packages (from pybtex~=0.24->emmet-core>=0.78.0rc3->mp-api==0.40.0) (2.0.1)\r\n",
      "Requirement already satisfied: six in /home/cd96/psi4conda/envs/jbook/lib/python3.11/site-packages (from pybtex~=0.24->emmet-core>=0.78.0rc3->mp-api==0.40.0) (1.16.0)\r\n"
     ]
    },
    {
     "name": "stdout",
     "output_type": "stream",
     "text": [
      "Requirement already satisfied: annotated-types>=0.4.0 in /home/cd96/psi4conda/envs/jbook/lib/python3.11/site-packages (from pydantic>=2.0->emmet-core>=0.78.0rc3->mp-api==0.40.0) (0.6.0)\r\n",
      "Requirement already satisfied: pydantic-core==2.16.2 in /home/cd96/psi4conda/envs/jbook/lib/python3.11/site-packages (from pydantic>=2.0->emmet-core>=0.78.0rc3->mp-api==0.40.0) (2.16.2)\r\n",
      "Requirement already satisfied: python-dotenv>=0.21.0 in /home/cd96/psi4conda/envs/jbook/lib/python3.11/site-packages (from pydantic-settings>=2.0->emmet-core>=0.78.0rc3->mp-api==0.40.0) (1.0.1)\r\n"
     ]
    },
    {
     "name": "stdout",
     "output_type": "stream",
     "text": [
      "Requirement already satisfied: ruamel.yaml.clib>=0.2.7 in /home/cd96/psi4conda/envs/jbook/lib/python3.11/site-packages (from ruamel.yaml<0.18->maggma>=0.57.1->mp-api==0.40.0) (0.2.8)\r\n",
      "Requirement already satisfied: paramiko>=2.7.2 in /home/cd96/psi4conda/envs/jbook/lib/python3.11/site-packages (from sshtunnel>=0.1.5->maggma>=0.57.1->mp-api==0.40.0) (3.4.0)\r\n"
     ]
    },
    {
     "name": "stdout",
     "output_type": "stream",
     "text": [
      "Requirement already satisfied: future in /home/cd96/psi4conda/envs/jbook/lib/python3.11/site-packages (from uncertainties>=3.1.4->pymatgen>=2022.3.7->mp-api==0.40.0) (0.18.3)\r\n",
      "Requirement already satisfied: h11>=0.8 in /home/cd96/psi4conda/envs/jbook/lib/python3.11/site-packages (from uvicorn>=0.18.3->maggma>=0.57.1->mp-api==0.40.0) (0.14.0)\r\n"
     ]
    },
    {
     "name": "stdout",
     "output_type": "stream",
     "text": [
      "Requirement already satisfied: pytz>=2020.1 in /home/cd96/psi4conda/envs/jbook/lib/python3.11/site-packages (from pandas->pymatgen>=2022.3.7->mp-api==0.40.0) (2023.3)\r\n",
      "Requirement already satisfied: tzdata>=2022.1 in /home/cd96/psi4conda/envs/jbook/lib/python3.11/site-packages (from pandas->pymatgen>=2022.3.7->mp-api==0.40.0) (2023.3)\r\n"
     ]
    },
    {
     "name": "stdout",
     "output_type": "stream",
     "text": [
      "Requirement already satisfied: mpmath>=0.19 in /home/cd96/psi4conda/envs/jbook/lib/python3.11/site-packages (from sympy->pymatgen>=2022.3.7->mp-api==0.40.0) (1.3.0)\r\n"
     ]
    },
    {
     "name": "stdout",
     "output_type": "stream",
     "text": [
      "Requirement already satisfied: Werkzeug>=3.0.0 in /home/cd96/psi4conda/envs/jbook/lib/python3.11/site-packages (from Flask>=1.0->mongogrant>=0.3.1->maggma>=0.57.1->mp-api==0.40.0) (3.0.1)\r\n",
      "Requirement already satisfied: Jinja2>=3.1.2 in /home/cd96/psi4conda/envs/jbook/lib/python3.11/site-packages (from Flask>=1.0->mongogrant>=0.3.1->maggma>=0.57.1->mp-api==0.40.0) (3.1.2)\r\n",
      "Requirement already satisfied: itsdangerous>=2.1.2 in /home/cd96/psi4conda/envs/jbook/lib/python3.11/site-packages (from Flask>=1.0->mongogrant>=0.3.1->maggma>=0.57.1->mp-api==0.40.0) (2.1.2)\r\n",
      "Requirement already satisfied: blinker>=1.6.2 in /home/cd96/psi4conda/envs/jbook/lib/python3.11/site-packages (from Flask>=1.0->mongogrant>=0.3.1->maggma>=0.57.1->mp-api==0.40.0) (1.7.0)\r\n"
     ]
    },
    {
     "name": "stdout",
     "output_type": "stream",
     "text": [
      "Requirement already satisfied: bcrypt>=3.2 in /home/cd96/psi4conda/envs/jbook/lib/python3.11/site-packages (from paramiko>=2.7.2->sshtunnel>=0.1.5->maggma>=0.57.1->mp-api==0.40.0) (4.1.2)\r\n",
      "Requirement already satisfied: cryptography>=3.3 in /home/cd96/psi4conda/envs/jbook/lib/python3.11/site-packages (from paramiko>=2.7.2->sshtunnel>=0.1.5->maggma>=0.57.1->mp-api==0.40.0) (40.0.2)\r\n",
      "Requirement already satisfied: pynacl>=1.5 in /home/cd96/psi4conda/envs/jbook/lib/python3.11/site-packages (from paramiko>=2.7.2->sshtunnel>=0.1.5->maggma>=0.57.1->mp-api==0.40.0) (1.5.0)\r\n"
     ]
    },
    {
     "name": "stdout",
     "output_type": "stream",
     "text": [
      "Requirement already satisfied: anyio<5,>=3.4.0 in /home/cd96/psi4conda/envs/jbook/lib/python3.11/site-packages (from starlette<0.37.0,>=0.36.3->fastapi>=0.42.0->maggma>=0.57.1->mp-api==0.40.0) (3.6.2)\r\n"
     ]
    },
    {
     "name": "stdout",
     "output_type": "stream",
     "text": [
      "Requirement already satisfied: sniffio>=1.1 in /home/cd96/psi4conda/envs/jbook/lib/python3.11/site-packages (from anyio<5,>=3.4.0->starlette<0.37.0,>=0.36.3->fastapi>=0.42.0->maggma>=0.57.1->mp-api==0.40.0) (1.3.0)\r\n",
      "Requirement already satisfied: cffi>=1.12 in /home/cd96/psi4conda/envs/jbook/lib/python3.11/site-packages (from cryptography>=3.3->paramiko>=2.7.2->sshtunnel>=0.1.5->maggma>=0.57.1->mp-api==0.40.0) (1.15.1)\r\n"
     ]
    },
    {
     "name": "stdout",
     "output_type": "stream",
     "text": [
      "Requirement already satisfied: MarkupSafe>=2.0 in /home/cd96/psi4conda/envs/jbook/lib/python3.11/site-packages (from Jinja2>=3.1.2->Flask>=1.0->mongogrant>=0.3.1->maggma>=0.57.1->mp-api==0.40.0) (2.1.2)\r\n",
      "Requirement already satisfied: pycparser in /home/cd96/psi4conda/envs/jbook/lib/python3.11/site-packages (from cffi>=1.12->cryptography>=3.3->paramiko>=2.7.2->sshtunnel>=0.1.5->maggma>=0.57.1->mp-api==0.40.0) (2.21)\r\n"
     ]
    },
    {
     "name": "stdout",
     "output_type": "stream",
     "text": [
      "Requirement already satisfied: mpcontribs-client in /home/cd96/psi4conda/envs/jbook/lib/python3.11/site-packages (5.7.0)\r\n",
      "Requirement already satisfied: boltons in /home/cd96/psi4conda/envs/jbook/lib/python3.11/site-packages (from mpcontribs-client) (23.1.1)\r\n",
      "Requirement already satisfied: bravado in /home/cd96/psi4conda/envs/jbook/lib/python3.11/site-packages (from mpcontribs-client) (11.0.3)\r\n",
      "Requirement already satisfied: filetype in /home/cd96/psi4conda/envs/jbook/lib/python3.11/site-packages (from mpcontribs-client) (1.2.0)\r\n",
      "Requirement already satisfied: flatten-dict in /home/cd96/psi4conda/envs/jbook/lib/python3.11/site-packages (from mpcontribs-client) (0.4.2)\r\n",
      "Requirement already satisfied: ipython in /home/cd96/psi4conda/envs/jbook/lib/python3.11/site-packages (from mpcontribs-client) (8.13.2)\r\n",
      "Requirement already satisfied: json2html in /home/cd96/psi4conda/envs/jbook/lib/python3.11/site-packages (from mpcontribs-client) (1.3.0)\r\n",
      "Requirement already satisfied: pandas in /home/cd96/psi4conda/envs/jbook/lib/python3.11/site-packages (from mpcontribs-client) (2.0.1)\r\n",
      "Requirement already satisfied: pint<0.20 in /home/cd96/psi4conda/envs/jbook/lib/python3.11/site-packages (from mpcontribs-client) (0.19.2)\r\n",
      "Requirement already satisfied: plotly in /home/cd96/psi4conda/envs/jbook/lib/python3.11/site-packages (from mpcontribs-client) (5.14.1)\r\n",
      "Requirement already satisfied: pyIsEmail in /home/cd96/psi4conda/envs/jbook/lib/python3.11/site-packages (from mpcontribs-client) (2.0.1)\r\n",
      "Requirement already satisfied: pymatgen in /home/cd96/psi4conda/envs/jbook/lib/python3.11/site-packages (from mpcontribs-client) (2024.2.8)\r\n",
      "Requirement already satisfied: pymongo in /home/cd96/psi4conda/envs/jbook/lib/python3.11/site-packages (from mpcontribs-client) (4.6.1)\r\n",
      "Requirement already satisfied: requests-futures in /home/cd96/psi4conda/envs/jbook/lib/python3.11/site-packages (from mpcontribs-client) (1.0.1)\r\n",
      "Requirement already satisfied: swagger-spec-validator in /home/cd96/psi4conda/envs/jbook/lib/python3.11/site-packages (from mpcontribs-client) (3.0.3)\r\n"
     ]
    },
    {
     "name": "stdout",
     "output_type": "stream",
     "text": [
      "Requirement already satisfied: tqdm in /home/cd96/psi4conda/envs/jbook/lib/python3.11/site-packages (from mpcontribs-client) (4.66.2)\r\n",
      "Requirement already satisfied: ujson in /home/cd96/psi4conda/envs/jbook/lib/python3.11/site-packages (from mpcontribs-client) (5.9.0)\r\n",
      "Requirement already satisfied: semantic-version in /home/cd96/psi4conda/envs/jbook/lib/python3.11/site-packages (from mpcontribs-client) (2.10.0)\r\n",
      "Requirement already satisfied: cachetools in /home/cd96/psi4conda/envs/jbook/lib/python3.11/site-packages (from mpcontribs-client) (5.3.2)\r\n",
      "Requirement already satisfied: bravado-core>=5.16.1 in /home/cd96/psi4conda/envs/jbook/lib/python3.11/site-packages (from bravado->mpcontribs-client) (6.1.1)\r\n",
      "Requirement already satisfied: msgpack in /home/cd96/psi4conda/envs/jbook/lib/python3.11/site-packages (from bravado->mpcontribs-client) (1.0.7)\r\n",
      "Requirement already satisfied: python-dateutil in /home/cd96/psi4conda/envs/jbook/lib/python3.11/site-packages (from bravado->mpcontribs-client) (2.8.2)\r\n",
      "Requirement already satisfied: pyyaml in /home/cd96/psi4conda/envs/jbook/lib/python3.11/site-packages (from bravado->mpcontribs-client) (6.0)\r\n",
      "Requirement already satisfied: requests>=2.17 in /home/cd96/psi4conda/envs/jbook/lib/python3.11/site-packages (from bravado->mpcontribs-client) (2.29.0)\r\n",
      "Requirement already satisfied: six in /home/cd96/psi4conda/envs/jbook/lib/python3.11/site-packages (from bravado->mpcontribs-client) (1.16.0)\r\n",
      "Requirement already satisfied: simplejson in /home/cd96/psi4conda/envs/jbook/lib/python3.11/site-packages (from bravado->mpcontribs-client) (3.19.2)\r\n",
      "Requirement already satisfied: monotonic in /home/cd96/psi4conda/envs/jbook/lib/python3.11/site-packages (from bravado->mpcontribs-client) (1.6)\r\n",
      "Requirement already satisfied: typing-extensions in /home/cd96/psi4conda/envs/jbook/lib/python3.11/site-packages (from bravado->mpcontribs-client) (4.9.0)\r\n"
     ]
    },
    {
     "name": "stdout",
     "output_type": "stream",
     "text": [
      "Requirement already satisfied: backcall in /home/cd96/psi4conda/envs/jbook/lib/python3.11/site-packages (from ipython->mpcontribs-client) (0.2.0)\r\n",
      "Requirement already satisfied: decorator in /home/cd96/psi4conda/envs/jbook/lib/python3.11/site-packages (from ipython->mpcontribs-client) (5.1.1)\r\n",
      "Requirement already satisfied: jedi>=0.16 in /home/cd96/psi4conda/envs/jbook/lib/python3.11/site-packages (from ipython->mpcontribs-client) (0.18.2)\r\n",
      "Requirement already satisfied: matplotlib-inline in /home/cd96/psi4conda/envs/jbook/lib/python3.11/site-packages (from ipython->mpcontribs-client) (0.1.6)\r\n",
      "Requirement already satisfied: pickleshare in /home/cd96/psi4conda/envs/jbook/lib/python3.11/site-packages (from ipython->mpcontribs-client) (0.7.5)\r\n",
      "Requirement already satisfied: prompt-toolkit!=3.0.37,<3.1.0,>=3.0.30 in /home/cd96/psi4conda/envs/jbook/lib/python3.11/site-packages (from ipython->mpcontribs-client) (3.0.38)\r\n",
      "Requirement already satisfied: pygments>=2.4.0 in /home/cd96/psi4conda/envs/jbook/lib/python3.11/site-packages (from ipython->mpcontribs-client) (2.15.1)\r\n",
      "Requirement already satisfied: stack-data in /home/cd96/psi4conda/envs/jbook/lib/python3.11/site-packages (from ipython->mpcontribs-client) (0.6.2)\r\n",
      "Requirement already satisfied: traitlets>=5 in /home/cd96/psi4conda/envs/jbook/lib/python3.11/site-packages (from ipython->mpcontribs-client) (5.9.0)\r\n",
      "Requirement already satisfied: pexpect>4.3 in /home/cd96/psi4conda/envs/jbook/lib/python3.11/site-packages (from ipython->mpcontribs-client) (4.8.0)\r\n"
     ]
    },
    {
     "name": "stdout",
     "output_type": "stream",
     "text": [
      "Requirement already satisfied: pytz>=2020.1 in /home/cd96/psi4conda/envs/jbook/lib/python3.11/site-packages (from pandas->mpcontribs-client) (2023.3)\r\n",
      "Requirement already satisfied: tzdata>=2022.1 in /home/cd96/psi4conda/envs/jbook/lib/python3.11/site-packages (from pandas->mpcontribs-client) (2023.3)\r\n",
      "Requirement already satisfied: numpy>=1.21.0 in /home/cd96/psi4conda/envs/jbook/lib/python3.11/site-packages (from pandas->mpcontribs-client) (1.25.2)\r\n",
      "Requirement already satisfied: tenacity>=6.2.0 in /home/cd96/psi4conda/envs/jbook/lib/python3.11/site-packages (from plotly->mpcontribs-client) (8.2.2)\r\n",
      "Requirement already satisfied: packaging in /home/cd96/psi4conda/envs/jbook/lib/python3.11/site-packages (from plotly->mpcontribs-client) (23.1)\r\n",
      "Requirement already satisfied: dnspython>=2.0.0 in /home/cd96/psi4conda/envs/jbook/lib/python3.11/site-packages (from pyIsEmail->mpcontribs-client) (2.5.0)\r\n",
      "Requirement already satisfied: matplotlib>=1.5 in /home/cd96/psi4conda/envs/jbook/lib/python3.11/site-packages (from pymatgen->mpcontribs-client) (3.7.1)\r\n",
      "Requirement already satisfied: monty>=2024.2.2 in /home/cd96/psi4conda/envs/jbook/lib/python3.11/site-packages (from pymatgen->mpcontribs-client) (2024.2.2)\r\n",
      "Requirement already satisfied: networkx>=2.2 in /home/cd96/psi4conda/envs/jbook/lib/python3.11/site-packages (from pymatgen->mpcontribs-client) (3.2.1)\r\n",
      "Requirement already satisfied: palettable>=3.1.1 in /home/cd96/psi4conda/envs/jbook/lib/python3.11/site-packages (from pymatgen->mpcontribs-client) (3.3.3)\r\n"
     ]
    },
    {
     "name": "stdout",
     "output_type": "stream",
     "text": [
      "Requirement already satisfied: pybtex in /home/cd96/psi4conda/envs/jbook/lib/python3.11/site-packages (from pymatgen->mpcontribs-client) (0.24.0)\r\n",
      "Requirement already satisfied: ruamel.yaml>=0.17.0 in /home/cd96/psi4conda/envs/jbook/lib/python3.11/site-packages (from pymatgen->mpcontribs-client) (0.17.40)\r\n",
      "Requirement already satisfied: scipy>=1.5.0 in /home/cd96/psi4conda/envs/jbook/lib/python3.11/site-packages (from pymatgen->mpcontribs-client) (1.9.2)\r\n",
      "Requirement already satisfied: spglib>=2.0.2 in /home/cd96/psi4conda/envs/jbook/lib/python3.11/site-packages (from pymatgen->mpcontribs-client) (2.3.1)\r\n",
      "Requirement already satisfied: sympy in /home/cd96/psi4conda/envs/jbook/lib/python3.11/site-packages (from pymatgen->mpcontribs-client) (1.12)\r\n",
      "Requirement already satisfied: tabulate in /home/cd96/psi4conda/envs/jbook/lib/python3.11/site-packages (from pymatgen->mpcontribs-client) (0.9.0)\r\n",
      "Requirement already satisfied: uncertainties>=3.1.4 in /home/cd96/psi4conda/envs/jbook/lib/python3.11/site-packages (from pymatgen->mpcontribs-client) (3.1.7)\r\n",
      "Requirement already satisfied: joblib in /home/cd96/psi4conda/envs/jbook/lib/python3.11/site-packages (from pymatgen->mpcontribs-client) (1.3.2)\r\n",
      "Requirement already satisfied: jsonschema in /home/cd96/psi4conda/envs/jbook/lib/python3.11/site-packages (from swagger-spec-validator->mpcontribs-client) (4.17.3)\r\n"
     ]
    },
    {
     "name": "stdout",
     "output_type": "stream",
     "text": [
      "Requirement already satisfied: jsonref in /home/cd96/psi4conda/envs/jbook/lib/python3.11/site-packages (from bravado-core>=5.16.1->bravado->mpcontribs-client) (1.1.0)\r\n",
      "Requirement already satisfied: parso<0.9.0,>=0.8.0 in /home/cd96/psi4conda/envs/jbook/lib/python3.11/site-packages (from jedi>=0.16->ipython->mpcontribs-client) (0.8.3)\r\n"
     ]
    },
    {
     "name": "stdout",
     "output_type": "stream",
     "text": [
      "Requirement already satisfied: attrs>=17.4.0 in /home/cd96/psi4conda/envs/jbook/lib/python3.11/site-packages (from jsonschema->swagger-spec-validator->mpcontribs-client) (23.1.0)\r\n",
      "Requirement already satisfied: pyrsistent!=0.17.0,!=0.17.1,!=0.17.2,>=0.14.0 in /home/cd96/psi4conda/envs/jbook/lib/python3.11/site-packages (from jsonschema->swagger-spec-validator->mpcontribs-client) (0.19.3)\r\n",
      "Requirement already satisfied: contourpy>=1.0.1 in /home/cd96/psi4conda/envs/jbook/lib/python3.11/site-packages (from matplotlib>=1.5->pymatgen->mpcontribs-client) (1.0.7)\r\n",
      "Requirement already satisfied: cycler>=0.10 in /home/cd96/psi4conda/envs/jbook/lib/python3.11/site-packages (from matplotlib>=1.5->pymatgen->mpcontribs-client) (0.11.0)\r\n",
      "Requirement already satisfied: fonttools>=4.22.0 in /home/cd96/psi4conda/envs/jbook/lib/python3.11/site-packages (from matplotlib>=1.5->pymatgen->mpcontribs-client) (4.39.4)\r\n",
      "Requirement already satisfied: kiwisolver>=1.0.1 in /home/cd96/psi4conda/envs/jbook/lib/python3.11/site-packages (from matplotlib>=1.5->pymatgen->mpcontribs-client) (1.4.4)\r\n",
      "Requirement already satisfied: pillow>=6.2.0 in /home/cd96/psi4conda/envs/jbook/lib/python3.11/site-packages (from matplotlib>=1.5->pymatgen->mpcontribs-client) (9.5.0)\r\n",
      "Requirement already satisfied: pyparsing>=2.3.1 in /home/cd96/psi4conda/envs/jbook/lib/python3.11/site-packages (from matplotlib>=1.5->pymatgen->mpcontribs-client) (3.0.9)\r\n"
     ]
    },
    {
     "name": "stdout",
     "output_type": "stream",
     "text": [
      "Requirement already satisfied: ptyprocess>=0.5 in /home/cd96/psi4conda/envs/jbook/lib/python3.11/site-packages (from pexpect>4.3->ipython->mpcontribs-client) (0.7.0)\r\n",
      "Requirement already satisfied: wcwidth in /home/cd96/psi4conda/envs/jbook/lib/python3.11/site-packages (from prompt-toolkit!=3.0.37,<3.1.0,>=3.0.30->ipython->mpcontribs-client) (0.2.6)\r\n",
      "Requirement already satisfied: charset-normalizer<4,>=2 in /home/cd96/psi4conda/envs/jbook/lib/python3.11/site-packages (from requests>=2.17->bravado->mpcontribs-client) (3.1.0)\r\n",
      "Requirement already satisfied: idna<4,>=2.5 in /home/cd96/psi4conda/envs/jbook/lib/python3.11/site-packages (from requests>=2.17->bravado->mpcontribs-client) (3.4)\r\n",
      "Requirement already satisfied: urllib3<1.27,>=1.21.1 in /home/cd96/psi4conda/envs/jbook/lib/python3.11/site-packages (from requests>=2.17->bravado->mpcontribs-client) (1.26.15)\r\n",
      "Requirement already satisfied: certifi>=2017.4.17 in /home/cd96/psi4conda/envs/jbook/lib/python3.11/site-packages (from requests>=2.17->bravado->mpcontribs-client) (2023.7.22)\r\n",
      "Requirement already satisfied: ruamel.yaml.clib>=0.2.7 in /home/cd96/psi4conda/envs/jbook/lib/python3.11/site-packages (from ruamel.yaml>=0.17.0->pymatgen->mpcontribs-client) (0.2.8)\r\n"
     ]
    },
    {
     "name": "stdout",
     "output_type": "stream",
     "text": [
      "Requirement already satisfied: future in /home/cd96/psi4conda/envs/jbook/lib/python3.11/site-packages (from uncertainties>=3.1.4->pymatgen->mpcontribs-client) (0.18.3)\r\n",
      "Requirement already satisfied: latexcodec>=1.0.4 in /home/cd96/psi4conda/envs/jbook/lib/python3.11/site-packages (from pybtex->pymatgen->mpcontribs-client) (2.0.1)\r\n"
     ]
    },
    {
     "name": "stdout",
     "output_type": "stream",
     "text": [
      "Requirement already satisfied: executing>=1.2.0 in /home/cd96/psi4conda/envs/jbook/lib/python3.11/site-packages (from stack-data->ipython->mpcontribs-client) (1.2.0)\r\n",
      "Requirement already satisfied: asttokens>=2.1.0 in /home/cd96/psi4conda/envs/jbook/lib/python3.11/site-packages (from stack-data->ipython->mpcontribs-client) (2.2.1)\r\n",
      "Requirement already satisfied: pure-eval in /home/cd96/psi4conda/envs/jbook/lib/python3.11/site-packages (from stack-data->ipython->mpcontribs-client) (0.2.2)\r\n",
      "Requirement already satisfied: mpmath>=0.19 in /home/cd96/psi4conda/envs/jbook/lib/python3.11/site-packages (from sympy->pymatgen->mpcontribs-client) (1.3.0)\r\n"
     ]
    },
    {
     "name": "stdout",
     "output_type": "stream",
     "text": [
      "Requirement already satisfied: fqdn in /home/cd96/psi4conda/envs/jbook/lib/python3.11/site-packages (from jsonschema[format-nongpl]>=2.5.1->bravado-core>=5.16.1->bravado->mpcontribs-client) (1.5.1)\r\n",
      "Requirement already satisfied: isoduration in /home/cd96/psi4conda/envs/jbook/lib/python3.11/site-packages (from jsonschema[format-nongpl]>=2.5.1->bravado-core>=5.16.1->bravado->mpcontribs-client) (20.11.0)\r\n",
      "Requirement already satisfied: jsonpointer>1.13 in /home/cd96/psi4conda/envs/jbook/lib/python3.11/site-packages (from jsonschema[format-nongpl]>=2.5.1->bravado-core>=5.16.1->bravado->mpcontribs-client) (2.3)\r\n"
     ]
    },
    {
     "name": "stdout",
     "output_type": "stream",
     "text": [
      "Requirement already satisfied: rfc3339-validator in /home/cd96/psi4conda/envs/jbook/lib/python3.11/site-packages (from jsonschema[format-nongpl]>=2.5.1->bravado-core>=5.16.1->bravado->mpcontribs-client) (0.1.4)\r\n",
      "Requirement already satisfied: rfc3986-validator>0.1.0 in /home/cd96/psi4conda/envs/jbook/lib/python3.11/site-packages (from jsonschema[format-nongpl]>=2.5.1->bravado-core>=5.16.1->bravado->mpcontribs-client) (0.1.1)\r\n",
      "Requirement already satisfied: uri-template in /home/cd96/psi4conda/envs/jbook/lib/python3.11/site-packages (from jsonschema[format-nongpl]>=2.5.1->bravado-core>=5.16.1->bravado->mpcontribs-client) (1.2.0)\r\n",
      "Requirement already satisfied: webcolors>=1.11 in /home/cd96/psi4conda/envs/jbook/lib/python3.11/site-packages (from jsonschema[format-nongpl]>=2.5.1->bravado-core>=5.16.1->bravado->mpcontribs-client) (1.13)\r\n"
     ]
    },
    {
     "name": "stdout",
     "output_type": "stream",
     "text": [
      "Requirement already satisfied: arrow>=0.15.0 in /home/cd96/psi4conda/envs/jbook/lib/python3.11/site-packages (from isoduration->jsonschema[format-nongpl]>=2.5.1->bravado-core>=5.16.1->bravado->mpcontribs-client) (1.2.3)\r\n"
     ]
    },
    {
     "name": "stdout",
     "output_type": "stream",
     "text": [
      "Collecting crystal-toolkit\r\n"
     ]
    },
    {
     "name": "stdout",
     "output_type": "stream",
     "text": [
      "  Downloading crystal_toolkit-2023.11.3-py3-none-any.whl.metadata (18 kB)\r\n"
     ]
    },
    {
     "name": "stdout",
     "output_type": "stream",
     "text": [
      "Collecting crystaltoolkit-extension (from crystal-toolkit)\r\n"
     ]
    },
    {
     "name": "stdout",
     "output_type": "stream",
     "text": [
      "  Downloading crystaltoolkit-extension-0.6.0.tar.gz (2.9 MB)\r\n",
      "\u001b[?25l"
     ]
    },
    {
     "name": "stdout",
     "output_type": "stream",
     "text": [
      "     \u001b[90m━━━━━━━━━━━━━━━━━━━━━━━━━━━━━━━━━━━━━━━━\u001b[0m \u001b[32m0.0/2.9 MB\u001b[0m \u001b[31m?\u001b[0m eta \u001b[36m-:--:--\u001b[0m\r",
      "\u001b[2K     \u001b[90m━━━━━━━━━━━━━━━━━━━━━━━━━━━━━━━━━━━━━━━━\u001b[0m \u001b[32m0.0/2.9 MB\u001b[0m \u001b[31m2.1 MB/s\u001b[0m eta \u001b[36m0:00:02\u001b[0m"
     ]
    },
    {
     "name": "stdout",
     "output_type": "stream",
     "text": [
      "\r",
      "\u001b[2K     \u001b[90m━━━━━━━━━━━━━━━━━━━━━━━━━━━━━━━━━━━━━━━━\u001b[0m \u001b[32m0.0/2.9 MB\u001b[0m \u001b[31m2.1 MB/s\u001b[0m eta \u001b[36m0:00:02\u001b[0m"
     ]
    },
    {
     "name": "stdout",
     "output_type": "stream",
     "text": [
      "\r",
      "\u001b[2K     \u001b[91m━\u001b[0m\u001b[90m╺\u001b[0m\u001b[90m━━━━━━━━━━━━━━━━━━━━━━━━━━━━━━━━━━━━━━\u001b[0m \u001b[32m0.1/2.9 MB\u001b[0m \u001b[31m837.3 kB/s\u001b[0m eta \u001b[36m0:00:04\u001b[0m\r",
      "\u001b[2K     \u001b[91m━\u001b[0m\u001b[90m╺\u001b[0m\u001b[90m━━━━━━━━━━━━━━━━━━━━━━━━━━━━━━━━━━━━━━\u001b[0m \u001b[32m0.1/2.9 MB\u001b[0m \u001b[31m837.3 kB/s\u001b[0m eta \u001b[36m0:00:04\u001b[0m"
     ]
    },
    {
     "name": "stdout",
     "output_type": "stream",
     "text": [
      "\r",
      "\u001b[2K     \u001b[91m━\u001b[0m\u001b[91m╸\u001b[0m\u001b[90m━━━━━━━━━━━━━━━━━━━━━━━━━━━━━━━━━━━━━━\u001b[0m \u001b[32m0.1/2.9 MB\u001b[0m \u001b[31m647.6 kB/s\u001b[0m eta \u001b[36m0:00:05\u001b[0m"
     ]
    },
    {
     "name": "stdout",
     "output_type": "stream",
     "text": [
      "\r",
      "\u001b[2K     \u001b[91m━━\u001b[0m\u001b[90m╺\u001b[0m\u001b[90m━━━━━━━━━━━━━━━━━━━━━━━━━━━━━━━━━━━━━\u001b[0m \u001b[32m0.2/2.9 MB\u001b[0m \u001b[31m793.3 kB/s\u001b[0m eta \u001b[36m0:00:04\u001b[0m\r",
      "\u001b[2K     \u001b[91m━━\u001b[0m\u001b[90m╺\u001b[0m\u001b[90m━━━━━━━━━━━━━━━━━━━━━━━━━━━━━━━━━━━━━\u001b[0m \u001b[32m0.2/2.9 MB\u001b[0m \u001b[31m793.3 kB/s\u001b[0m eta \u001b[36m0:00:04\u001b[0m"
     ]
    },
    {
     "name": "stdout",
     "output_type": "stream",
     "text": [
      "\r",
      "\u001b[2K     \u001b[91m━━\u001b[0m\u001b[90m╺\u001b[0m\u001b[90m━━━━━━━━━━━━━━━━━━━━━━━━━━━━━━━━━━━━━\u001b[0m \u001b[32m0.2/2.9 MB\u001b[0m \u001b[31m793.3 kB/s\u001b[0m eta \u001b[36m0:00:04\u001b[0m"
     ]
    },
    {
     "name": "stdout",
     "output_type": "stream",
     "text": [
      "\r",
      "\u001b[2K     \u001b[91m━━\u001b[0m\u001b[90m╺\u001b[0m\u001b[90m━━━━━━━━━━━━━━━━━━━━━━━━━━━━━━━━━━━━━\u001b[0m \u001b[32m0.2/2.9 MB\u001b[0m \u001b[31m793.3 kB/s\u001b[0m eta \u001b[36m0:00:04\u001b[0m\r",
      "\u001b[2K     \u001b[91m━━\u001b[0m\u001b[90m╺\u001b[0m\u001b[90m━━━━━━━━━━━━━━━━━━━━━━━━━━━━━━━━━━━━━\u001b[0m \u001b[32m0.2/2.9 MB\u001b[0m \u001b[31m793.3 kB/s\u001b[0m eta \u001b[36m0:00:04\u001b[0m"
     ]
    },
    {
     "name": "stdout",
     "output_type": "stream",
     "text": [
      "\r",
      "\u001b[2K     \u001b[91m━━\u001b[0m\u001b[90m╺\u001b[0m\u001b[90m━━━━━━━━━━━━━━━━━━━━━━━━━━━━━━━━━━━━━\u001b[0m \u001b[32m0.2/2.9 MB\u001b[0m \u001b[31m793.3 kB/s\u001b[0m eta \u001b[36m0:00:04\u001b[0m"
     ]
    },
    {
     "name": "stdout",
     "output_type": "stream",
     "text": [
      "\r",
      "\u001b[2K     \u001b[91m━━━━━\u001b[0m\u001b[90m╺\u001b[0m\u001b[90m━━━━━━━━━━━━━━━━━━━━━━━━━━━━━━━━━━\u001b[0m \u001b[32m0.4/2.9 MB\u001b[0m \u001b[31m924.1 kB/s\u001b[0m eta \u001b[36m0:00:03\u001b[0m\r",
      "\u001b[2K     \u001b[91m━━━━━\u001b[0m\u001b[91m╸\u001b[0m\u001b[90m━━━━━━━━━━━━━━━━━━━━━━━━━━━━━━━━━━\u001b[0m \u001b[32m0.4/2.9 MB\u001b[0m \u001b[31m878.3 kB/s\u001b[0m eta \u001b[36m0:00:03\u001b[0m"
     ]
    },
    {
     "name": "stdout",
     "output_type": "stream",
     "text": [
      "\r",
      "\u001b[2K     \u001b[91m━━━━━━\u001b[0m\u001b[91m╸\u001b[0m\u001b[90m━━━━━━━━━━━━━━━━━━━━━━━━━━━━━━━━━\u001b[0m \u001b[32m0.5/2.9 MB\u001b[0m \u001b[31m965.3 kB/s\u001b[0m eta \u001b[36m0:00:03\u001b[0m"
     ]
    },
    {
     "name": "stdout",
     "output_type": "stream",
     "text": [
      "\r",
      "\u001b[2K     \u001b[91m━━━━━━━\u001b[0m\u001b[90m╺\u001b[0m\u001b[90m━━━━━━━━━━━━━━━━━━━━━━━━━━━━━━━━\u001b[0m \u001b[32m0.5/2.9 MB\u001b[0m \u001b[31m1.0 MB/s\u001b[0m eta \u001b[36m0:00:03\u001b[0m\r",
      "\u001b[2K     \u001b[91m━━━━━━━\u001b[0m\u001b[90m╺\u001b[0m\u001b[90m━━━━━━━━━━━━━━━━━━━━━━━━━━━━━━━━\u001b[0m \u001b[32m0.5/2.9 MB\u001b[0m \u001b[31m983.2 kB/s\u001b[0m eta \u001b[36m0:00:03\u001b[0m"
     ]
    },
    {
     "name": "stdout",
     "output_type": "stream",
     "text": [
      "\r",
      "\u001b[2K     \u001b[91m━━━━━━━\u001b[0m\u001b[91m╸\u001b[0m\u001b[90m━━━━━━━━━━━━━━━━━━━━━━━━━━━━━━━━\u001b[0m \u001b[32m0.6/2.9 MB\u001b[0m \u001b[31m942.2 kB/s\u001b[0m eta \u001b[36m0:00:03\u001b[0m"
     ]
    },
    {
     "name": "stdout",
     "output_type": "stream",
     "text": [
      "\r",
      "\u001b[2K     \u001b[91m━━━━━━━━━\u001b[0m\u001b[90m╺\u001b[0m\u001b[90m━━━━━━━━━━━━━━━━━━━━━━━━━━━━━━\u001b[0m \u001b[32m0.7/2.9 MB\u001b[0m \u001b[31m1.0 MB/s\u001b[0m eta \u001b[36m0:00:03\u001b[0m\r",
      "\u001b[2K     \u001b[91m━━━━━━━━━\u001b[0m\u001b[90m╺\u001b[0m\u001b[90m━━━━━━━━━━━━━━━━━━━━━━━━━━━━━━\u001b[0m \u001b[32m0.7/2.9 MB\u001b[0m \u001b[31m1.0 MB/s\u001b[0m eta \u001b[36m0:00:03\u001b[0m"
     ]
    },
    {
     "name": "stdout",
     "output_type": "stream",
     "text": [
      "\r",
      "\u001b[2K     \u001b[91m━━━━━━━━━\u001b[0m\u001b[90m╺\u001b[0m\u001b[90m━━━━━━━━━━━━━━━━━━━━━━━━━━━━━━\u001b[0m \u001b[32m0.7/2.9 MB\u001b[0m \u001b[31m1.0 MB/s\u001b[0m eta \u001b[36m0:00:03\u001b[0m"
     ]
    },
    {
     "name": "stdout",
     "output_type": "stream",
     "text": [
      "\r",
      "\u001b[2K     \u001b[91m━━━━━━━━━\u001b[0m\u001b[90m╺\u001b[0m\u001b[90m━━━━━━━━━━━━━━━━━━━━━━━━━━━━━━\u001b[0m \u001b[32m0.7/2.9 MB\u001b[0m \u001b[31m1.0 MB/s\u001b[0m eta \u001b[36m0:00:03\u001b[0m"
     ]
    },
    {
     "name": "stdout",
     "output_type": "stream",
     "text": [
      "\r",
      "\u001b[2K     \u001b[91m━━━━━━━━━\u001b[0m\u001b[90m╺\u001b[0m\u001b[90m━━━━━━━━━━━━━━━━━━━━━━━━━━━━━━\u001b[0m \u001b[32m0.7/2.9 MB\u001b[0m \u001b[31m1.0 MB/s\u001b[0m eta \u001b[36m0:00:03\u001b[0m\r",
      "\u001b[2K     \u001b[91m━━━━━━━━━\u001b[0m\u001b[90m╺\u001b[0m\u001b[90m━━━━━━━━━━━━━━━━━━━━━━━━━━━━━━\u001b[0m \u001b[32m0.7/2.9 MB\u001b[0m \u001b[31m1.0 MB/s\u001b[0m eta \u001b[36m0:00:03\u001b[0m"
     ]
    },
    {
     "name": "stdout",
     "output_type": "stream",
     "text": [
      "\r",
      "\u001b[2K     \u001b[91m━━━━━━━━━\u001b[0m\u001b[90m╺\u001b[0m\u001b[90m━━━━━━━━━━━━━━━━━━━━━━━━━━━━━━\u001b[0m \u001b[32m0.7/2.9 MB\u001b[0m \u001b[31m1.0 MB/s\u001b[0m eta \u001b[36m0:00:03\u001b[0m"
     ]
    },
    {
     "name": "stdout",
     "output_type": "stream",
     "text": [
      "\r",
      "\u001b[2K     \u001b[91m━━━━━━━━━\u001b[0m\u001b[90m╺\u001b[0m\u001b[90m━━━━━━━━━━━━━━━━━━━━━━━━━━━━━━\u001b[0m \u001b[32m0.7/2.9 MB\u001b[0m \u001b[31m768.2 kB/s\u001b[0m eta \u001b[36m0:00:03\u001b[0m\r",
      "\u001b[2K     \u001b[91m━━━━━━━━━━\u001b[0m\u001b[90m╺\u001b[0m\u001b[90m━━━━━━━━━━━━━━━━━━━━━━━━━━━━━\u001b[0m \u001b[32m0.7/2.9 MB\u001b[0m \u001b[31m780.7 kB/s\u001b[0m eta \u001b[36m0:00:03\u001b[0m"
     ]
    },
    {
     "name": "stdout",
     "output_type": "stream",
     "text": [
      "\r",
      "\u001b[2K     \u001b[91m━━━━━━━━━━\u001b[0m\u001b[90m╺\u001b[0m\u001b[90m━━━━━━━━━━━━━━━━━━━━━━━━━━━━━\u001b[0m \u001b[32m0.7/2.9 MB\u001b[0m \u001b[31m773.7 kB/s\u001b[0m eta \u001b[36m0:00:03\u001b[0m"
     ]
    },
    {
     "name": "stdout",
     "output_type": "stream",
     "text": [
      "\r",
      "\u001b[2K     \u001b[91m━━━━━━━━━━\u001b[0m\u001b[91m╸\u001b[0m\u001b[90m━━━━━━━━━━━━━━━━━━━━━━━━━━━━━\u001b[0m \u001b[32m0.8/2.9 MB\u001b[0m \u001b[31m802.9 kB/s\u001b[0m eta \u001b[36m0:00:03\u001b[0m\r",
      "\u001b[2K     \u001b[91m━━━━━━━━━━━\u001b[0m\u001b[91m╸\u001b[0m\u001b[90m━━━━━━━━━━━━━━━━━━━━━━━━━━━━\u001b[0m \u001b[32m0.8/2.9 MB\u001b[0m \u001b[31m825.2 kB/s\u001b[0m eta \u001b[36m0:00:03\u001b[0m"
     ]
    },
    {
     "name": "stdout",
     "output_type": "stream",
     "text": [
      "\r",
      "\u001b[2K     \u001b[91m━━━━━━━━━━━━\u001b[0m\u001b[90m╺\u001b[0m\u001b[90m━━━━━━━━━━━━━━━━━━━━━━━━━━━\u001b[0m \u001b[32m0.9/2.9 MB\u001b[0m \u001b[31m831.0 kB/s\u001b[0m eta \u001b[36m0:00:03\u001b[0m"
     ]
    },
    {
     "name": "stdout",
     "output_type": "stream",
     "text": [
      "\r",
      "\u001b[2K     \u001b[91m━━━━━━━━━━━━\u001b[0m\u001b[91m╸\u001b[0m\u001b[90m━━━━━━━━━━━━━━━━━━━━━━━━━━━\u001b[0m \u001b[32m0.9/2.9 MB\u001b[0m \u001b[31m854.0 kB/s\u001b[0m eta \u001b[36m0:00:03\u001b[0m\r",
      "\u001b[2K     \u001b[91m━━━━━━━━━━━━━\u001b[0m\u001b[91m╸\u001b[0m\u001b[90m━━━━━━━━━━━━━━━━━━━━━━━━━━\u001b[0m \u001b[32m1.0/2.9 MB\u001b[0m \u001b[31m872.2 kB/s\u001b[0m eta \u001b[36m0:00:03\u001b[0m"
     ]
    },
    {
     "name": "stdout",
     "output_type": "stream",
     "text": [
      "\r",
      "\u001b[2K     \u001b[91m━━━━━━━━━━━━━━\u001b[0m\u001b[90m╺\u001b[0m\u001b[90m━━━━━━━━━━━━━━━━━━━━━━━━━\u001b[0m \u001b[32m1.0/2.9 MB\u001b[0m \u001b[31m884.0 kB/s\u001b[0m eta \u001b[36m0:00:03\u001b[0m"
     ]
    },
    {
     "name": "stdout",
     "output_type": "stream",
     "text": [
      "\r",
      "\u001b[2K     \u001b[91m━━━━━━━━━━━━━━━\u001b[0m\u001b[90m╺\u001b[0m\u001b[90m━━━━━━━━━━━━━━━━━━━━━━━━\u001b[0m \u001b[32m1.1/2.9 MB\u001b[0m \u001b[31m923.8 kB/s\u001b[0m eta \u001b[36m0:00:02\u001b[0m\r",
      "\u001b[2K     \u001b[91m━━━━━━━━━━━━━━━━\u001b[0m\u001b[90m╺\u001b[0m\u001b[90m━━━━━━━━━━━━━━━━━━━━━━━\u001b[0m \u001b[32m1.2/2.9 MB\u001b[0m \u001b[31m955.1 kB/s\u001b[0m eta \u001b[36m0:00:02\u001b[0m"
     ]
    },
    {
     "name": "stdout",
     "output_type": "stream",
     "text": [
      "\r",
      "\u001b[2K     \u001b[91m━━━━━━━━━━━━━━━━━\u001b[0m\u001b[90m╺\u001b[0m\u001b[90m━━━━━━━━━━━━━━━━━━━━━━\u001b[0m \u001b[32m1.2/2.9 MB\u001b[0m \u001b[31m971.1 kB/s\u001b[0m eta \u001b[36m0:00:02\u001b[0m"
     ]
    },
    {
     "name": "stdout",
     "output_type": "stream",
     "text": [
      "\r",
      "\u001b[2K     \u001b[91m━━━━━━━━━━━━━━━━━\u001b[0m\u001b[90m╺\u001b[0m\u001b[90m━━━━━━━━━━━━━━━━━━━━━━\u001b[0m \u001b[32m1.3/2.9 MB\u001b[0m \u001b[31m980.3 kB/s\u001b[0m eta \u001b[36m0:00:02\u001b[0m\r",
      "\u001b[2K     \u001b[91m━━━━━━━━━━━━━━━━━\u001b[0m\u001b[91m╸\u001b[0m\u001b[90m━━━━━━━━━━━━━━━━━━━━━━\u001b[0m \u001b[32m1.3/2.9 MB\u001b[0m \u001b[31m952.7 kB/s\u001b[0m eta \u001b[36m0:00:02\u001b[0m"
     ]
    },
    {
     "name": "stdout",
     "output_type": "stream",
     "text": [
      "\r",
      "\u001b[2K     \u001b[91m━━━━━━━━━━━━━━━━━━━\u001b[0m\u001b[90m╺\u001b[0m\u001b[90m━━━━━━━━━━━━━━━━━━━━\u001b[0m \u001b[32m1.4/2.9 MB\u001b[0m \u001b[31m1.0 MB/s\u001b[0m eta \u001b[36m0:00:02\u001b[0m"
     ]
    },
    {
     "name": "stdout",
     "output_type": "stream",
     "text": [
      "\r",
      "\u001b[2K     \u001b[91m━━━━━━━━━━━━━━━━━━━\u001b[0m\u001b[90m╺\u001b[0m\u001b[90m━━━━━━━━━━━━━━━━━━━━\u001b[0m \u001b[32m1.4/2.9 MB\u001b[0m \u001b[31m1.0 MB/s\u001b[0m eta \u001b[36m0:00:02\u001b[0m\r",
      "\u001b[2K     \u001b[91m━━━━━━━━━━━━━━━━━━━\u001b[0m\u001b[91m╸\u001b[0m\u001b[90m━━━━━━━━━━━━━━━━━━━━\u001b[0m \u001b[32m1.4/2.9 MB\u001b[0m \u001b[31m978.1 kB/s\u001b[0m eta \u001b[36m0:00:02\u001b[0m"
     ]
    },
    {
     "name": "stdout",
     "output_type": "stream",
     "text": [
      "\r",
      "\u001b[2K     \u001b[91m━━━━━━━━━━━━━━━━━━━━\u001b[0m\u001b[91m╸\u001b[0m\u001b[90m━━━━━━━━━━━━━━━━━━━\u001b[0m \u001b[32m1.5/2.9 MB\u001b[0m \u001b[31m1.0 MB/s\u001b[0m eta \u001b[36m0:00:02\u001b[0m"
     ]
    },
    {
     "name": "stdout",
     "output_type": "stream",
     "text": [
      "\r",
      "\u001b[2K     \u001b[91m━━━━━━━━━━━━━━━━━━━━━\u001b[0m\u001b[90m╺\u001b[0m\u001b[90m━━━━━━━━━━━━━━━━━━\u001b[0m \u001b[32m1.5/2.9 MB\u001b[0m \u001b[31m1.0 MB/s\u001b[0m eta \u001b[36m0:00:02\u001b[0m"
     ]
    },
    {
     "name": "stdout",
     "output_type": "stream",
     "text": [
      "\r",
      "\u001b[2K     \u001b[91m━━━━━━━━━━━━━━━━━━━━━\u001b[0m\u001b[90m╺\u001b[0m\u001b[90m━━━━━━━━━━━━━━━━━━\u001b[0m \u001b[32m1.5/2.9 MB\u001b[0m \u001b[31m1.0 MB/s\u001b[0m eta \u001b[36m0:00:02\u001b[0m\r",
      "\u001b[2K     \u001b[91m━━━━━━━━━━━━━━━━━━━━━\u001b[0m\u001b[90m╺\u001b[0m\u001b[90m━━━━━━━━━━━━━━━━━━\u001b[0m \u001b[32m1.5/2.9 MB\u001b[0m \u001b[31m1.0 MB/s\u001b[0m eta \u001b[36m0:00:02\u001b[0m"
     ]
    },
    {
     "name": "stdout",
     "output_type": "stream",
     "text": [
      "\r",
      "\u001b[2K     \u001b[91m━━━━━━━━━━━━━━━━━━━━━\u001b[0m\u001b[90m╺\u001b[0m\u001b[90m━━━━━━━━━━━━━━━━━━\u001b[0m \u001b[32m1.5/2.9 MB\u001b[0m \u001b[31m1.0 MB/s\u001b[0m eta \u001b[36m0:00:02\u001b[0m"
     ]
    },
    {
     "name": "stdout",
     "output_type": "stream",
     "text": [
      "\r",
      "\u001b[2K     \u001b[91m━━━━━━━━━━━━━━━━━━━━━\u001b[0m\u001b[90m╺\u001b[0m\u001b[90m━━━━━━━━━━━━━━━━━━\u001b[0m \u001b[32m1.5/2.9 MB\u001b[0m \u001b[31m1.0 MB/s\u001b[0m eta \u001b[36m0:00:02\u001b[0m\r",
      "\u001b[2K     \u001b[91m━━━━━━━━━━━━━━━━━━━━━\u001b[0m\u001b[90m╺\u001b[0m\u001b[90m━━━━━━━━━━━━━━━━━━\u001b[0m \u001b[32m1.5/2.9 MB\u001b[0m \u001b[31m1.0 MB/s\u001b[0m eta \u001b[36m0:00:02\u001b[0m"
     ]
    },
    {
     "name": "stdout",
     "output_type": "stream",
     "text": [
      "\r",
      "\u001b[2K     \u001b[91m━━━━━━━━━━━━━━━━━━━━━\u001b[0m\u001b[90m╺\u001b[0m\u001b[90m━━━━━━━━━━━━━━━━━━\u001b[0m \u001b[32m1.5/2.9 MB\u001b[0m \u001b[31m1.0 MB/s\u001b[0m eta \u001b[36m0:00:02\u001b[0m"
     ]
    },
    {
     "name": "stdout",
     "output_type": "stream",
     "text": [
      "\r",
      "\u001b[2K     \u001b[91m━━━━━━━━━━━━━━━━━━━━━\u001b[0m\u001b[91m╸\u001b[0m\u001b[90m━━━━━━━━━━━━━━━━━━\u001b[0m \u001b[32m1.6/2.9 MB\u001b[0m \u001b[31m887.1 kB/s\u001b[0m eta \u001b[36m0:00:02\u001b[0m\r",
      "\u001b[2K     \u001b[91m━━━━━━━━━━━━━━━━━━━━━\u001b[0m\u001b[91m╸\u001b[0m\u001b[90m━━━━━━━━━━━━━━━━━━\u001b[0m \u001b[32m1.6/2.9 MB\u001b[0m \u001b[31m891.2 kB/s\u001b[0m eta \u001b[36m0:00:02\u001b[0m"
     ]
    },
    {
     "name": "stdout",
     "output_type": "stream",
     "text": [
      "\r",
      "\u001b[2K     \u001b[91m━━━━━━━━━━━━━━━━━━━━━━\u001b[0m\u001b[91m╸\u001b[0m\u001b[90m━━━━━━━━━━━━━━━━━\u001b[0m \u001b[32m1.6/2.9 MB\u001b[0m \u001b[31m892.2 kB/s\u001b[0m eta \u001b[36m0:00:02\u001b[0m"
     ]
    },
    {
     "name": "stdout",
     "output_type": "stream",
     "text": [
      "\r",
      "\u001b[2K     \u001b[91m━━━━━━━━━━━━━━━━━━━━━━━\u001b[0m\u001b[90m╺\u001b[0m\u001b[90m━━━━━━━━━━━━━━━━\u001b[0m \u001b[32m1.7/2.9 MB\u001b[0m \u001b[31m897.4 kB/s\u001b[0m eta \u001b[36m0:00:02\u001b[0m\r",
      "\u001b[2K     \u001b[91m━━━━━━━━━━━━━━━━━━━━━━━\u001b[0m\u001b[90m╺\u001b[0m\u001b[90m━━━━━━━━━━━━━━━━\u001b[0m \u001b[32m1.7/2.9 MB\u001b[0m \u001b[31m897.4 kB/s\u001b[0m eta \u001b[36m0:00:02\u001b[0m"
     ]
    },
    {
     "name": "stdout",
     "output_type": "stream",
     "text": [
      "\r",
      "\u001b[2K     \u001b[91m━━━━━━━━━━━━━━━━━━━━━━━\u001b[0m\u001b[91m╸\u001b[0m\u001b[90m━━━━━━━━━━━━━━━━\u001b[0m \u001b[32m1.7/2.9 MB\u001b[0m \u001b[31m889.0 kB/s\u001b[0m eta \u001b[36m0:00:02\u001b[0m"
     ]
    },
    {
     "name": "stdout",
     "output_type": "stream",
     "text": [
      "\r",
      "\u001b[2K     \u001b[91m━━━━━━━━━━━━━━━━━━━━━━━━━\u001b[0m\u001b[90m╺\u001b[0m\u001b[90m━━━━━━━━━━━━━━\u001b[0m \u001b[32m1.8/2.9 MB\u001b[0m \u001b[31m918.8 kB/s\u001b[0m eta \u001b[36m0:00:02\u001b[0m\r",
      "\u001b[2K     \u001b[91m━━━━━━━━━━━━━━━━━━━━━━━━━\u001b[0m\u001b[91m╸\u001b[0m\u001b[90m━━━━━━━━━━━━━━\u001b[0m \u001b[32m1.9/2.9 MB\u001b[0m \u001b[31m923.0 kB/s\u001b[0m eta \u001b[36m0:00:02\u001b[0m"
     ]
    },
    {
     "name": "stdout",
     "output_type": "stream",
     "text": [
      "\r",
      "\u001b[2K     \u001b[91m━━━━━━━━━━━━━━━━━━━━━━━━━━\u001b[0m\u001b[90m╺\u001b[0m\u001b[90m━━━━━━━━━━━━━\u001b[0m \u001b[32m1.9/2.9 MB\u001b[0m \u001b[31m930.3 kB/s\u001b[0m eta \u001b[36m0:00:02\u001b[0m"
     ]
    },
    {
     "name": "stdout",
     "output_type": "stream",
     "text": [
      "\r",
      "\u001b[2K     \u001b[91m━━━━━━━━━━━━━━━━━━━━━━━━━━\u001b[0m\u001b[91m╸\u001b[0m\u001b[90m━━━━━━━━━━━━━\u001b[0m \u001b[32m1.9/2.9 MB\u001b[0m \u001b[31m935.7 kB/s\u001b[0m eta \u001b[36m0:00:02\u001b[0m\r",
      "\u001b[2K     \u001b[91m━━━━━━━━━━━━━━━━━━━━━━━━━━━━\u001b[0m\u001b[90m╺\u001b[0m\u001b[90m━━━━━━━━━━━\u001b[0m \u001b[32m2.0/2.9 MB\u001b[0m \u001b[31m953.7 kB/s\u001b[0m eta \u001b[36m0:00:01\u001b[0m"
     ]
    },
    {
     "name": "stdout",
     "output_type": "stream",
     "text": [
      "\r",
      "\u001b[2K     \u001b[91m━━━━━━━━━━━━━━━━━━━━━━━━━━━━\u001b[0m\u001b[91m╸\u001b[0m\u001b[90m━━━━━━━━━━━\u001b[0m \u001b[32m2.1/2.9 MB\u001b[0m \u001b[31m964.3 kB/s\u001b[0m eta \u001b[36m0:00:01\u001b[0m"
     ]
    },
    {
     "name": "stdout",
     "output_type": "stream",
     "text": [
      "\r",
      "\u001b[2K     \u001b[91m━━━━━━━━━━━━━━━━━━━━━━━━━━━━━\u001b[0m\u001b[90m╺\u001b[0m\u001b[90m━━━━━━━━━━\u001b[0m \u001b[32m2.1/2.9 MB\u001b[0m \u001b[31m973.0 kB/s\u001b[0m eta \u001b[36m0:00:01\u001b[0m"
     ]
    },
    {
     "name": "stdout",
     "output_type": "stream",
     "text": [
      "\r",
      "\u001b[2K     \u001b[91m━━━━━━━━━━━━━━━━━━━━━━━━━━━━━\u001b[0m\u001b[90m╺\u001b[0m\u001b[90m━━━━━━━━━━\u001b[0m \u001b[32m2.1/2.9 MB\u001b[0m \u001b[31m973.0 kB/s\u001b[0m eta \u001b[36m0:00:01\u001b[0m\r",
      "\u001b[2K     \u001b[91m━━━━━━━━━━━━━━━━━━━━━━━━━━━━━\u001b[0m\u001b[90m╺\u001b[0m\u001b[90m━━━━━━━━━━\u001b[0m \u001b[32m2.1/2.9 MB\u001b[0m \u001b[31m973.0 kB/s\u001b[0m eta \u001b[36m0:00:01\u001b[0m"
     ]
    },
    {
     "name": "stdout",
     "output_type": "stream",
     "text": [
      "\r",
      "\u001b[2K     \u001b[91m━━━━━━━━━━━━━━━━━━━━━━━━━━━━━━━\u001b[0m\u001b[90m╺\u001b[0m\u001b[90m━━━━━━━━\u001b[0m \u001b[32m2.3/2.9 MB\u001b[0m \u001b[31m986.7 kB/s\u001b[0m eta \u001b[36m0:00:01\u001b[0m"
     ]
    },
    {
     "name": "stdout",
     "output_type": "stream",
     "text": [
      "\r",
      "\u001b[2K     \u001b[91m━━━━━━━━━━━━━━━━━━━━━━━━━━━━━━━\u001b[0m\u001b[91m╸\u001b[0m\u001b[90m━━━━━━━━\u001b[0m \u001b[32m2.3/2.9 MB\u001b[0m \u001b[31m982.1 kB/s\u001b[0m eta \u001b[36m0:00:01\u001b[0m\r",
      "\u001b[2K     \u001b[91m━━━━━━━━━━━━━━━━━━━━━━━━━━━━━━━━\u001b[0m\u001b[90m╺\u001b[0m\u001b[90m━━━━━━━\u001b[0m \u001b[32m2.4/2.9 MB\u001b[0m \u001b[31m990.7 kB/s\u001b[0m eta \u001b[36m0:00:01\u001b[0m"
     ]
    },
    {
     "name": "stdout",
     "output_type": "stream",
     "text": [
      "\r",
      "\u001b[2K     \u001b[91m━━━━━━━━━━━━━━━━━━━━━━━━━━━━━━━━━\u001b[0m\u001b[90m╺\u001b[0m\u001b[90m━━━━━━\u001b[0m \u001b[32m2.4/2.9 MB\u001b[0m \u001b[31m994.4 kB/s\u001b[0m eta \u001b[36m0:00:01\u001b[0m"
     ]
    },
    {
     "name": "stdout",
     "output_type": "stream",
     "text": [
      "\r",
      "\u001b[2K     \u001b[91m━━━━━━━━━━━━━━━━━━━━━━━━━━━━━━━━━\u001b[0m\u001b[91m╸\u001b[0m\u001b[90m━━━━━━\u001b[0m \u001b[32m2.4/2.9 MB\u001b[0m \u001b[31m996.6 kB/s\u001b[0m eta \u001b[36m0:00:01\u001b[0m\r",
      "\u001b[2K     \u001b[91m━━━━━━━━━━━━━━━━━━━━━━━━━━━━━━━━━━\u001b[0m\u001b[90m╺\u001b[0m\u001b[90m━━━━━\u001b[0m \u001b[32m2.5/2.9 MB\u001b[0m \u001b[31m1.0 MB/s\u001b[0m eta \u001b[36m0:00:01\u001b[0m"
     ]
    },
    {
     "name": "stdout",
     "output_type": "stream",
     "text": [
      "\r",
      "\u001b[2K     \u001b[91m━━━━━━━━━━━━━━━━━━━━━━━━━━━━━━━━━━\u001b[0m\u001b[91m╸\u001b[0m\u001b[90m━━━━━\u001b[0m \u001b[32m2.5/2.9 MB\u001b[0m \u001b[31m1.0 MB/s\u001b[0m eta \u001b[36m0:00:01\u001b[0m"
     ]
    },
    {
     "name": "stdout",
     "output_type": "stream",
     "text": [
      "\r",
      "\u001b[2K     \u001b[91m━━━━━━━━━━━━━━━━━━━━━━━━━━━━━━━━━━\u001b[0m\u001b[91m╸\u001b[0m\u001b[90m━━━━━\u001b[0m \u001b[32m2.5/2.9 MB\u001b[0m \u001b[31m1.0 MB/s\u001b[0m eta \u001b[36m0:00:01\u001b[0m\r",
      "\u001b[2K     \u001b[91m━━━━━━━━━━━━━━━━━━━━━━━━━━━━━━━━━━\u001b[0m\u001b[91m╸\u001b[0m\u001b[90m━━━━━\u001b[0m \u001b[32m2.5/2.9 MB\u001b[0m \u001b[31m1.0 MB/s\u001b[0m eta \u001b[36m0:00:01\u001b[0m"
     ]
    },
    {
     "name": "stdout",
     "output_type": "stream",
     "text": [
      "\r",
      "\u001b[2K     \u001b[91m━━━━━━━━━━━━━━━━━━━━━━━━━━━━━━━━━━━\u001b[0m\u001b[90m╺\u001b[0m\u001b[90m━━━━\u001b[0m \u001b[32m2.5/2.9 MB\u001b[0m \u001b[31m972.5 kB/s\u001b[0m eta \u001b[36m0:00:01\u001b[0m"
     ]
    },
    {
     "name": "stdout",
     "output_type": "stream",
     "text": [
      "\r",
      "\u001b[2K     \u001b[91m━━━━━━━━━━━━━━━━━━━━━━━━━━━━━━━━━━━\u001b[0m\u001b[90m╺\u001b[0m\u001b[90m━━━━\u001b[0m \u001b[32m2.5/2.9 MB\u001b[0m \u001b[31m972.5 kB/s\u001b[0m eta \u001b[36m0:00:01\u001b[0m"
     ]
    },
    {
     "name": "stdout",
     "output_type": "stream",
     "text": [
      "\r",
      "\u001b[2K     \u001b[91m━━━━━━━━━━━━━━━━━━━━━━━━━━━━━━━━━━━\u001b[0m\u001b[90m╺\u001b[0m\u001b[90m━━━━\u001b[0m \u001b[32m2.5/2.9 MB\u001b[0m \u001b[31m972.5 kB/s\u001b[0m eta \u001b[36m0:00:01\u001b[0m\r",
      "\u001b[2K     \u001b[91m━━━━━━━━━━━━━━━━━━━━━━━━━━━━━━━━━━━\u001b[0m\u001b[90m╺\u001b[0m\u001b[90m━━━━\u001b[0m \u001b[32m2.5/2.9 MB\u001b[0m \u001b[31m972.5 kB/s\u001b[0m eta \u001b[36m0:00:01\u001b[0m"
     ]
    },
    {
     "name": "stdout",
     "output_type": "stream",
     "text": [
      "\r",
      "\u001b[2K     \u001b[91m━━━━━━━━━━━━━━━━━━━━━━━━━━━━━━━━━━━\u001b[0m\u001b[90m╺\u001b[0m\u001b[90m━━━━\u001b[0m \u001b[32m2.5/2.9 MB\u001b[0m \u001b[31m972.5 kB/s\u001b[0m eta \u001b[36m0:00:01\u001b[0m"
     ]
    },
    {
     "name": "stdout",
     "output_type": "stream",
     "text": [
      "\r",
      "\u001b[2K     \u001b[91m━━━━━━━━━━━━━━━━━━━━━━━━━━━━━━━━━━━\u001b[0m\u001b[90m╺\u001b[0m\u001b[90m━━━━\u001b[0m \u001b[32m2.5/2.9 MB\u001b[0m \u001b[31m972.5 kB/s\u001b[0m eta \u001b[36m0:00:01\u001b[0m\r",
      "\u001b[2K     \u001b[91m━━━━━━━━━━━━━━━━━━━━━━━━━━━━━━━━━━━\u001b[0m\u001b[91m╸\u001b[0m\u001b[90m━━━━\u001b[0m \u001b[32m2.6/2.9 MB\u001b[0m \u001b[31m909.7 kB/s\u001b[0m eta \u001b[36m0:00:01\u001b[0m"
     ]
    },
    {
     "name": "stdout",
     "output_type": "stream",
     "text": [
      "\r",
      "\u001b[2K     \u001b[91m━━━━━━━━━━━━━━━━━━━━━━━━━━━━━━━━━━━\u001b[0m\u001b[91m╸\u001b[0m\u001b[90m━━━━\u001b[0m \u001b[32m2.6/2.9 MB\u001b[0m \u001b[31m908.6 kB/s\u001b[0m eta \u001b[36m0:00:01\u001b[0m"
     ]
    },
    {
     "name": "stdout",
     "output_type": "stream",
     "text": [
      "\r",
      "\u001b[2K     \u001b[91m━━━━━━━━━━━━━━━━━━━━━━━━━━━━━━━━━━━\u001b[0m\u001b[91m╸\u001b[0m\u001b[90m━━━━\u001b[0m \u001b[32m2.6/2.9 MB\u001b[0m \u001b[31m908.6 kB/s\u001b[0m eta \u001b[36m0:00:01\u001b[0m\r",
      "\u001b[2K     \u001b[91m━━━━━━━━━━━━━━━━━━━━━━━━━━━━━━━━━━━\u001b[0m\u001b[91m╸\u001b[0m\u001b[90m━━━━\u001b[0m \u001b[32m2.6/2.9 MB\u001b[0m \u001b[31m908.6 kB/s\u001b[0m eta \u001b[36m0:00:01\u001b[0m"
     ]
    },
    {
     "name": "stdout",
     "output_type": "stream",
     "text": [
      "\r",
      "\u001b[2K     \u001b[91m━━━━━━━━━━━━━━━━━━━━━━━━━━━━━━━━━━━\u001b[0m\u001b[91m╸\u001b[0m\u001b[90m━━━━\u001b[0m \u001b[32m2.6/2.9 MB\u001b[0m \u001b[31m908.6 kB/s\u001b[0m eta \u001b[36m0:00:01\u001b[0m"
     ]
    },
    {
     "name": "stdout",
     "output_type": "stream",
     "text": [
      "\r",
      "\u001b[2K     \u001b[91m━━━━━━━━━━━━━━━━━━━━━━━━━━━━━━━━━━━\u001b[0m\u001b[91m╸\u001b[0m\u001b[90m━━━━\u001b[0m \u001b[32m2.6/2.9 MB\u001b[0m \u001b[31m908.6 kB/s\u001b[0m eta \u001b[36m0:00:01\u001b[0m\r",
      "\u001b[2K     \u001b[91m━━━━━━━━━━━━━━━━━━━━━━━━━━━━━━━━━━━━━━\u001b[0m\u001b[90m╺\u001b[0m\u001b[90m━\u001b[0m \u001b[32m2.8/2.9 MB\u001b[0m \u001b[31m909.0 kB/s\u001b[0m eta \u001b[36m0:00:01\u001b[0m"
     ]
    },
    {
     "name": "stdout",
     "output_type": "stream",
     "text": [
      "\r",
      "\u001b[2K     \u001b[91m━━━━━━━━━━━━━━━━━━━━━━━━━━━━━━━━━━━━━━━\u001b[0m\u001b[90m╺\u001b[0m \u001b[32m2.8/2.9 MB\u001b[0m \u001b[31m915.7 kB/s\u001b[0m eta \u001b[36m0:00:01\u001b[0m"
     ]
    },
    {
     "name": "stdout",
     "output_type": "stream",
     "text": [
      "\r",
      "\u001b[2K     \u001b[91m━━━━━━━━━━━━━━━━━━━━━━━━━━━━━━━━━━━━━━━\u001b[0m\u001b[90m╺\u001b[0m \u001b[32m2.8/2.9 MB\u001b[0m \u001b[31m915.7 kB/s\u001b[0m eta \u001b[36m0:00:01\u001b[0m\r",
      "\u001b[2K     \u001b[91m━━━━━━━━━━━━━━━━━━━━━━━━━━━━━━━━━━━━━━━\u001b[0m\u001b[91m╸\u001b[0m \u001b[32m2.9/2.9 MB\u001b[0m \u001b[31m911.9 kB/s\u001b[0m eta \u001b[36m0:00:01\u001b[0m"
     ]
    },
    {
     "name": "stdout",
     "output_type": "stream",
     "text": [
      "\r",
      "\u001b[2K     \u001b[91m━━━━━━━━━━━━━━━━━━━━━━━━━━━━━━━━━━━━━━━\u001b[0m\u001b[91m╸\u001b[0m \u001b[32m2.9/2.9 MB\u001b[0m \u001b[31m913.3 kB/s\u001b[0m eta \u001b[36m0:00:01\u001b[0m"
     ]
    },
    {
     "name": "stdout",
     "output_type": "stream",
     "text": [
      "\r",
      "\u001b[2K     \u001b[91m━━━━━━━━━━━━━━━━━━━━━━━━━━━━━━━━━━━━━━━\u001b[0m\u001b[91m╸\u001b[0m \u001b[32m2.9/2.9 MB\u001b[0m \u001b[31m913.3 kB/s\u001b[0m eta \u001b[36m0:00:01\u001b[0m\r",
      "\u001b[2K     \u001b[90m━━━━━━━━━━━━━━━━━━━━━━━━━━━━━━━━━━━━━━━━\u001b[0m \u001b[32m2.9/2.9 MB\u001b[0m \u001b[31m893.5 kB/s\u001b[0m eta \u001b[36m0:00:00\u001b[0m\r\n",
      "\u001b[?25h"
     ]
    },
    {
     "name": "stdout",
     "output_type": "stream",
     "text": [
      "  Installing build dependencies ... \u001b[?25l-"
     ]
    },
    {
     "name": "stdout",
     "output_type": "stream",
     "text": [
      "\b \b\\"
     ]
    },
    {
     "name": "stdout",
     "output_type": "stream",
     "text": [
      "\b \b|"
     ]
    },
    {
     "name": "stdout",
     "output_type": "stream",
     "text": [
      "\b \b/"
     ]
    },
    {
     "name": "stdout",
     "output_type": "stream",
     "text": [
      "\b \b-"
     ]
    },
    {
     "name": "stdout",
     "output_type": "stream",
     "text": [
      "\b \b\\"
     ]
    },
    {
     "name": "stdout",
     "output_type": "stream",
     "text": [
      "\b \b|"
     ]
    },
    {
     "name": "stdout",
     "output_type": "stream",
     "text": [
      "\b \b/"
     ]
    },
    {
     "name": "stdout",
     "output_type": "stream",
     "text": [
      "\b \b-"
     ]
    },
    {
     "name": "stdout",
     "output_type": "stream",
     "text": [
      "\b \b\\"
     ]
    },
    {
     "name": "stdout",
     "output_type": "stream",
     "text": [
      "\b \b|"
     ]
    },
    {
     "name": "stdout",
     "output_type": "stream",
     "text": [
      "\b \b/"
     ]
    },
    {
     "name": "stdout",
     "output_type": "stream",
     "text": [
      "\b \b-"
     ]
    },
    {
     "name": "stdout",
     "output_type": "stream",
     "text": [
      "\b \b\\"
     ]
    },
    {
     "name": "stdout",
     "output_type": "stream",
     "text": [
      "\b \b|"
     ]
    },
    {
     "name": "stdout",
     "output_type": "stream",
     "text": [
      "\b \b/"
     ]
    },
    {
     "name": "stdout",
     "output_type": "stream",
     "text": [
      "\b \b-"
     ]
    },
    {
     "name": "stdout",
     "output_type": "stream",
     "text": [
      "\b \b\\"
     ]
    },
    {
     "name": "stdout",
     "output_type": "stream",
     "text": [
      "\b \b|"
     ]
    },
    {
     "name": "stdout",
     "output_type": "stream",
     "text": [
      "\b \b/"
     ]
    },
    {
     "name": "stdout",
     "output_type": "stream",
     "text": [
      "\b \b-"
     ]
    },
    {
     "name": "stdout",
     "output_type": "stream",
     "text": [
      "\b \b\\"
     ]
    },
    {
     "name": "stdout",
     "output_type": "stream",
     "text": [
      "\b \b|"
     ]
    },
    {
     "name": "stdout",
     "output_type": "stream",
     "text": [
      "\b \b/"
     ]
    },
    {
     "name": "stdout",
     "output_type": "stream",
     "text": [
      "\b \b-"
     ]
    },
    {
     "name": "stdout",
     "output_type": "stream",
     "text": [
      "\b \b\\"
     ]
    },
    {
     "name": "stdout",
     "output_type": "stream",
     "text": [
      "\b \b|"
     ]
    },
    {
     "name": "stdout",
     "output_type": "stream",
     "text": [
      "\b \b/"
     ]
    },
    {
     "name": "stdout",
     "output_type": "stream",
     "text": [
      "\b \b-"
     ]
    },
    {
     "name": "stdout",
     "output_type": "stream",
     "text": [
      "\b \b\\"
     ]
    },
    {
     "name": "stdout",
     "output_type": "stream",
     "text": [
      "\b \b|"
     ]
    },
    {
     "name": "stdout",
     "output_type": "stream",
     "text": [
      "\b \b/"
     ]
    },
    {
     "name": "stdout",
     "output_type": "stream",
     "text": [
      "\b \b-"
     ]
    },
    {
     "name": "stdout",
     "output_type": "stream",
     "text": [
      "\b \b\\"
     ]
    },
    {
     "name": "stdout",
     "output_type": "stream",
     "text": [
      "\b \b|"
     ]
    },
    {
     "name": "stdout",
     "output_type": "stream",
     "text": [
      "\b \b/"
     ]
    },
    {
     "name": "stdout",
     "output_type": "stream",
     "text": [
      "\b \b-"
     ]
    },
    {
     "name": "stdout",
     "output_type": "stream",
     "text": [
      "\b \b\\"
     ]
    },
    {
     "name": "stdout",
     "output_type": "stream",
     "text": [
      "\b \b|"
     ]
    },
    {
     "name": "stdout",
     "output_type": "stream",
     "text": [
      "\b \b/"
     ]
    },
    {
     "name": "stdout",
     "output_type": "stream",
     "text": [
      "\b \b-"
     ]
    },
    {
     "name": "stdout",
     "output_type": "stream",
     "text": [
      "\b \b\\"
     ]
    },
    {
     "name": "stdout",
     "output_type": "stream",
     "text": [
      "\b \b|"
     ]
    },
    {
     "name": "stdout",
     "output_type": "stream",
     "text": [
      "\b \b/"
     ]
    },
    {
     "name": "stdout",
     "output_type": "stream",
     "text": [
      "\b \b-"
     ]
    },
    {
     "name": "stdout",
     "output_type": "stream",
     "text": [
      "\b \b\\"
     ]
    },
    {
     "name": "stdout",
     "output_type": "stream",
     "text": [
      "\b \b|"
     ]
    },
    {
     "name": "stdout",
     "output_type": "stream",
     "text": [
      "\b \b/"
     ]
    },
    {
     "name": "stdout",
     "output_type": "stream",
     "text": [
      "\b \b-"
     ]
    },
    {
     "name": "stdout",
     "output_type": "stream",
     "text": [
      "\b \b\\"
     ]
    },
    {
     "name": "stdout",
     "output_type": "stream",
     "text": [
      "\b \b|"
     ]
    },
    {
     "name": "stdout",
     "output_type": "stream",
     "text": [
      "\b \b/"
     ]
    },
    {
     "name": "stdout",
     "output_type": "stream",
     "text": [
      "\b \b-"
     ]
    },
    {
     "name": "stdout",
     "output_type": "stream",
     "text": [
      "\b \b\\"
     ]
    },
    {
     "name": "stdout",
     "output_type": "stream",
     "text": [
      "\b \b|"
     ]
    },
    {
     "name": "stdout",
     "output_type": "stream",
     "text": [
      "\b \b/"
     ]
    },
    {
     "name": "stdout",
     "output_type": "stream",
     "text": [
      "\b \b-"
     ]
    },
    {
     "name": "stdout",
     "output_type": "stream",
     "text": [
      "\b \b\\"
     ]
    },
    {
     "name": "stdout",
     "output_type": "stream",
     "text": [
      "\b \b|"
     ]
    },
    {
     "name": "stdout",
     "output_type": "stream",
     "text": [
      "\b \b/"
     ]
    },
    {
     "name": "stdout",
     "output_type": "stream",
     "text": [
      "\b \b-"
     ]
    },
    {
     "name": "stdout",
     "output_type": "stream",
     "text": [
      "\b \b\\"
     ]
    },
    {
     "name": "stdout",
     "output_type": "stream",
     "text": [
      "\b \b|"
     ]
    },
    {
     "name": "stdout",
     "output_type": "stream",
     "text": [
      "\b \b/"
     ]
    },
    {
     "name": "stdout",
     "output_type": "stream",
     "text": [
      "\b \b-"
     ]
    },
    {
     "name": "stdout",
     "output_type": "stream",
     "text": [
      "\b \b\\"
     ]
    },
    {
     "name": "stdout",
     "output_type": "stream",
     "text": [
      "\b \b|"
     ]
    },
    {
     "name": "stdout",
     "output_type": "stream",
     "text": [
      "\b \b/"
     ]
    },
    {
     "name": "stdout",
     "output_type": "stream",
     "text": [
      "\b \b-"
     ]
    },
    {
     "name": "stdout",
     "output_type": "stream",
     "text": [
      "\b \b\\"
     ]
    },
    {
     "name": "stdout",
     "output_type": "stream",
     "text": [
      "\b \b|"
     ]
    },
    {
     "name": "stdout",
     "output_type": "stream",
     "text": [
      "\b \b/"
     ]
    },
    {
     "name": "stdout",
     "output_type": "stream",
     "text": [
      "\b \b-"
     ]
    },
    {
     "name": "stdout",
     "output_type": "stream",
     "text": [
      "\b \b\\"
     ]
    },
    {
     "name": "stdout",
     "output_type": "stream",
     "text": [
      "\b \b|"
     ]
    },
    {
     "name": "stdout",
     "output_type": "stream",
     "text": [
      "\b \b/"
     ]
    },
    {
     "name": "stdout",
     "output_type": "stream",
     "text": [
      "\b \b-"
     ]
    },
    {
     "name": "stdout",
     "output_type": "stream",
     "text": [
      "\b \b\\"
     ]
    },
    {
     "name": "stdout",
     "output_type": "stream",
     "text": [
      "\b \b|"
     ]
    },
    {
     "name": "stdout",
     "output_type": "stream",
     "text": [
      "\b \b/"
     ]
    },
    {
     "name": "stdout",
     "output_type": "stream",
     "text": [
      "\b \b-"
     ]
    },
    {
     "name": "stdout",
     "output_type": "stream",
     "text": [
      "\b \b\\"
     ]
    },
    {
     "name": "stdout",
     "output_type": "stream",
     "text": [
      "\b \b|"
     ]
    },
    {
     "name": "stdout",
     "output_type": "stream",
     "text": [
      "\b \b/"
     ]
    },
    {
     "name": "stdout",
     "output_type": "stream",
     "text": [
      "\b \b-"
     ]
    },
    {
     "name": "stdout",
     "output_type": "stream",
     "text": [
      "\b \b\\"
     ]
    },
    {
     "name": "stdout",
     "output_type": "stream",
     "text": [
      "\b \b|"
     ]
    },
    {
     "name": "stdout",
     "output_type": "stream",
     "text": [
      "\b \b/"
     ]
    },
    {
     "name": "stdout",
     "output_type": "stream",
     "text": [
      "\b \b-"
     ]
    },
    {
     "name": "stdout",
     "output_type": "stream",
     "text": [
      "^C\r\n",
      "\u001b[?25h\b \bcanceled\r\n",
      "\u001b[31mERROR: Operation cancelled by user\u001b[0m\u001b[31m\r\n",
      "\u001b[0m"
     ]
    },
    {
     "name": "stdout",
     "output_type": "stream",
     "text": [
      "Collecting dash\r\n"
     ]
    },
    {
     "name": "stdout",
     "output_type": "stream",
     "text": [
      "  Downloading dash-2.15.0-py3-none-any.whl.metadata (11 kB)\r\n"
     ]
    }
   ],
   "source": [
    "!pip install mp-api==0.40.0\n",
    "!pip install mpcontribs-client\n",
    "!pip install crystal-toolkit --upgrade\n",
    "!pip install dash\n"
   ]
  },
  {
   "cell_type": "code",
   "execution_count": 8,
   "id": "43bdf945",
   "metadata": {},
   "outputs": [
    {
     "name": "stdout",
     "output_type": "stream",
     "text": [
      "Defaulting to user installation because normal site-packages is not writeable\n",
      "Requirement already satisfied: ipywidgets in c:\\users\\roste\\appdata\\roaming\\python\\python39\\site-packages (8.1.2)\n",
      "Requirement already satisfied: comm>=0.1.3 in c:\\users\\roste\\appdata\\roaming\\python\\python39\\site-packages (from ipywidgets) (0.2.0)\n",
      "Requirement already satisfied: ipython>=6.1.0 in c:\\users\\roste\\appdata\\roaming\\python\\python39\\site-packages (from ipywidgets) (8.18.1)\n",
      "Requirement already satisfied: traitlets>=4.3.1 in c:\\users\\roste\\appdata\\roaming\\python\\python39\\site-packages (from ipywidgets) (5.14.0)\n",
      "Requirement already satisfied: widgetsnbextension~=4.0.10 in c:\\users\\roste\\appdata\\roaming\\python\\python39\\site-packages (from ipywidgets) (4.0.10)\n",
      "Requirement already satisfied: jupyterlab-widgets~=3.0.10 in c:\\users\\roste\\appdata\\roaming\\python\\python39\\site-packages (from ipywidgets) (3.0.10)\n",
      "Requirement already satisfied: decorator in c:\\users\\roste\\appdata\\roaming\\python\\python39\\site-packages (from ipython>=6.1.0->ipywidgets) (5.1.1)\n",
      "Requirement already satisfied: jedi>=0.16 in c:\\users\\roste\\appdata\\roaming\\python\\python39\\site-packages (from ipython>=6.1.0->ipywidgets) (0.19.1)\n",
      "Requirement already satisfied: matplotlib-inline in c:\\users\\roste\\appdata\\roaming\\python\\python39\\site-packages (from ipython>=6.1.0->ipywidgets) (0.1.6)\n",
      "Requirement already satisfied: prompt-toolkit<3.1.0,>=3.0.41 in c:\\users\\roste\\appdata\\roaming\\python\\python39\\site-packages (from ipython>=6.1.0->ipywidgets) (3.0.41)\n",
      "Requirement already satisfied: pygments>=2.4.0 in c:\\users\\roste\\appdata\\roaming\\python\\python39\\site-packages (from ipython>=6.1.0->ipywidgets) (2.17.2)\n",
      "Requirement already satisfied: stack-data in c:\\users\\roste\\appdata\\roaming\\python\\python39\\site-packages (from ipython>=6.1.0->ipywidgets) (0.6.3)\n",
      "Requirement already satisfied: typing-extensions in c:\\users\\roste\\appdata\\roaming\\python\\python39\\site-packages (from ipython>=6.1.0->ipywidgets) (4.8.0)\n",
      "Requirement already satisfied: exceptiongroup in c:\\users\\roste\\appdata\\roaming\\python\\python39\\site-packages (from ipython>=6.1.0->ipywidgets) (1.2.0)\n",
      "Requirement already satisfied: colorama in c:\\users\\roste\\appdata\\roaming\\python\\python39\\site-packages (from ipython>=6.1.0->ipywidgets) (0.4.6)\n",
      "Requirement already satisfied: parso<0.9.0,>=0.8.3 in c:\\users\\roste\\appdata\\roaming\\python\\python39\\site-packages (from jedi>=0.16->ipython>=6.1.0->ipywidgets) (0.8.3)\n",
      "Requirement already satisfied: wcwidth in c:\\users\\roste\\appdata\\roaming\\python\\python39\\site-packages (from prompt-toolkit<3.1.0,>=3.0.41->ipython>=6.1.0->ipywidgets) (0.2.12)\n",
      "Requirement already satisfied: executing>=1.2.0 in c:\\users\\roste\\appdata\\roaming\\python\\python39\\site-packages (from stack-data->ipython>=6.1.0->ipywidgets) (2.0.1)\n",
      "Requirement already satisfied: asttokens>=2.1.0 in c:\\users\\roste\\appdata\\roaming\\python\\python39\\site-packages (from stack-data->ipython>=6.1.0->ipywidgets) (2.4.1)\n",
      "Requirement already satisfied: pure-eval in c:\\users\\roste\\appdata\\roaming\\python\\python39\\site-packages (from stack-data->ipython>=6.1.0->ipywidgets) (0.2.2)\n",
      "Requirement already satisfied: six>=1.12.0 in c:\\users\\roste\\appdata\\roaming\\python\\python39\\site-packages (from asttokens>=2.1.0->stack-data->ipython>=6.1.0->ipywidgets) (1.16.0)\n",
      "Defaulting to user installation because normal site-packages is not writeable\n",
      "Collecting nglview\n",
      "  Using cached nglview-3.1.1-py3-none-any.whl\n",
      "Requirement already satisfied: ipywidgets>=8 in c:\\users\\roste\\appdata\\roaming\\python\\python39\\site-packages (from nglview) (8.1.2)\n",
      "Collecting notebook>=7 (from nglview)\n",
      "  Downloading notebook-7.1.0-py3-none-any.whl.metadata (10 kB)\n",
      "Requirement already satisfied: jupyterlab-widgets in c:\\users\\roste\\appdata\\roaming\\python\\python39\\site-packages (from nglview) (3.0.10)\n",
      "Requirement already satisfied: numpy in c:\\users\\roste\\appdata\\roaming\\python\\python39\\site-packages (from nglview) (1.26.4)\n",
      "Requirement already satisfied: comm>=0.1.3 in c:\\users\\roste\\appdata\\roaming\\python\\python39\\site-packages (from ipywidgets>=8->nglview) (0.2.0)\n",
      "Requirement already satisfied: ipython>=6.1.0 in c:\\users\\roste\\appdata\\roaming\\python\\python39\\site-packages (from ipywidgets>=8->nglview) (8.18.1)\n",
      "Requirement already satisfied: traitlets>=4.3.1 in c:\\users\\roste\\appdata\\roaming\\python\\python39\\site-packages (from ipywidgets>=8->nglview) (5.14.0)\n",
      "Requirement already satisfied: widgetsnbextension~=4.0.10 in c:\\users\\roste\\appdata\\roaming\\python\\python39\\site-packages (from ipywidgets>=8->nglview) (4.0.10)\n",
      "Collecting jupyter-server<3,>=2.4.0 (from notebook>=7->nglview)\n",
      "  Using cached jupyter_server-2.12.5-py3-none-any.whl.metadata (8.4 kB)\n",
      "Collecting jupyterlab-server<3,>=2.22.1 (from notebook>=7->nglview)\n",
      "  Using cached jupyterlab_server-2.25.3-py3-none-any.whl.metadata (5.9 kB)\n",
      "Collecting jupyterlab<4.2,>=4.1.1 (from notebook>=7->nglview)\n",
      "  Downloading jupyterlab-4.1.1-py3-none-any.whl.metadata (15 kB)\n",
      "Collecting notebook-shim<0.3,>=0.2 (from notebook>=7->nglview)\n",
      "  Using cached notebook_shim-0.2.4-py3-none-any.whl.metadata (4.0 kB)\n",
      "Requirement already satisfied: tornado>=6.2.0 in c:\\users\\roste\\appdata\\roaming\\python\\python39\\site-packages (from notebook>=7->nglview) (6.4)\n",
      "Requirement already satisfied: decorator in c:\\users\\roste\\appdata\\roaming\\python\\python39\\site-packages (from ipython>=6.1.0->ipywidgets>=8->nglview) (5.1.1)\n",
      "Requirement already satisfied: jedi>=0.16 in c:\\users\\roste\\appdata\\roaming\\python\\python39\\site-packages (from ipython>=6.1.0->ipywidgets>=8->nglview) (0.19.1)\n",
      "Requirement already satisfied: matplotlib-inline in c:\\users\\roste\\appdata\\roaming\\python\\python39\\site-packages (from ipython>=6.1.0->ipywidgets>=8->nglview) (0.1.6)\n",
      "Requirement already satisfied: prompt-toolkit<3.1.0,>=3.0.41 in c:\\users\\roste\\appdata\\roaming\\python\\python39\\site-packages (from ipython>=6.1.0->ipywidgets>=8->nglview) (3.0.41)\n",
      "Requirement already satisfied: pygments>=2.4.0 in c:\\users\\roste\\appdata\\roaming\\python\\python39\\site-packages (from ipython>=6.1.0->ipywidgets>=8->nglview) (2.17.2)\n",
      "Requirement already satisfied: stack-data in c:\\users\\roste\\appdata\\roaming\\python\\python39\\site-packages (from ipython>=6.1.0->ipywidgets>=8->nglview) (0.6.3)\n",
      "Requirement already satisfied: typing-extensions in c:\\users\\roste\\appdata\\roaming\\python\\python39\\site-packages (from ipython>=6.1.0->ipywidgets>=8->nglview) (4.8.0)\n",
      "Requirement already satisfied: exceptiongroup in c:\\users\\roste\\appdata\\roaming\\python\\python39\\site-packages (from ipython>=6.1.0->ipywidgets>=8->nglview) (1.2.0)\n",
      "Requirement already satisfied: colorama in c:\\users\\roste\\appdata\\roaming\\python\\python39\\site-packages (from ipython>=6.1.0->ipywidgets>=8->nglview) (0.4.6)\n",
      "Requirement already satisfied: anyio>=3.1.0 in c:\\users\\roste\\appdata\\roaming\\python\\python39\\site-packages (from jupyter-server<3,>=2.4.0->notebook>=7->nglview) (4.3.0)\n",
      "Collecting argon2-cffi (from jupyter-server<3,>=2.4.0->notebook>=7->nglview)\n",
      "  Using cached argon2_cffi-23.1.0-py3-none-any.whl.metadata (5.2 kB)\n",
      "Requirement already satisfied: jinja2 in c:\\users\\roste\\appdata\\roaming\\python\\python39\\site-packages (from jupyter-server<3,>=2.4.0->notebook>=7->nglview) (3.1.3)\n",
      "Requirement already satisfied: jupyter-client>=7.4.4 in c:\\users\\roste\\appdata\\roaming\\python\\python39\\site-packages (from jupyter-server<3,>=2.4.0->notebook>=7->nglview) (8.6.0)\n",
      "Requirement already satisfied: jupyter-core!=5.0.*,>=4.12 in c:\\users\\roste\\appdata\\roaming\\python\\python39\\site-packages (from jupyter-server<3,>=2.4.0->notebook>=7->nglview) (5.5.0)\n",
      "Collecting jupyter-events>=0.9.0 (from jupyter-server<3,>=2.4.0->notebook>=7->nglview)\n",
      "  Using cached jupyter_events-0.9.0-py3-none-any.whl.metadata (5.7 kB)\n",
      "Collecting jupyter-server-terminals (from jupyter-server<3,>=2.4.0->notebook>=7->nglview)\n",
      "  Using cached jupyter_server_terminals-0.5.2-py3-none-any.whl.metadata (5.6 kB)\n",
      "Collecting nbconvert>=6.4.4 (from jupyter-server<3,>=2.4.0->notebook>=7->nglview)\n",
      "  Using cached nbconvert-7.16.1-py3-none-any.whl.metadata (8.0 kB)\n",
      "Collecting nbformat>=5.3.0 (from jupyter-server<3,>=2.4.0->notebook>=7->nglview)\n",
      "  Using cached nbformat-5.9.2-py3-none-any.whl.metadata (3.4 kB)\n",
      "Collecting overrides (from jupyter-server<3,>=2.4.0->notebook>=7->nglview)\n",
      "  Using cached overrides-7.7.0-py3-none-any.whl.metadata (5.8 kB)\n",
      "Requirement already satisfied: packaging in c:\\users\\roste\\appdata\\roaming\\python\\python39\\site-packages (from jupyter-server<3,>=2.4.0->notebook>=7->nglview) (23.2)\n",
      "Collecting prometheus-client (from jupyter-server<3,>=2.4.0->notebook>=7->nglview)\n",
      "  Using cached prometheus_client-0.20.0-py3-none-any.whl.metadata (1.8 kB)\n",
      "Collecting pywinpty (from jupyter-server<3,>=2.4.0->notebook>=7->nglview)\n",
      "  Using cached pywinpty-2.0.12-cp39-none-win_amd64.whl.metadata (5.2 kB)\n",
      "Requirement already satisfied: pyzmq>=24 in c:\\users\\roste\\appdata\\roaming\\python\\python39\\site-packages (from jupyter-server<3,>=2.4.0->notebook>=7->nglview) (25.1.2)\n",
      "Collecting send2trash>=1.8.2 (from jupyter-server<3,>=2.4.0->notebook>=7->nglview)\n",
      "  Using cached Send2Trash-1.8.2-py3-none-any.whl.metadata (4.0 kB)\n",
      "Collecting terminado>=0.8.3 (from jupyter-server<3,>=2.4.0->notebook>=7->nglview)\n",
      "  Using cached terminado-0.18.0-py3-none-any.whl.metadata (5.8 kB)\n",
      "Collecting websocket-client (from jupyter-server<3,>=2.4.0->notebook>=7->nglview)\n",
      "  Using cached websocket_client-1.7.0-py3-none-any.whl.metadata (7.9 kB)\n",
      "Collecting async-lru>=1.0.0 (from jupyterlab<4.2,>=4.1.1->notebook>=7->nglview)\n",
      "  Downloading async_lru-2.0.4-py3-none-any.whl.metadata (4.5 kB)\n",
      "Collecting httpx>=0.25.0 (from jupyterlab<4.2,>=4.1.1->notebook>=7->nglview)\n",
      "  Downloading httpx-0.26.0-py3-none-any.whl.metadata (7.6 kB)\n",
      "Requirement already satisfied: importlib-metadata>=4.8.3 in c:\\users\\roste\\appdata\\roaming\\python\\python39\\site-packages (from jupyterlab<4.2,>=4.1.1->notebook>=7->nglview) (7.0.0)\n",
      "Requirement already satisfied: ipykernel in c:\\users\\roste\\appdata\\roaming\\python\\python39\\site-packages (from jupyterlab<4.2,>=4.1.1->notebook>=7->nglview) (6.27.1)\n",
      "Collecting jupyter-lsp>=2.0.0 (from jupyterlab<4.2,>=4.1.1->notebook>=7->nglview)\n",
      "  Downloading jupyter_lsp-2.2.2-py3-none-any.whl.metadata (1.8 kB)\n",
      "Collecting tomli (from jupyterlab<4.2,>=4.1.1->notebook>=7->nglview)\n",
      "  Using cached tomli-2.0.1-py3-none-any.whl (12 kB)\n",
      "Collecting babel>=2.10 (from jupyterlab-server<3,>=2.22.1->notebook>=7->nglview)\n",
      "  Using cached Babel-2.14.0-py3-none-any.whl.metadata (1.6 kB)\n",
      "Collecting json5>=0.9.0 (from jupyterlab-server<3,>=2.22.1->notebook>=7->nglview)\n",
      "  Using cached json5-0.9.14-py2.py3-none-any.whl.metadata (10 kB)\n",
      "Requirement already satisfied: jsonschema>=4.18.0 in c:\\users\\roste\\appdata\\roaming\\python\\python39\\site-packages (from jupyterlab-server<3,>=2.22.1->notebook>=7->nglview) (4.21.1)\n",
      "Requirement already satisfied: requests>=2.31 in c:\\users\\roste\\appdata\\roaming\\python\\python39\\site-packages (from jupyterlab-server<3,>=2.22.1->notebook>=7->nglview) (2.31.0)\n",
      "Requirement already satisfied: idna>=2.8 in c:\\users\\roste\\appdata\\roaming\\python\\python39\\site-packages (from anyio>=3.1.0->jupyter-server<3,>=2.4.0->notebook>=7->nglview) (3.6)\n",
      "Requirement already satisfied: sniffio>=1.1 in c:\\users\\roste\\appdata\\roaming\\python\\python39\\site-packages (from anyio>=3.1.0->jupyter-server<3,>=2.4.0->notebook>=7->nglview) (1.3.0)\n",
      "Requirement already satisfied: certifi in c:\\users\\roste\\appdata\\roaming\\python\\python39\\site-packages (from httpx>=0.25.0->jupyterlab<4.2,>=4.1.1->notebook>=7->nglview) (2024.2.2)\n",
      "Collecting httpcore==1.* (from httpx>=0.25.0->jupyterlab<4.2,>=4.1.1->notebook>=7->nglview)\n",
      "  Downloading httpcore-1.0.3-py3-none-any.whl.metadata (20 kB)\n",
      "Requirement already satisfied: h11<0.15,>=0.13 in c:\\users\\roste\\appdata\\roaming\\python\\python39\\site-packages (from httpcore==1.*->httpx>=0.25.0->jupyterlab<4.2,>=4.1.1->notebook>=7->nglview) (0.14.0)\n",
      "Requirement already satisfied: zipp>=0.5 in c:\\users\\roste\\appdata\\roaming\\python\\python39\\site-packages (from importlib-metadata>=4.8.3->jupyterlab<4.2,>=4.1.1->notebook>=7->nglview) (3.17.0)\n",
      "Requirement already satisfied: parso<0.9.0,>=0.8.3 in c:\\users\\roste\\appdata\\roaming\\python\\python39\\site-packages (from jedi>=0.16->ipython>=6.1.0->ipywidgets>=8->nglview) (0.8.3)\n",
      "Requirement already satisfied: MarkupSafe>=2.0 in c:\\users\\roste\\appdata\\roaming\\python\\python39\\site-packages (from jinja2->jupyter-server<3,>=2.4.0->notebook>=7->nglview) (2.1.5)\n",
      "Requirement already satisfied: attrs>=22.2.0 in c:\\users\\roste\\appdata\\roaming\\python\\python39\\site-packages (from jsonschema>=4.18.0->jupyterlab-server<3,>=2.22.1->notebook>=7->nglview) (23.2.0)\n",
      "Requirement already satisfied: jsonschema-specifications>=2023.03.6 in c:\\users\\roste\\appdata\\roaming\\python\\python39\\site-packages (from jsonschema>=4.18.0->jupyterlab-server<3,>=2.22.1->notebook>=7->nglview) (2023.12.1)\n",
      "Requirement already satisfied: referencing>=0.28.4 in c:\\users\\roste\\appdata\\roaming\\python\\python39\\site-packages (from jsonschema>=4.18.0->jupyterlab-server<3,>=2.22.1->notebook>=7->nglview) (0.33.0)\n",
      "Requirement already satisfied: rpds-py>=0.7.1 in c:\\users\\roste\\appdata\\roaming\\python\\python39\\site-packages (from jsonschema>=4.18.0->jupyterlab-server<3,>=2.22.1->notebook>=7->nglview) (0.18.0)\n",
      "Requirement already satisfied: python-dateutil>=2.8.2 in c:\\users\\roste\\appdata\\roaming\\python\\python39\\site-packages (from jupyter-client>=7.4.4->jupyter-server<3,>=2.4.0->notebook>=7->nglview) (2.8.2)\n",
      "Requirement already satisfied: platformdirs>=2.5 in c:\\users\\roste\\appdata\\roaming\\python\\python39\\site-packages (from jupyter-core!=5.0.*,>=4.12->jupyter-server<3,>=2.4.0->notebook>=7->nglview) (4.1.0)\n",
      "Requirement already satisfied: pywin32>=300 in c:\\users\\roste\\appdata\\roaming\\python\\python39\\site-packages (from jupyter-core!=5.0.*,>=4.12->jupyter-server<3,>=2.4.0->notebook>=7->nglview) (306)\n",
      "Collecting python-json-logger>=2.0.4 (from jupyter-events>=0.9.0->jupyter-server<3,>=2.4.0->notebook>=7->nglview)\n",
      "  Using cached python_json_logger-2.0.7-py3-none-any.whl.metadata (6.5 kB)\n",
      "Requirement already satisfied: pyyaml>=5.3 in c:\\users\\roste\\appdata\\roaming\\python\\python39\\site-packages (from jupyter-events>=0.9.0->jupyter-server<3,>=2.4.0->notebook>=7->nglview) (6.0.1)\n",
      "Requirement already satisfied: rfc3339-validator in c:\\users\\roste\\appdata\\roaming\\python\\python39\\site-packages (from jupyter-events>=0.9.0->jupyter-server<3,>=2.4.0->notebook>=7->nglview) (0.1.4)\n",
      "Requirement already satisfied: rfc3986-validator>=0.1.1 in c:\\users\\roste\\appdata\\roaming\\python\\python39\\site-packages (from jupyter-events>=0.9.0->jupyter-server<3,>=2.4.0->notebook>=7->nglview) (0.1.1)\n",
      "Collecting beautifulsoup4 (from nbconvert>=6.4.4->jupyter-server<3,>=2.4.0->notebook>=7->nglview)\n",
      "  Using cached beautifulsoup4-4.12.3-py3-none-any.whl.metadata (3.8 kB)\n",
      "Collecting bleach!=5.0.0 (from nbconvert>=6.4.4->jupyter-server<3,>=2.4.0->notebook>=7->nglview)\n",
      "  Using cached bleach-6.1.0-py3-none-any.whl.metadata (30 kB)\n",
      "Collecting defusedxml (from nbconvert>=6.4.4->jupyter-server<3,>=2.4.0->notebook>=7->nglview)\n",
      "  Using cached defusedxml-0.7.1-py2.py3-none-any.whl (25 kB)\n",
      "Collecting jupyterlab-pygments (from nbconvert>=6.4.4->jupyter-server<3,>=2.4.0->notebook>=7->nglview)\n",
      "  Using cached jupyterlab_pygments-0.3.0-py3-none-any.whl.metadata (4.4 kB)\n",
      "Collecting mistune<4,>=2.0.3 (from nbconvert>=6.4.4->jupyter-server<3,>=2.4.0->notebook>=7->nglview)\n",
      "  Using cached mistune-3.0.2-py3-none-any.whl.metadata (1.7 kB)\n",
      "Collecting nbclient>=0.5.0 (from nbconvert>=6.4.4->jupyter-server<3,>=2.4.0->notebook>=7->nglview)\n",
      "  Using cached nbclient-0.9.0-py3-none-any.whl.metadata (7.8 kB)\n",
      "Collecting pandocfilters>=1.4.1 (from nbconvert>=6.4.4->jupyter-server<3,>=2.4.0->notebook>=7->nglview)\n",
      "  Using cached pandocfilters-1.5.1-py2.py3-none-any.whl.metadata (9.0 kB)\n",
      "Collecting tinycss2 (from nbconvert>=6.4.4->jupyter-server<3,>=2.4.0->notebook>=7->nglview)\n",
      "  Using cached tinycss2-1.2.1-py3-none-any.whl (21 kB)\n",
      "Collecting fastjsonschema (from nbformat>=5.3.0->jupyter-server<3,>=2.4.0->notebook>=7->nglview)\n",
      "  Using cached fastjsonschema-2.19.1-py3-none-any.whl.metadata (2.1 kB)\n",
      "Requirement already satisfied: wcwidth in c:\\users\\roste\\appdata\\roaming\\python\\python39\\site-packages (from prompt-toolkit<3.1.0,>=3.0.41->ipython>=6.1.0->ipywidgets>=8->nglview) (0.2.12)\n",
      "Requirement already satisfied: charset-normalizer<4,>=2 in c:\\users\\roste\\appdata\\roaming\\python\\python39\\site-packages (from requests>=2.31->jupyterlab-server<3,>=2.22.1->notebook>=7->nglview) (3.3.2)\n",
      "Requirement already satisfied: urllib3<3,>=1.21.1 in c:\\users\\roste\\appdata\\roaming\\python\\python39\\site-packages (from requests>=2.31->jupyterlab-server<3,>=2.22.1->notebook>=7->nglview) (1.26.18)\n",
      "Collecting argon2-cffi-bindings (from argon2-cffi->jupyter-server<3,>=2.4.0->notebook>=7->nglview)\n",
      "  Using cached argon2_cffi_bindings-21.2.0-cp36-abi3-win_amd64.whl (30 kB)\n",
      "Requirement already satisfied: debugpy>=1.6.5 in c:\\users\\roste\\appdata\\roaming\\python\\python39\\site-packages (from ipykernel->jupyterlab<4.2,>=4.1.1->notebook>=7->nglview) (1.8.0)\n",
      "Requirement already satisfied: nest-asyncio in c:\\users\\roste\\appdata\\roaming\\python\\python39\\site-packages (from ipykernel->jupyterlab<4.2,>=4.1.1->notebook>=7->nglview) (1.5.8)\n",
      "Requirement already satisfied: psutil in c:\\users\\roste\\appdata\\roaming\\python\\python39\\site-packages (from ipykernel->jupyterlab<4.2,>=4.1.1->notebook>=7->nglview) (5.9.6)\n",
      "Requirement already satisfied: executing>=1.2.0 in c:\\users\\roste\\appdata\\roaming\\python\\python39\\site-packages (from stack-data->ipython>=6.1.0->ipywidgets>=8->nglview) (2.0.1)\n",
      "Requirement already satisfied: asttokens>=2.1.0 in c:\\users\\roste\\appdata\\roaming\\python\\python39\\site-packages (from stack-data->ipython>=6.1.0->ipywidgets>=8->nglview) (2.4.1)\n",
      "Requirement already satisfied: pure-eval in c:\\users\\roste\\appdata\\roaming\\python\\python39\\site-packages (from stack-data->ipython>=6.1.0->ipywidgets>=8->nglview) (0.2.2)\n",
      "Requirement already satisfied: six>=1.12.0 in c:\\users\\roste\\appdata\\roaming\\python\\python39\\site-packages (from asttokens>=2.1.0->stack-data->ipython>=6.1.0->ipywidgets>=8->nglview) (1.16.0)\n",
      "Collecting webencodings (from bleach!=5.0.0->nbconvert>=6.4.4->jupyter-server<3,>=2.4.0->notebook>=7->nglview)\n",
      "  Using cached webencodings-0.5.1-py2.py3-none-any.whl (11 kB)\n",
      "Requirement already satisfied: fqdn in c:\\users\\roste\\appdata\\roaming\\python\\python39\\site-packages (from jsonschema[format-nongpl]>=4.18.0->jupyter-events>=0.9.0->jupyter-server<3,>=2.4.0->notebook>=7->nglview) (1.5.1)\n",
      "Requirement already satisfied: isoduration in c:\\users\\roste\\appdata\\roaming\\python\\python39\\site-packages (from jsonschema[format-nongpl]>=4.18.0->jupyter-events>=0.9.0->jupyter-server<3,>=2.4.0->notebook>=7->nglview) (20.11.0)\n",
      "Requirement already satisfied: jsonpointer>1.13 in c:\\users\\roste\\appdata\\roaming\\python\\python39\\site-packages (from jsonschema[format-nongpl]>=4.18.0->jupyter-events>=0.9.0->jupyter-server<3,>=2.4.0->notebook>=7->nglview) (2.4)\n",
      "Requirement already satisfied: uri-template in c:\\users\\roste\\appdata\\roaming\\python\\python39\\site-packages (from jsonschema[format-nongpl]>=4.18.0->jupyter-events>=0.9.0->jupyter-server<3,>=2.4.0->notebook>=7->nglview) (1.3.0)\n",
      "Requirement already satisfied: webcolors>=1.11 in c:\\users\\roste\\appdata\\roaming\\python\\python39\\site-packages (from jsonschema[format-nongpl]>=4.18.0->jupyter-events>=0.9.0->jupyter-server<3,>=2.4.0->notebook>=7->nglview) (1.13)\n",
      "Requirement already satisfied: cffi>=1.0.1 in c:\\users\\roste\\appdata\\roaming\\python\\python39\\site-packages (from argon2-cffi-bindings->argon2-cffi->jupyter-server<3,>=2.4.0->notebook>=7->nglview) (1.16.0)\n",
      "Collecting soupsieve>1.2 (from beautifulsoup4->nbconvert>=6.4.4->jupyter-server<3,>=2.4.0->notebook>=7->nglview)\n",
      "  Using cached soupsieve-2.5-py3-none-any.whl.metadata (4.7 kB)\n",
      "Requirement already satisfied: pycparser in c:\\users\\roste\\appdata\\roaming\\python\\python39\\site-packages (from cffi>=1.0.1->argon2-cffi-bindings->argon2-cffi->jupyter-server<3,>=2.4.0->notebook>=7->nglview) (2.21)\n",
      "Requirement already satisfied: arrow>=0.15.0 in c:\\users\\roste\\appdata\\roaming\\python\\python39\\site-packages (from isoduration->jsonschema[format-nongpl]>=4.18.0->jupyter-events>=0.9.0->jupyter-server<3,>=2.4.0->notebook>=7->nglview) (1.3.0)\n",
      "Requirement already satisfied: types-python-dateutil>=2.8.10 in c:\\users\\roste\\appdata\\roaming\\python\\python39\\site-packages (from arrow>=0.15.0->isoduration->jsonschema[format-nongpl]>=4.18.0->jupyter-events>=0.9.0->jupyter-server<3,>=2.4.0->notebook>=7->nglview) (2.8.19.20240106)\n",
      "Downloading notebook-7.1.0-py3-none-any.whl (5.0 MB)\n",
      "   ---------------------------------------- 0.0/5.0 MB ? eta -:--:--\n",
      "   ---------------------------------------- 0.0/5.0 MB 1.4 MB/s eta 0:00:04\n",
      "   ---------------------------------------- 0.1/5.0 MB 825.8 kB/s eta 0:00:06\n",
      "    --------------------------------------- 0.1/5.0 MB 880.9 kB/s eta 0:00:06\n",
      "    --------------------------------------- 0.1/5.0 MB 880.9 kB/s eta 0:00:06\n",
      "    --------------------------------------- 0.1/5.0 MB 602.4 kB/s eta 0:00:09\n",
      "   - -------------------------------------- 0.2/5.0 MB 831.5 kB/s eta 0:00:06\n",
      "   -- ------------------------------------- 0.3/5.0 MB 927.4 kB/s eta 0:00:06\n",
      "   -- ------------------------------------- 0.3/5.0 MB 927.4 kB/s eta 0:00:06\n",
      "   -- ------------------------------------- 0.3/5.0 MB 912.8 kB/s eta 0:00:06\n",
      "   --- ------------------------------------ 0.4/5.0 MB 958.4 kB/s eta 0:00:05\n",
      "   --- ------------------------------------ 0.4/5.0 MB 913.9 kB/s eta 0:00:06\n",
      "   --- ------------------------------------ 0.5/5.0 MB 880.6 kB/s eta 0:00:06\n",
      "   --- ------------------------------------ 0.5/5.0 MB 874.9 kB/s eta 0:00:06\n",
      "   --- ------------------------------------ 0.5/5.0 MB 874.9 kB/s eta 0:00:06\n",
      "   --- ------------------------------------ 0.5/5.0 MB 874.9 kB/s eta 0:00:06\n",
      "   --- ------------------------------------ 0.5/5.0 MB 874.9 kB/s eta 0:00:06\n",
      "   --- ------------------------------------ 0.5/5.0 MB 874.9 kB/s eta 0:00:06\n",
      "   --- ------------------------------------ 0.5/5.0 MB 874.9 kB/s eta 0:00:06\n",
      "   --- ------------------------------------ 0.5/5.0 MB 604.6 kB/s eta 0:00:08\n",
      "   ---- ----------------------------------- 0.5/5.0 MB 606.0 kB/s eta 0:00:08\n",
      "   ---- ----------------------------------- 0.5/5.0 MB 606.0 kB/s eta 0:00:08\n",
      "   ---- ----------------------------------- 0.6/5.0 MB 600.4 kB/s eta 0:00:08\n",
      "   ---- ----------------------------------- 0.6/5.0 MB 612.5 kB/s eta 0:00:08\n",
      "   ----- ---------------------------------- 0.6/5.0 MB 634.9 kB/s eta 0:00:07\n",
      "   ----- ---------------------------------- 0.7/5.0 MB 616.7 kB/s eta 0:00:08\n",
      "   ----- ---------------------------------- 0.7/5.0 MB 590.9 kB/s eta 0:00:08\n",
      "   ----- ---------------------------------- 0.7/5.0 MB 628.9 kB/s eta 0:00:07\n",
      "   ----- ---------------------------------- 0.7/5.0 MB 628.9 kB/s eta 0:00:07\n",
      "   ------ --------------------------------- 0.8/5.0 MB 622.6 kB/s eta 0:00:07\n",
      "   ------ --------------------------------- 0.8/5.0 MB 622.6 kB/s eta 0:00:07\n",
      "   ------ --------------------------------- 0.8/5.0 MB 622.6 kB/s eta 0:00:07\n",
      "   ------ --------------------------------- 0.8/5.0 MB 622.6 kB/s eta 0:00:07\n",
      "   ------ --------------------------------- 0.8/5.0 MB 622.6 kB/s eta 0:00:07\n",
      "   ------- -------------------------------- 0.9/5.0 MB 607.2 kB/s eta 0:00:07\n",
      "   ------- -------------------------------- 0.9/5.0 MB 595.3 kB/s eta 0:00:07\n",
      "   ------- -------------------------------- 1.0/5.0 MB 623.0 kB/s eta 0:00:07\n",
      "   -------- ------------------------------- 1.0/5.0 MB 629.5 kB/s eta 0:00:07\n",
      "   -------- ------------------------------- 1.1/5.0 MB 637.3 kB/s eta 0:00:07\n",
      "   -------- ------------------------------- 1.1/5.0 MB 631.4 kB/s eta 0:00:07\n",
      "   --------- ------------------------------ 1.1/5.0 MB 643.7 kB/s eta 0:00:06\n",
      "   --------- ------------------------------ 1.2/5.0 MB 667.2 kB/s eta 0:00:06\n",
      "   --------- ------------------------------ 1.2/5.0 MB 644.5 kB/s eta 0:00:06\n",
      "   ---------- ----------------------------- 1.3/5.0 MB 666.4 kB/s eta 0:00:06\n",
      "   ---------- ----------------------------- 1.3/5.0 MB 666.1 kB/s eta 0:00:06\n",
      "   ---------- ----------------------------- 1.3/5.0 MB 676.4 kB/s eta 0:00:06\n",
      "   ---------- ----------------------------- 1.3/5.0 MB 676.4 kB/s eta 0:00:06\n",
      "   ----------- ---------------------------- 1.4/5.0 MB 660.3 kB/s eta 0:00:06\n",
      "   ----------- ---------------------------- 1.4/5.0 MB 670.2 kB/s eta 0:00:06\n",
      "   ----------- ---------------------------- 1.4/5.0 MB 670.2 kB/s eta 0:00:06\n",
      "   ----------- ---------------------------- 1.4/5.0 MB 670.2 kB/s eta 0:00:06\n",
      "   ----------- ---------------------------- 1.5/5.0 MB 637.5 kB/s eta 0:00:06\n",
      "   ----------- ---------------------------- 1.5/5.0 MB 637.5 kB/s eta 0:00:06\n",
      "   ----------- ---------------------------- 1.5/5.0 MB 625.1 kB/s eta 0:00:06\n",
      "   ----------- ---------------------------- 1.5/5.0 MB 625.1 kB/s eta 0:00:06\n",
      "   ------------ --------------------------- 1.5/5.0 MB 626.1 kB/s eta 0:00:06\n",
      "   ------------ --------------------------- 1.5/5.0 MB 626.1 kB/s eta 0:00:06\n",
      "   ------------ --------------------------- 1.5/5.0 MB 626.1 kB/s eta 0:00:06\n",
      "   ------------ --------------------------- 1.6/5.0 MB 607.5 kB/s eta 0:00:06\n",
      "   ------------ --------------------------- 1.6/5.0 MB 607.5 kB/s eta 0:00:06\n",
      "   ------------- -------------------------- 1.6/5.0 MB 613.4 kB/s eta 0:00:06\n",
      "   ------------- -------------------------- 1.6/5.0 MB 613.4 kB/s eta 0:00:06\n",
      "   ------------- -------------------------- 1.7/5.0 MB 618.5 kB/s eta 0:00:06\n",
      "   ------------- -------------------------- 1.7/5.0 MB 618.5 kB/s eta 0:00:06\n",
      "   ------------- -------------------------- 1.7/5.0 MB 618.5 kB/s eta 0:00:06\n",
      "   -------------- ------------------------- 1.8/5.0 MB 605.5 kB/s eta 0:00:06\n",
      "   -------------- ------------------------- 1.8/5.0 MB 607.2 kB/s eta 0:00:06\n",
      "   -------------- ------------------------- 1.8/5.0 MB 607.2 kB/s eta 0:00:06\n",
      "   -------------- ------------------------- 1.9/5.0 MB 602.0 kB/s eta 0:00:06\n",
      "   -------------- ------------------------- 1.9/5.0 MB 605.3 kB/s eta 0:00:06\n",
      "   -------------- ------------------------- 1.9/5.0 MB 605.3 kB/s eta 0:00:06\n",
      "   -------------- ------------------------- 1.9/5.0 MB 605.3 kB/s eta 0:00:06\n",
      "   --------------- ------------------------ 1.9/5.0 MB 588.2 kB/s eta 0:00:06\n",
      "   --------------- ------------------------ 1.9/5.0 MB 584.1 kB/s eta 0:00:06\n",
      "   --------------- ------------------------ 1.9/5.0 MB 584.3 kB/s eta 0:00:06\n",
      "   --------------- ------------------------ 2.0/5.0 MB 582.5 kB/s eta 0:00:06\n",
      "   ---------------- ----------------------- 2.0/5.0 MB 586.0 kB/s eta 0:00:06\n",
      "   ---------------- ----------------------- 2.0/5.0 MB 586.7 kB/s eta 0:00:06\n",
      "   ---------------- ----------------------- 2.0/5.0 MB 586.7 kB/s eta 0:00:06\n",
      "   ---------------- ----------------------- 2.0/5.0 MB 586.7 kB/s eta 0:00:06\n",
      "   ---------------- ----------------------- 2.0/5.0 MB 586.7 kB/s eta 0:00:06\n",
      "   ---------------- ----------------------- 2.1/5.0 MB 565.0 kB/s eta 0:00:06\n",
      "   ---------------- ----------------------- 2.1/5.0 MB 561.0 kB/s eta 0:00:06\n",
      "   ---------------- ----------------------- 2.1/5.0 MB 561.0 kB/s eta 0:00:06\n",
      "   ---------------- ----------------------- 2.1/5.0 MB 554.8 kB/s eta 0:00:06\n",
      "   ----------------- ---------------------- 2.1/5.0 MB 556.1 kB/s eta 0:00:06\n",
      "   ----------------- ---------------------- 2.1/5.0 MB 556.1 kB/s eta 0:00:06\n",
      "   ----------------- ---------------------- 2.2/5.0 MB 552.8 kB/s eta 0:00:06\n",
      "   ----------------- ---------------------- 2.2/5.0 MB 552.8 kB/s eta 0:00:06\n",
      "   ----------------- ---------------------- 2.2/5.0 MB 547.5 kB/s eta 0:00:06\n",
      "   ----------------- ---------------------- 2.2/5.0 MB 547.5 kB/s eta 0:00:06\n",
      "   ----------------- ---------------------- 2.2/5.0 MB 540.4 kB/s eta 0:00:06\n",
      "   ----------------- ---------------------- 2.2/5.0 MB 540.4 kB/s eta 0:00:06\n",
      "   ------------------ --------------------- 2.3/5.0 MB 536.0 kB/s eta 0:00:06\n",
      "   ------------------ --------------------- 2.3/5.0 MB 536.0 kB/s eta 0:00:06\n",
      "   ------------------ --------------------- 2.3/5.0 MB 536.0 kB/s eta 0:00:06\n",
      "   ------------------ --------------------- 2.3/5.0 MB 527.6 kB/s eta 0:00:06\n",
      "   ------------------ --------------------- 2.3/5.0 MB 527.6 kB/s eta 0:00:06\n",
      "   ------------------ --------------------- 2.3/5.0 MB 527.6 kB/s eta 0:00:06\n",
      "   ------------------ --------------------- 2.3/5.0 MB 527.6 kB/s eta 0:00:06\n",
      "   ------------------ --------------------- 2.3/5.0 MB 510.8 kB/s eta 0:00:06\n",
      "   ------------------ --------------------- 2.3/5.0 MB 510.8 kB/s eta 0:00:06\n",
      "   ------------------ --------------------- 2.3/5.0 MB 510.0 kB/s eta 0:00:06\n",
      "   ------------------- -------------------- 2.4/5.0 MB 508.0 kB/s eta 0:00:06\n",
      "   ------------------- -------------------- 2.4/5.0 MB 509.5 kB/s eta 0:00:06\n",
      "   ------------------- -------------------- 2.4/5.0 MB 509.3 kB/s eta 0:00:06\n",
      "   ------------------- -------------------- 2.5/5.0 MB 508.6 kB/s eta 0:00:05\n",
      "   ------------------- -------------------- 2.5/5.0 MB 507.5 kB/s eta 0:00:05\n",
      "   -------------------- ------------------- 2.5/5.0 MB 509.3 kB/s eta 0:00:05\n",
      "   -------------------- ------------------- 2.5/5.0 MB 509.3 kB/s eta 0:00:05\n",
      "   -------------------- ------------------- 2.5/5.0 MB 504.3 kB/s eta 0:00:05\n",
      "   -------------------- ------------------- 2.5/5.0 MB 506.4 kB/s eta 0:00:05\n",
      "   -------------------- ------------------- 2.5/5.0 MB 506.4 kB/s eta 0:00:05\n",
      "   -------------------- ------------------- 2.6/5.0 MB 503.5 kB/s eta 0:00:05\n",
      "   -------------------- ------------------- 2.6/5.0 MB 503.5 kB/s eta 0:00:05\n",
      "   --------------------- ------------------ 2.6/5.0 MB 502.4 kB/s eta 0:00:05\n",
      "   --------------------- ------------------ 2.6/5.0 MB 502.4 kB/s eta 0:00:05\n",
      "   --------------------- ------------------ 2.6/5.0 MB 502.4 kB/s eta 0:00:05\n",
      "   --------------------- ------------------ 2.7/5.0 MB 499.7 kB/s eta 0:00:05\n",
      "   --------------------- ------------------ 2.7/5.0 MB 499.7 kB/s eta 0:00:05\n",
      "   --------------------- ------------------ 2.7/5.0 MB 490.1 kB/s eta 0:00:05\n",
      "   --------------------- ------------------ 2.7/5.0 MB 495.8 kB/s eta 0:00:05\n",
      "   --------------------- ------------------ 2.7/5.0 MB 495.8 kB/s eta 0:00:05\n",
      "   --------------------- ------------------ 2.7/5.0 MB 495.8 kB/s eta 0:00:05\n",
      "   --------------------- ------------------ 2.7/5.0 MB 495.8 kB/s eta 0:00:05\n",
      "   ---------------------- ----------------- 2.8/5.0 MB 488.0 kB/s eta 0:00:05\n",
      "   ---------------------- ----------------- 2.8/5.0 MB 488.0 kB/s eta 0:00:05\n",
      "   ---------------------- ----------------- 2.8/5.0 MB 488.0 kB/s eta 0:00:05\n",
      "   ---------------------- ----------------- 2.8/5.0 MB 488.0 kB/s eta 0:00:05\n",
      "   ---------------------- ----------------- 2.8/5.0 MB 488.0 kB/s eta 0:00:05\n",
      "   ---------------------- ----------------- 2.8/5.0 MB 478.5 kB/s eta 0:00:05\n",
      "   ---------------------- ----------------- 2.8/5.0 MB 477.8 kB/s eta 0:00:05\n",
      "   ---------------------- ----------------- 2.8/5.0 MB 477.8 kB/s eta 0:00:05\n",
      "   ---------------------- ----------------- 2.8/5.0 MB 477.8 kB/s eta 0:00:05\n",
      "   ----------------------- ---------------- 2.9/5.0 MB 474.2 kB/s eta 0:00:05\n",
      "   ----------------------- ---------------- 2.9/5.0 MB 474.2 kB/s eta 0:00:05\n",
      "   ----------------------- ---------------- 2.9/5.0 MB 471.3 kB/s eta 0:00:05\n",
      "   ----------------------- ---------------- 2.9/5.0 MB 469.3 kB/s eta 0:00:05\n",
      "   ----------------------- ---------------- 2.9/5.0 MB 470.2 kB/s eta 0:00:05\n",
      "   ----------------------- ---------------- 3.0/5.0 MB 469.5 kB/s eta 0:00:05\n",
      "   ----------------------- ---------------- 3.0/5.0 MB 469.3 kB/s eta 0:00:05\n",
      "   ------------------------ --------------- 3.0/5.0 MB 471.8 kB/s eta 0:00:05\n",
      "   ------------------------ --------------- 3.0/5.0 MB 471.6 kB/s eta 0:00:05\n",
      "   ------------------------ --------------- 3.1/5.0 MB 472.9 kB/s eta 0:00:05\n",
      "   ------------------------ --------------- 3.1/5.0 MB 472.9 kB/s eta 0:00:05\n",
      "   ------------------------ --------------- 3.1/5.0 MB 469.7 kB/s eta 0:00:05\n",
      "   ------------------------ --------------- 3.1/5.0 MB 469.7 kB/s eta 0:00:05\n",
      "   ------------------------- -------------- 3.1/5.0 MB 470.8 kB/s eta 0:00:04\n",
      "   ------------------------- -------------- 3.1/5.0 MB 470.8 kB/s eta 0:00:04\n",
      "   ------------------------- -------------- 3.2/5.0 MB 467.7 kB/s eta 0:00:04\n",
      "   ------------------------- -------------- 3.2/5.0 MB 467.7 kB/s eta 0:00:04\n",
      "   ------------------------- -------------- 3.2/5.0 MB 467.7 kB/s eta 0:00:04\n",
      "   ------------------------- -------------- 3.2/5.0 MB 465.8 kB/s eta 0:00:04\n",
      "   ------------------------- -------------- 3.2/5.0 MB 465.8 kB/s eta 0:00:04\n",
      "   -------------------------- ------------- 3.2/5.0 MB 463.3 kB/s eta 0:00:04\n",
      "   -------------------------- ------------- 3.3/5.0 MB 464.8 kB/s eta 0:00:04\n",
      "   -------------------------- ------------- 3.3/5.0 MB 464.8 kB/s eta 0:00:04\n",
      "   -------------------------- ------------- 3.3/5.0 MB 460.5 kB/s eta 0:00:04\n",
      "   -------------------------- ------------- 3.3/5.0 MB 460.5 kB/s eta 0:00:04\n",
      "   -------------------------- ------------- 3.3/5.0 MB 460.5 kB/s eta 0:00:04\n",
      "   -------------------------- ------------- 3.3/5.0 MB 454.8 kB/s eta 0:00:04\n",
      "   -------------------------- ------------- 3.3/5.0 MB 457.1 kB/s eta 0:00:04\n",
      "   -------------------------- ------------- 3.3/5.0 MB 457.1 kB/s eta 0:00:04\n",
      "   --------------------------- ------------ 3.4/5.0 MB 455.4 kB/s eta 0:00:04\n",
      "   --------------------------- ------------ 3.4/5.0 MB 455.4 kB/s eta 0:00:04\n",
      "   --------------------------- ------------ 3.4/5.0 MB 454.3 kB/s eta 0:00:04\n",
      "   --------------------------- ------------ 3.4/5.0 MB 454.3 kB/s eta 0:00:04\n",
      "   --------------------------- ------------ 3.4/5.0 MB 448.1 kB/s eta 0:00:04\n",
      "   --------------------------- ------------ 3.4/5.0 MB 448.1 kB/s eta 0:00:04\n",
      "   --------------------------- ------------ 3.4/5.0 MB 448.1 kB/s eta 0:00:04\n",
      "   --------------------------- ------------ 3.5/5.0 MB 446.7 kB/s eta 0:00:04\n",
      "   ---------------------------- ----------- 3.5/5.0 MB 446.6 kB/s eta 0:00:04\n",
      "   ---------------------------- ----------- 3.5/5.0 MB 446.1 kB/s eta 0:00:04\n",
      "   ---------------------------- ----------- 3.5/5.0 MB 445.6 kB/s eta 0:00:04\n",
      "   ---------------------------- ----------- 3.5/5.0 MB 445.6 kB/s eta 0:00:04\n",
      "   ---------------------------- ----------- 3.6/5.0 MB 446.7 kB/s eta 0:00:04\n",
      "   ---------------------------- ----------- 3.6/5.0 MB 446.7 kB/s eta 0:00:04\n",
      "   ---------------------------- ----------- 3.6/5.0 MB 446.7 kB/s eta 0:00:04\n",
      "   ---------------------------- ----------- 3.6/5.0 MB 445.4 kB/s eta 0:00:04\n",
      "   ----------------------------- ---------- 3.6/5.0 MB 442.4 kB/s eta 0:00:04\n",
      "   ----------------------------- ---------- 3.7/5.0 MB 445.7 kB/s eta 0:00:03\n",
      "   ----------------------------- ---------- 3.7/5.0 MB 445.7 kB/s eta 0:00:03\n",
      "   ----------------------------- ---------- 3.7/5.0 MB 443.5 kB/s eta 0:00:03\n",
      "   ----------------------------- ---------- 3.7/5.0 MB 443.5 kB/s eta 0:00:03\n",
      "   ----------------------------- ---------- 3.7/5.0 MB 443.5 kB/s eta 0:00:03\n",
      "   ----------------------------- ---------- 3.7/5.0 MB 440.6 kB/s eta 0:00:03\n",
      "   ----------------------------- ---------- 3.7/5.0 MB 440.6 kB/s eta 0:00:03\n",
      "   ------------------------------ --------- 3.8/5.0 MB 439.3 kB/s eta 0:00:03\n",
      "   ------------------------------ --------- 3.8/5.0 MB 438.5 kB/s eta 0:00:03\n",
      "   ------------------------------ --------- 3.8/5.0 MB 437.3 kB/s eta 0:00:03\n",
      "   ------------------------------ --------- 3.8/5.0 MB 437.3 kB/s eta 0:00:03\n",
      "   ------------------------------ --------- 3.8/5.0 MB 437.3 kB/s eta 0:00:03\n",
      "   ------------------------------ --------- 3.8/5.0 MB 437.3 kB/s eta 0:00:03\n",
      "   ------------------------------ --------- 3.8/5.0 MB 432.7 kB/s eta 0:00:03\n",
      "   ------------------------------ --------- 3.8/5.0 MB 432.3 kB/s eta 0:00:03\n",
      "   ------------------------------ --------- 3.9/5.0 MB 431.6 kB/s eta 0:00:03\n",
      "   ------------------------------- -------- 3.9/5.0 MB 431.2 kB/s eta 0:00:03\n",
      "   ------------------------------- -------- 3.9/5.0 MB 429.7 kB/s eta 0:00:03\n",
      "   ------------------------------- -------- 3.9/5.0 MB 429.7 kB/s eta 0:00:03\n",
      "   ------------------------------- -------- 3.9/5.0 MB 428.7 kB/s eta 0:00:03\n",
      "   ------------------------------- -------- 3.9/5.0 MB 428.7 kB/s eta 0:00:03\n",
      "   ------------------------------- -------- 4.0/5.0 MB 426.9 kB/s eta 0:00:03\n",
      "   ------------------------------- -------- 4.0/5.0 MB 426.9 kB/s eta 0:00:03\n",
      "   ------------------------------- -------- 4.0/5.0 MB 426.9 kB/s eta 0:00:03\n",
      "   -------------------------------- ------- 4.0/5.0 MB 425.6 kB/s eta 0:00:03\n",
      "   -------------------------------- ------- 4.0/5.0 MB 425.6 kB/s eta 0:00:03\n",
      "   -------------------------------- ------- 4.0/5.0 MB 424.0 kB/s eta 0:00:03\n",
      "   -------------------------------- ------- 4.0/5.0 MB 424.3 kB/s eta 0:00:03\n",
      "   -------------------------------- ------- 4.1/5.0 MB 425.9 kB/s eta 0:00:03\n",
      "   -------------------------------- ------- 4.1/5.0 MB 425.5 kB/s eta 0:00:03\n",
      "   --------------------------------- ------ 4.1/5.0 MB 426.0 kB/s eta 0:00:03\n",
      "   --------------------------------- ------ 4.1/5.0 MB 426.0 kB/s eta 0:00:03\n",
      "   --------------------------------- ------ 4.2/5.0 MB 426.4 kB/s eta 0:00:02\n",
      "   --------------------------------- ------ 4.2/5.0 MB 424.8 kB/s eta 0:00:02\n",
      "   --------------------------------- ------ 4.2/5.0 MB 426.5 kB/s eta 0:00:02\n",
      "   --------------------------------- ------ 4.2/5.0 MB 426.5 kB/s eta 0:00:02\n",
      "   ---------------------------------- ----- 4.2/5.0 MB 425.9 kB/s eta 0:00:02\n",
      "   ---------------------------------- ----- 4.2/5.0 MB 425.9 kB/s eta 0:00:02\n",
      "   ---------------------------------- ----- 4.2/5.0 MB 425.9 kB/s eta 0:00:02\n",
      "   ---------------------------------- ----- 4.3/5.0 MB 423.7 kB/s eta 0:00:02\n",
      "   ---------------------------------- ----- 4.3/5.0 MB 423.5 kB/s eta 0:00:02\n",
      "   ---------------------------------- ----- 4.3/5.0 MB 424.2 kB/s eta 0:00:02\n",
      "   ---------------------------------- ----- 4.4/5.0 MB 424.6 kB/s eta 0:00:02\n",
      "   ----------------------------------- ---- 4.4/5.0 MB 423.7 kB/s eta 0:00:02\n",
      "   ----------------------------------- ---- 4.4/5.0 MB 425.1 kB/s eta 0:00:02\n",
      "   ----------------------------------- ---- 4.4/5.0 MB 425.1 kB/s eta 0:00:02\n",
      "   ----------------------------------- ---- 4.4/5.0 MB 423.6 kB/s eta 0:00:02\n",
      "   ----------------------------------- ---- 4.4/5.0 MB 423.6 kB/s eta 0:00:02\n",
      "   ----------------------------------- ---- 4.4/5.0 MB 423.6 kB/s eta 0:00:02\n",
      "   ------------------------------------ --- 4.5/5.0 MB 424.6 kB/s eta 0:00:02\n",
      "   ------------------------------------ --- 4.5/5.0 MB 424.6 kB/s eta 0:00:02\n",
      "   ------------------------------------ --- 4.5/5.0 MB 424.6 kB/s eta 0:00:02\n",
      "   ------------------------------------ --- 4.5/5.0 MB 420.1 kB/s eta 0:00:02\n",
      "   ------------------------------------ --- 4.5/5.0 MB 420.1 kB/s eta 0:00:02\n",
      "   ------------------------------------ --- 4.6/5.0 MB 419.9 kB/s eta 0:00:02\n",
      "   ------------------------------------ --- 4.6/5.0 MB 419.9 kB/s eta 0:00:02\n",
      "   ------------------------------------ --- 4.6/5.0 MB 419.7 kB/s eta 0:00:01\n",
      "   ------------------------------------ --- 4.6/5.0 MB 419.7 kB/s eta 0:00:01\n",
      "   ------------------------------------- -- 4.6/5.0 MB 421.4 kB/s eta 0:00:01\n",
      "   ------------------------------------- -- 4.6/5.0 MB 421.4 kB/s eta 0:00:01\n",
      "   ------------------------------------- -- 4.7/5.0 MB 421.9 kB/s eta 0:00:01\n",
      "   ------------------------------------- -- 4.7/5.0 MB 419.8 kB/s eta 0:00:01\n",
      "   ------------------------------------- -- 4.7/5.0 MB 422.0 kB/s eta 0:00:01\n",
      "   -------------------------------------- - 4.8/5.0 MB 422.0 kB/s eta 0:00:01\n",
      "   -------------------------------------- - 4.8/5.0 MB 423.0 kB/s eta 0:00:01\n",
      "   -------------------------------------- - 4.8/5.0 MB 423.1 kB/s eta 0:00:01\n",
      "   -------------------------------------- - 4.8/5.0 MB 423.4 kB/s eta 0:00:01\n",
      "   -------------------------------------- - 4.8/5.0 MB 423.2 kB/s eta 0:00:01\n",
      "   -------------------------------------- - 4.8/5.0 MB 423.2 kB/s eta 0:00:01\n",
      "   ---------------------------------------  4.9/5.0 MB 421.5 kB/s eta 0:00:01\n",
      "   ---------------------------------------  4.9/5.0 MB 421.5 kB/s eta 0:00:01\n",
      "   ---------------------------------------  4.9/5.0 MB 422.5 kB/s eta 0:00:01\n",
      "   ---------------------------------------  4.9/5.0 MB 422.5 kB/s eta 0:00:01\n",
      "   ---------------------------------------  4.9/5.0 MB 420.0 kB/s eta 0:00:01\n",
      "   ---------------------------------------  4.9/5.0 MB 420.0 kB/s eta 0:00:01\n",
      "   ---------------------------------------  5.0/5.0 MB 419.6 kB/s eta 0:00:01\n",
      "   ---------------------------------------  5.0/5.0 MB 419.6 kB/s eta 0:00:01\n",
      "   ---------------------------------------  5.0/5.0 MB 419.6 kB/s eta 0:00:01\n",
      "   ---------------------------------------- 5.0/5.0 MB 417.5 kB/s eta 0:00:00\n",
      "Using cached jupyter_server-2.12.5-py3-none-any.whl (380 kB)\n",
      "Downloading jupyterlab-4.1.1-py3-none-any.whl (11.4 MB)\n",
      "   ---------------------------------------- 0.0/11.4 MB ? eta -:--:--\n",
      "   ---------------------------------------- 0.0/11.4 MB 960.0 kB/s eta 0:00:12\n",
      "   ---------------------------------------- 0.1/11.4 MB 648.1 kB/s eta 0:00:18\n",
      "   ---------------------------------------- 0.1/11.4 MB 655.4 kB/s eta 0:00:18\n",
      "    --------------------------------------- 0.1/11.4 MB 774.0 kB/s eta 0:00:15\n",
      "    --------------------------------------- 0.1/11.4 MB 774.0 kB/s eta 0:00:15\n",
      "    --------------------------------------- 0.2/11.4 MB 653.6 kB/s eta 0:00:18\n",
      "    --------------------------------------- 0.2/11.4 MB 653.6 kB/s eta 0:00:18\n",
      "    --------------------------------------- 0.2/11.4 MB 600.7 kB/s eta 0:00:19\n",
      "    --------------------------------------- 0.2/11.4 MB 600.7 kB/s eta 0:00:19\n",
      "   - -------------------------------------- 0.3/11.4 MB 589.5 kB/s eta 0:00:19\n",
      "   - -------------------------------------- 0.3/11.4 MB 589.5 kB/s eta 0:00:19\n",
      "   - -------------------------------------- 0.3/11.4 MB 565.9 kB/s eta 0:00:20\n",
      "   - -------------------------------------- 0.3/11.4 MB 565.9 kB/s eta 0:00:20\n",
      "   - -------------------------------------- 0.3/11.4 MB 565.9 kB/s eta 0:00:20\n",
      "   - -------------------------------------- 0.4/11.4 MB 538.2 kB/s eta 0:00:21\n",
      "   - -------------------------------------- 0.4/11.4 MB 538.2 kB/s eta 0:00:21\n",
      "   - -------------------------------------- 0.4/11.4 MB 506.4 kB/s eta 0:00:22\n",
      "   - -------------------------------------- 0.5/11.4 MB 512.0 kB/s eta 0:00:22\n",
      "   - -------------------------------------- 0.5/11.4 MB 519.3 kB/s eta 0:00:22\n",
      "   - -------------------------------------- 0.5/11.4 MB 504.5 kB/s eta 0:00:22\n",
      "   - -------------------------------------- 0.5/11.4 MB 514.0 kB/s eta 0:00:22\n",
      "   - -------------------------------------- 0.5/11.4 MB 514.0 kB/s eta 0:00:22\n",
      "   - -------------------------------------- 0.5/11.4 MB 514.0 kB/s eta 0:00:22\n",
      "   -- ------------------------------------- 0.6/11.4 MB 500.6 kB/s eta 0:00:22\n",
      "   -- ------------------------------------- 0.6/11.4 MB 484.8 kB/s eta 0:00:23\n",
      "   -- ------------------------------------- 0.6/11.4 MB 495.6 kB/s eta 0:00:22\n",
      "   -- ------------------------------------- 0.6/11.4 MB 489.5 kB/s eta 0:00:22\n",
      "   -- ------------------------------------- 0.7/11.4 MB 491.3 kB/s eta 0:00:22\n",
      "   -- ------------------------------------- 0.7/11.4 MB 491.3 kB/s eta 0:00:22\n",
      "   -- ------------------------------------- 0.7/11.4 MB 491.3 kB/s eta 0:00:22\n",
      "   -- ------------------------------------- 0.7/11.4 MB 471.9 kB/s eta 0:00:23\n",
      "   -- ------------------------------------- 0.7/11.4 MB 454.5 kB/s eta 0:00:24\n",
      "   -- ------------------------------------- 0.7/11.4 MB 454.5 kB/s eta 0:00:24\n",
      "   -- ------------------------------------- 0.7/11.4 MB 447.4 kB/s eta 0:00:24\n",
      "   -- ------------------------------------- 0.7/11.4 MB 447.4 kB/s eta 0:00:24\n",
      "   -- ------------------------------------- 0.8/11.4 MB 446.8 kB/s eta 0:00:24\n",
      "   -- ------------------------------------- 0.8/11.4 MB 444.7 kB/s eta 0:00:24\n",
      "   -- ------------------------------------- 0.8/11.4 MB 444.7 kB/s eta 0:00:24\n",
      "   -- ------------------------------------- 0.8/11.4 MB 449.8 kB/s eta 0:00:24\n",
      "   --- ------------------------------------ 0.9/11.4 MB 445.7 kB/s eta 0:00:24\n",
      "   --- ------------------------------------ 0.9/11.4 MB 454.4 kB/s eta 0:00:24\n",
      "   --- ------------------------------------ 0.9/11.4 MB 454.4 kB/s eta 0:00:24\n",
      "   --- ------------------------------------ 0.9/11.4 MB 455.2 kB/s eta 0:00:23\n",
      "   --- ------------------------------------ 0.9/11.4 MB 455.2 kB/s eta 0:00:23\n",
      "   --- ------------------------------------ 1.0/11.4 MB 443.3 kB/s eta 0:00:24\n",
      "   --- ------------------------------------ 1.0/11.4 MB 443.3 kB/s eta 0:00:24\n",
      "   --- ------------------------------------ 1.0/11.4 MB 441.5 kB/s eta 0:00:24\n",
      "   --- ------------------------------------ 1.0/11.4 MB 441.5 kB/s eta 0:00:24\n",
      "   --- ------------------------------------ 1.0/11.4 MB 436.9 kB/s eta 0:00:24\n",
      "   --- ------------------------------------ 1.1/11.4 MB 442.6 kB/s eta 0:00:24\n",
      "   --- ------------------------------------ 1.1/11.4 MB 442.6 kB/s eta 0:00:24\n",
      "   --- ------------------------------------ 1.1/11.4 MB 443.8 kB/s eta 0:00:24\n",
      "   --- ------------------------------------ 1.1/11.4 MB 444.9 kB/s eta 0:00:24\n",
      "   ---- ----------------------------------- 1.1/11.4 MB 443.5 kB/s eta 0:00:24\n",
      "   ---- ----------------------------------- 1.2/11.4 MB 448.6 kB/s eta 0:00:23\n",
      "   ---- ----------------------------------- 1.2/11.4 MB 448.6 kB/s eta 0:00:23\n",
      "   ---- ----------------------------------- 1.2/11.4 MB 448.6 kB/s eta 0:00:23\n",
      "   ---- ----------------------------------- 1.2/11.4 MB 434.3 kB/s eta 0:00:24\n",
      "   ---- ----------------------------------- 1.2/11.4 MB 434.3 kB/s eta 0:00:24\n",
      "   ---- ----------------------------------- 1.3/11.4 MB 441.7 kB/s eta 0:00:23\n",
      "   ---- ----------------------------------- 1.3/11.4 MB 441.7 kB/s eta 0:00:23\n",
      "   ---- ----------------------------------- 1.3/11.4 MB 442.5 kB/s eta 0:00:23\n",
      "   ---- ----------------------------------- 1.4/11.4 MB 442.4 kB/s eta 0:00:23\n",
      "   ---- ----------------------------------- 1.4/11.4 MB 449.0 kB/s eta 0:00:23\n",
      "   ---- ----------------------------------- 1.4/11.4 MB 449.0 kB/s eta 0:00:23\n",
      "   ----- ---------------------------------- 1.4/11.4 MB 448.7 kB/s eta 0:00:23\n",
      "   ----- ---------------------------------- 1.4/11.4 MB 449.7 kB/s eta 0:00:23\n",
      "   ----- ---------------------------------- 1.5/11.4 MB 452.4 kB/s eta 0:00:22\n",
      "   ----- ---------------------------------- 1.5/11.4 MB 452.4 kB/s eta 0:00:22\n",
      "   ----- ---------------------------------- 1.5/11.4 MB 457.1 kB/s eta 0:00:22\n",
      "   ----- ---------------------------------- 1.6/11.4 MB 458.1 kB/s eta 0:00:22\n",
      "   ----- ---------------------------------- 1.6/11.4 MB 458.1 kB/s eta 0:00:22\n",
      "   ----- ---------------------------------- 1.6/11.4 MB 458.4 kB/s eta 0:00:22\n",
      "   ----- ---------------------------------- 1.6/11.4 MB 458.4 kB/s eta 0:00:22\n",
      "   ----- ---------------------------------- 1.7/11.4 MB 460.6 kB/s eta 0:00:22\n",
      "   ----- ---------------------------------- 1.7/11.4 MB 460.6 kB/s eta 0:00:22\n",
      "   ----- ---------------------------------- 1.7/11.4 MB 457.3 kB/s eta 0:00:22\n",
      "   ------ --------------------------------- 1.7/11.4 MB 461.7 kB/s eta 0:00:21\n",
      "   ------ --------------------------------- 1.8/11.4 MB 465.7 kB/s eta 0:00:21\n",
      "   ------ --------------------------------- 1.8/11.4 MB 465.7 kB/s eta 0:00:21\n",
      "   ------ --------------------------------- 1.8/11.4 MB 462.5 kB/s eta 0:00:21\n",
      "   ------ --------------------------------- 1.8/11.4 MB 463.9 kB/s eta 0:00:21\n",
      "   ------ --------------------------------- 1.8/11.4 MB 463.9 kB/s eta 0:00:21\n",
      "   ------ --------------------------------- 1.8/11.4 MB 458.2 kB/s eta 0:00:21\n",
      "   ------ --------------------------------- 1.8/11.4 MB 458.2 kB/s eta 0:00:21\n",
      "   ------ --------------------------------- 1.9/11.4 MB 462.7 kB/s eta 0:00:21\n",
      "   ------ --------------------------------- 1.9/11.4 MB 462.7 kB/s eta 0:00:21\n",
      "   ------ --------------------------------- 1.9/11.4 MB 459.7 kB/s eta 0:00:21\n",
      "   ------ --------------------------------- 2.0/11.4 MB 461.8 kB/s eta 0:00:21\n",
      "   ------- -------------------------------- 2.0/11.4 MB 467.1 kB/s eta 0:00:21\n",
      "   ------- -------------------------------- 2.0/11.4 MB 462.7 kB/s eta 0:00:21\n",
      "   ------- -------------------------------- 2.1/11.4 MB 471.7 kB/s eta 0:00:20\n",
      "   ------- -------------------------------- 2.1/11.4 MB 471.7 kB/s eta 0:00:20\n",
      "   ------- -------------------------------- 2.1/11.4 MB 470.3 kB/s eta 0:00:20\n",
      "   ------- -------------------------------- 2.2/11.4 MB 475.6 kB/s eta 0:00:20\n",
      "   ------- -------------------------------- 2.2/11.4 MB 475.6 kB/s eta 0:00:20\n",
      "   ------- -------------------------------- 2.2/11.4 MB 477.6 kB/s eta 0:00:20\n",
      "   ------- -------------------------------- 2.2/11.4 MB 477.6 kB/s eta 0:00:20\n",
      "   ------- -------------------------------- 2.3/11.4 MB 478.9 kB/s eta 0:00:20\n",
      "   ------- -------------------------------- 2.3/11.4 MB 478.9 kB/s eta 0:00:20\n",
      "   ------- -------------------------------- 2.3/11.4 MB 478.9 kB/s eta 0:00:20\n",
      "   -------- ------------------------------- 2.3/11.4 MB 477.1 kB/s eta 0:00:20\n",
      "   -------- ------------------------------- 2.3/11.4 MB 477.1 kB/s eta 0:00:20\n",
      "   -------- ------------------------------- 2.3/11.4 MB 474.3 kB/s eta 0:00:20\n",
      "   -------- ------------------------------- 2.4/11.4 MB 477.5 kB/s eta 0:00:19\n",
      "   -------- ------------------------------- 2.4/11.4 MB 475.7 kB/s eta 0:00:19\n",
      "   -------- ------------------------------- 2.4/11.4 MB 478.8 kB/s eta 0:00:19\n",
      "   -------- ------------------------------- 2.5/11.4 MB 481.5 kB/s eta 0:00:19\n",
      "   -------- ------------------------------- 2.5/11.4 MB 482.5 kB/s eta 0:00:19\n",
      "   -------- ------------------------------- 2.5/11.4 MB 482.5 kB/s eta 0:00:19\n",
      "   -------- ------------------------------- 2.5/11.4 MB 482.5 kB/s eta 0:00:19\n",
      "   --------- ------------------------------ 2.6/11.4 MB 483.8 kB/s eta 0:00:19\n",
      "   --------- ------------------------------ 2.6/11.4 MB 484.2 kB/s eta 0:00:19\n",
      "   --------- ------------------------------ 2.6/11.4 MB 481.0 kB/s eta 0:00:19\n",
      "   --------- ------------------------------ 2.6/11.4 MB 481.0 kB/s eta 0:00:19\n",
      "   --------- ------------------------------ 2.7/11.4 MB 479.0 kB/s eta 0:00:19\n",
      "   --------- ------------------------------ 2.7/11.4 MB 479.4 kB/s eta 0:00:19\n",
      "   --------- ------------------------------ 2.7/11.4 MB 479.4 kB/s eta 0:00:19\n",
      "   --------- ------------------------------ 2.7/11.4 MB 477.0 kB/s eta 0:00:19\n",
      "   --------- ------------------------------ 2.7/11.4 MB 477.0 kB/s eta 0:00:19\n",
      "   --------- ------------------------------ 2.7/11.4 MB 477.0 kB/s eta 0:00:19\n",
      "   --------- ------------------------------ 2.7/11.4 MB 477.0 kB/s eta 0:00:19\n",
      "   --------- ------------------------------ 2.7/11.4 MB 477.0 kB/s eta 0:00:19\n",
      "   --------- ------------------------------ 2.7/11.4 MB 477.0 kB/s eta 0:00:19\n",
      "   --------- ------------------------------ 2.7/11.4 MB 460.4 kB/s eta 0:00:19\n",
      "   --------- ------------------------------ 2.8/11.4 MB 460.9 kB/s eta 0:00:19\n",
      "   --------- ------------------------------ 2.8/11.4 MB 458.4 kB/s eta 0:00:19\n",
      "   --------- ------------------------------ 2.8/11.4 MB 456.5 kB/s eta 0:00:19\n",
      "   --------- ------------------------------ 2.8/11.4 MB 456.5 kB/s eta 0:00:19\n",
      "   --------- ------------------------------ 2.8/11.4 MB 456.5 kB/s eta 0:00:19\n",
      "   --------- ------------------------------ 2.8/11.4 MB 456.5 kB/s eta 0:00:19\n",
      "   --------- ------------------------------ 2.8/11.4 MB 456.5 kB/s eta 0:00:19\n",
      "   --------- ------------------------------ 2.8/11.4 MB 456.5 kB/s eta 0:00:19\n",
      "   --------- ------------------------------ 2.8/11.4 MB 443.9 kB/s eta 0:00:20\n",
      "   --------- ------------------------------ 2.8/11.4 MB 443.9 kB/s eta 0:00:20\n",
      "   --------- ------------------------------ 2.8/11.4 MB 437.9 kB/s eta 0:00:20\n",
      "   --------- ------------------------------ 2.8/11.4 MB 437.9 kB/s eta 0:00:20\n",
      "   ---------- ----------------------------- 2.9/11.4 MB 434.8 kB/s eta 0:00:20\n",
      "   ---------- ----------------------------- 2.9/11.4 MB 434.8 kB/s eta 0:00:20\n",
      "   ---------- ----------------------------- 2.9/11.4 MB 434.8 kB/s eta 0:00:20\n",
      "   ---------- ----------------------------- 2.9/11.4 MB 428.2 kB/s eta 0:00:20\n",
      "   ---------- ----------------------------- 2.9/11.4 MB 428.2 kB/s eta 0:00:20\n",
      "   ---------- ----------------------------- 2.9/11.4 MB 425.3 kB/s eta 0:00:21\n",
      "   ---------- ----------------------------- 2.9/11.4 MB 425.4 kB/s eta 0:00:20\n",
      "   ---------- ----------------------------- 2.9/11.4 MB 422.0 kB/s eta 0:00:21\n",
      "   ---------- ----------------------------- 2.9/11.4 MB 422.0 kB/s eta 0:00:21\n",
      "   ---------- ----------------------------- 2.9/11.4 MB 421.1 kB/s eta 0:00:21\n",
      "   ---------- ----------------------------- 2.9/11.4 MB 417.9 kB/s eta 0:00:21\n",
      "   ---------- ----------------------------- 3.0/11.4 MB 419.0 kB/s eta 0:00:21\n",
      "   ---------- ----------------------------- 3.0/11.4 MB 419.0 kB/s eta 0:00:21\n",
      "   ---------- ----------------------------- 3.0/11.4 MB 416.4 kB/s eta 0:00:21\n",
      "   ---------- ----------------------------- 3.0/11.4 MB 416.4 kB/s eta 0:00:21\n",
      "   ---------- ----------------------------- 3.0/11.4 MB 416.4 kB/s eta 0:00:21\n",
      "   ---------- ----------------------------- 3.0/11.4 MB 410.6 kB/s eta 0:00:21\n",
      "   ---------- ----------------------------- 3.0/11.4 MB 410.6 kB/s eta 0:00:21\n",
      "   ---------- ----------------------------- 3.0/11.4 MB 408.7 kB/s eta 0:00:21\n",
      "   ---------- ----------------------------- 3.1/11.4 MB 407.2 kB/s eta 0:00:21\n",
      "   ---------- ----------------------------- 3.1/11.4 MB 407.2 kB/s eta 0:00:21\n",
      "   ---------- ----------------------------- 3.1/11.4 MB 407.4 kB/s eta 0:00:21\n",
      "   ---------- ----------------------------- 3.1/11.4 MB 405.9 kB/s eta 0:00:21\n",
      "   ---------- ----------------------------- 3.1/11.4 MB 405.9 kB/s eta 0:00:21\n",
      "   ---------- ----------------------------- 3.1/11.4 MB 404.9 kB/s eta 0:00:21\n",
      "   ---------- ----------------------------- 3.1/11.4 MB 404.9 kB/s eta 0:00:21\n",
      "   ----------- ---------------------------- 3.1/11.4 MB 402.7 kB/s eta 0:00:21\n",
      "   ----------- ---------------------------- 3.1/11.4 MB 402.7 kB/s eta 0:00:21\n",
      "   ----------- ---------------------------- 3.2/11.4 MB 401.8 kB/s eta 0:00:21\n",
      "   ----------- ---------------------------- 3.2/11.4 MB 401.8 kB/s eta 0:00:21\n",
      "   ----------- ---------------------------- 3.2/11.4 MB 401.8 kB/s eta 0:00:21\n",
      "   ----------- ---------------------------- 3.2/11.4 MB 397.3 kB/s eta 0:00:21\n",
      "   ----------- ---------------------------- 3.2/11.4 MB 397.0 kB/s eta 0:00:21\n",
      "   ----------- ---------------------------- 3.2/11.4 MB 396.5 kB/s eta 0:00:21\n",
      "   ----------- ---------------------------- 3.2/11.4 MB 398.3 kB/s eta 0:00:21\n",
      "   ----------- ---------------------------- 3.3/11.4 MB 396.4 kB/s eta 0:00:21\n",
      "   ----------- ---------------------------- 3.3/11.4 MB 396.7 kB/s eta 0:00:21\n",
      "   ----------- ---------------------------- 3.3/11.4 MB 394.9 kB/s eta 0:00:21\n",
      "   ----------- ---------------------------- 3.3/11.4 MB 394.9 kB/s eta 0:00:21\n",
      "   ----------- ---------------------------- 3.3/11.4 MB 395.4 kB/s eta 0:00:21\n",
      "   ----------- ---------------------------- 3.3/11.4 MB 395.4 kB/s eta 0:00:21\n",
      "   ----------- ---------------------------- 3.3/11.4 MB 395.4 kB/s eta 0:00:21\n",
      "   ----------- ---------------------------- 3.4/11.4 MB 392.5 kB/s eta 0:00:21\n",
      "   ----------- ---------------------------- 3.4/11.4 MB 391.5 kB/s eta 0:00:21\n",
      "   ----------- ---------------------------- 3.4/11.4 MB 393.4 kB/s eta 0:00:21\n",
      "   ----------- ---------------------------- 3.4/11.4 MB 391.8 kB/s eta 0:00:21\n",
      "   ------------ --------------------------- 3.4/11.4 MB 394.1 kB/s eta 0:00:21\n",
      "   ------------ --------------------------- 3.4/11.4 MB 394.1 kB/s eta 0:00:21\n",
      "   ------------ --------------------------- 3.5/11.4 MB 392.7 kB/s eta 0:00:21\n",
      "   ------------ --------------------------- 3.5/11.4 MB 392.7 kB/s eta 0:00:21\n",
      "   ------------ --------------------------- 3.5/11.4 MB 392.0 kB/s eta 0:00:21\n",
      "   ------------ --------------------------- 3.5/11.4 MB 392.0 kB/s eta 0:00:21\n",
      "   ------------ --------------------------- 3.5/11.4 MB 390.0 kB/s eta 0:00:21\n",
      "   ------------ --------------------------- 3.5/11.4 MB 390.0 kB/s eta 0:00:21\n",
      "   ------------ --------------------------- 3.6/11.4 MB 390.2 kB/s eta 0:00:21\n",
      "   ------------ --------------------------- 3.6/11.4 MB 391.0 kB/s eta 0:00:21\n",
      "   ------------ --------------------------- 3.6/11.4 MB 391.0 kB/s eta 0:00:20\n",
      "   ------------ --------------------------- 3.6/11.4 MB 392.5 kB/s eta 0:00:20\n",
      "   ------------ --------------------------- 3.6/11.4 MB 392.5 kB/s eta 0:00:20\n",
      "   ------------ --------------------------- 3.7/11.4 MB 392.5 kB/s eta 0:00:20\n",
      "   ------------ --------------------------- 3.7/11.4 MB 392.5 kB/s eta 0:00:20\n",
      "   ------------ --------------------------- 3.7/11.4 MB 391.3 kB/s eta 0:00:20\n",
      "   ------------ --------------------------- 3.7/11.4 MB 391.3 kB/s eta 0:00:20\n",
      "   ------------ --------------------------- 3.7/11.4 MB 391.3 kB/s eta 0:00:20\n",
      "   ------------- -------------------------- 3.7/11.4 MB 390.8 kB/s eta 0:00:20\n",
      "   ------------- -------------------------- 3.7/11.4 MB 390.8 kB/s eta 0:00:20\n",
      "   ------------- -------------------------- 3.8/11.4 MB 390.2 kB/s eta 0:00:20\n",
      "   ------------- -------------------------- 3.8/11.4 MB 390.2 kB/s eta 0:00:20\n",
      "   ------------- -------------------------- 3.8/11.4 MB 391.7 kB/s eta 0:00:20\n",
      "   ------------- -------------------------- 3.8/11.4 MB 391.7 kB/s eta 0:00:20\n",
      "   ------------- -------------------------- 3.9/11.4 MB 393.2 kB/s eta 0:00:20\n",
      "   ------------- -------------------------- 3.9/11.4 MB 393.2 kB/s eta 0:00:20\n",
      "   ------------- -------------------------- 3.9/11.4 MB 393.0 kB/s eta 0:00:20\n",
      "   ------------- -------------------------- 3.9/11.4 MB 393.0 kB/s eta 0:00:20\n",
      "   ------------- -------------------------- 3.9/11.4 MB 393.0 kB/s eta 0:00:20\n",
      "   ------------- -------------------------- 4.0/11.4 MB 392.4 kB/s eta 0:00:20\n",
      "   ------------- -------------------------- 4.0/11.4 MB 392.4 kB/s eta 0:00:20\n",
      "   ------------- -------------------------- 4.0/11.4 MB 392.8 kB/s eta 0:00:19\n",
      "   ------------- -------------------------- 4.0/11.4 MB 392.8 kB/s eta 0:00:19\n",
      "   ------------- -------------------------- 4.0/11.4 MB 392.8 kB/s eta 0:00:19\n",
      "   ------------- -------------------------- 4.0/11.4 MB 392.8 kB/s eta 0:00:19\n",
      "   ------------- -------------------------- 4.0/11.4 MB 392.8 kB/s eta 0:00:19\n",
      "   ------------- -------------------------- 4.0/11.4 MB 392.8 kB/s eta 0:00:19\n",
      "   ------------- -------------------------- 4.0/11.4 MB 392.8 kB/s eta 0:00:19\n",
      "   -------------- ------------------------- 4.1/11.4 MB 388.3 kB/s eta 0:00:19\n",
      "   -------------- ------------------------- 4.1/11.4 MB 388.3 kB/s eta 0:00:19\n",
      "   -------------- ------------------------- 4.1/11.4 MB 387.2 kB/s eta 0:00:19\n",
      "   -------------- ------------------------- 4.1/11.4 MB 387.2 kB/s eta 0:00:19\n",
      "   -------------- ------------------------- 4.1/11.4 MB 385.3 kB/s eta 0:00:19\n",
      "   -------------- ------------------------- 4.1/11.4 MB 385.3 kB/s eta 0:00:19\n",
      "   -------------- ------------------------- 4.2/11.4 MB 385.6 kB/s eta 0:00:19\n",
      "   -------------- ------------------------- 4.2/11.4 MB 385.6 kB/s eta 0:00:19\n",
      "   -------------- ------------------------- 4.2/11.4 MB 384.2 kB/s eta 0:00:19\n",
      "   -------------- ------------------------- 4.2/11.4 MB 384.4 kB/s eta 0:00:19\n",
      "   -------------- ------------------------- 4.2/11.4 MB 384.4 kB/s eta 0:00:19\n",
      "   -------------- ------------------------- 4.2/11.4 MB 385.0 kB/s eta 0:00:19\n",
      "   -------------- ------------------------- 4.2/11.4 MB 385.0 kB/s eta 0:00:19\n",
      "   --------------- ------------------------ 4.3/11.4 MB 386.3 kB/s eta 0:00:19\n",
      "   --------------- ------------------------ 4.3/11.4 MB 386.3 kB/s eta 0:00:19\n",
      "   --------------- ------------------------ 4.3/11.4 MB 385.9 kB/s eta 0:00:19\n",
      "   --------------- ------------------------ 4.3/11.4 MB 385.0 kB/s eta 0:00:19\n",
      "   --------------- ------------------------ 4.4/11.4 MB 386.7 kB/s eta 0:00:19\n",
      "   --------------- ------------------------ 4.4/11.4 MB 386.7 kB/s eta 0:00:19\n",
      "   --------------- ------------------------ 4.4/11.4 MB 386.2 kB/s eta 0:00:19\n",
      "   --------------- ------------------------ 4.4/11.4 MB 386.2 kB/s eta 0:00:19\n",
      "   --------------- ------------------------ 4.4/11.4 MB 385.2 kB/s eta 0:00:19\n",
      "   --------------- ------------------------ 4.5/11.4 MB 387.0 kB/s eta 0:00:18\n",
      "   --------------- ------------------------ 4.5/11.4 MB 386.5 kB/s eta 0:00:18\n",
      "   --------------- ------------------------ 4.5/11.4 MB 386.5 kB/s eta 0:00:18\n",
      "   --------------- ------------------------ 4.5/11.4 MB 386.5 kB/s eta 0:00:18\n",
      "   --------------- ------------------------ 4.5/11.4 MB 385.0 kB/s eta 0:00:18\n",
      "   --------------- ------------------------ 4.5/11.4 MB 385.7 kB/s eta 0:00:18\n",
      "   ---------------- ----------------------- 4.6/11.4 MB 387.0 kB/s eta 0:00:18\n",
      "   ---------------- ----------------------- 4.6/11.4 MB 387.0 kB/s eta 0:00:18\n",
      "   ---------------- ----------------------- 4.6/11.4 MB 387.0 kB/s eta 0:00:18\n",
      "   ---------------- ----------------------- 4.6/11.4 MB 387.0 kB/s eta 0:00:18\n",
      "   ---------------- ----------------------- 4.6/11.4 MB 387.0 kB/s eta 0:00:18\n",
      "   ---------------- ----------------------- 4.6/11.4 MB 387.0 kB/s eta 0:00:18\n",
      "   ---------------- ----------------------- 4.6/11.4 MB 383.6 kB/s eta 0:00:18\n",
      "   ---------------- ----------------------- 4.7/11.4 MB 382.9 kB/s eta 0:00:18\n",
      "   ---------------- ----------------------- 4.7/11.4 MB 382.9 kB/s eta 0:00:18\n",
      "   ---------------- ----------------------- 4.7/11.4 MB 383.5 kB/s eta 0:00:18\n",
      "   ---------------- ----------------------- 4.7/11.4 MB 383.5 kB/s eta 0:00:18\n",
      "   ---------------- ----------------------- 4.7/11.4 MB 383.9 kB/s eta 0:00:18\n",
      "   ---------------- ----------------------- 4.7/11.4 MB 383.9 kB/s eta 0:00:18\n",
      "   ---------------- ----------------------- 4.8/11.4 MB 383.0 kB/s eta 0:00:18\n",
      "   ---------------- ----------------------- 4.8/11.4 MB 382.8 kB/s eta 0:00:18\n",
      "   ---------------- ----------------------- 4.8/11.4 MB 383.7 kB/s eta 0:00:18\n",
      "   ---------------- ----------------------- 4.8/11.4 MB 383.7 kB/s eta 0:00:18\n",
      "   ---------------- ----------------------- 4.8/11.4 MB 381.7 kB/s eta 0:00:18\n",
      "   ---------------- ----------------------- 4.8/11.4 MB 382.8 kB/s eta 0:00:18\n",
      "   ---------------- ----------------------- 4.8/11.4 MB 382.8 kB/s eta 0:00:18\n",
      "   ----------------- ---------------------- 4.9/11.4 MB 381.9 kB/s eta 0:00:18\n",
      "   ----------------- ---------------------- 4.9/11.4 MB 382.0 kB/s eta 0:00:18\n",
      "   ----------------- ---------------------- 4.9/11.4 MB 382.0 kB/s eta 0:00:18\n",
      "   ----------------- ---------------------- 4.9/11.4 MB 382.0 kB/s eta 0:00:18\n",
      "   ----------------- ---------------------- 4.9/11.4 MB 380.7 kB/s eta 0:00:18\n",
      "   ----------------- ---------------------- 4.9/11.4 MB 380.7 kB/s eta 0:00:18\n",
      "   ----------------- ---------------------- 4.9/11.4 MB 380.7 kB/s eta 0:00:18\n",
      "   ----------------- ---------------------- 4.9/11.4 MB 380.7 kB/s eta 0:00:18\n",
      "   ----------------- ---------------------- 5.0/11.4 MB 377.6 kB/s eta 0:00:18\n",
      "   ----------------- ---------------------- 5.0/11.4 MB 377.6 kB/s eta 0:00:18\n",
      "   ----------------- ---------------------- 5.0/11.4 MB 377.6 kB/s eta 0:00:18\n",
      "   ----------------- ---------------------- 5.0/11.4 MB 377.6 kB/s eta 0:00:18\n",
      "   ----------------- ---------------------- 5.0/11.4 MB 376.4 kB/s eta 0:00:17\n",
      "   ----------------- ---------------------- 5.0/11.4 MB 376.4 kB/s eta 0:00:17\n",
      "   ----------------- ---------------------- 5.0/11.4 MB 375.4 kB/s eta 0:00:17\n",
      "   ----------------- ---------------------- 5.0/11.4 MB 375.4 kB/s eta 0:00:17\n",
      "   ----------------- ---------------------- 5.1/11.4 MB 373.7 kB/s eta 0:00:17\n",
      "   ----------------- ---------------------- 5.1/11.4 MB 373.7 kB/s eta 0:00:17\n",
      "   ----------------- ---------------------- 5.1/11.4 MB 373.4 kB/s eta 0:00:17\n",
      "   ----------------- ---------------------- 5.1/11.4 MB 373.4 kB/s eta 0:00:17\n",
      "   ----------------- ---------------------- 5.1/11.4 MB 373.4 kB/s eta 0:00:17\n",
      "   ----------------- ---------------------- 5.1/11.4 MB 373.4 kB/s eta 0:00:17\n",
      "   ------------------ --------------------- 5.2/11.4 MB 371.3 kB/s eta 0:00:17\n",
      "   ------------------ --------------------- 5.2/11.4 MB 371.3 kB/s eta 0:00:17\n",
      "   ------------------ --------------------- 5.2/11.4 MB 371.3 kB/s eta 0:00:17\n",
      "   ------------------ --------------------- 5.2/11.4 MB 371.3 kB/s eta 0:00:17\n",
      "   ------------------ --------------------- 5.2/11.4 MB 371.1 kB/s eta 0:00:17\n",
      "   ------------------ --------------------- 5.2/11.4 MB 371.1 kB/s eta 0:00:17\n",
      "   ------------------ --------------------- 5.3/11.4 MB 370.3 kB/s eta 0:00:17\n",
      "   ------------------ --------------------- 5.3/11.4 MB 370.3 kB/s eta 0:00:17\n",
      "   ------------------ --------------------- 5.3/11.4 MB 370.3 kB/s eta 0:00:17\n",
      "   ------------------ --------------------- 5.3/11.4 MB 370.1 kB/s eta 0:00:17\n",
      "   ------------------ --------------------- 5.3/11.4 MB 370.1 kB/s eta 0:00:17\n",
      "   ------------------ --------------------- 5.3/11.4 MB 369.0 kB/s eta 0:00:17\n",
      "   ------------------ --------------------- 5.3/11.4 MB 368.8 kB/s eta 0:00:17\n",
      "   ------------------ --------------------- 5.4/11.4 MB 369.4 kB/s eta 0:00:17\n",
      "   ------------------ --------------------- 5.4/11.4 MB 369.7 kB/s eta 0:00:17\n",
      "   ------------------ --------------------- 5.4/11.4 MB 369.5 kB/s eta 0:00:17\n",
      "   ------------------ --------------------- 5.4/11.4 MB 369.5 kB/s eta 0:00:17\n",
      "   ------------------- -------------------- 5.4/11.4 MB 370.3 kB/s eta 0:00:17\n",
      "   ------------------- -------------------- 5.5/11.4 MB 370.1 kB/s eta 0:00:17\n",
      "   ------------------- -------------------- 5.5/11.4 MB 370.6 kB/s eta 0:00:16\n",
      "   ------------------- -------------------- 5.5/11.4 MB 370.6 kB/s eta 0:00:16\n",
      "   ------------------- -------------------- 5.5/11.4 MB 370.4 kB/s eta 0:00:16\n",
      "   ------------------- -------------------- 5.5/11.4 MB 370.4 kB/s eta 0:00:16\n",
      "   ------------------- -------------------- 5.5/11.4 MB 370.4 kB/s eta 0:00:16\n",
      "   ------------------- -------------------- 5.6/11.4 MB 368.5 kB/s eta 0:00:16\n",
      "   ------------------- -------------------- 5.6/11.4 MB 368.5 kB/s eta 0:00:16\n",
      "   ------------------- -------------------- 5.6/11.4 MB 368.4 kB/s eta 0:00:16\n",
      "   ------------------- -------------------- 5.6/11.4 MB 368.4 kB/s eta 0:00:16\n",
      "   ------------------- -------------------- 5.6/11.4 MB 368.5 kB/s eta 0:00:16\n",
      "   ------------------- -------------------- 5.6/11.4 MB 368.5 kB/s eta 0:00:16\n",
      "   ------------------- -------------------- 5.6/11.4 MB 367.1 kB/s eta 0:00:16\n",
      "   ------------------- -------------------- 5.7/11.4 MB 367.7 kB/s eta 0:00:16\n",
      "   ------------------- -------------------- 5.7/11.4 MB 367.5 kB/s eta 0:00:16\n",
      "   ------------------- -------------------- 5.7/11.4 MB 367.7 kB/s eta 0:00:16\n",
      "   -------------------- ------------------- 5.7/11.4 MB 370.0 kB/s eta 0:00:16\n",
      "   -------------------- ------------------- 5.7/11.4 MB 370.0 kB/s eta 0:00:16\n",
      "   -------------------- ------------------- 5.8/11.4 MB 369.7 kB/s eta 0:00:16\n",
      "   -------------------- ------------------- 5.8/11.4 MB 369.7 kB/s eta 0:00:16\n",
      "   -------------------- ------------------- 5.8/11.4 MB 369.7 kB/s eta 0:00:16\n",
      "   -------------------- ------------------- 5.8/11.4 MB 368.1 kB/s eta 0:00:16\n",
      "   -------------------- ------------------- 5.8/11.4 MB 368.2 kB/s eta 0:00:16\n",
      "   -------------------- ------------------- 5.8/11.4 MB 368.5 kB/s eta 0:00:16\n",
      "   -------------------- ------------------- 5.8/11.4 MB 368.5 kB/s eta 0:00:16\n",
      "   -------------------- ------------------- 5.8/11.4 MB 368.5 kB/s eta 0:00:16\n",
      "   -------------------- ------------------- 5.9/11.4 MB 366.9 kB/s eta 0:00:16\n",
      "   -------------------- ------------------- 5.9/11.4 MB 367.4 kB/s eta 0:00:16\n",
      "   -------------------- ------------------- 5.9/11.4 MB 367.4 kB/s eta 0:00:16\n",
      "   -------------------- ------------------- 5.9/11.4 MB 366.4 kB/s eta 0:00:15\n",
      "   -------------------- ------------------- 5.9/11.4 MB 367.0 kB/s eta 0:00:15\n",
      "   -------------------- ------------------- 6.0/11.4 MB 367.2 kB/s eta 0:00:15\n",
      "   -------------------- ------------------- 6.0/11.4 MB 367.6 kB/s eta 0:00:15\n",
      "   -------------------- ------------------- 6.0/11.4 MB 367.6 kB/s eta 0:00:15\n",
      "   --------------------- ------------------ 6.0/11.4 MB 368.5 kB/s eta 0:00:15\n",
      "   --------------------- ------------------ 6.0/11.4 MB 368.5 kB/s eta 0:00:15\n",
      "   --------------------- ------------------ 6.1/11.4 MB 369.1 kB/s eta 0:00:15\n",
      "   --------------------- ------------------ 6.1/11.4 MB 369.1 kB/s eta 0:00:15\n",
      "   --------------------- ------------------ 6.1/11.4 MB 370.1 kB/s eta 0:00:15\n",
      "   --------------------- ------------------ 6.1/11.4 MB 370.1 kB/s eta 0:00:15\n",
      "   --------------------- ------------------ 6.2/11.4 MB 369.6 kB/s eta 0:00:15\n",
      "   --------------------- ------------------ 6.2/11.4 MB 369.5 kB/s eta 0:00:15\n",
      "   --------------------- ------------------ 6.2/11.4 MB 369.5 kB/s eta 0:00:15\n",
      "   --------------------- ------------------ 6.2/11.4 MB 369.9 kB/s eta 0:00:15\n",
      "   --------------------- ------------------ 6.2/11.4 MB 369.9 kB/s eta 0:00:15\n",
      "   --------------------- ------------------ 6.2/11.4 MB 370.2 kB/s eta 0:00:14\n",
      "   --------------------- ------------------ 6.3/11.4 MB 369.8 kB/s eta 0:00:14\n",
      "   ---------------------- ----------------- 6.3/11.4 MB 371.5 kB/s eta 0:00:14\n",
      "   ---------------------- ----------------- 6.3/11.4 MB 371.5 kB/s eta 0:00:14\n",
      "   ---------------------- ----------------- 6.3/11.4 MB 370.7 kB/s eta 0:00:14\n",
      "   ---------------------- ----------------- 6.3/11.4 MB 370.7 kB/s eta 0:00:14\n",
      "   ---------------------- ----------------- 6.3/11.4 MB 370.7 kB/s eta 0:00:14\n",
      "   ---------------------- ----------------- 6.3/11.4 MB 370.7 kB/s eta 0:00:14\n",
      "   ---------------------- ----------------- 6.4/11.4 MB 370.7 kB/s eta 0:00:14\n",
      "   ---------------------- ----------------- 6.4/11.4 MB 370.6 kB/s eta 0:00:14\n",
      "   ---------------------- ----------------- 6.5/11.4 MB 371.0 kB/s eta 0:00:14\n",
      "   ---------------------- ----------------- 6.5/11.4 MB 371.0 kB/s eta 0:00:14\n",
      "   ---------------------- ----------------- 6.5/11.4 MB 371.1 kB/s eta 0:00:14\n",
      "   ---------------------- ----------------- 6.5/11.4 MB 371.1 kB/s eta 0:00:14\n",
      "   ---------------------- ----------------- 6.5/11.4 MB 370.6 kB/s eta 0:00:14\n",
      "   ---------------------- ----------------- 6.5/11.4 MB 370.6 kB/s eta 0:00:14\n",
      "   ---------------------- ----------------- 6.6/11.4 MB 370.9 kB/s eta 0:00:14\n",
      "   ----------------------- ---------------- 6.6/11.4 MB 370.8 kB/s eta 0:00:14\n",
      "   ----------------------- ---------------- 6.6/11.4 MB 370.8 kB/s eta 0:00:14\n",
      "   ----------------------- ---------------- 6.6/11.4 MB 370.6 kB/s eta 0:00:13\n",
      "   ----------------------- ---------------- 6.6/11.4 MB 370.6 kB/s eta 0:00:13\n",
      "   ----------------------- ---------------- 6.6/11.4 MB 371.2 kB/s eta 0:00:13\n",
      "   ----------------------- ---------------- 6.7/11.4 MB 371.4 kB/s eta 0:00:13\n",
      "   ----------------------- ---------------- 6.7/11.4 MB 372.9 kB/s eta 0:00:13\n",
      "   ----------------------- ---------------- 6.7/11.4 MB 372.9 kB/s eta 0:00:13\n",
      "   ----------------------- ---------------- 6.7/11.4 MB 373.0 kB/s eta 0:00:13\n",
      "   ----------------------- ---------------- 6.7/11.4 MB 373.0 kB/s eta 0:00:13\n",
      "   ----------------------- ---------------- 6.8/11.4 MB 373.6 kB/s eta 0:00:13\n",
      "   ----------------------- ---------------- 6.8/11.4 MB 373.6 kB/s eta 0:00:13\n",
      "   ----------------------- ---------------- 6.8/11.4 MB 373.4 kB/s eta 0:00:13\n",
      "   ----------------------- ---------------- 6.8/11.4 MB 373.9 kB/s eta 0:00:13\n",
      "   ----------------------- ---------------- 6.8/11.4 MB 373.9 kB/s eta 0:00:13\n",
      "   ------------------------ --------------- 6.9/11.4 MB 374.2 kB/s eta 0:00:13\n",
      "   ------------------------ --------------- 6.9/11.4 MB 374.2 kB/s eta 0:00:13\n",
      "   ------------------------ --------------- 6.9/11.4 MB 373.3 kB/s eta 0:00:13\n",
      "   ------------------------ --------------- 6.9/11.4 MB 373.5 kB/s eta 0:00:12\n",
      "   ------------------------ --------------- 6.9/11.4 MB 373.5 kB/s eta 0:00:12\n",
      "   ------------------------ --------------- 6.9/11.4 MB 373.5 kB/s eta 0:00:12\n",
      "   ------------------------ --------------- 7.0/11.4 MB 373.1 kB/s eta 0:00:12\n",
      "   ------------------------ --------------- 7.0/11.4 MB 373.1 kB/s eta 0:00:12\n",
      "   ------------------------ --------------- 7.0/11.4 MB 372.9 kB/s eta 0:00:12\n",
      "   ------------------------ --------------- 7.1/11.4 MB 373.9 kB/s eta 0:00:12\n",
      "   ------------------------ --------------- 7.1/11.4 MB 375.6 kB/s eta 0:00:12\n",
      "   ------------------------ --------------- 7.1/11.4 MB 375.6 kB/s eta 0:00:12\n",
      "   ------------------------- -------------- 7.2/11.4 MB 376.5 kB/s eta 0:00:12\n",
      "   ------------------------- -------------- 7.2/11.4 MB 376.5 kB/s eta 0:00:12\n",
      "   ------------------------- -------------- 7.2/11.4 MB 377.0 kB/s eta 0:00:12\n",
      "   ------------------------- -------------- 7.2/11.4 MB 377.0 kB/s eta 0:00:12\n",
      "   ------------------------- -------------- 7.2/11.4 MB 377.0 kB/s eta 0:00:12\n",
      "   ------------------------- -------------- 7.2/11.4 MB 377.0 kB/s eta 0:00:12\n",
      "   ------------------------- -------------- 7.2/11.4 MB 377.0 kB/s eta 0:00:12\n",
      "   ------------------------- -------------- 7.3/11.4 MB 377.3 kB/s eta 0:00:11\n",
      "   ------------------------- -------------- 7.3/11.4 MB 377.3 kB/s eta 0:00:11\n",
      "   ------------------------- -------------- 7.3/11.4 MB 377.3 kB/s eta 0:00:11\n",
      "   ------------------------- -------------- 7.3/11.4 MB 377.3 kB/s eta 0:00:11\n",
      "   ------------------------- -------------- 7.3/11.4 MB 376.7 kB/s eta 0:00:11\n",
      "   ------------------------- -------------- 7.4/11.4 MB 377.6 kB/s eta 0:00:11\n",
      "   ------------------------- -------------- 7.4/11.4 MB 377.6 kB/s eta 0:00:11\n",
      "   ------------------------- -------------- 7.4/11.4 MB 377.6 kB/s eta 0:00:11\n",
      "   ------------------------- -------------- 7.4/11.4 MB 376.9 kB/s eta 0:00:11\n",
      "   ------------------------- -------------- 7.4/11.4 MB 376.9 kB/s eta 0:00:11\n",
      "   -------------------------- ------------- 7.4/11.4 MB 376.5 kB/s eta 0:00:11\n",
      "   -------------------------- ------------- 7.4/11.4 MB 376.5 kB/s eta 0:00:11\n",
      "   -------------------------- ------------- 7.4/11.4 MB 376.5 kB/s eta 0:00:11\n",
      "   -------------------------- ------------- 7.4/11.4 MB 376.5 kB/s eta 0:00:11\n",
      "   -------------------------- ------------- 7.5/11.4 MB 375.7 kB/s eta 0:00:11\n",
      "   -------------------------- ------------- 7.5/11.4 MB 375.7 kB/s eta 0:00:11\n",
      "   -------------------------- ------------- 7.5/11.4 MB 376.0 kB/s eta 0:00:11\n",
      "   -------------------------- ------------- 7.5/11.4 MB 375.9 kB/s eta 0:00:11\n",
      "   -------------------------- ------------- 7.5/11.4 MB 375.9 kB/s eta 0:00:11\n",
      "   -------------------------- ------------- 7.6/11.4 MB 376.3 kB/s eta 0:00:11\n",
      "   -------------------------- ------------- 7.6/11.4 MB 376.3 kB/s eta 0:00:11\n",
      "   -------------------------- ------------- 7.6/11.4 MB 376.5 kB/s eta 0:00:11\n",
      "   -------------------------- ------------- 7.6/11.4 MB 376.5 kB/s eta 0:00:11\n",
      "   -------------------------- ------------- 7.6/11.4 MB 376.5 kB/s eta 0:00:11\n",
      "   -------------------------- ------------- 7.7/11.4 MB 376.0 kB/s eta 0:00:10\n",
      "   -------------------------- ------------- 7.7/11.4 MB 376.1 kB/s eta 0:00:10\n",
      "   --------------------------- ------------ 7.7/11.4 MB 376.2 kB/s eta 0:00:10\n",
      "   --------------------------- ------------ 7.7/11.4 MB 376.0 kB/s eta 0:00:10\n",
      "   --------------------------- ------------ 7.8/11.4 MB 376.7 kB/s eta 0:00:10\n",
      "   --------------------------- ------------ 7.8/11.4 MB 376.7 kB/s eta 0:00:10\n",
      "   --------------------------- ------------ 7.8/11.4 MB 377.0 kB/s eta 0:00:10\n",
      "   --------------------------- ------------ 7.8/11.4 MB 377.0 kB/s eta 0:00:10\n",
      "   --------------------------- ------------ 7.8/11.4 MB 377.5 kB/s eta 0:00:10\n",
      "   --------------------------- ------------ 7.8/11.4 MB 377.5 kB/s eta 0:00:10\n",
      "   --------------------------- ------------ 7.9/11.4 MB 378.3 kB/s eta 0:00:10\n",
      "   --------------------------- ------------ 7.9/11.4 MB 378.3 kB/s eta 0:00:10\n",
      "   --------------------------- ------------ 7.9/11.4 MB 378.0 kB/s eta 0:00:10\n",
      "   --------------------------- ------------ 7.9/11.4 MB 378.5 kB/s eta 0:00:10\n",
      "   --------------------------- ------------ 8.0/11.4 MB 377.8 kB/s eta 0:00:10\n",
      "   --------------------------- ------------ 8.0/11.4 MB 377.8 kB/s eta 0:00:10\n",
      "   --------------------------- ------------ 8.0/11.4 MB 377.0 kB/s eta 0:00:10\n",
      "   ---------------------------- ----------- 8.0/11.4 MB 377.7 kB/s eta 0:00:10\n",
      "   ---------------------------- ----------- 8.0/11.4 MB 377.3 kB/s eta 0:00:09\n",
      "   ---------------------------- ----------- 8.0/11.4 MB 377.2 kB/s eta 0:00:09\n",
      "   ---------------------------- ----------- 8.1/11.4 MB 377.1 kB/s eta 0:00:09\n",
      "   ---------------------------- ----------- 8.1/11.4 MB 377.3 kB/s eta 0:00:09\n",
      "   ---------------------------- ----------- 8.1/11.4 MB 377.7 kB/s eta 0:00:09\n",
      "   ---------------------------- ----------- 8.1/11.4 MB 379.0 kB/s eta 0:00:09\n",
      "   ---------------------------- ----------- 8.1/11.4 MB 379.0 kB/s eta 0:00:09\n",
      "   ---------------------------- ----------- 8.1/11.4 MB 379.0 kB/s eta 0:00:09\n",
      "   ---------------------------- ----------- 8.2/11.4 MB 379.4 kB/s eta 0:00:09\n",
      "   ---------------------------- ----------- 8.2/11.4 MB 379.4 kB/s eta 0:00:09\n",
      "   ---------------------------- ----------- 8.2/11.4 MB 379.4 kB/s eta 0:00:09\n",
      "   ---------------------------- ----------- 8.2/11.4 MB 379.4 kB/s eta 0:00:09\n",
      "   ---------------------------- ----------- 8.2/11.4 MB 379.4 kB/s eta 0:00:09\n",
      "   ----------------------------- ---------- 8.3/11.4 MB 379.3 kB/s eta 0:00:09\n",
      "   ----------------------------- ---------- 8.3/11.4 MB 379.3 kB/s eta 0:00:09\n",
      "   ----------------------------- ---------- 8.3/11.4 MB 378.9 kB/s eta 0:00:09\n",
      "   ----------------------------- ---------- 8.3/11.4 MB 378.9 kB/s eta 0:00:09\n",
      "   ----------------------------- ---------- 8.4/11.4 MB 379.3 kB/s eta 0:00:09\n",
      "   ----------------------------- ---------- 8.4/11.4 MB 379.3 kB/s eta 0:00:09\n",
      "   ----------------------------- ---------- 8.4/11.4 MB 379.4 kB/s eta 0:00:08\n",
      "   ----------------------------- ---------- 8.4/11.4 MB 379.4 kB/s eta 0:00:08\n",
      "   ----------------------------- ---------- 8.4/11.4 MB 379.2 kB/s eta 0:00:08\n",
      "   ----------------------------- ---------- 8.4/11.4 MB 379.8 kB/s eta 0:00:08\n",
      "   ----------------------------- ---------- 8.4/11.4 MB 379.8 kB/s eta 0:00:08\n",
      "   ----------------------------- ---------- 8.5/11.4 MB 379.3 kB/s eta 0:00:08\n",
      "   ----------------------------- ---------- 8.5/11.4 MB 379.3 kB/s eta 0:00:08\n",
      "   ----------------------------- ---------- 8.5/11.4 MB 380.0 kB/s eta 0:00:08\n",
      "   ----------------------------- ---------- 8.5/11.4 MB 380.0 kB/s eta 0:00:08\n",
      "   ----------------------------- ---------- 8.5/11.4 MB 378.9 kB/s eta 0:00:08\n",
      "   ----------------------------- ---------- 8.6/11.4 MB 379.8 kB/s eta 0:00:08\n",
      "   ----------------------------- ---------- 8.6/11.4 MB 379.8 kB/s eta 0:00:08\n",
      "   ------------------------------ --------- 8.6/11.4 MB 380.2 kB/s eta 0:00:08\n",
      "   ------------------------------ --------- 8.6/11.4 MB 380.2 kB/s eta 0:00:08\n",
      "   ------------------------------ --------- 8.6/11.4 MB 380.0 kB/s eta 0:00:08\n",
      "   ------------------------------ --------- 8.6/11.4 MB 380.0 kB/s eta 0:00:08\n",
      "   ------------------------------ --------- 8.6/11.4 MB 380.0 kB/s eta 0:00:08\n",
      "   ------------------------------ --------- 8.7/11.4 MB 379.9 kB/s eta 0:00:08\n",
      "   ------------------------------ --------- 8.7/11.4 MB 379.9 kB/s eta 0:00:08\n",
      "   ------------------------------ --------- 8.7/11.4 MB 380.2 kB/s eta 0:00:08\n",
      "   ------------------------------ --------- 8.7/11.4 MB 380.5 kB/s eta 0:00:08\n",
      "   ------------------------------ --------- 8.8/11.4 MB 381.7 kB/s eta 0:00:07\n",
      "   ------------------------------ --------- 8.8/11.4 MB 381.7 kB/s eta 0:00:07\n",
      "   ------------------------------ --------- 8.8/11.4 MB 381.8 kB/s eta 0:00:07\n",
      "   ------------------------------- -------- 8.9/11.4 MB 382.6 kB/s eta 0:00:07\n",
      "   ------------------------------- -------- 8.9/11.4 MB 382.6 kB/s eta 0:00:07\n",
      "   ------------------------------- -------- 8.9/11.4 MB 382.6 kB/s eta 0:00:07\n",
      "   ------------------------------- -------- 8.9/11.4 MB 382.6 kB/s eta 0:00:07\n",
      "   ------------------------------- -------- 8.9/11.4 MB 383.0 kB/s eta 0:00:07\n",
      "   ------------------------------- -------- 8.9/11.4 MB 383.0 kB/s eta 0:00:07\n",
      "   ------------------------------- -------- 9.0/11.4 MB 383.7 kB/s eta 0:00:07\n",
      "   ------------------------------- -------- 9.0/11.4 MB 383.7 kB/s eta 0:00:07\n",
      "   ------------------------------- -------- 9.0/11.4 MB 383.7 kB/s eta 0:00:07\n",
      "   ------------------------------- -------- 9.0/11.4 MB 382.7 kB/s eta 0:00:07\n",
      "   ------------------------------- -------- 9.0/11.4 MB 382.7 kB/s eta 0:00:07\n",
      "   ------------------------------- -------- 9.0/11.4 MB 382.7 kB/s eta 0:00:07\n",
      "   ------------------------------- -------- 9.1/11.4 MB 381.8 kB/s eta 0:00:07\n",
      "   ------------------------------- -------- 9.1/11.4 MB 381.8 kB/s eta 0:00:07\n",
      "   ------------------------------- -------- 9.1/11.4 MB 381.8 kB/s eta 0:00:07\n",
      "   ------------------------------- -------- 9.1/11.4 MB 382.0 kB/s eta 0:00:06\n",
      "   ------------------------------- -------- 9.1/11.4 MB 382.0 kB/s eta 0:00:06\n",
      "   -------------------------------- ------- 9.2/11.4 MB 382.6 kB/s eta 0:00:06\n",
      "   -------------------------------- ------- 9.2/11.4 MB 382.5 kB/s eta 0:00:06\n",
      "   -------------------------------- ------- 9.2/11.4 MB 383.7 kB/s eta 0:00:06\n",
      "   -------------------------------- ------- 9.2/11.4 MB 383.7 kB/s eta 0:00:06\n",
      "   -------------------------------- ------- 9.3/11.4 MB 384.0 kB/s eta 0:00:06\n",
      "   -------------------------------- ------- 9.3/11.4 MB 384.0 kB/s eta 0:00:06\n",
      "   -------------------------------- ------- 9.3/11.4 MB 384.9 kB/s eta 0:00:06\n",
      "   -------------------------------- ------- 9.3/11.4 MB 384.9 kB/s eta 0:00:06\n",
      "   -------------------------------- ------- 9.3/11.4 MB 384.9 kB/s eta 0:00:06\n",
      "   -------------------------------- ------- 9.4/11.4 MB 384.6 kB/s eta 0:00:06\n",
      "   -------------------------------- ------- 9.4/11.4 MB 384.6 kB/s eta 0:00:06\n",
      "   --------------------------------- ------ 9.4/11.4 MB 384.6 kB/s eta 0:00:06\n",
      "   --------------------------------- ------ 9.4/11.4 MB 384.6 kB/s eta 0:00:06\n",
      "   --------------------------------- ------ 9.4/11.4 MB 384.6 kB/s eta 0:00:06\n",
      "   --------------------------------- ------ 9.4/11.4 MB 384.6 kB/s eta 0:00:06\n",
      "   --------------------------------- ------ 9.5/11.4 MB 384.1 kB/s eta 0:00:06\n",
      "   --------------------------------- ------ 9.5/11.4 MB 384.1 kB/s eta 0:00:06\n",
      "   --------------------------------- ------ 9.5/11.4 MB 384.1 kB/s eta 0:00:06\n",
      "   --------------------------------- ------ 9.5/11.4 MB 383.7 kB/s eta 0:00:05\n",
      "   --------------------------------- ------ 9.5/11.4 MB 383.7 kB/s eta 0:00:05\n",
      "   --------------------------------- ------ 9.6/11.4 MB 384.1 kB/s eta 0:00:05\n",
      "   --------------------------------- ------ 9.6/11.4 MB 384.1 kB/s eta 0:00:05\n",
      "   --------------------------------- ------ 9.6/11.4 MB 383.9 kB/s eta 0:00:05\n",
      "   --------------------------------- ------ 9.6/11.4 MB 383.9 kB/s eta 0:00:05\n",
      "   --------------------------------- ------ 9.6/11.4 MB 383.4 kB/s eta 0:00:05\n",
      "   --------------------------------- ------ 9.6/11.4 MB 383.4 kB/s eta 0:00:05\n",
      "   --------------------------------- ------ 9.6/11.4 MB 382.8 kB/s eta 0:00:05\n",
      "   --------------------------------- ------ 9.6/11.4 MB 382.8 kB/s eta 0:00:05\n",
      "   --------------------------------- ------ 9.7/11.4 MB 382.3 kB/s eta 0:00:05\n",
      "   --------------------------------- ------ 9.7/11.4 MB 382.3 kB/s eta 0:00:05\n",
      "   --------------------------------- ------ 9.7/11.4 MB 382.3 kB/s eta 0:00:05\n",
      "   --------------------------------- ------ 9.7/11.4 MB 382.3 kB/s eta 0:00:05\n",
      "   ---------------------------------- ----- 9.7/11.4 MB 381.6 kB/s eta 0:00:05\n",
      "   ---------------------------------- ----- 9.7/11.4 MB 381.6 kB/s eta 0:00:05\n",
      "   ---------------------------------- ----- 9.7/11.4 MB 380.7 kB/s eta 0:00:05\n",
      "   ---------------------------------- ----- 9.8/11.4 MB 380.9 kB/s eta 0:00:05\n",
      "   ---------------------------------- ----- 9.8/11.4 MB 380.9 kB/s eta 0:00:05\n",
      "   ---------------------------------- ----- 9.8/11.4 MB 380.5 kB/s eta 0:00:05\n",
      "   ---------------------------------- ----- 9.8/11.4 MB 380.5 kB/s eta 0:00:05\n",
      "   ---------------------------------- ----- 9.8/11.4 MB 380.3 kB/s eta 0:00:05\n",
      "   ---------------------------------- ----- 9.8/11.4 MB 380.3 kB/s eta 0:00:05\n",
      "   ---------------------------------- ----- 9.8/11.4 MB 379.4 kB/s eta 0:00:05\n",
      "   ---------------------------------- ----- 9.9/11.4 MB 379.8 kB/s eta 0:00:05\n",
      "   ---------------------------------- ----- 9.9/11.4 MB 380.1 kB/s eta 0:00:04\n",
      "   ---------------------------------- ----- 9.9/11.4 MB 380.1 kB/s eta 0:00:04\n",
      "   ---------------------------------- ----- 9.9/11.4 MB 380.1 kB/s eta 0:00:04\n",
      "   ---------------------------------- ----- 9.9/11.4 MB 380.1 kB/s eta 0:00:04\n",
      "   ---------------------------------- ----- 9.9/11.4 MB 380.0 kB/s eta 0:00:04\n",
      "   ---------------------------------- ----- 10.0/11.4 MB 380.2 kB/s eta 0:00:04\n",
      "   ---------------------------------- ----- 10.0/11.4 MB 380.2 kB/s eta 0:00:04\n",
      "   ----------------------------------- ---- 10.0/11.4 MB 380.6 kB/s eta 0:00:04\n",
      "   ----------------------------------- ---- 10.0/11.4 MB 380.6 kB/s eta 0:00:04\n",
      "   ----------------------------------- ---- 10.1/11.4 MB 380.2 kB/s eta 0:00:04\n",
      "   ----------------------------------- ---- 10.1/11.4 MB 380.2 kB/s eta 0:00:04\n",
      "   ----------------------------------- ---- 10.1/11.4 MB 380.0 kB/s eta 0:00:04\n",
      "   ----------------------------------- ---- 10.1/11.4 MB 380.0 kB/s eta 0:00:04\n",
      "   ----------------------------------- ---- 10.1/11.4 MB 379.8 kB/s eta 0:00:04\n",
      "   ----------------------------------- ---- 10.1/11.4 MB 379.8 kB/s eta 0:00:04\n",
      "   ----------------------------------- ---- 10.2/11.4 MB 380.0 kB/s eta 0:00:04\n",
      "   ----------------------------------- ---- 10.2/11.4 MB 380.0 kB/s eta 0:00:04\n",
      "   ----------------------------------- ---- 10.2/11.4 MB 380.0 kB/s eta 0:00:04\n",
      "   ----------------------------------- ---- 10.2/11.4 MB 380.0 kB/s eta 0:00:04\n",
      "   ----------------------------------- ---- 10.2/11.4 MB 380.2 kB/s eta 0:00:04\n",
      "   ----------------------------------- ---- 10.2/11.4 MB 380.2 kB/s eta 0:00:04\n",
      "   ----------------------------------- ---- 10.2/11.4 MB 380.2 kB/s eta 0:00:04\n",
      "   ----------------------------------- ---- 10.2/11.4 MB 380.2 kB/s eta 0:00:04\n",
      "   ------------------------------------ --- 10.3/11.4 MB 378.0 kB/s eta 0:00:04\n",
      "   ------------------------------------ --- 10.3/11.4 MB 378.0 kB/s eta 0:00:03\n",
      "   ------------------------------------ --- 10.3/11.4 MB 378.0 kB/s eta 0:00:03\n",
      "   ------------------------------------ --- 10.4/11.4 MB 377.6 kB/s eta 0:00:03\n",
      "   ------------------------------------ --- 10.4/11.4 MB 377.6 kB/s eta 0:00:03\n",
      "   ------------------------------------ --- 10.4/11.4 MB 378.0 kB/s eta 0:00:03\n",
      "   ------------------------------------ --- 10.4/11.4 MB 377.4 kB/s eta 0:00:03\n",
      "   ------------------------------------ --- 10.4/11.4 MB 377.4 kB/s eta 0:00:03\n",
      "   ------------------------------------ --- 10.4/11.4 MB 378.0 kB/s eta 0:00:03\n",
      "   ------------------------------------ --- 10.4/11.4 MB 378.0 kB/s eta 0:00:03\n",
      "   ------------------------------------ --- 10.5/11.4 MB 378.0 kB/s eta 0:00:03\n",
      "   ------------------------------------ --- 10.5/11.4 MB 378.0 kB/s eta 0:00:03\n",
      "   ------------------------------------ --- 10.5/11.4 MB 378.0 kB/s eta 0:00:03\n",
      "   ------------------------------------ --- 10.5/11.4 MB 378.0 kB/s eta 0:00:03\n",
      "   ------------------------------------- -- 10.6/11.4 MB 376.7 kB/s eta 0:00:03\n",
      "   ------------------------------------- -- 10.6/11.4 MB 376.7 kB/s eta 0:00:03\n",
      "   ------------------------------------- -- 10.6/11.4 MB 376.9 kB/s eta 0:00:03\n",
      "   ------------------------------------- -- 10.6/11.4 MB 376.9 kB/s eta 0:00:03\n",
      "   ------------------------------------- -- 10.7/11.4 MB 377.1 kB/s eta 0:00:02\n",
      "   ------------------------------------- -- 10.7/11.4 MB 377.1 kB/s eta 0:00:02\n",
      "   ------------------------------------- -- 10.7/11.4 MB 376.7 kB/s eta 0:00:02\n",
      "   ------------------------------------- -- 10.7/11.4 MB 376.5 kB/s eta 0:00:02\n",
      "   ------------------------------------- -- 10.7/11.4 MB 376.5 kB/s eta 0:00:02\n",
      "   ------------------------------------- -- 10.8/11.4 MB 376.5 kB/s eta 0:00:02\n",
      "   ------------------------------------- -- 10.8/11.4 MB 377.1 kB/s eta 0:00:02\n",
      "   ------------------------------------- -- 10.8/11.4 MB 377.8 kB/s eta 0:00:02\n",
      "   -------------------------------------- - 10.8/11.4 MB 377.1 kB/s eta 0:00:02\n",
      "   -------------------------------------- - 10.8/11.4 MB 377.1 kB/s eta 0:00:02\n",
      "   -------------------------------------- - 10.8/11.4 MB 377.1 kB/s eta 0:00:02\n",
      "   -------------------------------------- - 10.9/11.4 MB 376.7 kB/s eta 0:00:02\n",
      "   -------------------------------------- - 10.9/11.4 MB 378.0 kB/s eta 0:00:02\n",
      "   -------------------------------------- - 10.9/11.4 MB 377.6 kB/s eta 0:00:02\n",
      "   -------------------------------------- - 10.9/11.4 MB 377.6 kB/s eta 0:00:02\n",
      "   -------------------------------------- - 11.0/11.4 MB 379.8 kB/s eta 0:00:02\n",
      "   -------------------------------------- - 11.0/11.4 MB 379.8 kB/s eta 0:00:02\n",
      "   -------------------------------------- - 11.0/11.4 MB 378.2 kB/s eta 0:00:02\n",
      "   -------------------------------------- - 11.0/11.4 MB 378.2 kB/s eta 0:00:02\n",
      "   -------------------------------------- - 11.0/11.4 MB 378.7 kB/s eta 0:00:01\n",
      "   -------------------------------------- - 11.1/11.4 MB 378.4 kB/s eta 0:00:01\n",
      "   -------------------------------------- - 11.1/11.4 MB 377.1 kB/s eta 0:00:01\n",
      "   -------------------------------------- - 11.1/11.4 MB 378.0 kB/s eta 0:00:01\n",
      "   -------------------------------------- - 11.1/11.4 MB 378.0 kB/s eta 0:00:01\n",
      "   ---------------------------------------  11.1/11.4 MB 378.2 kB/s eta 0:00:01\n",
      "   ---------------------------------------  11.1/11.4 MB 378.2 kB/s eta 0:00:01\n",
      "   ---------------------------------------  11.2/11.4 MB 376.7 kB/s eta 0:00:01\n",
      "   ---------------------------------------  11.2/11.4 MB 376.7 kB/s eta 0:00:01\n",
      "   ---------------------------------------  11.2/11.4 MB 378.4 kB/s eta 0:00:01\n",
      "   ---------------------------------------  11.2/11.4 MB 377.8 kB/s eta 0:00:01\n",
      "   ---------------------------------------  11.3/11.4 MB 378.2 kB/s eta 0:00:01\n",
      "   ---------------------------------------  11.3/11.4 MB 379.1 kB/s eta 0:00:01\n",
      "   ---------------------------------------  11.3/11.4 MB 378.7 kB/s eta 0:00:01\n",
      "   ---------------------------------------  11.3/11.4 MB 379.1 kB/s eta 0:00:01\n",
      "   ---------------------------------------  11.4/11.4 MB 378.7 kB/s eta 0:00:01\n",
      "   ---------------------------------------  11.4/11.4 MB 378.7 kB/s eta 0:00:01\n",
      "   ---------------------------------------  11.4/11.4 MB 378.0 kB/s eta 0:00:01\n",
      "   ---------------------------------------  11.4/11.4 MB 378.0 kB/s eta 0:00:01\n",
      "   ---------------------------------------- 11.4/11.4 MB 376.9 kB/s eta 0:00:00\n",
      "Using cached jupyterlab_server-2.25.3-py3-none-any.whl (58 kB)\n",
      "Using cached notebook_shim-0.2.4-py3-none-any.whl (13 kB)\n",
      "Downloading async_lru-2.0.4-py3-none-any.whl (6.1 kB)\n",
      "Using cached Babel-2.14.0-py3-none-any.whl (11.0 MB)\n",
      "Downloading httpx-0.26.0-py3-none-any.whl (75 kB)\n",
      "   ---------------------------------------- 0.0/75.9 kB ? eta -:--:--\n",
      "   ----- ---------------------------------- 10.2/75.9 kB ? eta -:--:--\n",
      "   -------------------------------- ------- 61.4/75.9 kB 544.7 kB/s eta 0:00:01\n",
      "   -------------------------------- ------- 61.4/75.9 kB 544.7 kB/s eta 0:00:01\n",
      "   -------------------------------- ------- 61.4/75.9 kB 544.7 kB/s eta 0:00:01\n",
      "   ---------------------------------------- 75.9/75.9 kB 279.2 kB/s eta 0:00:00\n",
      "Downloading httpcore-1.0.3-py3-none-any.whl (77 kB)\n",
      "   ---------------------------------------- 0.0/77.0 kB ? eta -:--:--\n",
      "   --------------------- ------------------ 41.0/77.0 kB 991.0 kB/s eta 0:00:01\n",
      "   ---------------------------------------- 77.0/77.0 kB 856.5 kB/s eta 0:00:00\n",
      "Using cached json5-0.9.14-py2.py3-none-any.whl (19 kB)\n",
      "Using cached jupyter_events-0.9.0-py3-none-any.whl (18 kB)\n",
      "Downloading jupyter_lsp-2.2.2-py3-none-any.whl (68 kB)\n",
      "   ---------------------------------------- 0.0/68.8 kB ? eta -:--:--\n",
      "   ----------------- ---------------------- 30.7/68.8 kB ? eta -:--:--\n",
      "   ----------------------------------- ---- 61.4/68.8 kB 544.7 kB/s eta 0:00:01\n",
      "   ---------------------------------------- 68.8/68.8 kB 537.0 kB/s eta 0:00:00\n",
      "Using cached nbconvert-7.16.1-py3-none-any.whl (257 kB)\n",
      "Using cached nbformat-5.9.2-py3-none-any.whl (77 kB)\n",
      "Using cached Send2Trash-1.8.2-py3-none-any.whl (18 kB)\n",
      "Using cached terminado-0.18.0-py3-none-any.whl (14 kB)\n",
      "Using cached pywinpty-2.0.12-cp39-none-win_amd64.whl (1.4 MB)\n",
      "Using cached argon2_cffi-23.1.0-py3-none-any.whl (15 kB)\n",
      "Using cached jupyter_server_terminals-0.5.2-py3-none-any.whl (13 kB)\n",
      "Using cached overrides-7.7.0-py3-none-any.whl (17 kB)\n",
      "Using cached prometheus_client-0.20.0-py3-none-any.whl (54 kB)\n",
      "Using cached websocket_client-1.7.0-py3-none-any.whl (58 kB)\n",
      "Using cached bleach-6.1.0-py3-none-any.whl (162 kB)\n",
      "Using cached mistune-3.0.2-py3-none-any.whl (47 kB)\n",
      "Using cached nbclient-0.9.0-py3-none-any.whl (24 kB)\n",
      "Using cached pandocfilters-1.5.1-py2.py3-none-any.whl (8.7 kB)\n",
      "Using cached python_json_logger-2.0.7-py3-none-any.whl (8.1 kB)\n",
      "Using cached beautifulsoup4-4.12.3-py3-none-any.whl (147 kB)\n",
      "Using cached fastjsonschema-2.19.1-py3-none-any.whl (23 kB)\n",
      "Using cached jupyterlab_pygments-0.3.0-py3-none-any.whl (15 kB)\n",
      "Using cached soupsieve-2.5-py3-none-any.whl (36 kB)\n",
      "Installing collected packages: webencodings, json5, fastjsonschema, websocket-client, tomli, tinycss2, soupsieve, send2trash, pywinpty, python-json-logger, prometheus-client, pandocfilters, overrides, mistune, jupyterlab-pygments, httpcore, defusedxml, bleach, babel, async-lru, terminado, httpx, beautifulsoup4, argon2-cffi-bindings, jupyter-server-terminals, argon2-cffi, nbformat, nbclient, jupyter-events, nbconvert, jupyter-server, notebook-shim, jupyterlab-server, jupyter-lsp, jupyterlab, notebook, nglview\n",
      "Successfully installed argon2-cffi-23.1.0 argon2-cffi-bindings-21.2.0 async-lru-2.0.4 babel-2.14.0 beautifulsoup4-4.12.3 bleach-6.1.0 defusedxml-0.7.1 fastjsonschema-2.19.1 httpcore-1.0.3 httpx-0.26.0 json5-0.9.14 jupyter-events-0.9.0 jupyter-lsp-2.2.2 jupyter-server-2.12.5 jupyter-server-terminals-0.5.2 jupyterlab-4.1.1 jupyterlab-pygments-0.3.0 jupyterlab-server-2.25.3 mistune-3.0.2 nbclient-0.9.0 nbconvert-7.16.1 nbformat-5.9.2 nglview-3.1.1 notebook-7.1.0 notebook-shim-0.2.4 overrides-7.7.0 pandocfilters-1.5.1 prometheus-client-0.20.0 python-json-logger-2.0.7 pywinpty-2.0.12 send2trash-1.8.2 soupsieve-2.5 terminado-0.18.0 tinycss2-1.2.1 tomli-2.0.1 webencodings-0.5.1 websocket-client-1.7.0\n"
     ]
    }
   ],
   "source": [
    "!pip install ipywidgets\n",
    "!pip install nglview"
   ]
  },
  {
   "cell_type": "code",
   "execution_count": 9,
   "id": "cf0beba3-dc74-4a58-bec3-1c6b2f5c5942",
   "metadata": {},
   "outputs": [
    {
     "data": {
      "application/vnd.jupyter.widget-view+json": {
       "model_id": "fbcd4608f59b4707a0d0cbacd10bb8ce",
       "version_major": 2,
       "version_minor": 0
      },
      "text/plain": []
     },
     "metadata": {},
     "output_type": "display_data"
    },
    {
     "name": "stderr",
     "output_type": "stream",
     "text": [
      "C:\\Users\\roste\\AppData\\Local\\Temp\\ipykernel_27508\\4082218225.py:5: DeprecationWarning: \n",
      "Pyarrow will become a required dependency of pandas in the next major release of pandas (pandas 3.0),\n",
      "(to allow more performant data types, such as the Arrow string type, and better interoperability with other libraries)\n",
      "but was not found to be installed on your system.\n",
      "If this would cause problems for you,\n",
      "please provide us feedback at https://github.com/pandas-dev/pandas/issues/54466\n",
      "        \n",
      "  import pandas as pd\n"
     ]
    }
   ],
   "source": [
    "from ipywidgets import interact, Dropdown\n",
    "import numpy as np\n",
    "from pymatgen.io.cif import CifWriter\n",
    "import nglview as nv\n",
    "import pandas as pd\n",
    "from pymatgen.ext.matproj import MPRester\n",
    "from pylab import *\n",
    "import pandas as pd\n",
    "from emmet.core.summary import HasProps\n",
    "from nglview import show_structure_file\n",
    "from pymatgen.io.cif import CifWriter"
   ]
  },
  {
   "cell_type": "markdown",
   "id": "c0c802e0-fcb7-4c9d-a064-f2af1f71fedf",
   "metadata": {},
   "source": [
    "# Example for $TiO_2 - rutile$\n",
    "\n",
    "In the folowing example we took the resulting frequencies from the phonon dispersion at the so called $\\Gamma$ point, which is the the symmetric point found at $\\hat{R}= 0 \\hat{h} + 0 \\hat{l} + 0 \\hat{k}$"
   ]
  },
  {
   "cell_type": "code",
   "execution_count": null,
   "id": "0bac553e-b027-43b3-82cb-5e69160ec9d0",
   "metadata": {},
   "outputs": [],
   "source": [
    "\n",
    "# Here you can insert the materials project ID\n",
    "material_id = \"mp-2657\"\n",
    "\n",
    "# This API key can be requested in the website: https://next-gen.materialsproject.org/api\n",
    "API_key     = \"KtIh48DvYoLHaz1SLKRy6Qv4wAHQ09nc\"\n",
    "\n",
    "\n",
    "def plot_phonon_and_structure(material_id):\n",
    "    with MPRester(API_key) as mpr:\n",
    "        ph_bs = mpr.get_phonon_bandstructure_by_material_id(material_id)\n",
    "        ph_dos = mpr.get_phonon_dos_by_material_id(material_id)\n",
    "        structure = mpr.get_structure_by_material_id(material_id)\n",
    "\n",
    "    position = []\n",
    "    label = []\n",
    "    lines = []\n",
    "\n",
    "    for i in ph_bs.as_phononwebsite()[\"line_breaks\"]:\n",
    "        lines.append(i[0])\n",
    "\n",
    "    for i in ph_bs.as_phononwebsite()[\"highsym_qpts\"]:\n",
    "        position.append(i[0])\n",
    "        label.append(\"$\" + i[1] + \"$\")\n",
    "\n",
    "    print(structure)\n",
    "    cif_filename = f\"material_structure_{material_id}.cif\"  # Name of the output CIF file\n",
    "\n",
    "    cif_writer = CifWriter(structure)\n",
    "    cif_writer.write_file(cif_filename)\n",
    "    struct_file = nv.FileStructure(cif_filename)\n",
    "    \n",
    "    view = nv.show_file(struct_file)\n",
    "    view._remote_call(\"setSize\", args=[\"\", \"300px\"])\n",
    "    view.camera = \"orthographic\"\n",
    "    view.add_unitcell()\n",
    "    view\n",
    "    fig, ax = plt.subplots(ncols=2, nrows=1, figsize=(15, 7), gridspec_kw={'wspace': 0.2, 'hspace': 0, 'width_ratios': [2, 1]})\n",
    "    ax[0].plot(ph_bs.as_phononwebsite()[\"eigenvalues\"])\n",
    "    density_points = len(ph_dos.as_dict()[\"densities\"])\n",
    "    ax[0].set_ylim(0, (density_points))\n",
    "    ax[0].set_xlim(0, max(position))\n",
    "    # print(\"here : \", position, label)\n",
    "    ax[0].set_xticks(ticks= position, labels=label)\n",
    "    ax[0].set_ylabel(r\"Frequency [$cm^{-1}$]\")\n",
    "    ax[0].set_xlabel(r\"K  [$\\frac{2\\pi}{a}$]\")\n",
    "    ax[1].set_xlabel(r\"DOS\")\n",
    "    for i in lines:\n",
    "        ax[0].axvline(i - 1, c=\"black\")\n",
    "\n",
    "    ax[1].plot(ph_dos.as_dict()[\"densities\"], np.arange(density_points))\n",
    "    ax[1].set_ylim(0, (density_points))\n",
    "    ax[1].set_xlim(0)\n",
    "    return view\n",
    "plot_phonon_and_structure(material_id)\n",
    "    "
   ]
  },
  {
   "cell_type": "code",
   "execution_count": null,
   "id": "6eb8d95b-07c0-45cf-8b43-1d944c3b3a9c",
   "metadata": {},
   "outputs": [],
   "source": [
    "import numpy as np\n",
    "\n",
    "bands, qpoints, basis, vector = shape(ph_bs.eigendisplacements)\n",
    "# Sample eigenvectors and eigenvalues (replace with your actual data)\n",
    "\n",
    "eigenvectors = ph_bs.eigendisplacements\n",
    "eigenvalues  = ph_bs.bands\n",
    "qpoints_v = ph_bs.as_dict()[\"qpoints\"]\n",
    "\n",
    "\n",
    "\n",
    "# Constants (you might need to adjust these)\n",
    "proportionality_IR = 1.0\n",
    "proportionality_Raman = 1.0\n",
    "\n",
    "# Calculate IR intensities\n",
    "IR_intensities = np.zeros((bands, qpoints))\n",
    "for i in range(bands):\n",
    "    for q in range(qpoints):\n",
    "        for basis_dir in range(basis):\n",
    "            IR_intensities[i, q] += np.abs(np.dot(\n",
    "                eigenvectors[i, q, basis_dir],\n",
    "                qpoints_v[q])  # Replace with actual Cartesian direction vector\n",
    "            ) ** 2\n",
    "\n",
    "# Calculate Raman intensities\n",
    "Raman_intensities = np.zeros((bands, qpoints))\n",
    "for i in range(bands):\n",
    "    # for q in range(qpoints):\n",
    "    for basis_dir_alpha in range(basis):\n",
    "        for basis_dir_beta in range(basis):\n",
    "            Raman_intensities[i, 0] += np.abs(np.dot(\n",
    "                        eigenvectors[i, 0, basis_dir_alpha],\n",
    "                        eigenvectors[i, 0, basis_dir_beta]\n",
    "                    )) ** 2 * proportionality_Raman\n",
    "\n",
    "# Normalize intensities\n",
    "IR_intensities *= proportionality_IR\n",
    "Raman_intensities *= proportionality_Raman\n",
    "\n",
    "# Now you can plot the IR and Raman spectra using your preferred plotting library\n",
    "# (e.g., Matplotlib)\n",
    "# Plot Raman Spectrum\n",
    "plt.figure(figsize=(6, 6))\n",
    "frequencies=eigenvalues\n",
    "IR_total= list(zeros(len(frequencies[0])))\n",
    "Freq_total= list(zeros(len(frequencies[0])))\n",
    "for i in range(bands):\n",
    "    plt.scatter(frequencies[i]*33.356, Raman_intensities[i], label=f'Mode {i+1}')\n",
    "    IR_total+=list(Raman_intensities[i])\n",
    "    Freq_total+=list(frequencies[i]*33.356)\n",
    "\n",
    "\n",
    "\n",
    "Freq_0 = list(arange(0,2000,0.1))\n",
    "IR_0   = list(zeros(len(Freq_0)))\n",
    "\n",
    "Freq_total_s = Freq_0 + Freq_total\n",
    "IR_total_s   = IR_0 + IR_total\n",
    "all= []\n",
    "for i in range(len(IR_total_s)):\n",
    "    all.append(tuple((Freq_total_s[i],IR_total_s[i])))\n",
    "\n",
    "all.sort()\n",
    "x= []\n",
    "y= []\n",
    "for i in all:\n",
    "    x.append(round(i[0],1))\n",
    "    y.append(i[1])\n",
    "    \n",
    "xlabel(r\"$Frequency [cm^{-1}]$\")\n",
    "ylabel(r\"Intensity\")"
   ]
  },
  {
   "cell_type": "code",
   "execution_count": null,
   "id": "d46fef5d-5220-42b1-8059-8fe0c778dae8",
   "metadata": {},
   "outputs": [],
   "source": [
    "frequencies = x \n",
    "intensities = y \n",
    "\n",
    "\n",
    "# Crear un diccionario para realizar un seguimiento de las sumas de intensidades por frecuencia\n",
    "frequency_intensity_dict = {}\n",
    "\n",
    "\n",
    "for frequency, intensity in zip(frequencies, intensities):\n",
    "\n",
    "    if frequency in frequency_intensity_dict:\n",
    "        frequency_intensity_dict[frequency] += intensity\n",
    "    else:\n",
    "       \n",
    "        frequency_intensity_dict[frequency] = intensity\n",
    "\n",
    "result_frequencies = list(frequency_intensity_dict.keys())\n",
    "result_intensities = list(frequency_intensity_dict.values())\n",
    "\n",
    "plot(result_frequencies,result_intensities)\n",
    "xlabel(r\"$Frequency [cm^{-1}]$\")\n",
    "ylabel(r\"Intensity\")\n",
    "xlim(0,900)\n"
   ]
  },
  {
   "cell_type": "code",
   "execution_count": null,
   "id": "b2a811f6-f0cd-49b0-af95-c658899205cb",
   "metadata": {},
   "outputs": [],
   "source": [
    "from scipy.signal import argrelextrema\n",
    "def g(wavenumb_sweep, intensity_max, wavenumber_max, σ):\n",
    "    G = intensity_max / (σ *sqrt(2 * pi)) * exp(-(wavenumb_sweep-wavenumber_max)**2 / (2*σ**2))\n",
    "    new_y=array(G)  \n",
    "    return new_y\n",
    "result_frequencies = list(frequency_intensity_dict.keys())\n",
    "result_intensities = list(frequency_intensity_dict.values())      \n",
    "\n",
    "wavenumb   = result_frequencies\n",
    "max_int    = max(result_intensities)\n",
    "\n",
    "norm_int = []\n",
    "for i in result_intensities:\n",
    "    norm_int.append(i/max_int)\n",
    "\n",
    "### Gausian function to broaden peaks\n",
    "pos_max    = argrelextrema(array(norm_int), np.greater)\n",
    "x          = array(wavenumb)\n",
    "all_curve = 0\n",
    "σ = 20\n",
    "for i in pos_max[0]:\n",
    "    all_curve += g(x, norm_int[i], wavenumb[i],σ)      \n",
    "broad_int = all_curve   \n",
    "\n",
    "### Normalization\n",
    "\n",
    "max_y = max(broad_int)\n",
    "int_norm = []\n",
    "\n",
    "for i in broad_int:\n",
    "    int_norm.append((i/max_y))\n",
    "plot(wavenumb,int_norm)\n",
    "\n",
    "plot(result_frequencies,result_intensities)\n",
    "xlabel(r\"$Frequency [cm^{-1}]$\")\n",
    "ylabel(r\"Intensity\")\n",
    "xlim(0,900)\n"
   ]
  },
  {
   "cell_type": "code",
   "execution_count": null,
   "id": "8bf6c647-c5e0-48d0-a6f3-d9d336ea9cec",
   "metadata": {},
   "outputs": [],
   "source": []
  },
  {
   "cell_type": "markdown",
   "id": "0ed7b603-ac81-4f87-a4dc-aa75e6c15f15",
   "metadata": {},
   "source": [
    "## Comparison of experimental data and simulated Raman"
   ]
  },
  {
   "cell_type": "code",
   "execution_count": null,
   "id": "fdb0088e-9330-4f57-8f75-782f02b19103",
   "metadata": {},
   "outputs": [],
   "source": [
    "from txt_raman_reader import RRUFF_text"
   ]
  },
  {
   "cell_type": "code",
   "execution_count": null,
   "id": "f4707be7-8552-45d1-b580-3352bb208a09",
   "metadata": {},
   "outputs": [],
   "source": [
    "df=RRUFF_text(\"rutile_exp_dep.txt\")._read_file()\n",
    "plot(df[\"wavenumbers\"], df[\"intensities_normalized\"])\n",
    "plot(wavenumb,int_norm)\n",
    "\n",
    "xlabel(r\"$Frequency [cm^{-1}]$\")\n",
    "ylabel(r\"Intensity\")\n",
    "xlim(0,900)\n"
   ]
  },
  {
   "cell_type": "markdown",
   "id": "e6e02143-59b0-41f9-899b-819793d497db",
   "metadata": {},
   "source": [
    "# How Raman and IR are simulated in reality? "
   ]
  },
  {
   "cell_type": "markdown",
   "id": "0a1cc524-2b8d-4187-9eff-20dd957a5346",
   "metadata": {},
   "source": [
    "In simulations of Raman and IR spectra within the framework of density functional theory (DFT), the calculation of Raman and IR intensities involves the polarizability tensor and Born charge derivatives:\n",
    "\n",
    "**Polarizability Tensor:**\n",
    "\n",
    "The polarizability tensor is a key concept in the calculation of Raman and IR intensities. It characterizes how the electron cloud of a molecule or crystal responds to an external electric field. The polarizability tensor is usually represented as a 3x3 matrix in three-dimensional space. Each element of this matrix represents how the electron cloud responds to an electric field in a specific direction.\n",
    "\n",
    "In the context of Raman and IR spectroscopy:\n",
    "\n",
    "- IR Spectroscopy: In IR spectroscopy, the polarizability tensor is used to calculate the intensity of IR-active modes. When atoms in a material vibrate, they induce changes in the electron density, leading to changes in the dipole moment of the system. The polarizability tensor relates the atomic displacements to these changes in dipole moment, allowing you to determine which vibrational modes will be IR-active.\n",
    "\n",
    "- Raman Spectroscopy: In Raman spectroscopy, the polarizability tensor is used to calculate the intensity of Raman-active modes. Here, the change in the polarizability of the system due to atomic vibrations is what matters. The polarizability tensor relates the atomic displacements to changes in the polarizability, and this information helps determine which vibrational modes will be Raman-active.\n",
    "\n",
    "**Born Charge Derivatives:**\n",
    "\n",
    "The Born charge derivatives are another critical component in these simulations, especially when dealing with crystalline materials. The Born charge, denoted as *Z*, represents the effective charge of an atom in a crystal due to the interaction with the surrounding lattice. The Born charge derivatives refer to how this effective charge changes as the atomic positions vary.\n",
    "\n",
    "In the context of Raman and IR simulations:\n",
    "\n",
    "IR Spectroscopy: To calculate IR intensities in crystalline materials, you often need the derivatives of the Born charge with respect to atomic displacements. These derivatives, known as the \"Born effective charges\" help account for the response of atoms within the crystal to the vibrational modes. They are essential for determining the IR activity of vibrational modes in crystals.\n",
    "\n",
    "Raman Spectroscopy: Born charge derivatives are also important for Raman spectroscopy, particularly in the context of lattice dynamics. These derivatives describe how the polarizability changes with atomic displacements and are used to calculate Raman intensities, especially in crystalline materials.\n",
    "\n",
    "In summary, the polarizability tensor and Born charge derivatives play crucial roles in simulating Raman and IR spectra within the DFT framework, allowing you to predict which vibrational modes will be active and the intensities of these modes in the corresponding spectra. Understanding these quantities and their relationships to the atomic and electronic properties of the material is essential for accurate spectroscopic predictions."
   ]
  },
  {
   "cell_type": "code",
   "execution_count": null,
   "id": "772d38d3-4731-4def-8888-2e0f8ec728f3",
   "metadata": {},
   "outputs": [],
   "source": [
    "\n",
    "\n",
    "freq_dft = [1.129780207231549269e+02 , 1.129780207231552680e+02 ,1.749879864729470853e+02 ,1.749879864729474264e+02 ,3.611532269867757350e+02 ,4.793102600546089320e+02 ,4.957302896450344178e+02 ,6.001592985713667758e+02 ,6.001592985713667758e+02] \n",
    "int_dft = [1.000000000000000000e+00,9.999999999999938938e-01,2.939221091892205324e-03,2.939221091892158921e-03,1.494269659327405464e-01,1.890540997545240437e-02,1.019312927046264333e-01,1.445200115409593922e-01,1.445200115409594477e-01]\n",
    "\n",
    "def Gaus_norm( list_freq,list_int, sigma):\n",
    "    ### Gausian function to broaden peaks\n",
    "    int_dft_m      = list_int + list(zeros(len(wavenumb)))\n",
    "    x_dft          = list_freq + wavenumb\n",
    "    \n",
    "    all= []\n",
    "    for i in range(len(int_dft_m )):\n",
    "        all.append(tuple((x_dft[i],int_dft_m[i])))\n",
    "    \n",
    "    all.sort()\n",
    "    x= []\n",
    "    y= []\n",
    "    for i in all:\n",
    "        x.append(round(i[0],1))\n",
    "        y.append(i[1])\n",
    "    \n",
    "    frequencies = x\n",
    "    intensities = y\n",
    "    \n",
    "    # Crear un diccionario para realizar un seguimiento de las sumas de intensidades por frecuencia\n",
    "    frequency_intensity_dict = {}\n",
    "    \n",
    "    for frequency, intensity in zip(frequencies, intensities):\n",
    "    \n",
    "        if frequency in frequency_intensity_dict:\n",
    "            frequency_intensity_dict[frequency] += intensity\n",
    "        else:\n",
    "           \n",
    "            frequency_intensity_dict[frequency] = intensity\n",
    "    \n",
    "    result_frequencies_dft = list(frequency_intensity_dict.keys())\n",
    "    result_intensities_dft = list(frequency_intensity_dict.values())    \n",
    "    \n",
    "    \n",
    "    wavenumb_dft   = result_frequencies_dft\n",
    "    max_int    = max(result_intensities_dft)\n",
    "    \n",
    "    norm_int = []\n",
    "    for i in result_intensities_dft:\n",
    "        norm_int.append(i/max_int)\n",
    "    \n",
    "    ### Gausian function to broaden peaks\n",
    "    pos_max    = argrelextrema(array(norm_int), np.greater)\n",
    "    \n",
    "    x          = array(wavenumb)\n",
    "    \n",
    "    all_curve = 0\n",
    "    σ = sigma\n",
    "    for i in pos_max[0]:\n",
    "        all_curve += g(x, norm_int[i], wavenumb[i],σ)      \n",
    "    broad_int = all_curve   \n",
    "    \n",
    "    ### Normalization\n",
    "    \n",
    "    max_y = max(broad_int)\n",
    "    int_norm_dft = []\n",
    "    \n",
    "    for i in broad_int:\n",
    "        int_norm_dft.append((i/max_y))\n",
    "    return wavenumb, int_norm_dft, result_intensities_dft\n",
    "import json\n",
    " \n",
    "# Opening JSON file\n",
    "f = open('crd.json')\n",
    " \n",
    "# returns JSON object as\n",
    "# a dictionary\n",
    "data = json.load(f)\n"
   ]
  },
  {
   "cell_type": "code",
   "execution_count": null,
   "id": "6062107a-7214-4095-b728-ca60c95e5b69",
   "metadata": {},
   "outputs": [],
   "source": [
    "\n",
    "def intensity_raman(raman_tensor):\n",
    "    \"\"\" Average a Raman-activity tensor to obtain a scalar\n",
    "    intensity. \"\"\"\n",
    "\n",
    "    # This formula came from D. Porezag and M. R. Pederson, Phys. Rev.\n",
    "    # B: Condens. Matter Mater. Phys., 1996, 54, 7830.\n",
    "    \n",
    "        \n",
    "    if raman_tensor==None or raman_tensor==0:\n",
    "        return 0\n",
    "    else: \n",
    "\n",
    "        alpha = (\n",
    "            (raman_tensor[0][0] + raman_tensor[1][1] + raman_tensor[2][2])\n",
    "            / 3.0)\n",
    "    \n",
    "        beta_squared = 0.5 * (\n",
    "            (raman_tensor[0][0] - raman_tensor[1][1]) ** 2\n",
    "            + (raman_tensor[0][0] - raman_tensor[2][2]) ** 2\n",
    "            + (raman_tensor[1][1] - raman_tensor[2][2]) ** 2\n",
    "            + 6.0 * (raman_tensor[0][1] ** 2 + raman_tensor[0][2] ** 2 +\n",
    "                raman_tensor[1][2] ** 2)\n",
    "            )\n",
    "    \n",
    "        return (45.0 * alpha ** 2 + 7.0 * beta_squared)\n",
    "freq = data[\"4146\"][\"key_value_pairs\"][\"frequencies_cm\"]\n",
    "freq= freq.replace(\"[\", \" \")\n",
    "freq=freq.replace(\"]\", \" \")\n",
    "freq=freq.replace(\"\\n\", \" \")\n",
    "freq=freq.split()\n",
    "freqs_db = [float(i) for i  in freq ] \n",
    "ints_ram_t = []\n",
    "for i in data[\"4146\"][\"data\"][\"raman_tensors\"]:\n",
    "    ints_ram_t.append(intensity_raman(i))\n",
    "    \n",
    "int_db = data[\"4146\"][\"data\"][\"Ramanactive\"][\"__ndarray__\"][2]\n",
    "\n",
    "# freq_gn, int_gn, int_n = Gaus_norm(freqs_db,int_db,10)\n",
    "# plot(freq_gn, int_n, label= \"DFT-DB-1\")\n",
    "\n",
    "freq_gn, int_gn, int_n = Gaus_norm(freqs_db,ints_ram_t,10)\n",
    "plot(freq_gn, int_gn, label= \"DFT-DB\")\n",
    "plot(df[\"wavenumbers\"], df[\"intensities_normalized\"])\n",
    "xlabel(r\"$Frequency [cm^{-1}]$\")\n",
    "ylabel(r\"Intensity\")\n",
    "xlim(0,900)\n",
    "\n",
    "\n",
    "# wavenumb, int_norm_dft, result_intensities_dft = Gaus_norm( freq_dft, int_dft, 10)"
   ]
  },
  {
   "cell_type": "markdown",
   "id": "bd036645-9be3-4c69-b01f-748d74a8e320",
   "metadata": {},
   "source": [
    "# Research at EPFL "
   ]
  },
  {
   "cell_type": "code",
   "execution_count": null,
   "id": "970da4d8-faec-4b77-85de-0ff41b7a65a1",
   "metadata": {},
   "outputs": [],
   "source": [
    "df_a=RRUFF_text(\"anastase_532_exp.txt\")._read_file()\n",
    "\n",
    "freq_dft = [1.129780207231549269e+02 , 1.129780207231552680e+02 ,1.749879864729470853e+02 ,1.749879864729474264e+02 ,3.611532269867757350e+02 ,4.793102600546089320e+02 ,4.957302896450344178e+02 ,6.001592985713667758e+02 ,6.001592985713667758e+02] \n",
    "int_dft = [1.000000000000000000e+00,9.999999999999938938e-01,2.939221091892205324e-03,2.939221091892158921e-03,1.494269659327405464e-01,1.890540997545240437e-02,1.019312927046264333e-01,1.445200115409593922e-01,1.445200115409594477e-01]\n",
    "freq_dft, int_dft, a = Gaus_norm(freq_dft,int_dft,20)\n",
    "plot(freq_dft,int_dft)\n",
    "plot(df_a[\"wavenumbers\"],df_a[\"intensities_normalized\"])\n",
    "\n",
    "xlabel(r\"$Frequency [cm^{-1}]$\")\n",
    "ylabel(r\"Intensity\")\n",
    "xlim(0,900)\n"
   ]
  },
  {
   "cell_type": "code",
   "execution_count": null,
   "id": "d911d127-1210-4881-a1dd-f1b6aedec88d",
   "metadata": {},
   "outputs": [],
   "source": []
  }
 ],
 "metadata": {
  "kernelspec": {
   "display_name": "Python 3 (ipykernel)",
   "language": "python",
   "name": "python3"
  },
  "language_info": {
   "codemirror_mode": {
    "name": "ipython",
    "version": 3
   },
   "file_extension": ".py",
   "mimetype": "text/x-python",
   "name": "python",
   "nbconvert_exporter": "python",
   "pygments_lexer": "ipython3",
   "version": "3.11.3"
  }
 },
 "nbformat": 4,
 "nbformat_minor": 5
}
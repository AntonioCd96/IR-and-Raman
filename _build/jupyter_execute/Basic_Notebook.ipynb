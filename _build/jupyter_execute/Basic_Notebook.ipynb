{
 "cells": [
  {
   "cell_type": "markdown",
   "metadata": {},
   "source": [
    "# Jupyter Notebook\n",
    "**OBJ: Get familiar with development environment of Jupyter Notebook** "
   ]
  },
  {
   "cell_type": "markdown",
   "metadata": {},
   "source": [
    "## Identify Cells\n",
    "1) Add a Cell\n",
    "\n",
    "2) Type of cell: *Markdown*\n",
    "\n",
    "  [Markdown-BasicSyntax](https://www.markdownguide.org/basic-syntax/)"
   ]
  },
  {
   "cell_type": "code",
   "execution_count": 1,
   "metadata": {},
   "outputs": [],
   "source": [
    "# 3) You can comment using hashtag "
   ]
  },
  {
   "cell_type": "markdown",
   "metadata": {},
   "source": [
    "4) Identify icons:\n",
    "\n",
    "    Save: to save your work (not really neeeded, python has an autosaving)\n",
    "    \n",
    "    Add Cell \n",
    "    \n",
    "    Cut/Copy/Paste\n",
    "    \n",
    "    Move selected cells up/down\n",
    "    \n",
    "    Run/Stop: Run the code inside a cell\n",
    "    \n",
    "    Command palette\n",
    "    \n",
    "    "
   ]
  },
  {
   "cell_type": "markdown",
   "metadata": {},
   "source": [
    "5) Kernel: It is the execution engine of all the contents of the Notebook.\n",
    "\n",
    "*Ej. Python3*"
   ]
  },
  {
   "cell_type": "code",
   "execution_count": null,
   "metadata": {},
   "outputs": [],
   "source": []
  }
 ],
 "metadata": {
  "kernelspec": {
   "display_name": "Python 3",
   "language": "python",
   "name": "python3"
  },
  "language_info": {
   "codemirror_mode": {
    "name": "ipython",
    "version": 3
   },
   "file_extension": ".py",
   "mimetype": "text/x-python",
   "name": "python",
   "nbconvert_exporter": "python",
   "pygments_lexer": "ipython3",
   "version": "3.11.3"
  }
 },
 "nbformat": 4,
 "nbformat_minor": 2
}
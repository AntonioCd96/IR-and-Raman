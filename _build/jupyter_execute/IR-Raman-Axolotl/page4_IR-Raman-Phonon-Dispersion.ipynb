{
 "cells": [
  {
   "cell_type": "markdown",
   "id": "3d64f42c-1116-4503-8f0d-248038ec06df",
   "metadata": {},
   "source": [
    "# IR and raman"
   ]
  },
  {
   "cell_type": "markdown",
   "id": "6e45e66c-d01f-4c04-9584-fcafdabd40a2",
   "metadata": {},
   "source": [
    "- IR-active modes are characterized by changes in the dipole moment of the molecule during vibration. To calculate IR intensities, you can use the following formula for each mode:\n",
    "\n",
    "\n",
    "$\n",
    "I_{IR} \\propto \\sum_{i} \\left| \\sum_{\\alpha} \\mathbf{e}_{i,\\alpha} \\cdot \\mathbf{d}_{\\alpha} \\right|^2 \\cdot \\delta(\\omega - \\omega_i)\n",
    "$\n",
    "\n",
    "\n",
    "\n",
    "where $\\mathbf{e}_{i,\\alpha}$   is the eigenvector of mode$i$ along direction $\\alpha$ ; $\\mathbf{d}_{\\alpha}$  is the unit vector for the \n",
    "$e_{i, α-th}$ Cartesian direction, a d $\\delta(\\omega-\\omega_i)$ is a Dirac delta function centered at the frequency $\\omega_i$ of the mode $i$\n",
    "\n",
    "\n",
    "The resulting values represent the intensities of IR-active modes in the calculated IR spectrum.\n",
    "- On the other side, to estimate  Raman Intensities\n",
    "Raman-active modes are characterized by changes in polarizability during vibration. The Raman intensity can be calculated using the following formula for each mode:\n",
    "\n",
    "\n",
    "$I_{\\text{Raman}} \\propto \\sum_{i} \\left| \\sum_{\\alpha, \\beta} \\mathbf{e}_{i,\\alpha} \\cdot \\mathbf{e}_{i,\\beta} \\cdot \\alpha_{\\alpha, \\beta} \\right|^2 \\cdot \\delta(\\omega - \\omega_i$\n",
    "\n",
    "\n",
    "where$ \\alpha_{\\alpha, \\beta}$   is the polarizability tensor element between directio $ $\n",
    "α an$d$ β.\n",
    "\n",
    "The resulting values represent the intensities of Raman-active modes in the calculated Raman spectrum."
   ]
  },
  {
   "cell_type": "code",
   "execution_count": 1,
   "id": "556d4bbb-58c1-455b-be42-713631d42ccf",
   "metadata": {},
   "outputs": [
    {
     "name": "stdout",
     "output_type": "stream",
     "text": [
      "Requirement already satisfied: mp-api in /home/cd96/psi4conda/envs/jbook/lib/python3.11/site-packages (0.40.0)\r\n"
     ]
    },
    {
     "name": "stdout",
     "output_type": "stream",
     "text": [
      "Requirement already satisfied: setuptools in /home/cd96/psi4conda/envs/jbook/lib/python3.11/site-packages (from mp-api) (67.7.2)\r\n",
      "Requirement already satisfied: msgpack in /home/cd96/psi4conda/envs/jbook/lib/python3.11/site-packages (from mp-api) (1.0.7)\r\n",
      "Requirement already satisfied: maggma>=0.57.1 in /home/cd96/psi4conda/envs/jbook/lib/python3.11/site-packages (from mp-api) (0.63.1)\r\n",
      "Requirement already satisfied: pymatgen>=2022.3.7 in /home/cd96/psi4conda/envs/jbook/lib/python3.11/site-packages (from mp-api) (2024.2.8)\r\n",
      "Requirement already satisfied: typing-extensions>=3.7.4.1 in /home/cd96/psi4conda/envs/jbook/lib/python3.11/site-packages (from mp-api) (4.9.0)\r\n",
      "Requirement already satisfied: requests>=2.23.0 in /home/cd96/psi4conda/envs/jbook/lib/python3.11/site-packages (from mp-api) (2.29.0)\r\n",
      "Requirement already satisfied: monty>=2023.9.25 in /home/cd96/psi4conda/envs/jbook/lib/python3.11/site-packages (from mp-api) (2024.2.2)\r\n",
      "Requirement already satisfied: emmet-core>=0.78.0rc3 in /home/cd96/psi4conda/envs/jbook/lib/python3.11/site-packages (from mp-api) (0.78.0rc3)\r\n",
      "Requirement already satisfied: pydantic>=2.0 in /home/cd96/psi4conda/envs/jbook/lib/python3.11/site-packages (from emmet-core>=0.78.0rc3->mp-api) (2.6.1)\r\n",
      "Requirement already satisfied: pydantic-settings>=2.0 in /home/cd96/psi4conda/envs/jbook/lib/python3.11/site-packages (from emmet-core>=0.78.0rc3->mp-api) (2.1.0)\r\n",
      "Requirement already satisfied: pybtex~=0.24 in /home/cd96/psi4conda/envs/jbook/lib/python3.11/site-packages (from emmet-core>=0.78.0rc3->mp-api) (0.24.0)\r\n"
     ]
    },
    {
     "name": "stdout",
     "output_type": "stream",
     "text": [
      "Requirement already satisfied: ruamel.yaml<0.18 in /home/cd96/psi4conda/envs/jbook/lib/python3.11/site-packages (from maggma>=0.57.1->mp-api) (0.17.40)\r\n",
      "Requirement already satisfied: pymongo>=4.2.0 in /home/cd96/psi4conda/envs/jbook/lib/python3.11/site-packages (from maggma>=0.57.1->mp-api) (4.6.1)\r\n",
      "Requirement already satisfied: mongomock>=3.10.0 in /home/cd96/psi4conda/envs/jbook/lib/python3.11/site-packages (from maggma>=0.57.1->mp-api) (4.1.2)\r\n",
      "Requirement already satisfied: pydash>=4.1.0 in /home/cd96/psi4conda/envs/jbook/lib/python3.11/site-packages (from maggma>=0.57.1->mp-api) (7.0.7)\r\n",
      "Requirement already satisfied: jsonschema>=3.1.1 in /home/cd96/psi4conda/envs/jbook/lib/python3.11/site-packages (from maggma>=0.57.1->mp-api) (4.17.3)\r\n",
      "Requirement already satisfied: tqdm>=4.19.6 in /home/cd96/psi4conda/envs/jbook/lib/python3.11/site-packages (from maggma>=0.57.1->mp-api) (4.66.2)\r\n",
      "Requirement already satisfied: mongogrant>=0.3.1 in /home/cd96/psi4conda/envs/jbook/lib/python3.11/site-packages (from maggma>=0.57.1->mp-api) (0.3.3)\r\n",
      "Requirement already satisfied: aioitertools>=0.5.1 in /home/cd96/psi4conda/envs/jbook/lib/python3.11/site-packages (from maggma>=0.57.1->mp-api) (0.11.0)\r\n",
      "Requirement already satisfied: numpy>=1.17.3 in /home/cd96/psi4conda/envs/jbook/lib/python3.11/site-packages (from maggma>=0.57.1->mp-api) (1.25.2)\r\n",
      "Requirement already satisfied: fastapi>=0.42.0 in /home/cd96/psi4conda/envs/jbook/lib/python3.11/site-packages (from maggma>=0.57.1->mp-api) (0.109.2)\r\n",
      "Requirement already satisfied: pyzmq>=24.0.1 in /home/cd96/psi4conda/envs/jbook/lib/python3.11/site-packages (from maggma>=0.57.1->mp-api) (25.0.2)\r\n",
      "Requirement already satisfied: dnspython>=1.16.0 in /home/cd96/psi4conda/envs/jbook/lib/python3.11/site-packages (from maggma>=0.57.1->mp-api) (2.5.0)\r\n",
      "Requirement already satisfied: sshtunnel>=0.1.5 in /home/cd96/psi4conda/envs/jbook/lib/python3.11/site-packages (from maggma>=0.57.1->mp-api) (0.4.0)\r\n",
      "Requirement already satisfied: orjson>=3.9.0 in /home/cd96/psi4conda/envs/jbook/lib/python3.11/site-packages (from maggma>=0.57.1->mp-api) (3.9.14)\r\n",
      "Requirement already satisfied: boto3>=1.20.41 in /home/cd96/psi4conda/envs/jbook/lib/python3.11/site-packages (from maggma>=0.57.1->mp-api) (1.34.43)\r\n",
      "Requirement already satisfied: python-dateutil>=2.8.2 in /home/cd96/psi4conda/envs/jbook/lib/python3.11/site-packages (from maggma>=0.57.1->mp-api) (2.8.2)\r\n",
      "Requirement already satisfied: uvicorn>=0.18.3 in /home/cd96/psi4conda/envs/jbook/lib/python3.11/site-packages (from maggma>=0.57.1->mp-api) (0.27.1)\r\n"
     ]
    },
    {
     "name": "stdout",
     "output_type": "stream",
     "text": [
      "Requirement already satisfied: matplotlib>=1.5 in /home/cd96/psi4conda/envs/jbook/lib/python3.11/site-packages (from pymatgen>=2022.3.7->mp-api) (3.7.1)\r\n",
      "Requirement already satisfied: networkx>=2.2 in /home/cd96/psi4conda/envs/jbook/lib/python3.11/site-packages (from pymatgen>=2022.3.7->mp-api) (3.2.1)\r\n",
      "Requirement already satisfied: palettable>=3.1.1 in /home/cd96/psi4conda/envs/jbook/lib/python3.11/site-packages (from pymatgen>=2022.3.7->mp-api) (3.3.3)\r\n",
      "Requirement already satisfied: pandas in /home/cd96/psi4conda/envs/jbook/lib/python3.11/site-packages (from pymatgen>=2022.3.7->mp-api) (2.0.1)\r\n",
      "Requirement already satisfied: plotly>=4.5.0 in /home/cd96/psi4conda/envs/jbook/lib/python3.11/site-packages (from pymatgen>=2022.3.7->mp-api) (5.14.1)\r\n",
      "Requirement already satisfied: scipy>=1.5.0 in /home/cd96/psi4conda/envs/jbook/lib/python3.11/site-packages (from pymatgen>=2022.3.7->mp-api) (1.9.2)\r\n",
      "Requirement already satisfied: spglib>=2.0.2 in /home/cd96/psi4conda/envs/jbook/lib/python3.11/site-packages (from pymatgen>=2022.3.7->mp-api) (2.3.1)\r\n",
      "Requirement already satisfied: sympy in /home/cd96/psi4conda/envs/jbook/lib/python3.11/site-packages (from pymatgen>=2022.3.7->mp-api) (1.12)\r\n",
      "Requirement already satisfied: tabulate in /home/cd96/psi4conda/envs/jbook/lib/python3.11/site-packages (from pymatgen>=2022.3.7->mp-api) (0.9.0)\r\n",
      "Requirement already satisfied: uncertainties>=3.1.4 in /home/cd96/psi4conda/envs/jbook/lib/python3.11/site-packages (from pymatgen>=2022.3.7->mp-api) (3.1.7)\r\n",
      "Requirement already satisfied: joblib in /home/cd96/psi4conda/envs/jbook/lib/python3.11/site-packages (from pymatgen>=2022.3.7->mp-api) (1.3.2)\r\n"
     ]
    },
    {
     "name": "stdout",
     "output_type": "stream",
     "text": [
      "Requirement already satisfied: charset-normalizer<4,>=2 in /home/cd96/psi4conda/envs/jbook/lib/python3.11/site-packages (from requests>=2.23.0->mp-api) (3.1.0)\r\n",
      "Requirement already satisfied: idna<4,>=2.5 in /home/cd96/psi4conda/envs/jbook/lib/python3.11/site-packages (from requests>=2.23.0->mp-api) (3.4)\r\n",
      "Requirement already satisfied: urllib3<1.27,>=1.21.1 in /home/cd96/psi4conda/envs/jbook/lib/python3.11/site-packages (from requests>=2.23.0->mp-api) (1.26.15)\r\n",
      "Requirement already satisfied: certifi>=2017.4.17 in /home/cd96/psi4conda/envs/jbook/lib/python3.11/site-packages (from requests>=2.23.0->mp-api) (2023.7.22)\r\n"
     ]
    },
    {
     "name": "stdout",
     "output_type": "stream",
     "text": [
      "Requirement already satisfied: botocore<1.35.0,>=1.34.43 in /home/cd96/psi4conda/envs/jbook/lib/python3.11/site-packages (from boto3>=1.20.41->maggma>=0.57.1->mp-api) (1.34.43)\r\n",
      "Requirement already satisfied: jmespath<2.0.0,>=0.7.1 in /home/cd96/psi4conda/envs/jbook/lib/python3.11/site-packages (from boto3>=1.20.41->maggma>=0.57.1->mp-api) (1.0.1)\r\n",
      "Requirement already satisfied: s3transfer<0.11.0,>=0.10.0 in /home/cd96/psi4conda/envs/jbook/lib/python3.11/site-packages (from boto3>=1.20.41->maggma>=0.57.1->mp-api) (0.10.0)\r\n"
     ]
    },
    {
     "name": "stdout",
     "output_type": "stream",
     "text": [
      "Requirement already satisfied: starlette<0.37.0,>=0.36.3 in /home/cd96/psi4conda/envs/jbook/lib/python3.11/site-packages (from fastapi>=0.42.0->maggma>=0.57.1->mp-api) (0.36.3)\r\n"
     ]
    },
    {
     "name": "stdout",
     "output_type": "stream",
     "text": [
      "Requirement already satisfied: attrs>=17.4.0 in /home/cd96/psi4conda/envs/jbook/lib/python3.11/site-packages (from jsonschema>=3.1.1->maggma>=0.57.1->mp-api) (23.1.0)\r\n",
      "Requirement already satisfied: pyrsistent!=0.17.0,!=0.17.1,!=0.17.2,>=0.14.0 in /home/cd96/psi4conda/envs/jbook/lib/python3.11/site-packages (from jsonschema>=3.1.1->maggma>=0.57.1->mp-api) (0.19.3)\r\n"
     ]
    },
    {
     "name": "stdout",
     "output_type": "stream",
     "text": [
      "Requirement already satisfied: contourpy>=1.0.1 in /home/cd96/psi4conda/envs/jbook/lib/python3.11/site-packages (from matplotlib>=1.5->pymatgen>=2022.3.7->mp-api) (1.0.7)\r\n",
      "Requirement already satisfied: cycler>=0.10 in /home/cd96/psi4conda/envs/jbook/lib/python3.11/site-packages (from matplotlib>=1.5->pymatgen>=2022.3.7->mp-api) (0.11.0)\r\n",
      "Requirement already satisfied: fonttools>=4.22.0 in /home/cd96/psi4conda/envs/jbook/lib/python3.11/site-packages (from matplotlib>=1.5->pymatgen>=2022.3.7->mp-api) (4.39.4)\r\n",
      "Requirement already satisfied: kiwisolver>=1.0.1 in /home/cd96/psi4conda/envs/jbook/lib/python3.11/site-packages (from matplotlib>=1.5->pymatgen>=2022.3.7->mp-api) (1.4.4)\r\n",
      "Requirement already satisfied: packaging>=20.0 in /home/cd96/psi4conda/envs/jbook/lib/python3.11/site-packages (from matplotlib>=1.5->pymatgen>=2022.3.7->mp-api) (23.1)\r\n",
      "Requirement already satisfied: pillow>=6.2.0 in /home/cd96/psi4conda/envs/jbook/lib/python3.11/site-packages (from matplotlib>=1.5->pymatgen>=2022.3.7->mp-api) (9.5.0)\r\n",
      "Requirement already satisfied: pyparsing>=2.3.1 in /home/cd96/psi4conda/envs/jbook/lib/python3.11/site-packages (from matplotlib>=1.5->pymatgen>=2022.3.7->mp-api) (3.0.9)\r\n",
      "Requirement already satisfied: Click in /home/cd96/psi4conda/envs/jbook/lib/python3.11/site-packages (from mongogrant>=0.3.1->maggma>=0.57.1->mp-api) (8.1.3)\r\n",
      "Requirement already satisfied: Flask>=1.0 in /home/cd96/psi4conda/envs/jbook/lib/python3.11/site-packages (from mongogrant>=0.3.1->maggma>=0.57.1->mp-api) (3.0.2)\r\n",
      "Requirement already satisfied: sentinels in /home/cd96/psi4conda/envs/jbook/lib/python3.11/site-packages (from mongomock>=3.10.0->maggma>=0.57.1->mp-api) (1.0.0)\r\n"
     ]
    },
    {
     "name": "stdout",
     "output_type": "stream",
     "text": [
      "Requirement already satisfied: tenacity>=6.2.0 in /home/cd96/psi4conda/envs/jbook/lib/python3.11/site-packages (from plotly>=4.5.0->pymatgen>=2022.3.7->mp-api) (8.2.2)\r\n",
      "Requirement already satisfied: PyYAML>=3.01 in /home/cd96/psi4conda/envs/jbook/lib/python3.11/site-packages (from pybtex~=0.24->emmet-core>=0.78.0rc3->mp-api) (6.0)\r\n"
     ]
    },
    {
     "name": "stdout",
     "output_type": "stream",
     "text": [
      "Requirement already satisfied: latexcodec>=1.0.4 in /home/cd96/psi4conda/envs/jbook/lib/python3.11/site-packages (from pybtex~=0.24->emmet-core>=0.78.0rc3->mp-api) (2.0.1)\r\n",
      "Requirement already satisfied: six in /home/cd96/psi4conda/envs/jbook/lib/python3.11/site-packages (from pybtex~=0.24->emmet-core>=0.78.0rc3->mp-api) (1.16.0)\r\n",
      "Requirement already satisfied: annotated-types>=0.4.0 in /home/cd96/psi4conda/envs/jbook/lib/python3.11/site-packages (from pydantic>=2.0->emmet-core>=0.78.0rc3->mp-api) (0.6.0)\r\n",
      "Requirement already satisfied: pydantic-core==2.16.2 in /home/cd96/psi4conda/envs/jbook/lib/python3.11/site-packages (from pydantic>=2.0->emmet-core>=0.78.0rc3->mp-api) (2.16.2)\r\n"
     ]
    },
    {
     "name": "stdout",
     "output_type": "stream",
     "text": [
      "Requirement already satisfied: python-dotenv>=0.21.0 in /home/cd96/psi4conda/envs/jbook/lib/python3.11/site-packages (from pydantic-settings>=2.0->emmet-core>=0.78.0rc3->mp-api) (1.0.1)\r\n"
     ]
    },
    {
     "name": "stdout",
     "output_type": "stream",
     "text": [
      "Requirement already satisfied: ruamel.yaml.clib>=0.2.7 in /home/cd96/psi4conda/envs/jbook/lib/python3.11/site-packages (from ruamel.yaml<0.18->maggma>=0.57.1->mp-api) (0.2.8)\r\n"
     ]
    },
    {
     "name": "stdout",
     "output_type": "stream",
     "text": [
      "Requirement already satisfied: paramiko>=2.7.2 in /home/cd96/psi4conda/envs/jbook/lib/python3.11/site-packages (from sshtunnel>=0.1.5->maggma>=0.57.1->mp-api) (3.4.0)\r\n"
     ]
    },
    {
     "name": "stdout",
     "output_type": "stream",
     "text": [
      "Requirement already satisfied: future in /home/cd96/psi4conda/envs/jbook/lib/python3.11/site-packages (from uncertainties>=3.1.4->pymatgen>=2022.3.7->mp-api) (0.18.3)\r\n"
     ]
    },
    {
     "name": "stdout",
     "output_type": "stream",
     "text": [
      "Requirement already satisfied: h11>=0.8 in /home/cd96/psi4conda/envs/jbook/lib/python3.11/site-packages (from uvicorn>=0.18.3->maggma>=0.57.1->mp-api) (0.14.0)\r\n"
     ]
    },
    {
     "name": "stdout",
     "output_type": "stream",
     "text": [
      "Requirement already satisfied: pytz>=2020.1 in /home/cd96/psi4conda/envs/jbook/lib/python3.11/site-packages (from pandas->pymatgen>=2022.3.7->mp-api) (2023.3)\r\n",
      "Requirement already satisfied: tzdata>=2022.1 in /home/cd96/psi4conda/envs/jbook/lib/python3.11/site-packages (from pandas->pymatgen>=2022.3.7->mp-api) (2023.3)\r\n"
     ]
    },
    {
     "name": "stdout",
     "output_type": "stream",
     "text": [
      "Requirement already satisfied: mpmath>=0.19 in /home/cd96/psi4conda/envs/jbook/lib/python3.11/site-packages (from sympy->pymatgen>=2022.3.7->mp-api) (1.3.0)\r\n"
     ]
    },
    {
     "name": "stdout",
     "output_type": "stream",
     "text": [
      "Requirement already satisfied: Werkzeug>=3.0.0 in /home/cd96/psi4conda/envs/jbook/lib/python3.11/site-packages (from Flask>=1.0->mongogrant>=0.3.1->maggma>=0.57.1->mp-api) (3.0.1)\r\n"
     ]
    },
    {
     "name": "stdout",
     "output_type": "stream",
     "text": [
      "Requirement already satisfied: Jinja2>=3.1.2 in /home/cd96/psi4conda/envs/jbook/lib/python3.11/site-packages (from Flask>=1.0->mongogrant>=0.3.1->maggma>=0.57.1->mp-api) (3.1.2)\r\n",
      "Requirement already satisfied: itsdangerous>=2.1.2 in /home/cd96/psi4conda/envs/jbook/lib/python3.11/site-packages (from Flask>=1.0->mongogrant>=0.3.1->maggma>=0.57.1->mp-api) (2.1.2)\r\n",
      "Requirement already satisfied: blinker>=1.6.2 in /home/cd96/psi4conda/envs/jbook/lib/python3.11/site-packages (from Flask>=1.0->mongogrant>=0.3.1->maggma>=0.57.1->mp-api) (1.7.0)\r\n"
     ]
    },
    {
     "name": "stdout",
     "output_type": "stream",
     "text": [
      "Requirement already satisfied: bcrypt>=3.2 in /home/cd96/psi4conda/envs/jbook/lib/python3.11/site-packages (from paramiko>=2.7.2->sshtunnel>=0.1.5->maggma>=0.57.1->mp-api) (4.1.2)\r\n",
      "Requirement already satisfied: cryptography>=3.3 in /home/cd96/psi4conda/envs/jbook/lib/python3.11/site-packages (from paramiko>=2.7.2->sshtunnel>=0.1.5->maggma>=0.57.1->mp-api) (40.0.2)\r\n",
      "Requirement already satisfied: pynacl>=1.5 in /home/cd96/psi4conda/envs/jbook/lib/python3.11/site-packages (from paramiko>=2.7.2->sshtunnel>=0.1.5->maggma>=0.57.1->mp-api) (1.5.0)\r\n"
     ]
    },
    {
     "name": "stdout",
     "output_type": "stream",
     "text": [
      "Requirement already satisfied: anyio<5,>=3.4.0 in /home/cd96/psi4conda/envs/jbook/lib/python3.11/site-packages (from starlette<0.37.0,>=0.36.3->fastapi>=0.42.0->maggma>=0.57.1->mp-api) (3.6.2)\r\n"
     ]
    },
    {
     "name": "stdout",
     "output_type": "stream",
     "text": [
      "Requirement already satisfied: sniffio>=1.1 in /home/cd96/psi4conda/envs/jbook/lib/python3.11/site-packages (from anyio<5,>=3.4.0->starlette<0.37.0,>=0.36.3->fastapi>=0.42.0->maggma>=0.57.1->mp-api) (1.3.0)\r\n"
     ]
    },
    {
     "name": "stdout",
     "output_type": "stream",
     "text": [
      "Requirement already satisfied: cffi>=1.12 in /home/cd96/psi4conda/envs/jbook/lib/python3.11/site-packages (from cryptography>=3.3->paramiko>=2.7.2->sshtunnel>=0.1.5->maggma>=0.57.1->mp-api) (1.15.1)\r\n"
     ]
    },
    {
     "name": "stdout",
     "output_type": "stream",
     "text": [
      "Requirement already satisfied: MarkupSafe>=2.0 in /home/cd96/psi4conda/envs/jbook/lib/python3.11/site-packages (from Jinja2>=3.1.2->Flask>=1.0->mongogrant>=0.3.1->maggma>=0.57.1->mp-api) (2.1.2)\r\n"
     ]
    },
    {
     "name": "stdout",
     "output_type": "stream",
     "text": [
      "Requirement already satisfied: pycparser in /home/cd96/psi4conda/envs/jbook/lib/python3.11/site-packages (from cffi>=1.12->cryptography>=3.3->paramiko>=2.7.2->sshtunnel>=0.1.5->maggma>=0.57.1->mp-api) (2.21)\r\n"
     ]
    },
    {
     "name": "stdout",
     "output_type": "stream",
     "text": [
      "Requirement already satisfied: mpcontribs-client in /home/cd96/psi4conda/envs/jbook/lib/python3.11/site-packages (5.7.0)\r\n"
     ]
    },
    {
     "name": "stdout",
     "output_type": "stream",
     "text": [
      "Requirement already satisfied: boltons in /home/cd96/psi4conda/envs/jbook/lib/python3.11/site-packages (from mpcontribs-client) (23.1.1)\r\n",
      "Requirement already satisfied: bravado in /home/cd96/psi4conda/envs/jbook/lib/python3.11/site-packages (from mpcontribs-client) (11.0.3)\r\n",
      "Requirement already satisfied: filetype in /home/cd96/psi4conda/envs/jbook/lib/python3.11/site-packages (from mpcontribs-client) (1.2.0)\r\n",
      "Requirement already satisfied: flatten-dict in /home/cd96/psi4conda/envs/jbook/lib/python3.11/site-packages (from mpcontribs-client) (0.4.2)\r\n",
      "Requirement already satisfied: ipython in /home/cd96/psi4conda/envs/jbook/lib/python3.11/site-packages (from mpcontribs-client) (8.13.2)\r\n",
      "Requirement already satisfied: json2html in /home/cd96/psi4conda/envs/jbook/lib/python3.11/site-packages (from mpcontribs-client) (1.3.0)\r\n",
      "Requirement already satisfied: pandas in /home/cd96/psi4conda/envs/jbook/lib/python3.11/site-packages (from mpcontribs-client) (2.0.1)\r\n",
      "Requirement already satisfied: pint<0.20 in /home/cd96/psi4conda/envs/jbook/lib/python3.11/site-packages (from mpcontribs-client) (0.19.2)\r\n",
      "Requirement already satisfied: plotly in /home/cd96/psi4conda/envs/jbook/lib/python3.11/site-packages (from mpcontribs-client) (5.14.1)\r\n",
      "Requirement already satisfied: pyIsEmail in /home/cd96/psi4conda/envs/jbook/lib/python3.11/site-packages (from mpcontribs-client) (2.0.1)\r\n",
      "Requirement already satisfied: pymatgen in /home/cd96/psi4conda/envs/jbook/lib/python3.11/site-packages (from mpcontribs-client) (2024.2.8)\r\n",
      "Requirement already satisfied: pymongo in /home/cd96/psi4conda/envs/jbook/lib/python3.11/site-packages (from mpcontribs-client) (4.6.1)\r\n",
      "Requirement already satisfied: requests-futures in /home/cd96/psi4conda/envs/jbook/lib/python3.11/site-packages (from mpcontribs-client) (1.0.1)\r\n",
      "Requirement already satisfied: swagger-spec-validator in /home/cd96/psi4conda/envs/jbook/lib/python3.11/site-packages (from mpcontribs-client) (3.0.3)\r\n",
      "Requirement already satisfied: tqdm in /home/cd96/psi4conda/envs/jbook/lib/python3.11/site-packages (from mpcontribs-client) (4.66.2)\r\n",
      "Requirement already satisfied: ujson in /home/cd96/psi4conda/envs/jbook/lib/python3.11/site-packages (from mpcontribs-client) (5.9.0)\r\n",
      "Requirement already satisfied: semantic-version in /home/cd96/psi4conda/envs/jbook/lib/python3.11/site-packages (from mpcontribs-client) (2.10.0)\r\n",
      "Requirement already satisfied: cachetools in /home/cd96/psi4conda/envs/jbook/lib/python3.11/site-packages (from mpcontribs-client) (5.3.2)\r\n",
      "Requirement already satisfied: bravado-core>=5.16.1 in /home/cd96/psi4conda/envs/jbook/lib/python3.11/site-packages (from bravado->mpcontribs-client) (6.1.1)\r\n",
      "Requirement already satisfied: msgpack in /home/cd96/psi4conda/envs/jbook/lib/python3.11/site-packages (from bravado->mpcontribs-client) (1.0.7)\r\n",
      "Requirement already satisfied: python-dateutil in /home/cd96/psi4conda/envs/jbook/lib/python3.11/site-packages (from bravado->mpcontribs-client) (2.8.2)\r\n",
      "Requirement already satisfied: pyyaml in /home/cd96/psi4conda/envs/jbook/lib/python3.11/site-packages (from bravado->mpcontribs-client) (6.0)\r\n",
      "Requirement already satisfied: requests>=2.17 in /home/cd96/psi4conda/envs/jbook/lib/python3.11/site-packages (from bravado->mpcontribs-client) (2.29.0)\r\n",
      "Requirement already satisfied: six in /home/cd96/psi4conda/envs/jbook/lib/python3.11/site-packages (from bravado->mpcontribs-client) (1.16.0)\r\n",
      "Requirement already satisfied: simplejson in /home/cd96/psi4conda/envs/jbook/lib/python3.11/site-packages (from bravado->mpcontribs-client) (3.19.2)\r\n",
      "Requirement already satisfied: monotonic in /home/cd96/psi4conda/envs/jbook/lib/python3.11/site-packages (from bravado->mpcontribs-client) (1.6)\r\n",
      "Requirement already satisfied: typing-extensions in /home/cd96/psi4conda/envs/jbook/lib/python3.11/site-packages (from bravado->mpcontribs-client) (4.9.0)\r\n"
     ]
    },
    {
     "name": "stdout",
     "output_type": "stream",
     "text": [
      "Requirement already satisfied: backcall in /home/cd96/psi4conda/envs/jbook/lib/python3.11/site-packages (from ipython->mpcontribs-client) (0.2.0)\r\n",
      "Requirement already satisfied: decorator in /home/cd96/psi4conda/envs/jbook/lib/python3.11/site-packages (from ipython->mpcontribs-client) (5.1.1)\r\n",
      "Requirement already satisfied: jedi>=0.16 in /home/cd96/psi4conda/envs/jbook/lib/python3.11/site-packages (from ipython->mpcontribs-client) (0.18.2)\r\n",
      "Requirement already satisfied: matplotlib-inline in /home/cd96/psi4conda/envs/jbook/lib/python3.11/site-packages (from ipython->mpcontribs-client) (0.1.6)\r\n",
      "Requirement already satisfied: pickleshare in /home/cd96/psi4conda/envs/jbook/lib/python3.11/site-packages (from ipython->mpcontribs-client) (0.7.5)\r\n",
      "Requirement already satisfied: prompt-toolkit!=3.0.37,<3.1.0,>=3.0.30 in /home/cd96/psi4conda/envs/jbook/lib/python3.11/site-packages (from ipython->mpcontribs-client) (3.0.38)\r\n",
      "Requirement already satisfied: pygments>=2.4.0 in /home/cd96/psi4conda/envs/jbook/lib/python3.11/site-packages (from ipython->mpcontribs-client) (2.15.1)\r\n",
      "Requirement already satisfied: stack-data in /home/cd96/psi4conda/envs/jbook/lib/python3.11/site-packages (from ipython->mpcontribs-client) (0.6.2)\r\n",
      "Requirement already satisfied: traitlets>=5 in /home/cd96/psi4conda/envs/jbook/lib/python3.11/site-packages (from ipython->mpcontribs-client) (5.9.0)\r\n",
      "Requirement already satisfied: pexpect>4.3 in /home/cd96/psi4conda/envs/jbook/lib/python3.11/site-packages (from ipython->mpcontribs-client) (4.8.0)\r\n"
     ]
    },
    {
     "name": "stdout",
     "output_type": "stream",
     "text": [
      "Requirement already satisfied: pytz>=2020.1 in /home/cd96/psi4conda/envs/jbook/lib/python3.11/site-packages (from pandas->mpcontribs-client) (2023.3)\r\n",
      "Requirement already satisfied: tzdata>=2022.1 in /home/cd96/psi4conda/envs/jbook/lib/python3.11/site-packages (from pandas->mpcontribs-client) (2023.3)\r\n"
     ]
    },
    {
     "name": "stdout",
     "output_type": "stream",
     "text": [
      "Requirement already satisfied: numpy>=1.21.0 in /home/cd96/psi4conda/envs/jbook/lib/python3.11/site-packages (from pandas->mpcontribs-client) (1.25.2)\r\n",
      "Requirement already satisfied: tenacity>=6.2.0 in /home/cd96/psi4conda/envs/jbook/lib/python3.11/site-packages (from plotly->mpcontribs-client) (8.2.2)\r\n",
      "Requirement already satisfied: packaging in /home/cd96/psi4conda/envs/jbook/lib/python3.11/site-packages (from plotly->mpcontribs-client) (23.1)\r\n",
      "Requirement already satisfied: dnspython>=2.0.0 in /home/cd96/psi4conda/envs/jbook/lib/python3.11/site-packages (from pyIsEmail->mpcontribs-client) (2.5.0)\r\n",
      "Requirement already satisfied: matplotlib>=1.5 in /home/cd96/psi4conda/envs/jbook/lib/python3.11/site-packages (from pymatgen->mpcontribs-client) (3.7.1)\r\n",
      "Requirement already satisfied: monty>=2024.2.2 in /home/cd96/psi4conda/envs/jbook/lib/python3.11/site-packages (from pymatgen->mpcontribs-client) (2024.2.2)\r\n",
      "Requirement already satisfied: networkx>=2.2 in /home/cd96/psi4conda/envs/jbook/lib/python3.11/site-packages (from pymatgen->mpcontribs-client) (3.2.1)\r\n",
      "Requirement already satisfied: palettable>=3.1.1 in /home/cd96/psi4conda/envs/jbook/lib/python3.11/site-packages (from pymatgen->mpcontribs-client) (3.3.3)\r\n",
      "Requirement already satisfied: pybtex in /home/cd96/psi4conda/envs/jbook/lib/python3.11/site-packages (from pymatgen->mpcontribs-client) (0.24.0)\r\n",
      "Requirement already satisfied: ruamel.yaml>=0.17.0 in /home/cd96/psi4conda/envs/jbook/lib/python3.11/site-packages (from pymatgen->mpcontribs-client) (0.17.40)\r\n"
     ]
    },
    {
     "name": "stdout",
     "output_type": "stream",
     "text": [
      "Requirement already satisfied: scipy>=1.5.0 in /home/cd96/psi4conda/envs/jbook/lib/python3.11/site-packages (from pymatgen->mpcontribs-client) (1.9.2)\r\n",
      "Requirement already satisfied: spglib>=2.0.2 in /home/cd96/psi4conda/envs/jbook/lib/python3.11/site-packages (from pymatgen->mpcontribs-client) (2.3.1)\r\n",
      "Requirement already satisfied: sympy in /home/cd96/psi4conda/envs/jbook/lib/python3.11/site-packages (from pymatgen->mpcontribs-client) (1.12)\r\n",
      "Requirement already satisfied: tabulate in /home/cd96/psi4conda/envs/jbook/lib/python3.11/site-packages (from pymatgen->mpcontribs-client) (0.9.0)\r\n",
      "Requirement already satisfied: uncertainties>=3.1.4 in /home/cd96/psi4conda/envs/jbook/lib/python3.11/site-packages (from pymatgen->mpcontribs-client) (3.1.7)\r\n",
      "Requirement already satisfied: joblib in /home/cd96/psi4conda/envs/jbook/lib/python3.11/site-packages (from pymatgen->mpcontribs-client) (1.3.2)\r\n"
     ]
    },
    {
     "name": "stdout",
     "output_type": "stream",
     "text": [
      "Requirement already satisfied: jsonschema in /home/cd96/psi4conda/envs/jbook/lib/python3.11/site-packages (from swagger-spec-validator->mpcontribs-client) (4.17.3)\r\n"
     ]
    },
    {
     "name": "stdout",
     "output_type": "stream",
     "text": [
      "Requirement already satisfied: jsonref in /home/cd96/psi4conda/envs/jbook/lib/python3.11/site-packages (from bravado-core>=5.16.1->bravado->mpcontribs-client) (1.1.0)\r\n"
     ]
    },
    {
     "name": "stdout",
     "output_type": "stream",
     "text": [
      "Requirement already satisfied: parso<0.9.0,>=0.8.0 in /home/cd96/psi4conda/envs/jbook/lib/python3.11/site-packages (from jedi>=0.16->ipython->mpcontribs-client) (0.8.3)\r\n",
      "Requirement already satisfied: contourpy>=1.0.1 in /home/cd96/psi4conda/envs/jbook/lib/python3.11/site-packages (from matplotlib>=1.5->pymatgen->mpcontribs-client) (1.0.7)\r\n",
      "Requirement already satisfied: cycler>=0.10 in /home/cd96/psi4conda/envs/jbook/lib/python3.11/site-packages (from matplotlib>=1.5->pymatgen->mpcontribs-client) (0.11.0)\r\n",
      "Requirement already satisfied: fonttools>=4.22.0 in /home/cd96/psi4conda/envs/jbook/lib/python3.11/site-packages (from matplotlib>=1.5->pymatgen->mpcontribs-client) (4.39.4)\r\n",
      "Requirement already satisfied: kiwisolver>=1.0.1 in /home/cd96/psi4conda/envs/jbook/lib/python3.11/site-packages (from matplotlib>=1.5->pymatgen->mpcontribs-client) (1.4.4)\r\n"
     ]
    },
    {
     "name": "stdout",
     "output_type": "stream",
     "text": [
      "Requirement already satisfied: pillow>=6.2.0 in /home/cd96/psi4conda/envs/jbook/lib/python3.11/site-packages (from matplotlib>=1.5->pymatgen->mpcontribs-client) (9.5.0)\r\n",
      "Requirement already satisfied: pyparsing>=2.3.1 in /home/cd96/psi4conda/envs/jbook/lib/python3.11/site-packages (from matplotlib>=1.5->pymatgen->mpcontribs-client) (3.0.9)\r\n"
     ]
    },
    {
     "name": "stdout",
     "output_type": "stream",
     "text": [
      "Requirement already satisfied: ptyprocess>=0.5 in /home/cd96/psi4conda/envs/jbook/lib/python3.11/site-packages (from pexpect>4.3->ipython->mpcontribs-client) (0.7.0)\r\n"
     ]
    },
    {
     "name": "stdout",
     "output_type": "stream",
     "text": [
      "Requirement already satisfied: wcwidth in /home/cd96/psi4conda/envs/jbook/lib/python3.11/site-packages (from prompt-toolkit!=3.0.37,<3.1.0,>=3.0.30->ipython->mpcontribs-client) (0.2.6)\r\n"
     ]
    },
    {
     "name": "stdout",
     "output_type": "stream",
     "text": [
      "Requirement already satisfied: charset-normalizer<4,>=2 in /home/cd96/psi4conda/envs/jbook/lib/python3.11/site-packages (from requests>=2.17->bravado->mpcontribs-client) (3.1.0)\r\n",
      "Requirement already satisfied: idna<4,>=2.5 in /home/cd96/psi4conda/envs/jbook/lib/python3.11/site-packages (from requests>=2.17->bravado->mpcontribs-client) (3.4)\r\n",
      "Requirement already satisfied: urllib3<1.27,>=1.21.1 in /home/cd96/psi4conda/envs/jbook/lib/python3.11/site-packages (from requests>=2.17->bravado->mpcontribs-client) (1.26.15)\r\n",
      "Requirement already satisfied: certifi>=2017.4.17 in /home/cd96/psi4conda/envs/jbook/lib/python3.11/site-packages (from requests>=2.17->bravado->mpcontribs-client) (2023.7.22)\r\n",
      "Requirement already satisfied: ruamel.yaml.clib>=0.2.7 in /home/cd96/psi4conda/envs/jbook/lib/python3.11/site-packages (from ruamel.yaml>=0.17.0->pymatgen->mpcontribs-client) (0.2.8)\r\n"
     ]
    },
    {
     "name": "stdout",
     "output_type": "stream",
     "text": [
      "Requirement already satisfied: future in /home/cd96/psi4conda/envs/jbook/lib/python3.11/site-packages (from uncertainties>=3.1.4->pymatgen->mpcontribs-client) (0.18.3)\r\n"
     ]
    },
    {
     "name": "stdout",
     "output_type": "stream",
     "text": [
      "Requirement already satisfied: attrs>=17.4.0 in /home/cd96/psi4conda/envs/jbook/lib/python3.11/site-packages (from jsonschema->swagger-spec-validator->mpcontribs-client) (23.1.0)\r\n",
      "Requirement already satisfied: pyrsistent!=0.17.0,!=0.17.1,!=0.17.2,>=0.14.0 in /home/cd96/psi4conda/envs/jbook/lib/python3.11/site-packages (from jsonschema->swagger-spec-validator->mpcontribs-client) (0.19.3)\r\n"
     ]
    },
    {
     "name": "stdout",
     "output_type": "stream",
     "text": [
      "Requirement already satisfied: latexcodec>=1.0.4 in /home/cd96/psi4conda/envs/jbook/lib/python3.11/site-packages (from pybtex->pymatgen->mpcontribs-client) (2.0.1)\r\n"
     ]
    },
    {
     "name": "stdout",
     "output_type": "stream",
     "text": [
      "Requirement already satisfied: executing>=1.2.0 in /home/cd96/psi4conda/envs/jbook/lib/python3.11/site-packages (from stack-data->ipython->mpcontribs-client) (1.2.0)\r\n",
      "Requirement already satisfied: asttokens>=2.1.0 in /home/cd96/psi4conda/envs/jbook/lib/python3.11/site-packages (from stack-data->ipython->mpcontribs-client) (2.2.1)\r\n",
      "Requirement already satisfied: pure-eval in /home/cd96/psi4conda/envs/jbook/lib/python3.11/site-packages (from stack-data->ipython->mpcontribs-client) (0.2.2)\r\n"
     ]
    },
    {
     "name": "stdout",
     "output_type": "stream",
     "text": [
      "Requirement already satisfied: mpmath>=0.19 in /home/cd96/psi4conda/envs/jbook/lib/python3.11/site-packages (from sympy->pymatgen->mpcontribs-client) (1.3.0)\r\n"
     ]
    },
    {
     "name": "stdout",
     "output_type": "stream",
     "text": [
      "Requirement already satisfied: fqdn in /home/cd96/psi4conda/envs/jbook/lib/python3.11/site-packages (from jsonschema->swagger-spec-validator->mpcontribs-client) (1.5.1)\r\n"
     ]
    },
    {
     "name": "stdout",
     "output_type": "stream",
     "text": [
      "Requirement already satisfied: isoduration in /home/cd96/psi4conda/envs/jbook/lib/python3.11/site-packages (from jsonschema->swagger-spec-validator->mpcontribs-client) (20.11.0)\r\n",
      "Requirement already satisfied: jsonpointer>1.13 in /home/cd96/psi4conda/envs/jbook/lib/python3.11/site-packages (from jsonschema->swagger-spec-validator->mpcontribs-client) (2.3)\r\n",
      "Requirement already satisfied: rfc3339-validator in /home/cd96/psi4conda/envs/jbook/lib/python3.11/site-packages (from jsonschema->swagger-spec-validator->mpcontribs-client) (0.1.4)\r\n",
      "Requirement already satisfied: rfc3986-validator>0.1.0 in /home/cd96/psi4conda/envs/jbook/lib/python3.11/site-packages (from jsonschema->swagger-spec-validator->mpcontribs-client) (0.1.1)\r\n",
      "Requirement already satisfied: uri-template in /home/cd96/psi4conda/envs/jbook/lib/python3.11/site-packages (from jsonschema->swagger-spec-validator->mpcontribs-client) (1.2.0)\r\n",
      "Requirement already satisfied: webcolors>=1.11 in /home/cd96/psi4conda/envs/jbook/lib/python3.11/site-packages (from jsonschema->swagger-spec-validator->mpcontribs-client) (1.13)\r\n"
     ]
    },
    {
     "name": "stdout",
     "output_type": "stream",
     "text": [
      "Requirement already satisfied: arrow>=0.15.0 in /home/cd96/psi4conda/envs/jbook/lib/python3.11/site-packages (from isoduration->jsonschema->swagger-spec-validator->mpcontribs-client) (1.2.3)\r\n"
     ]
    },
    {
     "name": "stdout",
     "output_type": "stream",
     "text": [
      "Collecting crystal-toolkit\r\n"
     ]
    },
    {
     "name": "stdout",
     "output_type": "stream",
     "text": [
      "  Using cached crystal_toolkit-2023.11.3-py3-none-any.whl (15.9 MB)\r\n"
     ]
    },
    {
     "name": "stdout",
     "output_type": "stream",
     "text": [
      "Collecting crystaltoolkit-extension (from crystal-toolkit)\r\n"
     ]
    },
    {
     "name": "stdout",
     "output_type": "stream",
     "text": [
      "  Using cached crystaltoolkit-extension-0.6.0.tar.gz (2.9 MB)\r\n"
     ]
    },
    {
     "name": "stdout",
     "output_type": "stream",
     "text": [
      "  Installing build dependencies ... \u001b[?25l-"
     ]
    },
    {
     "name": "stdout",
     "output_type": "stream",
     "text": [
      "\b \b\\"
     ]
    },
    {
     "name": "stdout",
     "output_type": "stream",
     "text": [
      "\b \b|"
     ]
    },
    {
     "name": "stdout",
     "output_type": "stream",
     "text": [
      "\b \b/"
     ]
    },
    {
     "name": "stdout",
     "output_type": "stream",
     "text": [
      "\b \b-"
     ]
    },
    {
     "name": "stdout",
     "output_type": "stream",
     "text": [
      "\b \b\\"
     ]
    },
    {
     "name": "stdout",
     "output_type": "stream",
     "text": [
      "\b \b|"
     ]
    },
    {
     "name": "stdout",
     "output_type": "stream",
     "text": [
      "\b \b/"
     ]
    },
    {
     "name": "stdout",
     "output_type": "stream",
     "text": [
      "\b \b-"
     ]
    },
    {
     "name": "stdout",
     "output_type": "stream",
     "text": [
      "\b \b\\"
     ]
    },
    {
     "name": "stdout",
     "output_type": "stream",
     "text": [
      "\b \b|"
     ]
    },
    {
     "name": "stdout",
     "output_type": "stream",
     "text": [
      "\b \b/"
     ]
    },
    {
     "name": "stdout",
     "output_type": "stream",
     "text": [
      "\b \b-"
     ]
    },
    {
     "name": "stdout",
     "output_type": "stream",
     "text": [
      "\b \b\\"
     ]
    },
    {
     "name": "stdout",
     "output_type": "stream",
     "text": [
      "\b \b|"
     ]
    },
    {
     "name": "stdout",
     "output_type": "stream",
     "text": [
      "\b \b/"
     ]
    },
    {
     "name": "stdout",
     "output_type": "stream",
     "text": [
      "\b \b-"
     ]
    },
    {
     "name": "stdout",
     "output_type": "stream",
     "text": [
      "\b \b\\"
     ]
    },
    {
     "name": "stdout",
     "output_type": "stream",
     "text": [
      "\b \b|"
     ]
    },
    {
     "name": "stdout",
     "output_type": "stream",
     "text": [
      "\b \b/"
     ]
    },
    {
     "name": "stdout",
     "output_type": "stream",
     "text": [
      "\b \b-"
     ]
    },
    {
     "name": "stdout",
     "output_type": "stream",
     "text": [
      "\b \b\\"
     ]
    },
    {
     "name": "stdout",
     "output_type": "stream",
     "text": [
      "\b \b|"
     ]
    },
    {
     "name": "stdout",
     "output_type": "stream",
     "text": [
      "\b \b/"
     ]
    },
    {
     "name": "stdout",
     "output_type": "stream",
     "text": [
      "^C\r\n",
      "\u001b[?25h\b \bcanceled\r\n",
      "\u001b[31mERROR: Operation cancelled by user\u001b[0m\u001b[31m\r\n",
      "\u001b[0m"
     ]
    },
    {
     "name": "stdout",
     "output_type": "stream",
     "text": [
      "Collecting dash\r\n"
     ]
    },
    {
     "name": "stdout",
     "output_type": "stream",
     "text": [
      "  Using cached dash-2.15.0-py3-none-any.whl (10.2 MB)\r\n"
     ]
    },
    {
     "name": "stdout",
     "output_type": "stream",
     "text": [
      "Requirement already satisfied: Flask<3.1,>=1.0.4 in /home/cd96/psi4conda/envs/jbook/lib/python3.11/site-packages (from dash) (3.0.2)\r\n",
      "Requirement already satisfied: Werkzeug<3.1 in /home/cd96/psi4conda/envs/jbook/lib/python3.11/site-packages (from dash) (3.0.1)\r\n",
      "Requirement already satisfied: plotly>=5.0.0 in /home/cd96/psi4conda/envs/jbook/lib/python3.11/site-packages (from dash) (5.14.1)\r\n"
     ]
    },
    {
     "name": "stdout",
     "output_type": "stream",
     "text": [
      "Collecting dash-html-components==2.0.0 (from dash)\r\n",
      "  Using cached dash_html_components-2.0.0-py3-none-any.whl (4.1 kB)\r\n"
     ]
    },
    {
     "name": "stdout",
     "output_type": "stream",
     "text": [
      "Collecting dash-core-components==2.0.0 (from dash)\r\n",
      "  Using cached dash_core_components-2.0.0-py3-none-any.whl (3.8 kB)\r\n"
     ]
    },
    {
     "name": "stdout",
     "output_type": "stream",
     "text": [
      "Collecting dash-table==5.0.0 (from dash)\r\n",
      "  Using cached dash_table-5.0.0-py3-none-any.whl (3.9 kB)\r\n",
      "Requirement already satisfied: typing-extensions>=4.1.1 in /home/cd96/psi4conda/envs/jbook/lib/python3.11/site-packages (from dash) (4.9.0)\r\n",
      "Requirement already satisfied: requests in /home/cd96/psi4conda/envs/jbook/lib/python3.11/site-packages (from dash) (2.29.0)\r\n",
      "Requirement already satisfied: retrying in /home/cd96/psi4conda/envs/jbook/lib/python3.11/site-packages (from dash) (1.3.3)\r\n",
      "Requirement already satisfied: nest-asyncio in /home/cd96/psi4conda/envs/jbook/lib/python3.11/site-packages (from dash) (1.5.6)\r\n",
      "Requirement already satisfied: setuptools in /home/cd96/psi4conda/envs/jbook/lib/python3.11/site-packages (from dash) (67.7.2)\r\n",
      "Requirement already satisfied: importlib-metadata in /home/cd96/psi4conda/envs/jbook/lib/python3.11/site-packages (from dash) (6.6.0)\r\n",
      "Requirement already satisfied: Jinja2>=3.1.2 in /home/cd96/psi4conda/envs/jbook/lib/python3.11/site-packages (from Flask<3.1,>=1.0.4->dash) (3.1.2)\r\n"
     ]
    },
    {
     "name": "stdout",
     "output_type": "stream",
     "text": [
      "Requirement already satisfied: itsdangerous>=2.1.2 in /home/cd96/psi4conda/envs/jbook/lib/python3.11/site-packages (from Flask<3.1,>=1.0.4->dash) (2.1.2)\r\n",
      "Requirement already satisfied: click>=8.1.3 in /home/cd96/psi4conda/envs/jbook/lib/python3.11/site-packages (from Flask<3.1,>=1.0.4->dash) (8.1.3)\r\n",
      "Requirement already satisfied: blinker>=1.6.2 in /home/cd96/psi4conda/envs/jbook/lib/python3.11/site-packages (from Flask<3.1,>=1.0.4->dash) (1.7.0)\r\n",
      "Requirement already satisfied: tenacity>=6.2.0 in /home/cd96/psi4conda/envs/jbook/lib/python3.11/site-packages (from plotly>=5.0.0->dash) (8.2.2)\r\n",
      "Requirement already satisfied: packaging in /home/cd96/psi4conda/envs/jbook/lib/python3.11/site-packages (from plotly>=5.0.0->dash) (23.1)\r\n",
      "Requirement already satisfied: MarkupSafe>=2.1.1 in /home/cd96/psi4conda/envs/jbook/lib/python3.11/site-packages (from Werkzeug<3.1->dash) (2.1.2)\r\n",
      "Requirement already satisfied: zipp>=0.5 in /home/cd96/psi4conda/envs/jbook/lib/python3.11/site-packages (from importlib-metadata->dash) (3.15.0)\r\n",
      "Requirement already satisfied: charset-normalizer<4,>=2 in /home/cd96/psi4conda/envs/jbook/lib/python3.11/site-packages (from requests->dash) (3.1.0)\r\n",
      "Requirement already satisfied: idna<4,>=2.5 in /home/cd96/psi4conda/envs/jbook/lib/python3.11/site-packages (from requests->dash) (3.4)\r\n"
     ]
    },
    {
     "name": "stdout",
     "output_type": "stream",
     "text": [
      "Requirement already satisfied: urllib3<1.27,>=1.21.1 in /home/cd96/psi4conda/envs/jbook/lib/python3.11/site-packages (from requests->dash) (1.26.15)\r\n",
      "Requirement already satisfied: certifi>=2017.4.17 in /home/cd96/psi4conda/envs/jbook/lib/python3.11/site-packages (from requests->dash) (2023.7.22)\r\n",
      "Requirement already satisfied: six>=1.7.0 in /home/cd96/psi4conda/envs/jbook/lib/python3.11/site-packages (from retrying->dash) (1.16.0)\r\n"
     ]
    }
   ],
   "source": [
    "!pip install mp-api\n",
    "!pip install mpcontribs-client\n",
    "!pip install crystal-toolkit --upgrade\n",
    "!pip install dash\n"
   ]
  },
  {
   "cell_type": "code",
   "execution_count": 1,
   "id": "cf0beba3-dc74-4a58-bec3-1c6b2f5c5942",
   "metadata": {},
   "outputs": [
    {
     "data": {
      "application/vnd.jupyter.widget-view+json": {
       "model_id": "002700f2556947a5980ff014224611bf",
       "version_major": 2,
       "version_minor": 0
      },
      "text/plain": []
     },
     "metadata": {},
     "output_type": "display_data"
    }
   ],
   "source": [
    "from ipywidgets import interact, Dropdown\n",
    "import numpy as np\n",
    "from pymatgen.io.cif import CifWriter\n",
    "import nglview as nv\n",
    "import pandas as pd\n",
    "from mp_api.client import MPRester\n",
    "from pylab import *\n",
    "import pandas as pd\n",
    "from emmet.core.summary import HasProps\n",
    "from nglview import show_structure_file\n",
    "from pymatgen.io.cif import CifWriter"
   ]
  },
  {
   "cell_type": "code",
   "execution_count": 2,
   "id": "aecd1f72-6229-4e86-b7f2-cc1050f58a8d",
   "metadata": {},
   "outputs": [
    {
     "name": "stderr",
     "output_type": "stream",
     "text": [
      "The server does not support the request made to https://api.materialsproject.org/materials/phonon/mp-149/?_limit=1&_fields=ph_bs. This may be due to an outdated mp-api package, or a problem with the query.\n"
     ]
    },
    {
     "data": {
      "application/vnd.jupyter.widget-view+json": {
       "model_id": "4d45e9930d014ab59d5eb7997569691e",
       "version_major": 2,
       "version_minor": 0
      },
      "text/plain": [
       "Retrieving MaterialsDoc documents:   0%|          | 0/1 [00:00<?, ?it/s]"
      ]
     },
     "metadata": {},
     "output_type": "display_data"
    },
    {
     "name": "stderr",
     "output_type": "stream",
     "text": [
      "Document primary key has changed from mp-149 to mp-149, returning data for mp-149 in materials/phonon route.    \n"
     ]
    },
    {
     "name": "stdout",
     "output_type": "stream",
     "text": [
      "\u001b[1;31m---------------------------------------------------------------------------\u001b[0m\n",
      "\u001b[1;31mMPRestError\u001b[0m                               Traceback (most recent call last)\n",
      "File \u001b[1;32mc:\\Users\\roste\\anaconda3\\lib\\site-packages\\mp_api\\client\\core\\client.py:1001\u001b[0m, in \u001b[0;36mBaseRester.get_data_by_id\u001b[1;34m(self, document_id, fields)\u001b[0m\n",
      "\u001b[0;32m   1000\u001b[0m \u001b[38;5;28;01mtry\u001b[39;00m:\n",
      "\u001b[1;32m-> 1001\u001b[0m     results \u001b[38;5;241m=\u001b[39m \u001b[38;5;28;43mself\u001b[39;49m\u001b[38;5;241;43m.\u001b[39;49m\u001b[43m_query_resource_data\u001b[49m\u001b[43m(\u001b[49m\u001b[43mcriteria\u001b[49m\u001b[38;5;241;43m=\u001b[39;49m\u001b[43mcriteria\u001b[49m\u001b[43m,\u001b[49m\u001b[43m \u001b[49m\u001b[43mfields\u001b[49m\u001b[38;5;241;43m=\u001b[39;49m\u001b[43mfields\u001b[49m\u001b[43m,\u001b[49m\u001b[43m \u001b[49m\u001b[43msuburl\u001b[49m\u001b[38;5;241;43m=\u001b[39;49m\u001b[43mdocument_id\u001b[49m\u001b[43m)\u001b[49m  \u001b[38;5;66;03m# type: ignore\u001b[39;00m\n",
      "\u001b[0;32m   1002\u001b[0m \u001b[38;5;28;01mexcept\u001b[39;00m MPRestError:\n",
      "\n",
      "File \u001b[1;32mc:\\Users\\roste\\anaconda3\\lib\\site-packages\\mp_api\\client\\core\\client.py:958\u001b[0m, in \u001b[0;36mBaseRester._query_resource_data\u001b[1;34m(self, criteria, fields, suburl, use_document_model, timeout)\u001b[0m\n",
      "\u001b[0;32m    945\u001b[0m \u001b[38;5;250m\u001b[39m\u001b[38;5;124;03m\"\"\"Query the endpoint for a list of documents without associated meta information. Only\u001b[39;00m\n",
      "\u001b[0;32m    946\u001b[0m \u001b[38;5;124;03mreturns a single page of results.\u001b[39;00m\n",
      "\u001b[0;32m    947\u001b[0m \n",
      "\u001b[1;32m   (...)\u001b[0m\n",
      "\u001b[0;32m    956\u001b[0m \u001b[38;5;124;03m    A list of documents\u001b[39;00m\n",
      "\u001b[0;32m    957\u001b[0m \u001b[38;5;124;03m\"\"\"\u001b[39;00m\n",
      "\u001b[1;32m--> 958\u001b[0m \u001b[38;5;28;01mreturn\u001b[39;00m \u001b[38;5;28;43mself\u001b[39;49m\u001b[38;5;241;43m.\u001b[39;49m\u001b[43m_query_resource\u001b[49m\u001b[43m(\u001b[49m\u001b[43m  \u001b[49m\u001b[38;5;66;43;03m# type: ignore\u001b[39;49;00m\n",
      "\u001b[0;32m    959\u001b[0m \u001b[43m    \u001b[49m\u001b[43mcriteria\u001b[49m\u001b[38;5;241;43m=\u001b[39;49m\u001b[43mcriteria\u001b[49m\u001b[43m,\u001b[49m\n",
      "\u001b[0;32m    960\u001b[0m \u001b[43m    \u001b[49m\u001b[43mfields\u001b[49m\u001b[38;5;241;43m=\u001b[39;49m\u001b[43mfields\u001b[49m\u001b[43m,\u001b[49m\n",
      "\u001b[0;32m    961\u001b[0m \u001b[43m    \u001b[49m\u001b[43msuburl\u001b[49m\u001b[38;5;241;43m=\u001b[39;49m\u001b[43msuburl\u001b[49m\u001b[43m,\u001b[49m\n",
      "\u001b[0;32m    962\u001b[0m \u001b[43m    \u001b[49m\u001b[43muse_document_model\u001b[49m\u001b[38;5;241;43m=\u001b[39;49m\u001b[43muse_document_model\u001b[49m\u001b[43m,\u001b[49m\n",
      "\u001b[0;32m    963\u001b[0m \u001b[43m    \u001b[49m\u001b[43mchunk_size\u001b[49m\u001b[38;5;241;43m=\u001b[39;49m\u001b[38;5;241;43m1000\u001b[39;49m\u001b[43m,\u001b[49m\n",
      "\u001b[0;32m    964\u001b[0m \u001b[43m    \u001b[49m\u001b[43mnum_chunks\u001b[49m\u001b[38;5;241;43m=\u001b[39;49m\u001b[38;5;241;43m1\u001b[39;49m\u001b[43m,\u001b[49m\n",
      "\u001b[0;32m    965\u001b[0m \u001b[43m\u001b[49m\u001b[43m)\u001b[49m\u001b[38;5;241m.\u001b[39mget(\u001b[38;5;124m\"\u001b[39m\u001b[38;5;124mdata\u001b[39m\u001b[38;5;124m\"\u001b[39m)\n",
      "\n",
      "File \u001b[1;32mc:\\Users\\roste\\anaconda3\\lib\\site-packages\\mp_api\\client\\core\\client.py:408\u001b[0m, in \u001b[0;36mBaseRester._query_resource\u001b[1;34m(self, criteria, fields, suburl, use_document_model, parallel_param, num_chunks, chunk_size, timeout)\u001b[0m\n",
      "\u001b[0;32m    406\u001b[0m         url \u001b[38;5;241m+\u001b[39m\u001b[38;5;241m=\u001b[39m \u001b[38;5;124m\"\u001b[39m\u001b[38;5;124m/\u001b[39m\u001b[38;5;124m\"\u001b[39m\n",
      "\u001b[1;32m--> 408\u001b[0m data \u001b[38;5;241m=\u001b[39m \u001b[38;5;28;43mself\u001b[39;49m\u001b[38;5;241;43m.\u001b[39;49m\u001b[43m_submit_requests\u001b[49m\u001b[43m(\u001b[49m\n",
      "\u001b[0;32m    409\u001b[0m \u001b[43m    \u001b[49m\u001b[43murl\u001b[49m\u001b[38;5;241;43m=\u001b[39;49m\u001b[43murl\u001b[49m\u001b[43m,\u001b[49m\n",
      "\u001b[0;32m    410\u001b[0m \u001b[43m    \u001b[49m\u001b[43mcriteria\u001b[49m\u001b[38;5;241;43m=\u001b[39;49m\u001b[43mcriteria\u001b[49m\u001b[43m,\u001b[49m\n",
      "\u001b[0;32m    411\u001b[0m \u001b[43m    \u001b[49m\u001b[43muse_document_model\u001b[49m\u001b[38;5;241;43m=\u001b[39;49m\u001b[43muse_document_model\u001b[49m\u001b[43m,\u001b[49m\n",
      "\u001b[0;32m    412\u001b[0m \u001b[43m    \u001b[49m\u001b[43mparallel_param\u001b[49m\u001b[38;5;241;43m=\u001b[39;49m\u001b[43mparallel_param\u001b[49m\u001b[43m,\u001b[49m\n",
      "\u001b[0;32m    413\u001b[0m \u001b[43m    \u001b[49m\u001b[43mnum_chunks\u001b[49m\u001b[38;5;241;43m=\u001b[39;49m\u001b[43mnum_chunks\u001b[49m\u001b[43m,\u001b[49m\n",
      "\u001b[0;32m    414\u001b[0m \u001b[43m    \u001b[49m\u001b[43mchunk_size\u001b[49m\u001b[38;5;241;43m=\u001b[39;49m\u001b[43mchunk_size\u001b[49m\u001b[43m,\u001b[49m\n",
      "\u001b[0;32m    415\u001b[0m \u001b[43m    \u001b[49m\u001b[43mtimeout\u001b[49m\u001b[38;5;241;43m=\u001b[39;49m\u001b[43mtimeout\u001b[49m\u001b[43m,\u001b[49m\n",
      "\u001b[0;32m    416\u001b[0m \u001b[43m\u001b[49m\u001b[43m)\u001b[49m\n",
      "\u001b[0;32m    418\u001b[0m \u001b[38;5;28;01mreturn\u001b[39;00m data\n",
      "\n",
      "File \u001b[1;32mc:\\Users\\roste\\anaconda3\\lib\\site-packages\\mp_api\\client\\core\\client.py:549\u001b[0m, in \u001b[0;36mBaseRester._submit_requests\u001b[1;34m(self, url, criteria, use_document_model, parallel_param, num_chunks, chunk_size, timeout)\u001b[0m\n",
      "\u001b[0;32m    545\u001b[0m initial_params_list \u001b[38;5;241m=\u001b[39m [\n",
      "\u001b[0;32m    546\u001b[0m     {\u001b[38;5;124m\"\u001b[39m\u001b[38;5;124murl\u001b[39m\u001b[38;5;124m\"\u001b[39m: url, \u001b[38;5;124m\"\u001b[39m\u001b[38;5;124mverify\u001b[39m\u001b[38;5;124m\"\u001b[39m: \u001b[38;5;28;01mTrue\u001b[39;00m, \u001b[38;5;124m\"\u001b[39m\u001b[38;5;124mparams\u001b[39m\u001b[38;5;124m\"\u001b[39m: copy(crit)} \u001b[38;5;28;01mfor\u001b[39;00m crit \u001b[38;5;129;01min\u001b[39;00m new_criteria\n",
      "\u001b[0;32m    547\u001b[0m ]\n",
      "\u001b[1;32m--> 549\u001b[0m initial_data_tuples \u001b[38;5;241m=\u001b[39m \u001b[38;5;28;43mself\u001b[39;49m\u001b[38;5;241;43m.\u001b[39;49m\u001b[43m_multi_thread\u001b[49m\u001b[43m(\u001b[49m\n",
      "\u001b[0;32m    550\u001b[0m \u001b[43m    \u001b[49m\u001b[43muse_document_model\u001b[49m\u001b[43m,\u001b[49m\u001b[43m \u001b[49m\u001b[43minitial_params_list\u001b[49m\n",
      "\u001b[0;32m    551\u001b[0m \u001b[43m\u001b[49m\u001b[43m)\u001b[49m\n",
      "\u001b[0;32m    553\u001b[0m \u001b[38;5;28;01mfor\u001b[39;00m data, subtotal, crit_ind \u001b[38;5;129;01min\u001b[39;00m initial_data_tuples:\n",
      "\n",
      "File \u001b[1;32mc:\\Users\\roste\\anaconda3\\lib\\site-packages\\mp_api\\client\\core\\client.py:763\u001b[0m, in \u001b[0;36mBaseRester._multi_thread\u001b[1;34m(self, use_document_model, params_list, progress_bar, timeout)\u001b[0m\n",
      "\u001b[0;32m    762\u001b[0m \u001b[38;5;28;01mfor\u001b[39;00m future \u001b[38;5;129;01min\u001b[39;00m finished:\n",
      "\u001b[1;32m--> 763\u001b[0m     data, subtotal \u001b[38;5;241m=\u001b[39m \u001b[43mfuture\u001b[49m\u001b[38;5;241;43m.\u001b[39;49m\u001b[43mresult\u001b[49m\u001b[43m(\u001b[49m\u001b[43m)\u001b[49m\n",
      "\u001b[0;32m    765\u001b[0m     \u001b[38;5;28;01mif\u001b[39;00m progress_bar \u001b[38;5;129;01mis\u001b[39;00m \u001b[38;5;129;01mnot\u001b[39;00m \u001b[38;5;28;01mNone\u001b[39;00m:\n",
      "\n",
      "File \u001b[1;32mc:\\Users\\roste\\anaconda3\\lib\\concurrent\\futures\\_base.py:437\u001b[0m, in \u001b[0;36mFuture.result\u001b[1;34m(self, timeout)\u001b[0m\n",
      "\u001b[0;32m    436\u001b[0m \u001b[38;5;28;01melif\u001b[39;00m \u001b[38;5;28mself\u001b[39m\u001b[38;5;241m.\u001b[39m_state \u001b[38;5;241m==\u001b[39m FINISHED:\n",
      "\u001b[1;32m--> 437\u001b[0m     \u001b[38;5;28;01mreturn\u001b[39;00m \u001b[38;5;28;43mself\u001b[39;49m\u001b[38;5;241;43m.\u001b[39;49m\u001b[43m__get_result\u001b[49m\u001b[43m(\u001b[49m\u001b[43m)\u001b[49m\n",
      "\u001b[0;32m    439\u001b[0m \u001b[38;5;28mself\u001b[39m\u001b[38;5;241m.\u001b[39m_condition\u001b[38;5;241m.\u001b[39mwait(timeout)\n",
      "\n",
      "File \u001b[1;32mc:\\Users\\roste\\anaconda3\\lib\\concurrent\\futures\\_base.py:389\u001b[0m, in \u001b[0;36mFuture.__get_result\u001b[1;34m(self)\u001b[0m\n",
      "\u001b[0;32m    388\u001b[0m \u001b[38;5;28;01mtry\u001b[39;00m:\n",
      "\u001b[1;32m--> 389\u001b[0m     \u001b[38;5;28;01mraise\u001b[39;00m \u001b[38;5;28mself\u001b[39m\u001b[38;5;241m.\u001b[39m_exception\n",
      "\u001b[0;32m    390\u001b[0m \u001b[38;5;28;01mfinally\u001b[39;00m:\n",
      "\u001b[0;32m    391\u001b[0m     \u001b[38;5;66;03m# Break a reference cycle with the exception in self._exception\u001b[39;00m\n",
      "\n",
      "File \u001b[1;32mc:\\Users\\roste\\anaconda3\\lib\\concurrent\\futures\\thread.py:57\u001b[0m, in \u001b[0;36m_WorkItem.run\u001b[1;34m(self)\u001b[0m\n",
      "\u001b[0;32m     56\u001b[0m \u001b[38;5;28;01mtry\u001b[39;00m:\n",
      "\u001b[1;32m---> 57\u001b[0m     result \u001b[38;5;241m=\u001b[39m \u001b[38;5;28;43mself\u001b[39;49m\u001b[38;5;241;43m.\u001b[39;49m\u001b[43mfn\u001b[49m\u001b[43m(\u001b[49m\u001b[38;5;241;43m*\u001b[39;49m\u001b[38;5;28;43mself\u001b[39;49m\u001b[38;5;241;43m.\u001b[39;49m\u001b[43margs\u001b[49m\u001b[43m,\u001b[49m\u001b[43m \u001b[49m\u001b[38;5;241;43m*\u001b[39;49m\u001b[38;5;241;43m*\u001b[39;49m\u001b[38;5;28;43mself\u001b[39;49m\u001b[38;5;241;43m.\u001b[39;49m\u001b[43mkwargs\u001b[49m\u001b[43m)\u001b[49m\n",
      "\u001b[0;32m     58\u001b[0m \u001b[38;5;28;01mexcept\u001b[39;00m \u001b[38;5;167;01mBaseException\u001b[39;00m \u001b[38;5;28;01mas\u001b[39;00m exc:\n",
      "\n",
      "File \u001b[1;32mc:\\Users\\roste\\anaconda3\\lib\\site-packages\\mp_api\\client\\core\\client.py:870\u001b[0m, in \u001b[0;36mBaseRester._submit_request_and_process\u001b[1;34m(self, url, verify, params, use_document_model, timeout)\u001b[0m\n",
      "\u001b[0;32m    868\u001b[0m         message \u001b[38;5;241m=\u001b[39m \u001b[38;5;28mstr\u001b[39m(data)\n",
      "\u001b[1;32m--> 870\u001b[0m \u001b[38;5;28;01mraise\u001b[39;00m MPRestError(\n",
      "\u001b[0;32m    871\u001b[0m     \u001b[38;5;124mf\u001b[39m\u001b[38;5;124m\"\u001b[39m\u001b[38;5;124mREST query returned with error status code \u001b[39m\u001b[38;5;132;01m{\u001b[39;00mresponse\u001b[38;5;241m.\u001b[39mstatus_code\u001b[38;5;132;01m}\u001b[39;00m\u001b[38;5;124m \u001b[39m\u001b[38;5;124m\"\u001b[39m\n",
      "\u001b[0;32m    872\u001b[0m     \u001b[38;5;124mf\u001b[39m\u001b[38;5;124m\"\u001b[39m\u001b[38;5;124mon URL \u001b[39m\u001b[38;5;132;01m{\u001b[39;00mresponse\u001b[38;5;241m.\u001b[39murl\u001b[38;5;132;01m}\u001b[39;00m\u001b[38;5;124m with message:\u001b[39m\u001b[38;5;130;01m\\n\u001b[39;00m\u001b[38;5;132;01m{\u001b[39;00mmessage\u001b[38;5;132;01m}\u001b[39;00m\u001b[38;5;124m\"\u001b[39m\n",
      "\u001b[0;32m    873\u001b[0m )\n",
      "\n",
      "\u001b[1;31mMPRestError\u001b[0m: REST query returned with error status code 404 on URL https://api.materialsproject.org/materials/phonon/mp-149/?_limit=1&_fields=ph_bs with message:\n",
      "Not Found\n",
      "\n",
      "During handling of the above exception, another exception occurred:\n",
      "\n",
      "\u001b[1;31mMPRestError\u001b[0m                               Traceback (most recent call last)\n",
      "Input \u001b[1;32mIn [2]\u001b[0m, in \u001b[0;36m<cell line: 3>\u001b[1;34m()\u001b[0m\n",
      "\u001b[0;32m      1\u001b[0m \u001b[38;5;28;01mfrom\u001b[39;00m \u001b[38;5;21;01mmp_api\u001b[39;00m\u001b[38;5;21;01m.\u001b[39;00m\u001b[38;5;21;01mclient\u001b[39;00m \u001b[38;5;28;01mimport\u001b[39;00m MPRester\n",
      "\u001b[0;32m      3\u001b[0m \u001b[38;5;28;01mwith\u001b[39;00m MPRester(\u001b[38;5;124m\"\u001b[39m\u001b[38;5;124mA55hSVu7NuwvlISilTvVtw37IB5ES26w\u001b[39m\u001b[38;5;124m\"\u001b[39m) \u001b[38;5;28;01mas\u001b[39;00m mpr:\n",
      "\u001b[1;32m----> 4\u001b[0m     ph_bs \u001b[38;5;241m=\u001b[39m \u001b[43mmpr\u001b[49m\u001b[38;5;241;43m.\u001b[39;49m\u001b[43mget_phonon_bandstructure_by_material_id\u001b[49m\u001b[43m(\u001b[49m\u001b[38;5;124;43m\"\u001b[39;49m\u001b[38;5;124;43mmp-149\u001b[39;49m\u001b[38;5;124;43m\"\u001b[39;49m\u001b[43m)\u001b[49m\n",
      "\n",
      "File \u001b[1;32mc:\\Users\\roste\\anaconda3\\lib\\site-packages\\mp_api\\client\\mprester.py:1222\u001b[0m, in \u001b[0;36mMPRester.get_phonon_bandstructure_by_material_id\u001b[1;34m(self, material_id)\u001b[0m\n",
      "\u001b[0;32m   1213\u001b[0m \u001b[38;5;28;01mdef\u001b[39;00m \u001b[38;5;21mget_phonon_bandstructure_by_material_id\u001b[39m(\u001b[38;5;28mself\u001b[39m, material_id: \u001b[38;5;28mstr\u001b[39m):\n",
      "\u001b[0;32m   1214\u001b[0m \u001b[38;5;250m    \u001b[39m\u001b[38;5;124;03m\"\"\"Get phonon dispersion data corresponding to a material_id.\u001b[39;00m\n",
      "\u001b[0;32m   1215\u001b[0m \n",
      "\u001b[0;32m   1216\u001b[0m \u001b[38;5;124;03m    Args:\u001b[39;00m\n",
      "\u001b[1;32m   (...)\u001b[0m\n",
      "\u001b[0;32m   1220\u001b[0m \u001b[38;5;124;03m        PhononBandStructureSymmLine:  phonon band structure.\u001b[39;00m\n",
      "\u001b[0;32m   1221\u001b[0m \u001b[38;5;124;03m    \"\"\"\u001b[39;00m\n",
      "\u001b[1;32m-> 1222\u001b[0m     \u001b[38;5;28;01mreturn\u001b[39;00m \u001b[38;5;28;43mself\u001b[39;49m\u001b[38;5;241;43m.\u001b[39;49m\u001b[43mphonon\u001b[49m\u001b[38;5;241;43m.\u001b[39;49m\u001b[43mget_data_by_id\u001b[49m\u001b[43m(\u001b[49m\u001b[43mmaterial_id\u001b[49m\u001b[43m,\u001b[49m\u001b[43m \u001b[49m\u001b[43mfields\u001b[49m\u001b[38;5;241;43m=\u001b[39;49m\u001b[43m[\u001b[49m\u001b[38;5;124;43m\"\u001b[39;49m\u001b[38;5;124;43mph_bs\u001b[39;49m\u001b[38;5;124;43m\"\u001b[39;49m\u001b[43m]\u001b[49m\u001b[43m)\u001b[49m\u001b[38;5;241m.\u001b[39mph_bs\n",
      "\n",
      "File \u001b[1;32mc:\\Users\\roste\\anaconda3\\lib\\site-packages\\mp_api\\client\\core\\client.py:1027\u001b[0m, in \u001b[0;36mBaseRester.get_data_by_id\u001b[1;34m(self, document_id, fields)\u001b[0m\n",
      "\u001b[0;32m   1021\u001b[0m             \u001b[38;5;28;01mif\u001b[39;00m new_document_id \u001b[38;5;129;01mis\u001b[39;00m \u001b[38;5;129;01mnot\u001b[39;00m \u001b[38;5;28;01mNone\u001b[39;00m:\n",
      "\u001b[0;32m   1022\u001b[0m                 warnings\u001b[38;5;241m.\u001b[39mwarn(\n",
      "\u001b[0;32m   1023\u001b[0m                     \u001b[38;5;124mf\u001b[39m\u001b[38;5;124m\"\u001b[39m\u001b[38;5;124mDocument primary key has changed from \u001b[39m\u001b[38;5;132;01m{\u001b[39;00mdocument_id\u001b[38;5;132;01m}\u001b[39;00m\u001b[38;5;124m to \u001b[39m\u001b[38;5;132;01m{\u001b[39;00mnew_document_id\u001b[38;5;132;01m}\u001b[39;00m\u001b[38;5;124m, \u001b[39m\u001b[38;5;124m\"\u001b[39m\n",
      "\u001b[0;32m   1024\u001b[0m                     \u001b[38;5;124mf\u001b[39m\u001b[38;5;124m\"\u001b[39m\u001b[38;5;124mreturning data for \u001b[39m\u001b[38;5;132;01m{\u001b[39;00mnew_document_id\u001b[38;5;132;01m}\u001b[39;00m\u001b[38;5;124m in \u001b[39m\u001b[38;5;132;01m{\u001b[39;00m\u001b[38;5;28mself\u001b[39m\u001b[38;5;241m.\u001b[39msuffix\u001b[38;5;132;01m}\u001b[39;00m\u001b[38;5;124m route.    \u001b[39m\u001b[38;5;124m\"\u001b[39m\n",
      "\u001b[0;32m   1025\u001b[0m                 )\n",
      "\u001b[1;32m-> 1027\u001b[0m                 results \u001b[38;5;241m=\u001b[39m \u001b[38;5;28;43mself\u001b[39;49m\u001b[38;5;241;43m.\u001b[39;49m\u001b[43m_query_resource_data\u001b[49m\u001b[43m(\u001b[49m\n",
      "\u001b[0;32m   1028\u001b[0m \u001b[43m                    \u001b[49m\u001b[43mcriteria\u001b[49m\u001b[38;5;241;43m=\u001b[39;49m\u001b[43mcriteria\u001b[49m\u001b[43m,\u001b[49m\u001b[43m \u001b[49m\u001b[43mfields\u001b[49m\u001b[38;5;241;43m=\u001b[39;49m\u001b[43mfields\u001b[49m\u001b[43m,\u001b[49m\u001b[43m \u001b[49m\u001b[43msuburl\u001b[49m\u001b[38;5;241;43m=\u001b[39;49m\u001b[43mnew_document_id\u001b[49m\u001b[43m  \u001b[49m\u001b[38;5;66;43;03m# type: ignore\u001b[39;49;00m\n",
      "\u001b[0;32m   1029\u001b[0m \u001b[43m                \u001b[49m\u001b[43m)\u001b[49m\n",
      "\u001b[0;32m   1031\u001b[0m \u001b[38;5;28;01mif\u001b[39;00m \u001b[38;5;129;01mnot\u001b[39;00m results:\n",
      "\u001b[0;32m   1032\u001b[0m     \u001b[38;5;28;01mraise\u001b[39;00m MPRestError(\u001b[38;5;124mf\u001b[39m\u001b[38;5;124m\"\u001b[39m\u001b[38;5;124mNo result for record \u001b[39m\u001b[38;5;132;01m{\u001b[39;00mdocument_id\u001b[38;5;132;01m}\u001b[39;00m\u001b[38;5;124m.\u001b[39m\u001b[38;5;124m\"\u001b[39m)\n",
      "\n",
      "File \u001b[1;32mc:\\Users\\roste\\anaconda3\\lib\\site-packages\\mp_api\\client\\core\\client.py:958\u001b[0m, in \u001b[0;36mBaseRester._query_resource_data\u001b[1;34m(self, criteria, fields, suburl, use_document_model, timeout)\u001b[0m\n",
      "\u001b[0;32m    937\u001b[0m \u001b[38;5;28;01mdef\u001b[39;00m \u001b[38;5;21m_query_resource_data\u001b[39m(\n",
      "\u001b[0;32m    938\u001b[0m     \u001b[38;5;28mself\u001b[39m,\n",
      "\u001b[0;32m    939\u001b[0m     criteria: \u001b[38;5;28mdict\u001b[39m \u001b[38;5;241m|\u001b[39m \u001b[38;5;28;01mNone\u001b[39;00m \u001b[38;5;241m=\u001b[39m \u001b[38;5;28;01mNone\u001b[39;00m,\n",
      "\u001b[1;32m   (...)\u001b[0m\n",
      "\u001b[0;32m    943\u001b[0m     timeout: \u001b[38;5;28mint\u001b[39m \u001b[38;5;241m|\u001b[39m \u001b[38;5;28;01mNone\u001b[39;00m \u001b[38;5;241m=\u001b[39m \u001b[38;5;28;01mNone\u001b[39;00m,\n",
      "\u001b[0;32m    944\u001b[0m ) \u001b[38;5;241m-\u001b[39m\u001b[38;5;241m>\u001b[39m \u001b[38;5;28mlist\u001b[39m[T] \u001b[38;5;241m|\u001b[39m \u001b[38;5;28mlist\u001b[39m[\u001b[38;5;28mdict\u001b[39m]:\n",
      "\u001b[0;32m    945\u001b[0m \u001b[38;5;250m    \u001b[39m\u001b[38;5;124;03m\"\"\"Query the endpoint for a list of documents without associated meta information. Only\u001b[39;00m\n",
      "\u001b[0;32m    946\u001b[0m \u001b[38;5;124;03m    returns a single page of results.\u001b[39;00m\n",
      "\u001b[0;32m    947\u001b[0m \n",
      "\u001b[1;32m   (...)\u001b[0m\n",
      "\u001b[0;32m    956\u001b[0m \u001b[38;5;124;03m        A list of documents\u001b[39;00m\n",
      "\u001b[0;32m    957\u001b[0m \u001b[38;5;124;03m    \"\"\"\u001b[39;00m\n",
      "\u001b[1;32m--> 958\u001b[0m     \u001b[38;5;28;01mreturn\u001b[39;00m \u001b[38;5;28;43mself\u001b[39;49m\u001b[38;5;241;43m.\u001b[39;49m\u001b[43m_query_resource\u001b[49m\u001b[43m(\u001b[49m\u001b[43m  \u001b[49m\u001b[38;5;66;43;03m# type: ignore\u001b[39;49;00m\n",
      "\u001b[0;32m    959\u001b[0m \u001b[43m        \u001b[49m\u001b[43mcriteria\u001b[49m\u001b[38;5;241;43m=\u001b[39;49m\u001b[43mcriteria\u001b[49m\u001b[43m,\u001b[49m\n",
      "\u001b[0;32m    960\u001b[0m \u001b[43m        \u001b[49m\u001b[43mfields\u001b[49m\u001b[38;5;241;43m=\u001b[39;49m\u001b[43mfields\u001b[49m\u001b[43m,\u001b[49m\n",
      "\u001b[0;32m    961\u001b[0m \u001b[43m        \u001b[49m\u001b[43msuburl\u001b[49m\u001b[38;5;241;43m=\u001b[39;49m\u001b[43msuburl\u001b[49m\u001b[43m,\u001b[49m\n",
      "\u001b[0;32m    962\u001b[0m \u001b[43m        \u001b[49m\u001b[43muse_document_model\u001b[49m\u001b[38;5;241;43m=\u001b[39;49m\u001b[43muse_document_model\u001b[49m\u001b[43m,\u001b[49m\n",
      "\u001b[0;32m    963\u001b[0m \u001b[43m        \u001b[49m\u001b[43mchunk_size\u001b[49m\u001b[38;5;241;43m=\u001b[39;49m\u001b[38;5;241;43m1000\u001b[39;49m\u001b[43m,\u001b[49m\n",
      "\u001b[0;32m    964\u001b[0m \u001b[43m        \u001b[49m\u001b[43mnum_chunks\u001b[49m\u001b[38;5;241;43m=\u001b[39;49m\u001b[38;5;241;43m1\u001b[39;49m\u001b[43m,\u001b[49m\n",
      "\u001b[0;32m    965\u001b[0m \u001b[43m    \u001b[49m\u001b[43m)\u001b[49m\u001b[38;5;241m.\u001b[39mget(\u001b[38;5;124m\"\u001b[39m\u001b[38;5;124mdata\u001b[39m\u001b[38;5;124m\"\u001b[39m)\n",
      "\n",
      "File \u001b[1;32mc:\\Users\\roste\\anaconda3\\lib\\site-packages\\mp_api\\client\\core\\client.py:408\u001b[0m, in \u001b[0;36mBaseRester._query_resource\u001b[1;34m(self, criteria, fields, suburl, use_document_model, parallel_param, num_chunks, chunk_size, timeout)\u001b[0m\n",
      "\u001b[0;32m    405\u001b[0m         \u001b[38;5;28;01mif\u001b[39;00m \u001b[38;5;129;01mnot\u001b[39;00m url\u001b[38;5;241m.\u001b[39mendswith(\u001b[38;5;124m\"\u001b[39m\u001b[38;5;124m/\u001b[39m\u001b[38;5;124m\"\u001b[39m):\n",
      "\u001b[0;32m    406\u001b[0m             url \u001b[38;5;241m+\u001b[39m\u001b[38;5;241m=\u001b[39m \u001b[38;5;124m\"\u001b[39m\u001b[38;5;124m/\u001b[39m\u001b[38;5;124m\"\u001b[39m\n",
      "\u001b[1;32m--> 408\u001b[0m     data \u001b[38;5;241m=\u001b[39m \u001b[38;5;28;43mself\u001b[39;49m\u001b[38;5;241;43m.\u001b[39;49m\u001b[43m_submit_requests\u001b[49m\u001b[43m(\u001b[49m\n",
      "\u001b[0;32m    409\u001b[0m \u001b[43m        \u001b[49m\u001b[43murl\u001b[49m\u001b[38;5;241;43m=\u001b[39;49m\u001b[43murl\u001b[49m\u001b[43m,\u001b[49m\n",
      "\u001b[0;32m    410\u001b[0m \u001b[43m        \u001b[49m\u001b[43mcriteria\u001b[49m\u001b[38;5;241;43m=\u001b[39;49m\u001b[43mcriteria\u001b[49m\u001b[43m,\u001b[49m\n",
      "\u001b[0;32m    411\u001b[0m \u001b[43m        \u001b[49m\u001b[43muse_document_model\u001b[49m\u001b[38;5;241;43m=\u001b[39;49m\u001b[43muse_document_model\u001b[49m\u001b[43m,\u001b[49m\n",
      "\u001b[0;32m    412\u001b[0m \u001b[43m        \u001b[49m\u001b[43mparallel_param\u001b[49m\u001b[38;5;241;43m=\u001b[39;49m\u001b[43mparallel_param\u001b[49m\u001b[43m,\u001b[49m\n",
      "\u001b[0;32m    413\u001b[0m \u001b[43m        \u001b[49m\u001b[43mnum_chunks\u001b[49m\u001b[38;5;241;43m=\u001b[39;49m\u001b[43mnum_chunks\u001b[49m\u001b[43m,\u001b[49m\n",
      "\u001b[0;32m    414\u001b[0m \u001b[43m        \u001b[49m\u001b[43mchunk_size\u001b[49m\u001b[38;5;241;43m=\u001b[39;49m\u001b[43mchunk_size\u001b[49m\u001b[43m,\u001b[49m\n",
      "\u001b[0;32m    415\u001b[0m \u001b[43m        \u001b[49m\u001b[43mtimeout\u001b[49m\u001b[38;5;241;43m=\u001b[39;49m\u001b[43mtimeout\u001b[49m\u001b[43m,\u001b[49m\n",
      "\u001b[0;32m    416\u001b[0m \u001b[43m    \u001b[49m\u001b[43m)\u001b[49m\n",
      "\u001b[0;32m    418\u001b[0m     \u001b[38;5;28;01mreturn\u001b[39;00m data\n",
      "\u001b[0;32m    420\u001b[0m \u001b[38;5;28;01mexcept\u001b[39;00m RequestException \u001b[38;5;28;01mas\u001b[39;00m ex:\n",
      "\n",
      "File \u001b[1;32mc:\\Users\\roste\\anaconda3\\lib\\site-packages\\mp_api\\client\\core\\client.py:549\u001b[0m, in \u001b[0;36mBaseRester._submit_requests\u001b[1;34m(self, url, criteria, use_document_model, parallel_param, num_chunks, chunk_size, timeout)\u001b[0m\n",
      "\u001b[0;32m    543\u001b[0m remaining_docs_avail \u001b[38;5;241m=\u001b[39m {}\n",
      "\u001b[0;32m    545\u001b[0m initial_params_list \u001b[38;5;241m=\u001b[39m [\n",
      "\u001b[0;32m    546\u001b[0m     {\u001b[38;5;124m\"\u001b[39m\u001b[38;5;124murl\u001b[39m\u001b[38;5;124m\"\u001b[39m: url, \u001b[38;5;124m\"\u001b[39m\u001b[38;5;124mverify\u001b[39m\u001b[38;5;124m\"\u001b[39m: \u001b[38;5;28;01mTrue\u001b[39;00m, \u001b[38;5;124m\"\u001b[39m\u001b[38;5;124mparams\u001b[39m\u001b[38;5;124m\"\u001b[39m: copy(crit)} \u001b[38;5;28;01mfor\u001b[39;00m crit \u001b[38;5;129;01min\u001b[39;00m new_criteria\n",
      "\u001b[0;32m    547\u001b[0m ]\n",
      "\u001b[1;32m--> 549\u001b[0m initial_data_tuples \u001b[38;5;241m=\u001b[39m \u001b[38;5;28;43mself\u001b[39;49m\u001b[38;5;241;43m.\u001b[39;49m\u001b[43m_multi_thread\u001b[49m\u001b[43m(\u001b[49m\n",
      "\u001b[0;32m    550\u001b[0m \u001b[43m    \u001b[49m\u001b[43muse_document_model\u001b[49m\u001b[43m,\u001b[49m\u001b[43m \u001b[49m\u001b[43minitial_params_list\u001b[49m\n",
      "\u001b[0;32m    551\u001b[0m \u001b[43m\u001b[49m\u001b[43m)\u001b[49m\n",
      "\u001b[0;32m    553\u001b[0m \u001b[38;5;28;01mfor\u001b[39;00m data, subtotal, crit_ind \u001b[38;5;129;01min\u001b[39;00m initial_data_tuples:\n",
      "\u001b[0;32m    554\u001b[0m     subtotals\u001b[38;5;241m.\u001b[39mappend(subtotal)\n",
      "\n",
      "File \u001b[1;32mc:\\Users\\roste\\anaconda3\\lib\\site-packages\\mp_api\\client\\core\\client.py:763\u001b[0m, in \u001b[0;36mBaseRester._multi_thread\u001b[1;34m(self, use_document_model, params_list, progress_bar, timeout)\u001b[0m\n",
      "\u001b[0;32m    760\u001b[0m finished, futures \u001b[38;5;241m=\u001b[39m wait(futures, return_when\u001b[38;5;241m=\u001b[39mFIRST_COMPLETED)\n",
      "\u001b[0;32m    762\u001b[0m \u001b[38;5;28;01mfor\u001b[39;00m future \u001b[38;5;129;01min\u001b[39;00m finished:\n",
      "\u001b[1;32m--> 763\u001b[0m     data, subtotal \u001b[38;5;241m=\u001b[39m \u001b[43mfuture\u001b[49m\u001b[38;5;241;43m.\u001b[39;49m\u001b[43mresult\u001b[49m\u001b[43m(\u001b[49m\u001b[43m)\u001b[49m\n",
      "\u001b[0;32m    765\u001b[0m     \u001b[38;5;28;01mif\u001b[39;00m progress_bar \u001b[38;5;129;01mis\u001b[39;00m \u001b[38;5;129;01mnot\u001b[39;00m \u001b[38;5;28;01mNone\u001b[39;00m:\n",
      "\u001b[0;32m    766\u001b[0m         progress_bar\u001b[38;5;241m.\u001b[39mupdate(\u001b[38;5;28mlen\u001b[39m(data[\u001b[38;5;124m\"\u001b[39m\u001b[38;5;124mdata\u001b[39m\u001b[38;5;124m\"\u001b[39m]))\n",
      "\n",
      "File \u001b[1;32mc:\\Users\\roste\\anaconda3\\lib\\concurrent\\futures\\_base.py:437\u001b[0m, in \u001b[0;36mFuture.result\u001b[1;34m(self, timeout)\u001b[0m\n",
      "\u001b[0;32m    435\u001b[0m     \u001b[38;5;28;01mraise\u001b[39;00m CancelledError()\n",
      "\u001b[0;32m    436\u001b[0m \u001b[38;5;28;01melif\u001b[39;00m \u001b[38;5;28mself\u001b[39m\u001b[38;5;241m.\u001b[39m_state \u001b[38;5;241m==\u001b[39m FINISHED:\n",
      "\u001b[1;32m--> 437\u001b[0m     \u001b[38;5;28;01mreturn\u001b[39;00m \u001b[38;5;28;43mself\u001b[39;49m\u001b[38;5;241;43m.\u001b[39;49m\u001b[43m__get_result\u001b[49m\u001b[43m(\u001b[49m\u001b[43m)\u001b[49m\n",
      "\u001b[0;32m    439\u001b[0m \u001b[38;5;28mself\u001b[39m\u001b[38;5;241m.\u001b[39m_condition\u001b[38;5;241m.\u001b[39mwait(timeout)\n",
      "\u001b[0;32m    441\u001b[0m \u001b[38;5;28;01mif\u001b[39;00m \u001b[38;5;28mself\u001b[39m\u001b[38;5;241m.\u001b[39m_state \u001b[38;5;129;01min\u001b[39;00m [CANCELLED, CANCELLED_AND_NOTIFIED]:\n",
      "\n",
      "File \u001b[1;32mc:\\Users\\roste\\anaconda3\\lib\\concurrent\\futures\\_base.py:389\u001b[0m, in \u001b[0;36mFuture.__get_result\u001b[1;34m(self)\u001b[0m\n",
      "\u001b[0;32m    387\u001b[0m \u001b[38;5;28;01mif\u001b[39;00m \u001b[38;5;28mself\u001b[39m\u001b[38;5;241m.\u001b[39m_exception:\n",
      "\u001b[0;32m    388\u001b[0m     \u001b[38;5;28;01mtry\u001b[39;00m:\n",
      "\u001b[1;32m--> 389\u001b[0m         \u001b[38;5;28;01mraise\u001b[39;00m \u001b[38;5;28mself\u001b[39m\u001b[38;5;241m.\u001b[39m_exception\n",
      "\u001b[0;32m    390\u001b[0m     \u001b[38;5;28;01mfinally\u001b[39;00m:\n",
      "\u001b[0;32m    391\u001b[0m         \u001b[38;5;66;03m# Break a reference cycle with the exception in self._exception\u001b[39;00m\n",
      "\u001b[0;32m    392\u001b[0m         \u001b[38;5;28mself\u001b[39m \u001b[38;5;241m=\u001b[39m \u001b[38;5;28;01mNone\u001b[39;00m\n",
      "\n",
      "File \u001b[1;32mc:\\Users\\roste\\anaconda3\\lib\\concurrent\\futures\\thread.py:57\u001b[0m, in \u001b[0;36m_WorkItem.run\u001b[1;34m(self)\u001b[0m\n",
      "\u001b[0;32m     54\u001b[0m     \u001b[38;5;28;01mreturn\u001b[39;00m\n",
      "\u001b[0;32m     56\u001b[0m \u001b[38;5;28;01mtry\u001b[39;00m:\n",
      "\u001b[1;32m---> 57\u001b[0m     result \u001b[38;5;241m=\u001b[39m \u001b[38;5;28;43mself\u001b[39;49m\u001b[38;5;241;43m.\u001b[39;49m\u001b[43mfn\u001b[49m\u001b[43m(\u001b[49m\u001b[38;5;241;43m*\u001b[39;49m\u001b[38;5;28;43mself\u001b[39;49m\u001b[38;5;241;43m.\u001b[39;49m\u001b[43margs\u001b[49m\u001b[43m,\u001b[49m\u001b[43m \u001b[49m\u001b[38;5;241;43m*\u001b[39;49m\u001b[38;5;241;43m*\u001b[39;49m\u001b[38;5;28;43mself\u001b[39;49m\u001b[38;5;241;43m.\u001b[39;49m\u001b[43mkwargs\u001b[49m\u001b[43m)\u001b[49m\n",
      "\u001b[0;32m     58\u001b[0m \u001b[38;5;28;01mexcept\u001b[39;00m \u001b[38;5;167;01mBaseException\u001b[39;00m \u001b[38;5;28;01mas\u001b[39;00m exc:\n",
      "\u001b[0;32m     59\u001b[0m     \u001b[38;5;28mself\u001b[39m\u001b[38;5;241m.\u001b[39mfuture\u001b[38;5;241m.\u001b[39mset_exception(exc)\n",
      "\n",
      "File \u001b[1;32mc:\\Users\\roste\\anaconda3\\lib\\site-packages\\mp_api\\client\\core\\client.py:870\u001b[0m, in \u001b[0;36mBaseRester._submit_request_and_process\u001b[1;34m(self, url, verify, params, use_document_model, timeout)\u001b[0m\n",
      "\u001b[0;32m    867\u001b[0m     \u001b[38;5;28;01mexcept\u001b[39;00m (\u001b[38;5;167;01mKeyError\u001b[39;00m, \u001b[38;5;167;01mIndexError\u001b[39;00m):\n",
      "\u001b[0;32m    868\u001b[0m         message \u001b[38;5;241m=\u001b[39m \u001b[38;5;28mstr\u001b[39m(data)\n",
      "\u001b[1;32m--> 870\u001b[0m \u001b[38;5;28;01mraise\u001b[39;00m MPRestError(\n",
      "\u001b[0;32m    871\u001b[0m     \u001b[38;5;124mf\u001b[39m\u001b[38;5;124m\"\u001b[39m\u001b[38;5;124mREST query returned with error status code \u001b[39m\u001b[38;5;132;01m{\u001b[39;00mresponse\u001b[38;5;241m.\u001b[39mstatus_code\u001b[38;5;132;01m}\u001b[39;00m\u001b[38;5;124m \u001b[39m\u001b[38;5;124m\"\u001b[39m\n",
      "\u001b[0;32m    872\u001b[0m     \u001b[38;5;124mf\u001b[39m\u001b[38;5;124m\"\u001b[39m\u001b[38;5;124mon URL \u001b[39m\u001b[38;5;132;01m{\u001b[39;00mresponse\u001b[38;5;241m.\u001b[39murl\u001b[38;5;132;01m}\u001b[39;00m\u001b[38;5;124m with message:\u001b[39m\u001b[38;5;130;01m\\n\u001b[39;00m\u001b[38;5;132;01m{\u001b[39;00mmessage\u001b[38;5;132;01m}\u001b[39;00m\u001b[38;5;124m\"\u001b[39m\n",
      "\u001b[0;32m    873\u001b[0m )\n",
      "\n",
      "\u001b[1;31mMPRestError\u001b[0m: REST query returned with error status code 404 on URL https://api.materialsproject.org/materials/phonon/mp-149/?_limit=1&_fields=ph_bs with message:\n",
      "Not Found\n"
     ]
    }
   ],
   "source": [
    "from mp_api.client import MPRester\n",
    "\n",
    "with MPRester(\"A55hSVu7NuwvlISilTvVtw37IB5ES26w\") as mpr:\n",
    "    ph_bs = mpr.get_phonon_bandstructure_by_material_id(\"mp-149\")"
   ]
  },
  {
   "cell_type": "markdown",
   "id": "c0c802e0-fcb7-4c9d-a064-f2af1f71fedf",
   "metadata": {},
   "source": [
    "# Example for $TiO_2 - rutile$\n",
    "\n",
    "In the folowing example we took the resulting frequencies from the phonon dispersion at the so called $\\Gamma$ point, which is the the symmetric point found at $\\hat{R}= 0 \\hat{h} + 0 \\hat{l} + 0 \\hat{k}$"
   ]
  },
  {
   "cell_type": "code",
   "execution_count": 3,
   "id": "0bac553e-b027-43b3-82cb-5e69160ec9d0",
   "metadata": {},
   "outputs": [
    {
     "name": "stderr",
     "output_type": "stream",
     "text": [
      "The server does not support the request made to https://api.materialsproject.org/materials/phonon/mp-2657/?_limit=1&_fields=ph_bs. This may be due to an outdated mp-api package, or a problem with the query.\n"
     ]
    },
    {
     "data": {
      "application/vnd.jupyter.widget-view+json": {
       "model_id": "52258f92b4d24ccdbe6ea4e4bdfec934",
       "version_major": 2,
       "version_minor": 0
      },
      "text/plain": [
       "Retrieving MaterialsDoc documents:   0%|          | 0/1 [00:00<?, ?it/s]"
      ]
     },
     "metadata": {},
     "output_type": "display_data"
    },
    {
     "name": "stderr",
     "output_type": "stream",
     "text": [
      "Document primary key has changed from mp-2657 to mp-2657, returning data for mp-2657 in materials/phonon route.    \n"
     ]
    },
    {
     "name": "stdout",
     "output_type": "stream",
     "text": [
      "\u001b[1;31m---------------------------------------------------------------------------\u001b[0m\n",
      "\u001b[1;31mMPRestError\u001b[0m                               Traceback (most recent call last)\n",
      "File \u001b[1;32mc:\\Users\\roste\\anaconda3\\lib\\site-packages\\mp_api\\client\\core\\client.py:1001\u001b[0m, in \u001b[0;36mBaseRester.get_data_by_id\u001b[1;34m(self, document_id, fields)\u001b[0m\n",
      "\u001b[0;32m   1000\u001b[0m \u001b[38;5;28;01mtry\u001b[39;00m:\n",
      "\u001b[1;32m-> 1001\u001b[0m     results \u001b[38;5;241m=\u001b[39m \u001b[38;5;28;43mself\u001b[39;49m\u001b[38;5;241;43m.\u001b[39;49m\u001b[43m_query_resource_data\u001b[49m\u001b[43m(\u001b[49m\u001b[43mcriteria\u001b[49m\u001b[38;5;241;43m=\u001b[39;49m\u001b[43mcriteria\u001b[49m\u001b[43m,\u001b[49m\u001b[43m \u001b[49m\u001b[43mfields\u001b[49m\u001b[38;5;241;43m=\u001b[39;49m\u001b[43mfields\u001b[49m\u001b[43m,\u001b[49m\u001b[43m \u001b[49m\u001b[43msuburl\u001b[49m\u001b[38;5;241;43m=\u001b[39;49m\u001b[43mdocument_id\u001b[49m\u001b[43m)\u001b[49m  \u001b[38;5;66;03m# type: ignore\u001b[39;00m\n",
      "\u001b[0;32m   1002\u001b[0m \u001b[38;5;28;01mexcept\u001b[39;00m MPRestError:\n",
      "\n",
      "File \u001b[1;32mc:\\Users\\roste\\anaconda3\\lib\\site-packages\\mp_api\\client\\core\\client.py:958\u001b[0m, in \u001b[0;36mBaseRester._query_resource_data\u001b[1;34m(self, criteria, fields, suburl, use_document_model, timeout)\u001b[0m\n",
      "\u001b[0;32m    945\u001b[0m \u001b[38;5;250m\u001b[39m\u001b[38;5;124;03m\"\"\"Query the endpoint for a list of documents without associated meta information. Only\u001b[39;00m\n",
      "\u001b[0;32m    946\u001b[0m \u001b[38;5;124;03mreturns a single page of results.\u001b[39;00m\n",
      "\u001b[0;32m    947\u001b[0m \n",
      "\u001b[1;32m   (...)\u001b[0m\n",
      "\u001b[0;32m    956\u001b[0m \u001b[38;5;124;03m    A list of documents\u001b[39;00m\n",
      "\u001b[0;32m    957\u001b[0m \u001b[38;5;124;03m\"\"\"\u001b[39;00m\n",
      "\u001b[1;32m--> 958\u001b[0m \u001b[38;5;28;01mreturn\u001b[39;00m \u001b[38;5;28;43mself\u001b[39;49m\u001b[38;5;241;43m.\u001b[39;49m\u001b[43m_query_resource\u001b[49m\u001b[43m(\u001b[49m\u001b[43m  \u001b[49m\u001b[38;5;66;43;03m# type: ignore\u001b[39;49;00m\n",
      "\u001b[0;32m    959\u001b[0m \u001b[43m    \u001b[49m\u001b[43mcriteria\u001b[49m\u001b[38;5;241;43m=\u001b[39;49m\u001b[43mcriteria\u001b[49m\u001b[43m,\u001b[49m\n",
      "\u001b[0;32m    960\u001b[0m \u001b[43m    \u001b[49m\u001b[43mfields\u001b[49m\u001b[38;5;241;43m=\u001b[39;49m\u001b[43mfields\u001b[49m\u001b[43m,\u001b[49m\n",
      "\u001b[0;32m    961\u001b[0m \u001b[43m    \u001b[49m\u001b[43msuburl\u001b[49m\u001b[38;5;241;43m=\u001b[39;49m\u001b[43msuburl\u001b[49m\u001b[43m,\u001b[49m\n",
      "\u001b[0;32m    962\u001b[0m \u001b[43m    \u001b[49m\u001b[43muse_document_model\u001b[49m\u001b[38;5;241;43m=\u001b[39;49m\u001b[43muse_document_model\u001b[49m\u001b[43m,\u001b[49m\n",
      "\u001b[0;32m    963\u001b[0m \u001b[43m    \u001b[49m\u001b[43mchunk_size\u001b[49m\u001b[38;5;241;43m=\u001b[39;49m\u001b[38;5;241;43m1000\u001b[39;49m\u001b[43m,\u001b[49m\n",
      "\u001b[0;32m    964\u001b[0m \u001b[43m    \u001b[49m\u001b[43mnum_chunks\u001b[49m\u001b[38;5;241;43m=\u001b[39;49m\u001b[38;5;241;43m1\u001b[39;49m\u001b[43m,\u001b[49m\n",
      "\u001b[0;32m    965\u001b[0m \u001b[43m\u001b[49m\u001b[43m)\u001b[49m\u001b[38;5;241m.\u001b[39mget(\u001b[38;5;124m\"\u001b[39m\u001b[38;5;124mdata\u001b[39m\u001b[38;5;124m\"\u001b[39m)\n",
      "\n",
      "File \u001b[1;32mc:\\Users\\roste\\anaconda3\\lib\\site-packages\\mp_api\\client\\core\\client.py:408\u001b[0m, in \u001b[0;36mBaseRester._query_resource\u001b[1;34m(self, criteria, fields, suburl, use_document_model, parallel_param, num_chunks, chunk_size, timeout)\u001b[0m\n",
      "\u001b[0;32m    406\u001b[0m         url \u001b[38;5;241m+\u001b[39m\u001b[38;5;241m=\u001b[39m \u001b[38;5;124m\"\u001b[39m\u001b[38;5;124m/\u001b[39m\u001b[38;5;124m\"\u001b[39m\n",
      "\u001b[1;32m--> 408\u001b[0m data \u001b[38;5;241m=\u001b[39m \u001b[38;5;28;43mself\u001b[39;49m\u001b[38;5;241;43m.\u001b[39;49m\u001b[43m_submit_requests\u001b[49m\u001b[43m(\u001b[49m\n",
      "\u001b[0;32m    409\u001b[0m \u001b[43m    \u001b[49m\u001b[43murl\u001b[49m\u001b[38;5;241;43m=\u001b[39;49m\u001b[43murl\u001b[49m\u001b[43m,\u001b[49m\n",
      "\u001b[0;32m    410\u001b[0m \u001b[43m    \u001b[49m\u001b[43mcriteria\u001b[49m\u001b[38;5;241;43m=\u001b[39;49m\u001b[43mcriteria\u001b[49m\u001b[43m,\u001b[49m\n",
      "\u001b[0;32m    411\u001b[0m \u001b[43m    \u001b[49m\u001b[43muse_document_model\u001b[49m\u001b[38;5;241;43m=\u001b[39;49m\u001b[43muse_document_model\u001b[49m\u001b[43m,\u001b[49m\n",
      "\u001b[0;32m    412\u001b[0m \u001b[43m    \u001b[49m\u001b[43mparallel_param\u001b[49m\u001b[38;5;241;43m=\u001b[39;49m\u001b[43mparallel_param\u001b[49m\u001b[43m,\u001b[49m\n",
      "\u001b[0;32m    413\u001b[0m \u001b[43m    \u001b[49m\u001b[43mnum_chunks\u001b[49m\u001b[38;5;241;43m=\u001b[39;49m\u001b[43mnum_chunks\u001b[49m\u001b[43m,\u001b[49m\n",
      "\u001b[0;32m    414\u001b[0m \u001b[43m    \u001b[49m\u001b[43mchunk_size\u001b[49m\u001b[38;5;241;43m=\u001b[39;49m\u001b[43mchunk_size\u001b[49m\u001b[43m,\u001b[49m\n",
      "\u001b[0;32m    415\u001b[0m \u001b[43m    \u001b[49m\u001b[43mtimeout\u001b[49m\u001b[38;5;241;43m=\u001b[39;49m\u001b[43mtimeout\u001b[49m\u001b[43m,\u001b[49m\n",
      "\u001b[0;32m    416\u001b[0m \u001b[43m\u001b[49m\u001b[43m)\u001b[49m\n",
      "\u001b[0;32m    418\u001b[0m \u001b[38;5;28;01mreturn\u001b[39;00m data\n",
      "\n",
      "File \u001b[1;32mc:\\Users\\roste\\anaconda3\\lib\\site-packages\\mp_api\\client\\core\\client.py:549\u001b[0m, in \u001b[0;36mBaseRester._submit_requests\u001b[1;34m(self, url, criteria, use_document_model, parallel_param, num_chunks, chunk_size, timeout)\u001b[0m\n",
      "\u001b[0;32m    545\u001b[0m initial_params_list \u001b[38;5;241m=\u001b[39m [\n",
      "\u001b[0;32m    546\u001b[0m     {\u001b[38;5;124m\"\u001b[39m\u001b[38;5;124murl\u001b[39m\u001b[38;5;124m\"\u001b[39m: url, \u001b[38;5;124m\"\u001b[39m\u001b[38;5;124mverify\u001b[39m\u001b[38;5;124m\"\u001b[39m: \u001b[38;5;28;01mTrue\u001b[39;00m, \u001b[38;5;124m\"\u001b[39m\u001b[38;5;124mparams\u001b[39m\u001b[38;5;124m\"\u001b[39m: copy(crit)} \u001b[38;5;28;01mfor\u001b[39;00m crit \u001b[38;5;129;01min\u001b[39;00m new_criteria\n",
      "\u001b[0;32m    547\u001b[0m ]\n",
      "\u001b[1;32m--> 549\u001b[0m initial_data_tuples \u001b[38;5;241m=\u001b[39m \u001b[38;5;28;43mself\u001b[39;49m\u001b[38;5;241;43m.\u001b[39;49m\u001b[43m_multi_thread\u001b[49m\u001b[43m(\u001b[49m\n",
      "\u001b[0;32m    550\u001b[0m \u001b[43m    \u001b[49m\u001b[43muse_document_model\u001b[49m\u001b[43m,\u001b[49m\u001b[43m \u001b[49m\u001b[43minitial_params_list\u001b[49m\n",
      "\u001b[0;32m    551\u001b[0m \u001b[43m\u001b[49m\u001b[43m)\u001b[49m\n",
      "\u001b[0;32m    553\u001b[0m \u001b[38;5;28;01mfor\u001b[39;00m data, subtotal, crit_ind \u001b[38;5;129;01min\u001b[39;00m initial_data_tuples:\n",
      "\n",
      "File \u001b[1;32mc:\\Users\\roste\\anaconda3\\lib\\site-packages\\mp_api\\client\\core\\client.py:763\u001b[0m, in \u001b[0;36mBaseRester._multi_thread\u001b[1;34m(self, use_document_model, params_list, progress_bar, timeout)\u001b[0m\n",
      "\u001b[0;32m    762\u001b[0m \u001b[38;5;28;01mfor\u001b[39;00m future \u001b[38;5;129;01min\u001b[39;00m finished:\n",
      "\u001b[1;32m--> 763\u001b[0m     data, subtotal \u001b[38;5;241m=\u001b[39m \u001b[43mfuture\u001b[49m\u001b[38;5;241;43m.\u001b[39;49m\u001b[43mresult\u001b[49m\u001b[43m(\u001b[49m\u001b[43m)\u001b[49m\n",
      "\u001b[0;32m    765\u001b[0m     \u001b[38;5;28;01mif\u001b[39;00m progress_bar \u001b[38;5;129;01mis\u001b[39;00m \u001b[38;5;129;01mnot\u001b[39;00m \u001b[38;5;28;01mNone\u001b[39;00m:\n",
      "\n",
      "File \u001b[1;32mc:\\Users\\roste\\anaconda3\\lib\\concurrent\\futures\\_base.py:437\u001b[0m, in \u001b[0;36mFuture.result\u001b[1;34m(self, timeout)\u001b[0m\n",
      "\u001b[0;32m    436\u001b[0m \u001b[38;5;28;01melif\u001b[39;00m \u001b[38;5;28mself\u001b[39m\u001b[38;5;241m.\u001b[39m_state \u001b[38;5;241m==\u001b[39m FINISHED:\n",
      "\u001b[1;32m--> 437\u001b[0m     \u001b[38;5;28;01mreturn\u001b[39;00m \u001b[38;5;28;43mself\u001b[39;49m\u001b[38;5;241;43m.\u001b[39;49m\u001b[43m__get_result\u001b[49m\u001b[43m(\u001b[49m\u001b[43m)\u001b[49m\n",
      "\u001b[0;32m    439\u001b[0m \u001b[38;5;28mself\u001b[39m\u001b[38;5;241m.\u001b[39m_condition\u001b[38;5;241m.\u001b[39mwait(timeout)\n",
      "\n",
      "File \u001b[1;32mc:\\Users\\roste\\anaconda3\\lib\\concurrent\\futures\\_base.py:389\u001b[0m, in \u001b[0;36mFuture.__get_result\u001b[1;34m(self)\u001b[0m\n",
      "\u001b[0;32m    388\u001b[0m \u001b[38;5;28;01mtry\u001b[39;00m:\n",
      "\u001b[1;32m--> 389\u001b[0m     \u001b[38;5;28;01mraise\u001b[39;00m \u001b[38;5;28mself\u001b[39m\u001b[38;5;241m.\u001b[39m_exception\n",
      "\u001b[0;32m    390\u001b[0m \u001b[38;5;28;01mfinally\u001b[39;00m:\n",
      "\u001b[0;32m    391\u001b[0m     \u001b[38;5;66;03m# Break a reference cycle with the exception in self._exception\u001b[39;00m\n",
      "\n",
      "File \u001b[1;32mc:\\Users\\roste\\anaconda3\\lib\\concurrent\\futures\\thread.py:57\u001b[0m, in \u001b[0;36m_WorkItem.run\u001b[1;34m(self)\u001b[0m\n",
      "\u001b[0;32m     56\u001b[0m \u001b[38;5;28;01mtry\u001b[39;00m:\n",
      "\u001b[1;32m---> 57\u001b[0m     result \u001b[38;5;241m=\u001b[39m \u001b[38;5;28;43mself\u001b[39;49m\u001b[38;5;241;43m.\u001b[39;49m\u001b[43mfn\u001b[49m\u001b[43m(\u001b[49m\u001b[38;5;241;43m*\u001b[39;49m\u001b[38;5;28;43mself\u001b[39;49m\u001b[38;5;241;43m.\u001b[39;49m\u001b[43margs\u001b[49m\u001b[43m,\u001b[49m\u001b[43m \u001b[49m\u001b[38;5;241;43m*\u001b[39;49m\u001b[38;5;241;43m*\u001b[39;49m\u001b[38;5;28;43mself\u001b[39;49m\u001b[38;5;241;43m.\u001b[39;49m\u001b[43mkwargs\u001b[49m\u001b[43m)\u001b[49m\n",
      "\u001b[0;32m     58\u001b[0m \u001b[38;5;28;01mexcept\u001b[39;00m \u001b[38;5;167;01mBaseException\u001b[39;00m \u001b[38;5;28;01mas\u001b[39;00m exc:\n",
      "\n",
      "File \u001b[1;32mc:\\Users\\roste\\anaconda3\\lib\\site-packages\\mp_api\\client\\core\\client.py:870\u001b[0m, in \u001b[0;36mBaseRester._submit_request_and_process\u001b[1;34m(self, url, verify, params, use_document_model, timeout)\u001b[0m\n",
      "\u001b[0;32m    868\u001b[0m         message \u001b[38;5;241m=\u001b[39m \u001b[38;5;28mstr\u001b[39m(data)\n",
      "\u001b[1;32m--> 870\u001b[0m \u001b[38;5;28;01mraise\u001b[39;00m MPRestError(\n",
      "\u001b[0;32m    871\u001b[0m     \u001b[38;5;124mf\u001b[39m\u001b[38;5;124m\"\u001b[39m\u001b[38;5;124mREST query returned with error status code \u001b[39m\u001b[38;5;132;01m{\u001b[39;00mresponse\u001b[38;5;241m.\u001b[39mstatus_code\u001b[38;5;132;01m}\u001b[39;00m\u001b[38;5;124m \u001b[39m\u001b[38;5;124m\"\u001b[39m\n",
      "\u001b[0;32m    872\u001b[0m     \u001b[38;5;124mf\u001b[39m\u001b[38;5;124m\"\u001b[39m\u001b[38;5;124mon URL \u001b[39m\u001b[38;5;132;01m{\u001b[39;00mresponse\u001b[38;5;241m.\u001b[39murl\u001b[38;5;132;01m}\u001b[39;00m\u001b[38;5;124m with message:\u001b[39m\u001b[38;5;130;01m\\n\u001b[39;00m\u001b[38;5;132;01m{\u001b[39;00mmessage\u001b[38;5;132;01m}\u001b[39;00m\u001b[38;5;124m\"\u001b[39m\n",
      "\u001b[0;32m    873\u001b[0m )\n",
      "\n",
      "\u001b[1;31mMPRestError\u001b[0m: REST query returned with error status code 404 on URL https://api.materialsproject.org/materials/phonon/mp-2657/?_limit=1&_fields=ph_bs with message:\n",
      "Not Found\n",
      "\n",
      "During handling of the above exception, another exception occurred:\n",
      "\n",
      "\u001b[1;31mMPRestError\u001b[0m                               Traceback (most recent call last)\n",
      "Input \u001b[1;32mIn [3]\u001b[0m, in \u001b[0;36m<cell line: 54>\u001b[1;34m()\u001b[0m\n",
      "\u001b[0;32m     52\u001b[0m     ax[\u001b[38;5;241m1\u001b[39m]\u001b[38;5;241m.\u001b[39mset_xlim(\u001b[38;5;241m0\u001b[39m)\n",
      "\u001b[0;32m     53\u001b[0m     \u001b[38;5;28;01mreturn\u001b[39;00m view\n",
      "\u001b[1;32m---> 54\u001b[0m \u001b[43mplot_phonon_and_structure\u001b[49m\u001b[43m(\u001b[49m\u001b[43mmaterial_id\u001b[49m\u001b[43m)\u001b[49m\n",
      "\n",
      "Input \u001b[1;32mIn [3]\u001b[0m, in \u001b[0;36mplot_phonon_and_structure\u001b[1;34m(material_id)\u001b[0m\n",
      "\u001b[0;32m      8\u001b[0m \u001b[38;5;28;01mdef\u001b[39;00m \u001b[38;5;21mplot_phonon_and_structure\u001b[39m(material_id):\n",
      "\u001b[0;32m      9\u001b[0m     \u001b[38;5;28;01mwith\u001b[39;00m MPRester(API_key) \u001b[38;5;28;01mas\u001b[39;00m mpr:\n",
      "\u001b[1;32m---> 10\u001b[0m         ph_bs \u001b[38;5;241m=\u001b[39m \u001b[43mmpr\u001b[49m\u001b[38;5;241;43m.\u001b[39;49m\u001b[43mget_phonon_bandstructure_by_material_id\u001b[49m\u001b[43m(\u001b[49m\u001b[43mmaterial_id\u001b[49m\u001b[43m)\u001b[49m\n",
      "\u001b[0;32m     11\u001b[0m         ph_dos \u001b[38;5;241m=\u001b[39m mpr\u001b[38;5;241m.\u001b[39mget_phonon_dos_by_material_id(material_id)\n",
      "\u001b[0;32m     12\u001b[0m         structure \u001b[38;5;241m=\u001b[39m mpr\u001b[38;5;241m.\u001b[39mget_structure_by_material_id(material_id)\n",
      "\n",
      "File \u001b[1;32mc:\\Users\\roste\\anaconda3\\lib\\site-packages\\mp_api\\client\\mprester.py:1222\u001b[0m, in \u001b[0;36mMPRester.get_phonon_bandstructure_by_material_id\u001b[1;34m(self, material_id)\u001b[0m\n",
      "\u001b[0;32m   1213\u001b[0m \u001b[38;5;28;01mdef\u001b[39;00m \u001b[38;5;21mget_phonon_bandstructure_by_material_id\u001b[39m(\u001b[38;5;28mself\u001b[39m, material_id: \u001b[38;5;28mstr\u001b[39m):\n",
      "\u001b[0;32m   1214\u001b[0m \u001b[38;5;250m    \u001b[39m\u001b[38;5;124;03m\"\"\"Get phonon dispersion data corresponding to a material_id.\u001b[39;00m\n",
      "\u001b[0;32m   1215\u001b[0m \n",
      "\u001b[0;32m   1216\u001b[0m \u001b[38;5;124;03m    Args:\u001b[39;00m\n",
      "\u001b[1;32m   (...)\u001b[0m\n",
      "\u001b[0;32m   1220\u001b[0m \u001b[38;5;124;03m        PhononBandStructureSymmLine:  phonon band structure.\u001b[39;00m\n",
      "\u001b[0;32m   1221\u001b[0m \u001b[38;5;124;03m    \"\"\"\u001b[39;00m\n",
      "\u001b[1;32m-> 1222\u001b[0m     \u001b[38;5;28;01mreturn\u001b[39;00m \u001b[38;5;28;43mself\u001b[39;49m\u001b[38;5;241;43m.\u001b[39;49m\u001b[43mphonon\u001b[49m\u001b[38;5;241;43m.\u001b[39;49m\u001b[43mget_data_by_id\u001b[49m\u001b[43m(\u001b[49m\u001b[43mmaterial_id\u001b[49m\u001b[43m,\u001b[49m\u001b[43m \u001b[49m\u001b[43mfields\u001b[49m\u001b[38;5;241;43m=\u001b[39;49m\u001b[43m[\u001b[49m\u001b[38;5;124;43m\"\u001b[39;49m\u001b[38;5;124;43mph_bs\u001b[39;49m\u001b[38;5;124;43m\"\u001b[39;49m\u001b[43m]\u001b[49m\u001b[43m)\u001b[49m\u001b[38;5;241m.\u001b[39mph_bs\n",
      "\n",
      "File \u001b[1;32mc:\\Users\\roste\\anaconda3\\lib\\site-packages\\mp_api\\client\\core\\client.py:1027\u001b[0m, in \u001b[0;36mBaseRester.get_data_by_id\u001b[1;34m(self, document_id, fields)\u001b[0m\n",
      "\u001b[0;32m   1021\u001b[0m             \u001b[38;5;28;01mif\u001b[39;00m new_document_id \u001b[38;5;129;01mis\u001b[39;00m \u001b[38;5;129;01mnot\u001b[39;00m \u001b[38;5;28;01mNone\u001b[39;00m:\n",
      "\u001b[0;32m   1022\u001b[0m                 warnings\u001b[38;5;241m.\u001b[39mwarn(\n",
      "\u001b[0;32m   1023\u001b[0m                     \u001b[38;5;124mf\u001b[39m\u001b[38;5;124m\"\u001b[39m\u001b[38;5;124mDocument primary key has changed from \u001b[39m\u001b[38;5;132;01m{\u001b[39;00mdocument_id\u001b[38;5;132;01m}\u001b[39;00m\u001b[38;5;124m to \u001b[39m\u001b[38;5;132;01m{\u001b[39;00mnew_document_id\u001b[38;5;132;01m}\u001b[39;00m\u001b[38;5;124m, \u001b[39m\u001b[38;5;124m\"\u001b[39m\n",
      "\u001b[0;32m   1024\u001b[0m                     \u001b[38;5;124mf\u001b[39m\u001b[38;5;124m\"\u001b[39m\u001b[38;5;124mreturning data for \u001b[39m\u001b[38;5;132;01m{\u001b[39;00mnew_document_id\u001b[38;5;132;01m}\u001b[39;00m\u001b[38;5;124m in \u001b[39m\u001b[38;5;132;01m{\u001b[39;00m\u001b[38;5;28mself\u001b[39m\u001b[38;5;241m.\u001b[39msuffix\u001b[38;5;132;01m}\u001b[39;00m\u001b[38;5;124m route.    \u001b[39m\u001b[38;5;124m\"\u001b[39m\n",
      "\u001b[0;32m   1025\u001b[0m                 )\n",
      "\u001b[1;32m-> 1027\u001b[0m                 results \u001b[38;5;241m=\u001b[39m \u001b[38;5;28;43mself\u001b[39;49m\u001b[38;5;241;43m.\u001b[39;49m\u001b[43m_query_resource_data\u001b[49m\u001b[43m(\u001b[49m\n",
      "\u001b[0;32m   1028\u001b[0m \u001b[43m                    \u001b[49m\u001b[43mcriteria\u001b[49m\u001b[38;5;241;43m=\u001b[39;49m\u001b[43mcriteria\u001b[49m\u001b[43m,\u001b[49m\u001b[43m \u001b[49m\u001b[43mfields\u001b[49m\u001b[38;5;241;43m=\u001b[39;49m\u001b[43mfields\u001b[49m\u001b[43m,\u001b[49m\u001b[43m \u001b[49m\u001b[43msuburl\u001b[49m\u001b[38;5;241;43m=\u001b[39;49m\u001b[43mnew_document_id\u001b[49m\u001b[43m  \u001b[49m\u001b[38;5;66;43;03m# type: ignore\u001b[39;49;00m\n",
      "\u001b[0;32m   1029\u001b[0m \u001b[43m                \u001b[49m\u001b[43m)\u001b[49m\n",
      "\u001b[0;32m   1031\u001b[0m \u001b[38;5;28;01mif\u001b[39;00m \u001b[38;5;129;01mnot\u001b[39;00m results:\n",
      "\u001b[0;32m   1032\u001b[0m     \u001b[38;5;28;01mraise\u001b[39;00m MPRestError(\u001b[38;5;124mf\u001b[39m\u001b[38;5;124m\"\u001b[39m\u001b[38;5;124mNo result for record \u001b[39m\u001b[38;5;132;01m{\u001b[39;00mdocument_id\u001b[38;5;132;01m}\u001b[39;00m\u001b[38;5;124m.\u001b[39m\u001b[38;5;124m\"\u001b[39m)\n",
      "\n",
      "File \u001b[1;32mc:\\Users\\roste\\anaconda3\\lib\\site-packages\\mp_api\\client\\core\\client.py:958\u001b[0m, in \u001b[0;36mBaseRester._query_resource_data\u001b[1;34m(self, criteria, fields, suburl, use_document_model, timeout)\u001b[0m\n",
      "\u001b[0;32m    937\u001b[0m \u001b[38;5;28;01mdef\u001b[39;00m \u001b[38;5;21m_query_resource_data\u001b[39m(\n",
      "\u001b[0;32m    938\u001b[0m     \u001b[38;5;28mself\u001b[39m,\n",
      "\u001b[0;32m    939\u001b[0m     criteria: \u001b[38;5;28mdict\u001b[39m \u001b[38;5;241m|\u001b[39m \u001b[38;5;28;01mNone\u001b[39;00m \u001b[38;5;241m=\u001b[39m \u001b[38;5;28;01mNone\u001b[39;00m,\n",
      "\u001b[1;32m   (...)\u001b[0m\n",
      "\u001b[0;32m    943\u001b[0m     timeout: \u001b[38;5;28mint\u001b[39m \u001b[38;5;241m|\u001b[39m \u001b[38;5;28;01mNone\u001b[39;00m \u001b[38;5;241m=\u001b[39m \u001b[38;5;28;01mNone\u001b[39;00m,\n",
      "\u001b[0;32m    944\u001b[0m ) \u001b[38;5;241m-\u001b[39m\u001b[38;5;241m>\u001b[39m \u001b[38;5;28mlist\u001b[39m[T] \u001b[38;5;241m|\u001b[39m \u001b[38;5;28mlist\u001b[39m[\u001b[38;5;28mdict\u001b[39m]:\n",
      "\u001b[0;32m    945\u001b[0m \u001b[38;5;250m    \u001b[39m\u001b[38;5;124;03m\"\"\"Query the endpoint for a list of documents without associated meta information. Only\u001b[39;00m\n",
      "\u001b[0;32m    946\u001b[0m \u001b[38;5;124;03m    returns a single page of results.\u001b[39;00m\n",
      "\u001b[0;32m    947\u001b[0m \n",
      "\u001b[1;32m   (...)\u001b[0m\n",
      "\u001b[0;32m    956\u001b[0m \u001b[38;5;124;03m        A list of documents\u001b[39;00m\n",
      "\u001b[0;32m    957\u001b[0m \u001b[38;5;124;03m    \"\"\"\u001b[39;00m\n",
      "\u001b[1;32m--> 958\u001b[0m     \u001b[38;5;28;01mreturn\u001b[39;00m \u001b[38;5;28;43mself\u001b[39;49m\u001b[38;5;241;43m.\u001b[39;49m\u001b[43m_query_resource\u001b[49m\u001b[43m(\u001b[49m\u001b[43m  \u001b[49m\u001b[38;5;66;43;03m# type: ignore\u001b[39;49;00m\n",
      "\u001b[0;32m    959\u001b[0m \u001b[43m        \u001b[49m\u001b[43mcriteria\u001b[49m\u001b[38;5;241;43m=\u001b[39;49m\u001b[43mcriteria\u001b[49m\u001b[43m,\u001b[49m\n",
      "\u001b[0;32m    960\u001b[0m \u001b[43m        \u001b[49m\u001b[43mfields\u001b[49m\u001b[38;5;241;43m=\u001b[39;49m\u001b[43mfields\u001b[49m\u001b[43m,\u001b[49m\n",
      "\u001b[0;32m    961\u001b[0m \u001b[43m        \u001b[49m\u001b[43msuburl\u001b[49m\u001b[38;5;241;43m=\u001b[39;49m\u001b[43msuburl\u001b[49m\u001b[43m,\u001b[49m\n",
      "\u001b[0;32m    962\u001b[0m \u001b[43m        \u001b[49m\u001b[43muse_document_model\u001b[49m\u001b[38;5;241;43m=\u001b[39;49m\u001b[43muse_document_model\u001b[49m\u001b[43m,\u001b[49m\n",
      "\u001b[0;32m    963\u001b[0m \u001b[43m        \u001b[49m\u001b[43mchunk_size\u001b[49m\u001b[38;5;241;43m=\u001b[39;49m\u001b[38;5;241;43m1000\u001b[39;49m\u001b[43m,\u001b[49m\n",
      "\u001b[0;32m    964\u001b[0m \u001b[43m        \u001b[49m\u001b[43mnum_chunks\u001b[49m\u001b[38;5;241;43m=\u001b[39;49m\u001b[38;5;241;43m1\u001b[39;49m\u001b[43m,\u001b[49m\n",
      "\u001b[0;32m    965\u001b[0m \u001b[43m    \u001b[49m\u001b[43m)\u001b[49m\u001b[38;5;241m.\u001b[39mget(\u001b[38;5;124m\"\u001b[39m\u001b[38;5;124mdata\u001b[39m\u001b[38;5;124m\"\u001b[39m)\n",
      "\n",
      "File \u001b[1;32mc:\\Users\\roste\\anaconda3\\lib\\site-packages\\mp_api\\client\\core\\client.py:408\u001b[0m, in \u001b[0;36mBaseRester._query_resource\u001b[1;34m(self, criteria, fields, suburl, use_document_model, parallel_param, num_chunks, chunk_size, timeout)\u001b[0m\n",
      "\u001b[0;32m    405\u001b[0m         \u001b[38;5;28;01mif\u001b[39;00m \u001b[38;5;129;01mnot\u001b[39;00m url\u001b[38;5;241m.\u001b[39mendswith(\u001b[38;5;124m\"\u001b[39m\u001b[38;5;124m/\u001b[39m\u001b[38;5;124m\"\u001b[39m):\n",
      "\u001b[0;32m    406\u001b[0m             url \u001b[38;5;241m+\u001b[39m\u001b[38;5;241m=\u001b[39m \u001b[38;5;124m\"\u001b[39m\u001b[38;5;124m/\u001b[39m\u001b[38;5;124m\"\u001b[39m\n",
      "\u001b[1;32m--> 408\u001b[0m     data \u001b[38;5;241m=\u001b[39m \u001b[38;5;28;43mself\u001b[39;49m\u001b[38;5;241;43m.\u001b[39;49m\u001b[43m_submit_requests\u001b[49m\u001b[43m(\u001b[49m\n",
      "\u001b[0;32m    409\u001b[0m \u001b[43m        \u001b[49m\u001b[43murl\u001b[49m\u001b[38;5;241;43m=\u001b[39;49m\u001b[43murl\u001b[49m\u001b[43m,\u001b[49m\n",
      "\u001b[0;32m    410\u001b[0m \u001b[43m        \u001b[49m\u001b[43mcriteria\u001b[49m\u001b[38;5;241;43m=\u001b[39;49m\u001b[43mcriteria\u001b[49m\u001b[43m,\u001b[49m\n",
      "\u001b[0;32m    411\u001b[0m \u001b[43m        \u001b[49m\u001b[43muse_document_model\u001b[49m\u001b[38;5;241;43m=\u001b[39;49m\u001b[43muse_document_model\u001b[49m\u001b[43m,\u001b[49m\n",
      "\u001b[0;32m    412\u001b[0m \u001b[43m        \u001b[49m\u001b[43mparallel_param\u001b[49m\u001b[38;5;241;43m=\u001b[39;49m\u001b[43mparallel_param\u001b[49m\u001b[43m,\u001b[49m\n",
      "\u001b[0;32m    413\u001b[0m \u001b[43m        \u001b[49m\u001b[43mnum_chunks\u001b[49m\u001b[38;5;241;43m=\u001b[39;49m\u001b[43mnum_chunks\u001b[49m\u001b[43m,\u001b[49m\n",
      "\u001b[0;32m    414\u001b[0m \u001b[43m        \u001b[49m\u001b[43mchunk_size\u001b[49m\u001b[38;5;241;43m=\u001b[39;49m\u001b[43mchunk_size\u001b[49m\u001b[43m,\u001b[49m\n",
      "\u001b[0;32m    415\u001b[0m \u001b[43m        \u001b[49m\u001b[43mtimeout\u001b[49m\u001b[38;5;241;43m=\u001b[39;49m\u001b[43mtimeout\u001b[49m\u001b[43m,\u001b[49m\n",
      "\u001b[0;32m    416\u001b[0m \u001b[43m    \u001b[49m\u001b[43m)\u001b[49m\n",
      "\u001b[0;32m    418\u001b[0m     \u001b[38;5;28;01mreturn\u001b[39;00m data\n",
      "\u001b[0;32m    420\u001b[0m \u001b[38;5;28;01mexcept\u001b[39;00m RequestException \u001b[38;5;28;01mas\u001b[39;00m ex:\n",
      "\n",
      "File \u001b[1;32mc:\\Users\\roste\\anaconda3\\lib\\site-packages\\mp_api\\client\\core\\client.py:549\u001b[0m, in \u001b[0;36mBaseRester._submit_requests\u001b[1;34m(self, url, criteria, use_document_model, parallel_param, num_chunks, chunk_size, timeout)\u001b[0m\n",
      "\u001b[0;32m    543\u001b[0m remaining_docs_avail \u001b[38;5;241m=\u001b[39m {}\n",
      "\u001b[0;32m    545\u001b[0m initial_params_list \u001b[38;5;241m=\u001b[39m [\n",
      "\u001b[0;32m    546\u001b[0m     {\u001b[38;5;124m\"\u001b[39m\u001b[38;5;124murl\u001b[39m\u001b[38;5;124m\"\u001b[39m: url, \u001b[38;5;124m\"\u001b[39m\u001b[38;5;124mverify\u001b[39m\u001b[38;5;124m\"\u001b[39m: \u001b[38;5;28;01mTrue\u001b[39;00m, \u001b[38;5;124m\"\u001b[39m\u001b[38;5;124mparams\u001b[39m\u001b[38;5;124m\"\u001b[39m: copy(crit)} \u001b[38;5;28;01mfor\u001b[39;00m crit \u001b[38;5;129;01min\u001b[39;00m new_criteria\n",
      "\u001b[0;32m    547\u001b[0m ]\n",
      "\u001b[1;32m--> 549\u001b[0m initial_data_tuples \u001b[38;5;241m=\u001b[39m \u001b[38;5;28;43mself\u001b[39;49m\u001b[38;5;241;43m.\u001b[39;49m\u001b[43m_multi_thread\u001b[49m\u001b[43m(\u001b[49m\n",
      "\u001b[0;32m    550\u001b[0m \u001b[43m    \u001b[49m\u001b[43muse_document_model\u001b[49m\u001b[43m,\u001b[49m\u001b[43m \u001b[49m\u001b[43minitial_params_list\u001b[49m\n",
      "\u001b[0;32m    551\u001b[0m \u001b[43m\u001b[49m\u001b[43m)\u001b[49m\n",
      "\u001b[0;32m    553\u001b[0m \u001b[38;5;28;01mfor\u001b[39;00m data, subtotal, crit_ind \u001b[38;5;129;01min\u001b[39;00m initial_data_tuples:\n",
      "\u001b[0;32m    554\u001b[0m     subtotals\u001b[38;5;241m.\u001b[39mappend(subtotal)\n",
      "\n",
      "File \u001b[1;32mc:\\Users\\roste\\anaconda3\\lib\\site-packages\\mp_api\\client\\core\\client.py:763\u001b[0m, in \u001b[0;36mBaseRester._multi_thread\u001b[1;34m(self, use_document_model, params_list, progress_bar, timeout)\u001b[0m\n",
      "\u001b[0;32m    760\u001b[0m finished, futures \u001b[38;5;241m=\u001b[39m wait(futures, return_when\u001b[38;5;241m=\u001b[39mFIRST_COMPLETED)\n",
      "\u001b[0;32m    762\u001b[0m \u001b[38;5;28;01mfor\u001b[39;00m future \u001b[38;5;129;01min\u001b[39;00m finished:\n",
      "\u001b[1;32m--> 763\u001b[0m     data, subtotal \u001b[38;5;241m=\u001b[39m \u001b[43mfuture\u001b[49m\u001b[38;5;241;43m.\u001b[39;49m\u001b[43mresult\u001b[49m\u001b[43m(\u001b[49m\u001b[43m)\u001b[49m\n",
      "\u001b[0;32m    765\u001b[0m     \u001b[38;5;28;01mif\u001b[39;00m progress_bar \u001b[38;5;129;01mis\u001b[39;00m \u001b[38;5;129;01mnot\u001b[39;00m \u001b[38;5;28;01mNone\u001b[39;00m:\n",
      "\u001b[0;32m    766\u001b[0m         progress_bar\u001b[38;5;241m.\u001b[39mupdate(\u001b[38;5;28mlen\u001b[39m(data[\u001b[38;5;124m\"\u001b[39m\u001b[38;5;124mdata\u001b[39m\u001b[38;5;124m\"\u001b[39m]))\n",
      "\n",
      "File \u001b[1;32mc:\\Users\\roste\\anaconda3\\lib\\concurrent\\futures\\_base.py:437\u001b[0m, in \u001b[0;36mFuture.result\u001b[1;34m(self, timeout)\u001b[0m\n",
      "\u001b[0;32m    435\u001b[0m     \u001b[38;5;28;01mraise\u001b[39;00m CancelledError()\n",
      "\u001b[0;32m    436\u001b[0m \u001b[38;5;28;01melif\u001b[39;00m \u001b[38;5;28mself\u001b[39m\u001b[38;5;241m.\u001b[39m_state \u001b[38;5;241m==\u001b[39m FINISHED:\n",
      "\u001b[1;32m--> 437\u001b[0m     \u001b[38;5;28;01mreturn\u001b[39;00m \u001b[38;5;28;43mself\u001b[39;49m\u001b[38;5;241;43m.\u001b[39;49m\u001b[43m__get_result\u001b[49m\u001b[43m(\u001b[49m\u001b[43m)\u001b[49m\n",
      "\u001b[0;32m    439\u001b[0m \u001b[38;5;28mself\u001b[39m\u001b[38;5;241m.\u001b[39m_condition\u001b[38;5;241m.\u001b[39mwait(timeout)\n",
      "\u001b[0;32m    441\u001b[0m \u001b[38;5;28;01mif\u001b[39;00m \u001b[38;5;28mself\u001b[39m\u001b[38;5;241m.\u001b[39m_state \u001b[38;5;129;01min\u001b[39;00m [CANCELLED, CANCELLED_AND_NOTIFIED]:\n",
      "\n",
      "File \u001b[1;32mc:\\Users\\roste\\anaconda3\\lib\\concurrent\\futures\\_base.py:389\u001b[0m, in \u001b[0;36mFuture.__get_result\u001b[1;34m(self)\u001b[0m\n",
      "\u001b[0;32m    387\u001b[0m \u001b[38;5;28;01mif\u001b[39;00m \u001b[38;5;28mself\u001b[39m\u001b[38;5;241m.\u001b[39m_exception:\n",
      "\u001b[0;32m    388\u001b[0m     \u001b[38;5;28;01mtry\u001b[39;00m:\n",
      "\u001b[1;32m--> 389\u001b[0m         \u001b[38;5;28;01mraise\u001b[39;00m \u001b[38;5;28mself\u001b[39m\u001b[38;5;241m.\u001b[39m_exception\n",
      "\u001b[0;32m    390\u001b[0m     \u001b[38;5;28;01mfinally\u001b[39;00m:\n",
      "\u001b[0;32m    391\u001b[0m         \u001b[38;5;66;03m# Break a reference cycle with the exception in self._exception\u001b[39;00m\n",
      "\u001b[0;32m    392\u001b[0m         \u001b[38;5;28mself\u001b[39m \u001b[38;5;241m=\u001b[39m \u001b[38;5;28;01mNone\u001b[39;00m\n",
      "\n",
      "File \u001b[1;32mc:\\Users\\roste\\anaconda3\\lib\\concurrent\\futures\\thread.py:57\u001b[0m, in \u001b[0;36m_WorkItem.run\u001b[1;34m(self)\u001b[0m\n",
      "\u001b[0;32m     54\u001b[0m     \u001b[38;5;28;01mreturn\u001b[39;00m\n",
      "\u001b[0;32m     56\u001b[0m \u001b[38;5;28;01mtry\u001b[39;00m:\n",
      "\u001b[1;32m---> 57\u001b[0m     result \u001b[38;5;241m=\u001b[39m \u001b[38;5;28;43mself\u001b[39;49m\u001b[38;5;241;43m.\u001b[39;49m\u001b[43mfn\u001b[49m\u001b[43m(\u001b[49m\u001b[38;5;241;43m*\u001b[39;49m\u001b[38;5;28;43mself\u001b[39;49m\u001b[38;5;241;43m.\u001b[39;49m\u001b[43margs\u001b[49m\u001b[43m,\u001b[49m\u001b[43m \u001b[49m\u001b[38;5;241;43m*\u001b[39;49m\u001b[38;5;241;43m*\u001b[39;49m\u001b[38;5;28;43mself\u001b[39;49m\u001b[38;5;241;43m.\u001b[39;49m\u001b[43mkwargs\u001b[49m\u001b[43m)\u001b[49m\n",
      "\u001b[0;32m     58\u001b[0m \u001b[38;5;28;01mexcept\u001b[39;00m \u001b[38;5;167;01mBaseException\u001b[39;00m \u001b[38;5;28;01mas\u001b[39;00m exc:\n",
      "\u001b[0;32m     59\u001b[0m     \u001b[38;5;28mself\u001b[39m\u001b[38;5;241m.\u001b[39mfuture\u001b[38;5;241m.\u001b[39mset_exception(exc)\n",
      "\n",
      "File \u001b[1;32mc:\\Users\\roste\\anaconda3\\lib\\site-packages\\mp_api\\client\\core\\client.py:870\u001b[0m, in \u001b[0;36mBaseRester._submit_request_and_process\u001b[1;34m(self, url, verify, params, use_document_model, timeout)\u001b[0m\n",
      "\u001b[0;32m    867\u001b[0m     \u001b[38;5;28;01mexcept\u001b[39;00m (\u001b[38;5;167;01mKeyError\u001b[39;00m, \u001b[38;5;167;01mIndexError\u001b[39;00m):\n",
      "\u001b[0;32m    868\u001b[0m         message \u001b[38;5;241m=\u001b[39m \u001b[38;5;28mstr\u001b[39m(data)\n",
      "\u001b[1;32m--> 870\u001b[0m \u001b[38;5;28;01mraise\u001b[39;00m MPRestError(\n",
      "\u001b[0;32m    871\u001b[0m     \u001b[38;5;124mf\u001b[39m\u001b[38;5;124m\"\u001b[39m\u001b[38;5;124mREST query returned with error status code \u001b[39m\u001b[38;5;132;01m{\u001b[39;00mresponse\u001b[38;5;241m.\u001b[39mstatus_code\u001b[38;5;132;01m}\u001b[39;00m\u001b[38;5;124m \u001b[39m\u001b[38;5;124m\"\u001b[39m\n",
      "\u001b[0;32m    872\u001b[0m     \u001b[38;5;124mf\u001b[39m\u001b[38;5;124m\"\u001b[39m\u001b[38;5;124mon URL \u001b[39m\u001b[38;5;132;01m{\u001b[39;00mresponse\u001b[38;5;241m.\u001b[39murl\u001b[38;5;132;01m}\u001b[39;00m\u001b[38;5;124m with message:\u001b[39m\u001b[38;5;130;01m\\n\u001b[39;00m\u001b[38;5;132;01m{\u001b[39;00mmessage\u001b[38;5;132;01m}\u001b[39;00m\u001b[38;5;124m\"\u001b[39m\n",
      "\u001b[0;32m    873\u001b[0m )\n",
      "\n",
      "\u001b[1;31mMPRestError\u001b[0m: REST query returned with error status code 404 on URL https://api.materialsproject.org/materials/phonon/mp-2657/?_limit=1&_fields=ph_bs with message:\n",
      "Not Found\n"
     ]
    }
   ],
   "source": [
    "\n",
    "# Here you can insert the materials project ID\n",
    "material_id = \"mp-2657\"\n",
    "\n",
    "# This API key can be requested in the website: https://next-gen.materialsproject.org/api\n",
    "API_key     = \"A55hSVu7NuwvlISilTvVtw37IB5ES26w\"\n",
    "\n",
    "\n",
    "def plot_phonon_and_structure(material_id):\n",
    "    with MPRester(API_key) as mpr:\n",
    "        ph_bs = mpr.get_phonon_bandstructure_by_material_id(material_id)\n",
    "        ph_dos = mpr.get_phonon_dos_by_material_id(material_id)\n",
    "        structure = mpr.get_structure_by_material_id(material_id)\n",
    "\n",
    "    position = []\n",
    "    label = []\n",
    "    lines = []\n",
    "\n",
    "    for i in ph_bs.as_phononwebsite()[\"line_breaks\"]:\n",
    "        lines.append(i[0])\n",
    "\n",
    "    for i in ph_bs.as_phononwebsite()[\"highsym_qpts\"]:\n",
    "        position.append(i[0])\n",
    "        label.append(\"$\" + i[1] + \"$\")\n",
    "\n",
    "    print(structure)\n",
    "    cif_filename = f\"material_structure_{material_id}.cif\"  # Name of the output CIF file\n",
    "\n",
    "    cif_writer = CifWriter(structure)\n",
    "    cif_writer.write_file(cif_filename)\n",
    "    struct_file = nv.FileStructure(cif_filename)\n",
    "    \n",
    "    view = nv.show_file(struct_file)\n",
    "    view._remote_call(\"setSize\", args=[\"\", \"300px\"])\n",
    "    view.camera = \"orthographic\"\n",
    "    view.add_unitcell()\n",
    "    view\n",
    "    fig, ax = plt.subplots(ncols=2, nrows=1, figsize=(15, 7), gridspec_kw={'wspace': 0.2, 'hspace': 0, 'width_ratios': [2, 1]})\n",
    "    ax[0].plot(ph_bs.as_phononwebsite()[\"eigenvalues\"])\n",
    "    density_points = len(ph_dos.as_dict()[\"densities\"])\n",
    "    ax[0].set_ylim(0, (density_points))\n",
    "    ax[0].set_xlim(0, max(position))\n",
    "    # print(\"here : \", position, label)\n",
    "    ax[0].set_xticks(ticks= position, labels=label)\n",
    "    ax[0].set_ylabel(r\"Frequency [$cm^{-1}$]\")\n",
    "    ax[0].set_xlabel(r\"K  [$\\frac{2\\pi}{a}$]\")\n",
    "    ax[1].set_xlabel(r\"DOS\")\n",
    "    for i in lines:\n",
    "        ax[0].axvline(i - 1, c=\"black\")\n",
    "\n",
    "    ax[1].plot(ph_dos.as_dict()[\"densities\"], np.arange(density_points))\n",
    "    ax[1].set_ylim(0, (density_points))\n",
    "    ax[1].set_xlim(0)\n",
    "    return view\n",
    "plot_phonon_and_structure(material_id)\n",
    "    "
   ]
  },
  {
   "cell_type": "code",
   "execution_count": null,
   "id": "6eb8d95b-07c0-45cf-8b43-1d944c3b3a9c",
   "metadata": {},
   "outputs": [],
   "source": [
    "import numpy as np\n",
    "\n",
    "bands, qpoints, basis, vector = shape(ph_bs.eigendisplacements)\n",
    "# Sample eigenvectors and eigenvalues (replace with your actual data)\n",
    "\n",
    "eigenvectors = ph_bs.eigendisplacements\n",
    "eigenvalues  = ph_bs.bands\n",
    "qpoints_v = ph_bs.as_dict()[\"qpoints\"]\n",
    "\n",
    "\n",
    "\n",
    "# Constants (you might need to adjust these)\n",
    "proportionality_IR = 1.0\n",
    "proportionality_Raman = 1.0\n",
    "\n",
    "# Calculate IR intensities\n",
    "IR_intensities = np.zeros((bands, qpoints))\n",
    "for i in range(bands):\n",
    "    for q in range(qpoints):\n",
    "        for basis_dir in range(basis):\n",
    "            IR_intensities[i, q] += np.abs(np.dot(\n",
    "                eigenvectors[i, q, basis_dir],\n",
    "                qpoints_v[q])  # Replace with actual Cartesian direction vector\n",
    "            ) ** 2\n",
    "\n",
    "# Calculate Raman intensities\n",
    "Raman_intensities = np.zeros((bands, qpoints))\n",
    "for i in range(bands):\n",
    "    # for q in range(qpoints):\n",
    "    for basis_dir_alpha in range(basis):\n",
    "        for basis_dir_beta in range(basis):\n",
    "            Raman_intensities[i, 0] += np.abs(np.dot(\n",
    "                        eigenvectors[i, 0, basis_dir_alpha],\n",
    "                        eigenvectors[i, 0, basis_dir_beta]\n",
    "                    )) ** 2 * proportionality_Raman\n",
    "\n",
    "# Normalize intensities\n",
    "IR_intensities *= proportionality_IR\n",
    "Raman_intensities *= proportionality_Raman\n",
    "\n",
    "# Now you can plot the IR and Raman spectra using your preferred plotting library\n",
    "# (e.g., Matplotlib)\n",
    "# Plot Raman Spectrum\n",
    "plt.figure(figsize=(6, 6))\n",
    "frequencies=eigenvalues\n",
    "IR_total= list(zeros(len(frequencies[0])))\n",
    "Freq_total= list(zeros(len(frequencies[0])))\n",
    "for i in range(bands):\n",
    "    plt.scatter(frequencies[i]*33.356, Raman_intensities[i], label=f'Mode {i+1}')\n",
    "    IR_total+=list(Raman_intensities[i])\n",
    "    Freq_total+=list(frequencies[i]*33.356)\n",
    "\n",
    "\n",
    "\n",
    "Freq_0 = list(arange(0,2000,0.1))\n",
    "IR_0   = list(zeros(len(Freq_0)))\n",
    "\n",
    "Freq_total_s = Freq_0 + Freq_total\n",
    "IR_total_s   = IR_0 + IR_total\n",
    "all= []\n",
    "for i in range(len(IR_total_s)):\n",
    "    all.append(tuple((Freq_total_s[i],IR_total_s[i])))\n",
    "\n",
    "all.sort()\n",
    "x= []\n",
    "y= []\n",
    "for i in all:\n",
    "    x.append(round(i[0],1))\n",
    "    y.append(i[1])\n",
    "    \n",
    "xlabel(r\"$Frequency [cm^{-1}]$\")\n",
    "ylabel(r\"Intensity\")"
   ]
  },
  {
   "cell_type": "code",
   "execution_count": null,
   "id": "d46fef5d-5220-42b1-8059-8fe0c778dae8",
   "metadata": {},
   "outputs": [],
   "source": [
    "frequencies = x \n",
    "intensities = y \n",
    "\n",
    "\n",
    "# Crear un diccionario para realizar un seguimiento de las sumas de intensidades por frecuencia\n",
    "frequency_intensity_dict = {}\n",
    "\n",
    "\n",
    "for frequency, intensity in zip(frequencies, intensities):\n",
    "\n",
    "    if frequency in frequency_intensity_dict:\n",
    "        frequency_intensity_dict[frequency] += intensity\n",
    "    else:\n",
    "       \n",
    "        frequency_intensity_dict[frequency] = intensity\n",
    "\n",
    "result_frequencies = list(frequency_intensity_dict.keys())\n",
    "result_intensities = list(frequency_intensity_dict.values())\n",
    "\n",
    "plot(result_frequencies,result_intensities)\n",
    "xlabel(r\"$Frequency [cm^{-1}]$\")\n",
    "ylabel(r\"Intensity\")\n",
    "xlim(0,900)\n"
   ]
  },
  {
   "cell_type": "code",
   "execution_count": null,
   "id": "b2a811f6-f0cd-49b0-af95-c658899205cb",
   "metadata": {},
   "outputs": [],
   "source": [
    "from scipy.signal import argrelextrema\n",
    "def g(wavenumb_sweep, intensity_max, wavenumber_max, σ):\n",
    "    G = intensity_max / (σ *sqrt(2 * pi)) * exp(-(wavenumb_sweep-wavenumber_max)**2 / (2*σ**2))\n",
    "    new_y=array(G)  \n",
    "    return new_y\n",
    "result_frequencies = list(frequency_intensity_dict.keys())\n",
    "result_intensities = list(frequency_intensity_dict.values())      \n",
    "\n",
    "wavenumb   = result_frequencies\n",
    "max_int    = max(result_intensities)\n",
    "\n",
    "norm_int = []\n",
    "for i in result_intensities:\n",
    "    norm_int.append(i/max_int)\n",
    "\n",
    "### Gausian function to broaden peaks\n",
    "pos_max    = argrelextrema(array(norm_int), np.greater)\n",
    "x          = array(wavenumb)\n",
    "all_curve = 0\n",
    "σ = 20\n",
    "for i in pos_max[0]:\n",
    "    all_curve += g(x, norm_int[i], wavenumb[i],σ)      \n",
    "broad_int = all_curve   \n",
    "\n",
    "### Normalization\n",
    "\n",
    "max_y = max(broad_int)\n",
    "int_norm = []\n",
    "\n",
    "for i in broad_int:\n",
    "    int_norm.append((i/max_y))\n",
    "plot(wavenumb,int_norm)\n",
    "\n",
    "plot(result_frequencies,result_intensities)\n",
    "xlabel(r\"$Frequency [cm^{-1}]$\")\n",
    "ylabel(r\"Intensity\")\n",
    "xlim(0,900)\n"
   ]
  },
  {
   "cell_type": "code",
   "execution_count": null,
   "id": "8bf6c647-c5e0-48d0-a6f3-d9d336ea9cec",
   "metadata": {},
   "outputs": [],
   "source": []
  },
  {
   "cell_type": "markdown",
   "id": "0ed7b603-ac81-4f87-a4dc-aa75e6c15f15",
   "metadata": {},
   "source": [
    "## Comparison of experimental data and simulated Raman"
   ]
  },
  {
   "cell_type": "code",
   "execution_count": null,
   "id": "fdb0088e-9330-4f57-8f75-782f02b19103",
   "metadata": {},
   "outputs": [],
   "source": [
    "from txt_raman_reader import RRUFF_text"
   ]
  },
  {
   "cell_type": "code",
   "execution_count": null,
   "id": "f4707be7-8552-45d1-b580-3352bb208a09",
   "metadata": {},
   "outputs": [],
   "source": [
    "df=RRUFF_text(\"rutile_exp_dep.txt\")._read_file()\n",
    "plot(df[\"wavenumbers\"], df[\"intensities_normalized\"])\n",
    "plot(wavenumb,int_norm)\n",
    "\n",
    "xlabel(r\"$Frequency [cm^{-1}]$\")\n",
    "ylabel(r\"Intensity\")\n",
    "xlim(0,900)\n"
   ]
  },
  {
   "cell_type": "markdown",
   "id": "e6e02143-59b0-41f9-899b-819793d497db",
   "metadata": {},
   "source": [
    "# How Raman and IR are simulated in reality? "
   ]
  },
  {
   "cell_type": "markdown",
   "id": "0a1cc524-2b8d-4187-9eff-20dd957a5346",
   "metadata": {},
   "source": [
    "In simulations of Raman and IR spectra within the framework of density functional theory (DFT), the calculation of Raman and IR intensities involves the polarizability tensor and Born charge derivatives:\n",
    "\n",
    "**Polarizability Tensor:**\n",
    "\n",
    "The polarizability tensor is a key concept in the calculation of Raman and IR intensities. It characterizes how the electron cloud of a molecule or crystal responds to an external electric field. The polarizability tensor is usually represented as a 3x3 matrix in three-dimensional space. Each element of this matrix represents how the electron cloud responds to an electric field in a specific direction.\n",
    "\n",
    "In the context of Raman and IR spectroscopy:\n",
    "\n",
    "- IR Spectroscopy: In IR spectroscopy, the polarizability tensor is used to calculate the intensity of IR-active modes. When atoms in a material vibrate, they induce changes in the electron density, leading to changes in the dipole moment of the system. The polarizability tensor relates the atomic displacements to these changes in dipole moment, allowing you to determine which vibrational modes will be IR-active.\n",
    "\n",
    "- Raman Spectroscopy: In Raman spectroscopy, the polarizability tensor is used to calculate the intensity of Raman-active modes. Here, the change in the polarizability of the system due to atomic vibrations is what matters. The polarizability tensor relates the atomic displacements to changes in the polarizability, and this information helps determine which vibrational modes will be Raman-active.\n",
    "\n",
    "**Born Charge Derivatives:**\n",
    "\n",
    "The Born charge derivatives are another critical component in these simulations, especially when dealing with crystalline materials. The Born charge, denoted as *Z*, represents the effective charge of an atom in a crystal due to the interaction with the surrounding lattice. The Born charge derivatives refer to how this effective charge changes as the atomic positions vary.\n",
    "\n",
    "In the context of Raman and IR simulations:\n",
    "\n",
    "IR Spectroscopy: To calculate IR intensities in crystalline materials, you often need the derivatives of the Born charge with respect to atomic displacements. These derivatives, known as the \"Born effective charges\" help account for the response of atoms within the crystal to the vibrational modes. They are essential for determining the IR activity of vibrational modes in crystals.\n",
    "\n",
    "Raman Spectroscopy: Born charge derivatives are also important for Raman spectroscopy, particularly in the context of lattice dynamics. These derivatives describe how the polarizability changes with atomic displacements and are used to calculate Raman intensities, especially in crystalline materials.\n",
    "\n",
    "In summary, the polarizability tensor and Born charge derivatives play crucial roles in simulating Raman and IR spectra within the DFT framework, allowing you to predict which vibrational modes will be active and the intensities of these modes in the corresponding spectra. Understanding these quantities and their relationships to the atomic and electronic properties of the material is essential for accurate spectroscopic predictions."
   ]
  },
  {
   "cell_type": "code",
   "execution_count": null,
   "id": "772d38d3-4731-4def-8888-2e0f8ec728f3",
   "metadata": {},
   "outputs": [],
   "source": [
    "\n",
    "\n",
    "freq_dft = [1.129780207231549269e+02 , 1.129780207231552680e+02 ,1.749879864729470853e+02 ,1.749879864729474264e+02 ,3.611532269867757350e+02 ,4.793102600546089320e+02 ,4.957302896450344178e+02 ,6.001592985713667758e+02 ,6.001592985713667758e+02] \n",
    "int_dft = [1.000000000000000000e+00,9.999999999999938938e-01,2.939221091892205324e-03,2.939221091892158921e-03,1.494269659327405464e-01,1.890540997545240437e-02,1.019312927046264333e-01,1.445200115409593922e-01,1.445200115409594477e-01]\n",
    "\n",
    "def Gaus_norm( list_freq,list_int, sigma):\n",
    "    ### Gausian function to broaden peaks\n",
    "    int_dft_m      = list_int + list(zeros(len(wavenumb)))\n",
    "    x_dft          = list_freq + wavenumb\n",
    "    \n",
    "    all= []\n",
    "    for i in range(len(int_dft_m )):\n",
    "        all.append(tuple((x_dft[i],int_dft_m[i])))\n",
    "    \n",
    "    all.sort()\n",
    "    x= []\n",
    "    y= []\n",
    "    for i in all:\n",
    "        x.append(round(i[0],1))\n",
    "        y.append(i[1])\n",
    "    \n",
    "    frequencies = x\n",
    "    intensities = y\n",
    "    \n",
    "    # Crear un diccionario para realizar un seguimiento de las sumas de intensidades por frecuencia\n",
    "    frequency_intensity_dict = {}\n",
    "    \n",
    "    for frequency, intensity in zip(frequencies, intensities):\n",
    "    \n",
    "        if frequency in frequency_intensity_dict:\n",
    "            frequency_intensity_dict[frequency] += intensity\n",
    "        else:\n",
    "           \n",
    "            frequency_intensity_dict[frequency] = intensity\n",
    "    \n",
    "    result_frequencies_dft = list(frequency_intensity_dict.keys())\n",
    "    result_intensities_dft = list(frequency_intensity_dict.values())    \n",
    "    \n",
    "    \n",
    "    wavenumb_dft   = result_frequencies_dft\n",
    "    max_int    = max(result_intensities_dft)\n",
    "    \n",
    "    norm_int = []\n",
    "    for i in result_intensities_dft:\n",
    "        norm_int.append(i/max_int)\n",
    "    \n",
    "    ### Gausian function to broaden peaks\n",
    "    pos_max    = argrelextrema(array(norm_int), np.greater)\n",
    "    \n",
    "    x          = array(wavenumb)\n",
    "    \n",
    "    all_curve = 0\n",
    "    σ = sigma\n",
    "    for i in pos_max[0]:\n",
    "        all_curve += g(x, norm_int[i], wavenumb[i],σ)      \n",
    "    broad_int = all_curve   \n",
    "    \n",
    "    ### Normalization\n",
    "    \n",
    "    max_y = max(broad_int)\n",
    "    int_norm_dft = []\n",
    "    \n",
    "    for i in broad_int:\n",
    "        int_norm_dft.append((i/max_y))\n",
    "    return wavenumb, int_norm_dft, result_intensities_dft\n",
    "import json\n",
    " \n",
    "# Opening JSON file\n",
    "f = open('crd.json')\n",
    " \n",
    "# returns JSON object as\n",
    "# a dictionary\n",
    "data = json.load(f)\n"
   ]
  },
  {
   "cell_type": "code",
   "execution_count": null,
   "id": "6062107a-7214-4095-b728-ca60c95e5b69",
   "metadata": {},
   "outputs": [],
   "source": [
    "\n",
    "def intensity_raman(raman_tensor):\n",
    "    \"\"\" Average a Raman-activity tensor to obtain a scalar\n",
    "    intensity. \"\"\"\n",
    "\n",
    "    # This formula came from D. Porezag and M. R. Pederson, Phys. Rev.\n",
    "    # B: Condens. Matter Mater. Phys., 1996, 54, 7830.\n",
    "    \n",
    "        \n",
    "    if raman_tensor==None or raman_tensor==0:\n",
    "        return 0\n",
    "    else: \n",
    "\n",
    "        alpha = (\n",
    "            (raman_tensor[0][0] + raman_tensor[1][1] + raman_tensor[2][2])\n",
    "            / 3.0)\n",
    "    \n",
    "        beta_squared = 0.5 * (\n",
    "            (raman_tensor[0][0] - raman_tensor[1][1]) ** 2\n",
    "            + (raman_tensor[0][0] - raman_tensor[2][2]) ** 2\n",
    "            + (raman_tensor[1][1] - raman_tensor[2][2]) ** 2\n",
    "            + 6.0 * (raman_tensor[0][1] ** 2 + raman_tensor[0][2] ** 2 +\n",
    "                raman_tensor[1][2] ** 2)\n",
    "            )\n",
    "    \n",
    "        return (45.0 * alpha ** 2 + 7.0 * beta_squared)\n",
    "freq = data[\"4146\"][\"key_value_pairs\"][\"frequencies_cm\"]\n",
    "freq= freq.replace(\"[\", \" \")\n",
    "freq=freq.replace(\"]\", \" \")\n",
    "freq=freq.replace(\"\\n\", \" \")\n",
    "freq=freq.split()\n",
    "freqs_db = [float(i) for i  in freq ] \n",
    "ints_ram_t = []\n",
    "for i in data[\"4146\"][\"data\"][\"raman_tensors\"]:\n",
    "    ints_ram_t.append(intensity_raman(i))\n",
    "    \n",
    "int_db = data[\"4146\"][\"data\"][\"Ramanactive\"][\"__ndarray__\"][2]\n",
    "\n",
    "# freq_gn, int_gn, int_n = Gaus_norm(freqs_db,int_db,10)\n",
    "# plot(freq_gn, int_n, label= \"DFT-DB-1\")\n",
    "\n",
    "freq_gn, int_gn, int_n = Gaus_norm(freqs_db,ints_ram_t,10)\n",
    "plot(freq_gn, int_gn, label= \"DFT-DB\")\n",
    "plot(df[\"wavenumbers\"], df[\"intensities_normalized\"])\n",
    "xlabel(r\"$Frequency [cm^{-1}]$\")\n",
    "ylabel(r\"Intensity\")\n",
    "xlim(0,900)\n",
    "\n",
    "\n",
    "# wavenumb, int_norm_dft, result_intensities_dft = Gaus_norm( freq_dft, int_dft, 10)"
   ]
  },
  {
   "cell_type": "markdown",
   "id": "bd036645-9be3-4c69-b01f-748d74a8e320",
   "metadata": {},
   "source": [
    "# Research at EPFL "
   ]
  },
  {
   "cell_type": "code",
   "execution_count": null,
   "id": "970da4d8-faec-4b77-85de-0ff41b7a65a1",
   "metadata": {},
   "outputs": [],
   "source": [
    "df_a=RRUFF_text(\"anastase_532_exp.txt\")._read_file()\n",
    "\n",
    "freq_dft = [1.129780207231549269e+02 , 1.129780207231552680e+02 ,1.749879864729470853e+02 ,1.749879864729474264e+02 ,3.611532269867757350e+02 ,4.793102600546089320e+02 ,4.957302896450344178e+02 ,6.001592985713667758e+02 ,6.001592985713667758e+02] \n",
    "int_dft = [1.000000000000000000e+00,9.999999999999938938e-01,2.939221091892205324e-03,2.939221091892158921e-03,1.494269659327405464e-01,1.890540997545240437e-02,1.019312927046264333e-01,1.445200115409593922e-01,1.445200115409594477e-01]\n",
    "freq_dft, int_dft, a = Gaus_norm(freq_dft,int_dft,20)\n",
    "plot(freq_dft,int_dft)\n",
    "plot(df_a[\"wavenumbers\"],df_a[\"intensities_normalized\"])\n",
    "\n",
    "xlabel(r\"$Frequency [cm^{-1}]$\")\n",
    "ylabel(r\"Intensity\")\n",
    "xlim(0,900)\n"
   ]
  },
  {
   "cell_type": "code",
   "execution_count": null,
   "id": "d911d127-1210-4881-a1dd-f1b6aedec88d",
   "metadata": {},
   "outputs": [],
   "source": []
  }
 ],
 "metadata": {
  "kernelspec": {
   "display_name": "Python 3 (ipykernel)",
   "language": "python",
   "name": "python3"
  },
  "language_info": {
   "codemirror_mode": {
    "name": "ipython",
    "version": 3
   },
   "file_extension": ".py",
   "mimetype": "text/x-python",
   "name": "python",
   "nbconvert_exporter": "python",
   "pygments_lexer": "ipython3",
   "version": "3.11.3"
  }
 },
 "nbformat": 4,
 "nbformat_minor": 5
}
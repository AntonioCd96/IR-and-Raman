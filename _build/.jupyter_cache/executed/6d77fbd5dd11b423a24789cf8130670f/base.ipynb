{
 "cells": [
  {
   "cell_type": "code",
   "execution_count": 1,
   "id": "5b879b94-76a2-4f58-9ca6-07750fc9191e",
   "metadata": {},
   "outputs": [],
   "source": [
    "import subprocess\n",
    "import requests\n",
    "import json\n",
    "\n",
    "\n",
    "def xTB_data(smiles,method):\n",
    "    smiles_xTB = smiles.replace(\"#\",\"%23\")\n",
    "    r          = requests.get('https://ir.cheminfo.org/v1/ir?smiles={0}&method={1}'.format(smiles_xTB, method))\n",
    "    data_bytes = r.content\n",
    "    data_dic   = json.loads(data_bytes.decode('utf-8'))\n",
    "    return data_dic"
   ]
  },
  {
   "cell_type": "code",
   "execution_count": 2,
   "id": "6385af68-d483-4ac4-93b5-6b4e3dfb8050",
   "metadata": {},
   "outputs": [],
   "source": [
    "\n",
    "smiles = \"O=C=O\"\n",
    "method = \"GFN2xTB\"\n",
    "\n",
    "data = xTB_data(smiles,method)"
   ]
  },
  {
   "cell_type": "code",
   "execution_count": 3,
   "id": "946f0c91-73be-4e80-9acb-a8d338b5227a",
   "metadata": {},
   "outputs": [
    {
     "data": {
      "text/plain": [
       "dict_keys(['wavenumbers', 'intensities', 'ramanIntensities', 'zeroPointEnergy', 'modes', 'mostRelevantModesOfAtoms', 'mostRelevantModesOfBonds', 'hasImaginaryFrequency', 'isLinear', 'momentsOfInertia', 'hasLargeImaginaryFrequency'])"
      ]
     },
     "execution_count": 3,
     "metadata": {},
     "output_type": "execute_result"
    }
   ],
   "source": [
    "data.keys()"
   ]
  },
  {
   "cell_type": "code",
   "execution_count": 4,
   "id": "8cedc60e-27af-4858-a233-19be3f5365c3",
   "metadata": {},
   "outputs": [
    {
     "name": "stdout",
     "output_type": "stream",
     "text": [
      "Requirement already satisfied: xtb in /home/cd96/psi4conda/envs/jbook/lib/python3.11/site-packages (22.1)\r\n",
      "Requirement already satisfied: cffi in /home/cd96/psi4conda/envs/jbook/lib/python3.11/site-packages (from xtb) (1.15.1)\r\n",
      "Requirement already satisfied: numpy in /home/cd96/psi4conda/envs/jbook/lib/python3.11/site-packages (from xtb) (1.25.2)\r\n",
      "Requirement already satisfied: pycparser in /home/cd96/psi4conda/envs/jbook/lib/python3.11/site-packages (from cffi->xtb) (2.21)\r\n"
     ]
    },
    {
     "name": "stdout",
     "output_type": "stream",
     "text": [
      "Note: you may need to restart the kernel to use updated packages.\n"
     ]
    }
   ],
   "source": [
    "pip install xtb"
   ]
  },
  {
   "cell_type": "code",
   "execution_count": null,
   "id": "23efd2b8-a905-4982-ae35-382d0914c14e",
   "metadata": {},
   "outputs": [],
   "source": []
  }
 ],
 "metadata": {
  "kernelspec": {
   "display_name": "Python 3 (ipykernel)",
   "language": "python",
   "name": "python3"
  },
  "language_info": {
   "codemirror_mode": {
    "name": "ipython",
    "version": 3
   },
   "file_extension": ".py",
   "mimetype": "text/x-python",
   "name": "python",
   "nbconvert_exporter": "python",
   "pygments_lexer": "ipython3",
   "version": "3.11.3"
  }
 },
 "nbformat": 4,
 "nbformat_minor": 5
}
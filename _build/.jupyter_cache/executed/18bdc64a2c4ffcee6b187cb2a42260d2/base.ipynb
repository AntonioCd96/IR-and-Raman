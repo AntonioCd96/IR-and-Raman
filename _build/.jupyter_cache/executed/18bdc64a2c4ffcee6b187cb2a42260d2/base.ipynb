{
 "cells": [
  {
   "cell_type": "code",
   "execution_count": 1,
   "id": "fe1f15fc-04e7-4953-a6a0-bda241c87c70",
   "metadata": {},
   "outputs": [
    {
     "name": "stdout",
     "output_type": "stream",
     "text": [
      "Standard Output:\n",
      "########################################################################\n",
      "[ERROR] Program stopped due to fatal error\n",
      "-2- Command line argument parsing failed\n",
      "-1- prog_main: No input file given, so there is nothing to do\n",
      "########################################################################\n",
      "\n",
      "\n",
      "Standard Error:\n",
      "abnormal termination of xtb\n",
      "ERROR STOP \n",
      "\n",
      "Error termination. Backtrace:\n",
      "\n",
      "Could not print backtrace: unrecognized DWARF version in .debug_info at 6\n",
      "\n",
      "Could not print backtrace: unrecognized DWARF version in .debug_info at 6\n",
      "\n",
      "Could not print backtrace: unrecognized DWARF version in .debug_info at 6\n",
      "#0  0x55c2f5322fa7 in ???\n",
      "#1  0x55c2f52c8e09 in ???\n",
      "#2  0x55c2f52c5035 in ???\n",
      "#3  0x7f15f4be40b2 in ???\n",
      "#4  0x55c2f52c50b0 in ???\n",
      "\n"
     ]
    }
   ],
   "source": [
    "import subprocess\n",
    "\n",
    "command = \"/home/cd96/psi4conda/bin/xtb  CO2-v1.xyz --hess --uhf 1\"\n",
    "result = subprocess.run(command, shell=True, stdout=subprocess.PIPE, stderr=subprocess.PIPE, text=True)\n",
    "\n",
    "print(\"Standard Output:\")\n",
    "print(result.stdout)\n",
    "\n",
    "print(\"\\nStandard Error:\")\n",
    "print(result.stderr)"
   ]
  },
  {
   "cell_type": "code",
   "execution_count": 2,
   "id": "d864a604-2dc7-4a0d-95fc-0cd215915304",
   "metadata": {},
   "outputs": [
    {
     "name": "stdout",
     "output_type": "stream",
     "text": [
      "/bin/bash: xtb: command not found\r\n"
     ]
    }
   ],
   "source": [
    "!xtb CO2-v1.xyz --hess --uhf 1 --gfn 0"
   ]
  },
  {
   "cell_type": "code",
   "execution_count": 3,
   "id": "0d0dbb68-859d-44c8-8ae9-e23b8a17a1a9",
   "metadata": {},
   "outputs": [
    {
     "name": "stdout",
     "output_type": "stream",
     "text": [
      "Requirement already satisfied: meson in /home/cd96/psi4conda/envs/jbook/lib/python3.11/site-packages (1.3.2)\r\n"
     ]
    },
    {
     "name": "stdout",
     "output_type": "stream",
     "text": [
      "Note: you may need to restart the kernel to use updated packages.\n"
     ]
    }
   ],
   "source": [
    "pip install meson"
   ]
  },
  {
   "cell_type": "code",
   "execution_count": 4,
   "id": "07e17793-0115-4ddb-b3dd-b00d8fb74ecf",
   "metadata": {},
   "outputs": [
    {
     "name": "stdout",
     "output_type": "stream",
     "text": [
      "/bin/bash: xtb: command not found\r\n"
     ]
    }
   ],
   "source": [
    "!xtb min.xyz --hess --uhf 1\n"
   ]
  },
  {
   "cell_type": "code",
   "execution_count": null,
   "id": "2b3d27a9-6f90-4d5d-9a94-8d3aa5a00c68",
   "metadata": {},
   "outputs": [],
   "source": []
  }
 ],
 "metadata": {
  "kernelspec": {
   "display_name": "Python 3 (ipykernel)",
   "language": "python",
   "name": "python3"
  },
  "language_info": {
   "codemirror_mode": {
    "name": "ipython",
    "version": 3
   },
   "file_extension": ".py",
   "mimetype": "text/x-python",
   "name": "python",
   "nbconvert_exporter": "python",
   "pygments_lexer": "ipython3",
   "version": "3.11.3"
  }
 },
 "nbformat": 4,
 "nbformat_minor": 5
}
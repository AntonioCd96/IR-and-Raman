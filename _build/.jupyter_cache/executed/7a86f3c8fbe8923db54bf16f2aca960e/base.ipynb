{
 "cells": [
  {
   "cell_type": "code",
   "execution_count": 1,
   "id": "b9384648",
   "metadata": {},
   "outputs": [],
   "source": [
    "# 3) You can comment using hashtag "
   ]
  },
  {
   "cell_type": "code",
   "execution_count": null,
   "id": "79962d16",
   "metadata": {},
   "outputs": [],
   "source": []
  },
  {
   "cell_type": "code",
   "execution_count": 2,
   "id": "97ff109f",
   "metadata": {},
   "outputs": [
    {
     "data": {
      "text/plain": [
       "4"
      ]
     },
     "execution_count": 2,
     "metadata": {},
     "output_type": "execute_result"
    }
   ],
   "source": [
    "2+2 # Sum"
   ]
  },
  {
   "cell_type": "code",
   "execution_count": 3,
   "id": "3b5acd2e",
   "metadata": {},
   "outputs": [
    {
     "data": {
      "text/plain": [
       "0"
      ]
     },
     "execution_count": 3,
     "metadata": {},
     "output_type": "execute_result"
    }
   ],
   "source": [
    "2-2 # Take away"
   ]
  },
  {
   "cell_type": "code",
   "execution_count": 4,
   "id": "430119f0",
   "metadata": {},
   "outputs": [
    {
     "data": {
      "text/plain": [
       "8"
      ]
     },
     "execution_count": 4,
     "metadata": {},
     "output_type": "execute_result"
    }
   ],
   "source": [
    "4*2 # Multiplication"
   ]
  },
  {
   "cell_type": "code",
   "execution_count": 5,
   "id": "6ab7c545",
   "metadata": {},
   "outputs": [
    {
     "data": {
      "text/plain": [
       "0.5"
      ]
     },
     "execution_count": 5,
     "metadata": {},
     "output_type": "execute_result"
    }
   ],
   "source": [
    "1/2 # Division"
   ]
  },
  {
   "cell_type": "code",
   "execution_count": 6,
   "id": "c948a3d7",
   "metadata": {},
   "outputs": [
    {
     "data": {
      "text/plain": [
       "2.0"
      ]
     },
     "execution_count": 6,
     "metadata": {},
     "output_type": "execute_result"
    }
   ],
   "source": [
    "4*2/4 # Operations are executed in order"
   ]
  },
  {
   "cell_type": "code",
   "execution_count": 7,
   "id": "ec804321",
   "metadata": {},
   "outputs": [
    {
     "data": {
      "text/plain": [
       "2.5"
      ]
     },
     "execution_count": 7,
     "metadata": {},
     "output_type": "execute_result"
    }
   ],
   "source": [
    "2+1/2 # Operations are executed in order"
   ]
  },
  {
   "cell_type": "code",
   "execution_count": 8,
   "id": "56ce0be7",
   "metadata": {},
   "outputs": [
    {
     "data": {
      "text/plain": [
       "4"
      ]
     },
     "execution_count": 8,
     "metadata": {},
     "output_type": "execute_result"
    }
   ],
   "source": [
    "2**2 # Powers"
   ]
  },
  {
   "cell_type": "code",
   "execution_count": 9,
   "id": "0954f00b",
   "metadata": {},
   "outputs": [
    {
     "data": {
      "text/plain": [
       "65536"
      ]
     },
     "execution_count": 9,
     "metadata": {},
     "output_type": "execute_result"
    }
   ],
   "source": [
    "2**2**2**2 # more powers"
   ]
  },
  {
   "cell_type": "code",
   "execution_count": 10,
   "id": "abb0fd64",
   "metadata": {},
   "outputs": [
    {
     "data": {
      "text/plain": [
       "65536"
      ]
     },
     "execution_count": 10,
     "metadata": {},
     "output_type": "execute_result"
    }
   ],
   "source": [
    "2**16 # more powers"
   ]
  },
  {
   "cell_type": "code",
   "execution_count": 11,
   "id": "e399093b",
   "metadata": {},
   "outputs": [
    {
     "data": {
      "text/plain": [
       "(1+1j)"
      ]
     },
     "execution_count": 11,
     "metadata": {},
     "output_type": "execute_result"
    }
   ],
   "source": [
    "1+1J # complex numbers"
   ]
  },
  {
   "cell_type": "code",
   "execution_count": 12,
   "id": "f3b4e5a3",
   "metadata": {},
   "outputs": [
    {
     "data": {
      "text/plain": [
       "(-1+0j)"
      ]
     },
     "execution_count": 12,
     "metadata": {},
     "output_type": "execute_result"
    }
   ],
   "source": [
    "1J*1J # i*i = (√i)(√i)"
   ]
  },
  {
   "cell_type": "code",
   "execution_count": 13,
   "id": "f3926e9a",
   "metadata": {},
   "outputs": [
    {
     "data": {
      "text/plain": [
       "int"
      ]
     },
     "execution_count": 13,
     "metadata": {},
     "output_type": "execute_result"
    }
   ],
   "source": [
    "type(1)"
   ]
  },
  {
   "cell_type": "code",
   "execution_count": 14,
   "id": "744c8f16",
   "metadata": {},
   "outputs": [
    {
     "data": {
      "text/plain": [
       "float"
      ]
     },
     "execution_count": 14,
     "metadata": {},
     "output_type": "execute_result"
    }
   ],
   "source": [
    "type(1.1)"
   ]
  },
  {
   "cell_type": "code",
   "execution_count": 15,
   "id": "a12623d0",
   "metadata": {},
   "outputs": [
    {
     "data": {
      "text/plain": [
       "complex"
      ]
     },
     "execution_count": 15,
     "metadata": {},
     "output_type": "execute_result"
    }
   ],
   "source": [
    "type(1+1J)"
   ]
  },
  {
   "cell_type": "code",
   "execution_count": 16,
   "id": "15685493",
   "metadata": {},
   "outputs": [],
   "source": [
    "type?"
   ]
  },
  {
   "cell_type": "code",
   "execution_count": null,
   "id": "5940bddf",
   "metadata": {},
   "outputs": [],
   "source": []
  },
  {
   "cell_type": "code",
   "execution_count": null,
   "id": "3e18d3c6",
   "metadata": {},
   "outputs": [],
   "source": []
  },
  {
   "cell_type": "code",
   "execution_count": 17,
   "id": "7e649e4f",
   "metadata": {},
   "outputs": [],
   "source": [
    "a = 3 # int (integer)"
   ]
  },
  {
   "cell_type": "code",
   "execution_count": 18,
   "id": "0bd73360",
   "metadata": {},
   "outputs": [
    {
     "data": {
      "text/plain": [
       "int"
      ]
     },
     "execution_count": 18,
     "metadata": {},
     "output_type": "execute_result"
    }
   ],
   "source": [
    "type(a)"
   ]
  },
  {
   "cell_type": "code",
   "execution_count": 19,
   "id": "f2a1c0a8",
   "metadata": {},
   "outputs": [],
   "source": [
    "b = 17.5 # float"
   ]
  },
  {
   "cell_type": "code",
   "execution_count": 20,
   "id": "947a7f98",
   "metadata": {},
   "outputs": [],
   "source": [
    "c = 1+3J # complex"
   ]
  },
  {
   "cell_type": "code",
   "execution_count": 21,
   "id": "63182271",
   "metadata": {},
   "outputs": [
    {
     "name": "stdout",
     "output_type": "stream",
     "text": [
      "20.5\n"
     ]
    }
   ],
   "source": [
    "print(a+b)"
   ]
  },
  {
   "cell_type": "code",
   "execution_count": 22,
   "id": "e7f62c99",
   "metadata": {},
   "outputs": [
    {
     "data": {
      "text/plain": [
       "float"
      ]
     },
     "execution_count": 22,
     "metadata": {},
     "output_type": "execute_result"
    }
   ],
   "source": [
    "type(a+b)"
   ]
  },
  {
   "cell_type": "code",
   "execution_count": 23,
   "id": "da78639d",
   "metadata": {},
   "outputs": [
    {
     "name": "stdout",
     "output_type": "stream",
     "text": [
      "0.3333333333333333\n"
     ]
    }
   ],
   "source": [
    "print (\"{0}\".format(1/3))"
   ]
  },
  {
   "cell_type": "code",
   "execution_count": 24,
   "id": "829eaf85",
   "metadata": {},
   "outputs": [
    {
     "name": "stdout",
     "output_type": "stream",
     "text": [
      "0.333\n"
     ]
    }
   ],
   "source": [
    "print (\"{0:.3f}\".format(1/3))"
   ]
  },
  {
   "cell_type": "code",
   "execution_count": 25,
   "id": "05ddc8ad",
   "metadata": {},
   "outputs": [],
   "source": [
    "a = 3 "
   ]
  },
  {
   "cell_type": "code",
   "execution_count": 26,
   "id": "9f17ad2a",
   "metadata": {},
   "outputs": [],
   "source": [
    "a = -5.5"
   ]
  },
  {
   "cell_type": "code",
   "execution_count": 27,
   "id": "6dfe0e4a",
   "metadata": {},
   "outputs": [
    {
     "name": "stdout",
     "output_type": "stream",
     "text": [
      "-5.5\n"
     ]
    }
   ],
   "source": [
    "print (a)"
   ]
  },
  {
   "cell_type": "code",
   "execution_count": 28,
   "id": "95facad9",
   "metadata": {},
   "outputs": [],
   "source": [
    "# Greek variables\n",
    "π = 3.141592"
   ]
  },
  {
   "cell_type": "code",
   "execution_count": 29,
   "id": "17711867",
   "metadata": {},
   "outputs": [
    {
     "name": "stdout",
     "output_type": "stream",
     "text": [
      "3.141592\n"
     ]
    }
   ],
   "source": [
    "print (π)"
   ]
  },
  {
   "cell_type": "code",
   "execution_count": null,
   "id": "775d86ca",
   "metadata": {},
   "outputs": [],
   "source": []
  },
  {
   "cell_type": "code",
   "execution_count": 30,
   "id": "5f3c2d95",
   "metadata": {},
   "outputs": [],
   "source": [
    "l = [3 ,4, 6]"
   ]
  },
  {
   "cell_type": "code",
   "execution_count": 31,
   "id": "4281bf81",
   "metadata": {},
   "outputs": [],
   "source": [
    "l = [3.5, -1, \"hola\", [1.0,2.0], 1+1J]"
   ]
  },
  {
   "cell_type": "code",
   "execution_count": 32,
   "id": "1a2a8f9d",
   "metadata": {},
   "outputs": [
    {
     "name": "stdout",
     "output_type": "stream",
     "text": [
      "[3.5, -1, 'hola', [1.0, 2.0], (1+1j)]\n"
     ]
    }
   ],
   "source": [
    "print (l)"
   ]
  },
  {
   "cell_type": "code",
   "execution_count": 33,
   "id": "50d3b26b",
   "metadata": {},
   "outputs": [
    {
     "name": "stdout",
     "output_type": "stream",
     "text": [
      "1\n"
     ]
    }
   ],
   "source": [
    "l = [1, 2, 3]\n",
    "print (l[0])"
   ]
  },
  {
   "cell_type": "code",
   "execution_count": 34,
   "id": "a4b3eb62",
   "metadata": {},
   "outputs": [
    {
     "name": "stdout",
     "output_type": "stream",
     "text": [
      "1 2\n"
     ]
    }
   ],
   "source": [
    "print (l[0], l[1])"
   ]
  },
  {
   "cell_type": "code",
   "execution_count": 35,
   "id": "91236505",
   "metadata": {},
   "outputs": [],
   "source": [
    "l[0] = 5"
   ]
  },
  {
   "cell_type": "code",
   "execution_count": 36,
   "id": "1df3acc2",
   "metadata": {},
   "outputs": [
    {
     "data": {
      "text/plain": [
       "[5, 2, 3]"
      ]
     },
     "execution_count": 36,
     "metadata": {},
     "output_type": "execute_result"
    }
   ],
   "source": [
    "l"
   ]
  },
  {
   "cell_type": "code",
   "execution_count": 37,
   "id": "e5b830fa",
   "metadata": {},
   "outputs": [],
   "source": [
    "l = [1, 2, 3, 6, 7]"
   ]
  },
  {
   "cell_type": "code",
   "execution_count": 38,
   "id": "a1f2a4db",
   "metadata": {},
   "outputs": [
    {
     "data": {
      "text/plain": [
       "[2, 3]"
      ]
     },
     "execution_count": 38,
     "metadata": {},
     "output_type": "execute_result"
    }
   ],
   "source": [
    "l[1:3]"
   ]
  },
  {
   "cell_type": "code",
   "execution_count": 39,
   "id": "d09efe33",
   "metadata": {},
   "outputs": [
    {
     "data": {
      "text/plain": [
       "[1, 2, 3]"
      ]
     },
     "execution_count": 39,
     "metadata": {},
     "output_type": "execute_result"
    }
   ],
   "source": [
    "l[:3]"
   ]
  },
  {
   "cell_type": "code",
   "execution_count": 40,
   "id": "173c3bcb",
   "metadata": {},
   "outputs": [
    {
     "data": {
      "text/plain": [
       "[6, 7]"
      ]
     },
     "execution_count": 40,
     "metadata": {},
     "output_type": "execute_result"
    }
   ],
   "source": [
    "l[3:]"
   ]
  },
  {
   "cell_type": "code",
   "execution_count": 41,
   "id": "c27b30a0",
   "metadata": {},
   "outputs": [
    {
     "data": {
      "text/plain": [
       "5"
      ]
     },
     "execution_count": 41,
     "metadata": {},
     "output_type": "execute_result"
    }
   ],
   "source": [
    "len(l)"
   ]
  },
  {
   "cell_type": "code",
   "execution_count": 42,
   "id": "9182db61",
   "metadata": {},
   "outputs": [],
   "source": [
    "l.append(17)\n",
    "l.append(3)"
   ]
  },
  {
   "cell_type": "code",
   "execution_count": 43,
   "id": "fd660320",
   "metadata": {},
   "outputs": [
    {
     "name": "stdout",
     "output_type": "stream",
     "text": [
      "[1, 2, 3, 6, 7, 17, 3] 7\n"
     ]
    }
   ],
   "source": [
    "print (l,len(l))"
   ]
  },
  {
   "cell_type": "code",
   "execution_count": 44,
   "id": "e5ecfaf4",
   "metadata": {},
   "outputs": [
    {
     "name": "stdout",
     "output_type": "stream",
     "text": [
      "The value is smaller than  10.\n"
     ]
    }
   ],
   "source": [
    "a=10\n",
    "if(a>10):\n",
    "    print(\"The value is greater than 10.\")\n",
    "else :\n",
    "    print(\"The value is smaller than  10.\")"
   ]
  },
  {
   "cell_type": "code",
   "execution_count": 45,
   "id": "c6cac238",
   "metadata": {},
   "outputs": [
    {
     "name": "stdout",
     "output_type": "stream",
     "text": [
      "x is False or y ir False or  x as well as y are False\n",
      "\n",
      "x is True or y is True or x as well as y are True\n"
     ]
    }
   ],
   "source": [
    "x = False\n",
    "y = True\n",
    "\n",
    "if x and y:\n",
    "    print(' x as well as y are True')\n",
    "else:\n",
    "    print('x is False or y ir False or  x as well as y are False')\n",
    "print ()\n",
    "if x or y:\n",
    "    print('x is True or y is True or x as well as y are True')\n",
    "else:\n",
    "    print(' x as well as  y are False')"
   ]
  },
  {
   "cell_type": "code",
   "execution_count": 46,
   "id": "46038fc0",
   "metadata": {},
   "outputs": [],
   "source": [
    "colors = [\"Red\", \"Blue\", \"Green\", \"Black\"]"
   ]
  },
  {
   "cell_type": "code",
   "execution_count": 47,
   "id": "25b70808",
   "metadata": {},
   "outputs": [
    {
     "name": "stdout",
     "output_type": "stream",
     "text": [
      "Red\n",
      "Blue\n",
      "Green\n",
      "Black\n"
     ]
    }
   ],
   "source": [
    "for c in colors:\n",
    "    print (c)"
   ]
  },
  {
   "cell_type": "code",
   "execution_count": 48,
   "id": "31842afc",
   "metadata": {},
   "outputs": [
    {
     "data": {
      "text/plain": [
       "range(0, 4)"
      ]
     },
     "execution_count": 48,
     "metadata": {},
     "output_type": "execute_result"
    }
   ],
   "source": [
    "range(4)"
   ]
  },
  {
   "cell_type": "code",
   "execution_count": 49,
   "id": "dcf7b67b",
   "metadata": {},
   "outputs": [
    {
     "name": "stdout",
     "output_type": "stream",
     "text": [
      "0\n",
      "1\n",
      "2\n",
      "3\n"
     ]
    }
   ],
   "source": [
    "for a in range(4):\n",
    "    print (a)"
   ]
  },
  {
   "cell_type": "code",
   "execution_count": 50,
   "id": "b07ed5c4",
   "metadata": {},
   "outputs": [
    {
     "name": "stdout",
     "output_type": "stream",
     "text": [
      "2\n",
      "3\n",
      "4\n",
      "5\n",
      "6\n"
     ]
    }
   ],
   "source": [
    "for a in range(2,7):\n",
    "    print(a)"
   ]
  },
  {
   "cell_type": "code",
   "execution_count": 51,
   "id": "582e8b24",
   "metadata": {},
   "outputs": [
    {
     "name": "stdout",
     "output_type": "stream",
     "text": [
      "2\n",
      "7\n",
      "12\n",
      "17\n"
     ]
    }
   ],
   "source": [
    "for a in range(2,19,5):\n",
    "    print(a)"
   ]
  },
  {
   "cell_type": "code",
   "execution_count": null,
   "id": "8f019d8a",
   "metadata": {},
   "outputs": [],
   "source": []
  },
  {
   "cell_type": "code",
   "execution_count": null,
   "id": "e7a9a6c7",
   "metadata": {},
   "outputs": [],
   "source": []
  },
  {
   "cell_type": "code",
   "execution_count": 52,
   "id": "4828e30a",
   "metadata": {},
   "outputs": [
    {
     "name": "stdout",
     "output_type": "stream",
     "text": [
      "1\n",
      "2\n",
      "3\n",
      "4\n",
      "5\n",
      "6\n",
      "7\n",
      "8\n",
      "9\n",
      "10\n"
     ]
    }
   ],
   "source": [
    "i = 0\n",
    "while i<10:\n",
    "    i += 1\n",
    "    print (i)"
   ]
  },
  {
   "cell_type": "code",
   "execution_count": 53,
   "id": "5ecd0946",
   "metadata": {},
   "outputs": [
    {
     "name": "stdout",
     "output_type": "stream",
     "text": [
      "1\n",
      "2\n",
      "3\n",
      "4\n",
      "5\n",
      "6\n",
      "7\n",
      "8\n",
      "9\n",
      "10\n"
     ]
    }
   ],
   "source": [
    "i = 0\n",
    "while i<10:\n",
    "    i +=1\n",
    "    print (i)"
   ]
  },
  {
   "cell_type": "code",
   "execution_count": null,
   "id": "eda3e0f9",
   "metadata": {},
   "outputs": [],
   "source": []
  },
  {
   "cell_type": "code",
   "execution_count": null,
   "id": "d24278e7",
   "metadata": {},
   "outputs": [],
   "source": []
  }
 ],
 "metadata": {
  "kernelspec": {
   "display_name": "Python 3",
   "language": "python",
   "name": "python3"
  },
  "language_info": {
   "codemirror_mode": {
    "name": "ipython",
    "version": 3
   },
   "file_extension": ".py",
   "mimetype": "text/x-python",
   "name": "python",
   "nbconvert_exporter": "python",
   "pygments_lexer": "ipython3",
   "version": "3.11.3"
  }
 },
 "nbformat": 4,
 "nbformat_minor": 5
}
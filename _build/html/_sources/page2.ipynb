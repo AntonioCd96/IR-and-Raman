{
 "cells": [
  {
   "attachments": {},
   "cell_type": "markdown",
   "id": "69bac28e",
   "metadata": {},
   "source": [
    "# Calculate your own IR and Raman Spectra\n",
    "\n",
    "The following code is aimed to help you to obtain theoretical spectra of IR and Raman using the web service: xTB [https://ir.cheminfo.org/api/v1/docs#/default/get_ir_spectrum_ir_get]. As you will see, it uses three different theoretical methods GFN2xTB, GFN1xTB and GFNFF.The way you can use the following code is by executing th following cells. BEfore starting make sure you have the SMILES code of the molecule you are going to simulate. \n",
    "\n",
    "If you do not have the smiles code, you can draw your molecule in the following page to obtain it:[https://www.cheminfo.org/flavor/malaria/Utilities/SMILES_generator___checker/index.html]"
   ]
  },
  {
   "cell_type": "code",
   "execution_count": 1,
   "id": "09087fcb",
   "metadata": {},
   "outputs": [
    {
     "name": "stdout",
     "output_type": "stream",
     "text": [
      "Requirement already satisfied: rdkit in c:\\users\\roste\\anaconda3\\lib\\site-packages (2022.9.5)\n",
      "Requirement already satisfied: numpy in c:\\users\\roste\\anaconda3\\lib\\site-packages (from rdkit) (1.23.5)\n",
      "Requirement already satisfied: Pillow in c:\\users\\roste\\anaconda3\\lib\\site-packages (from rdkit) (8.2.0)\n",
      "Note: you may need to restart the kernel to use updated packages.\n"
     ]
    }
   ],
   "source": [
    "pip install rdkit;"
   ]
  },
  {
   "cell_type": "code",
   "execution_count": 1,
   "id": "71946a14",
   "metadata": {
    "tags": [
     "hide-input"
    ]
   },
   "outputs": [],
   "source": [
    "import requests\n",
    "import json\n",
    "from ast import literal_eval\n",
    "from pylab import *\n",
    "from scipy.signal import argrelextrema\n",
    "import pandas as pd\n",
    "import glob\n",
    "\n",
    "from rdkit import Chem\n",
    "from rdkit.Chem.Draw import IPythonConsole\n",
    "from rdkit.Chem import Draw\n",
    "IPythonConsole.ipython_useSVG=True "
   ]
  },
  {
   "cell_type": "code",
   "execution_count": 2,
   "id": "39cdd6d8",
   "metadata": {
    "tags": [
     "hide-input"
    ]
   },
   "outputs": [],
   "source": [
    "def LoadData(File):\n",
    "    File_open=open(File)\n",
    "    File_loaded = json.load(File_open)\n",
    "    Dic = {\"File\": File,\n",
    "           \"wavenumbers\"   : File_loaded[\"@graph\"]['scidata']['dataset']['datagroup']['dataseries'][0]['parameter']['valuearray']['numberarray'],\n",
    "           \"intensities\"  : array(File_loaded[\"@graph\"]['scidata']['dataset']['datagroup']['dataseries'][1]['parameter']['valuearray']['numberarray'])/100\n",
    "           }\n",
    "    return Dic\n",
    "\n",
    "wavenumbers=linspace(0,4000,10001)\n",
    "\n",
    "### Gausian function to broaden peaks\n",
    "def g(wavenumb_sweep, intensity_max, wavenumber_max, σ):\n",
    "    G = intensity_max / (σ *sqrt(2 * pi)) * exp(-(wavenumb_sweep-wavenumber_max)**2 / (2*σ**2))\n",
    "    new_y=array(G)  \n",
    "    return new_y\n",
    "       \n",
    "### Getting IR from xTB GFN2xTB, GFN1xTB and GFNFF\n",
    "def IR_xTB(smiles, method, σ,σ_R):\n",
    "    r          = requests.get('https://ir.cheminfo.org/v1/ir?smiles={0}&method={1}'.format(smiles, method))\n",
    "    data_bytes = r.content\n",
    "    data_dic   = json.loads(data_bytes.decode('utf-8'))\n",
    "    \n",
    "    norm_int   = []\n",
    "    norm_int_R = []\n",
    "    \n",
    "    wavenumb   = array(data_dic[\"wavenumbers\"])\n",
    "    \n",
    "    max_int    = max(data_dic[\"intensities\"])\n",
    "    max_int_Ram= max(data_dic[\"ramanIntensities\"])\n",
    "    \n",
    "    for i in data_dic[\"intensities\"]:\n",
    "        norm_int.append(i/max_int)\n",
    "    for i in data_dic[\"ramanIntensities\"]:\n",
    "        norm_int_R.append(i/max_int_Ram)\n",
    "        \n",
    "\n",
    "    ### Gausian function to broaden peaks\n",
    "    pos_max    = argrelextrema(array(norm_int), np.greater)\n",
    "    x          = wavenumb\n",
    "    all_curve = 0\n",
    "    \n",
    "    for i in pos_max[0]:\n",
    "        all_curve += g(x, norm_int[i], wavenumb[i],σ)      \n",
    "    broad_int = all_curve   \n",
    "    \n",
    "    #Raman\n",
    "    pos_max_R    = argrelextrema(array(norm_int_R), np.greater)\n",
    "    x_R          = wavenumb\n",
    "    all_curve_R = 0\n",
    "    \n",
    "    for i in pos_max_R[0]:\n",
    "        all_curve_R += g(x_R, norm_int_R[i], wavenumb[i],σ_R)      \n",
    "    broad_int_R = all_curve_R  \n",
    "    \n",
    "    \n",
    "    ### Normalization\n",
    "    \n",
    "    max_y = max(broad_int)\n",
    "    int_norm = []\n",
    "    \n",
    "    for i in broad_int:\n",
    "        int_norm.append((i/max_y))\n",
    "        \n",
    "    ### Normalization Raman\n",
    "    \n",
    "    max_y_R = max(broad_int_R)\n",
    "    int_norm_R = []\n",
    "    \n",
    "    for i in broad_int_R:\n",
    "        int_norm_R.append((i/max_y_R))\n",
    "       \n",
    "    #Transmitance\n",
    "    trans = []\n",
    "    for i in int_norm: \n",
    "        trans.append(1-i)\n",
    "       \n",
    "    return  int_norm, trans, int_norm_R"
   ]
  },
  {
   "attachments": {},
   "cell_type": "markdown",
   "id": "5613403f",
   "metadata": {},
   "source": [
    "# Obtain your own theoretical expectra\n",
    "\n",
    "By executing the following code you will be able to obtain your own spectra, you only need:\n",
    "\n",
    "* The smiles code of the molecule of your interest\n",
    "* The method you want to use to calculate the theoretical spectra\n",
    "* How much you want to broaden the peaks of the theoretical bands"
   ]
  },
  {
   "cell_type": "code",
   "execution_count": 5,
   "id": "f9634083",
   "metadata": {
    "tags": [
     "hide-input"
    ]
   },
   "outputs": [],
   "source": [
    "def Ploter_IR_theoretical(smiles_code, method, sigma, sigma_raman):\n",
    "    wavenumbers                = linspace(0,4000,10001)\n",
    "   \n",
    "    smiles                     = smiles_code\n",
    "    \n",
    "    Compound_wn,Compound_int   = wavenumbers, IR_xTB(smiles,method,sigma, sigma_raman)  \n",
    "    \n",
    "    fig,ax = plt.subplots(ncols=2,nrows=1,figsize=(15,7),\n",
    "                       gridspec_kw = {'wspace':0.05, 'hspace':0, 'width_ratios': [2, 1]})\n",
    "    \n",
    "    \n",
    "    ax[0].plot(Compound_wn, 0.5*array(Compound_int[1])+0.5, label=\"Theoretical {0}- IR\".format(method))\n",
    "    ax[0].plot(Compound_wn, 0.5*array(Compound_int[2]), label=\"Theoretical {0} -Raman\".format(method))\n",
    "    ax[0].set_ylim(0,1.2)\n",
    "    ax[0].get_yaxis().set_visible(False)\n",
    "    ax[0].set_ylabel(\"Intensity\")\n",
    "    ax[0].set_xlabel(\"wavenumber $[cm^{-1}]$\")\n",
    "    ax[0].invert_xaxis()\n",
    "    ax[0].legend(loc=1)\n",
    "    mol = Chem.MolFromSmiles(smiles)\n",
    "    im = Chem.Draw.MolToImage(mol)\n",
    "#     ax = plt.axes([0.6, 0.47, 0.38, 0.38], frameon=True)\n",
    "    \n",
    "    ax[1].imshow(im)\n",
    "    ax[1].axis('off')"
   ]
  },
  {
   "cell_type": "code",
   "execution_count": 6,
   "id": "8e221485",
   "metadata": {},
   "outputs": [
    {
     "data": {
      "image/png": "[encoded data removed]",
      "text/plain": [
       "<Figure size 1080x504 with 2 Axes>"
      ]
     },
     "metadata": {
      "needs_background": "light"
     },
     "output_type": "display_data"
    }
   ],
   "source": [
    "plt.rcParams.update({'font.size': 14})\n",
    "smiles             = input(\"please introduce the smiles code: \")\n",
    "method             = input(\"please introduce the method (GFN2xTB, GFN1xTB, GFNFF): \")\n",
    "sigma              = int(input(\"please introduce how much you want to broad the theoretical bands (a number between σ=[20,100]): \"))\n",
    "sigma_raman        = int(input(\"please introduce how much you want to broad the Raman theoretical bands (a number between σ=[20,100]): \"))\n",
    "\n",
    "Ploter_IR_theoretical(smiles,method,sigma,sigma_raman)\n",
    "plt.savefig(\"IR_Raman_TheoreticalSpectra_{0}_{1}.png\".format(method, smiles))\n"
   ]
  },
  {
   "cell_type": "code",
   "execution_count": null,
   "id": "b3ce92ea",
   "metadata": {},
   "outputs": [],
   "source": []
  }
 ],
 "metadata": {
  "kernelspec": {
   "display_name": "Python 3",
   "language": "python",
   "name": "python3"
  },
  "language_info": {
   "codemirror_mode": {
    "name": "ipython",
    "version": 3
   },
   "file_extension": ".py",
   "mimetype": "text/x-python",
   "name": "python",
   "nbconvert_exporter": "python",
   "pygments_lexer": "ipython3",
   "version": "3.8.8"
  }
 },
 "nbformat": 4,
 "nbformat_minor": 5
}

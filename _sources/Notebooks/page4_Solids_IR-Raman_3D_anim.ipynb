{
 "cells": [
  {
   "cell_type": "markdown",
   "id": "01c0a040",
   "metadata": {},
   "source": [
    "# A - Generation of IR and raman spectra for solids "
   ]
  },
  {
   "cell_type": "code",
   "execution_count": 1,
   "id": "58128dfb-e843-48ab-add2-4e094cd88ec5",
   "metadata": {},
   "outputs": [],
   "source": [
    "from quetzalcoatl_1 import Animator_data, spectra_data, solids_spectra\n",
    "from pylab import *"
   ]
  },
  {
   "cell_type": "code",
   "execution_count": 2,
   "id": "894286d5-e638-40f3-8460-0d78e5d90fe9",
   "metadata": {},
   "outputs": [
    {
     "data": {
      "application/vnd.jupyter.widget-view+json": {
       "model_id": "d265b19fd6f3410d9da535b15a55483a",
       "version_major": 2,
       "version_minor": 0
      },
      "text/plain": []
     },
     "metadata": {},
     "output_type": "display_data"
    }
   ],
   "source": [
    "from ipywidgets import interact, Dropdown\n",
    "import numpy as np\n",
    "from pymatgen.io.cif import CifWriter\n",
    "import nglview as nv\n",
    "from pymatgen.ext.matproj import MPRester\n",
    "from mp_api.client import MPRester\n",
    "import pandas as pd\n",
    "from emmet.core.summary import HasProps\n",
    "from nglview import show_structure_file\n",
    "import json\n"
   ]
  },
  {
   "cell_type": "code",
   "execution_count": 3,
   "id": "0e475732-8d7c-478e-a81d-6b404d33d09c",
   "metadata": {},
   "outputs": [],
   "source": [
    "# Opening JSON file\n",
    "f = open('formulas-mpid.json')\n",
    "data_r = json.load(f)\n"
   ]
  },
  {
   "cell_type": "code",
   "execution_count": 4,
   "id": "bf9e38fc-5f60-4093-95e3-9b111541dda5",
   "metadata": {},
   "outputs": [],
   "source": [
    "API_key= \"A55hSVu7NuwvlISilTvVtw37IB5ES26w\"\n",
    "def plot_phonon_and_structure(material_id):\n",
    " \n",
    "    with MPRester(API_key) as mpr:\n",
    "        structure = mpr.get_structure_by_material_id(material_id)  \n",
    "    cif_filename = f\"material_structure_{material_id}.cif\"  # Name of the output CIF file\n",
    "    cif_writer = CifWriter(structure)\n",
    "    cif_writer.write_file(cif_filename)\n",
    "    struct_file = nv.FileStructure(cif_filename)\n",
    "    \n",
    "    view = nv.show_file(struct_file)\n",
    "    view._remote_call(\"setSize\", args=[\"\", \"300px\"])\n",
    "    view.camera = \"orthographic\"\n",
    "    view.add_unitcell()\n",
    "    view\n",
    "    return view"
   ]
  },
  {
   "cell_type": "code",
   "execution_count": 5,
   "id": "62cb9d97-9fb1-4632-86ab-3a57705541fb",
   "metadata": {},
   "outputs": [
    {
     "data": {
      "text/html": [
       "\n",
       "        <iframe\n",
       "            width=\"20%\"\n",
       "            height=\"250\"\n",
       "            src=\"http://127.0.0.1:8050/\"\n",
       "            frameborder=\"0\"\n",
       "            allowfullscreen\n",
       "            \n",
       "        ></iframe>\n",
       "        "
      ],
      "text/plain": [
       "<IPython.lib.display.IFrame at 0x1e3dd781580>"
      ]
     },
     "metadata": {},
     "output_type": "display_data"
    }
   ],
   "source": [
    "from dash import Dash, dcc, html, Input, Output,callback\n",
    "\n",
    "app = Dash(__name__)\n",
    "app.layout = html.Div(\n",
    "    [dcc.Dropdown(list(data_r.keys()), 'O16Sr2Te6', id='demo-dropdown'),\n",
    "    html.Div(id='dd-output-container')])\n",
    "\n",
    "@callback(Output('dd-output-container', 'children'),\n",
    "    Input('demo-dropdown', 'value'))\n",
    "\n",
    "def update_output(value):\n",
    "    global material\n",
    "    material = value\n",
    "    return 'You have selected ', value\n",
    "if __name__ == '__main__':\n",
    "    app.run(debug=False,  jupyter_width='20%',\n",
    "    jupyter_height=250)\n",
    "    \n"
   ]
  },
  {
   "cell_type": "code",
   "execution_count": 6,
   "id": "d7dd9d4a-9531-4d4e-800b-5e24953b89f8",
   "metadata": {},
   "outputs": [
    {
     "data": {
      "application/vnd.jupyter.widget-view+json": {
       "model_id": "b92e4d7de16247f9b5033dfbe5d16405",
       "version_major": 2,
       "version_minor": 0
      },
      "text/plain": [
       "Retrieving MaterialsDoc documents:   0%|          | 0/1 [00:00<?, ?it/s]"
      ]
     },
     "metadata": {},
     "output_type": "display_data"
    },
    {
     "name": "stderr",
     "output_type": "stream",
     "text": [
      "Document primary key has changed from mp-3252 to mp-3252, returning data for mp-3252 in materials/core route.    \n"
     ]
    },
    {
     "name": "stdout",
     "output_type": "stream",
     "text": [
      "\u001b[1;31m---------------------------------------------------------------------------\u001b[0m\n",
      "\u001b[1;31mMPRestError\u001b[0m                               Traceback (most recent call last)\n",
      "File \u001b[1;32m~\\anaconda3\\lib\\site-packages\\mp_api\\client\\core\\client.py:1001\u001b[0m, in \u001b[0;36mBaseRester.get_data_by_id\u001b[1;34m(self, document_id, fields)\u001b[0m\n",
      "\u001b[0;32m   1000\u001b[0m \u001b[38;5;28;01mtry\u001b[39;00m:\n",
      "\u001b[1;32m-> 1001\u001b[0m     results \u001b[38;5;241m=\u001b[39m \u001b[38;5;28;43mself\u001b[39;49m\u001b[38;5;241;43m.\u001b[39;49m\u001b[43m_query_resource_data\u001b[49m\u001b[43m(\u001b[49m\u001b[43mcriteria\u001b[49m\u001b[38;5;241;43m=\u001b[39;49m\u001b[43mcriteria\u001b[49m\u001b[43m,\u001b[49m\u001b[43m \u001b[49m\u001b[43mfields\u001b[49m\u001b[38;5;241;43m=\u001b[39;49m\u001b[43mfields\u001b[49m\u001b[43m,\u001b[49m\u001b[43m \u001b[49m\u001b[43msuburl\u001b[49m\u001b[38;5;241;43m=\u001b[39;49m\u001b[43mdocument_id\u001b[49m\u001b[43m)\u001b[49m  \u001b[38;5;66;03m# type: ignore\u001b[39;00m\n",
      "\u001b[0;32m   1002\u001b[0m \u001b[38;5;28;01mexcept\u001b[39;00m MPRestError:\n",
      "\n",
      "File \u001b[1;32m~\\anaconda3\\lib\\site-packages\\mp_api\\client\\core\\client.py:958\u001b[0m, in \u001b[0;36mBaseRester._query_resource_data\u001b[1;34m(self, criteria, fields, suburl, use_document_model, timeout)\u001b[0m\n",
      "\u001b[0;32m    945\u001b[0m \u001b[38;5;250m\u001b[39m\u001b[38;5;124;03m\"\"\"Query the endpoint for a list of documents without associated meta information. Only\u001b[39;00m\n",
      "\u001b[0;32m    946\u001b[0m \u001b[38;5;124;03mreturns a single page of results.\u001b[39;00m\n",
      "\u001b[0;32m    947\u001b[0m \n",
      "\u001b[1;32m   (...)\u001b[0m\n",
      "\u001b[0;32m    956\u001b[0m \u001b[38;5;124;03m    A list of documents\u001b[39;00m\n",
      "\u001b[0;32m    957\u001b[0m \u001b[38;5;124;03m\"\"\"\u001b[39;00m\n",
      "\u001b[1;32m--> 958\u001b[0m \u001b[38;5;28;01mreturn\u001b[39;00m \u001b[38;5;28;43mself\u001b[39;49m\u001b[38;5;241;43m.\u001b[39;49m\u001b[43m_query_resource\u001b[49m\u001b[43m(\u001b[49m\u001b[43m  \u001b[49m\u001b[38;5;66;43;03m# type: ignore\u001b[39;49;00m\n",
      "\u001b[0;32m    959\u001b[0m \u001b[43m    \u001b[49m\u001b[43mcriteria\u001b[49m\u001b[38;5;241;43m=\u001b[39;49m\u001b[43mcriteria\u001b[49m\u001b[43m,\u001b[49m\n",
      "\u001b[0;32m    960\u001b[0m \u001b[43m    \u001b[49m\u001b[43mfields\u001b[49m\u001b[38;5;241;43m=\u001b[39;49m\u001b[43mfields\u001b[49m\u001b[43m,\u001b[49m\n",
      "\u001b[0;32m    961\u001b[0m \u001b[43m    \u001b[49m\u001b[43msuburl\u001b[49m\u001b[38;5;241;43m=\u001b[39;49m\u001b[43msuburl\u001b[49m\u001b[43m,\u001b[49m\n",
      "\u001b[0;32m    962\u001b[0m \u001b[43m    \u001b[49m\u001b[43muse_document_model\u001b[49m\u001b[38;5;241;43m=\u001b[39;49m\u001b[43muse_document_model\u001b[49m\u001b[43m,\u001b[49m\n",
      "\u001b[0;32m    963\u001b[0m \u001b[43m    \u001b[49m\u001b[43mchunk_size\u001b[49m\u001b[38;5;241;43m=\u001b[39;49m\u001b[38;5;241;43m1000\u001b[39;49m\u001b[43m,\u001b[49m\n",
      "\u001b[0;32m    964\u001b[0m \u001b[43m    \u001b[49m\u001b[43mnum_chunks\u001b[49m\u001b[38;5;241;43m=\u001b[39;49m\u001b[38;5;241;43m1\u001b[39;49m\u001b[43m,\u001b[49m\n",
      "\u001b[0;32m    965\u001b[0m \u001b[43m\u001b[49m\u001b[43m)\u001b[49m\u001b[38;5;241m.\u001b[39mget(\u001b[38;5;124m\"\u001b[39m\u001b[38;5;124mdata\u001b[39m\u001b[38;5;124m\"\u001b[39m)\n",
      "\n",
      "File \u001b[1;32m~\\anaconda3\\lib\\site-packages\\mp_api\\client\\core\\client.py:408\u001b[0m, in \u001b[0;36mBaseRester._query_resource\u001b[1;34m(self, criteria, fields, suburl, use_document_model, parallel_param, num_chunks, chunk_size, timeout)\u001b[0m\n",
      "\u001b[0;32m    406\u001b[0m         url \u001b[38;5;241m+\u001b[39m\u001b[38;5;241m=\u001b[39m \u001b[38;5;124m\"\u001b[39m\u001b[38;5;124m/\u001b[39m\u001b[38;5;124m\"\u001b[39m\n",
      "\u001b[1;32m--> 408\u001b[0m data \u001b[38;5;241m=\u001b[39m \u001b[38;5;28;43mself\u001b[39;49m\u001b[38;5;241;43m.\u001b[39;49m\u001b[43m_submit_requests\u001b[49m\u001b[43m(\u001b[49m\n",
      "\u001b[0;32m    409\u001b[0m \u001b[43m    \u001b[49m\u001b[43murl\u001b[49m\u001b[38;5;241;43m=\u001b[39;49m\u001b[43murl\u001b[49m\u001b[43m,\u001b[49m\n",
      "\u001b[0;32m    410\u001b[0m \u001b[43m    \u001b[49m\u001b[43mcriteria\u001b[49m\u001b[38;5;241;43m=\u001b[39;49m\u001b[43mcriteria\u001b[49m\u001b[43m,\u001b[49m\n",
      "\u001b[0;32m    411\u001b[0m \u001b[43m    \u001b[49m\u001b[43muse_document_model\u001b[49m\u001b[38;5;241;43m=\u001b[39;49m\u001b[43muse_document_model\u001b[49m\u001b[43m,\u001b[49m\n",
      "\u001b[0;32m    412\u001b[0m \u001b[43m    \u001b[49m\u001b[43mparallel_param\u001b[49m\u001b[38;5;241;43m=\u001b[39;49m\u001b[43mparallel_param\u001b[49m\u001b[43m,\u001b[49m\n",
      "\u001b[0;32m    413\u001b[0m \u001b[43m    \u001b[49m\u001b[43mnum_chunks\u001b[49m\u001b[38;5;241;43m=\u001b[39;49m\u001b[43mnum_chunks\u001b[49m\u001b[43m,\u001b[49m\n",
      "\u001b[0;32m    414\u001b[0m \u001b[43m    \u001b[49m\u001b[43mchunk_size\u001b[49m\u001b[38;5;241;43m=\u001b[39;49m\u001b[43mchunk_size\u001b[49m\u001b[43m,\u001b[49m\n",
      "\u001b[0;32m    415\u001b[0m \u001b[43m    \u001b[49m\u001b[43mtimeout\u001b[49m\u001b[38;5;241;43m=\u001b[39;49m\u001b[43mtimeout\u001b[49m\u001b[43m,\u001b[49m\n",
      "\u001b[0;32m    416\u001b[0m \u001b[43m\u001b[49m\u001b[43m)\u001b[49m\n",
      "\u001b[0;32m    418\u001b[0m \u001b[38;5;28;01mreturn\u001b[39;00m data\n",
      "\n",
      "File \u001b[1;32m~\\anaconda3\\lib\\site-packages\\mp_api\\client\\core\\client.py:549\u001b[0m, in \u001b[0;36mBaseRester._submit_requests\u001b[1;34m(self, url, criteria, use_document_model, parallel_param, num_chunks, chunk_size, timeout)\u001b[0m\n",
      "\u001b[0;32m    545\u001b[0m initial_params_list \u001b[38;5;241m=\u001b[39m [\n",
      "\u001b[0;32m    546\u001b[0m     {\u001b[38;5;124m\"\u001b[39m\u001b[38;5;124murl\u001b[39m\u001b[38;5;124m\"\u001b[39m: url, \u001b[38;5;124m\"\u001b[39m\u001b[38;5;124mverify\u001b[39m\u001b[38;5;124m\"\u001b[39m: \u001b[38;5;28;01mTrue\u001b[39;00m, \u001b[38;5;124m\"\u001b[39m\u001b[38;5;124mparams\u001b[39m\u001b[38;5;124m\"\u001b[39m: copy(crit)} \u001b[38;5;28;01mfor\u001b[39;00m crit \u001b[38;5;129;01min\u001b[39;00m new_criteria\n",
      "\u001b[0;32m    547\u001b[0m ]\n",
      "\u001b[1;32m--> 549\u001b[0m initial_data_tuples \u001b[38;5;241m=\u001b[39m \u001b[38;5;28;43mself\u001b[39;49m\u001b[38;5;241;43m.\u001b[39;49m\u001b[43m_multi_thread\u001b[49m\u001b[43m(\u001b[49m\n",
      "\u001b[0;32m    550\u001b[0m \u001b[43m    \u001b[49m\u001b[43muse_document_model\u001b[49m\u001b[43m,\u001b[49m\u001b[43m \u001b[49m\u001b[43minitial_params_list\u001b[49m\n",
      "\u001b[0;32m    551\u001b[0m \u001b[43m\u001b[49m\u001b[43m)\u001b[49m\n",
      "\u001b[0;32m    553\u001b[0m \u001b[38;5;28;01mfor\u001b[39;00m data, subtotal, crit_ind \u001b[38;5;129;01min\u001b[39;00m initial_data_tuples:\n",
      "\n",
      "File \u001b[1;32m~\\anaconda3\\lib\\site-packages\\mp_api\\client\\core\\client.py:763\u001b[0m, in \u001b[0;36mBaseRester._multi_thread\u001b[1;34m(self, use_document_model, params_list, progress_bar, timeout)\u001b[0m\n",
      "\u001b[0;32m    762\u001b[0m \u001b[38;5;28;01mfor\u001b[39;00m future \u001b[38;5;129;01min\u001b[39;00m finished:\n",
      "\u001b[1;32m--> 763\u001b[0m     data, subtotal \u001b[38;5;241m=\u001b[39m \u001b[43mfuture\u001b[49m\u001b[38;5;241;43m.\u001b[39;49m\u001b[43mresult\u001b[49m\u001b[43m(\u001b[49m\u001b[43m)\u001b[49m\n",
      "\u001b[0;32m    765\u001b[0m     \u001b[38;5;28;01mif\u001b[39;00m progress_bar \u001b[38;5;129;01mis\u001b[39;00m \u001b[38;5;129;01mnot\u001b[39;00m \u001b[38;5;28;01mNone\u001b[39;00m:\n",
      "\n",
      "File \u001b[1;32m~\\anaconda3\\lib\\concurrent\\futures\\_base.py:437\u001b[0m, in \u001b[0;36mFuture.result\u001b[1;34m(self, timeout)\u001b[0m\n",
      "\u001b[0;32m    436\u001b[0m \u001b[38;5;28;01melif\u001b[39;00m \u001b[38;5;28mself\u001b[39m\u001b[38;5;241m.\u001b[39m_state \u001b[38;5;241m==\u001b[39m FINISHED:\n",
      "\u001b[1;32m--> 437\u001b[0m     \u001b[38;5;28;01mreturn\u001b[39;00m \u001b[38;5;28;43mself\u001b[39;49m\u001b[38;5;241;43m.\u001b[39;49m\u001b[43m__get_result\u001b[49m\u001b[43m(\u001b[49m\u001b[43m)\u001b[49m\n",
      "\u001b[0;32m    439\u001b[0m \u001b[38;5;28mself\u001b[39m\u001b[38;5;241m.\u001b[39m_condition\u001b[38;5;241m.\u001b[39mwait(timeout)\n",
      "\n",
      "File \u001b[1;32m~\\anaconda3\\lib\\concurrent\\futures\\_base.py:389\u001b[0m, in \u001b[0;36mFuture.__get_result\u001b[1;34m(self)\u001b[0m\n",
      "\u001b[0;32m    388\u001b[0m \u001b[38;5;28;01mtry\u001b[39;00m:\n",
      "\u001b[1;32m--> 389\u001b[0m     \u001b[38;5;28;01mraise\u001b[39;00m \u001b[38;5;28mself\u001b[39m\u001b[38;5;241m.\u001b[39m_exception\n",
      "\u001b[0;32m    390\u001b[0m \u001b[38;5;28;01mfinally\u001b[39;00m:\n",
      "\u001b[0;32m    391\u001b[0m     \u001b[38;5;66;03m# Break a reference cycle with the exception in self._exception\u001b[39;00m\n",
      "\n",
      "File \u001b[1;32m~\\anaconda3\\lib\\concurrent\\futures\\thread.py:57\u001b[0m, in \u001b[0;36m_WorkItem.run\u001b[1;34m(self)\u001b[0m\n",
      "\u001b[0;32m     56\u001b[0m \u001b[38;5;28;01mtry\u001b[39;00m:\n",
      "\u001b[1;32m---> 57\u001b[0m     result \u001b[38;5;241m=\u001b[39m \u001b[38;5;28;43mself\u001b[39;49m\u001b[38;5;241;43m.\u001b[39;49m\u001b[43mfn\u001b[49m\u001b[43m(\u001b[49m\u001b[38;5;241;43m*\u001b[39;49m\u001b[38;5;28;43mself\u001b[39;49m\u001b[38;5;241;43m.\u001b[39;49m\u001b[43margs\u001b[49m\u001b[43m,\u001b[49m\u001b[43m \u001b[49m\u001b[38;5;241;43m*\u001b[39;49m\u001b[38;5;241;43m*\u001b[39;49m\u001b[38;5;28;43mself\u001b[39;49m\u001b[38;5;241;43m.\u001b[39;49m\u001b[43mkwargs\u001b[49m\u001b[43m)\u001b[49m\n",
      "\u001b[0;32m     58\u001b[0m \u001b[38;5;28;01mexcept\u001b[39;00m \u001b[38;5;167;01mBaseException\u001b[39;00m \u001b[38;5;28;01mas\u001b[39;00m exc:\n",
      "\n",
      "File \u001b[1;32m~\\anaconda3\\lib\\site-packages\\mp_api\\client\\core\\client.py:870\u001b[0m, in \u001b[0;36mBaseRester._submit_request_and_process\u001b[1;34m(self, url, verify, params, use_document_model, timeout)\u001b[0m\n",
      "\u001b[0;32m    868\u001b[0m         message \u001b[38;5;241m=\u001b[39m \u001b[38;5;28mstr\u001b[39m(data)\n",
      "\u001b[1;32m--> 870\u001b[0m \u001b[38;5;28;01mraise\u001b[39;00m MPRestError(\n",
      "\u001b[0;32m    871\u001b[0m     \u001b[38;5;124mf\u001b[39m\u001b[38;5;124m\"\u001b[39m\u001b[38;5;124mREST query returned with error status code \u001b[39m\u001b[38;5;132;01m{\u001b[39;00mresponse\u001b[38;5;241m.\u001b[39mstatus_code\u001b[38;5;132;01m}\u001b[39;00m\u001b[38;5;124m \u001b[39m\u001b[38;5;124m\"\u001b[39m\n",
      "\u001b[0;32m    872\u001b[0m     \u001b[38;5;124mf\u001b[39m\u001b[38;5;124m\"\u001b[39m\u001b[38;5;124mon URL \u001b[39m\u001b[38;5;132;01m{\u001b[39;00mresponse\u001b[38;5;241m.\u001b[39murl\u001b[38;5;132;01m}\u001b[39;00m\u001b[38;5;124m with message:\u001b[39m\u001b[38;5;130;01m\\n\u001b[39;00m\u001b[38;5;132;01m{\u001b[39;00mmessage\u001b[38;5;132;01m}\u001b[39;00m\u001b[38;5;124m\"\u001b[39m\n",
      "\u001b[0;32m    873\u001b[0m )\n",
      "\n",
      "\u001b[1;31mMPRestError\u001b[0m: REST query returned with error status code 403 on URL https://api.materialsproject.org/materials/core/mp-3252/?_limit=1&_fields=structure with message:\n",
      "Response {\"error\": \"You are using deprecated API endpoints. Please read our documentation (https://docs.materialsproject.org) and upgrade to the latest version of the mp-api client (https://pypi.org/project/mp-api/).\", \"version\": \"blocked\"}\n",
      "\n",
      "During handling of the above exception, another exception occurred:\n",
      "\n",
      "\u001b[1;31mMPRestError\u001b[0m                               Traceback (most recent call last)\n",
      "Input \u001b[1;32mIn [6]\u001b[0m, in \u001b[0;36m<cell line: 1>\u001b[1;34m()\u001b[0m\n",
      "\u001b[1;32m----> 1\u001b[0m \u001b[43mplot_phonon_and_structure\u001b[49m\u001b[43m(\u001b[49m\u001b[43mdata_r\u001b[49m\u001b[43m[\u001b[49m\u001b[43mmaterial\u001b[49m\u001b[43m]\u001b[49m\u001b[43m[\u001b[49m\u001b[38;5;241;43m0\u001b[39;49m\u001b[43m]\u001b[49m\u001b[43m)\u001b[49m\n",
      "\n",
      "Input \u001b[1;32mIn [4]\u001b[0m, in \u001b[0;36mplot_phonon_and_structure\u001b[1;34m(material_id)\u001b[0m\n",
      "\u001b[0;32m      2\u001b[0m \u001b[38;5;28;01mdef\u001b[39;00m \u001b[38;5;21mplot_phonon_and_structure\u001b[39m(material_id):\n",
      "\u001b[0;32m      4\u001b[0m     \u001b[38;5;28;01mwith\u001b[39;00m MPRester(API_key) \u001b[38;5;28;01mas\u001b[39;00m mpr:\n",
      "\u001b[1;32m----> 5\u001b[0m         structure \u001b[38;5;241m=\u001b[39m \u001b[43mmpr\u001b[49m\u001b[38;5;241;43m.\u001b[39;49m\u001b[43mget_structure_by_material_id\u001b[49m\u001b[43m(\u001b[49m\u001b[43mmaterial_id\u001b[49m\u001b[43m)\u001b[49m  \n",
      "\u001b[0;32m      6\u001b[0m     cif_filename \u001b[38;5;241m=\u001b[39m \u001b[38;5;124mf\u001b[39m\u001b[38;5;124m\"\u001b[39m\u001b[38;5;124mmaterial_structure_\u001b[39m\u001b[38;5;132;01m{\u001b[39;00mmaterial_id\u001b[38;5;132;01m}\u001b[39;00m\u001b[38;5;124m.cif\u001b[39m\u001b[38;5;124m\"\u001b[39m  \u001b[38;5;66;03m# Name of the output CIF file\u001b[39;00m\n",
      "\u001b[0;32m      7\u001b[0m     cif_writer \u001b[38;5;241m=\u001b[39m CifWriter(structure)\n",
      "\n",
      "File \u001b[1;32m~\\anaconda3\\lib\\site-packages\\mp_api\\client\\mprester.py:396\u001b[0m, in \u001b[0;36mMPRester.get_structure_by_material_id\u001b[1;34m(self, material_id, final, conventional_unit_cell)\u001b[0m\n",
      "\u001b[0;32m    380\u001b[0m \u001b[38;5;28;01mdef\u001b[39;00m \u001b[38;5;21mget_structure_by_material_id\u001b[39m(\n",
      "\u001b[0;32m    381\u001b[0m     \u001b[38;5;28mself\u001b[39m, material_id: \u001b[38;5;28mstr\u001b[39m, final: \u001b[38;5;28mbool\u001b[39m \u001b[38;5;241m=\u001b[39m \u001b[38;5;28;01mTrue\u001b[39;00m, conventional_unit_cell: \u001b[38;5;28mbool\u001b[39m \u001b[38;5;241m=\u001b[39m \u001b[38;5;28;01mFalse\u001b[39;00m\n",
      "\u001b[0;32m    382\u001b[0m ) \u001b[38;5;241m-\u001b[39m\u001b[38;5;241m>\u001b[39m Structure \u001b[38;5;241m|\u001b[39m \u001b[38;5;28mlist\u001b[39m[Structure]:\n",
      "\u001b[0;32m    383\u001b[0m \u001b[38;5;250m    \u001b[39m\u001b[38;5;124;03m\"\"\"Get a Structure corresponding to a material_id.\u001b[39;00m\n",
      "\u001b[0;32m    384\u001b[0m \n",
      "\u001b[0;32m    385\u001b[0m \u001b[38;5;124;03m    Args:\u001b[39;00m\n",
      "\u001b[1;32m   (...)\u001b[0m\n",
      "\u001b[0;32m    394\u001b[0m \u001b[38;5;124;03m        Structure object or list of Structure objects.\u001b[39;00m\n",
      "\u001b[0;32m    395\u001b[0m \u001b[38;5;124;03m    \"\"\"\u001b[39;00m\n",
      "\u001b[1;32m--> 396\u001b[0m     structure_data \u001b[38;5;241m=\u001b[39m \u001b[38;5;28;43mself\u001b[39;49m\u001b[38;5;241;43m.\u001b[39;49m\u001b[43mmaterials\u001b[49m\u001b[38;5;241;43m.\u001b[39;49m\u001b[43mget_structure_by_material_id\u001b[49m\u001b[43m(\u001b[49m\n",
      "\u001b[0;32m    397\u001b[0m \u001b[43m        \u001b[49m\u001b[43mmaterial_id\u001b[49m\u001b[38;5;241;43m=\u001b[39;49m\u001b[43mmaterial_id\u001b[49m\u001b[43m,\u001b[49m\u001b[43m \u001b[49m\u001b[43mfinal\u001b[49m\u001b[38;5;241;43m=\u001b[39;49m\u001b[43mfinal\u001b[49m\n",
      "\u001b[0;32m    398\u001b[0m \u001b[43m    \u001b[49m\u001b[43m)\u001b[49m\n",
      "\u001b[0;32m    400\u001b[0m     \u001b[38;5;28;01mif\u001b[39;00m conventional_unit_cell \u001b[38;5;129;01mand\u001b[39;00m structure_data:\n",
      "\u001b[0;32m    401\u001b[0m         \u001b[38;5;28;01mif\u001b[39;00m final:\n",
      "\n",
      "File \u001b[1;32m~\\anaconda3\\lib\\site-packages\\mp_api\\client\\routes\\materials\\materials.py:37\u001b[0m, in \u001b[0;36mMaterialsRester.get_structure_by_material_id\u001b[1;34m(self, material_id, final)\u001b[0m\n",
      "\u001b[0;32m     25\u001b[0m \u001b[38;5;250m\u001b[39m\u001b[38;5;124;03m\"\"\"Get a structure for a given Materials Project ID.\u001b[39;00m\n",
      "\u001b[0;32m     26\u001b[0m \n",
      "\u001b[0;32m     27\u001b[0m \u001b[38;5;124;03mArguments:\u001b[39;00m\n",
      "\u001b[1;32m   (...)\u001b[0m\n",
      "\u001b[0;32m     34\u001b[0m \u001b[38;5;124;03m        pymatgen structure objects.\u001b[39;00m\n",
      "\u001b[0;32m     35\u001b[0m \u001b[38;5;124;03m\"\"\"\u001b[39;00m\n",
      "\u001b[0;32m     36\u001b[0m \u001b[38;5;28;01mif\u001b[39;00m final:\n",
      "\u001b[1;32m---> 37\u001b[0m     response \u001b[38;5;241m=\u001b[39m \u001b[38;5;28;43mself\u001b[39;49m\u001b[38;5;241;43m.\u001b[39;49m\u001b[43mget_data_by_id\u001b[49m\u001b[43m(\u001b[49m\u001b[43mmaterial_id\u001b[49m\u001b[43m,\u001b[49m\u001b[43m \u001b[49m\u001b[43mfields\u001b[49m\u001b[38;5;241;43m=\u001b[39;49m\u001b[43m[\u001b[49m\u001b[38;5;124;43m\"\u001b[39;49m\u001b[38;5;124;43mstructure\u001b[39;49m\u001b[38;5;124;43m\"\u001b[39;49m\u001b[43m]\u001b[49m\u001b[43m)\u001b[49m\n",
      "\u001b[0;32m     38\u001b[0m     \u001b[38;5;28;01mreturn\u001b[39;00m response\u001b[38;5;241m.\u001b[39mstructure \u001b[38;5;28;01mif\u001b[39;00m response \u001b[38;5;129;01mis\u001b[39;00m \u001b[38;5;129;01mnot\u001b[39;00m \u001b[38;5;28;01mNone\u001b[39;00m \u001b[38;5;28;01melse\u001b[39;00m response  \u001b[38;5;66;03m# type: ignore\u001b[39;00m\n",
      "\u001b[0;32m     39\u001b[0m \u001b[38;5;28;01melse\u001b[39;00m:\n",
      "\n",
      "File \u001b[1;32m~\\anaconda3\\lib\\site-packages\\mp_api\\client\\core\\client.py:1027\u001b[0m, in \u001b[0;36mBaseRester.get_data_by_id\u001b[1;34m(self, document_id, fields)\u001b[0m\n",
      "\u001b[0;32m   1021\u001b[0m             \u001b[38;5;28;01mif\u001b[39;00m new_document_id \u001b[38;5;129;01mis\u001b[39;00m \u001b[38;5;129;01mnot\u001b[39;00m \u001b[38;5;28;01mNone\u001b[39;00m:\n",
      "\u001b[0;32m   1022\u001b[0m                 warnings\u001b[38;5;241m.\u001b[39mwarn(\n",
      "\u001b[0;32m   1023\u001b[0m                     \u001b[38;5;124mf\u001b[39m\u001b[38;5;124m\"\u001b[39m\u001b[38;5;124mDocument primary key has changed from \u001b[39m\u001b[38;5;132;01m{\u001b[39;00mdocument_id\u001b[38;5;132;01m}\u001b[39;00m\u001b[38;5;124m to \u001b[39m\u001b[38;5;132;01m{\u001b[39;00mnew_document_id\u001b[38;5;132;01m}\u001b[39;00m\u001b[38;5;124m, \u001b[39m\u001b[38;5;124m\"\u001b[39m\n",
      "\u001b[0;32m   1024\u001b[0m                     \u001b[38;5;124mf\u001b[39m\u001b[38;5;124m\"\u001b[39m\u001b[38;5;124mreturning data for \u001b[39m\u001b[38;5;132;01m{\u001b[39;00mnew_document_id\u001b[38;5;132;01m}\u001b[39;00m\u001b[38;5;124m in \u001b[39m\u001b[38;5;132;01m{\u001b[39;00m\u001b[38;5;28mself\u001b[39m\u001b[38;5;241m.\u001b[39msuffix\u001b[38;5;132;01m}\u001b[39;00m\u001b[38;5;124m route.    \u001b[39m\u001b[38;5;124m\"\u001b[39m\n",
      "\u001b[0;32m   1025\u001b[0m                 )\n",
      "\u001b[1;32m-> 1027\u001b[0m                 results \u001b[38;5;241m=\u001b[39m \u001b[38;5;28;43mself\u001b[39;49m\u001b[38;5;241;43m.\u001b[39;49m\u001b[43m_query_resource_data\u001b[49m\u001b[43m(\u001b[49m\n",
      "\u001b[0;32m   1028\u001b[0m \u001b[43m                    \u001b[49m\u001b[43mcriteria\u001b[49m\u001b[38;5;241;43m=\u001b[39;49m\u001b[43mcriteria\u001b[49m\u001b[43m,\u001b[49m\u001b[43m \u001b[49m\u001b[43mfields\u001b[49m\u001b[38;5;241;43m=\u001b[39;49m\u001b[43mfields\u001b[49m\u001b[43m,\u001b[49m\u001b[43m \u001b[49m\u001b[43msuburl\u001b[49m\u001b[38;5;241;43m=\u001b[39;49m\u001b[43mnew_document_id\u001b[49m\u001b[43m  \u001b[49m\u001b[38;5;66;43;03m# type: ignore\u001b[39;49;00m\n",
      "\u001b[0;32m   1029\u001b[0m \u001b[43m                \u001b[49m\u001b[43m)\u001b[49m\n",
      "\u001b[0;32m   1031\u001b[0m \u001b[38;5;28;01mif\u001b[39;00m \u001b[38;5;129;01mnot\u001b[39;00m results:\n",
      "\u001b[0;32m   1032\u001b[0m     \u001b[38;5;28;01mraise\u001b[39;00m MPRestError(\u001b[38;5;124mf\u001b[39m\u001b[38;5;124m\"\u001b[39m\u001b[38;5;124mNo result for record \u001b[39m\u001b[38;5;132;01m{\u001b[39;00mdocument_id\u001b[38;5;132;01m}\u001b[39;00m\u001b[38;5;124m.\u001b[39m\u001b[38;5;124m\"\u001b[39m)\n",
      "\n",
      "File \u001b[1;32m~\\anaconda3\\lib\\site-packages\\mp_api\\client\\core\\client.py:958\u001b[0m, in \u001b[0;36mBaseRester._query_resource_data\u001b[1;34m(self, criteria, fields, suburl, use_document_model, timeout)\u001b[0m\n",
      "\u001b[0;32m    937\u001b[0m \u001b[38;5;28;01mdef\u001b[39;00m \u001b[38;5;21m_query_resource_data\u001b[39m(\n",
      "\u001b[0;32m    938\u001b[0m     \u001b[38;5;28mself\u001b[39m,\n",
      "\u001b[0;32m    939\u001b[0m     criteria: \u001b[38;5;28mdict\u001b[39m \u001b[38;5;241m|\u001b[39m \u001b[38;5;28;01mNone\u001b[39;00m \u001b[38;5;241m=\u001b[39m \u001b[38;5;28;01mNone\u001b[39;00m,\n",
      "\u001b[1;32m   (...)\u001b[0m\n",
      "\u001b[0;32m    943\u001b[0m     timeout: \u001b[38;5;28mint\u001b[39m \u001b[38;5;241m|\u001b[39m \u001b[38;5;28;01mNone\u001b[39;00m \u001b[38;5;241m=\u001b[39m \u001b[38;5;28;01mNone\u001b[39;00m,\n",
      "\u001b[0;32m    944\u001b[0m ) \u001b[38;5;241m-\u001b[39m\u001b[38;5;241m>\u001b[39m \u001b[38;5;28mlist\u001b[39m[T] \u001b[38;5;241m|\u001b[39m \u001b[38;5;28mlist\u001b[39m[\u001b[38;5;28mdict\u001b[39m]:\n",
      "\u001b[0;32m    945\u001b[0m \u001b[38;5;250m    \u001b[39m\u001b[38;5;124;03m\"\"\"Query the endpoint for a list of documents without associated meta information. Only\u001b[39;00m\n",
      "\u001b[0;32m    946\u001b[0m \u001b[38;5;124;03m    returns a single page of results.\u001b[39;00m\n",
      "\u001b[0;32m    947\u001b[0m \n",
      "\u001b[1;32m   (...)\u001b[0m\n",
      "\u001b[0;32m    956\u001b[0m \u001b[38;5;124;03m        A list of documents\u001b[39;00m\n",
      "\u001b[0;32m    957\u001b[0m \u001b[38;5;124;03m    \"\"\"\u001b[39;00m\n",
      "\u001b[1;32m--> 958\u001b[0m     \u001b[38;5;28;01mreturn\u001b[39;00m \u001b[38;5;28;43mself\u001b[39;49m\u001b[38;5;241;43m.\u001b[39;49m\u001b[43m_query_resource\u001b[49m\u001b[43m(\u001b[49m\u001b[43m  \u001b[49m\u001b[38;5;66;43;03m# type: ignore\u001b[39;49;00m\n",
      "\u001b[0;32m    959\u001b[0m \u001b[43m        \u001b[49m\u001b[43mcriteria\u001b[49m\u001b[38;5;241;43m=\u001b[39;49m\u001b[43mcriteria\u001b[49m\u001b[43m,\u001b[49m\n",
      "\u001b[0;32m    960\u001b[0m \u001b[43m        \u001b[49m\u001b[43mfields\u001b[49m\u001b[38;5;241;43m=\u001b[39;49m\u001b[43mfields\u001b[49m\u001b[43m,\u001b[49m\n",
      "\u001b[0;32m    961\u001b[0m \u001b[43m        \u001b[49m\u001b[43msuburl\u001b[49m\u001b[38;5;241;43m=\u001b[39;49m\u001b[43msuburl\u001b[49m\u001b[43m,\u001b[49m\n",
      "\u001b[0;32m    962\u001b[0m \u001b[43m        \u001b[49m\u001b[43muse_document_model\u001b[49m\u001b[38;5;241;43m=\u001b[39;49m\u001b[43muse_document_model\u001b[49m\u001b[43m,\u001b[49m\n",
      "\u001b[0;32m    963\u001b[0m \u001b[43m        \u001b[49m\u001b[43mchunk_size\u001b[49m\u001b[38;5;241;43m=\u001b[39;49m\u001b[38;5;241;43m1000\u001b[39;49m\u001b[43m,\u001b[49m\n",
      "\u001b[0;32m    964\u001b[0m \u001b[43m        \u001b[49m\u001b[43mnum_chunks\u001b[49m\u001b[38;5;241;43m=\u001b[39;49m\u001b[38;5;241;43m1\u001b[39;49m\u001b[43m,\u001b[49m\n",
      "\u001b[0;32m    965\u001b[0m \u001b[43m    \u001b[49m\u001b[43m)\u001b[49m\u001b[38;5;241m.\u001b[39mget(\u001b[38;5;124m\"\u001b[39m\u001b[38;5;124mdata\u001b[39m\u001b[38;5;124m\"\u001b[39m)\n",
      "\n",
      "File \u001b[1;32m~\\anaconda3\\lib\\site-packages\\mp_api\\client\\core\\client.py:408\u001b[0m, in \u001b[0;36mBaseRester._query_resource\u001b[1;34m(self, criteria, fields, suburl, use_document_model, parallel_param, num_chunks, chunk_size, timeout)\u001b[0m\n",
      "\u001b[0;32m    405\u001b[0m         \u001b[38;5;28;01mif\u001b[39;00m \u001b[38;5;129;01mnot\u001b[39;00m url\u001b[38;5;241m.\u001b[39mendswith(\u001b[38;5;124m\"\u001b[39m\u001b[38;5;124m/\u001b[39m\u001b[38;5;124m\"\u001b[39m):\n",
      "\u001b[0;32m    406\u001b[0m             url \u001b[38;5;241m+\u001b[39m\u001b[38;5;241m=\u001b[39m \u001b[38;5;124m\"\u001b[39m\u001b[38;5;124m/\u001b[39m\u001b[38;5;124m\"\u001b[39m\n",
      "\u001b[1;32m--> 408\u001b[0m     data \u001b[38;5;241m=\u001b[39m \u001b[38;5;28;43mself\u001b[39;49m\u001b[38;5;241;43m.\u001b[39;49m\u001b[43m_submit_requests\u001b[49m\u001b[43m(\u001b[49m\n",
      "\u001b[0;32m    409\u001b[0m \u001b[43m        \u001b[49m\u001b[43murl\u001b[49m\u001b[38;5;241;43m=\u001b[39;49m\u001b[43murl\u001b[49m\u001b[43m,\u001b[49m\n",
      "\u001b[0;32m    410\u001b[0m \u001b[43m        \u001b[49m\u001b[43mcriteria\u001b[49m\u001b[38;5;241;43m=\u001b[39;49m\u001b[43mcriteria\u001b[49m\u001b[43m,\u001b[49m\n",
      "\u001b[0;32m    411\u001b[0m \u001b[43m        \u001b[49m\u001b[43muse_document_model\u001b[49m\u001b[38;5;241;43m=\u001b[39;49m\u001b[43muse_document_model\u001b[49m\u001b[43m,\u001b[49m\n",
      "\u001b[0;32m    412\u001b[0m \u001b[43m        \u001b[49m\u001b[43mparallel_param\u001b[49m\u001b[38;5;241;43m=\u001b[39;49m\u001b[43mparallel_param\u001b[49m\u001b[43m,\u001b[49m\n",
      "\u001b[0;32m    413\u001b[0m \u001b[43m        \u001b[49m\u001b[43mnum_chunks\u001b[49m\u001b[38;5;241;43m=\u001b[39;49m\u001b[43mnum_chunks\u001b[49m\u001b[43m,\u001b[49m\n",
      "\u001b[0;32m    414\u001b[0m \u001b[43m        \u001b[49m\u001b[43mchunk_size\u001b[49m\u001b[38;5;241;43m=\u001b[39;49m\u001b[43mchunk_size\u001b[49m\u001b[43m,\u001b[49m\n",
      "\u001b[0;32m    415\u001b[0m \u001b[43m        \u001b[49m\u001b[43mtimeout\u001b[49m\u001b[38;5;241;43m=\u001b[39;49m\u001b[43mtimeout\u001b[49m\u001b[43m,\u001b[49m\n",
      "\u001b[0;32m    416\u001b[0m \u001b[43m    \u001b[49m\u001b[43m)\u001b[49m\n",
      "\u001b[0;32m    418\u001b[0m     \u001b[38;5;28;01mreturn\u001b[39;00m data\n",
      "\u001b[0;32m    420\u001b[0m \u001b[38;5;28;01mexcept\u001b[39;00m RequestException \u001b[38;5;28;01mas\u001b[39;00m ex:\n",
      "\n",
      "File \u001b[1;32m~\\anaconda3\\lib\\site-packages\\mp_api\\client\\core\\client.py:549\u001b[0m, in \u001b[0;36mBaseRester._submit_requests\u001b[1;34m(self, url, criteria, use_document_model, parallel_param, num_chunks, chunk_size, timeout)\u001b[0m\n",
      "\u001b[0;32m    543\u001b[0m remaining_docs_avail \u001b[38;5;241m=\u001b[39m {}\n",
      "\u001b[0;32m    545\u001b[0m initial_params_list \u001b[38;5;241m=\u001b[39m [\n",
      "\u001b[0;32m    546\u001b[0m     {\u001b[38;5;124m\"\u001b[39m\u001b[38;5;124murl\u001b[39m\u001b[38;5;124m\"\u001b[39m: url, \u001b[38;5;124m\"\u001b[39m\u001b[38;5;124mverify\u001b[39m\u001b[38;5;124m\"\u001b[39m: \u001b[38;5;28;01mTrue\u001b[39;00m, \u001b[38;5;124m\"\u001b[39m\u001b[38;5;124mparams\u001b[39m\u001b[38;5;124m\"\u001b[39m: copy(crit)} \u001b[38;5;28;01mfor\u001b[39;00m crit \u001b[38;5;129;01min\u001b[39;00m new_criteria\n",
      "\u001b[0;32m    547\u001b[0m ]\n",
      "\u001b[1;32m--> 549\u001b[0m initial_data_tuples \u001b[38;5;241m=\u001b[39m \u001b[38;5;28;43mself\u001b[39;49m\u001b[38;5;241;43m.\u001b[39;49m\u001b[43m_multi_thread\u001b[49m\u001b[43m(\u001b[49m\n",
      "\u001b[0;32m    550\u001b[0m \u001b[43m    \u001b[49m\u001b[43muse_document_model\u001b[49m\u001b[43m,\u001b[49m\u001b[43m \u001b[49m\u001b[43minitial_params_list\u001b[49m\n",
      "\u001b[0;32m    551\u001b[0m \u001b[43m\u001b[49m\u001b[43m)\u001b[49m\n",
      "\u001b[0;32m    553\u001b[0m \u001b[38;5;28;01mfor\u001b[39;00m data, subtotal, crit_ind \u001b[38;5;129;01min\u001b[39;00m initial_data_tuples:\n",
      "\u001b[0;32m    554\u001b[0m     subtotals\u001b[38;5;241m.\u001b[39mappend(subtotal)\n",
      "\n",
      "File \u001b[1;32m~\\anaconda3\\lib\\site-packages\\mp_api\\client\\core\\client.py:763\u001b[0m, in \u001b[0;36mBaseRester._multi_thread\u001b[1;34m(self, use_document_model, params_list, progress_bar, timeout)\u001b[0m\n",
      "\u001b[0;32m    760\u001b[0m finished, futures \u001b[38;5;241m=\u001b[39m wait(futures, return_when\u001b[38;5;241m=\u001b[39mFIRST_COMPLETED)\n",
      "\u001b[0;32m    762\u001b[0m \u001b[38;5;28;01mfor\u001b[39;00m future \u001b[38;5;129;01min\u001b[39;00m finished:\n",
      "\u001b[1;32m--> 763\u001b[0m     data, subtotal \u001b[38;5;241m=\u001b[39m \u001b[43mfuture\u001b[49m\u001b[38;5;241;43m.\u001b[39;49m\u001b[43mresult\u001b[49m\u001b[43m(\u001b[49m\u001b[43m)\u001b[49m\n",
      "\u001b[0;32m    765\u001b[0m     \u001b[38;5;28;01mif\u001b[39;00m progress_bar \u001b[38;5;129;01mis\u001b[39;00m \u001b[38;5;129;01mnot\u001b[39;00m \u001b[38;5;28;01mNone\u001b[39;00m:\n",
      "\u001b[0;32m    766\u001b[0m         progress_bar\u001b[38;5;241m.\u001b[39mupdate(\u001b[38;5;28mlen\u001b[39m(data[\u001b[38;5;124m\"\u001b[39m\u001b[38;5;124mdata\u001b[39m\u001b[38;5;124m\"\u001b[39m]))\n",
      "\n",
      "File \u001b[1;32m~\\anaconda3\\lib\\concurrent\\futures\\_base.py:437\u001b[0m, in \u001b[0;36mFuture.result\u001b[1;34m(self, timeout)\u001b[0m\n",
      "\u001b[0;32m    435\u001b[0m     \u001b[38;5;28;01mraise\u001b[39;00m CancelledError()\n",
      "\u001b[0;32m    436\u001b[0m \u001b[38;5;28;01melif\u001b[39;00m \u001b[38;5;28mself\u001b[39m\u001b[38;5;241m.\u001b[39m_state \u001b[38;5;241m==\u001b[39m FINISHED:\n",
      "\u001b[1;32m--> 437\u001b[0m     \u001b[38;5;28;01mreturn\u001b[39;00m \u001b[38;5;28;43mself\u001b[39;49m\u001b[38;5;241;43m.\u001b[39;49m\u001b[43m__get_result\u001b[49m\u001b[43m(\u001b[49m\u001b[43m)\u001b[49m\n",
      "\u001b[0;32m    439\u001b[0m \u001b[38;5;28mself\u001b[39m\u001b[38;5;241m.\u001b[39m_condition\u001b[38;5;241m.\u001b[39mwait(timeout)\n",
      "\u001b[0;32m    441\u001b[0m \u001b[38;5;28;01mif\u001b[39;00m \u001b[38;5;28mself\u001b[39m\u001b[38;5;241m.\u001b[39m_state \u001b[38;5;129;01min\u001b[39;00m [CANCELLED, CANCELLED_AND_NOTIFIED]:\n",
      "\n",
      "File \u001b[1;32m~\\anaconda3\\lib\\concurrent\\futures\\_base.py:389\u001b[0m, in \u001b[0;36mFuture.__get_result\u001b[1;34m(self)\u001b[0m\n",
      "\u001b[0;32m    387\u001b[0m \u001b[38;5;28;01mif\u001b[39;00m \u001b[38;5;28mself\u001b[39m\u001b[38;5;241m.\u001b[39m_exception:\n",
      "\u001b[0;32m    388\u001b[0m     \u001b[38;5;28;01mtry\u001b[39;00m:\n",
      "\u001b[1;32m--> 389\u001b[0m         \u001b[38;5;28;01mraise\u001b[39;00m \u001b[38;5;28mself\u001b[39m\u001b[38;5;241m.\u001b[39m_exception\n",
      "\u001b[0;32m    390\u001b[0m     \u001b[38;5;28;01mfinally\u001b[39;00m:\n",
      "\u001b[0;32m    391\u001b[0m         \u001b[38;5;66;03m# Break a reference cycle with the exception in self._exception\u001b[39;00m\n",
      "\u001b[0;32m    392\u001b[0m         \u001b[38;5;28mself\u001b[39m \u001b[38;5;241m=\u001b[39m \u001b[38;5;28;01mNone\u001b[39;00m\n",
      "\n",
      "File \u001b[1;32m~\\anaconda3\\lib\\concurrent\\futures\\thread.py:57\u001b[0m, in \u001b[0;36m_WorkItem.run\u001b[1;34m(self)\u001b[0m\n",
      "\u001b[0;32m     54\u001b[0m     \u001b[38;5;28;01mreturn\u001b[39;00m\n",
      "\u001b[0;32m     56\u001b[0m \u001b[38;5;28;01mtry\u001b[39;00m:\n",
      "\u001b[1;32m---> 57\u001b[0m     result \u001b[38;5;241m=\u001b[39m \u001b[38;5;28;43mself\u001b[39;49m\u001b[38;5;241;43m.\u001b[39;49m\u001b[43mfn\u001b[49m\u001b[43m(\u001b[49m\u001b[38;5;241;43m*\u001b[39;49m\u001b[38;5;28;43mself\u001b[39;49m\u001b[38;5;241;43m.\u001b[39;49m\u001b[43margs\u001b[49m\u001b[43m,\u001b[49m\u001b[43m \u001b[49m\u001b[38;5;241;43m*\u001b[39;49m\u001b[38;5;241;43m*\u001b[39;49m\u001b[38;5;28;43mself\u001b[39;49m\u001b[38;5;241;43m.\u001b[39;49m\u001b[43mkwargs\u001b[49m\u001b[43m)\u001b[49m\n",
      "\u001b[0;32m     58\u001b[0m \u001b[38;5;28;01mexcept\u001b[39;00m \u001b[38;5;167;01mBaseException\u001b[39;00m \u001b[38;5;28;01mas\u001b[39;00m exc:\n",
      "\u001b[0;32m     59\u001b[0m     \u001b[38;5;28mself\u001b[39m\u001b[38;5;241m.\u001b[39mfuture\u001b[38;5;241m.\u001b[39mset_exception(exc)\n",
      "\n",
      "File \u001b[1;32m~\\anaconda3\\lib\\site-packages\\mp_api\\client\\core\\client.py:870\u001b[0m, in \u001b[0;36mBaseRester._submit_request_and_process\u001b[1;34m(self, url, verify, params, use_document_model, timeout)\u001b[0m\n",
      "\u001b[0;32m    867\u001b[0m     \u001b[38;5;28;01mexcept\u001b[39;00m (\u001b[38;5;167;01mKeyError\u001b[39;00m, \u001b[38;5;167;01mIndexError\u001b[39;00m):\n",
      "\u001b[0;32m    868\u001b[0m         message \u001b[38;5;241m=\u001b[39m \u001b[38;5;28mstr\u001b[39m(data)\n",
      "\u001b[1;32m--> 870\u001b[0m \u001b[38;5;28;01mraise\u001b[39;00m MPRestError(\n",
      "\u001b[0;32m    871\u001b[0m     \u001b[38;5;124mf\u001b[39m\u001b[38;5;124m\"\u001b[39m\u001b[38;5;124mREST query returned with error status code \u001b[39m\u001b[38;5;132;01m{\u001b[39;00mresponse\u001b[38;5;241m.\u001b[39mstatus_code\u001b[38;5;132;01m}\u001b[39;00m\u001b[38;5;124m \u001b[39m\u001b[38;5;124m\"\u001b[39m\n",
      "\u001b[0;32m    872\u001b[0m     \u001b[38;5;124mf\u001b[39m\u001b[38;5;124m\"\u001b[39m\u001b[38;5;124mon URL \u001b[39m\u001b[38;5;132;01m{\u001b[39;00mresponse\u001b[38;5;241m.\u001b[39murl\u001b[38;5;132;01m}\u001b[39;00m\u001b[38;5;124m with message:\u001b[39m\u001b[38;5;130;01m\\n\u001b[39;00m\u001b[38;5;132;01m{\u001b[39;00mmessage\u001b[38;5;132;01m}\u001b[39;00m\u001b[38;5;124m\"\u001b[39m\n",
      "\u001b[0;32m    873\u001b[0m )\n",
      "\n",
      "\u001b[1;31mMPRestError\u001b[0m: REST query returned with error status code 403 on URL https://api.materialsproject.org/materials/core/mp-3252/?_limit=1&_fields=structure with message:\n",
      "Response {\"error\": \"You are using deprecated API endpoints. Please read our documentation (https://docs.materialsproject.org) and upgrade to the latest version of the mp-api client (https://pypi.org/project/mp-api/).\", \"version\": \"blocked\"}\n"
     ]
    }
   ],
   "source": [
    "plot_phonon_and_structure(data_r[material][0])"
   ]
  },
  {
   "cell_type": "code",
   "execution_count": 7,
   "id": "177ffe3b-452c-4303-bf22-ed57c05a5576",
   "metadata": {},
   "outputs": [
    {
     "name": "stdout",
     "output_type": "stream",
     "text": [
      "You are analyzing the material:  O14Zr4Sm4\n",
      "4\n"
     ]
    }
   ],
   "source": [
    "print(\"You are analyzing the material: \",material)\n",
    "solid_formula = material\n",
    "ID             = data_r[solid_formula][1]\n",
    "print(ID)\n",
    "Animator_data(ID)\n"
   ]
  },
  {
   "cell_type": "code",
   "execution_count": 8,
   "id": "3a1499cb-c0c6-4cf5-aed4-75eb53fd2b40",
   "metadata": {},
   "outputs": [
    {
     "name": "stdout",
     "output_type": "stream",
     "text": [
      "The chemical formula of this material is:  O14Zr4Sm4\n",
      "The lattice parameters of this material are, in the order (a,b,c) [A]:  [7.46646793 7.46646793 7.46646793]\n",
      "The lattice angles of this material are, in the order (α,β,γ):  [60. 60. 60.]\n",
      "The cell vectors of this material are, in matrix notation: \n",
      "[[0.        5.2795901 5.2795901]\n",
      " [5.2795901 0.        5.2795901]\n",
      " [5.2795901 5.2795901 0.       ]]\n",
      "The density of this material in [kg/m^3]:  6764.35\n",
      "For more properties of the material you can consult it in the materials project webpage with the following ID:  mp-4408\n",
      "\u001b[1;31m---------------------------------------------------------------------------\u001b[0m\n",
      "\u001b[1;31mValueError\u001b[0m                                Traceback (most recent call last)\n",
      "Input \u001b[1;32mIn [8]\u001b[0m, in \u001b[0;36m<cell line: 3>\u001b[1;34m()\u001b[0m\n",
      "\u001b[0;32m      1\u001b[0m sigma_IR\u001b[38;5;241m=\u001b[39m\u001b[38;5;241m10\u001b[39m\n",
      "\u001b[0;32m      2\u001b[0m sigma_Raman\u001b[38;5;241m=\u001b[39m\u001b[38;5;241m10\u001b[39m\n",
      "\u001b[1;32m----> 3\u001b[0m freq_gn_ir, int_gn_ir, int_n_ir , freq_gn_raman, int_gn_raman, int_n_raman\u001b[38;5;241m=\u001b[39m \u001b[43mspectra_data\u001b[49m\u001b[43m(\u001b[49m\u001b[43mID\u001b[49m\u001b[43m,\u001b[49m\u001b[43m \u001b[49m\u001b[43msigma_IR\u001b[49m\u001b[43m,\u001b[49m\u001b[43m \u001b[49m\u001b[43msigma_Raman\u001b[49m\u001b[43m)\u001b[49m\n",
      "\u001b[0;32m      4\u001b[0m solids_spectra(\u001b[38;5;124m\"\u001b[39m\u001b[38;5;124mreadme_solids.txt\u001b[39m\u001b[38;5;124m\"\u001b[39m, freq_gn_ir, int_gn_ir, freq_gn_raman, int_gn_raman)\n",
      "\n",
      "File \u001b[1;32m~\\Downloads\\IR-Raman-Axolotl\\quetzalcoatl_1.py:243\u001b[0m, in \u001b[0;36mspectra_data\u001b[1;34m(ID, sigma_IR, sigma_Raman)\u001b[0m\n",
      "\u001b[0;32m    241\u001b[0m data_s       \u001b[38;5;241m=\u001b[39m data_s\u001b[38;5;241m.\u001b[39mreplace(\u001b[38;5;124m\"\u001b[39m\u001b[38;5;124mb\u001b[39m\u001b[38;5;124m\"\u001b[39m, \u001b[38;5;124m\"\u001b[39m\u001b[38;5;124m \u001b[39m\u001b[38;5;124m\"\u001b[39m)\n",
      "\u001b[0;32m    242\u001b[0m data_s       \u001b[38;5;241m=\u001b[39m data_s\u001b[38;5;241m.\u001b[39msplit()\n",
      "\u001b[1;32m--> 243\u001b[0m data_c       \u001b[38;5;241m=\u001b[39m [\u001b[38;5;28mfloat\u001b[39m(i) \u001b[38;5;28;01mfor\u001b[39;00m i  \u001b[38;5;129;01min\u001b[39;00m data_s ] \n",
      "\u001b[0;32m    244\u001b[0m intensity    \u001b[38;5;241m=\u001b[39m []\n",
      "\u001b[0;32m    245\u001b[0m wave_l       \u001b[38;5;241m=\u001b[39m []\n",
      "\n",
      "File \u001b[1;32m~\\Downloads\\IR-Raman-Axolotl\\quetzalcoatl_1.py:243\u001b[0m, in \u001b[0;36m<listcomp>\u001b[1;34m(.0)\u001b[0m\n",
      "\u001b[0;32m    241\u001b[0m data_s       \u001b[38;5;241m=\u001b[39m data_s\u001b[38;5;241m.\u001b[39mreplace(\u001b[38;5;124m\"\u001b[39m\u001b[38;5;124mb\u001b[39m\u001b[38;5;124m\"\u001b[39m, \u001b[38;5;124m\"\u001b[39m\u001b[38;5;124m \u001b[39m\u001b[38;5;124m\"\u001b[39m)\n",
      "\u001b[0;32m    242\u001b[0m data_s       \u001b[38;5;241m=\u001b[39m data_s\u001b[38;5;241m.\u001b[39msplit()\n",
      "\u001b[1;32m--> 243\u001b[0m data_c       \u001b[38;5;241m=\u001b[39m [\u001b[38;5;28;43mfloat\u001b[39;49m\u001b[43m(\u001b[49m\u001b[43mi\u001b[49m\u001b[43m)\u001b[49m \u001b[38;5;28;01mfor\u001b[39;00m i  \u001b[38;5;129;01min\u001b[39;00m data_s ] \n",
      "\u001b[0;32m    244\u001b[0m intensity    \u001b[38;5;241m=\u001b[39m []\n",
      "\u001b[0;32m    245\u001b[0m wave_l       \u001b[38;5;241m=\u001b[39m []\n",
      "\n",
      "\u001b[1;31mValueError\u001b[0m: could not convert string to float: '<!DOCTYPE'\n"
     ]
    }
   ],
   "source": [
    "sigma_IR=10\n",
    "sigma_Raman=10\n",
    "freq_gn_ir, int_gn_ir, int_n_ir , freq_gn_raman, int_gn_raman, int_n_raman= spectra_data(ID, sigma_IR, sigma_Raman)\n",
    "solids_spectra(\"readme_solids.txt\", freq_gn_ir, int_gn_ir, freq_gn_raman, int_gn_raman)\n"
   ]
  },
  {
   "cell_type": "code",
   "execution_count": null,
   "id": "a228e820-936e-4dd3-b084-1606a114b01e",
   "metadata": {},
   "outputs": [],
   "source": []
  },
  {
   "cell_type": "markdown",
   "id": "e0c48584-2b82-4648-a9b2-01ab0df354e2",
   "metadata": {},
   "source": [
    "# Auxilair documents"
   ]
  },
  {
   "cell_type": "code",
   "execution_count": null,
   "id": "3d4de266-cd62-4385-bf15-8d7c2fc3810f",
   "metadata": {},
   "outputs": [],
   "source": [
    "import json\n",
    " \n",
    "# Opening JSON file\n",
    "f = open('crd.json')\n",
    " \n",
    "# returns JSON object as\n",
    "# a dictionary\n",
    "data = json.load(f)"
   ]
  },
  {
   "cell_type": "code",
   "execution_count": null,
   "id": "72912c74-bd7c-4c8e-ae21-428951409518",
   "metadata": {},
   "outputs": [],
   "source": [
    "import json\n",
    " \n",
    "# Opening JSON file\n",
    "f = open('crd.json')\n",
    " \n",
    "# returns JSON object as\n",
    "# a dictionary\n",
    "data = json.load(f)\n",
    "\n",
    "formulas =[]\n",
    "mpid     =[]\n",
    "for i in range(1,5100):\n",
    "    formulas.append(data[\"{0}\".format(i)][\"data\"][\"chemical_formula\"])\n",
    "    mpid.append(data[\"{0}\".format(i)][\"key_value_pairs\"][\"mpid\"])\n",
    "    \n",
    "d_look_up      = { formulas[i]:[mpid[i],f\"{i+1}\"] for i in range(len(formulas))}\n",
    "\n",
    "with open(\"formulas-mpid.json\", \"w\") as file:\n",
    "    json.dump(d_look_up, file)\n",
    "\n"
   ]
  },
  {
   "cell_type": "code",
   "execution_count": null,
   "id": "3d3971fd-928a-4cd2-86c8-21ea05005d80",
   "metadata": {},
   "outputs": [],
   "source": []
  }
 ],
 "metadata": {
  "kernelspec": {
   "display_name": "Python 3 (ipykernel)",
   "language": "python",
   "name": "python3"
  },
  "language_info": {
   "codemirror_mode": {
    "name": "ipython",
    "version": 3
   },
   "file_extension": ".py",
   "mimetype": "text/x-python",
   "name": "python",
   "nbconvert_exporter": "python",
   "pygments_lexer": "ipython3",
   "version": "3.8.17"
  }
 },
 "nbformat": 4,
 "nbformat_minor": 5
}

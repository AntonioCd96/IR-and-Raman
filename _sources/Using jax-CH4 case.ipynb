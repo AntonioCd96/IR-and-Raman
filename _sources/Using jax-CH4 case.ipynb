{
 "cells": [
  {
   "cell_type": "code",
   "execution_count": 1,
   "id": "14c743c5",
   "metadata": {},
   "outputs": [
    {
     "name": "stdout",
     "output_type": "stream",
     "text": [
      "\u001b[31mERROR: jaxlib-0.3.7+cuda11.cudnn82-cp38-none-win_amd64.whl is not a supported wheel on this platform.\u001b[0m\n",
      "Note: you may need to restart the kernel to use updated packages.\n"
     ]
    }
   ],
   "source": [
    "pip install jax==0.3.13 https://whls.blob.core.windows.net/unstable/cuda111/jaxlib-0.3.7+cuda11.cudnn82-cp38-none-win_amd64.whl\n"
   ]
  },
  {
   "cell_type": "code",
   "execution_count": 1,
   "id": "39f51ff1",
   "metadata": {},
   "outputs": [],
   "source": [
    "import requests\n",
    "import json\n",
    "from ast import literal_eval\n",
    "from pylab import *\n",
    "from scipy.signal import argrelextrema\n",
    "import pandas as pd\n",
    "import glob\n",
    "from rdkit import Chem\n",
    "from rdkit.Chem.Draw import IPythonConsole\n",
    "from rdkit.Chem import Draw\n",
    "IPythonConsole.ipython_useSVG=True \n",
    "import numpy as np\n",
    "import jax\n",
    "import jax.numpy as jnp\n",
    "from jax import grad, jit, vmap\n",
    "from jax import random"
   ]
  },
  {
   "cell_type": "code",
   "execution_count": 9,
   "id": "efba5ae0",
   "metadata": {},
   "outputs": [],
   "source": [
    "from rdkit import Chem\n",
    "from rdkit.Chem import AllChem\n",
    "\n",
    "\n",
    "def dipole_moment_plot(smiles, method):\n",
    "    # Correction of smiles for triple bonds\n",
    "    smiles_xTB = smiles.replace(\"#\",\"%23\")\n",
    "    \n",
    "    #Request the calcualtion in xTB service\n",
    "    r          = requests.get('https://ir.cheminfo.org/v1/ir?smiles={0}&method={1}'.format(smiles_xTB, method))\n",
    "    data_bytes = r.content\n",
    "    data_dic   = json.loads(data_bytes.decode('utf-8'))\n",
    "\n",
    "\n",
    "    wavenumb   = array(data_dic[\"wavenumbers\"])\n",
    "    \n",
    "    # Import normal modes\n",
    "    modes = data_dic[\"modes\"]\n",
    "    vib_modes=[]\n",
    "    for i in range(0,len(modes)):\n",
    "        if modes[i]['modeType']=='vibration':\n",
    "            vib_modes.append(modes[i])\n",
    "            \n",
    "    # Import frequencies\n",
    "    frequency=[]\n",
    "    for i in range(0,len(vib_modes)):\n",
    "        frequency.append(vib_modes[i][\"wavenumber\"])\n",
    "        \n",
    "    # Import normal modes coordinates\n",
    "    a        = vib_modes[0][\"displacements\"]\n",
    "    ar_s     = a.split(\"\\n\")\n",
    "    modes_al = ar_s[2:-1]\n",
    "\n",
    "    modes_al_c = []\n",
    "    for i in modes_al:\n",
    "        modes_al_c.append((\" \".join(i.split())).split())\n",
    "\n",
    "    print(\"There are {0} normal modes\".format(len(vib_modes)))\n",
    "   \n",
    "    elements = []\n",
    "    for i in modes_al_c:\n",
    "        elements.append(i[0])\n",
    "            \n",
    "    print(elements)  \n",
    "    # Define the function to calculate the dipole moment for a configuration\n",
    "    def calculate_dipole_moment(coordinates, charges, masses):\n",
    "        # Calculate the center of mass\n",
    "        total_mass = jnp.sum(masses)\n",
    "        center_of_mass = jnp.sum(coordinates * masses[:, None], axis=0) / total_mass\n",
    "\n",
    "        # Calculate the dipole moment\n",
    "        dipole_moment = jnp.zeros(3)\n",
    "\n",
    "        for charge, (x, y, z) in zip(charges, coordinates):\n",
    "            dipole_moment += charge * jnp.array([x, y, z]) - charge * center_of_mass\n",
    "\n",
    "        return dipole_moment\n",
    "\n",
    "    # Define the function for linear interpolation of configurations\n",
    "    def interpolate_configurations(initial_coords, final_coords, num_steps):\n",
    "        steps = jnp.linspace(0.0, 1.0, num_steps)[:, None, None]\n",
    "        return initial_coords + steps * (final_coords - initial_coords)\n",
    "\n",
    "\n",
    "    def calculate_partial_charges(molecule_smiles):\n",
    "        # Create an RDKit molecule object\n",
    "        mol = Chem.MolFromSmiles(molecule_smiles)\n",
    "\n",
    "        # Add hydrogens and generate 3D coordinates\n",
    "        mol = Chem.AddHs(mol)\n",
    "        AllChem.EmbedMolecule(mol, AllChem.ETKDG())\n",
    "\n",
    "        # Compute Gasteiger partial charges\n",
    "        AllChem.ComputeGasteigerCharges(mol)\n",
    "\n",
    "        # Get the computed partial charges for each atom\n",
    "        partial_charges = [atom.GetDoubleProp(\"_GasteigerCharge\") for atom in mol.GetAtoms()]\n",
    "        atom_masses = []\n",
    "        for atom in mol.GetAtoms():\n",
    "            atom_mass = atom.GetMass()\n",
    "            atom_masses.append(atom_mass)\n",
    "\n",
    "        return partial_charges, atom_masses\n",
    "\n",
    "    partial_charges, atom_masses = calculate_partial_charges(smiles)\n",
    "    \n",
    "    charges = jnp.array(partial_charges)\n",
    "    masses  = jnp.array(atom_masses)\n",
    "    \n",
    "    print(\"Tha charges are {0} with a mass of {1}\".format(charges, masses))\n",
    "\n",
    "    ########## ---------- Writing the initial positions --------- \n",
    "    μ_all= []\n",
    "    for mode in range(0,len(vib_modes)):\n",
    "        μ_i_f = []\n",
    "        a        = vib_modes[mode][\"displacements\"]\n",
    "        ar_s     = a.split(\"\\n\")\n",
    "        modes_al = ar_s[2:-1]\n",
    "\n",
    "        modes_al_c = []\n",
    "        for i in modes_al:\n",
    "            modes_al_c.append((\" \".join(i.split())).split())\n",
    "\n",
    "        num_modes = []\n",
    "        elements = []\n",
    "        for i in modes_al_c:\n",
    "            atom      = []\n",
    "            for k in range(1,4):\n",
    "                atom.append(float(i[k])) \n",
    "            elements.append(i[0])\n",
    "            num_modes.append(atom)\n",
    "\n",
    "        coordinates = []\n",
    "        for i in num_modes:\n",
    "            coordinates.append(tuple(i))\n",
    "        initial_coordinates = jnp.array(num_modes)\n",
    "#         print(initial_coordiantes)\n",
    "        \n",
    "\n",
    "        #### Final positions  \n",
    "        vib_modes_1 = []\n",
    "\n",
    "        for i in modes_al_c:\n",
    "            atom      = []\n",
    "            for k in range(4,7):\n",
    "                atom.append(float(i[k])) \n",
    "            vib_modes_1.append(atom)\n",
    "\n",
    "        coordinates_vib = []\n",
    "        for i in vib_modes_1:\n",
    "            coordinates_vib.append(tuple(i))\n",
    "        final_coordinates = jnp.array(vib_modes_1)\n",
    "#         print(final_coordinates)\n",
    "\n",
    "        # Compute 100 intermediate configurations using linear interpolation for each coordinate\n",
    "        num_interpolations = 100\n",
    "        interpolated_coordinates = interpolate_configurations((initial_coordinates)[None, :], (initial_coordinates+final_coordinates)[None, :], num_interpolations)\n",
    "\n",
    "        # Calculate the dipole moment magnitudes for each configuration\n",
    "        dipole_moment_magnitudes = vmap(calculate_dipole_moment, (0, None, None))(interpolated_coordinates, charges, masses)\n",
    "\n",
    "        # Print the list of dipole moment magnitudes\n",
    "        # print(dipole_moment_magnitudes)\n",
    "        news=[]\n",
    "        for i in dipole_moment_magnitudes:\n",
    "            news.append(float(jnp.linalg.norm(i)))\n",
    "        \n",
    "        plot(news, label=r\"$\\nu= {0} \\ cm-1$\".format(round(frequency[mode],2) ))\n",
    "        ylim(-0.01)\n",
    "        \n",
    "        legend()\n",
    "        μ_all.append(news)\n",
    "        \n",
    "    return μ_all,frequency\n",
    "    \n",
    "        "
   ]
  },
  {
   "cell_type": "code",
   "execution_count": 10,
   "id": "6a182b83",
   "metadata": {},
   "outputs": [
    {
     "name": "stdout",
     "output_type": "stream",
     "text": [
      "There are 4 normal modes\n",
      "['O', 'C', 'O']\n",
      "Tha charges are [-0.18646441  0.37292883 -0.18646441] with a mass of [15.999 12.011 15.999]\n"
     ]
    },
    {
     "data": {
      "text/plain": [
       "100"
      ]
     },
     "execution_count": 10,
     "metadata": {},
     "output_type": "execute_result"
    },
    {
     "data": {
      "image/png": "[encoded data removed]",
      "text/plain": [
       "<Figure size 640x480 with 1 Axes>"
      ]
     },
     "metadata": {},
     "output_type": "display_data"
    }
   ],
   "source": [
    "a,dipoles_f=dipole_moment_plot(\"O=C=O\", \"GFN2xTB\")\n",
    "len(a[0])"
   ]
  },
  {
   "cell_type": "code",
   "execution_count": 11,
   "id": "f228943f-6876-4c00-82a4-a3488d4a022a",
   "metadata": {},
   "outputs": [
    {
     "data": {
      "text/plain": [
       "[<matplotlib.lines.Line2D at 0x2a01a3180d0>]"
      ]
     },
     "execution_count": 11,
     "metadata": {},
     "output_type": "execute_result"
    },
    {
     "data": {
      "image/png": "[encoded data removed]",
      "text/plain": [
       "<Figure size 640x480 with 1 Axes>"
      ]
     },
     "metadata": {},
     "output_type": "display_data"
    }
   ],
   "source": [
    "plot(sort(a[1]))"
   ]
  },
  {
   "cell_type": "code",
   "execution_count": 68,
   "id": "e5b575d9",
   "metadata": {},
   "outputs": [
    {
     "name": "stdout",
     "output_type": "stream",
     "text": [
      "At frequency:  1385.56 the gradient is:  0.00368113864575901\n",
      "At frequency:  1385.64 the gradient is:  0.0036810848056543794\n",
      "At frequency:  1385.81 the gradient is:  0.003680979123729034\n",
      "At frequency:  1557.07 the gradient is:  3.3195411070627455e-06\n",
      "At frequency:  1557.26 the gradient is:  1.7263930331113392e-06\n",
      "At frequency:  3090.4 the gradient is:  4.399445757760931e-05\n",
      "At frequency:  3104.06 the gradient is:  0.002604043270445535\n",
      "At frequency:  3104.27 the gradient is:  0.002603844414257275\n",
      "At frequency:  3104.57 the gradient is:  0.0026037823788724215\n"
     ]
    }
   ],
   "source": [
    "for i,k in zip(a,dipoles_f):\n",
    "    b=linalg.norm(gradient(i))\n",
    "    print(\"At frequency: \",round(k,2) , \"the gradient is: \", b)\n",
    "    "
   ]
  },
  {
   "cell_type": "code",
   "execution_count": 63,
   "id": "6ba46a7d",
   "metadata": {},
   "outputs": [
    {
     "data": {
      "text/plain": [
       "[1385.5566382490101,\n",
       " 1385.6379675889434,\n",
       " 1385.8142669200954,\n",
       " 1557.0720125351288,\n",
       " 1557.2577898244222,\n",
       " 3090.403719172943,\n",
       " 3104.0599481213467,\n",
       " 3104.2663801977355,\n",
       " 3104.5681748616003]"
      ]
     },
     "execution_count": 63,
     "metadata": {},
     "output_type": "execute_result"
    }
   ],
   "source": [
    "dipoles_f"
   ]
  },
  {
   "cell_type": "code",
   "execution_count": null,
   "id": "153ae40a",
   "metadata": {},
   "outputs": [],
   "source": []
  },
  {
   "cell_type": "code",
   "execution_count": 48,
   "id": "fd8bfa5c",
   "metadata": {},
   "outputs": [
    {
     "data": {
      "text/plain": [
       "[0.23416703939437866,\n",
       " 0.23436009883880615,\n",
       " 0.23455312848091125,\n",
       " 0.23474615812301636,\n",
       " 0.23493918776512146,\n",
       " 0.23513224720954895,\n",
       " 0.23532529175281525,\n",
       " 0.23551830649375916,\n",
       " 0.23571136593818665,\n",
       " 0.23590439558029175,\n",
       " 0.23609744012355804,\n",
       " 0.23629048466682434,\n",
       " 0.23648351430892944,\n",
       " 0.23667654395103455,\n",
       " 0.23686958849430084,\n",
       " 0.23706264793872833,\n",
       " 0.23725569248199463,\n",
       " 0.23744872212409973,\n",
       " 0.23764175176620483,\n",
       " 0.23783479630947113,\n",
       " 0.23802784085273743,\n",
       " 0.23822087049484253,\n",
       " 0.23841391503810883,\n",
       " 0.23860694468021393,\n",
       " 0.23879998922348022,\n",
       " 0.23899303376674652,\n",
       " 0.23918607831001282,\n",
       " 0.23937910795211792,\n",
       " 0.23957213759422302,\n",
       " 0.2397651970386505,\n",
       " 0.23995821177959442,\n",
       " 0.24015125632286072,\n",
       " 0.2403443157672882,\n",
       " 0.2405373454093933,\n",
       " 0.2407303899526596,\n",
       " 0.2409234195947647,\n",
       " 0.2411164790391922,\n",
       " 0.2413095086812973,\n",
       " 0.2415025532245636,\n",
       " 0.2416955977678299,\n",
       " 0.241888627409935,\n",
       " 0.2420816719532013,\n",
       " 0.2422747164964676,\n",
       " 0.2424677461385727,\n",
       " 0.242660790681839,\n",
       " 0.24285383522510529,\n",
       " 0.24304687976837158,\n",
       " 0.24323990941047668,\n",
       " 0.24343295395374298,\n",
       " 0.2436259686946869,\n",
       " 0.24381902813911438,\n",
       " 0.24401205778121948,\n",
       " 0.24420510232448578,\n",
       " 0.24439813196659088,\n",
       " 0.24459117650985718,\n",
       " 0.24478422105312347,\n",
       " 0.24497723579406738,\n",
       " 0.24517028033733368,\n",
       " 0.24536335468292236,\n",
       " 0.24555636942386627,\n",
       " 0.24574941396713257,\n",
       " 0.24594244360923767,\n",
       " 0.24613550305366516,\n",
       " 0.24632853269577026,\n",
       " 0.24652157723903656,\n",
       " 0.24671460688114166,\n",
       " 0.24690766632556915,\n",
       " 0.24710069596767426,\n",
       " 0.24729372560977936,\n",
       " 0.24748675525188446,\n",
       " 0.24767981469631195,\n",
       " 0.24787284433841705,\n",
       " 0.24806588888168335,\n",
       " 0.24825891852378845,\n",
       " 0.24845194816589355,\n",
       " 0.24864500761032104,\n",
       " 0.24883805215358734,\n",
       " 0.24903106689453125,\n",
       " 0.24922412633895874,\n",
       " 0.24941714107990265,\n",
       " 0.24961020052433014,\n",
       " 0.24980325996875763,\n",
       " 0.24999625980854034,\n",
       " 0.25018930435180664,\n",
       " 0.25038236379623413,\n",
       " 0.2505754232406616,\n",
       " 0.25076842308044434,\n",
       " 0.25096145272254944,\n",
       " 0.2511545419692993,\n",
       " 0.2513475716114044,\n",
       " 0.2515406012535095,\n",
       " 0.2517336308956146,\n",
       " 0.2519266605377197,\n",
       " 0.2521197497844696,\n",
       " 0.2523127496242523,\n",
       " 0.2525057792663574,\n",
       " 0.2526988387107849,\n",
       " 0.25289186835289,\n",
       " 0.2530848979949951,\n",
       " 0.2532779574394226]"
      ]
     },
     "execution_count": 48,
     "metadata": {},
     "output_type": "execute_result"
    }
   ],
   "source": [
    "list(a[0])"
   ]
  },
  {
   "cell_type": "code",
   "execution_count": null,
   "id": "c9b85728",
   "metadata": {},
   "outputs": [],
   "source": []
  }
 ],
 "metadata": {
  "kernelspec": {
   "display_name": "Python 3 (ipykernel)",
   "language": "python",
   "name": "python3"
  },
  "language_info": {
   "codemirror_mode": {
    "name": "ipython",
    "version": 3
   },
   "file_extension": ".py",
   "mimetype": "text/x-python",
   "name": "python",
   "nbconvert_exporter": "python",
   "pygments_lexer": "ipython3",
   "version": "3.8.17"
  }
 },
 "nbformat": 4,
 "nbformat_minor": 5
}

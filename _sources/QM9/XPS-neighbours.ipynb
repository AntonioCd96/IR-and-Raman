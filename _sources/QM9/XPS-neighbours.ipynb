{
 "cells": [
  {
   "cell_type": "code",
   "execution_count": 15,
   "id": "4c9f803e-422a-4754-8524-93595df0ac07",
   "metadata": {},
   "outputs": [
    {
     "ename": "KeyboardInterrupt",
     "evalue": "",
     "output_type": "error",
     "traceback": [
      "\u001b[1;31m---------------------------------------------------------------------------\u001b[0m",
      "\u001b[1;31mKeyboardInterrupt\u001b[0m                         Traceback (most recent call last)",
      "Input \u001b[1;32mIn [15]\u001b[0m, in \u001b[0;36m<cell line: 21>\u001b[1;34m()\u001b[0m\n\u001b[0;32m     29\u001b[0m highlight_atoms \u001b[38;5;241m=\u001b[39m {atom_idx: (\u001b[38;5;241m0\u001b[39m, \u001b[38;5;241m1\u001b[39m, \u001b[38;5;241m0\u001b[39m) \u001b[38;5;28;01mfor\u001b[39;00m atom_idx \u001b[38;5;129;01min\u001b[39;00m bit_activated}\n\u001b[0;32m     31\u001b[0m img \u001b[38;5;241m=\u001b[39m Draw\u001b[38;5;241m.\u001b[39mMolToImage(mol_copy, size\u001b[38;5;241m=\u001b[39m(\u001b[38;5;241m300\u001b[39m, \u001b[38;5;241m300\u001b[39m), wedgeBonds\u001b[38;5;241m=\u001b[39m\u001b[38;5;28;01mTrue\u001b[39;00m, wedgeDashes\u001b[38;5;241m=\u001b[39m\u001b[38;5;28;01mTrue\u001b[39;00m,\n\u001b[0;32m     32\u001b[0m                       kekulize\u001b[38;5;241m=\u001b[39m\u001b[38;5;28;01mTrue\u001b[39;00m, wedgeWidth\u001b[38;5;241m=\u001b[39m\u001b[38;5;241m0.05\u001b[39m, wedgeBase\u001b[38;5;241m=\u001b[39m\u001b[38;5;241m0.1\u001b[39m, atomMargins\u001b[38;5;241m=\u001b[39m\u001b[38;5;241m0.05\u001b[39m,\n\u001b[0;32m     33\u001b[0m                       useSVG\u001b[38;5;241m=\u001b[39m\u001b[38;5;28;01mFalse\u001b[39;00m, wedgeLineWidth\u001b[38;5;241m=\u001b[39m\u001b[38;5;241m1\u001b[39m, highlights\u001b[38;5;241m=\u001b[39mhighlight_atoms)\n\u001b[1;32m---> 35\u001b[0m \u001b[43mimg\u001b[49m\u001b[38;5;241;43m.\u001b[39;49m\u001b[43mshow\u001b[49m\u001b[43m(\u001b[49m\u001b[43m)\u001b[49m\n",
      "File \u001b[1;32m~\\anaconda3\\lib\\site-packages\\PIL\\Image.py:2467\u001b[0m, in \u001b[0;36mImage.show\u001b[1;34m(self, title)\u001b[0m\n\u001b[0;32m   2447\u001b[0m \u001b[38;5;28;01mdef\u001b[39;00m \u001b[38;5;21mshow\u001b[39m(\u001b[38;5;28mself\u001b[39m, title\u001b[38;5;241m=\u001b[39m\u001b[38;5;28;01mNone\u001b[39;00m):\n\u001b[0;32m   2448\u001b[0m \u001b[38;5;250m    \u001b[39m\u001b[38;5;124;03m\"\"\"\u001b[39;00m\n\u001b[0;32m   2449\u001b[0m \u001b[38;5;124;03m    Displays this image. This method is mainly intended for debugging purposes.\u001b[39;00m\n\u001b[0;32m   2450\u001b[0m \n\u001b[1;32m   (...)\u001b[0m\n\u001b[0;32m   2464\u001b[0m \u001b[38;5;124;03m    :param title: Optional title to use for the image window, where possible.\u001b[39;00m\n\u001b[0;32m   2465\u001b[0m \u001b[38;5;124;03m    \"\"\"\u001b[39;00m\n\u001b[1;32m-> 2467\u001b[0m     \u001b[43m_show\u001b[49m\u001b[43m(\u001b[49m\u001b[38;5;28;43mself\u001b[39;49m\u001b[43m,\u001b[49m\u001b[43m \u001b[49m\u001b[43mtitle\u001b[49m\u001b[38;5;241;43m=\u001b[39;49m\u001b[43mtitle\u001b[49m\u001b[43m)\u001b[49m\n",
      "File \u001b[1;32m~\\anaconda3\\lib\\site-packages\\PIL\\Image.py:3506\u001b[0m, in \u001b[0;36m_show\u001b[1;34m(image, **options)\u001b[0m\n\u001b[0;32m   3503\u001b[0m \u001b[38;5;28;01mdef\u001b[39;00m \u001b[38;5;21m_show\u001b[39m(image, \u001b[38;5;241m*\u001b[39m\u001b[38;5;241m*\u001b[39moptions):\n\u001b[0;32m   3504\u001b[0m     \u001b[38;5;28;01mfrom\u001b[39;00m \u001b[38;5;21;01m.\u001b[39;00m \u001b[38;5;28;01mimport\u001b[39;00m ImageShow\n\u001b[1;32m-> 3506\u001b[0m     \u001b[43mImageShow\u001b[49m\u001b[38;5;241;43m.\u001b[39;49m\u001b[43mshow\u001b[49m\u001b[43m(\u001b[49m\u001b[43mimage\u001b[49m\u001b[43m,\u001b[49m\u001b[43m \u001b[49m\u001b[38;5;241;43m*\u001b[39;49m\u001b[38;5;241;43m*\u001b[39;49m\u001b[43moptions\u001b[49m\u001b[43m)\u001b[49m\n",
      "File \u001b[1;32m~\\anaconda3\\lib\\site-packages\\PIL\\ImageShow.py:60\u001b[0m, in \u001b[0;36mshow\u001b[1;34m(image, title, **options)\u001b[0m\n\u001b[0;32m     51\u001b[0m \u001b[38;5;250m\u001b[39m\u001b[38;5;124mr\u001b[39m\u001b[38;5;124;03m\"\"\"\u001b[39;00m\n\u001b[0;32m     52\u001b[0m \u001b[38;5;124;03mDisplay a given image.\u001b[39;00m\n\u001b[0;32m     53\u001b[0m \n\u001b[1;32m   (...)\u001b[0m\n\u001b[0;32m     57\u001b[0m \u001b[38;5;124;03m:returns: ``True`` if a suitable viewer was found, ``False`` otherwise.\u001b[39;00m\n\u001b[0;32m     58\u001b[0m \u001b[38;5;124;03m\"\"\"\u001b[39;00m\n\u001b[0;32m     59\u001b[0m \u001b[38;5;28;01mfor\u001b[39;00m viewer \u001b[38;5;129;01min\u001b[39;00m _viewers:\n\u001b[1;32m---> 60\u001b[0m     \u001b[38;5;28;01mif\u001b[39;00m \u001b[43mviewer\u001b[49m\u001b[38;5;241;43m.\u001b[39;49m\u001b[43mshow\u001b[49m\u001b[43m(\u001b[49m\u001b[43mimage\u001b[49m\u001b[43m,\u001b[49m\u001b[43m \u001b[49m\u001b[43mtitle\u001b[49m\u001b[38;5;241;43m=\u001b[39;49m\u001b[43mtitle\u001b[49m\u001b[43m,\u001b[49m\u001b[43m \u001b[49m\u001b[38;5;241;43m*\u001b[39;49m\u001b[38;5;241;43m*\u001b[39;49m\u001b[43moptions\u001b[49m\u001b[43m)\u001b[49m:\n\u001b[0;32m     61\u001b[0m         \u001b[38;5;28;01mreturn\u001b[39;00m \u001b[38;5;28;01mTrue\u001b[39;00m\n\u001b[0;32m     62\u001b[0m \u001b[38;5;28;01mreturn\u001b[39;00m \u001b[38;5;28;01mFalse\u001b[39;00m\n",
      "File \u001b[1;32m~\\anaconda3\\lib\\site-packages\\PIL\\ImageShow.py:84\u001b[0m, in \u001b[0;36mViewer.show\u001b[1;34m(self, image, **options)\u001b[0m\n\u001b[0;32m     81\u001b[0m     \u001b[38;5;28;01mif\u001b[39;00m image\u001b[38;5;241m.\u001b[39mmode \u001b[38;5;241m!=\u001b[39m base:\n\u001b[0;32m     82\u001b[0m         image \u001b[38;5;241m=\u001b[39m image\u001b[38;5;241m.\u001b[39mconvert(base)\n\u001b[1;32m---> 84\u001b[0m \u001b[38;5;28;01mreturn\u001b[39;00m \u001b[38;5;28;43mself\u001b[39;49m\u001b[38;5;241;43m.\u001b[39;49m\u001b[43mshow_image\u001b[49m\u001b[43m(\u001b[49m\u001b[43mimage\u001b[49m\u001b[43m,\u001b[49m\u001b[43m \u001b[49m\u001b[38;5;241;43m*\u001b[39;49m\u001b[38;5;241;43m*\u001b[39;49m\u001b[43moptions\u001b[49m\u001b[43m)\u001b[49m\n",
      "File \u001b[1;32m~\\anaconda3\\lib\\site-packages\\PIL\\ImageShow.py:110\u001b[0m, in \u001b[0;36mViewer.show_image\u001b[1;34m(self, image, **options)\u001b[0m\n\u001b[0;32m    108\u001b[0m \u001b[38;5;28;01mdef\u001b[39;00m \u001b[38;5;21mshow_image\u001b[39m(\u001b[38;5;28mself\u001b[39m, image, \u001b[38;5;241m*\u001b[39m\u001b[38;5;241m*\u001b[39moptions):\n\u001b[0;32m    109\u001b[0m \u001b[38;5;250m    \u001b[39m\u001b[38;5;124;03m\"\"\"Display the given image.\"\"\"\u001b[39;00m\n\u001b[1;32m--> 110\u001b[0m     \u001b[38;5;28;01mreturn\u001b[39;00m \u001b[38;5;28;43mself\u001b[39;49m\u001b[38;5;241;43m.\u001b[39;49m\u001b[43mshow_file\u001b[49m\u001b[43m(\u001b[49m\u001b[38;5;28;43mself\u001b[39;49m\u001b[38;5;241;43m.\u001b[39;49m\u001b[43msave_image\u001b[49m\u001b[43m(\u001b[49m\u001b[43mimage\u001b[49m\u001b[43m)\u001b[49m\u001b[43m,\u001b[49m\u001b[43m \u001b[49m\u001b[38;5;241;43m*\u001b[39;49m\u001b[38;5;241;43m*\u001b[39;49m\u001b[43moptions\u001b[49m\u001b[43m)\u001b[49m\n",
      "File \u001b[1;32m~\\anaconda3\\lib\\site-packages\\PIL\\ImageShow.py:116\u001b[0m, in \u001b[0;36mViewer.show_file\u001b[1;34m(self, path, **options)\u001b[0m\n\u001b[0;32m    112\u001b[0m \u001b[38;5;28;01mdef\u001b[39;00m \u001b[38;5;21mshow_file\u001b[39m(\u001b[38;5;28mself\u001b[39m, path, \u001b[38;5;241m*\u001b[39m\u001b[38;5;241m*\u001b[39moptions):\n\u001b[0;32m    113\u001b[0m \u001b[38;5;250m    \u001b[39m\u001b[38;5;124;03m\"\"\"\u001b[39;00m\n\u001b[0;32m    114\u001b[0m \u001b[38;5;124;03m    Display given file.\u001b[39;00m\n\u001b[0;32m    115\u001b[0m \u001b[38;5;124;03m    \"\"\"\u001b[39;00m\n\u001b[1;32m--> 116\u001b[0m     \u001b[43mos\u001b[49m\u001b[38;5;241;43m.\u001b[39;49m\u001b[43msystem\u001b[49m\u001b[43m(\u001b[49m\u001b[38;5;28;43mself\u001b[39;49m\u001b[38;5;241;43m.\u001b[39;49m\u001b[43mget_command\u001b[49m\u001b[43m(\u001b[49m\u001b[43mpath\u001b[49m\u001b[43m,\u001b[49m\u001b[43m \u001b[49m\u001b[38;5;241;43m*\u001b[39;49m\u001b[38;5;241;43m*\u001b[39;49m\u001b[43moptions\u001b[49m\u001b[43m)\u001b[49m\u001b[43m)\u001b[49m  \u001b[38;5;66;03m# nosec\u001b[39;00m\n\u001b[0;32m    117\u001b[0m     \u001b[38;5;28;01mreturn\u001b[39;00m \u001b[38;5;241m1\u001b[39m\n",
      "\u001b[1;31mKeyboardInterrupt\u001b[0m: "
     ]
    }
   ],
   "source": [
    "from rdkit import Chem\n",
    "from rdkit.Chem import AllChem, Draw\n",
    "\n",
    "# Your molecule (SMILES representation)\n",
    "smiles = 'CC(C)[C@@H](C)[C@@H](C)C=O'\n",
    "\n",
    "mol = Chem.MolFromSmiles(smiles)\n",
    "\n",
    "# Calculate the Morgan fingerprint for each atom using their two nearest neighbors\n",
    "radius = 2  # Set the radius to 2 for two nearest neighbors\n",
    "nBits = 2048  # You can adjust the number of bits as needed\n",
    "\n",
    "# Calculate the Morgan fingerprint for each atom\n",
    "atom_fps = {}\n",
    "for atom in mol.GetAtoms():\n",
    "    atom_idx = atom.GetIdx()\n",
    "    atom_neigh = AllChem.GetMorganFingerprintAsBitVect(mol, radius, fromAtoms=[atom_idx])\n",
    "    atom_fps[atom_idx] = atom_neigh\n",
    "\n",
    "# Create images for each bit that is set in the Morgan fingerprint\n",
    "for bit_idx in range(nBits):\n",
    "    bit_activated = [atom_idx for atom_idx, atom_fp in atom_fps.items() if atom_fp.GetBit(bit_idx)]\n",
    "    \n",
    "    if bit_activated:\n",
    "        # Create a copy of the molecule\n",
    "        mol_copy = Chem.Mol(mol)\n",
    "        \n",
    "        # Highlight the atoms for the current bit\n",
    "        highlight_atoms = {atom_idx: (0, 1, 0) for atom_idx in bit_activated}\n",
    "        \n",
    "        img = Draw.MolToImage(mol_copy, size=(300, 300), wedgeBonds=True, wedgeDashes=True,\n",
    "                              kekulize=True, wedgeWidth=0.05, wedgeBase=0.1, atomMargins=0.05,\n",
    "                              useSVG=False, wedgeLineWidth=1, highlights=highlight_atoms)\n",
    "        \n",
    "        img.show()\n",
    "\n"
   ]
  },
  {
   "cell_type": "code",
   "execution_count": 16,
   "id": "1c803f43-6d99-4b2b-8917-d8d98b552c90",
   "metadata": {},
   "outputs": [
    {
     "data": {
      "text/plain": [
       "{0: <rdkit.DataStructs.cDataStructs.ExplicitBitVect at 0x177bc2b4820>,\n",
       " 1: <rdkit.DataStructs.cDataStructs.ExplicitBitVect at 0x177bc708e40>,\n",
       " 2: <rdkit.DataStructs.cDataStructs.ExplicitBitVect at 0x177bc3a9270>,\n",
       " 3: <rdkit.DataStructs.cDataStructs.ExplicitBitVect at 0x177bc708350>,\n",
       " 4: <rdkit.DataStructs.cDataStructs.ExplicitBitVect at 0x177bcda8120>,\n",
       " 5: <rdkit.DataStructs.cDataStructs.ExplicitBitVect at 0x177bcda8190>,\n",
       " 6: <rdkit.DataStructs.cDataStructs.ExplicitBitVect at 0x177bcda83c0>,\n",
       " 7: <rdkit.DataStructs.cDataStructs.ExplicitBitVect at 0x177bcda8430>,\n",
       " 8: <rdkit.DataStructs.cDataStructs.ExplicitBitVect at 0x177bcda84a0>}"
      ]
     },
     "execution_count": 16,
     "metadata": {},
     "output_type": "execute_result"
    }
   ],
   "source": [
    "atom_fps"
   ]
  },
  {
   "cell_type": "code",
   "execution_count": 13,
   "id": "8780161a-d85f-4773-9b22-c20e1cfb7acc",
   "metadata": {},
   "outputs": [
    {
     "data": {
      "text/plain": [
       "[7]"
      ]
     },
     "execution_count": 13,
     "metadata": {},
     "output_type": "execute_result"
    }
   ],
   "source": [
    "bit_activated"
   ]
  },
  {
   "cell_type": "code",
   "execution_count": 8,
   "id": "c9639317-f7e9-4561-8ded-490b7ce46bc1",
   "metadata": {},
   "outputs": [
    {
     "data": {
      "text/plain": [
       "<rdkit.DataStructs.cDataStructs.ExplicitBitVect at 0x177bc2efd60>"
      ]
     },
     "execution_count": 8,
     "metadata": {},
     "output_type": "execute_result"
    }
   ],
   "source": [
    "#Draw all bits\n",
    "tpls = [(mol,x,biAll) for x in fpAll.GetOnBits()]\n",
    "Draw.DrawMorganBits(tpls[:100],molsPerRow=4,legends=[str(x) for x in fpAll.GetOnBits()][:100])"
   ]
  },
  {
   "cell_type": "code",
   "execution_count": null,
   "id": "2f36064c-e896-41d8-b86b-f9eee87605a9",
   "metadata": {},
   "outputs": [],
   "source": []
  },
  {
   "cell_type": "code",
   "execution_count": 5,
   "id": "f56ba9fa-2834-4e76-bf25-ab8c8008b6e6",
   "metadata": {},
   "outputs": [
    {
     "data": {
      "text/plain": [
       "{0: <rdkit.DataStructs.cDataStructs.ExplicitBitVect at 0x177bc2b4970>,\n",
       " 1: <rdkit.DataStructs.cDataStructs.ExplicitBitVect at 0x177bc2b4890>,\n",
       " 2: <rdkit.DataStructs.cDataStructs.ExplicitBitVect at 0x177bc2b46d0>,\n",
       " 3: <rdkit.DataStructs.cDataStructs.ExplicitBitVect at 0x177bc2b4900>,\n",
       " 4: <rdkit.DataStructs.cDataStructs.ExplicitBitVect at 0x177bc2b4ba0>,\n",
       " 5: <rdkit.DataStructs.cDataStructs.ExplicitBitVect at 0x177bc2b47b0>,\n",
       " 6: <rdkit.DataStructs.cDataStructs.ExplicitBitVect at 0x177bc2efba0>,\n",
       " 7: <rdkit.DataStructs.cDataStructs.ExplicitBitVect at 0x177bc2eff20>,\n",
       " 8: <rdkit.DataStructs.cDataStructs.ExplicitBitVect at 0x177bc2efd60>}"
      ]
     },
     "execution_count": 5,
     "metadata": {},
     "output_type": "execute_result"
    }
   ],
   "source": [
    "atom_fps"
   ]
  },
  {
   "cell_type": "code",
   "execution_count": null,
   "id": "6e878681-73f4-4f49-a38a-4fc897622d4f",
   "metadata": {},
   "outputs": [],
   "source": []
  }
 ],
 "metadata": {
  "kernelspec": {
   "display_name": "Python 3 (ipykernel)",
   "language": "python",
   "name": "python3"
  },
  "language_info": {
   "codemirror_mode": {
    "name": "ipython",
    "version": 3
   },
   "file_extension": ".py",
   "mimetype": "text/x-python",
   "name": "python",
   "nbconvert_exporter": "python",
   "pygments_lexer": "ipython3",
   "version": "3.8.17"
  }
 },
 "nbformat": 4,
 "nbformat_minor": 5
}

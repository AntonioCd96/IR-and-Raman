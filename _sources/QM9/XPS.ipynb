{
 "cells": [
  {
   "cell_type": "code",
   "execution_count": 2,
   "id": "04ca6546-fd93-423b-a9b5-764b43d43ec1",
   "metadata": {},
   "outputs": [],
   "source": [
    "from pylab import *\n",
    "import pandas as pd\n",
    "import re\n",
    "import json\n",
    "from rdkit import Chem\n",
    "from rdkit.Chem import AllChem\n",
    "from rdkit.Chem import Draw\n",
    "from rdkit.Chem import rdDetermineBonds"
   ]
  },
  {
   "cell_type": "code",
   "execution_count": 3,
   "id": "8b847ae3-4baf-45df-9332-f2a57c895bfd",
   "metadata": {},
   "outputs": [
    {
     "name": "stdout",
     "output_type": "stream",
     "text": [
      "Data extracted and saved as 'output.json'\n"
     ]
    }
   ],
   "source": [
    "# Initialize variables\n",
    "molecules = []\n",
    "current_molecule = None\n",
    "\n",
    "# Read the XYZ archive\n",
    "with open('all_QM9.xyz', 'r') as xyz_file:\n",
    "    for line in xyz_file:\n",
    "        line = line.strip()\n",
    "        if line.isdigit():\n",
    "            # A new molecule is starting\n",
    "            if current_molecule:\n",
    "                molecules.append(current_molecule)\n",
    "            current_molecule = {'atoms': []}\n",
    "        elif line and current_molecule:\n",
    "            # Parse lines with atomic information\n",
    "            parts = line.split()\n",
    "            atom_info = {\n",
    "                'element': parts[0],\n",
    "                'coordinates': [float(parts[1]),float(parts[2]),float(parts[3])],\n",
    "                \"GW_charged\":  (parts[4]),\n",
    "                \"dKS_charged\": (parts[5]),\n",
    "                \"dKS_neutral\": (parts[6])\n",
    "            }\n",
    "            current_molecule['atoms'].append(atom_info)\n",
    "# Add the last molecule\n",
    "if current_molecule:\n",
    "    molecules.append(current_molecule)\n",
    "\n",
    "# Save the extracted data as a JSON file\n",
    "with open('output.json', 'w') as json_file:\n",
    "    json.dump(molecules, json_file, indent=2)\n",
    "\n",
    "print(\"Data extracted and saved as 'output.json'\")\n"
   ]
  },
  {
   "cell_type": "code",
   "execution_count": 4,
   "id": "e6947046-b215-4c16-a528-7356cb383957",
   "metadata": {},
   "outputs": [],
   "source": [
    "\n",
    " \n",
    "# Opening JSON file\n",
    "f = open('output.json')\n",
    " \n",
    "# returns JSON object as \n",
    "# a dictionary\n",
    "data = json.load(f)\n"
   ]
  },
  {
   "cell_type": "code",
   "execution_count": 5,
   "id": "27633ccd-d042-46ec-8f0f-f2fcbd979217",
   "metadata": {},
   "outputs": [],
   "source": [
    "db_smiles = []\n",
    "for i in range(0,len(data)):\n",
    "    data_2= data[i][\"atoms\"]\n",
    "    # print(data_2)\n",
    "    # Define the file path where you want to save the XYZ file\n",
    "    xyz_file_path = 'output.xyz'\n",
    "    \n",
    "    with open(xyz_file_path, 'w') as xyz_file:\n",
    "        # Write the number of atoms\n",
    "        xyz_file.write(str(len(data_2)-1) + '\\n')\n",
    "        \n",
    "        # Write a comment line (can be left empty)\n",
    "        # xyz_file.write('This is a comment line\\n')\n",
    "        \n",
    "        # Write atom information for each entry in the data list\n",
    "        for entry in data_2:\n",
    "            # print(entry)\n",
    "            element = entry['element']\n",
    "            coordinates = entry['coordinates']\n",
    "            \n",
    "            # Write the element and coordinates\n",
    "            xyz_file.write(f\"{element} {' '.join(map(str, coordinates))}\\n\")\n",
    "        \n",
    "    raw_mol = Chem.MolFromXYZFile('output.xyz')\n",
    "    mol = Chem.Mol(raw_mol)\n",
    "    \n",
    "    rdDetermineBonds.DetermineBonds(mol,charge=0)\n",
    "    smiles = Chem.MolToSmiles(mol, allHsExplicit=True,canonical=True)\n",
    "    \n",
    "    m = Chem.MolFromSmiles(smiles)\n",
    "    smiles_r = Chem.MolToSmiles(m, canonical=True)\n",
    "    db_smiles.append(smiles_r)\n"
   ]
  },
  {
   "cell_type": "code",
   "execution_count": 6,
   "id": "d63044a8-b1a9-4b4d-9c0b-cfc6325a7ad2",
   "metadata": {},
   "outputs": [
    {
     "data": {
      "text/plain": [
       "2089"
      ]
     },
     "execution_count": 6,
     "metadata": {},
     "output_type": "execute_result"
    }
   ],
   "source": [
    "len(data)"
   ]
  },
  {
   "cell_type": "code",
   "execution_count": null,
   "id": "8eba9e28-d7af-4740-aca7-534ced448c13",
   "metadata": {},
   "outputs": [],
   "source": []
  },
  {
   "cell_type": "code",
   "execution_count": 7,
   "id": "378842ac-bfae-4116-adb2-5dcffac25ace",
   "metadata": {},
   "outputs": [
    {
     "name": "stdout",
     "output_type": "stream",
     "text": [
      "Data extracted and saved as 'output.json'\n"
     ]
    }
   ],
   "source": [
    "# Define a list of SMILES for labeling\n",
    "db_smiles = db_smiles\n",
    "\n",
    "# Initialize variables\n",
    "molecules = []\n",
    "current_molecule = None\n",
    "\n",
    "# Read the XYZ archive\n",
    "i=0\n",
    "with open('all_QM9.xyz', 'r') as xyz_file:\n",
    "    for line in xyz_file:\n",
    "        line = line.strip()\n",
    "        if line.isdigit():\n",
    "            # A new molecule is starting\n",
    "            i+=1\n",
    "            if current_molecule:\n",
    "                molecules.append(current_molecule)\n",
    "            current_molecule = {'atoms': [], 'label': db_smiles[i-1]}  # Include 'label' key\n",
    "        elif line and current_molecule:\n",
    "            # Parse lines with atomic information\n",
    "            parts = line.split()\n",
    "            atom_info = {\n",
    "                'element': parts[0],\n",
    "                'coordinates': [float(parts[1]), float(parts[2]), float(parts[3])],\n",
    "                \"GW_charged\": parts[4],\n",
    "                \"dKS_charged\": parts[5],\n",
    "                \"dKS_neutral\": parts[6]\n",
    "            }\n",
    "            current_molecule['atoms'].append(atom_info)\n",
    "\n",
    "# Add the last molecule\n",
    "if current_molecule:\n",
    "    molecules.append(current_molecule)\n",
    "\n",
    "# Save the extracted data as a JSON file\n",
    "with open('output.json', 'w') as json_file:\n",
    "    json.dump(molecules, json_file, indent=2)\n",
    "\n",
    "print(\"Data extracted and saved as 'output.json'\")"
   ]
  },
  {
   "cell_type": "code",
   "execution_count": 11,
   "id": "f444b641-5037-4bd1-a656-8dff9b2a9d0f",
   "metadata": {},
   "outputs": [
    {
     "name": "stdout",
     "output_type": "stream",
     "text": [
      "Molecule Information:\n",
      "SMILES: C[C@@H](CO)c1ccco1\n",
      "Coordinates:\n",
      "Lattice=\"14.90608069: [0.0, 0.0, 0.0]\n",
      "C: [7.46490198, 8.17632178, 8.8730463]\n",
      "C: [7.46857499, 6.63858743, 8.84806035]\n",
      "C: [6.04554372, 6.06003798, 8.86425289]\n",
      "O: [5.41834643, 6.4547918, 10.08959729]\n",
      "C: [8.24410827, 6.0841779, 7.69881192]\n",
      "C: [9.33338503, 5.26161322, 7.60942939]\n",
      "C: [9.61098423, 5.08675432, 6.21517742]\n",
      "C: [8.67086013, 5.81351132, 5.54802639]\n",
      "O: [7.82779982, 6.42877457, 6.43259124]\n",
      "H: [8.4892235, 8.56545865, 8.93486985]\n",
      "H: [7.00304507, 8.58070314, 7.96201308]\n",
      "H: [6.89759286, 8.54032656, 9.73772115]\n",
      "H: [7.96849225, 6.27137893, 9.75873449]\n",
      "H: [5.48287931, 6.43747986, 7.99160224]\n",
      "H: [6.10204527, 4.95993896, 8.78586847]\n",
      "H: [4.5, 6.14898421, 10.07161899]\n",
      "H: [9.875159, 4.83301175, 8.44556007]\n",
      "H: [10.40608069, 4.5, 5.76898044]\n",
      "H: [8.46733704, 5.99521155, 4.5]\n"
     ]
    }
   ],
   "source": [
    "# Load the JSON data into a dictionary\n",
    "with open('output.json', 'r') as json_file:\n",
    "    data = json.load(json_file)\n",
    "\n",
    "# Create a dictionary where SMILES codes are keys\n",
    "smiles_data = {entry['label']: entry for entry in data}\n",
    "\n",
    "# Input a SMILES code to look up information\n",
    "input_smiles = \"C[C@@H](CO)c1ccco1\"  # Replace with the SMILES code you want to look up\n",
    "\n",
    "if input_smiles in smiles_data:\n",
    "    molecule_info = smiles_data[input_smiles]\n",
    "    print(\"Molecule Information:\")\n",
    "    print(f\"SMILES: {input_smiles}\")\n",
    "    print(\"Coordinates:\")\n",
    "    for atom in molecule_info['atoms']:\n",
    "        print(f\"{atom['element']}: {atom['coordinates']}\")\n",
    "    # You can access other properties like 'GW_charged', 'dKS_charged', and 'dKS_neutral' as well.\n",
    "else:\n",
    "    print(f\"SMILES code '{input_smiles}' not found in the dataset.\")"
   ]
  },
  {
   "cell_type": "code",
   "execution_count": 34,
   "id": "124c36cf-36a5-40ca-b816-2e968b0d136d",
   "metadata": {},
   "outputs": [
    {
     "data": {
      "text/plain": [
       "{'element': 'C',\n",
       " 'coordinates': [5.51553057, 7.41829008, 5.69850831],\n",
       " 'GW_charged': '290.64880000',\n",
       " 'dKS_charged': '293.32100000',\n",
       " 'dKS_neutral': '286.16000000'}"
      ]
     },
     "execution_count": 34,
     "metadata": {},
     "output_type": "execute_result"
    }
   ],
   "source": [
    "molecule -> \n",
    "Fragments (MF)-> smiles_fragments \n",
    "\n",
    "list = [smiles_fragments,2,4,5]\n",
    "\n",
    "smiles_data[\"CCO\"][\"atoms\"][1]\n",
    "\n",
    "List_2 = "
   ]
  },
  {
   "cell_type": "code",
   "execution_count": null,
   "id": "41695dd6-a8f2-4777-9fe2-b964c2884932",
   "metadata": {},
   "outputs": [],
   "source": [
    "# smiles_data is dic where you can input the smiles, and you'll obtain all the information of the molecule. \n"
   ]
  },
  {
   "cell_type": "code",
   "execution_count": 7,
   "id": "f0c267a0-2b15-4f4f-8be0-d2aea866d790",
   "metadata": {},
   "outputs": [
    {
     "ename": "AttributeError",
     "evalue": "module 'rdkit.Chem.AllChem' has no attribute 'GetMorganGenerator'",
     "output_type": "error",
     "traceback": [
      "\u001b[1;31m---------------------------------------------------------------------------\u001b[0m",
      "\u001b[1;31mAttributeError\u001b[0m                            Traceback (most recent call last)",
      "Input \u001b[1;32mIn [7]\u001b[0m, in \u001b[0;36m<cell line: 2>\u001b[1;34m()\u001b[0m\n\u001b[0;32m      1\u001b[0m \u001b[38;5;28;01mfrom\u001b[39;00m \u001b[38;5;21;01mrdkit\u001b[39;00m\u001b[38;5;21;01m.\u001b[39;00m\u001b[38;5;21;01mChem\u001b[39;00m \u001b[38;5;28;01mimport\u001b[39;00m AllChem\n\u001b[1;32m----> 2\u001b[0m fpgen \u001b[38;5;241m=\u001b[39m \u001b[43mAllChem\u001b[49m\u001b[38;5;241;43m.\u001b[39;49m\u001b[43mGetMorganGenerator\u001b[49m(radius\u001b[38;5;241m=\u001b[39m\u001b[38;5;241m2\u001b[39m)\n\u001b[0;32m      3\u001b[0m m1 \u001b[38;5;241m=\u001b[39m Chem\u001b[38;5;241m.\u001b[39mMolFromSmiles(\u001b[38;5;124m'\u001b[39m\u001b[38;5;124mCc1ccccc1\u001b[39m\u001b[38;5;124m'\u001b[39m)\n\u001b[0;32m      4\u001b[0m fp1 \u001b[38;5;241m=\u001b[39m fpgen\u001b[38;5;241m.\u001b[39mGetSparseCountFingerprint(m1)\n",
      "\u001b[1;31mAttributeError\u001b[0m: module 'rdkit.Chem.AllChem' has no attribute 'GetMorganGenerator'"
     ]
    }
   ],
   "source": [
    "from rdkit.Chem import AllChem\n",
    "fpgen = AllChem.GetMorganGenerator(radius=2)\n",
    "m1 = Chem.MolFromSmiles('Cc1ccccc1')\n",
    "fp1 = fpgen.GetSparseCountFingerprint(m1)\n",
    "fp1"
   ]
  },
  {
   "cell_type": "code",
   "execution_count": null,
   "id": "38ea25a5-a92f-4cbc-84b5-c8607d56c809",
   "metadata": {},
   "outputs": [],
   "source": []
  },
  {
   "cell_type": "code",
   "execution_count": null,
   "id": "1077f36a-54fd-4ffe-a9dd-29a000ce7998",
   "metadata": {},
   "outputs": [],
   "source": []
  },
  {
   "cell_type": "markdown",
   "id": "36274cc5-4d37-4664-bb4c-5bbd07114a6a",
   "metadata": {},
   "source": [
    "# Mounir program"
   ]
  },
  {
   "cell_type": "code",
   "execution_count": null,
   "id": "76ad0e26-481a-4e51-8864-4f61f23c5586",
   "metadata": {},
   "outputs": [],
   "source": []
  },
  {
   "cell_type": "code",
   "execution_count": null,
   "id": "b7732170-498e-43f8-bfdf-5728f1202d5c",
   "metadata": {},
   "outputs": [],
   "source": [
    "#Function that decomposes and returns constitutive fragments around every single atoms of mol, wizth a cutoff of radius\n",
    "def getSubmolRadN(mol, radius):\n",
    "    atoms=mol.GetAtoms()\n",
    "    submols=[]\n",
    "    for atom in atoms:\n",
    "        env=Chem.FindAtomEnvironmentOfRadiusN(mol, radius, atom.GetIdx())\n",
    "        amap={}\n",
    "        submol=Chem.PathToSubmol(mol, env, atomMap=amap)\n",
    "        subsmi=Chem.MolToSmiles(submol, rootedAtAtom=amap[atom.GetIdx()], canonical=False)\n",
    "        submols.append(Chem.MolFromSmiles(subsmi, sanitize=False))\n",
    "    return submols\n",
    "\n",
    "#get the bits of the fingerprint\n",
    "MFPRadius = 3\n",
    "biAll = {}\n",
    "fpAll = rdMolDescriptors.GetMorganFingerprintAsBitVect(mol, radius = MFPRadius, bitInfo = biAll)\n",
    "# show 10 of the set bits:\n",
    "listAll = list(fpAll.GetOnBits())\n",
    "biRestricted = {}\n",
    "fpRestricted = rdMolDescriptors.GetMorganFingerprintAsBitVect(mol, radius = MFPRadius - 1 , bitInfo = biRestricted)\n",
    "listRestricted = list(fpRestricted.GetOnBits())\n",
    "listReduced = np.setdiff1d(listAll, listRestricted)\n",
    "print(listReduced)\n",
    "\n",
    "#Draw all bits\n",
    "tpls = [(mol,x,biAll) for x in fpAll.GetOnBits()]\n",
    "Draw.DrawMorganBits(tpls[:100],molsPerRow=4,legends=[str(x) for x in fpAll.GetOnBits()][:100])\n",
    "10:12\n",
    "#Draw reduced bits, i.e., only the ones with have a radiuus == set Radius\n",
    "#WARNING: the number of bits might be smaller than the number of atoms. This is usefull only to get the binding energy of a given bit.\n",
    "tpls = [(mol,x,biAll) for x in listReduced]\n",
    "Draw.DrawMorganBits(tpls[:100],molsPerRow=4,legends=[str(x) for x in listReduced][:100])"
   ]
  },
  {
   "cell_type": "code",
   "execution_count": null,
   "id": "a65a38fe-3d40-4322-8a26-1557ede3c15a",
   "metadata": {},
   "outputs": [],
   "source": []
  }
 ],
 "metadata": {
  "kernelspec": {
   "display_name": "Python 3 (ipykernel)",
   "language": "python",
   "name": "python3"
  },
  "language_info": {
   "codemirror_mode": {
    "name": "ipython",
    "version": 3
   },
   "file_extension": ".py",
   "mimetype": "text/x-python",
   "name": "python",
   "nbconvert_exporter": "python",
   "pygments_lexer": "ipython3",
   "version": "3.8.17"
  }
 },
 "nbformat": 4,
 "nbformat_minor": 5
}

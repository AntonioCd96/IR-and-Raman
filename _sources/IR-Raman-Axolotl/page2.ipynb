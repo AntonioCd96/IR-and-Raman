{
 "cells": [
  {
   "cell_type": "markdown",
   "id": "69bac28e",
   "metadata": {},
   "source": [
    "# Calculate your own IR and Raman Spectra\n",
    "\n",
    "The following code is aimed to help you to obtain theoretical spectra of IR and Raman using the web service: xTB [https://ir.cheminfo.org/api/v1/docs#/default/get_ir_spectrum_ir_get] [1]. As you will see, it uses three different theoretical methods GFN2xTB, GFN1xTB and GFNFF.The way you can use the following code is by executing th following cells. BEfore starting make sure you have the SMILES code of the molecule you are going to simulate. \n",
    "\n",
    "If you do not have the smiles code, you can draw your molecule in the following page to obtain it:[https://www.cheminfo.org/flavor/malaria/Utilities/SMILES_generator___checker/index.html]\n",
    "\n",
    "---\n",
    "\n",
    "<sup> Source: J. Chem. Educ. 2022, 99, 2, 561–569 </sup>\n",
    "More info abouth this project: cesar.donezmiranda@epfl.ch"
   ]
  },
  {
   "cell_type": "code",
   "execution_count": null,
   "id": "09087fcb",
   "metadata": {},
   "outputs": [],
   "source": [
    "pip install rdkit"
   ]
  },
  {
   "cell_type": "code",
   "execution_count": null,
   "id": "e8fc583f-90b1-43be-bcf1-90b704bb96e5",
   "metadata": {},
   "outputs": [],
   "source": [
    "pip install kallisto"
   ]
  },
  {
   "cell_type": "code",
   "execution_count": null,
   "id": "c4545e60-934d-4a67-84fe-200dec755a67",
   "metadata": {},
   "outputs": [],
   "source": [
    "pip install py3Dmol"
   ]
  },
  {
   "cell_type": "code",
   "execution_count": null,
   "id": "5c18556a-d4c2-4501-b88d-d422e6d2ae3e",
   "metadata": {},
   "outputs": [],
   "source": [
    "pip install --upgrade \"jax[cpu]\""
   ]
  },
  {
   "cell_type": "code",
   "execution_count": 1,
   "id": "3efcedbd",
   "metadata": {},
   "outputs": [],
   "source": [
    "from axolotl_1 import IR_xTB, Animator_data, IR_axo\n",
    "from pylab import *\n",
    "import pandas as pd\n",
    "import time"
   ]
  },
  {
   "cell_type": "markdown",
   "id": "5613403f",
   "metadata": {},
   "source": [
    "# Obtain your own theoretical expectra\n",
    "\n",
    "By executing the following code you will be able to obtain your own spectra, you only need:\n",
    "\n",
    "* The smiles code of the molecule of your interest\n",
    "* The method you want to use to calculate the theoretical spectra\n",
    "* How much you want to broaden the peaks of the theoretical bands"
   ]
  },
  {
   "cell_type": "code",
   "execution_count": 2,
   "id": "8e221485",
   "metadata": {},
   "outputs": [
    {
     "name": "stdin",
     "output_type": "stream",
     "text": [
      "please introduce the smiles code:  C\n",
      "please introduce the method (GFN2xTB, GFN1xTB, GFNFF):  GFN2xTB\n",
      "please introduce how much you want to broad the theoretical bands (a number between σ=[20,100]):  20\n",
      "please introduce how much you want to broad the Raman theoretical bands (a number between σ=[20,100]):  10\n"
     ]
    },
    {
     "name": "stderr",
     "output_type": "stream",
     "text": [
      "WARNING:absl:No GPU/TPU found, falling back to CPU. (Set TF_CPP_MIN_LOG_LEVEL=0 and rerun for more info.)\n"
     ]
    },
    {
     "name": "stdout",
     "output_type": "stream",
     "text": [
      "<Response [200]>\n",
      "There are 9 normal modes\n",
      "['C', 'H', 'H', 'H', 'H']\n",
      "Tha charges are [-0.07755789  0.01938947  0.01938947  0.01938947  0.01938947] with a mass of [12.011  1.008  1.008  1.008  1.008]\n"
     ]
    },
    {
     "data": {
      "application/vnd.jupyter.widget-view+json": {
       "model_id": "95ef17d55d3441a69685f6328d04971e",
       "version_major": 2,
       "version_minor": 0
      },
      "text/plain": [
       "interactive(children=(Dropdown(description='Normal mode:', options=((1385.56, 0), (1385.64, 1), (1385.81, 2), …"
      ]
     },
     "metadata": {},
     "output_type": "display_data"
    },
    {
     "name": "stdout",
     "output_type": "stream",
     "text": [
      "142.7507688999176\n"
     ]
    },
    {
     "data": {
      "text/plain": [
       "<Figure size 640x480 with 0 Axes>"
      ]
     },
     "metadata": {},
     "output_type": "display_data"
    }
   ],
   "source": [
    "start = time.time()\n",
    "\n",
    "plt.rcParams.update({'font.size': 14})\n",
    "smiles_code        = input(\"please introduce the smiles code: \")\n",
    "method             = input(\"please introduce the method (GFN2xTB, GFN1xTB, GFNFF): \")\n",
    "sigma              = int(input(\"please introduce how much you want to broad the theoretical bands (a number between σ=[20,100]): \"))\n",
    "sigma_raman        = int(input(\"please introduce how much you want to broad the Raman theoretical bands (a number between σ=[20,100]): \"))\n",
    "\n",
    "wavenumbers        = linspace(0,4000,10001)\n",
    "Compound_wn,Compound_int   = wavenumbers, IR_xTB(smiles_code,method,sigma, sigma_raman) \n",
    "μ_all= Compound_int[4]\n",
    "all_pol_mode = Compound_int[5]\n",
    "Animator_data(smiles_code,method)\n",
    "filename           = 'readme.txt'\n",
    "\n",
    "data = {'wavenumber [1/cm]': Compound_wn,\n",
    "       'intensity IR':0.5*array(Compound_int[1])+0.5,\n",
    "       'intensity Raman':0.5*array(Compound_int[2])}\n",
    "df = pd.DataFrame.from_dict(data)\n",
    "excel= df.to_excel('Info_Spectroscopy_IR_Raman_{0}_{1}.xlsx'.format(smiles_code, method))\n",
    "\n",
    "IR_axo( filename,Compound_wn, Compound_int,smiles_code, method, sigma, sigma_raman,μ_all, all_pol_mode )\n",
    "plt.savefig(\"IR_Raman_TheoreticalSpectra_{0}_{1}.png\".format(method, smiles_code))\n",
    "\n",
    "end = time.time()\n",
    "print(end - start)"
   ]
  },
  {
   "cell_type": "markdown",
   "id": "b3ce92ea",
   "metadata": {},
   "source": [
    "# Cellphone environment\n",
    "\n",
    "NOTE: The clauses after the symbol # are instructions. See the last cell to execute and get the spectra of your molecule \n",
    "\n",
    "Populate the following variables as follows:\n",
    "```python \n",
    "\n",
    "\n",
    "smiles             = \"CCCO\" # STRING\n",
    "method             = \"GFN2xTB\"  # STRING #\"please introduce the method (GFN2xTB, GFN1xTB, GFNFF)\n",
    "sigma              = 20 # INTEGER  #\"please introduce how much you want to broad the IR theoretical bands (a number between σ=[20,100])\n",
    "sigma_raman        =  20 # INTEGER  #\"please introduce how much you want to broad the Raman theoretical bands (a number between σ=[20,100])\n",
    "```\n"
   ]
  },
  {
   "cell_type": "code",
   "execution_count": 3,
   "id": "f4ae8752",
   "metadata": {},
   "outputs": [
    {
     "data": {
      "application/vnd.jupyter.widget-view+json": {
       "model_id": "d42374ef9c664e82a9e620d610421af3",
       "version_major": 2,
       "version_minor": 0
      },
      "text/plain": [
       "interactive(children=(Dropdown(description='Normal mode:', options=((368.43, 0), (368.43, 1), (578.89, 2), (57…"
      ]
     },
     "metadata": {},
     "output_type": "display_data"
    },
    {
     "name": "stdout",
     "output_type": "stream",
     "text": [
      "8.423604011535645\n"
     ]
    }
   ],
   "source": [
    "start = time.time()\n",
    "\n",
    "smiles_code        = \"c1ccccc1\"\n",
    "method             = \"GFN2xTB\"\n",
    "sigma              = 20\n",
    "sigma_raman        = 50\n",
    "\n",
    "### DO NOT MOVE\n",
    "wavenumbers        = linspace(0,4000,10001)\n",
    "Compound_wn,Compound_int   = wavenumbers, IR_xTB(smiles_code,method,sigma, sigma_raman) \n",
    "μ_all= Compound_int[4]\n",
    "all_pol_mode = Compound_int[5]\n",
    "Animator_data(smiles_code,method)\n",
    "filename           = 'readme.txt'\n",
    "\n",
    "data = {'wavenumber [1/cm]': Compound_wn,\n",
    "       'intensity IR':0.5*array(Compound_int[1])+0.5,\n",
    "       'intensity Raman':0.5*array(Compound_int[2])}\n",
    "df = pd.DataFrame.from_dict(data)\n",
    "excel= df.to_excel('Info_Spectroscopy_IR_Raman_{0}_{1}.xlsx'.format(smiles_code, method))\n",
    "\n",
    "IR_axo( filename,Compound_wn, Compound_int,smiles_code, method, sigma, sigma_raman,μ_all, all_pol_mode )\n",
    "end = time.time()\n",
    "print(end - start)"
   ]
  },
  {
   "cell_type": "code",
   "execution_count": null,
   "id": "f3300e4d",
   "metadata": {},
   "outputs": [],
   "source": [
    "\n"
   ]
  },
  {
   "cell_type": "code",
   "execution_count": null,
   "id": "d7c3d6ff",
   "metadata": {},
   "outputs": [],
   "source": []
  }
 ],
 "metadata": {
  "kernelspec": {
   "display_name": "Python 3 (ipykernel)",
   "language": "python",
   "name": "python3"
  },
  "language_info": {
   "codemirror_mode": {
    "name": "ipython",
    "version": 3
   },
   "file_extension": ".py",
   "mimetype": "text/x-python",
   "name": "python",
   "nbconvert_exporter": "python",
   "pygments_lexer": "ipython3",
   "version": "3.8.17"
  }
 },
 "nbformat": 4,
 "nbformat_minor": 5
}

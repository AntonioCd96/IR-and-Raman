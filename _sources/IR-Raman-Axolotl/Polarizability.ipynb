{
 "cells": [
  {
   "cell_type": "code",
   "execution_count": null,
   "id": "15d0a1b0-9d68-4f25-ad62-293bc323ec7e",
   "metadata": {},
   "outputs": [],
   "source": [
    "pip install selenium"
   ]
  },
  {
   "cell_type": "code",
   "execution_count": null,
   "id": "562e05b5-67bd-4080-a5d2-ae76375367b3",
   "metadata": {},
   "outputs": [],
   "source": [
    "pip"
   ]
  },
  {
   "cell_type": "code",
   "execution_count": 5,
   "id": "431b8938-d303-4077-9098-f7c25ba6c6bc",
   "metadata": {
    "scrolled": true
   },
   "outputs": [],
   "source": [
    "import requests\n",
    "import os\n",
    "from selenium import webdriver"
   ]
  },
  {
   "cell_type": "code",
   "execution_count": null,
   "id": "d647e243-d01e-4a66-b531-0c8bd2a0786c",
   "metadata": {},
   "outputs": [],
   "source": [
    "pol_b = [31.437636, 20.524317, 18.078247]"
   ]
  },
  {
   "cell_type": "code",
   "execution_count": null,
   "id": "83408d9b-5d33-44f6-9e5f-e953624f2b3a",
   "metadata": {},
   "outputs": [],
   "source": [
    "pol_bNH3 = [13.062095 13.783278 13.062146]"
   ]
  },
  {
   "cell_type": "code",
   "execution_count": null,
   "id": "85c25c46-d2e7-414a-bfe7-124c80bc55b3",
   "metadata": {},
   "outputs": [],
   "source": []
  },
  {
   "cell_type": "code",
   "execution_count": 16,
   "id": "35021615-9b70-4566-a9ee-b4834a2a0b99",
   "metadata": {},
   "outputs": [
    {
     "name": "stderr",
     "output_type": "stream",
     "text": [
      "The chromedriver version (114.0.5735.90) detected in PATH at C:\\Users\\roste\\Downloads\\IR-Raman-Axolotl\\chromedriver.exe might not be compatible with the detected chrome version (115.0.5790.171); currently, chromedriver 115.0.5790.170 is recommended for chrome 115.*, so it is advised to delete the driver in PATH and retry\n"
     ]
    },
    {
     "ename": "AttributeError",
     "evalue": "'WebDriver' object has no attribute 'find_element_by_id'",
     "output_type": "error",
     "traceback": [
      "\u001b[1;31m---------------------------------------------------------------------------\u001b[0m",
      "\u001b[1;31mAttributeError\u001b[0m                            Traceback (most recent call last)",
      "Input \u001b[1;32mIn [16]\u001b[0m, in \u001b[0;36m<cell line: 22>\u001b[1;34m()\u001b[0m\n\u001b[0;32m     20\u001b[0m driver\u001b[38;5;241m.\u001b[39mget(url)\n\u001b[0;32m     21\u001b[0m file_path \u001b[38;5;241m=\u001b[39m \u001b[38;5;124m\"\u001b[39m\u001b[38;5;124m/Users/roste/Downloads/IR-Raman-Axolotl/CO2.xyz\u001b[39m\u001b[38;5;124m\"\u001b[39m\n\u001b[1;32m---> 22\u001b[0m \u001b[43mdriver\u001b[49m\u001b[38;5;241;43m.\u001b[39;49m\u001b[43mfind_element_by_id\u001b[49m(\u001b[38;5;124m\"\u001b[39m\u001b[38;5;124mprocess_structure\u001b[39m\u001b[38;5;124m\"\u001b[39m)\u001b[38;5;241m.\u001b[39msend_keys(file_path)\n\u001b[0;32m     25\u001b[0m driver\u001b[38;5;241m.\u001b[39mfind_element_by_id(\u001b[38;5;124m\"\u001b[39m\u001b[38;5;124mfile-upload\u001b[39m\u001b[38;5;124m\"\u001b[39m)\u001b[38;5;241m.\u001b[39mclick()\n",
      "\u001b[1;31mAttributeError\u001b[0m: 'WebDriver' object has no attribute 'find_element_by_id'"
     ]
    }
   ],
   "source": [
    "import os\n",
    "from selenium import webdriver\n",
    "\n",
    "chromedriver_path = os.path.abspath(\"Downloads/IR-Raman-Axolotl/chromedriver.exe\")\n",
    "\n",
    "# Set up ChromeOptions\n",
    "chrome_options = webdriver.ChromeOptions()\n",
    "\n",
    "# If you want to specify the path to the Chrome binary (optional)\n",
    "# chrome_options.binary_location = \"path/to/chrome/binary\"\n",
    "\n",
    "# Set the path to the ChromeDriver executable using the environment variable\n",
    "os.environ[\"webdriver.chrome.driver\"] = chromedriver_path\n",
    "\n",
    "# Set up the WebDriver\n",
    "driver = webdriver.Chrome(options=chrome_options)\n",
    "\n",
    "# Open the webpage\n",
    "url = \"https://www.materialscloud.org/work/tools/alphaml\"\n",
    "driver.get(url)\n",
    "\n",
    "\n",
    "file_path = \"/Users/roste/Downloads/IR-Raman-Axolotl/CO2.xyz\"\n",
    "driver.find_element_by_id(\"process_structure\").send_keys(file_path)\n",
    "\n",
    "\n",
    "driver.find_element_by_id(\"file-upload\").click()"
   ]
  },
  {
   "cell_type": "code",
   "execution_count": null,
   "id": "d16435ea-7ce8-4085-8902-2167f0f588ce",
   "metadata": {},
   "outputs": [],
   "source": []
  },
  {
   "cell_type": "code",
   "execution_count": 22,
   "id": "3da287c9-f90f-497a-a9b7-f56c1f2dec76",
   "metadata": {
    "scrolled": true
   },
   "outputs": [
    {
     "ename": "TimeoutException",
     "evalue": "Message: \nStacktrace:\nBacktrace:\n\tGetHandleVerifier [0x007A2B63+47795]\n\t(No symbol) [0x007367E1]\n\t(No symbol) [0x0063C7ED]\n\t(No symbol) [0x00669AC8]\n\t(No symbol) [0x00669B8B]\n\t(No symbol) [0x00698A82]\n\t(No symbol) [0x00684D14]\n\t(No symbol) [0x006971DA]\n\t(No symbol) [0x00684AC6]\n\t(No symbol) [0x006613D7]\n\t(No symbol) [0x0066255D]\n\tGetHandleVerifier [0x009F6F89+2490073]\n\tGetHandleVerifier [0x00A3C361+2773681]\n\tGetHandleVerifier [0x00A36211+2748769]\n\tGetHandleVerifier [0x008216B0+566784]\n\t(No symbol) [0x0074019A]\n\t(No symbol) [0x0073C418]\n\t(No symbol) [0x0073C4FB]\n\t(No symbol) [0x0072F317]\n\tBaseThreadInitThunk [0x76F37D59+25]\n\tRtlInitializeExceptionChain [0x77EAB79B+107]\n\tRtlClearBits [0x77EAB71F+191]\n",
     "output_type": "error",
     "traceback": [
      "\u001b[1;31m---------------------------------------------------------------------------\u001b[0m",
      "\u001b[1;31mTimeoutException\u001b[0m                          Traceback (most recent call last)",
      "Input \u001b[1;32mIn [22]\u001b[0m, in \u001b[0;36m<cell line: 23>\u001b[1;34m()\u001b[0m\n\u001b[0;32m     20\u001b[0m driver\u001b[38;5;241m.\u001b[39mget(url)\n\u001b[0;32m     22\u001b[0m \u001b[38;5;66;03m# Wait for the file input element to be visible\u001b[39;00m\n\u001b[1;32m---> 23\u001b[0m file_input \u001b[38;5;241m=\u001b[39m \u001b[43mWebDriverWait\u001b[49m\u001b[43m(\u001b[49m\u001b[43mdriver\u001b[49m\u001b[43m,\u001b[49m\u001b[43m \u001b[49m\u001b[38;5;241;43m30\u001b[39;49m\u001b[43m)\u001b[49m\u001b[38;5;241;43m.\u001b[39;49m\u001b[43muntil\u001b[49m\u001b[43m(\u001b[49m\u001b[43m\\\u001b[49m\n\u001b[0;32m     24\u001b[0m \u001b[43m    \u001b[49m\u001b[43mEC\u001b[49m\u001b[38;5;241;43m.\u001b[39;49m\u001b[43mpresence_of_element_located\u001b[49m\u001b[43m(\u001b[49m\u001b[43m(\u001b[49m\u001b[43mBy\u001b[49m\u001b[38;5;241;43m.\u001b[39;49m\u001b[43mNAME\u001b[49m\u001b[43m,\u001b[49m\u001b[43m \u001b[49m\u001b[38;5;124;43m\"\u001b[39;49m\u001b[38;5;124;43mstructurefile\u001b[39;49m\u001b[38;5;124;43m\"\u001b[39;49m\u001b[43m)\u001b[49m\u001b[43m)\u001b[49m\u001b[43m)\u001b[49m\n\u001b[0;32m     26\u001b[0m file_path \u001b[38;5;241m=\u001b[39m \u001b[38;5;124m\"\u001b[39m\u001b[38;5;124m/Users/roste/Downloads/IR-Raman-Axolotl/CO2.xyz\u001b[39m\u001b[38;5;124m\"\u001b[39m\n\u001b[0;32m     27\u001b[0m file_input\u001b[38;5;241m.\u001b[39msend_keys(file_path)\n",
      "File \u001b[1;32m~\\anaconda3\\lib\\site-packages\\selenium\\webdriver\\support\\wait.py:95\u001b[0m, in \u001b[0;36mWebDriverWait.until\u001b[1;34m(self, method, message)\u001b[0m\n\u001b[0;32m     93\u001b[0m     \u001b[38;5;28;01mif\u001b[39;00m time\u001b[38;5;241m.\u001b[39mmonotonic() \u001b[38;5;241m>\u001b[39m end_time:\n\u001b[0;32m     94\u001b[0m         \u001b[38;5;28;01mbreak\u001b[39;00m\n\u001b[1;32m---> 95\u001b[0m \u001b[38;5;28;01mraise\u001b[39;00m TimeoutException(message, screen, stacktrace)\n",
      "\u001b[1;31mTimeoutException\u001b[0m: Message: \nStacktrace:\nBacktrace:\n\tGetHandleVerifier [0x007A2B63+47795]\n\t(No symbol) [0x007367E1]\n\t(No symbol) [0x0063C7ED]\n\t(No symbol) [0x00669AC8]\n\t(No symbol) [0x00669B8B]\n\t(No symbol) [0x00698A82]\n\t(No symbol) [0x00684D14]\n\t(No symbol) [0x006971DA]\n\t(No symbol) [0x00684AC6]\n\t(No symbol) [0x006613D7]\n\t(No symbol) [0x0066255D]\n\tGetHandleVerifier [0x009F6F89+2490073]\n\tGetHandleVerifier [0x00A3C361+2773681]\n\tGetHandleVerifier [0x00A36211+2748769]\n\tGetHandleVerifier [0x008216B0+566784]\n\t(No symbol) [0x0074019A]\n\t(No symbol) [0x0073C418]\n\t(No symbol) [0x0073C4FB]\n\t(No symbol) [0x0072F317]\n\tBaseThreadInitThunk [0x76F37D59+25]\n\tRtlInitializeExceptionChain [0x77EAB79B+107]\n\tRtlClearBits [0x77EAB71F+191]\n"
     ]
    }
   ],
   "source": [
    "import os\n",
    "from selenium import webdriver\n",
    "from selenium.webdriver.common.by import By\n",
    "from selenium.webdriver.support.ui import WebDriverWait\n",
    "from selenium.webdriver.support import expected_conditions as EC\n",
    "\n",
    "chromedriver_path = os.path.abspath(\"Downloads/IR-Raman-Axolotl/chromedriver.exe\")\n",
    "\n",
    "# Set up ChromeOptions\n",
    "chrome_options = webdriver.ChromeOptions()\n",
    "\n",
    "# Set the path to the ChromeDriver executable using the environment variable\n",
    "os.environ[\"webdriver.chrome.driver\"] = chromedriver_path\n",
    "\n",
    "# Set up the WebDriver\n",
    "driver = webdriver.Chrome(options=chrome_options)\n",
    "\n",
    "# Open the webpage\n",
    "url = \"https://www.materialscloud.org/work/tools/alphaml\"\n",
    "driver.get(url)\n",
    "\n",
    "# Wait for the file input element to be visible\n",
    "file_input = WebDriverWait(driver, 30).until(\\\n",
    "    EC.presence_of_element_located((By.NAME, \"structurefile\")))\n",
    "\n",
    "\n",
    "\n",
    "# Find and click the file-upload button\n",
    "file_upload_button = WebDriverWait(driver, 10).until(\\\n",
    "    EC.presence_of_element_located((By.VALUE, \"Calculate polarizability\")))\n",
    "file_upload_button.click()"
   ]
  },
  {
   "cell_type": "markdown",
   "id": "53ba1546-f642-4e36-a3b9-a7ff58c406dd",
   "metadata": {},
   "source": [
    "# NEw"
   ]
  },
  {
   "cell_type": "code",
   "execution_count": 39,
   "id": "d65ff637-0f84-4d84-9383-d7989e0a15bd",
   "metadata": {},
   "outputs": [
    {
     "ename": "NoSuchElementException",
     "evalue": "Message: no such element: Unable to locate element: {\"method\":\"xpath\",\"selector\":\"//*[@id='contentiframe']\"}\n  (Session info: chrome=115.0.5790.171); For documentation on this error, please visit: https://www.selenium.dev/documentation/webdriver/troubleshooting/errors#no-such-element-exception\nStacktrace:\nBacktrace:\n\tGetHandleVerifier [0x007A2B63+47795]\n\t(No symbol) [0x007367E1]\n\t(No symbol) [0x0063C7ED]\n\t(No symbol) [0x00669AC8]\n\t(No symbol) [0x00669B8B]\n\t(No symbol) [0x00698A82]\n\t(No symbol) [0x00684D14]\n\t(No symbol) [0x006971DA]\n\t(No symbol) [0x00684AC6]\n\t(No symbol) [0x006613D7]\n\t(No symbol) [0x0066255D]\n\tGetHandleVerifier [0x009F6F89+2490073]\n\tGetHandleVerifier [0x00A3C361+2773681]\n\tGetHandleVerifier [0x00A36211+2748769]\n\tGetHandleVerifier [0x008216B0+566784]\n\t(No symbol) [0x0074019A]\n\t(No symbol) [0x0073C418]\n\t(No symbol) [0x0073C4FB]\n\t(No symbol) [0x0072F317]\n\tBaseThreadInitThunk [0x76F37D59+25]\n\tRtlInitializeExceptionChain [0x77EAB79B+107]\n\tRtlClearBits [0x77EAB71F+191]\n",
     "output_type": "error",
     "traceback": [
      "\u001b[1;31m---------------------------------------------------------------------------\u001b[0m",
      "\u001b[1;31mNoSuchElementException\u001b[0m                    Traceback (most recent call last)",
      "Input \u001b[1;32mIn [39]\u001b[0m, in \u001b[0;36m<cell line: 16>\u001b[1;34m()\u001b[0m\n\u001b[0;32m     13\u001b[0m driver\u001b[38;5;241m.\u001b[39mget(url)\n\u001b[0;32m     15\u001b[0m \u001b[38;5;66;03m# Switch to the iframe where the element is located\u001b[39;00m\n\u001b[1;32m---> 16\u001b[0m iframe_element \u001b[38;5;241m=\u001b[39m \u001b[43mdriver\u001b[49m\u001b[38;5;241;43m.\u001b[39;49m\u001b[43mfind_element\u001b[49m\u001b[43m(\u001b[49m\u001b[43mBy\u001b[49m\u001b[38;5;241;43m.\u001b[39;49m\u001b[43mXPATH\u001b[49m\u001b[43m,\u001b[49m\u001b[43m \u001b[49m\u001b[38;5;124;43m\"\u001b[39;49m\u001b[38;5;124;43m//*[@id=\u001b[39;49m\u001b[38;5;124;43m'\u001b[39;49m\u001b[38;5;124;43mcontentiframe\u001b[39;49m\u001b[38;5;124;43m'\u001b[39;49m\u001b[38;5;124;43m]\u001b[39;49m\u001b[38;5;124;43m\"\u001b[39;49m\u001b[43m)\u001b[49m  \u001b[38;5;66;03m# Replace \"iframe_id\" with the actual id of the iframe\u001b[39;00m\n\u001b[0;32m     17\u001b[0m driver\u001b[38;5;241m.\u001b[39mswitch_to\u001b[38;5;241m.\u001b[39mframe(iframe_element)\n\u001b[0;32m     19\u001b[0m \u001b[38;5;66;03m# Wait for the file input element to be visible with dynamic loading condition\u001b[39;00m\n",
      "File \u001b[1;32m~\\anaconda3\\lib\\site-packages\\selenium\\webdriver\\remote\\webdriver.py:739\u001b[0m, in \u001b[0;36mWebDriver.find_element\u001b[1;34m(self, by, value)\u001b[0m\n\u001b[0;32m    736\u001b[0m     by \u001b[38;5;241m=\u001b[39m By\u001b[38;5;241m.\u001b[39mCSS_SELECTOR\n\u001b[0;32m    737\u001b[0m     value \u001b[38;5;241m=\u001b[39m \u001b[38;5;124mf\u001b[39m\u001b[38;5;124m'\u001b[39m\u001b[38;5;124m[name=\u001b[39m\u001b[38;5;124m\"\u001b[39m\u001b[38;5;132;01m{\u001b[39;00mvalue\u001b[38;5;132;01m}\u001b[39;00m\u001b[38;5;124m\"\u001b[39m\u001b[38;5;124m]\u001b[39m\u001b[38;5;124m'\u001b[39m\n\u001b[1;32m--> 739\u001b[0m \u001b[38;5;28;01mreturn\u001b[39;00m \u001b[38;5;28;43mself\u001b[39;49m\u001b[38;5;241;43m.\u001b[39;49m\u001b[43mexecute\u001b[49m\u001b[43m(\u001b[49m\u001b[43mCommand\u001b[49m\u001b[38;5;241;43m.\u001b[39;49m\u001b[43mFIND_ELEMENT\u001b[49m\u001b[43m,\u001b[49m\u001b[43m \u001b[49m\u001b[43m{\u001b[49m\u001b[38;5;124;43m\"\u001b[39;49m\u001b[38;5;124;43musing\u001b[39;49m\u001b[38;5;124;43m\"\u001b[39;49m\u001b[43m:\u001b[49m\u001b[43m \u001b[49m\u001b[43mby\u001b[49m\u001b[43m,\u001b[49m\u001b[43m \u001b[49m\u001b[38;5;124;43m\"\u001b[39;49m\u001b[38;5;124;43mvalue\u001b[39;49m\u001b[38;5;124;43m\"\u001b[39;49m\u001b[43m:\u001b[49m\u001b[43m \u001b[49m\u001b[43mvalue\u001b[49m\u001b[43m}\u001b[49m\u001b[43m)\u001b[49m[\u001b[38;5;124m\"\u001b[39m\u001b[38;5;124mvalue\u001b[39m\u001b[38;5;124m\"\u001b[39m]\n",
      "File \u001b[1;32m~\\anaconda3\\lib\\site-packages\\selenium\\webdriver\\remote\\webdriver.py:345\u001b[0m, in \u001b[0;36mWebDriver.execute\u001b[1;34m(self, driver_command, params)\u001b[0m\n\u001b[0;32m    343\u001b[0m response \u001b[38;5;241m=\u001b[39m \u001b[38;5;28mself\u001b[39m\u001b[38;5;241m.\u001b[39mcommand_executor\u001b[38;5;241m.\u001b[39mexecute(driver_command, params)\n\u001b[0;32m    344\u001b[0m \u001b[38;5;28;01mif\u001b[39;00m response:\n\u001b[1;32m--> 345\u001b[0m     \u001b[38;5;28;43mself\u001b[39;49m\u001b[38;5;241;43m.\u001b[39;49m\u001b[43merror_handler\u001b[49m\u001b[38;5;241;43m.\u001b[39;49m\u001b[43mcheck_response\u001b[49m\u001b[43m(\u001b[49m\u001b[43mresponse\u001b[49m\u001b[43m)\u001b[49m\n\u001b[0;32m    346\u001b[0m     response[\u001b[38;5;124m\"\u001b[39m\u001b[38;5;124mvalue\u001b[39m\u001b[38;5;124m\"\u001b[39m] \u001b[38;5;241m=\u001b[39m \u001b[38;5;28mself\u001b[39m\u001b[38;5;241m.\u001b[39m_unwrap_value(response\u001b[38;5;241m.\u001b[39mget(\u001b[38;5;124m\"\u001b[39m\u001b[38;5;124mvalue\u001b[39m\u001b[38;5;124m\"\u001b[39m, \u001b[38;5;28;01mNone\u001b[39;00m))\n\u001b[0;32m    347\u001b[0m     \u001b[38;5;28;01mreturn\u001b[39;00m response\n",
      "File \u001b[1;32m~\\anaconda3\\lib\\site-packages\\selenium\\webdriver\\remote\\errorhandler.py:229\u001b[0m, in \u001b[0;36mErrorHandler.check_response\u001b[1;34m(self, response)\u001b[0m\n\u001b[0;32m    227\u001b[0m         alert_text \u001b[38;5;241m=\u001b[39m value[\u001b[38;5;124m\"\u001b[39m\u001b[38;5;124malert\u001b[39m\u001b[38;5;124m\"\u001b[39m]\u001b[38;5;241m.\u001b[39mget(\u001b[38;5;124m\"\u001b[39m\u001b[38;5;124mtext\u001b[39m\u001b[38;5;124m\"\u001b[39m)\n\u001b[0;32m    228\u001b[0m     \u001b[38;5;28;01mraise\u001b[39;00m exception_class(message, screen, stacktrace, alert_text)  \u001b[38;5;66;03m# type: ignore[call-arg]  # mypy is not smart enough here\u001b[39;00m\n\u001b[1;32m--> 229\u001b[0m \u001b[38;5;28;01mraise\u001b[39;00m exception_class(message, screen, stacktrace)\n",
      "\u001b[1;31mNoSuchElementException\u001b[0m: Message: no such element: Unable to locate element: {\"method\":\"xpath\",\"selector\":\"//*[@id='contentiframe']\"}\n  (Session info: chrome=115.0.5790.171); For documentation on this error, please visit: https://www.selenium.dev/documentation/webdriver/troubleshooting/errors#no-such-element-exception\nStacktrace:\nBacktrace:\n\tGetHandleVerifier [0x007A2B63+47795]\n\t(No symbol) [0x007367E1]\n\t(No symbol) [0x0063C7ED]\n\t(No symbol) [0x00669AC8]\n\t(No symbol) [0x00669B8B]\n\t(No symbol) [0x00698A82]\n\t(No symbol) [0x00684D14]\n\t(No symbol) [0x006971DA]\n\t(No symbol) [0x00684AC6]\n\t(No symbol) [0x006613D7]\n\t(No symbol) [0x0066255D]\n\tGetHandleVerifier [0x009F6F89+2490073]\n\tGetHandleVerifier [0x00A3C361+2773681]\n\tGetHandleVerifier [0x00A36211+2748769]\n\tGetHandleVerifier [0x008216B0+566784]\n\t(No symbol) [0x0074019A]\n\t(No symbol) [0x0073C418]\n\t(No symbol) [0x0073C4FB]\n\t(No symbol) [0x0072F317]\n\tBaseThreadInitThunk [0x76F37D59+25]\n\tRtlInitializeExceptionChain [0x77EAB79B+107]\n\tRtlClearBits [0x77EAB71F+191]\n"
     ]
    }
   ],
   "source": [
    "from selenium import webdriver\n",
    "from selenium.webdriver.common.by import By\n",
    "from selenium.webdriver.support.ui import WebDriverWait\n",
    "from selenium.webdriver.support import expected_conditions as EC\n",
    "import time\n",
    "\n",
    "# Initialize the Chrome WebDriver\n",
    "driver = webdriver.Chrome()\n",
    "driver.maximize_window()\n",
    "\n",
    "# Open the webpage\n",
    "url = \"https://www.materialscloud.org/work/tools/alphaml\"\n",
    "driver.get(url)\n",
    "\n",
    "# Switch to the iframe where the element is located\n",
    "iframe_element = driver.find_element(By.XPATH, \"//*[@id='contentiframe']\")  # Replace \"iframe_id\" with the actual id of the iframe\n",
    "driver.switch_to.frame(iframe_element)\n",
    "\n",
    "# Wait for the file input element to be visible with dynamic loading condition\n",
    "wait = WebDriverWait(driver, 30)\n",
    "element = wait.until(EC.presence_of_element_located((By.XPATH, \"/html/body/div[2]/div[7]/form/div/div[1]/div[2]/input\")))\n",
    "\n",
    "# Provide the path to the file you want to upload\n",
    "file_path = \"C:\\\\Users\\\\roste\\\\Downloads\\\\IR-Raman-Axolotl\\\\CO2.xyz\"\n",
    "element.send_keys(file_path)\n",
    "\n",
    "# Add a delay to ensure the page has enough time to process the file upload\n",
    "time.sleep(2)\n",
    "\n",
    "# # Locate and click the file upload button\n",
    "# upload_button = driver.find_element(By.ID, \"file-upload\")\n",
    "# upload_button.click()\n",
    "\n",
    "# # You can add further actions to interact with the output as needed\n",
    "\n",
    "# # Switch back to the main content if needed\n",
    "# driver.switch_to.default_content()\n",
    "\n",
    "# # Close the browser window\n",
    "# driver.quit()\n"
   ]
  },
  {
   "cell_type": "code",
   "execution_count": null,
   "id": "a91d22b9-6b0a-470e-899c-99462267cf1b",
   "metadata": {},
   "outputs": [],
   "source": []
  },
  {
   "cell_type": "code",
   "execution_count": null,
   "id": "8b3ab4da-f82b-48e6-a7e2-d0dbe4bf0ff3",
   "metadata": {},
   "outputs": [],
   "source": []
  },
  {
   "cell_type": "code",
   "execution_count": null,
   "id": "158893f4-8455-4b90-8342-ed2ce187a88c",
   "metadata": {},
   "outputs": [],
   "source": []
  },
  {
   "cell_type": "code",
   "execution_count": null,
   "id": "4e192bf0-d1c2-4c31-a462-eba41509bfac",
   "metadata": {},
   "outputs": [],
   "source": []
  },
  {
   "cell_type": "code",
   "execution_count": 8,
   "id": "ee17a750-68b9-4150-8b48-2428a33c7bdf",
   "metadata": {},
   "outputs": [
    {
     "ename": "TypeError",
     "evalue": "__init__() got an unexpected keyword argument 'executable_path'",
     "output_type": "error",
     "traceback": [
      "\u001b[1;31m---------------------------------------------------------------------------\u001b[0m",
      "\u001b[1;31mTypeError\u001b[0m                                 Traceback (most recent call last)",
      "Input \u001b[1;32mIn [8]\u001b[0m, in \u001b[0;36m<cell line: 9>\u001b[1;34m()\u001b[0m\n\u001b[0;32m      6\u001b[0m chromedriver_path \u001b[38;5;241m=\u001b[39m os\u001b[38;5;241m.\u001b[39mpath\u001b[38;5;241m.\u001b[39mabspath(\u001b[38;5;124m\"\u001b[39m\u001b[38;5;124mDownloads/IR-Raman-Axolotl/chromedriver.exe\u001b[39m\u001b[38;5;124m\"\u001b[39m)\n\u001b[0;32m      8\u001b[0m \u001b[38;5;66;03m# Set up the WebDriver\u001b[39;00m\n\u001b[1;32m----> 9\u001b[0m driver \u001b[38;5;241m=\u001b[39m \u001b[43mwebdriver\u001b[49m\u001b[38;5;241;43m.\u001b[39;49m\u001b[43mChrome\u001b[49m\u001b[43m(\u001b[49m\u001b[43mexecutable_path\u001b[49m\u001b[38;5;241;43m=\u001b[39;49m\u001b[43mchromedriver_path\u001b[49m\u001b[43m)\u001b[49m\n\u001b[0;32m     10\u001b[0m \u001b[38;5;66;03m# Open the webpage\u001b[39;00m\n\u001b[0;32m     11\u001b[0m url \u001b[38;5;241m=\u001b[39m \u001b[38;5;124m\"\u001b[39m\u001b[38;5;124mhttps://www.materialscloud.org/work/tools/alphaml\u001b[39m\u001b[38;5;124m\"\u001b[39m\n",
      "\u001b[1;31mTypeError\u001b[0m: __init__() got an unexpected keyword argument 'executable_path'"
     ]
    }
   ],
   "source": [
    "from selenium import webdriver\n",
    "from selenium.webdriver.common.keys import Keys\n",
    "from selenium.webdriver.common.by import By\n",
    "\n",
    "# Get the absolute path to the chromedriver.exe\n",
    "chromedriver_path = os.path.abspath(\"Downloads/IR-Raman-Axolotl/chromedriver.exe\")\n",
    "\n",
    "# Set up the WebDriver\n",
    "driver = webdriver.Chrome(executable_path=chromedriver_path)\n",
    "# Open the webpage\n",
    "url = \"https://www.materialscloud.org/work/tools/alphaml\"\n",
    "driver.get(url)\n",
    "\n",
    "# Find the file input element and upload a file\n",
    "file_input = driver.find_element(By.NAME, 'file')\n",
    "file_path = 'Downloads/IR-Raman-Axolotl/CO2.xyz'  # Replace with the actual file path\n",
    "file_input.send_keys(file_path)\n",
    "\n",
    "# # Submit the form\n",
    "# submit_button = driver.find_element(By.XPATH, '//button[@type=\"submit\"]')\n",
    "# submit_button.click()"
   ]
  },
  {
   "cell_type": "markdown",
   "id": "8fc16388-eae6-47f1-8180-5dcc3631773e",
   "metadata": {},
   "source": [
    "# Request no working"
   ]
  },
  {
   "cell_type": "code",
   "execution_count": null,
   "id": "7b956f8c-fb3b-4819-ab84-e457d33bf4c3",
   "metadata": {},
   "outputs": [],
   "source": []
  },
  {
   "cell_type": "code",
   "execution_count": 66,
   "id": "6f985275-82a4-4ade-aabd-1ef93889f577",
   "metadata": {},
   "outputs": [
    {
     "name": "stdout",
     "output_type": "stream",
     "text": [
      "File uploaded successfully!\n"
     ]
    }
   ],
   "source": [
    "import requests\n",
    "import json\n",
    "\n",
    "# URL of the upload endpoint\n",
    "upload_url = 'https://tools.materialscloud.org/alphaml/input_structure/'\n",
    "\n",
    "# Path to the file you want to upload\n",
    "file_path = 'C:\\\\Users\\\\roste\\\\Downloads\\\\IR-Raman-Axolotl\\\\CO2.xyz'\n",
    "\n",
    "# Set up the data to be sent along with the file\n",
    "data = {\n",
    "    'fileformat': 'xyz-ase',\n",
    "    'modeltype': 'ccsd'\n",
    "}\n",
    "# Open the file for reading\n",
    "with open(file_path, 'rb') as file:\n",
    "    # Use the requests library to post the file and data\n",
    "    response = requests.get(upload_url, data=data, files={'structurefile': file})\n",
    "    # data_bytes = response.content\n",
    "    # data_dic   = json.loads(data_bytes.decode('utf-8'))\n",
    "\n",
    "# Check the response\n",
    "if response.status_code == 200:\n",
    "    print('File uploaded successfully!')\n",
    "else:\n",
    "    print('Failed to upload file. Status code:', response.status_code)\n",
    "    print('Response content:', response.text)\n",
    "\n",
    "}\n"
   ]
  },
  {
   "cell_type": "code",
   "execution_count": 72,
   "id": "c5a2db4a-9b0b-422a-b589-ed5f0d848ab4",
   "metadata": {
    "scrolled": true
   },
   "outputs": [
    {
     "data": {
      "text/plain": [
       "'<!DOCTYPE html>\\n<html>\\n<head>\\n    <meta charset=\"utf-8\">\\n    <meta http-equiv=\"X-UA-Compatible\" content=\"IE=edge\">\\n    <meta name=\"viewport\" content=\"width=device-width, initial-scale=1\">\\n    <!-- The above 3 meta tags *must* come first in the head; any other head content must come *after* these tags -->\\n\\n    <!-- Bootstrap -->\\n    <link href=\"../static/css/bootstrap.min.css\" rel=\"stylesheet\">\\n    <!-- HTML5 shim and Respond.js for IE8 support of HTML5 elements and media queries -->\\n    <!-- WARNING: Respond.js doesn\\'t work if you view the page via file:// -->\\n    <!--[if lt IE 9]>\\n      <script src=\"https://oss.maxcdn.com/html5shiv/3.7.3/html5shiv.min.js\"></script>\\n      <script src=\"https://oss.maxcdn.com/respond/1.4.2/respond.min.js\"></script>\\n    <![endif]-->\\n    <link rel=\"stylesheet\" type=\"text/css\" href=\"../static/css/visualizer_base.min.css\"/>\\n    <link rel=\"stylesheet\" type=\"text/css\" href=\"../static/css/visualizer_input.min.css\"/>\\n\\n\\n    <link rel=\"stylesheet\" type=\"text/css\" href=\"/alphaml/static/css/jquery-ui.1.12.1.min.css\"/>\\n    <script src=\"/alphaml/static/js/jquery-3.1.0.min.js\"></script>\\n    <script src=\"/alphaml/static/js/jquery-ui.1.12.1.min.js\"></script>\\n    <script src=\"/alphaml/static/js/loadingoverlay.js\"></script>\\n\\n    <title>AlphaML</title>\\n    <script>\\n    $( function() {\\n      $( \"#accordion\" ).accordion({\\n        collapsible: true,\\n        heightStyle: \"content\", // Avoid that all have the same height\\n        active: false  // Start all closed\\n      });\\n\\n      $( \"#fileformatSelect\" ).change(function() {\\n        if ( $(this).val() == \"xyz-ase\" )\\n          $( \"#xyzFormatFields\" ).show();\\n        else\\n          $( \"#xyzFormatFields\" ).hide();\\n      });\\n    });\\n    </script>\\n\\n\\n    \\n    \\n\\n    <script src=\"../static/js/iframeResizer.contentWindow.min.js\"></script>\\n<!--TODO: DMW CHECK THESE -->\\n\\t\\t<script type=\"text/javascript\">\\n\\t\\t\\tfunction showText(obj) {\\n\\t\\t\\t\\tif(obj.id==\\'insertrefs\\') {\\n\\t\\t\\t\\t\\tdocument.getElementById(\\'H_ref\\').style.display=\\'block\\';\\n\\t\\t\\t\\t\\tdocument.getElementById(\\'C_ref\\').style.display=\\'block\\';\\n\\t\\t\\t\\t\\tdocument.getElementById(\\'N_ref\\').style.display=\\'block\\';\\n\\t\\t\\t\\t\\tdocument.getElementById(\\'O_ref\\').style.display=\\'block\\';\\n\\t\\t\\t\\t\\tdocument.getElementById(\\'head_ref\\').style.display=\\'block\\';\\n\\t\\t\\t\\t\\t}\\n\\t\\t\\t\\telse {\\n\\t\\t\\t\\t\\tdocument.getElementById(\\'H_ref\\').style.display=\\'none\\';\\n\\t\\t\\t\\t\\tdocument.getElementById(\\'C_ref\\').style.display=\\'none\\';\\n\\t\\t\\t\\t\\tdocument.getElementById(\\'N_ref\\').style.display=\\'none\\';\\n\\t\\t\\t\\t\\tdocument.getElementById(\\'O_ref\\').style.display=\\'none\\';\\n\\t\\t\\t\\t\\tdocument.getElementById(\\'head_ref\\').style.display=\\'none\\';\\n\\t\\t\\t\\t\\t}\\n\\t\\t\\treturn;\\n\\t\\t\\t}\\n\\t\\t</script>\\n    <!-- Global site tag (gtag.js) - Google Analytics -->\\n\\n    <script async src=\"https://www.googletagmanager.com/gtag/js?id=UA-129173117-1\"></script>\\n    <script>\\n      window.dataLayer = window.dataLayer || [];\\n      function gtag(){dataLayer.push(arguments);}\\n      gtag(\\'js\\', new Date());\\n\\n      gtag(\\'config\\', \\'UA-129173117-1\\');\\n    </script>\\n\\n</head>\\n\\n\\n<body>\\n<div>\\n</div>\\n\\n<div id=\\'container\\'>\\n<div id=\\'maintitle\\'>\\n  \\n    <h1 style=\"text-align: left;\"><span style=\"font-weight: bold; \">AlphaML</span>: machine learning of molecular polarizabilities</h1>\\n  \\n</div>\\n\\n    <div id=\"flash_alert\">\\n\\n    </div>\\n\\n\\n<div>\\n\\t<h2>About AlphaML</h2> <!--TODO: DMW EDIT THIS AND ADD CITATION -->\\n        <p style=\"test-align:justify\">AlphaML was developed by the <a href=\"https://cosmo.epfl.ch\" target=\"_blank\">Ceriotti</a> group at EPFL and the <a href=\"http://distasio.chem.cornell.edu/\" target=\"_blank\">DiStasio</a> group at Cornell. AlphaML uses a machine-learning framework based on comparisons of local atomic environments to predict the polarizabilities of molecules. This model was trained on the 7211 compounds in the <a href=\"http://iopscience.iop.org/article/10.1088/1367-2630/15/9/095003\" target=\"_blank\">QM7b</a> dataset, containing up to 7 heavy atoms (C,N,O,S,Cl) as well as hydrogen. For these molecules, the polarizability was calculated using B3LYP-DFT, SCAN0-DFT and CCSD. A model trained on the 5400 most diverse members of the QM7b set predicts the CCSD polarizability of the remaining molecules with an error of 0.04 a.u., an improvement of an order of magnitude over the prediction of DFT, and the polarizability of a showcase set of more complex molecules with an error of 0.24 a.u., comparable in accuracy to the DFT prediction. </p>\\n\\t<p style=\"test-align:justify\"> <strong>Disclaimer</strong>: The model used in this web-app has been optimized for execution speed rather than accuracy, and so have been found to deviate by about 0.02 a.u. from those of the published manuscript (0.002 a.u. for the CCSD polarizabilities). </p>\\n\\t<p style=\"test-align:justify\"> <strong>Please read and cite the following</strong>: <a href=\"https://doi.org/10.1073/pnas.1816132116\" target=\"_blank\"> David M. Wilkins, Andrea Grisafi, Yang Yang, Ka Un Lao, Robert A. DiStasio Jr. and Michele Ceriotti. Accurate molecular polarizabilities by coupled-cluster theory and machine learning </a>, Proc. Natl. Acad. Sci. 116, 3401 (2019). </p>\\n</div>\\n\\n<div>\\n  <h3><strong>Version 1.1 Beta; 02.03.2019</strong></h3>\\n  <p style=\"test-align:justify\">This is the first release of AlphaML, with basic functionality. The polarizabilities of molecules containing H,C,N,O,S,Cl can be predicted. It has only been tested for input structures in which all atomic coordinates are fully relaxed with DFT. <strong>Version 1.1 Beta</strong> introduces radial scaling to improve the accuracy of predictions.\\n    </p>\\n  </div>\\n\\n<div id=\"accordion\" style=\"text-align:justify\">\\n<h2>What AlphaML does</h2>\\n<div>\\n<p>AlphaML takes as an input the <strong>atomic coordinates of a molecule</strong>, and\\n<ul>\\n<li><strong>predicts</strong> the dipole polarizability of this molecule, as well as a decomposition of this polarizability into atom-centred environments.</li>\\n<li>provides a <strong>JSmol interactive output</strong> and <strong>copy-paste content</strong> in the <a href=\"http://libatoms.github.io/QUIP/io.html#extendedxyz\" target=\"_blank\" style=\"color:DodgerBlue;\">extended xyz</a> format.</li>\\n<p>\\n<p>AlphaML has so far been tested for <strong>DFT-optimized</strong> molecular configurations of molecules containing <strong>H, C, N, O, S and Cl</strong> atoms. See\\n\\t<a href=\"https://doi.org/10.1073/pnas.1816132116\" target=\"_blank\" style=\"color:DodgerBlue;\"> Wilkins et al.</a>.\\n\\n</p>\\n</div>\\n\\n<h2>Version history</h2>\\n<div>\\n<p><strong>02.03.2019: Version 1.1 Beta </strong>\\n<ul>\\n\\t<li>Inclusion of radial scaling to improve the accuracy of predictions.</li>\\n</ul>\\n<p><strong>13.08.2018: Version 1.0 Beta </strong>\\n<ul>\\n  <li>Implementation of AlphaML framework as described in <a href=\"https://doi.org/10.1073/pnas.1816132116\" target=\"_blank\" style=\"color:DodgerBlue;\"> Wilkins et al.</a>. </li>\\n</ul>\\n</p>\\n</div>\\n<!--\\n<h2>ShiftML definitions and advantages</h2>\\n<div>\\n<p>The main advantages of this work are:\\n<ul>\\n<li>\\n    <strong>fast and accurate estimation</strong> of isotropic NMR chemical shifts.\\n</li>\\n</ul>\\n</p>\\n</div>\\n-->\\n</div>\\n\\n\\n\\n<h2><a name=\"tool\"></a>Upload your molecule</h2>\\n<div class=\\'alert alert-danger\\'>\\n\\t\\t<div style=\"text-align:center\"><label>Version 1.1 Beta of AlphaML predicts polarizabilities of structures containing only H,C,N,O,S,Cl.</label></div>\\n\\t</div>\\n\\n<div style=\"margin-left: 20px; margin-right: 20px\">\\n  <form id=\"process_structure\">\\n    <div class=\\'alert alert-info\\'>\\n      <div class=\\'row\\'>\\n\\t<div class=\\'col-xs-12 col-sm-6\\'>\\n\\t  <label for=\"file\">Upload a molecule:</label>\\n\\t</div>\\n\\t<div class=\"col-xs-12 col-sm-6\">\\n\\t  <input type=\"file\" name=\"structurefile\" size=\"100\">\\n\\t</div>\\n      </div>\\n      <div class=\\'row\\'>\\n\\t<div class=\\'col-sm-6\\'>\\n\\t  <label for=\"fileformat\">Select the file format:</label>\\n\\t</div>\\n\\t<div class=\\'col-sm-6\\'>\\n\\t  <select name=\"fileformat\" id=\"fileformatSelect\", style=\"max-width: 100%\">\\n          <option value=\"xyz-ase\">EXTXYZ File (.xyz) [parser: ase]</option>\\n          <option value=\"cif-ase\">CIF File (.cif) [parser: ase]</option>\\n          <option value=\"cif-pymatgen\">CIF File (.cif) [parser: pymatgen]</option>\\n          <option value=\"vasp-ase\">VASP POSCAR [parser: ase]</option>\\n          <option value=\"castep-ase\">CASTEP (.cell) [parser: ase]</option>\\n\\t\\t\\t\\t\\t<option value=\"castepout-ase\">CASTEP Output (.castep) [parser: ase]</option>\\n\\t\\t      <option value=\"qe-ase\">Quantum Espresso Output (scf/relax) [parser: ase]</option>\\n        </select>\\n\\t\\t\\t</div>\\n\\t\\t</div>\\n\\n      <div class=\\'row\\'>\\n        <div class=\\'col-sm-6\\'>\\n          <label for=\"fileformat\">Select the AlphaML model:</label>\\n        </div>\\n        <div class=\\'col-sm-6\\'>\\n          <select name=\"modeltype\" id=\"modeltypeselect\", style=\"max-width: 100%\">\\n          <option value=\"ccsd\">CCSD</option>\\n          <option value=\"b3lyp\">B3LYP</option>\\n\\t  <option value=\"scan0\">SCAN0</option>\\n          <option value=\"delta-b3lyp-ccsd\">Δ(CCSD-B3LYP)</option>\\n          <option value=\"delta-scan0-ccsd\">Δ(CCSD-SCAN0)</option>\\n\\t  <!--          <option value=\"cif-pymatgen\">CIF File (.cif) [parser: pymatgen]</option> -->\\n<!--          <option value=\"vasp-ase\">VASP POSCAR [parser: ase]</option> -->\\n<!--          <option value=\"castep-ase\">CASTEP (.cell) [parser: ase]</option> -->\\n<!--                                        <option value=\"castepout-ase\">CASTEP Output (.castep) [parser: ase]</option> -->\\n<!--                      <option value=\"qe-ase\">Quantum Espresso Output (scf/relax) [parser: ase]</option> -->\\n        </select>\\n                        </div>\\n                </div>\\n\\n\\n        <div class=\\'row\\' style=\"text-align:center\">\\n        <p class=\\'small\\'>By continuing, you agree with the <a href=\"../termsofuse/\" target=\"_blank\">terms of use</a> of this service.</p>\\n          <input type=\"submit\" value=\"Calculate Polarizability\" class=\"btn btn-default\">\\n        <p class=\\'small\\'>Please be patient. <br> Depending on the workload of the server the calculation might only start in a few minutes. </p>\\n        </div>\\n    </div>\\n  </form>\\n</div>\\n\\n<h2>Otherwise, pick an example</h2>\\n<form id=\"process_example_structure\" >\\n  <div style=\"margin-left: 20px; margin-right: 20px;\">\\n    <div class=\\'alert alert-info\\'>\\n      <div class=\"row\">\\n\\t<div class=\"col-xs-12 col-sm-6\">\\n\\t  <label for=\"examplestructure\">Select an example molecule:</label>\\n\\t</div>\\n\\t<div class=\"col-xs-12 col-sm-6\">\\n\\t  <select name=\"examplestructure\">\\n            <option value=\\'Caffeine\\'>Caffeine</option>\\n            <option value=\\'Aciclovir\\'>Aciclovir</option>\\n\\t    <option value=\\'Cytosine\\'>Cytosine</option>\\n\\t    <option value=\\'Methionine\\'>Methionine</option>\\n\\t    <option value=\\'Fullerene\\'>Fullerene</option>\\n\\t    <option Value=\\'Pentacene\\'>Pentacene</option>\\n\\t  </select>\\n\\t</div>\\n      </div>\\n\\n      <div class=\\'row\\'>\\n        <div class=\\'col-sm-6\\'>\\n          <label for=\"fileformat\">Select the AlphaML model:</label>\\n        </div>\\n        <div class=\\'col-sm-6\\'>\\n          <select name=\"modeltype\" id=\"modeltypeselect\", style=\"max-width: 100%\">\\n          <option value=\"ccsd\">CCSD</option>\\n          <option value=\"b3lyp\">B3LYP</option>\\n\\t  <option value=\"scan0\">SCAN0</option>\\n\\t  <option value=\"delta-b3lyp-ccsd\">Δ(CCSD-B3LYP)</option>\\n\\t  <option value=\"delta-scan0-ccsd\">Δ(CCSD-SCAN0)</option>\\n          <!--          <option value=\"cif-pymatgen\">CIF File (.cif) [parser: pymatgen]</option> -->\\n<!--          <option value=\"vasp-ase\">VASP POSCAR [parser: ase]</option> -->\\n<!--          <option value=\"castep-ase\">CASTEP (.cell) [parser: ase]</option> -->\\n<!--                                        <option value=\"castepout-ase\">CASTEP Output (.castep) [parser: ase]</option> -->\\n<!--                      <option value=\"qe-ase\">Quantum Espresso Output (scf/relax) [parser: ase]</option> -->\\n        </select>\\n                        </div>\\n                </div>\\n\\n        <div class=\\'row\\' style=\"text-align: center\">\\n            <p class=\\'small\\'> </p>\\n\\t    <input type=\"submit\" value=\"Calculate Polarizability\" class=\"btn btn-default\">\\n            <p class=\\'small\\'>Please be patient. <br> Depending on the workload of the server the calculation might only start in a few minutes. </p>\\n        </div>\\n    </div>\\n  </div>\\n</form>\\n\\n    <!--\\n    <script src=\"/submit_js/process_structure-process_structure\"></script>\\n\\n    <script src=\"/submit_js/process_example_structure-process_structure\"></script>\\n    -->\\n    <script type=\"text/javascript\">\\n\\n        // Status\\nfunction loading_overlay(count){\\n        $.LoadingOverlay(\"progress\", count);\\n        $.LoadingOverlay(\"text\", \"Working...\");\\n        }\\n\\nfunction pending_overlay(){\\n  $.LoadingOverlay(\"show\", {\\n          image       : \"\",\\n//          text        : \"Waiting in the Queue...\",\\n\\t  text        : \"Working...\",\\n          progress    : true\\n          });\\n}\\n\\nfunction checkExists(sel) {\\n    var status = false;\\n    if ($(sel).length) status = true;\\n    return status;\\n}\\n\\n//Program a custom submit function for the form\\n$(\"form#process_structure\").submit(function(event){\\n\\n  //disable the default form submission\\n  event.preventDefault();\\n\\n  //grab all form data\\n  var formData = new FormData($(this)[0]);\\n  //email = collect_email();\\n  //formData.append(\\'email\\', email);\\n\\n\\n  $.ajax({\\n    url: \"../process_structure\",\\n    type: \\'POST\\',\\n    data: formData,\\n    async: true,\\n    cache: false,\\n    contentType: false,\\n    processData: false,\\n    dataType: \\'json\\',\\n    success: function(data, textStatus,jqXHR) {\\n                    status_url = jqXHR.getResponseHeader(\\'Location\\');\\n                    redirect_url = jqXHR.getResponseHeader(\\'Redirect\\');\\n\\n                    update_progress(status_url,redirect_url);\\n                },\\n    error: function(jqXHR) {\\n        //<div class=\"alert alert-danger\" id=\"flash_alert\">\\n        //error_message = data[\\'error_message\\']//jqXHR.getResponseHeader(\\'error_message\\');\\n        //</div>\\n\\n        var error_message = jqXHR.responseJSON.message\\n\\n        if (checkExists(\\'#alert_list\\')) {\\n            // alert(\\'alert_list\\');\\n            div = $(\"\".concat(\\'<li>\\',error_message,\\'</li>\\'));\\n            $(\\'#alert_list\\').append(div);\\n        }\\n        else {\\n            //alert(\\'flash_alert\\');\\n            div = $(\"\".concat(\\'<div class=\"alert alert-danger\" id=\"flash_alert\"> Warning: <ul type=\"circle\" id=\"alert_list\"> <li>\\',error_message,\\'</li></ul></div>\\'));\\n            $(\\'#flash_alert\\').append(div);\\n        }\\n        //alert(error_message);\\n\\n\\n        // alert(\\'Unexpected error\\');\\n    }\\n  });\\n\\n  return false;\\n});\\n\\n//Program a custom submit function for the form\\n$(\"form#process_example_structure\").submit(function(event){\\n\\n  //disable the default form submission\\n  event.preventDefault();\\n\\n  //grab all form data\\n  var formData = new FormData($(this)[0]);\\n\\n  $.ajax({\\n    url: \"../process_structure\",\\n    type: \\'POST\\',\\n    data: formData,\\n    async: true,\\n    cache: false,\\n    contentType: false,\\n    processData: false,\\n    dataType: \\'json\\',\\n    success: function(data, textStatus,jqXHR) {\\n                    status_url = jqXHR.getResponseHeader(\\'Location\\');\\n                    redirect_url = jqXHR.getResponseHeader(\\'Redirect\\');\\n\\n                    update_progress(status_url,redirect_url);\\n                },\\n    error: function(jqXHR) {\\n        //<div class=\"alert alert-danger\" id=\"flash_alert\">\\n        //error_message = data[\\'error_message\\']//jqXHR.getResponseHeader(\\'error_message\\');\\n        //</div>\\n\\n        var error_message = jqXHR.responseJSON.message\\n\\n        if (checkExists(\\'#alert_list\\')) {\\n            // alert(\\'alert_list\\');\\n            div = $(\"\".concat(\\'<li>\\',error_message,\\'</li>\\'));\\n            $(\\'#alert_list\\').append(div);\\n        }\\n        else {\\n            //alert(\\'flash_alert\\');\\n            div = $(\"\".concat(\\'<div class=\"alert alert-danger\" id=\"flash_alert\"> Warning: <ul type=\"circle\" id=\"alert_list\"> <li>\\',error_message,\\'</li></ul></div>\\'));\\n            $(\\'#flash_alert\\').append(div);\\n        }\\n        //alert(error_message);\\n\\n\\n        // alert(\\'Unexpected error\\');\\n    }\\n  });\\n\\n  return false;\\n});\\n\\n/*function collect_email() {\\n  var email = prompt(\"Please enter your email\", \"example@example.com\");\\n  return email;\\n}\\n*/\\nfunction update_progress(status_url,redirect_url) {\\n\\n    pending_overlay();\\n    // send GET request to status URL\\n    $.getJSON(status_url, function(data) {\\n        // update UI\\n        percent = parseInt(data[\\'current\\'] * 100 / data[\\'total\\']);\\n\\n        if (data[\\'state\\'] == \\'PROGRESS\\') {\\n          loading_overlay(percent)\\n        }\\n        if (data[\\'state\\'] != \\'PENDING\\' && data[\\'state\\'] != \\'PROGRESS\\') {\\n            if (\\'result\\' in data) {\\n                // show result\\n\\n                $(\"html\").load(redirect_url);\\n                $(location).attr(\\'href\\',redirect_url);\\n            }\\n            else {\\n                // something unexpected happened\\n                alert(\\'Unexpected error. \\'+ \\'Result: \\' + data[\\'state\\']);\\n            }\\n        }\\n        else {\\n            // rerun in x seconds\\n            setTimeout(function() {\\n                update_progress(status_url, redirect_url);\\n            }, 300 );\\n        }\\n    });\\n}\\n    </script>\\n\\n\\n\\n<!--\\n<form id=\"data\">\\n      User Name: <input type=\"text\" name=\"username\" value=\"\"><br />\\n    <label for=\"examplestructure\">Select here a structure from the CSD:</label>\\n\\n      <select name=\"examplestructure\">\\n\\t    <option value=\\'GUMMUW04\\'>GUMMUW04</option>\\n\\n\\t  </select>\\n      <input type=\"submit\" value=\"Submit\">\\n    </form>\\n\\n    <script src=\"/submit_js/data-longtask\"></script>\\n-->\\n\\n    <div id=\\'citations\\'>\\n        <h2>How to cite</h2>\\n        <p>If you use this tool, please cite the following work:\\n        <ul>\\n        <li>\\n                <a href=\"https://doi.org/10.1073/pnas.1816132116\" target=\"_blank\"> David M. Wilkins, Andrea Grisafi, Yang Yang, Ka Un Lao,Robert A. DiStasio Jr. and Michele Ceriotti: Accurate molecular polarizabilities by coupled-cluster theory and machine learning  </a> Proc. Natl. Acad. Sci. 116, 3401 (2019).\\n\\n        </li>\\n        <li>\\n      \\t  The input parsers use a number of libraries (see name in the dropdown list) from\\n      \\t     <a href=\"https://wiki.fysik.dtu.dk/ase/\" target=\"_blank\">ASE</a>,\\n             <a href=\"http://pymatgen.org\" target=\"_blank\">pymatgen</a>.\\n      \\t</li>\\n\\t<li>\\n\\t  The web interface used in this tool is based on that of <a href=\"http://shiftml.org\">ShiftML</a>.\\n\\t</li>\\n        </ul>\\n        </p>\\n\\n    </div>\\n\\n    <div id=\\'acknowledgment\\'>\\n        <h2>Acknowledgment</h2>\\n        <p>We are grateful for support from:\\n        <ul>\\n        <li>\\n          Funding by the European Research Council under the European Union\\'s Horizon 2020 research and innovation program <br>\\n          (grant agreement no. 677013-HBMAP)\\n          <a href=\"https://ec.europa.eu/programmes/horizon2020/\" target=\"_blank\">\\n            <img src=\"../static/img/EC-H2020.png\" alt=\"EC-H2020 logo\" height=\"42\" vspace=\"10\" hspace=\"10\">\\n          </a>\\n        </li>\\n\\t<li>\\n         Partial support from Cornell University through startup funding\\n\\t</li>\\n        <li>\\n\\t  Computational resources of the Argonne Leadership Computing Facility at Argonne National Laboratory, which is supported by Office of Science of the US Department of Energy Contract DE-AC02-06CH11357. Additional computing time was provided by the Scientific IT and Application Support Center of <a href=\"https://www.epfl.ch\" target=\"_blank\">\\n            EPFL\\n          </a>\\n\\t  and by the <a href=\"http://www.cscs.ch\" target=\"_blank\">Swiss National Supercomputing Centre (CSCS)</a> under project ID s843.\\n        </li>\\n        </ul>\\n        </p>\\n\\n    </div>\\n\\n</div>\\n\\n<div style =\"position: relative\" data-iframe-height></div>\\n</body>\\n</html>'"
      ]
     },
     "execution_count": 72,
     "metadata": {},
     "output_type": "execute_result"
    }
   ],
   "source": [
    "response.text"
   ]
  },
  {
   "cell_type": "code",
   "execution_count": null,
   "id": "913b837b-311d-4171-bc79-9f279cdc59b1",
   "metadata": {},
   "outputs": [],
   "source": []
  },
  {
   "cell_type": "code",
   "execution_count": 60,
   "id": "2207c377-3dda-4522-9da8-e9676199fae0",
   "metadata": {},
   "outputs": [
    {
     "data": {
      "text/plain": [
       "<Response [200]>"
      ]
     },
     "execution_count": 60,
     "metadata": {},
     "output_type": "execute_result"
    }
   ],
   "source": [
    "response"
   ]
  },
  {
   "cell_type": "markdown",
   "id": "a3890036-adff-4860-b39d-b9459e95a915",
   "metadata": {},
   "source": [
    "# Selenium try #2"
   ]
  },
  {
   "cell_type": "code",
   "execution_count": 57,
   "id": "ed04adb5-f108-4af9-a1de-2bef95908104",
   "metadata": {},
   "outputs": [
    {
     "ename": "NoSuchElementException",
     "evalue": "Message: no such element: Unable to locate element: {\"method\":\"xpath\",\"selector\":\"//*[@id='process_structure']/div/div[1]/div[2]/input\"}\n  (Session info: chrome=115.0.5790.171); For documentation on this error, please visit: https://www.selenium.dev/documentation/webdriver/troubleshooting/errors#no-such-element-exception\nStacktrace:\nBacktrace:\n\tGetHandleVerifier [0x007A2B63+47795]\n\t(No symbol) [0x007367E1]\n\t(No symbol) [0x0063C7ED]\n\t(No symbol) [0x00669AC8]\n\t(No symbol) [0x00669B8B]\n\t(No symbol) [0x00698A82]\n\t(No symbol) [0x00684D14]\n\t(No symbol) [0x006971DA]\n\t(No symbol) [0x00684AC6]\n\t(No symbol) [0x006613D7]\n\t(No symbol) [0x0066255D]\n\tGetHandleVerifier [0x009F6F89+2490073]\n\tGetHandleVerifier [0x00A3C361+2773681]\n\tGetHandleVerifier [0x00A36211+2748769]\n\tGetHandleVerifier [0x008216B0+566784]\n\t(No symbol) [0x0074019A]\n\t(No symbol) [0x0073C418]\n\t(No symbol) [0x0073C4FB]\n\t(No symbol) [0x0072F317]\n\tBaseThreadInitThunk [0x76F37D59+25]\n\tRtlInitializeExceptionChain [0x77EAB79B+107]\n\tRtlClearBits [0x77EAB71F+191]\n",
     "output_type": "error",
     "traceback": [
      "\u001b[1;31m---------------------------------------------------------------------------\u001b[0m",
      "\u001b[1;31mNoSuchElementException\u001b[0m                    Traceback (most recent call last)",
      "Input \u001b[1;32mIn [57]\u001b[0m, in \u001b[0;36m<cell line: 22>\u001b[1;34m()\u001b[0m\n\u001b[0;32m     20\u001b[0m xpath \u001b[38;5;241m=\u001b[39m \u001b[38;5;124m\"\u001b[39m\u001b[38;5;124m//*[@id=\u001b[39m\u001b[38;5;124m'\u001b[39m\u001b[38;5;124mprocess_structure\u001b[39m\u001b[38;5;124m'\u001b[39m\u001b[38;5;124m]/div/div[1]/div[2]/input\u001b[39m\u001b[38;5;124m\"\u001b[39m\n\u001b[0;32m     21\u001b[0m \u001b[38;5;66;03m# Find the file input element\u001b[39;00m\n\u001b[1;32m---> 22\u001b[0m file_input \u001b[38;5;241m=\u001b[39m \u001b[43mdriver\u001b[49m\u001b[38;5;241;43m.\u001b[39;49m\u001b[43mfind_element\u001b[49m\u001b[43m(\u001b[49m\u001b[43mBy\u001b[49m\u001b[38;5;241;43m.\u001b[39;49m\u001b[43mXPATH\u001b[49m\u001b[43m,\u001b[49m\u001b[43m \u001b[49m\u001b[43mxpath\u001b[49m\u001b[43m)\u001b[49m\n\u001b[0;32m     23\u001b[0m \u001b[38;5;66;03m# Send the file path to the file input element\u001b[39;00m\n\u001b[0;32m     24\u001b[0m file_input\u001b[38;5;241m.\u001b[39msend_keys(file_path)\n",
      "File \u001b[1;32m~\\anaconda3\\lib\\site-packages\\selenium\\webdriver\\remote\\webdriver.py:739\u001b[0m, in \u001b[0;36mWebDriver.find_element\u001b[1;34m(self, by, value)\u001b[0m\n\u001b[0;32m    736\u001b[0m     by \u001b[38;5;241m=\u001b[39m By\u001b[38;5;241m.\u001b[39mCSS_SELECTOR\n\u001b[0;32m    737\u001b[0m     value \u001b[38;5;241m=\u001b[39m \u001b[38;5;124mf\u001b[39m\u001b[38;5;124m'\u001b[39m\u001b[38;5;124m[name=\u001b[39m\u001b[38;5;124m\"\u001b[39m\u001b[38;5;132;01m{\u001b[39;00mvalue\u001b[38;5;132;01m}\u001b[39;00m\u001b[38;5;124m\"\u001b[39m\u001b[38;5;124m]\u001b[39m\u001b[38;5;124m'\u001b[39m\n\u001b[1;32m--> 739\u001b[0m \u001b[38;5;28;01mreturn\u001b[39;00m \u001b[38;5;28;43mself\u001b[39;49m\u001b[38;5;241;43m.\u001b[39;49m\u001b[43mexecute\u001b[49m\u001b[43m(\u001b[49m\u001b[43mCommand\u001b[49m\u001b[38;5;241;43m.\u001b[39;49m\u001b[43mFIND_ELEMENT\u001b[49m\u001b[43m,\u001b[49m\u001b[43m \u001b[49m\u001b[43m{\u001b[49m\u001b[38;5;124;43m\"\u001b[39;49m\u001b[38;5;124;43musing\u001b[39;49m\u001b[38;5;124;43m\"\u001b[39;49m\u001b[43m:\u001b[49m\u001b[43m \u001b[49m\u001b[43mby\u001b[49m\u001b[43m,\u001b[49m\u001b[43m \u001b[49m\u001b[38;5;124;43m\"\u001b[39;49m\u001b[38;5;124;43mvalue\u001b[39;49m\u001b[38;5;124;43m\"\u001b[39;49m\u001b[43m:\u001b[49m\u001b[43m \u001b[49m\u001b[43mvalue\u001b[49m\u001b[43m}\u001b[49m\u001b[43m)\u001b[49m[\u001b[38;5;124m\"\u001b[39m\u001b[38;5;124mvalue\u001b[39m\u001b[38;5;124m\"\u001b[39m]\n",
      "File \u001b[1;32m~\\anaconda3\\lib\\site-packages\\selenium\\webdriver\\remote\\webdriver.py:345\u001b[0m, in \u001b[0;36mWebDriver.execute\u001b[1;34m(self, driver_command, params)\u001b[0m\n\u001b[0;32m    343\u001b[0m response \u001b[38;5;241m=\u001b[39m \u001b[38;5;28mself\u001b[39m\u001b[38;5;241m.\u001b[39mcommand_executor\u001b[38;5;241m.\u001b[39mexecute(driver_command, params)\n\u001b[0;32m    344\u001b[0m \u001b[38;5;28;01mif\u001b[39;00m response:\n\u001b[1;32m--> 345\u001b[0m     \u001b[38;5;28;43mself\u001b[39;49m\u001b[38;5;241;43m.\u001b[39;49m\u001b[43merror_handler\u001b[49m\u001b[38;5;241;43m.\u001b[39;49m\u001b[43mcheck_response\u001b[49m\u001b[43m(\u001b[49m\u001b[43mresponse\u001b[49m\u001b[43m)\u001b[49m\n\u001b[0;32m    346\u001b[0m     response[\u001b[38;5;124m\"\u001b[39m\u001b[38;5;124mvalue\u001b[39m\u001b[38;5;124m\"\u001b[39m] \u001b[38;5;241m=\u001b[39m \u001b[38;5;28mself\u001b[39m\u001b[38;5;241m.\u001b[39m_unwrap_value(response\u001b[38;5;241m.\u001b[39mget(\u001b[38;5;124m\"\u001b[39m\u001b[38;5;124mvalue\u001b[39m\u001b[38;5;124m\"\u001b[39m, \u001b[38;5;28;01mNone\u001b[39;00m))\n\u001b[0;32m    347\u001b[0m     \u001b[38;5;28;01mreturn\u001b[39;00m response\n",
      "File \u001b[1;32m~\\anaconda3\\lib\\site-packages\\selenium\\webdriver\\remote\\errorhandler.py:229\u001b[0m, in \u001b[0;36mErrorHandler.check_response\u001b[1;34m(self, response)\u001b[0m\n\u001b[0;32m    227\u001b[0m         alert_text \u001b[38;5;241m=\u001b[39m value[\u001b[38;5;124m\"\u001b[39m\u001b[38;5;124malert\u001b[39m\u001b[38;5;124m\"\u001b[39m]\u001b[38;5;241m.\u001b[39mget(\u001b[38;5;124m\"\u001b[39m\u001b[38;5;124mtext\u001b[39m\u001b[38;5;124m\"\u001b[39m)\n\u001b[0;32m    228\u001b[0m     \u001b[38;5;28;01mraise\u001b[39;00m exception_class(message, screen, stacktrace, alert_text)  \u001b[38;5;66;03m# type: ignore[call-arg]  # mypy is not smart enough here\u001b[39;00m\n\u001b[1;32m--> 229\u001b[0m \u001b[38;5;28;01mraise\u001b[39;00m exception_class(message, screen, stacktrace)\n",
      "\u001b[1;31mNoSuchElementException\u001b[0m: Message: no such element: Unable to locate element: {\"method\":\"xpath\",\"selector\":\"//*[@id='process_structure']/div/div[1]/div[2]/input\"}\n  (Session info: chrome=115.0.5790.171); For documentation on this error, please visit: https://www.selenium.dev/documentation/webdriver/troubleshooting/errors#no-such-element-exception\nStacktrace:\nBacktrace:\n\tGetHandleVerifier [0x007A2B63+47795]\n\t(No symbol) [0x007367E1]\n\t(No symbol) [0x0063C7ED]\n\t(No symbol) [0x00669AC8]\n\t(No symbol) [0x00669B8B]\n\t(No symbol) [0x00698A82]\n\t(No symbol) [0x00684D14]\n\t(No symbol) [0x006971DA]\n\t(No symbol) [0x00684AC6]\n\t(No symbol) [0x006613D7]\n\t(No symbol) [0x0066255D]\n\tGetHandleVerifier [0x009F6F89+2490073]\n\tGetHandleVerifier [0x00A3C361+2773681]\n\tGetHandleVerifier [0x00A36211+2748769]\n\tGetHandleVerifier [0x008216B0+566784]\n\t(No symbol) [0x0074019A]\n\t(No symbol) [0x0073C418]\n\t(No symbol) [0x0073C4FB]\n\t(No symbol) [0x0072F317]\n\tBaseThreadInitThunk [0x76F37D59+25]\n\tRtlInitializeExceptionChain [0x77EAB79B+107]\n\tRtlClearBits [0x77EAB71F+191]\n"
     ]
    }
   ],
   "source": [
    "from selenium import webdriver\n",
    "from selenium.webdriver.common.by import By\n",
    "from selenium.webdriver.common.keys import Keys\n",
    "import time\n",
    "\n",
    "# URL of the webpage\n",
    "url = \"https://www.materialscloud.org/work/tools/alphaml\"\n",
    "\n",
    "# Path to the file you want to upload\n",
    "file_path = \"C:\\\\Users\\\\roste\\\\Downloads\\\\IR-Raman-Axolotl\\\\CO2.xyz\"\n",
    "\n",
    "# Start a new instance of Chrome web browser\n",
    "driver = webdriver.Chrome()\n",
    "\n",
    "# Open the webpage\n",
    "driver.get(url)\n",
    "\n",
    "# try:\n",
    "\n",
    "xpath = \"//*[@id='process_structure']/div/div[1]/div[2]/input\"\n",
    "# Find the file input element\n",
    "file_input = driver.find_element(By.XPATH, xpath)\n",
    "# Send the file path to the file input element\n",
    "file_input.send_keys(file_path)\n",
    "\n",
    "# Add a delay to allow the upload process to complete\n",
    "time.sleep(3)\n"
   ]
  },
  {
   "cell_type": "code",
   "execution_count": 76,
   "id": "304c8ad2-1870-4a30-a2e0-abea712089c4",
   "metadata": {},
   "outputs": [
    {
     "ename": "AttributeError",
     "evalue": "'str' object has no attribute 'capabilities'",
     "output_type": "error",
     "traceback": [
      "\u001b[1;31m---------------------------------------------------------------------------\u001b[0m",
      "\u001b[1;31mAttributeError\u001b[0m                            Traceback (most recent call last)",
      "File \u001b[1;32m~\\anaconda3\\lib\\site-packages\\selenium\\webdriver\\common\\driver_finder.py:38\u001b[0m, in \u001b[0;36mDriverFinder.get_path\u001b[1;34m(service, options)\u001b[0m\n\u001b[0;32m     37\u001b[0m \u001b[38;5;28;01mtry\u001b[39;00m:\n\u001b[1;32m---> 38\u001b[0m     path \u001b[38;5;241m=\u001b[39m \u001b[43mSeleniumManager\u001b[49m\u001b[43m(\u001b[49m\u001b[43m)\u001b[49m\u001b[38;5;241;43m.\u001b[39;49m\u001b[43mdriver_location\u001b[49m\u001b[43m(\u001b[49m\u001b[43moptions\u001b[49m\u001b[43m)\u001b[49m \u001b[38;5;28;01mif\u001b[39;00m path \u001b[38;5;129;01mis\u001b[39;00m \u001b[38;5;28;01mNone\u001b[39;00m \u001b[38;5;28;01melse\u001b[39;00m path\n\u001b[0;32m     39\u001b[0m \u001b[38;5;28;01mexcept\u001b[39;00m \u001b[38;5;167;01mException\u001b[39;00m \u001b[38;5;28;01mas\u001b[39;00m err:\n",
      "File \u001b[1;32m~\\anaconda3\\lib\\site-packages\\selenium\\webdriver\\common\\selenium_manager.py:71\u001b[0m, in \u001b[0;36mSeleniumManager.driver_location\u001b[1;34m(self, options)\u001b[0m\n\u001b[0;32m     64\u001b[0m \u001b[38;5;250m\u001b[39m\u001b[38;5;124;03m\"\"\"\u001b[39;00m\n\u001b[0;32m     65\u001b[0m \u001b[38;5;124;03mDetermines the path of the correct driver.\u001b[39;00m\n\u001b[0;32m     66\u001b[0m \u001b[38;5;124;03m:Args:\u001b[39;00m\n\u001b[0;32m     67\u001b[0m \u001b[38;5;124;03m - browser: which browser to get the driver path for.\u001b[39;00m\n\u001b[0;32m     68\u001b[0m \u001b[38;5;124;03m:Returns: The driver path to use\u001b[39;00m\n\u001b[0;32m     69\u001b[0m \u001b[38;5;124;03m\"\"\"\u001b[39;00m\n\u001b[1;32m---> 71\u001b[0m browser \u001b[38;5;241m=\u001b[39m \u001b[43moptions\u001b[49m\u001b[38;5;241;43m.\u001b[39;49m\u001b[43mcapabilities\u001b[49m[\u001b[38;5;124m\"\u001b[39m\u001b[38;5;124mbrowserName\u001b[39m\u001b[38;5;124m\"\u001b[39m]\n\u001b[0;32m     73\u001b[0m args \u001b[38;5;241m=\u001b[39m [\u001b[38;5;28mstr\u001b[39m(\u001b[38;5;28mself\u001b[39m\u001b[38;5;241m.\u001b[39mget_binary()), \u001b[38;5;124m\"\u001b[39m\u001b[38;5;124m--browser\u001b[39m\u001b[38;5;124m\"\u001b[39m, browser]\n",
      "\u001b[1;31mAttributeError\u001b[0m: 'str' object has no attribute 'capabilities'",
      "\nDuring handling of the above exception, another exception occurred:\n",
      "\u001b[1;31mAttributeError\u001b[0m                            Traceback (most recent call last)",
      "Input \u001b[1;32mIn [76]\u001b[0m, in \u001b[0;36m<cell line: 9>\u001b[1;34m()\u001b[0m\n\u001b[0;32m      6\u001b[0m file_path \u001b[38;5;241m=\u001b[39m \u001b[38;5;124m'\u001b[39m\u001b[38;5;124mC:\u001b[39m\u001b[38;5;130;01m\\\\\u001b[39;00m\u001b[38;5;124mUsers\u001b[39m\u001b[38;5;130;01m\\\\\u001b[39;00m\u001b[38;5;124mroste\u001b[39m\u001b[38;5;130;01m\\\\\u001b[39;00m\u001b[38;5;124mDownloads\u001b[39m\u001b[38;5;130;01m\\\\\u001b[39;00m\u001b[38;5;124mIR-Raman-Axolotl\u001b[39m\u001b[38;5;130;01m\\\\\u001b[39;00m\u001b[38;5;124mCO2.xyz\u001b[39m\u001b[38;5;124m'\u001b[39m\n\u001b[0;32m      8\u001b[0m \u001b[38;5;66;03m# Set up the WebDriver (you might need to adjust the driver path)\u001b[39;00m\n\u001b[1;32m----> 9\u001b[0m driver \u001b[38;5;241m=\u001b[39m \u001b[43mwebdriver\u001b[49m\u001b[38;5;241;43m.\u001b[39;49m\u001b[43mChrome\u001b[49m\u001b[43m(\u001b[49m\u001b[38;5;124;43m'\u001b[39;49m\u001b[38;5;124;43mDownloads/IR-Raman-Axolotl/chromedriver.exe\u001b[39;49m\u001b[38;5;124;43m'\u001b[39;49m\u001b[43m)\u001b[49m\n\u001b[0;32m     11\u001b[0m \u001b[38;5;66;03m# URL of the upload endpoint\u001b[39;00m\n\u001b[0;32m     12\u001b[0m upload_url \u001b[38;5;241m=\u001b[39m \u001b[38;5;124m'\u001b[39m\u001b[38;5;124mhttps://tools.materialscloud.org/alphaml/input_structure/\u001b[39m\u001b[38;5;124m'\u001b[39m\n",
      "File \u001b[1;32m~\\anaconda3\\lib\\site-packages\\selenium\\webdriver\\chrome\\webdriver.py:45\u001b[0m, in \u001b[0;36mWebDriver.__init__\u001b[1;34m(self, options, service, keep_alive)\u001b[0m\n\u001b[0;32m     42\u001b[0m service \u001b[38;5;241m=\u001b[39m service \u001b[38;5;28;01mif\u001b[39;00m service \u001b[38;5;28;01melse\u001b[39;00m Service()\n\u001b[0;32m     43\u001b[0m options \u001b[38;5;241m=\u001b[39m options \u001b[38;5;28;01mif\u001b[39;00m options \u001b[38;5;28;01melse\u001b[39;00m Options()\n\u001b[1;32m---> 45\u001b[0m \u001b[38;5;28;43msuper\u001b[39;49m\u001b[43m(\u001b[49m\u001b[43m)\u001b[49m\u001b[38;5;241;43m.\u001b[39;49m\u001b[38;5;21;43m__init__\u001b[39;49m\u001b[43m(\u001b[49m\n\u001b[0;32m     46\u001b[0m \u001b[43m    \u001b[49m\u001b[43mDesiredCapabilities\u001b[49m\u001b[38;5;241;43m.\u001b[39;49m\u001b[43mCHROME\u001b[49m\u001b[43m[\u001b[49m\u001b[38;5;124;43m\"\u001b[39;49m\u001b[38;5;124;43mbrowserName\u001b[39;49m\u001b[38;5;124;43m\"\u001b[39;49m\u001b[43m]\u001b[49m\u001b[43m,\u001b[49m\n\u001b[0;32m     47\u001b[0m \u001b[43m    \u001b[49m\u001b[38;5;124;43m\"\u001b[39;49m\u001b[38;5;124;43mgoog\u001b[39;49m\u001b[38;5;124;43m\"\u001b[39;49m\u001b[43m,\u001b[49m\n\u001b[0;32m     48\u001b[0m \u001b[43m    \u001b[49m\u001b[43moptions\u001b[49m\u001b[43m,\u001b[49m\n\u001b[0;32m     49\u001b[0m \u001b[43m    \u001b[49m\u001b[43mservice\u001b[49m\u001b[43m,\u001b[49m\n\u001b[0;32m     50\u001b[0m \u001b[43m    \u001b[49m\u001b[43mkeep_alive\u001b[49m\u001b[43m,\u001b[49m\n\u001b[0;32m     51\u001b[0m \u001b[43m\u001b[49m\u001b[43m)\u001b[49m\n",
      "File \u001b[1;32m~\\anaconda3\\lib\\site-packages\\selenium\\webdriver\\chromium\\webdriver.py:51\u001b[0m, in \u001b[0;36mChromiumDriver.__init__\u001b[1;34m(self, browser_name, vendor_prefix, options, service, keep_alive)\u001b[0m\n\u001b[0;32m     47\u001b[0m \u001b[38;5;28mself\u001b[39m\u001b[38;5;241m.\u001b[39mvendor_prefix \u001b[38;5;241m=\u001b[39m vendor_prefix\n\u001b[0;32m     49\u001b[0m \u001b[38;5;28mself\u001b[39m\u001b[38;5;241m.\u001b[39mservice \u001b[38;5;241m=\u001b[39m service\n\u001b[1;32m---> 51\u001b[0m \u001b[38;5;28mself\u001b[39m\u001b[38;5;241m.\u001b[39mservice\u001b[38;5;241m.\u001b[39mpath \u001b[38;5;241m=\u001b[39m \u001b[43mDriverFinder\u001b[49m\u001b[38;5;241;43m.\u001b[39;49m\u001b[43mget_path\u001b[49m\u001b[43m(\u001b[49m\u001b[38;5;28;43mself\u001b[39;49m\u001b[38;5;241;43m.\u001b[39;49m\u001b[43mservice\u001b[49m\u001b[43m,\u001b[49m\u001b[43m \u001b[49m\u001b[43moptions\u001b[49m\u001b[43m)\u001b[49m\n\u001b[0;32m     53\u001b[0m \u001b[38;5;28mself\u001b[39m\u001b[38;5;241m.\u001b[39mservice\u001b[38;5;241m.\u001b[39mstart()\n\u001b[0;32m     55\u001b[0m \u001b[38;5;28;01mtry\u001b[39;00m:\n",
      "File \u001b[1;32m~\\anaconda3\\lib\\site-packages\\selenium\\webdriver\\common\\driver_finder.py:40\u001b[0m, in \u001b[0;36mDriverFinder.get_path\u001b[1;34m(service, options)\u001b[0m\n\u001b[0;32m     38\u001b[0m     path \u001b[38;5;241m=\u001b[39m SeleniumManager()\u001b[38;5;241m.\u001b[39mdriver_location(options) \u001b[38;5;28;01mif\u001b[39;00m path \u001b[38;5;129;01mis\u001b[39;00m \u001b[38;5;28;01mNone\u001b[39;00m \u001b[38;5;28;01melse\u001b[39;00m path\n\u001b[0;32m     39\u001b[0m \u001b[38;5;28;01mexcept\u001b[39;00m \u001b[38;5;167;01mException\u001b[39;00m \u001b[38;5;28;01mas\u001b[39;00m err:\n\u001b[1;32m---> 40\u001b[0m     msg \u001b[38;5;241m=\u001b[39m \u001b[38;5;124mf\u001b[39m\u001b[38;5;124m\"\u001b[39m\u001b[38;5;124mUnable to obtain driver for \u001b[39m\u001b[38;5;132;01m{\u001b[39;00moptions\u001b[38;5;241m.\u001b[39mcapabilities[\u001b[38;5;124m'\u001b[39m\u001b[38;5;124mbrowserName\u001b[39m\u001b[38;5;124m'\u001b[39m]\u001b[38;5;132;01m}\u001b[39;00m\u001b[38;5;124m using Selenium Manager.\u001b[39m\u001b[38;5;124m\"\u001b[39m\n\u001b[0;32m     41\u001b[0m     \u001b[38;5;28;01mraise\u001b[39;00m NoSuchDriverException(msg) \u001b[38;5;28;01mfrom\u001b[39;00m \u001b[38;5;21;01merr\u001b[39;00m\n\u001b[0;32m     43\u001b[0m \u001b[38;5;28;01mif\u001b[39;00m path \u001b[38;5;129;01mis\u001b[39;00m \u001b[38;5;28;01mNone\u001b[39;00m \u001b[38;5;129;01mor\u001b[39;00m \u001b[38;5;129;01mnot\u001b[39;00m Path(path)\u001b[38;5;241m.\u001b[39mis_file():\n",
      "\u001b[1;31mAttributeError\u001b[0m: 'str' object has no attribute 'capabilities'"
     ]
    }
   ],
   "source": [
    "from selenium import webdriver\n",
    "from selenium.webdriver.common.keys import Keys\n",
    "import time\n",
    "\n",
    "# Path to the file you want to upload\n",
    "file_path = 'C:\\\\Users\\\\roste\\\\Downloads\\\\IR-Raman-Axolotl\\\\CO2.xyz'\n",
    "\n",
    "# Set up the WebDriver (you might need to adjust the driver path)\n",
    "driver = webdriver.Chrome('Downloads/IR-Raman-Axolotl/chromedriver.exe')\n",
    "\n",
    "# URL of the upload endpoint\n",
    "upload_url = 'https://tools.materialscloud.org/alphaml/input_structure/'\n",
    "\n",
    "# Open the upload URL\n",
    "driver.get(upload_url)\n",
    "\n",
    "# Find the file input element and send the file path\n",
    "file_input = driver.find_element_by_name('structurefile')\n",
    "file_input.send_keys(file_path)\n",
    "\n",
    "# Find the format select element and select the desired option\n",
    "format_select = driver.find_element_by_id('fileformatSelect')\n",
    "format_select.send_keys('xyz-ase')\n",
    "\n",
    "# Find the model type select element and select the desired option\n",
    "model_select = driver.find_element_by_id('modeltypeselect')\n",
    "model_select.send_keys('ccsd')\n",
    "\n",
    "# Find the \"Calculate Polarizability\" button and click it\n",
    "calculate_button = driver.find_element_by_css_selector('input[type=\"submit\"][value=\"Calculate Polarizability\"]')\n",
    "calculate_button.click()\n",
    "\n",
    "# Wait for the calculation to complete (adjust the time as needed)\n",
    "time.sleep(10)  # You might need to wait longer depending on the processing time\n",
    "\n",
    "# Close the WebDriver\n",
    "driver.quit()\n",
    "\n"
   ]
  },
  {
   "cell_type": "markdown",
   "id": "015b1b50-b0b6-4e1c-a07c-e0219414ea89",
   "metadata": {},
   "source": [
    "# New attempt with kallisto\n"
   ]
  },
  {
   "cell_type": "code",
   "execution_count": 77,
   "id": "e0deea12-3049-4ee8-b47e-84b28561c37a",
   "metadata": {},
   "outputs": [
    {
     "name": "stdout",
     "output_type": "stream",
     "text": [
      "Note: you may need to restart the kernel to use updated packages.Collecting kallisto\n",
      "  Downloading kallisto-1.0.9-py3-none-any.whl (104 kB)\n",
      "     ---------------------------------------- 0.0/104.7 kB ? eta -:--:--\n",
      "     ---------- -------------------------- 30.7/104.7 kB 660.6 kB/s eta 0:00:01\n",
      "     -------------------------------------- 104.7/104.7 kB 1.2 MB/s eta 0:00:00\n",
      "Requirement already satisfied: click<9.0.0,>=8.0.0 in c:\\users\\roste\\anaconda3\\lib\\site-packages (from kallisto) (8.1.6)\n",
      "Requirement already satisfied: numpy<2.0.0,>=1.19.0 in c:\\users\\roste\\anaconda3\\lib\\site-packages (from kallisto) (1.23.5)\n",
      "Collecting scipy==1.9.2 (from kallisto)\n",
      "  Downloading scipy-1.9.2-cp38-cp38-win_amd64.whl (39.8 MB)\n",
      "     ---------------------------------------- 0.0/39.8 MB ? eta -:--:--\n",
      "     ---------------------------------------- 0.3/39.8 MB 6.3 MB/s eta 0:00:07\n",
      "     ---------------------------------------- 0.5/39.8 MB 4.1 MB/s eta 0:00:10\n",
      "      --------------------------------------- 0.6/39.8 MB 3.5 MB/s eta 0:00:12\n",
      "      --------------------------------------- 0.8/39.8 MB 3.3 MB/s eta 0:00:12\n",
      "      --------------------------------------- 0.9/39.8 MB 3.2 MB/s eta 0:00:13\n",
      "     - -------------------------------------- 1.0/39.8 MB 3.0 MB/s eta 0:00:13\n",
      "     - -------------------------------------- 1.1/39.8 MB 2.9 MB/s eta 0:00:14\n",
      "     - -------------------------------------- 1.2/39.8 MB 2.8 MB/s eta 0:00:14\n",
      "     - -------------------------------------- 1.4/39.8 MB 2.8 MB/s eta 0:00:14\n",
      "     - -------------------------------------- 1.5/39.8 MB 2.8 MB/s eta 0:00:14\n",
      "     - -------------------------------------- 1.6/39.8 MB 2.8 MB/s eta 0:00:14\n",
      "     - -------------------------------------- 1.7/39.8 MB 2.7 MB/s eta 0:00:15\n",
      "     - -------------------------------------- 1.8/39.8 MB 2.7 MB/s eta 0:00:15\n",
      "     - -------------------------------------- 1.9/39.8 MB 2.7 MB/s eta 0:00:15\n",
      "     -- ------------------------------------- 2.0/39.8 MB 2.7 MB/s eta 0:00:15\n",
      "     -- ------------------------------------- 2.2/39.8 MB 2.6 MB/s eta 0:00:15\n",
      "     -- ------------------------------------- 2.3/39.8 MB 2.6 MB/s eta 0:00:15\n",
      "     -- ------------------------------------- 2.4/39.8 MB 2.6 MB/s eta 0:00:15\n",
      "     -- ------------------------------------- 2.5/39.8 MB 2.6 MB/s eta 0:00:15\n",
      "     -- ------------------------------------- 2.6/39.8 MB 2.6 MB/s eta 0:00:15\n",
      "     -- ------------------------------------- 2.7/39.8 MB 2.6 MB/s eta 0:00:15\n",
      "     -- ------------------------------------- 2.8/39.8 MB 2.6 MB/s eta 0:00:15\n",
      "     -- ------------------------------------- 2.9/39.8 MB 2.5 MB/s eta 0:00:15\n",
      "     --- ------------------------------------ 3.0/39.8 MB 2.6 MB/s eta 0:00:15\n",
      "     --- ------------------------------------ 3.1/39.8 MB 2.5 MB/s eta 0:00:15\n",
      "     --- ------------------------------------ 3.2/39.8 MB 2.5 MB/s eta 0:00:15\n",
      "     --- ------------------------------------ 3.4/39.8 MB 2.5 MB/s eta 0:00:15\n",
      "     --- ------------------------------------ 3.5/39.8 MB 2.5 MB/s eta 0:00:15\n",
      "     --- ------------------------------------ 3.6/39.8 MB 2.5 MB/s eta 0:00:15\n",
      "     --- ------------------------------------ 3.6/39.8 MB 2.5 MB/s eta 0:00:15\n",
      "     --- ------------------------------------ 3.8/39.8 MB 2.5 MB/s eta 0:00:15\n",
      "     --- ------------------------------------ 3.9/39.8 MB 2.5 MB/s eta 0:00:15\n",
      "     ---- ----------------------------------- 4.0/39.8 MB 2.5 MB/s eta 0:00:15\n",
      "     ---- ----------------------------------- 4.1/39.8 MB 2.4 MB/s eta 0:00:15\n",
      "     ---- ----------------------------------- 4.2/39.8 MB 2.5 MB/s eta 0:00:15\n",
      "     ---- ----------------------------------- 4.3/39.8 MB 2.5 MB/s eta 0:00:15\n",
      "     ---- ----------------------------------- 4.4/39.8 MB 2.5 MB/s eta 0:00:15\n",
      "     ---- ----------------------------------- 4.5/39.8 MB 2.5 MB/s eta 0:00:15\n",
      "     ---- ----------------------------------- 4.6/39.8 MB 2.5 MB/s eta 0:00:15\n",
      "     ---- ----------------------------------- 4.7/39.8 MB 2.5 MB/s eta 0:00:15\n",
      "     ---- ----------------------------------- 4.8/39.8 MB 2.4 MB/s eta 0:00:15\n",
      "     ---- ----------------------------------- 4.8/39.8 MB 2.4 MB/s eta 0:00:15\n",
      "     ---- ----------------------------------- 4.9/39.8 MB 2.4 MB/s eta 0:00:15\n",
      "     ----- ---------------------------------- 5.0/39.8 MB 2.4 MB/s eta 0:00:15\n",
      "     ----- ---------------------------------- 5.1/39.8 MB 2.4 MB/s eta 0:00:15\n",
      "     ----- ---------------------------------- 5.2/39.8 MB 2.4 MB/s eta 0:00:15\n",
      "     ----- ---------------------------------- 5.4/39.8 MB 2.4 MB/s eta 0:00:15\n",
      "     ----- ---------------------------------- 5.4/39.8 MB 2.3 MB/s eta 0:00:15\n",
      "     ----- ---------------------------------- 5.5/39.8 MB 2.4 MB/s eta 0:00:15\n",
      "     ----- ---------------------------------- 5.6/39.8 MB 2.3 MB/s eta 0:00:15\n",
      "     ----- ---------------------------------- 5.7/39.8 MB 2.3 MB/s eta 0:00:15\n",
      "     ----- ---------------------------------- 5.7/39.8 MB 2.3 MB/s eta 0:00:15\n",
      "     ----- ---------------------------------- 5.8/39.8 MB 2.3 MB/s eta 0:00:15\n",
      "     ----- ---------------------------------- 6.0/39.8 MB 2.3 MB/s eta 0:00:15\n",
      "     ------ --------------------------------- 6.1/39.8 MB 2.3 MB/s eta 0:00:15\n",
      "     ------ --------------------------------- 6.2/39.8 MB 2.3 MB/s eta 0:00:15\n",
      "     ------ --------------------------------- 6.2/39.8 MB 2.3 MB/s eta 0:00:15\n",
      "     ------ --------------------------------- 6.3/39.8 MB 2.3 MB/s eta 0:00:15\n",
      "     ------ --------------------------------- 6.5/39.8 MB 2.3 MB/s eta 0:00:15\n",
      "     ------ --------------------------------- 6.7/39.8 MB 2.3 MB/s eta 0:00:15\n",
      "     ------ --------------------------------- 6.8/39.8 MB 2.3 MB/s eta 0:00:15\n",
      "     ------ --------------------------------- 6.9/39.8 MB 2.3 MB/s eta 0:00:15\n",
      "     ------- -------------------------------- 7.0/39.8 MB 2.3 MB/s eta 0:00:15\n",
      "     ------- -------------------------------- 7.1/39.8 MB 2.3 MB/s eta 0:00:15\n",
      "     ------- -------------------------------- 7.2/39.8 MB 2.3 MB/s eta 0:00:15\n",
      "     ------- -------------------------------- 7.3/39.8 MB 2.3 MB/s eta 0:00:15\n",
      "     ------- -------------------------------- 7.4/39.8 MB 2.3 MB/s eta 0:00:15\n",
      "     ------- -------------------------------- 7.7/39.8 MB 2.3 MB/s eta 0:00:14\n",
      "     -------- ------------------------------- 8.0/39.8 MB 2.4 MB/s eta 0:00:14\n",
      "     -------- ------------------------------- 8.2/39.8 MB 2.4 MB/s eta 0:00:13\n",
      "     -------- ------------------------------- 8.5/39.8 MB 2.5 MB/s eta 0:00:13\n",
      "     -------- ------------------------------- 8.7/39.8 MB 2.5 MB/s eta 0:00:13\n",
      "     --------- ------------------------------ 9.0/39.8 MB 2.6 MB/s eta 0:00:13\n",
      "     --------- ------------------------------ 9.2/39.8 MB 2.6 MB/s eta 0:00:12\n",
      "     --------- ------------------------------ 9.5/39.8 MB 2.6 MB/s eta 0:00:12\n",
      "     --------- ------------------------------ 9.7/39.8 MB 2.7 MB/s eta 0:00:12\n",
      "     ---------- ----------------------------- 10.0/39.8 MB 2.7 MB/s eta 0:00:11\n",
      "     ---------- ----------------------------- 10.3/39.8 MB 2.7 MB/s eta 0:00:11\n",
      "     ---------- ----------------------------- 10.6/39.8 MB 2.8 MB/s eta 0:00:11\n",
      "     ----------- ---------------------------- 11.0/39.8 MB 2.8 MB/s eta 0:00:11\n",
      "     ----------- ---------------------------- 11.4/39.8 MB 2.9 MB/s eta 0:00:10\n",
      "     ----------- ---------------------------- 11.7/39.8 MB 3.0 MB/s eta 0:00:10\n",
      "     ------------ --------------------------- 12.0/39.8 MB 3.0 MB/s eta 0:00:10\n",
      "     ------------ --------------------------- 12.3/39.8 MB 3.1 MB/s eta 0:00:09\n",
      "     ------------ --------------------------- 12.6/39.8 MB 3.2 MB/s eta 0:00:09\n",
      "     ------------ --------------------------- 12.9/39.8 MB 3.2 MB/s eta 0:00:09\n",
      "     ------------- -------------------------- 13.1/39.8 MB 3.3 MB/s eta 0:00:09\n",
      "     ------------- -------------------------- 13.4/39.8 MB 3.4 MB/s eta 0:00:08\n",
      "     ------------- -------------------------- 13.7/39.8 MB 3.5 MB/s eta 0:00:08\n",
      "     -------------- ------------------------- 13.9/39.8 MB 3.6 MB/s eta 0:00:08\n",
      "     -------------- ------------------------- 14.2/39.8 MB 3.7 MB/s eta 0:00:07\n",
      "     -------------- ------------------------- 14.5/39.8 MB 3.8 MB/s eta 0:00:07\n",
      "     -------------- ------------------------- 14.8/39.8 MB 3.9 MB/s eta 0:00:07\n",
      "     --------------- ------------------------ 15.0/39.8 MB 4.1 MB/s eta 0:00:07\n",
      "     --------------- ------------------------ 15.3/39.8 MB 4.2 MB/s eta 0:00:06\n",
      "     --------------- ------------------------ 15.6/39.8 MB 4.3 MB/s eta 0:00:06\n",
      "     --------------- ------------------------ 15.7/39.8 MB 4.5 MB/s eta 0:00:06\n",
      "     ---------------- ----------------------- 16.1/39.8 MB 4.6 MB/s eta 0:00:06\n",
      "     ---------------- ----------------------- 16.3/39.8 MB 4.8 MB/s eta 0:00:05\n",
      "     ---------------- ----------------------- 16.6/39.8 MB 5.0 MB/s eta 0:00:05\n",
      "     ----------------- ---------------------- 16.9/39.8 MB 5.2 MB/s eta 0:00:05\n",
      "     ----------------- ---------------------- 17.2/39.8 MB 5.4 MB/s eta 0:00:05\n",
      "     ----------------- ---------------------- 17.5/39.8 MB 5.6 MB/s eta 0:00:04\n",
      "     ----------------- ---------------------- 17.8/39.8 MB 5.8 MB/s eta 0:00:04\n",
      "     ------------------ --------------------- 18.0/39.8 MB 5.8 MB/s eta 0:00:04\n",
      "     ------------------ --------------------- 18.3/39.8 MB 5.8 MB/s eta 0:00:04\n",
      "     ------------------ --------------------- 18.6/39.8 MB 5.8 MB/s eta 0:00:04\n",
      "     ------------------ --------------------- 18.9/39.8 MB 5.8 MB/s eta 0:00:04\n",
      "     ------------------- -------------------- 19.1/39.8 MB 5.8 MB/s eta 0:00:04\n",
      "     ------------------- -------------------- 19.4/39.8 MB 5.8 MB/s eta 0:00:04\n",
      "     ------------------- -------------------- 19.7/39.8 MB 5.9 MB/s eta 0:00:04\n",
      "     -------------------- ------------------- 20.0/39.8 MB 6.0 MB/s eta 0:00:04\n",
      "     -------------------- ------------------- 20.4/39.8 MB 6.0 MB/s eta 0:00:04\n",
      "     -------------------- ------------------- 20.8/39.8 MB 5.9 MB/s eta 0:00:04\n",
      "     --------------------- ------------------ 21.2/39.8 MB 6.0 MB/s eta 0:00:04\n",
      "     --------------------- ------------------ 21.5/39.8 MB 6.0 MB/s eta 0:00:04\n",
      "     --------------------- ------------------ 21.8/39.8 MB 5.9 MB/s eta 0:00:04\n",
      "     ---------------------- ----------------- 22.1/39.8 MB 6.0 MB/s eta 0:00:03\n",
      "     ---------------------- ----------------- 22.4/39.8 MB 6.0 MB/s eta 0:00:03\n",
      "     ---------------------- ----------------- 22.6/39.8 MB 6.0 MB/s eta 0:00:03\n",
      "     ----------------------- ---------------- 23.0/39.8 MB 6.0 MB/s eta 0:00:03\n",
      "     ----------------------- ---------------- 23.3/39.8 MB 6.0 MB/s eta 0:00:03\n",
      "     ----------------------- ---------------- 23.5/39.8 MB 6.0 MB/s eta 0:00:03\n",
      "     ----------------------- ---------------- 23.6/39.8 MB 6.0 MB/s eta 0:00:03\n",
      "     ------------------------ --------------- 24.1/39.8 MB 5.9 MB/s eta 0:00:03\n",
      "     ------------------------ --------------- 24.3/39.8 MB 6.0 MB/s eta 0:00:03\n",
      "     ------------------------ --------------- 24.6/39.8 MB 5.9 MB/s eta 0:00:03\n",
      "     ------------------------- -------------- 24.9/39.8 MB 6.0 MB/s eta 0:00:03\n",
      "     ------------------------- -------------- 25.1/39.8 MB 6.0 MB/s eta 0:00:03\n",
      "     ------------------------- -------------- 25.4/39.8 MB 6.0 MB/s eta 0:00:03\n",
      "     ------------------------- -------------- 25.7/39.8 MB 6.0 MB/s eta 0:00:03\n",
      "     -------------------------- ------------- 26.0/39.8 MB 6.1 MB/s eta 0:00:03\n",
      "     -------------------------- ------------- 26.4/39.8 MB 6.0 MB/s eta 0:00:03\n",
      "     -------------------------- ------------- 26.8/39.8 MB 6.1 MB/s eta 0:00:03\n",
      "     --------------------------- ------------ 27.1/39.8 MB 6.0 MB/s eta 0:00:03\n",
      "     --------------------------- ------------ 27.4/39.8 MB 6.0 MB/s eta 0:00:03\n",
      "     --------------------------- ------------ 27.7/39.8 MB 6.1 MB/s eta 0:00:02\n",
      "     ---------------------------- ----------- 28.0/39.8 MB 6.1 MB/s eta 0:00:02\n",
      "     ---------------------------- ----------- 28.3/39.8 MB 6.1 MB/s eta 0:00:02\n",
      "     ---------------------------- ----------- 28.5/39.8 MB 6.0 MB/s eta 0:00:02\n",
      "     ---------------------------- ----------- 28.8/39.8 MB 6.0 MB/s eta 0:00:02\n",
      "     ----------------------------- ---------- 29.1/39.8 MB 6.0 MB/s eta 0:00:02\n",
      "     ----------------------------- ---------- 29.4/39.8 MB 6.0 MB/s eta 0:00:02\n",
      "     ----------------------------- ---------- 29.6/39.8 MB 6.0 MB/s eta 0:00:02\n",
      "     ------------------------------ --------- 29.9/39.8 MB 6.1 MB/s eta 0:00:02\n",
      "     ------------------------------ --------- 30.2/39.8 MB 6.0 MB/s eta 0:00:02\n",
      "     ------------------------------ --------- 30.5/39.8 MB 6.0 MB/s eta 0:00:02\n",
      "     ------------------------------- -------- 30.8/39.8 MB 6.0 MB/s eta 0:00:02\n",
      "     ------------------------------- -------- 31.2/39.8 MB 6.0 MB/s eta 0:00:02\n",
      "     ------------------------------- -------- 31.3/39.8 MB 5.9 MB/s eta 0:00:02\n",
      "     ------------------------------- -------- 31.4/39.8 MB 5.7 MB/s eta 0:00:02\n",
      "     ------------------------------- -------- 31.5/39.8 MB 5.7 MB/s eta 0:00:02\n",
      "     ------------------------------- -------- 31.5/39.8 MB 5.6 MB/s eta 0:00:02\n",
      "     ------------------------------- -------- 31.6/39.8 MB 5.5 MB/s eta 0:00:02\n",
      "     ------------------------------- -------- 31.7/39.8 MB 5.3 MB/s eta 0:00:02\n",
      "     ------------------------------- -------- 31.8/39.8 MB 5.2 MB/s eta 0:00:02\n",
      "     -------------------------------- ------- 32.0/39.8 MB 5.2 MB/s eta 0:00:02\n",
      "     -------------------------------- ------- 32.1/39.8 MB 5.2 MB/s eta 0:00:02\n",
      "     -------------------------------- ------- 32.2/39.8 MB 5.1 MB/s eta 0:00:02\n",
      "     -------------------------------- ------- 32.3/39.8 MB 5.0 MB/s eta 0:00:02\n",
      "     -------------------------------- ------- 32.4/39.8 MB 4.9 MB/s eta 0:00:02\n",
      "     -------------------------------- ------- 32.5/39.8 MB 4.9 MB/s eta 0:00:02\n",
      "     -------------------------------- ------- 32.7/39.8 MB 4.8 MB/s eta 0:00:02\n",
      "     --------------------------------- ------ 32.8/39.8 MB 4.7 MB/s eta 0:00:02\n",
      "     --------------------------------- ------ 32.9/39.8 MB 4.7 MB/s eta 0:00:02\n",
      "     --------------------------------- ------ 33.0/39.8 MB 4.6 MB/s eta 0:00:02\n",
      "     --------------------------------- ------ 33.1/39.8 MB 4.5 MB/s eta 0:00:02\n",
      "     --------------------------------- ------ 33.2/39.8 MB 4.5 MB/s eta 0:00:02\n",
      "     --------------------------------- ------ 33.3/39.8 MB 4.4 MB/s eta 0:00:02\n",
      "     --------------------------------- ------ 33.6/39.8 MB 4.4 MB/s eta 0:00:02\n",
      "     ---------------------------------- ----- 33.9/39.8 MB 4.5 MB/s eta 0:00:02\n",
      "     ---------------------------------- ----- 34.2/39.8 MB 4.4 MB/s eta 0:00:02\n",
      "     ---------------------------------- ----- 34.5/39.8 MB 4.4 MB/s eta 0:00:02\n",
      "     ---------------------------------- ----- 34.8/39.8 MB 4.4 MB/s eta 0:00:02\n",
      "     ----------------------------------- ---- 35.1/39.8 MB 4.5 MB/s eta 0:00:02\n",
      "     ----------------------------------- ---- 35.4/39.8 MB 4.5 MB/s eta 0:00:01\n",
      "     ----------------------------------- ---- 35.7/39.8 MB 4.5 MB/s eta 0:00:01\n",
      "     ------------------------------------ --- 36.0/39.8 MB 4.5 MB/s eta 0:00:01\n",
      "     ------------------------------------ --- 36.3/39.8 MB 4.5 MB/s eta 0:00:01\n",
      "     ------------------------------------ --- 36.6/39.8 MB 4.5 MB/s eta 0:00:01\n",
      "     ------------------------------------- -- 36.9/39.8 MB 4.5 MB/s eta 0:00:01\n",
      "     ------------------------------------- -- 37.2/39.8 MB 4.5 MB/s eta 0:00:01\n",
      "     ------------------------------------- -- 37.5/39.8 MB 4.4 MB/s eta 0:00:01\n",
      "     -------------------------------------- - 38.0/39.8 MB 4.5 MB/s eta 0:00:01\n",
      "     -------------------------------------- - 38.3/39.8 MB 4.5 MB/s eta 0:00:01\n",
      "     -------------------------------------- - 38.5/39.8 MB 4.4 MB/s eta 0:00:01\n",
      "     ---------------------------------------  38.8/39.8 MB 4.4 MB/s eta 0:00:01\n",
      "     ---------------------------------------  39.1/39.8 MB 4.4 MB/s eta 0:00:01\n",
      "     ---------------------------------------  39.4/39.8 MB 4.4 MB/s eta 0:00:01\n",
      "     ---------------------------------------  39.6/39.8 MB 4.4 MB/s eta 0:00:01\n",
      "     ---------------------------------------  39.8/39.8 MB 4.4 MB/s eta 0:00:01\n",
      "     ---------------------------------------  39.8/39.8 MB 4.4 MB/s eta 0:00:01\n",
      "     ---------------------------------------  39.8/39.8 MB 4.4 MB/s eta 0:00:01\n",
      "     ---------------------------------------  39.8/39.8 MB 4.4 MB/s eta 0:00:01\n",
      "     ---------------------------------------  39.8/39.8 MB 4.4 MB/s eta 0:00:01\n",
      "     ---------------------------------------- 39.8/39.8 MB 3.9 MB/s eta 0:00:00\n",
      "Requirement already satisfied: colorama in c:\\users\\roste\\anaconda3\\lib\\site-packages (from click<9.0.0,>=8.0.0->kallisto) (0.4.6)\n",
      "Installing collected packages: scipy, kallisto\n",
      "  Attempting uninstall: scipy\n",
      "    Found existing installation: scipy 1.10.1\n",
      "    Uninstalling scipy-1.10.1:\n",
      "      Successfully uninstalled scipy-1.10.1\n",
      "Successfully installed kallisto-1.0.9 scipy-1.10.1\n",
      "\n"
     ]
    },
    {
     "name": "stderr",
     "output_type": "stream",
     "text": [
      "WARNING: Ignoring invalid distribution -atplotlib (c:\\users\\roste\\anaconda3\\lib\\site-packages)\n",
      "WARNING: Ignoring invalid distribution -atplotlib (c:\\users\\roste\\anaconda3\\lib\\site-packages)\n",
      "ERROR: pip's dependency resolver does not currently take into account all the packages that are installed. This behaviour is the source of the following dependency conflicts.\n",
      "statsmodels 0.14.0 requires scipy!=1.9.2,>=1.4, but you have scipy 1.9.2 which is incompatible.\n",
      "statsmodels 0.14.0 requires scipy!=1.9.2,>=1.4; sys_platform == \"win32\", but you have scipy 1.9.2 which is incompatible.\n"
     ]
    }
   ],
   "source": [
    "pip install kallisto"
   ]
  },
  {
   "cell_type": "code",
   "execution_count": 224,
   "id": "160c51b2-f02a-4488-bc8a-3d83fef63320",
   "metadata": {},
   "outputs": [],
   "source": [
    "import requests\n",
    "import json\n",
    "from ast import literal_eval\n",
    "from pylab import *\n",
    "from scipy.signal import argrelextrema\n",
    "import pandas as pd\n",
    "import glob\n",
    "from rdkit import Chem\n",
    "from rdkit.Chem.Draw import IPythonConsole\n",
    "from rdkit.Chem import Draw\n",
    "IPythonConsole.ipython_useSVG=True \n",
    "import ipywidgets as widgets\n",
    "import pandas as pd\n",
    "import numpy as np\n",
    "import jax\n",
    "import jax.numpy as jnp\n",
    "from jax import grad, jit, vmap\n",
    "from jax import random\n",
    "from rdkit import Chem\n",
    "from rdkit.Chem import AllChem\n",
    "import py3Dmol\n",
    "from ipywidgets import widgets, interact,fixed\n",
    "from IPython.display import display\n",
    "from matplotlib.offsetbox import OffsetImage, AnnotationBbox\n",
    "import subprocess\n",
    "\n",
    "def Raman_xTB(smiles, method):\n",
    "    \n",
    "    smiles_xTB = smiles.replace(\"#\",\"%23\")\n",
    "\n",
    "    r          = requests.get('https://ir.cheminfo.org/v1/ir?smiles={0}&method={1}'.format(smiles_xTB, method))\n",
    "    print(r)\n",
    "    data_bytes = r.content\n",
    "    \n",
    "    \n",
    "    data_dic   = json.loads(data_bytes.decode('utf-8'))\n",
    "\n",
    "        \n",
    "    # DIPOLE MOMENT\n",
    "    \n",
    "    \n",
    "    wavenumb   = array(data_dic[\"wavenumbers\"])\n",
    "    \n",
    "    # Import normal modes\n",
    "    modes = data_dic[\"modes\"]\n",
    "    vib_modes=[]\n",
    "    for i in range(0,len(modes)):\n",
    "        if modes[i]['modeType']=='vibration':\n",
    "            vib_modes.append(modes[i])\n",
    "            \n",
    "    # Import frequencies\n",
    "    frequency=[]\n",
    "    for i in range(0,len(vib_modes)):\n",
    "        frequency.append(vib_modes[i][\"wavenumber\"])\n",
    "        \n",
    "    # Import normal modes coordinates\n",
    "    a        = vib_modes[0][\"displacements\"]\n",
    "    ar_s     = a.split(\"\\n\")\n",
    "    modes_al = ar_s[2:-1]\n",
    "\n",
    "    modes_al_c = []\n",
    "    for i in modes_al:\n",
    "        modes_al_c.append((\" \".join(i.split())).split())\n",
    "\n",
    "    print(\"There are {0} normal modes\".format(len(vib_modes)))\n",
    "   \n",
    "    elements = []\n",
    "    for i in modes_al_c:\n",
    "        elements.append(i[0])\n",
    "            \n",
    "    print(elements)  \n",
    "\n",
    "    # Define the function for linear interpolation of configurations\n",
    "    def interpolate_configurations(initial_coords, final_coords, num_steps):\n",
    "        steps = jnp.linspace(0.0, 1.0, num_steps)[:, None, None]\n",
    "        return initial_coords + steps * (final_coords - initial_coords)\n",
    "\n",
    "    ########## ---------- Writing the initial positions --------- \n",
    "    α_all= []\n",
    "    all_pol_mode = []\n",
    "    for mode in range(0,len(vib_modes)):\n",
    "        μ_i_f = []\n",
    "        a        = vib_modes[mode][\"displacements\"]\n",
    "        ar_s     = a.split(\"\\n\")\n",
    "        modes_al = ar_s[2:-1]\n",
    "\n",
    "        modes_al_c = []\n",
    "        for i in modes_al:\n",
    "            modes_al_c.append((\" \".join(i.split())).split())\n",
    "\n",
    "        num_modes = []\n",
    "        elements = []\n",
    "        for i in modes_al_c:\n",
    "            atom      = []\n",
    "            for k in range(1,4):\n",
    "                atom.append(float(i[k])) \n",
    "            elements.append(i[0])\n",
    "            num_modes.append(atom)\n",
    "\n",
    "        coordinates = []\n",
    "        for i in num_modes:\n",
    "            coordinates.append(tuple(i))\n",
    "        initial_coordinates = jnp.array(num_modes)\n",
    "#         print(initial_coordiantes)\n",
    "        \n",
    "\n",
    "        #### Final positions  \n",
    "        vib_modes_1 = []\n",
    "\n",
    "        for i in modes_al_c:\n",
    "            atom      = []\n",
    "            for k in range(4,7):\n",
    "                atom.append(float(i[k])) \n",
    "            vib_modes_1.append(atom)\n",
    "\n",
    "        coordinates_vib = []\n",
    "        for i in vib_modes_1:\n",
    "            coordinates_vib.append(tuple(i))\n",
    "        final_coordinates = jnp.array(vib_modes_1)\n",
    "#         print(final_coordinates)\n",
    "        # Polarizability\n",
    "        # Compute 100 intermediate configurations using linear interpolation for each coordinate\n",
    "        num_interpolations = 10\n",
    "        interpolated_coordinates = interpolate_configurations((initial_coordinates-final_coordinates)[None, :],\\\n",
    "                                                                (initial_coordinates+final_coordinates)[None, :], \\\n",
    "                                                                num_interpolations)\n",
    "        index_IC = 0\n",
    "        # Creating documents for polarizability \n",
    "        pol_mode =[]\n",
    "        files_gen=[]\n",
    "        \n",
    "        for config in interpolated_coordinates:\n",
    "            index_IC+=1\n",
    "            xyz_file = \"mode_{0}_{1}_{2}_{3}.xyz\".format(mode,smiles,method, index_IC)\n",
    "            myfile = open(xyz_file,\"w\")\n",
    "            myfile.write(\"{0}\".format(len(elements)))\n",
    "            myfile.write('\\n')\n",
    "            myfile.write('\\n')\n",
    "            for i in range(0,len(elements)):\n",
    "                myfile.write(\"{0} {1} {2} {3}\".format(elements[i],\\\n",
    "                                                          config[i][0],\\\n",
    "                                                          config[i][1],\\\n",
    "                                                         config[i][2]))\n",
    "                myfile.write('\\n') \n",
    "            myfile.close()\n",
    "            files_gen.append(xyz_file)\n",
    "            \n",
    "            command = f'kallisto alp --molecular {xyz_file}'\n",
    "             # Execute the command\n",
    "            output= subprocess.check_output(command, shell=True, text=True)\n",
    "            pol_mode.append(float(output[0]))\n",
    "\n",
    "        \n",
    "            \n",
    "        all_pol_mode.append(pol_mode) \n",
    "        α_all.append(interpolated_coordinates)\n",
    "    return   elements, all_pol_mode, files_gen\n",
    "\n"
   ]
  },
  {
   "cell_type": "code",
   "execution_count": 223,
   "id": "5af4f621-9643-428d-8b4b-136fbbc22fb4",
   "metadata": {},
   "outputs": [
    {
     "name": "stdout",
     "output_type": "stream",
     "text": [
      "<Response [200]>\n",
      "There are 4 normal modes\n",
      "['O', 'C', 'O']\n"
     ]
    },
    {
     "ename": "CalledProcessError",
     "evalue": "Command '!kallisto alp --molecular mode_0_O=C=O_GFN2xTB_1.xyz' returned non-zero exit status 1.",
     "output_type": "error",
     "traceback": [
      "\u001b[1;31m---------------------------------------------------------------------------\u001b[0m",
      "\u001b[1;31mCalledProcessError\u001b[0m                        Traceback (most recent call last)",
      "Input \u001b[1;32mIn [223]\u001b[0m, in \u001b[0;36m<cell line: 1>\u001b[1;34m()\u001b[0m\n\u001b[1;32m----> 1\u001b[0m a,e, r\u001b[38;5;241m=\u001b[39m\u001b[43mRaman_xTB\u001b[49m\u001b[43m(\u001b[49m\u001b[38;5;124;43m\"\u001b[39;49m\u001b[38;5;124;43mO=C=O\u001b[39;49m\u001b[38;5;124;43m\"\u001b[39;49m\u001b[43m,\u001b[49m\u001b[38;5;124;43m\"\u001b[39;49m\u001b[38;5;124;43mGFN2xTB\u001b[39;49m\u001b[38;5;124;43m\"\u001b[39;49m\u001b[43m)\u001b[49m\n",
      "Input \u001b[1;32mIn [222]\u001b[0m, in \u001b[0;36mRaman_xTB\u001b[1;34m(smiles, method)\u001b[0m\n\u001b[0;32m    148\u001b[0m     command \u001b[38;5;241m=\u001b[39m \u001b[38;5;124mf\u001b[39m\u001b[38;5;124m'\u001b[39m\u001b[38;5;124m!kallisto alp --molecular \u001b[39m\u001b[38;5;132;01m{\u001b[39;00mxyz_file\u001b[38;5;132;01m}\u001b[39;00m\u001b[38;5;124m'\u001b[39m\n\u001b[0;32m    149\u001b[0m      \u001b[38;5;66;03m# Execute the command\u001b[39;00m\n\u001b[1;32m--> 150\u001b[0m     output\u001b[38;5;241m=\u001b[39m \u001b[43msubprocess\u001b[49m\u001b[38;5;241;43m.\u001b[39;49m\u001b[43mcheck_output\u001b[49m\u001b[43m(\u001b[49m\u001b[43mcommand\u001b[49m\u001b[43m,\u001b[49m\u001b[43m \u001b[49m\u001b[43mshell\u001b[49m\u001b[38;5;241;43m=\u001b[39;49m\u001b[38;5;28;43;01mTrue\u001b[39;49;00m\u001b[43m,\u001b[49m\u001b[43m \u001b[49m\u001b[43mtext\u001b[49m\u001b[38;5;241;43m=\u001b[39;49m\u001b[38;5;28;43;01mTrue\u001b[39;49;00m\u001b[43m)\u001b[49m\n\u001b[0;32m    151\u001b[0m     pol_mode\u001b[38;5;241m.\u001b[39mappend(\u001b[38;5;28mfloat\u001b[39m(output[\u001b[38;5;241m0\u001b[39m]))\n\u001b[0;32m    155\u001b[0m all_pol_mode\u001b[38;5;241m.\u001b[39mappend(pol_mode) \n",
      "File \u001b[1;32m~\\anaconda3\\lib\\subprocess.py:415\u001b[0m, in \u001b[0;36mcheck_output\u001b[1;34m(timeout, *popenargs, **kwargs)\u001b[0m\n\u001b[0;32m    412\u001b[0m         empty \u001b[38;5;241m=\u001b[39m \u001b[38;5;124mb\u001b[39m\u001b[38;5;124m'\u001b[39m\u001b[38;5;124m'\u001b[39m\n\u001b[0;32m    413\u001b[0m     kwargs[\u001b[38;5;124m'\u001b[39m\u001b[38;5;124minput\u001b[39m\u001b[38;5;124m'\u001b[39m] \u001b[38;5;241m=\u001b[39m empty\n\u001b[1;32m--> 415\u001b[0m \u001b[38;5;28;01mreturn\u001b[39;00m \u001b[43mrun\u001b[49m\u001b[43m(\u001b[49m\u001b[38;5;241;43m*\u001b[39;49m\u001b[43mpopenargs\u001b[49m\u001b[43m,\u001b[49m\u001b[43m \u001b[49m\u001b[43mstdout\u001b[49m\u001b[38;5;241;43m=\u001b[39;49m\u001b[43mPIPE\u001b[49m\u001b[43m,\u001b[49m\u001b[43m \u001b[49m\u001b[43mtimeout\u001b[49m\u001b[38;5;241;43m=\u001b[39;49m\u001b[43mtimeout\u001b[49m\u001b[43m,\u001b[49m\u001b[43m \u001b[49m\u001b[43mcheck\u001b[49m\u001b[38;5;241;43m=\u001b[39;49m\u001b[38;5;28;43;01mTrue\u001b[39;49;00m\u001b[43m,\u001b[49m\n\u001b[0;32m    416\u001b[0m \u001b[43m           \u001b[49m\u001b[38;5;241;43m*\u001b[39;49m\u001b[38;5;241;43m*\u001b[39;49m\u001b[43mkwargs\u001b[49m\u001b[43m)\u001b[49m\u001b[38;5;241m.\u001b[39mstdout\n",
      "File \u001b[1;32m~\\anaconda3\\lib\\subprocess.py:516\u001b[0m, in \u001b[0;36mrun\u001b[1;34m(input, capture_output, timeout, check, *popenargs, **kwargs)\u001b[0m\n\u001b[0;32m    514\u001b[0m     retcode \u001b[38;5;241m=\u001b[39m process\u001b[38;5;241m.\u001b[39mpoll()\n\u001b[0;32m    515\u001b[0m     \u001b[38;5;28;01mif\u001b[39;00m check \u001b[38;5;129;01mand\u001b[39;00m retcode:\n\u001b[1;32m--> 516\u001b[0m         \u001b[38;5;28;01mraise\u001b[39;00m CalledProcessError(retcode, process\u001b[38;5;241m.\u001b[39margs,\n\u001b[0;32m    517\u001b[0m                                  output\u001b[38;5;241m=\u001b[39mstdout, stderr\u001b[38;5;241m=\u001b[39mstderr)\n\u001b[0;32m    518\u001b[0m \u001b[38;5;28;01mreturn\u001b[39;00m CompletedProcess(process\u001b[38;5;241m.\u001b[39margs, retcode, stdout, stderr)\n",
      "\u001b[1;31mCalledProcessError\u001b[0m: Command '!kallisto alp --molecular mode_0_O=C=O_GFN2xTB_1.xyz' returned non-zero exit status 1."
     ]
    }
   ],
   "source": [
    "a,e, r=Raman_xTB(\"O=C=O\",\"GFN2xTB\")"
   ]
  },
  {
   "cell_type": "code",
   "execution_count": 221,
   "id": "5d4d72bb-62c0-4667-a9a8-085c9665581f",
   "metadata": {},
   "outputs": [
    {
     "data": {
      "text/plain": [
       "[1.0, 1.0, 1.0, 1.0, 1.0, 1.0, 1.0, 1.0, 1.0, 1.0]"
      ]
     },
     "execution_count": 221,
     "metadata": {},
     "output_type": "execute_result"
    }
   ],
   "source": [
    "e[0]"
   ]
  },
  {
   "cell_type": "code",
   "execution_count": 213,
   "id": "885ad804-3f24-4b10-89f6-6b1aaa1d2ee7",
   "metadata": {},
   "outputs": [
    {
     "data": {
      "text/plain": [
       "Text(0, 0.5, 'Polarizability')"
      ]
     },
     "execution_count": 213,
     "metadata": {},
     "output_type": "execute_result"
    },
    {
     "data": {
      "image/png": "[encoded data removed]",
      "text/plain": [
       "<Figure size 640x480 with 1 Axes>"
      ]
     },
     "metadata": {},
     "output_type": "display_data"
    }
   ],
   "source": [
    "index=0\n",
    "for i in e:\n",
    "    index+=1\n",
    "    plot(i,label=\"{0}\".format(index))\n",
    "    legend()\n",
    "xlabel(\"Configuration\")\n",
    "ylabel(\"Polarizability\")\n"
   ]
  },
  {
   "cell_type": "code",
   "execution_count": 107,
   "id": "337591c9-8b9e-4306-a6e3-0508a6c3e88c",
   "metadata": {},
   "outputs": [],
   "source": [
    "\n",
    "\n",
    "myfile = open(\"mode_.xyz\",\"w\")\n",
    "myfile.write(\"{0} {1} {2} {3}\".format(\"a\",a[0][0][0][0],a[0][0][0][1],a[0][0][0][2]))\n",
    "myfile.close()"
   ]
  },
  {
   "cell_type": "code",
   "execution_count": 162,
   "id": "6d12e207-caf9-40f4-adc8-d75f3af4cb27",
   "metadata": {},
   "outputs": [
    {
     "name": "stdout",
     "output_type": "stream",
     "text": [
      "19.03581928027043\n"
     ]
    }
   ],
   "source": [
    "!kallisto alp --molecular \"mode_3_O=C=O_GFN2xTB_1.xyz\""
   ]
  },
  {
   "cell_type": "code",
   "execution_count": 225,
   "id": "8429c6b2-8cd4-406a-9231-edeb94ddb154",
   "metadata": {},
   "outputs": [],
   "source": [
    "pol_list=[]\n",
    "for xyz_file in r:\n",
    "    command = f'kallisto alp --molecular {xyz_file}'\n",
    "    # Execute the command\n",
    "    output=subprocess.check_output(command, shell=True, text=True)\n",
    "    pol_list.append(float(output[0]))"
   ]
  },
  {
   "cell_type": "code",
   "execution_count": 1,
   "id": "f5c9a32e-a329-4548-bd04-e41f4e291b75",
   "metadata": {},
   "outputs": [],
   "source": [
    "import subprocess\n",
    "command = \"kallisto alp --molecular mode_0_O=C=O_GFN2xTB_1.xyz\"\n",
    "output=subprocess.check_output(command, shell=True, text=True)"
   ]
  },
  {
   "cell_type": "code",
   "execution_count": 2,
   "id": "57597eee-d41f-4557-8414-806e32dfc19b",
   "metadata": {},
   "outputs": [
    {
     "data": {
      "text/plain": [
       "'19.04221295578634\\n'"
      ]
     },
     "execution_count": 2,
     "metadata": {},
     "output_type": "execute_result"
    }
   ],
   "source": [
    "output"
   ]
  },
  {
   "cell_type": "code",
   "execution_count": null,
   "id": "e74ea532-fa34-408b-856b-0e7399952895",
   "metadata": {},
   "outputs": [],
   "source": []
  }
 ],
 "metadata": {
  "kernelspec": {
   "display_name": "Python 3 (ipykernel)",
   "language": "python",
   "name": "python3"
  },
  "language_info": {
   "codemirror_mode": {
    "name": "ipython",
    "version": 3
   },
   "file_extension": ".py",
   "mimetype": "text/x-python",
   "name": "python",
   "nbconvert_exporter": "python",
   "pygments_lexer": "ipython3",
   "version": "3.8.17"
  }
 },
 "nbformat": 4,
 "nbformat_minor": 5
}

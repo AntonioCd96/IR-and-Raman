{
 "cells": [
  {
   "cell_type": "code",
   "execution_count": 4,
   "id": "183fd6ae-951c-4df6-9bdd-ba93ca065a5e",
   "metadata": {},
   "outputs": [
    {
     "name": "stderr",
     "output_type": "stream",
     "text": [
      "ERROR: Could not find a version that satisfies the requirement quippy-ase (from versions: none)\n",
      "ERROR: No matching distribution found for quippy-ase\n"
     ]
    }
   ],
   "source": [
    "!pip install quippy"
   ]
  },
  {
   "cell_type": "code",
   "execution_count": null,
   "id": "eb253fd0-5458-4efb-a162-bf1f91cc255f",
   "metadata": {},
   "outputs": [],
   "source": [
    "from sklearn.kernel_ridge import KernelRidge\n",
    "from sklearn.metrics import mean_squared_error\n",
    "from sklearn.model_selection import train_test_split\n",
    "from ase import Atoms\n",
    "import quippy\n",
    "from pylab import *"
   ]
  },
  {
   "cell_type": "code",
   "execution_count": 2,
   "id": "7e20c771-73b3-4449-a84a-3680510fbb09",
   "metadata": {},
   "outputs": [
    {
     "ename": "NameError",
     "evalue": "name 'soap_descriptors' is not defined",
     "output_type": "error",
     "traceback": [
      "\u001b[1;31m---------------------------------------------------------------------------\u001b[0m",
      "\u001b[1;31mNameError\u001b[0m                                 Traceback (most recent call last)",
      "Input \u001b[1;32mIn [2]\u001b[0m, in \u001b[0;36m<cell line: 4>\u001b[1;34m()\u001b[0m\n\u001b[0;32m      1\u001b[0m \u001b[38;5;66;03m# Assuming you have soap_descriptors and target_values from your dataset\u001b[39;00m\n\u001b[0;32m      2\u001b[0m \n\u001b[0;32m      3\u001b[0m \u001b[38;5;66;03m# Split the data into training and testing sets\u001b[39;00m\n\u001b[1;32m----> 4\u001b[0m X_train, X_test, y_train, y_test \u001b[38;5;241m=\u001b[39m train_test_split(\u001b[43msoap_descriptors\u001b[49m, target_values, test_size\u001b[38;5;241m=\u001b[39m\u001b[38;5;241m0.2\u001b[39m, random_state\u001b[38;5;241m=\u001b[39m\u001b[38;5;241m42\u001b[39m)\n\u001b[0;32m      6\u001b[0m \u001b[38;5;66;03m# Create a Kernel Ridge Regression model with a Gaussian (RBF) kernel\u001b[39;00m\n\u001b[0;32m      7\u001b[0m krr \u001b[38;5;241m=\u001b[39m KernelRidge(kernel\u001b[38;5;241m=\u001b[39m\u001b[38;5;124m'\u001b[39m\u001b[38;5;124mrbf\u001b[39m\u001b[38;5;124m'\u001b[39m, alpha\u001b[38;5;241m=\u001b[39m\u001b[38;5;241m1.0\u001b[39m)\n",
      "\u001b[1;31mNameError\u001b[0m: name 'soap_descriptors' is not defined"
     ]
    }
   ],
   "source": [
    "\n",
    "# Assuming you have soap_descriptors and target_values from your dataset\n",
    "\n",
    "# Split the data into training and testing sets\n",
    "X_train, X_test, y_train, y_test = train_test_split(soap_descriptors, target_values, test_size=0.2, random_state=42)\n",
    "\n",
    "# Create a Kernel Ridge Regression model with a Gaussian (RBF) kernel\n",
    "krr = KernelRidge(kernel='rbf', alpha=1.0)\n",
    "\n",
    "# Fit the model on the training data\n",
    "krr.fit(X_train, y_train)\n",
    "\n",
    "# Predict target values for the testing data\n",
    "y_pred = krr.predict(X_test)\n",
    "\n",
    "# Evaluate the model\n",
    "mse = mean_squared_error(y_test, y_pred)\n",
    "print(f\"Mean Squared Error: {mse}\")\n",
    "\n"
   ]
  },
  {
   "cell_type": "code",
   "execution_count": 5,
   "id": "c9cb6cfc-1246-4ef9-a5d5-e36a5accc911",
   "metadata": {},
   "outputs": [],
   "source": [
    "from ase import Atoms\n",
    "from ase.build import bulk\n",
    "from ase.calculators.emt import EMT\n",
    "from ase.visualize import view\n",
    "from ase.io import write\n",
    "from ase import io\n",
    "\n",
    "# Define the atomic positions and lattice vectors\n",
    "lattice = [[10.55732741, 0.0, 0.0],\n",
    "           [0.0, 10.47433493, 0.0],\n",
    "           [0.0, 0.0, 10.78853619]]\n",
    "\n",
    "positions = [[5.02975104, 5.59520017, 5.38737141],\n",
    "             [5.04461553, 4.5, 5.38133262],\n",
    "             [6.05732741, 5.97433493, 5.37961885],\n",
    "             [4.5, 5.95804208, 4.5],\n",
    "             [4.51704914, 5.94841095, 6.28853619]]\n",
    "\n",
    "# Create an ASE Atoms object\n",
    "atoms = Atoms('CH4', positions=positions, cell=lattice)\n",
    "\n",
    "# Define a calculator (e.g., EMT calculator for simplicity)\n",
    "atoms.set_calculator(EMT())\n",
    "\n",
    "# Calculate SOAP descriptors\n",
    "soap = io.write('structure.xyz', atoms, format='extxyz')  # Save structure to file\n",
    "soap = io.read('structure.xyz', format='extxyz')  # Read structure from file\n"
   ]
  },
  {
   "cell_type": "code",
   "execution_count": 6,
   "id": "b2aca901-9156-4f9e-8ff6-5863f0b58d04",
   "metadata": {},
   "outputs": [
    {
     "data": {
      "text/plain": [
       "Atoms(symbols='CH4', pbc=False, cell=[10.55732741, 10.47433493, 10.78853619])"
      ]
     },
     "execution_count": 6,
     "metadata": {},
     "output_type": "execute_result"
    }
   ],
   "source": [
    "soap"
   ]
  },
  {
   "cell_type": "code",
   "execution_count": 1,
   "id": "7dee1763-b555-48bc-8469-800df973373d",
   "metadata": {},
   "outputs": [
    {
     "ename": "ModuleNotFoundError",
     "evalue": "No module named 'quippy.descriptors'",
     "output_type": "error",
     "traceback": [
      "\u001b[1;31m---------------------------------------------------------------------------\u001b[0m",
      "\u001b[1;31mModuleNotFoundError\u001b[0m                       Traceback (most recent call last)",
      "Input \u001b[1;32mIn [1]\u001b[0m, in \u001b[0;36m<cell line: 2>\u001b[1;34m()\u001b[0m\n\u001b[0;32m      1\u001b[0m \u001b[38;5;28;01mfrom\u001b[39;00m \u001b[38;5;21;01mase\u001b[39;00m \u001b[38;5;28;01mimport\u001b[39;00m Atoms\n\u001b[1;32m----> 2\u001b[0m \u001b[38;5;28;01mfrom\u001b[39;00m \u001b[38;5;21;01mquippy\u001b[39;00m\u001b[38;5;21;01m.\u001b[39;00m\u001b[38;5;21;01mdescriptors\u001b[39;00m \u001b[38;5;28;01mimport\u001b[39;00m Descriptor\n\u001b[0;32m      4\u001b[0m \u001b[38;5;66;03m# Define your molecule using ASE Atoms class\u001b[39;00m\n\u001b[0;32m      5\u001b[0m atoms \u001b[38;5;241m=\u001b[39m Atoms(\u001b[38;5;124m'\u001b[39m\u001b[38;5;124mCH4\u001b[39m\u001b[38;5;124m'\u001b[39m,\n\u001b[0;32m      6\u001b[0m               positions\u001b[38;5;241m=\u001b[39m[[\u001b[38;5;241m5.02975104\u001b[39m, \u001b[38;5;241m5.59520017\u001b[39m, \u001b[38;5;241m5.38737141\u001b[39m],\n\u001b[0;32m      7\u001b[0m                          [\u001b[38;5;241m5.04461553\u001b[39m, \u001b[38;5;241m4.50000000\u001b[39m, \u001b[38;5;241m5.38133262\u001b[39m],\n\u001b[0;32m      8\u001b[0m                          [\u001b[38;5;241m6.05732741\u001b[39m, \u001b[38;5;241m5.97433493\u001b[39m, \u001b[38;5;241m5.37961885\u001b[39m],\n\u001b[0;32m      9\u001b[0m                          [\u001b[38;5;241m4.50000000\u001b[39m, \u001b[38;5;241m5.95804208\u001b[39m, \u001b[38;5;241m4.50000000\u001b[39m],\n\u001b[0;32m     10\u001b[0m                          [\u001b[38;5;241m4.51704914\u001b[39m, \u001b[38;5;241m5.94841095\u001b[39m, \u001b[38;5;241m6.28853619\u001b[39m]])\n",
      "\u001b[1;31mModuleNotFoundError\u001b[0m: No module named 'quippy.descriptors'"
     ]
    }
   ],
   "source": [
    "from ase import Atoms\n",
    "from quippy.descriptors import Descriptor\n",
    "\n",
    "# Define your molecule using ASE Atoms class\n",
    "atoms = Atoms('CH4',\n",
    "              positions=[[5.02975104, 5.59520017, 5.38737141],\n",
    "                         [5.04461553, 4.50000000, 5.38133262],\n",
    "                         [6.05732741, 5.97433493, 5.37961885],\n",
    "                         [4.50000000, 5.95804208, 4.50000000],\n",
    "                         [4.51704914, 5.94841095, 6.28853619]])\n",
    "\n",
    "# Create a SOAP descriptor\n",
    "soap_desc = Descriptor(\"soap_turbo cutoff=3.0 l_max=6 n_max=6 atom_sigma=0.5 n_Z=2 Z={6 1}\")\n",
    "\n",
    "# Calculate SOAP descriptor for the molecule\n",
    "descriptor_values = soap_desc.calc(atoms)\n",
    "\n",
    "# Print the descriptor values\n",
    "print(descriptor_values)\n"
   ]
  },
  {
   "cell_type": "code",
   "execution_count": null,
   "id": "48f483bb-6dba-4917-8938-e2d14c03297c",
   "metadata": {},
   "outputs": [],
   "source": []
  }
 ],
 "metadata": {
  "kernelspec": {
   "display_name": "Python 3 (ipykernel)",
   "language": "python",
   "name": "python3"
  },
  "language_info": {
   "codemirror_mode": {
    "name": "ipython",
    "version": 3
   },
   "file_extension": ".py",
   "mimetype": "text/x-python",
   "name": "python",
   "nbconvert_exporter": "python",
   "pygments_lexer": "ipython3",
   "version": "3.8.17"
  }
 },
 "nbformat": 4,
 "nbformat_minor": 5
}

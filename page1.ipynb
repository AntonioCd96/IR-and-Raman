{
 "cells": [
  {
   "attachments": {},
   "cell_type": "markdown",
   "id": "d14b173b",
   "metadata": {},
   "source": [
    "# Vibrational spectroscopy\n",
    "\n",
    "Vibrational spectroscopy is an energy sensitive method. It is based on periodic <span style=\"color: red;\"> **changes of dipole moments**  </span>  (<span style=\"color: red;\">**IR**</span>: infrared spectroscopy ) or  <span style=\"color: blue;\"> **changes of polizabilities**  </span>  (<span style=\"color: blue;\">**Raman**</span>: Raman spectroscopy ) caused by molecular vibrations of molecules or groups of atoms and the combined discrete energy transitions and changes of frequency during absorption ( <span style=\"color: red;\">**IR**</span>) or scattering (<span style=\"color: blue;\">**Raman**</span>) of electromagnetic radition of wavelengths from 1 to 300 $\\mu m$. \n",
    "\n",
    "These techniques are widely used in chemistry for the three states of matter: solid, liquid and gaseous state. The main uses are the following ones:\n",
    "\n",
    "\n",
    "* **Qualitative analysis:**\n",
    "1. The presence/identification of known compunds (Chemist usually say that IR spectra is the finger print of a molecule)\n",
    "2. The functional groups of an unknown compound, \n",
    "3. and thus a likely structure of a new compound\n",
    "4. Properties of the bonds (bond strength, force constants)\n",
    "\n",
    "* **Quantitative analysis:** \n",
    "5. Changes in the concetration of a species during reaction\n",
    "\n",
    "\n",
    "In this chapter, we are going to revisit and ilustrate some basic concepts to understand the physical phenomena behind the main techniques as well as  brief history facts.\n"
   ]
  },
  {
   "attachments": {},
   "cell_type": "markdown",
   "id": "396681c4",
   "metadata": {},
   "source": [
    "## Rayleigh scattering\n",
    "\n",
    "```{figure} images/Gif_molecules.gif\n",
    "---\n",
    "width: 200%\n",
    "figclass: margin\n",
    "name: Molecules\n",
    "---\n",
    "Raleigh scattering\n",
    "```\n",
    "\n",
    "\n",
    "`````{admonition} History\n",
    ":class: tip\n",
    "In 1871 Lord Rayleigh explains the color and polarisation of the skylight. Rayleigh scattering is an elastic scattering of electromagnetic radiation by particles. As we can see in the gif, the oscillating electric field of light excites the charges of a molecule, causing them to vibrate at the same frequency. The molecule becomes a small radiating dipole scattering the incoming light. \n",
    "\n",
    "`````\n",
    "\n",
    "\n",
    "\n",
    "It is important to differentiate among the different optic phenomena that take place with the interaction of light and matter. For instance, we are specially interested in adsorption and scattering:\n",
    "\n",
    "```{figure} images/Light_phenomena.png\n",
    "---\n",
    "width: 60%\n",
    "\n",
    "name: Light\n",
    "---\n",
    "Different phenomena of light-matter interaction:transmission,\n",
    "reflection, refraction, diffraction, absorption and scattering.\n",
    "```\n",
    "\n",
    "\n",
    "* **Adsorption:**\n",
    " Similar to a tuning fork or even a musical instrument, the electrons of atoms have a natural frequency at which they tend to vibrate. When a light wave with that same natural frequency impinges upon an atom, then the electrons of that atom will be set into vibrational motion, this is merely another example of the resonance principle. If a light wave of a given frequency strikes a material with electrons having the same vibrational frequencies, then those electrons will **absorb** the energy of the light wave and transform it into vibrational motion, without any light emission. \n",
    "\n",
    "\n",
    "```{admonition} Can you guess why the selective absorption of light by a particular material occurs? \n",
    ":class: dropdown\n",
    "The selected frequency of the light wave matches the frequency at which electrons in the atoms of that material vibrate. Since different atoms and molecules have different natural frequencies of vibration, they will selectively absorb different frequencies of visible light.\n",
    "```\n",
    "\n",
    "* **Scattering:**\n",
    "Scattering of light is the phenomenon in which light rays deviate from their original path upon striking an obstacle such as dust, gas molecules, or water vapors. This phenomena is usually mistaken for dispersion.\n",
    "\n",
    "```{admonition} Can you guess which phenomena occurs in a rainbow and which one gives raise to the blue color of the sky? \n",
    ":class: dropdown\n",
    "Dispersion occurs in the rainbow, since in this process the white light is splitted into its constituents. This is because the phase velocity of the light wave due to the change of its frequency when the light interacts with the water droplets.\n",
    "```\n",
    "\n",
    "Now that we know the main difference between the optical phenomena, we can go deeper into the electronic transitions inside a molecule or an atom. For this we need to bring to life to Sir George Gabriel **Stokes (1848)** (although he did not know about electronic levels at that time, he made important contributions to optic theory) and Sir Chandrasekhara Venkata **Raman (1928)**"
   ]
  },
  {
   "attachments": {},
   "cell_type": "markdown",
   "id": "d6c4f29d",
   "metadata": {},
   "source": [
    "## Raman Effect\n",
    "\n",
    "`````{admonition} History\n",
    ":class: tip\n",
    "\n",
    "Sir C. V. Raman and K. S. Krishnan observed the effect in organic liquids using sunlight in 1928, Raman obtained the Nobel prize in physics in 1930\n",
    "\n",
    "`````\n",
    "\n",
    "```{figure} images/CV_Raman.png\n",
    "---\n",
    "width: 200%\n",
    "figclass: margin\n",
    "name: CV_Raman\n",
    "---\n",
    "C.V. Raman with his own developed spectrometer\n",
    "```\n"
   ]
  },
  {
   "attachments": {},
   "cell_type": "markdown",
   "id": "040173b9",
   "metadata": {},
   "source": [
    "Raman scattering or the Raman effect is the inelastic scattering of photons by matter, meaning that there is both an exchange of energy and a change in the light's direction. Typically this effect involves vibrational energy being gained by a molecule as incident photons from a visible laser are shifted to lower energy. This is called normal **Stokes Raman scattering**. If the incident photons are shifted to higher energy the process is called **Anti-Stokes Raman scattering**\n",
    "\n",
    "![SegmentLocal](images/Energy-diagrams-of-Stokes-Rayleigh-and-anti-Stokes-Raman-scattering-Photons-from-the.png \"Rayleigh Scattering\")\n",
    "\n",
    "```{figure} images/Raman-rayleigjt.gif\n",
    "---\n",
    "scale: 50%\n",
    "\n",
    "name: raman-raleyght\n",
    "---\n",
    "Here we can see how the incident beam produces different \n",
    "frequencies depending on the type of scattering:\n",
    "```\n",
    "\n"
   ]
  },
  {
   "attachments": {},
   "cell_type": "markdown",
   "id": "ae32ac49",
   "metadata": {},
   "source": [
    "## Spectrum of light\n",
    "\n",
    "After improving different machines and discovering different phenomena, scientist and engineer have been able to use almost all the spectrum of light to study the matter. This gives raise to many spectroscopy techniques that are available over a very wide energy range:\n",
    "\n",
    "  - Gamma rays: Mössbauer spectroscopy\n",
    "  - X-rays: X-ray photoelectron spectroscopy\n",
    "  - UV-Vis: Raman spectroscopy\n",
    "  - IR: IR spectroscopy\n",
    "  - Microwave: Electron paramagnetic resonance spectroscopy\n",
    "  - Radiowave: Nuclear magnetic resonance\n",
    "  \n",
    "This fact should not be taken as a competence of which technique is better, but in a complementary mindset approach (*although we all know that NMR is the best!*). Since each technique can obtain different information, we can use 2 or 3 methods to characterize and elucidate a new molecule structure, and this will depend merely on the chemical nature of the molecule. Additionally, we can use several techniques to study how a molecule gets absorbed on a substrate or to follow the reaction mechanism in chemical reaction. \n",
    "\n",
    "![SegmentLocal](images/spectrum_light.png \"Light spectrum\")\n"
   ]
  },
  {
   "attachments": {},
   "cell_type": "markdown",
   "id": "1b9149cb",
   "metadata": {},
   "source": [
    "## Infrared Spectroscopy\n",
    "\n",
    "Infrared spectroscopy (IR spectroscopy) is the measurement of the interaction of infrared radiation with matter by absorption, emission, or reflection. It is used to study and identify chemical substances or functional groups. The identifications proceeds via obtaining the **infrared spectrum**. An IR spectrum can be visualized in a graph of infrared light absorbance (or transmittance) on the vertical axis vs the wavenumber. The wave number is a unit directly proportional to the energy. \n",
    "\n",
    "\n",
    "\n",
    "```{figure} images/Water_spectrum.png\n",
    "---\n",
    "width: 70%\n",
    "\n",
    "name: water\n",
    "---\n",
    "Here we show the IR spectrum of the water\n",
    "in a plot of transmittance vs wavenumber\n",
    "```\n",
    "So far, we have discussed important experimental contributions that lead to the development of complex techniques that simplify the scientific labor. Now, we can switch into the essence of life: maths. So, we will revisiting some important physical and mathematical concepts that have strongly contributed to the comprehension and development of vibrational spectroscopy. "
   ]
  },
  {
   "attachments": {},
   "cell_type": "markdown",
   "id": "72367cd9",
   "metadata": {},
   "source": [
    "# Classical approach to model harmonic  motion\n",
    "\n",
    "We can start a first approach from a classical point of view. Imagine that we have two atoms (masses: $m_1$ and $m_2$, whose values, for the moment, are equal: $m_1$=$m_2$ ) joined by a spring of spring constant $k$, we can actually use Hook Law to derive the force and the field force that each atom experiences:\n",
    "\n",
    "$$\n",
    "F= m \\frac{\\partial^2 R(t) }{\\partial t^2 }= \\nabla_R V(R)\n",
    "$$\n",
    "\n",
    "When we solve integrate to obtain the force field, we obtain the so called harmonic potential. In this way, the harmonic potential $V(R)$ can be expanded in Taylor series around the equilibrium position $R_0$ (also called relaxation position):\n",
    "\n",
    "$$\n",
    "V(R) = V_0 + \\frac{\\partial V }{\\partial R }|_{R=R_0}(R-R_0)+\\frac{1}{2}\\frac{\\partial^2 V }{\\partial R^2 }|_{R=R_0}(R-R_0)^2+...\n",
    "$$\n",
    "\n",
    "and we found that the third term is the spring constant $k$.\n",
    "\n",
    "This set of equations allow us to understand that a molecule is not a rigid body! but is vibrating around a equilibrium position. What is more, the spring is the virtual bond that keeps interacting the two atoms at a defined frequency. This example can easily describe a $H_2$ molecule, since this one is composed of two equivalent atoms. We can challenge this theory to understand the vibration nature of other molecules, for instance:\n",
    "\n",
    "* We can learn about the strength of the bond (which parameter we have to change to simulate a simple bond, a double or a triple bond?)\n",
    "* We can guess what happen if now the mass of the masses is too much different, can we talk about the vibrations in heteromolecules (such as HCl) or even more amazing:\n",
    "* Can we know how having an isotopic atom changes the vibrational motion? \n",
    "\n",
    "Let's explore some of this questions using a generic solution for the harmonic motion:\n",
    "\n",
    "$$\n",
    "x   = x_0+C_1sin(\\sqrt{\\frac{k}{\\mu}}t)+C_2cos(\\sqrt{\\frac{k}{\\mu}}t)\n",
    "$$\n",
    "\n",
    "From this equation we can easily identify two important terms: the vibrational frequency ($\\nu$) and the reduced mass ($\\mu$):\n",
    "\n",
    "$$\n",
    "\\nu = \\frac{1}{2 \\pi }\\sqrt{\\frac{k}{m}}  ; \\        \\  \\mu = \\frac{m_1 m_2}{m_1+m_2}\n",
    "$$\n",
    "\n",
    "Another important parameter is the amplitude of the oscillation $A(\\omega_f)$. \n",
    "\n",
    "$$\n",
    "A=\\frac{F_0/\\mu}{\\sqrt{(\\omega_0^2-\\omega_f^2)^2+4\\omega_f^2γ^2}}\n",
    "$$\n",
    "\n",
    "$$\n",
    "\\omega = \\sqrt{\\frac{k}{m}}\n",
    "$$\n",
    "\n",
    "This parameter is useful to see the impact of different variables in the system. These variables can be the following ones:\n",
    "* How the change of the media in which the compound is can affect the oscillation: this can be simulated with $\\gamma$, which in the harmonic motion correspond to a damped harmonic oscillator.\n",
    "* We can also see how the natural frequency of oscillation $\\omega_0$ get displaced by the change in mass or string constant.\n",
    "* Finally, if we plot $A(\\omega_f)$, we can see how the maximum get modified and also $\\omega_0$, since a definition of this last one is where the maximum amplitude of oscillation takes place."
   ]
  },
  {
   "attachments": {},
   "cell_type": "markdown",
   "id": "cf0e250c",
   "metadata": {},
   "source": [
    "# Interactive program for isotopic and multiple bond molecules"
   ]
  },
  {
   "cell_type": "code",
   "execution_count": 3,
   "id": "1eb483a7",
   "metadata": {
    "tags": [
     "hide-input"
    ]
   },
   "outputs": [],
   "source": [
    "\n",
    "from pylab import *\n",
    "from ipywidgets import *\n",
    "import matplotlib.pyplot as plt\n",
    "import imageio\n",
    "plt.rcParams.update({'font.size': 18})"
   ]
  },
  {
   "cell_type": "code",
   "execution_count": 4,
   "id": "13e5cd86",
   "metadata": {
    "scrolled": false,
    "tags": [
     "hide-input"
    ]
   },
   "outputs": [
    {
     "data": {
      "application/vnd.jupyter.widget-view+json": {
       "model_id": "1e026990d6684b8191254f89bf3e3cc3",
       "version_major": 2,
       "version_minor": 0
      },
      "text/plain": [
       "interactive(children=(IntSlider(value=41, description='k', min=1, step=5), IntSlider(value=10, description='m1…"
      ]
     },
     "metadata": {},
     "output_type": "display_data"
    }
   ],
   "source": [
    "@interact( k=(1,100,5), m1=(1,10,1), m2=(1,10,1))\n",
    "\n",
    "def Vibration( k=41, m1=10, m2=10):\n",
    "    \n",
    "    x_0 = 0\n",
    "    m   = m1*m2/(m1+m2)\n",
    "    t = linspace(0,10,501)\n",
    "    \n",
    "    v_0=array([[0, 0],  [0, 0]]) # velocities between -1 y 1\n",
    "    p_0=array([[0,0],  [1, 0]]) # positions\n",
    "    \n",
    "    fig,ax = plt.subplots(ncols=3,nrows=1,figsize=(18,5), \n",
    "                       gridspec_kw = {'wspace':0.4, 'hspace':0})\n",
    "    \n",
    "    x   = x_0+sin(sqrt(k/m)*t)+cos(sqrt(k/m)*t)\n",
    "    ax[0].set_ylim(-3,3)\n",
    "    ax[1].set_ylim(-3,3)\n",
    "    ax[1].set_xlim(-1,2)\n",
    "    ax[0].set_xlabel(\"time\") \n",
    "    ax[0].set_ylabel(\"Position in X\") \n",
    "\n",
    "    ax[2].set_ylim(0,5)\n",
    "    ax[2].set_xlim(0,20)\n",
    "    ax[2].set_xlabel(\"Frequency($\\omega_f$)\") \n",
    "    ax[2].set_ylabel(\"Amplitude\") \n",
    "    ax[0].plot(t,x)\n",
    "    \n",
    "    x1_m=p_0[:,0][0]\n",
    "    y1_m=p_0[:,1][0] \n",
    "    ax[1].scatter(x1_m,y1_m,s=m1*50, c=\"blue\",edgecolor=\"None\")\n",
    "    \n",
    "    x2_m=p_0[:,0][1]\n",
    "    y2_m=p_0[:,1][1] \n",
    "    ax[1].scatter(x2_m,y2_m,s=m2*50,c=\"orange\",edgecolor=\"None\")\n",
    "    \n",
    "    \n",
    "    w_0= sqrt(k/m)\n",
    "    γ=1\n",
    "    F_0= 10\n",
    "    \n",
    "    w_f=linspace(-5,20,501)\n",
    "    A=(F_0/m)/(sqrt((-w_f**2+w_0**2)**2+4*w_f**2*γ**2))\n",
    "    \n",
    "    ax[2].axvline(w_0, label= \"$\\omega_0$\",c=\"red\")\n",
    "    ax[2].legend()\n",
    "    ax[2].plot(w_f,A)\n",
    "    "
   ]
  },
  {
   "attachments": {},
   "cell_type": "markdown",
   "id": "5c31a306",
   "metadata": {},
   "source": [
    "```{admonition} What happens with the frequency of oscillation when you increase k? How can you relate this with the bond order in a molecule?\n",
    ":class: dropdown\n",
    "The frequency of oscillation increases, this can be translated into chemical language as if the bond order increases too! This means that bond gets stronger or similarly we add a bond to the molecule\n",
    "```\n",
    "\n",
    "```{admonition} What happens with the frequency of oscillation when you increase one of the masses? How can you relate this with the bond order in a molecule?\n",
    ":class: dropdown\n",
    "The frequency of oscillation decreases, this can be translated into chemical language as if the bond order increases too! This means that bond gets stronger or similarly we add a bond to the molecule\n",
    "```"
   ]
  },
  {
   "attachments": {},
   "cell_type": "markdown",
   "id": "b9ffbfda",
   "metadata": {},
   "source": [
    "# Simulation using a numerical solution\n",
    "\n",
    "Nowadays, theoretical scientist use molecular dynamics methods to try to emulate the dynamic of a set of molecules and then calculate some thermodynamical properties. A simple approach to this is solving the force field equations using numerical methods, such as Euler method. In this method, we solve the cinematic equation in a discrete way: \n",
    "$$\n",
    "x(t) = x_0 + v(t)\\Delta t \n",
    "$$\n",
    "\n",
    "$$\n",
    "v(t) = v_0 + a (t) \\Delta t \n",
    "$$\n",
    "\n",
    "$$\n",
    "a(t)= -\\frac{1}{\\mu}k(x(t)-x_0)\n",
    "$$\n",
    "\n",
    "We can see that the acceleration is derived from the Hook's law. \n"
   ]
  },
  {
   "cell_type": "code",
   "execution_count": 1,
   "id": "1909bb92",
   "metadata": {
    "tags": [
     "hide-input"
    ]
   },
   "outputs": [],
   "source": [
    "import matplotlib.pyplot as plt\n",
    "import imageio\n",
    "from pylab import *\n",
    "from matplotlib.animation import FuncAnimation\n",
    "plt.rcParams.update({'font.size': 12})\n",
    "from matplotlib.animation import FuncAnimation\n",
    "from IPython.display      import HTML\n",
    "# conda install -c conda-forge ffmpeg"
   ]
  },
  {
   "cell_type": "code",
   "execution_count": 5,
   "id": "dde698d7",
   "metadata": {
    "tags": [
     "hide-input"
    ]
   },
   "outputs": [],
   "source": [
    "s=1\n",
    "def vibra(part,p_0,k, m1, m2):\n",
    "    FV=zeros((part,2))\n",
    "    bond=2.*s\n",
    "    m=m1*m2/(m1+m2)\n",
    "    for at in range(0,part,2):\n",
    "        d= p_0[at]-p_0[at+1] #vector distancia enlace entre un particula y su consecutiva\n",
    "        r= sqrt(d[0]**2+d[1]**2) # norma del vector \n",
    "        u=d/r\n",
    "        FV[at]=-k*(r-bond)*u\n",
    "        FV[at+1]=-k*(-r+bond)*u\n",
    "        acelv=FV/m        \n",
    "    return  acelv\n",
    "def graf(pn_0,vc_0,pn_k,vc_k,pn_m,vc_m):\n",
    "    alpha_1=0.25\n",
    "    p_0=array([[0,2],  [1, 2]]) # positions\n",
    "    p_k=array([[0,0],  [1, 0]]) # positions\n",
    "    p_m=array([[0,4],  [1, 4]]) # positions\n",
    "    \n",
    "    ax[0].clear()            #borra la graficar y pone otra encima\n",
    "    ax[0].set_xlim(-3,4)  #ax tiene ese atributo porque se definió abajo\n",
    "    ax[0].set_ylim(-3,box)  \n",
    "    ax[0].set_xlabel(\"x\")\n",
    "    ax[0].set_ylabel(\"y\")  \n",
    "    \n",
    "    #Change in m\n",
    "    m1,m2= 10,20\n",
    "    x1_m=pn_m[:,0][0]\n",
    "    y1_m=pn_m[:,1][0] \n",
    "    ax[0].scatter(x1_m,y1_m,s=m1*50, c=\"blue\",edgecolor=\"None\")\n",
    "    \n",
    "    x2_m=pn_m[:,0][1]\n",
    "    y2_m=pn_m[:,1][1] \n",
    "    ax[0].scatter(x2_m,y2_m,s=m2*50,c=\"orange\",edgecolor=\"None\")\n",
    "    ax[0].hlines(y2_m, xmin=x1_m, xmax=x2_m, linewidth=2, color='green', label=\"Variation in $\\mu$\")\n",
    "    \n",
    "    ax[0].scatter(p_m[:,0][0],p_m[:,1][0],s=m1*50, c=\"blue\",edgecolor=\"None\", alpha=alpha_1)\n",
    "    ax[0].scatter(p_m[:,0][1],p_m[:,1][1],s=m2*50, c=\"blue\",edgecolor=\"None\", alpha=alpha_1)\n",
    "    \n",
    "    \n",
    "    ### Reference\n",
    "    m1,m2= 10,10\n",
    "    x1_0=pn_0[:,0][0]\n",
    "    y1_0=pn_0[:,1][0] \n",
    "    ax[0].scatter(x1_0,y1_0,s=m1*50, c=\"blue\",edgecolor=\"None\")\n",
    "    \n",
    "    \n",
    "    x2_0=pn_0[:,0][1]\n",
    "    y2_0=pn_0[:,1][1] \n",
    "    ax[0].scatter(x2_0,y2_0,s=m2*50,c=\"orange\",edgecolor=\"None\")\n",
    "    ax[0].hlines(y2_0, xmin=x1_0, xmax=x2_0, linewidth=2, color='black', label=\"Reference\")\n",
    "    \n",
    "    ax[0].scatter(p_0[:,0][0],p_0[:,1][0],s=m1*50, c=\"blue\",edgecolor=\"None\", alpha=alpha_1)\n",
    "    ax[0].scatter(p_0[:,0][1],p_0[:,1][1],s=m1*50, c=\"blue\",edgecolor=\"None\", alpha=alpha_1)\n",
    "    \n",
    "    #Change in k\n",
    "    x1_k=pn_k[:,0][0]\n",
    "    y1_k=pn_k[:,1][0] \n",
    "    ax[0].scatter(x1_k,y1_k,s=m1*50, c=\"blue\",edgecolor=\"None\")\n",
    "    \n",
    "    x2_k=pn_k[:,0][1]\n",
    "    y2_k=pn_k[:,1][1] \n",
    "    ax[0].scatter(x2_k,y2_k,s=m2*50,c=\"orange\",edgecolor=\"None\")\n",
    "    ax[0].hlines(y2_k, xmin=x1_k, xmax=x2_k, linewidth=2, color='r', label=\"Variation in k\")\n",
    "    \n",
    "    ax[0].scatter(p_k[:,0][0],p_k[:,1][0],s=m1*50, c=\"blue\",edgecolor=\"None\", alpha=alpha_1)\n",
    "    ax[0].scatter(p_k[:,0][1],p_k[:,1][1],s=m1*50, c=\"blue\",edgecolor=\"None\", alpha=alpha_1)\n",
    "    \n",
    "    \n",
    "    ax[0].legend(loc='lower center')\n",
    "    \n",
    "    ax[1].clear() \n",
    "    ax[1].set_xlim(0,10)  #ax tiene ese atributo porque se definió abajo\n",
    "    ax[1].set_ylim(-1,0)  \n",
    "    ax[1].set_xlabel(\"time\")\n",
    "    ax[1].set_ylabel(\"x\") \n",
    "    \n",
    "    ax[1].plot(t,position_0, label=\"Reference\",c=\"black\")\n",
    "    ax[1].plot(t,position_m, label=\"Variation in $\\mu$\",c=\"green\")\n",
    "    ax[1].plot(t,position_k, label=\"Variation in k\",c=\"red\")\n",
    "    ax[1].legend()\n",
    "    \n",
    "    fig.canvas.draw() #muestra la figura\n",
    "    plt.show()"
   ]
  },
  {
   "cell_type": "code",
   "execution_count": 6,
   "id": "791535a6",
   "metadata": {
    "tags": [
     "hide-input"
    ]
   },
   "outputs": [
    {
     "data": {
      "application/javascript": "/* Put everything inside the global mpl namespace */\n/* global mpl */\nwindow.mpl = {};\n\nmpl.get_websocket_type = function () {\n    if (typeof WebSocket !== 'undefined') {\n        return WebSocket;\n    } else if (typeof MozWebSocket !== 'undefined') {\n        return MozWebSocket;\n    } else {\n        alert(\n            'Your browser does not have WebSocket support. ' +\n                'Please try Chrome, Safari or Firefox ≥ 6. ' +\n                'Firefox 4 and 5 are also supported but you ' +\n                'have to enable WebSockets in about:config.'\n        );\n    }\n};\n\nmpl.figure = function (figure_id, websocket, ondownload, parent_element) {\n    this.id = figure_id;\n\n    this.ws = websocket;\n\n    this.supports_binary = this.ws.binaryType !== undefined;\n\n    if (!this.supports_binary) {\n        var warnings = document.getElementById('mpl-warnings');\n        if (warnings) {\n            warnings.style.display = 'block';\n            warnings.textContent =\n                'This browser does not support binary websocket messages. ' +\n                'Performance may be slow.';\n        }\n    }\n\n    this.imageObj = new Image();\n\n    this.context = undefined;\n    this.message = undefined;\n    this.canvas = undefined;\n    this.rubberband_canvas = undefined;\n    this.rubberband_context = undefined;\n    this.format_dropdown = undefined;\n\n    this.image_mode = 'full';\n\n    this.root = document.createElement('div');\n    this.root.setAttribute('style', 'display: inline-block');\n    this._root_extra_style(this.root);\n\n    parent_element.appendChild(this.root);\n\n    this._init_header(this);\n    this._init_canvas(this);\n    this._init_toolbar(this);\n\n    var fig = this;\n\n    this.waiting = false;\n\n    this.ws.onopen = function () {\n        fig.send_message('supports_binary', { value: fig.supports_binary });\n        fig.send_message('send_image_mode', {});\n        if (fig.ratio !== 1) {\n            fig.send_message('set_dpi_ratio', { dpi_ratio: fig.ratio });\n        }\n        fig.send_message('refresh', {});\n    };\n\n    this.imageObj.onload = function () {\n        if (fig.image_mode === 'full') {\n            // Full images could contain transparency (where diff images\n            // almost always do), so we need to clear the canvas so that\n            // there is no ghosting.\n            fig.context.clearRect(0, 0, fig.canvas.width, fig.canvas.height);\n        }\n        fig.context.drawImage(fig.imageObj, 0, 0);\n    };\n\n    this.imageObj.onunload = function () {\n        fig.ws.close();\n    };\n\n    this.ws.onmessage = this._make_on_message_function(this);\n\n    this.ondownload = ondownload;\n};\n\nmpl.figure.prototype._init_header = function () {\n    var titlebar = document.createElement('div');\n    titlebar.classList =\n        'ui-dialog-titlebar ui-widget-header ui-corner-all ui-helper-clearfix';\n    var titletext = document.createElement('div');\n    titletext.classList = 'ui-dialog-title';\n    titletext.setAttribute(\n        'style',\n        'width: 100%; text-align: center; padding: 3px;'\n    );\n    titlebar.appendChild(titletext);\n    this.root.appendChild(titlebar);\n    this.header = titletext;\n};\n\nmpl.figure.prototype._canvas_extra_style = function (_canvas_div) {};\n\nmpl.figure.prototype._root_extra_style = function (_canvas_div) {};\n\nmpl.figure.prototype._init_canvas = function () {\n    var fig = this;\n\n    var canvas_div = (this.canvas_div = document.createElement('div'));\n    canvas_div.setAttribute(\n        'style',\n        'border: 1px solid #ddd;' +\n            'box-sizing: content-box;' +\n            'clear: both;' +\n            'min-height: 1px;' +\n            'min-width: 1px;' +\n            'outline: 0;' +\n            'overflow: hidden;' +\n            'position: relative;' +\n            'resize: both;'\n    );\n\n    function on_keyboard_event_closure(name) {\n        return function (event) {\n            return fig.key_event(event, name);\n        };\n    }\n\n    canvas_div.addEventListener(\n        'keydown',\n        on_keyboard_event_closure('key_press')\n    );\n    canvas_div.addEventListener(\n        'keyup',\n        on_keyboard_event_closure('key_release')\n    );\n\n    this._canvas_extra_style(canvas_div);\n    this.root.appendChild(canvas_div);\n\n    var canvas = (this.canvas = document.createElement('canvas'));\n    canvas.classList.add('mpl-canvas');\n    canvas.setAttribute('style', 'box-sizing: content-box;');\n\n    this.context = canvas.getContext('2d');\n\n    var backingStore =\n        this.context.backingStorePixelRatio ||\n        this.context.webkitBackingStorePixelRatio ||\n        this.context.mozBackingStorePixelRatio ||\n        this.context.msBackingStorePixelRatio ||\n        this.context.oBackingStorePixelRatio ||\n        this.context.backingStorePixelRatio ||\n        1;\n\n    this.ratio = (window.devicePixelRatio || 1) / backingStore;\n\n    var rubberband_canvas = (this.rubberband_canvas = document.createElement(\n        'canvas'\n    ));\n    rubberband_canvas.setAttribute(\n        'style',\n        'box-sizing: content-box; position: absolute; left: 0; top: 0; z-index: 1;'\n    );\n\n    // Apply a ponyfill if ResizeObserver is not implemented by browser.\n    if (this.ResizeObserver === undefined) {\n        if (window.ResizeObserver !== undefined) {\n            this.ResizeObserver = window.ResizeObserver;\n        } else {\n            var obs = _JSXTOOLS_RESIZE_OBSERVER({});\n            this.ResizeObserver = obs.ResizeObserver;\n        }\n    }\n\n    this.resizeObserverInstance = new this.ResizeObserver(function (entries) {\n        var nentries = entries.length;\n        for (var i = 0; i < nentries; i++) {\n            var entry = entries[i];\n            var width, height;\n            if (entry.contentBoxSize) {\n                if (entry.contentBoxSize instanceof Array) {\n                    // Chrome 84 implements new version of spec.\n                    width = entry.contentBoxSize[0].inlineSize;\n                    height = entry.contentBoxSize[0].blockSize;\n                } else {\n                    // Firefox implements old version of spec.\n                    width = entry.contentBoxSize.inlineSize;\n                    height = entry.contentBoxSize.blockSize;\n                }\n            } else {\n                // Chrome <84 implements even older version of spec.\n                width = entry.contentRect.width;\n                height = entry.contentRect.height;\n            }\n\n            // Keep the size of the canvas and rubber band canvas in sync with\n            // the canvas container.\n            if (entry.devicePixelContentBoxSize) {\n                // Chrome 84 implements new version of spec.\n                canvas.setAttribute(\n                    'width',\n                    entry.devicePixelContentBoxSize[0].inlineSize\n                );\n                canvas.setAttribute(\n                    'height',\n                    entry.devicePixelContentBoxSize[0].blockSize\n                );\n            } else {\n                canvas.setAttribute('width', width * fig.ratio);\n                canvas.setAttribute('height', height * fig.ratio);\n            }\n            canvas.setAttribute(\n                'style',\n                'width: ' + width + 'px; height: ' + height + 'px;'\n            );\n\n            rubberband_canvas.setAttribute('width', width);\n            rubberband_canvas.setAttribute('height', height);\n\n            // And update the size in Python. We ignore the initial 0/0 size\n            // that occurs as the element is placed into the DOM, which should\n            // otherwise not happen due to the minimum size styling.\n            if (fig.ws.readyState == 1 && width != 0 && height != 0) {\n                fig.request_resize(width, height);\n            }\n        }\n    });\n    this.resizeObserverInstance.observe(canvas_div);\n\n    function on_mouse_event_closure(name) {\n        return function (event) {\n            return fig.mouse_event(event, name);\n        };\n    }\n\n    rubberband_canvas.addEventListener(\n        'mousedown',\n        on_mouse_event_closure('button_press')\n    );\n    rubberband_canvas.addEventListener(\n        'mouseup',\n        on_mouse_event_closure('button_release')\n    );\n    // Throttle sequential mouse events to 1 every 20ms.\n    rubberband_canvas.addEventListener(\n        'mousemove',\n        on_mouse_event_closure('motion_notify')\n    );\n\n    rubberband_canvas.addEventListener(\n        'mouseenter',\n        on_mouse_event_closure('figure_enter')\n    );\n    rubberband_canvas.addEventListener(\n        'mouseleave',\n        on_mouse_event_closure('figure_leave')\n    );\n\n    canvas_div.addEventListener('wheel', function (event) {\n        if (event.deltaY < 0) {\n            event.step = 1;\n        } else {\n            event.step = -1;\n        }\n        on_mouse_event_closure('scroll')(event);\n    });\n\n    canvas_div.appendChild(canvas);\n    canvas_div.appendChild(rubberband_canvas);\n\n    this.rubberband_context = rubberband_canvas.getContext('2d');\n    this.rubberband_context.strokeStyle = '#000000';\n\n    this._resize_canvas = function (width, height, forward) {\n        if (forward) {\n            canvas_div.style.width = width + 'px';\n            canvas_div.style.height = height + 'px';\n        }\n    };\n\n    // Disable right mouse context menu.\n    this.rubberband_canvas.addEventListener('contextmenu', function (_e) {\n        event.preventDefault();\n        return false;\n    });\n\n    function set_focus() {\n        canvas.focus();\n        canvas_div.focus();\n    }\n\n    window.setTimeout(set_focus, 100);\n};\n\nmpl.figure.prototype._init_toolbar = function () {\n    var fig = this;\n\n    var toolbar = document.createElement('div');\n    toolbar.classList = 'mpl-toolbar';\n    this.root.appendChild(toolbar);\n\n    function on_click_closure(name) {\n        return function (_event) {\n            return fig.toolbar_button_onclick(name);\n        };\n    }\n\n    function on_mouseover_closure(tooltip) {\n        return function (event) {\n            if (!event.currentTarget.disabled) {\n                return fig.toolbar_button_onmouseover(tooltip);\n            }\n        };\n    }\n\n    fig.buttons = {};\n    var buttonGroup = document.createElement('div');\n    buttonGroup.classList = 'mpl-button-group';\n    for (var toolbar_ind in mpl.toolbar_items) {\n        var name = mpl.toolbar_items[toolbar_ind][0];\n        var tooltip = mpl.toolbar_items[toolbar_ind][1];\n        var image = mpl.toolbar_items[toolbar_ind][2];\n        var method_name = mpl.toolbar_items[toolbar_ind][3];\n\n        if (!name) {\n            /* Instead of a spacer, we start a new button group. */\n            if (buttonGroup.hasChildNodes()) {\n                toolbar.appendChild(buttonGroup);\n            }\n            buttonGroup = document.createElement('div');\n            buttonGroup.classList = 'mpl-button-group';\n            continue;\n        }\n\n        var button = (fig.buttons[name] = document.createElement('button'));\n        button.classList = 'mpl-widget';\n        button.setAttribute('role', 'button');\n        button.setAttribute('aria-disabled', 'false');\n        button.addEventListener('click', on_click_closure(method_name));\n        button.addEventListener('mouseover', on_mouseover_closure(tooltip));\n\n        var icon_img = document.createElement('img');\n        icon_img.src = '_images/' + image + '.png';\n        icon_img.srcset = '_images/' + image + '_large.png 2x';\n        icon_img.alt = tooltip;\n        button.appendChild(icon_img);\n\n        buttonGroup.appendChild(button);\n    }\n\n    if (buttonGroup.hasChildNodes()) {\n        toolbar.appendChild(buttonGroup);\n    }\n\n    var fmt_picker = document.createElement('select');\n    fmt_picker.classList = 'mpl-widget';\n    toolbar.appendChild(fmt_picker);\n    this.format_dropdown = fmt_picker;\n\n    for (var ind in mpl.extensions) {\n        var fmt = mpl.extensions[ind];\n        var option = document.createElement('option');\n        option.selected = fmt === mpl.default_extension;\n        option.innerHTML = fmt;\n        fmt_picker.appendChild(option);\n    }\n\n    var status_bar = document.createElement('span');\n    status_bar.classList = 'mpl-message';\n    toolbar.appendChild(status_bar);\n    this.message = status_bar;\n};\n\nmpl.figure.prototype.request_resize = function (x_pixels, y_pixels) {\n    // Request matplotlib to resize the figure. Matplotlib will then trigger a resize in the client,\n    // which will in turn request a refresh of the image.\n    this.send_message('resize', { width: x_pixels, height: y_pixels });\n};\n\nmpl.figure.prototype.send_message = function (type, properties) {\n    properties['type'] = type;\n    properties['figure_id'] = this.id;\n    this.ws.send(JSON.stringify(properties));\n};\n\nmpl.figure.prototype.send_draw_message = function () {\n    if (!this.waiting) {\n        this.waiting = true;\n        this.ws.send(JSON.stringify({ type: 'draw', figure_id: this.id }));\n    }\n};\n\nmpl.figure.prototype.handle_save = function (fig, _msg) {\n    var format_dropdown = fig.format_dropdown;\n    var format = format_dropdown.options[format_dropdown.selectedIndex].value;\n    fig.ondownload(fig, format);\n};\n\nmpl.figure.prototype.handle_resize = function (fig, msg) {\n    var size = msg['size'];\n    if (size[0] !== fig.canvas.width || size[1] !== fig.canvas.height) {\n        fig._resize_canvas(size[0], size[1], msg['forward']);\n        fig.send_message('refresh', {});\n    }\n};\n\nmpl.figure.prototype.handle_rubberband = function (fig, msg) {\n    var x0 = msg['x0'] / fig.ratio;\n    var y0 = (fig.canvas.height - msg['y0']) / fig.ratio;\n    var x1 = msg['x1'] / fig.ratio;\n    var y1 = (fig.canvas.height - msg['y1']) / fig.ratio;\n    x0 = Math.floor(x0) + 0.5;\n    y0 = Math.floor(y0) + 0.5;\n    x1 = Math.floor(x1) + 0.5;\n    y1 = Math.floor(y1) + 0.5;\n    var min_x = Math.min(x0, x1);\n    var min_y = Math.min(y0, y1);\n    var width = Math.abs(x1 - x0);\n    var height = Math.abs(y1 - y0);\n\n    fig.rubberband_context.clearRect(\n        0,\n        0,\n        fig.canvas.width / fig.ratio,\n        fig.canvas.height / fig.ratio\n    );\n\n    fig.rubberband_context.strokeRect(min_x, min_y, width, height);\n};\n\nmpl.figure.prototype.handle_figure_label = function (fig, msg) {\n    // Updates the figure title.\n    fig.header.textContent = msg['label'];\n};\n\nmpl.figure.prototype.handle_cursor = function (fig, msg) {\n    var cursor = msg['cursor'];\n    switch (cursor) {\n        case 0:\n            cursor = 'pointer';\n            break;\n        case 1:\n            cursor = 'default';\n            break;\n        case 2:\n            cursor = 'crosshair';\n            break;\n        case 3:\n            cursor = 'move';\n            break;\n    }\n    fig.rubberband_canvas.style.cursor = cursor;\n};\n\nmpl.figure.prototype.handle_message = function (fig, msg) {\n    fig.message.textContent = msg['message'];\n};\n\nmpl.figure.prototype.handle_draw = function (fig, _msg) {\n    // Request the server to send over a new figure.\n    fig.send_draw_message();\n};\n\nmpl.figure.prototype.handle_image_mode = function (fig, msg) {\n    fig.image_mode = msg['mode'];\n};\n\nmpl.figure.prototype.handle_history_buttons = function (fig, msg) {\n    for (var key in msg) {\n        if (!(key in fig.buttons)) {\n            continue;\n        }\n        fig.buttons[key].disabled = !msg[key];\n        fig.buttons[key].setAttribute('aria-disabled', !msg[key]);\n    }\n};\n\nmpl.figure.prototype.handle_navigate_mode = function (fig, msg) {\n    if (msg['mode'] === 'PAN') {\n        fig.buttons['Pan'].classList.add('active');\n        fig.buttons['Zoom'].classList.remove('active');\n    } else if (msg['mode'] === 'ZOOM') {\n        fig.buttons['Pan'].classList.remove('active');\n        fig.buttons['Zoom'].classList.add('active');\n    } else {\n        fig.buttons['Pan'].classList.remove('active');\n        fig.buttons['Zoom'].classList.remove('active');\n    }\n};\n\nmpl.figure.prototype.updated_canvas_event = function () {\n    // Called whenever the canvas gets updated.\n    this.send_message('ack', {});\n};\n\n// A function to construct a web socket function for onmessage handling.\n// Called in the figure constructor.\nmpl.figure.prototype._make_on_message_function = function (fig) {\n    return function socket_on_message(evt) {\n        if (evt.data instanceof Blob) {\n            /* FIXME: We get \"Resource interpreted as Image but\n             * transferred with MIME type text/plain:\" errors on\n             * Chrome.  But how to set the MIME type?  It doesn't seem\n             * to be part of the websocket stream */\n            evt.data.type = 'image/png';\n\n            /* Free the memory for the previous frames */\n            if (fig.imageObj.src) {\n                (window.URL || window.webkitURL).revokeObjectURL(\n                    fig.imageObj.src\n                );\n            }\n\n            fig.imageObj.src = (window.URL || window.webkitURL).createObjectURL(\n                evt.data\n            );\n            fig.updated_canvas_event();\n            fig.waiting = false;\n            return;\n        } else if (\n            typeof evt.data === 'string' &&\n            evt.data.slice(0, 21) === 'data:image/png;base64'\n        ) {\n            fig.imageObj.src = evt.data;\n            fig.updated_canvas_event();\n            fig.waiting = false;\n            return;\n        }\n\n        var msg = JSON.parse(evt.data);\n        var msg_type = msg['type'];\n\n        // Call the  \"handle_{type}\" callback, which takes\n        // the figure and JSON message as its only arguments.\n        try {\n            var callback = fig['handle_' + msg_type];\n        } catch (e) {\n            console.log(\n                \"No handler for the '\" + msg_type + \"' message type: \",\n                msg\n            );\n            return;\n        }\n\n        if (callback) {\n            try {\n                // console.log(\"Handling '\" + msg_type + \"' message: \", msg);\n                callback(fig, msg);\n            } catch (e) {\n                console.log(\n                    \"Exception inside the 'handler_\" + msg_type + \"' callback:\",\n                    e,\n                    e.stack,\n                    msg\n                );\n            }\n        }\n    };\n};\n\n// from http://stackoverflow.com/questions/1114465/getting-mouse-location-in-canvas\nmpl.findpos = function (e) {\n    //this section is from http://www.quirksmode.org/js/events_properties.html\n    var targ;\n    if (!e) {\n        e = window.event;\n    }\n    if (e.target) {\n        targ = e.target;\n    } else if (e.srcElement) {\n        targ = e.srcElement;\n    }\n    if (targ.nodeType === 3) {\n        // defeat Safari bug\n        targ = targ.parentNode;\n    }\n\n    // pageX,Y are the mouse positions relative to the document\n    var boundingRect = targ.getBoundingClientRect();\n    var x = e.pageX - (boundingRect.left + document.body.scrollLeft);\n    var y = e.pageY - (boundingRect.top + document.body.scrollTop);\n\n    return { x: x, y: y };\n};\n\n/*\n * return a copy of an object with only non-object keys\n * we need this to avoid circular references\n * http://stackoverflow.com/a/24161582/3208463\n */\nfunction simpleKeys(original) {\n    return Object.keys(original).reduce(function (obj, key) {\n        if (typeof original[key] !== 'object') {\n            obj[key] = original[key];\n        }\n        return obj;\n    }, {});\n}\n\nmpl.figure.prototype.mouse_event = function (event, name) {\n    var canvas_pos = mpl.findpos(event);\n\n    if (name === 'button_press') {\n        this.canvas.focus();\n        this.canvas_div.focus();\n    }\n\n    var x = canvas_pos.x * this.ratio;\n    var y = canvas_pos.y * this.ratio;\n\n    this.send_message(name, {\n        x: x,\n        y: y,\n        button: event.button,\n        step: event.step,\n        guiEvent: simpleKeys(event),\n    });\n\n    /* This prevents the web browser from automatically changing to\n     * the text insertion cursor when the button is pressed.  We want\n     * to control all of the cursor setting manually through the\n     * 'cursor' event from matplotlib */\n    event.preventDefault();\n    return false;\n};\n\nmpl.figure.prototype._key_event_extra = function (_event, _name) {\n    // Handle any extra behaviour associated with a key event\n};\n\nmpl.figure.prototype.key_event = function (event, name) {\n    // Prevent repeat events\n    if (name === 'key_press') {\n        if (event.which === this._key) {\n            return;\n        } else {\n            this._key = event.which;\n        }\n    }\n    if (name === 'key_release') {\n        this._key = null;\n    }\n\n    var value = '';\n    if (event.ctrlKey && event.which !== 17) {\n        value += 'ctrl+';\n    }\n    if (event.altKey && event.which !== 18) {\n        value += 'alt+';\n    }\n    if (event.shiftKey && event.which !== 16) {\n        value += 'shift+';\n    }\n\n    value += 'k';\n    value += event.which.toString();\n\n    this._key_event_extra(event, name);\n\n    this.send_message(name, { key: value, guiEvent: simpleKeys(event) });\n    return false;\n};\n\nmpl.figure.prototype.toolbar_button_onclick = function (name) {\n    if (name === 'download') {\n        this.handle_save(this, null);\n    } else {\n        this.send_message('toolbar_button', { name: name });\n    }\n};\n\nmpl.figure.prototype.toolbar_button_onmouseover = function (tooltip) {\n    this.message.textContent = tooltip;\n};\n\n///////////////// REMAINING CONTENT GENERATED BY embed_js.py /////////////////\n// prettier-ignore\nvar _JSXTOOLS_RESIZE_OBSERVER=function(A){var t,i=new WeakMap,n=new WeakMap,a=new WeakMap,r=new WeakMap,o=new Set;function s(e){if(!(this instanceof s))throw new TypeError(\"Constructor requires 'new' operator\");i.set(this,e)}function h(){throw new TypeError(\"Function is not a constructor\")}function c(e,t,i,n){e=0 in arguments?Number(arguments[0]):0,t=1 in arguments?Number(arguments[1]):0,i=2 in arguments?Number(arguments[2]):0,n=3 in arguments?Number(arguments[3]):0,this.right=(this.x=this.left=e)+(this.width=i),this.bottom=(this.y=this.top=t)+(this.height=n),Object.freeze(this)}function d(){t=requestAnimationFrame(d);var s=new WeakMap,p=new Set;o.forEach((function(t){r.get(t).forEach((function(i){var r=t instanceof window.SVGElement,o=a.get(t),d=r?0:parseFloat(o.paddingTop),f=r?0:parseFloat(o.paddingRight),l=r?0:parseFloat(o.paddingBottom),u=r?0:parseFloat(o.paddingLeft),g=r?0:parseFloat(o.borderTopWidth),m=r?0:parseFloat(o.borderRightWidth),w=r?0:parseFloat(o.borderBottomWidth),b=u+f,F=d+l,v=(r?0:parseFloat(o.borderLeftWidth))+m,W=g+w,y=r?0:t.offsetHeight-W-t.clientHeight,E=r?0:t.offsetWidth-v-t.clientWidth,R=b+v,z=F+W,M=r?t.width:parseFloat(o.width)-R-E,O=r?t.height:parseFloat(o.height)-z-y;if(n.has(t)){var k=n.get(t);if(k[0]===M&&k[1]===O)return}n.set(t,[M,O]);var S=Object.create(h.prototype);S.target=t,S.contentRect=new c(u,d,M,O),s.has(i)||(s.set(i,[]),p.add(i)),s.get(i).push(S)}))})),p.forEach((function(e){i.get(e).call(e,s.get(e),e)}))}return s.prototype.observe=function(i){if(i instanceof window.Element){r.has(i)||(r.set(i,new Set),o.add(i),a.set(i,window.getComputedStyle(i)));var n=r.get(i);n.has(this)||n.add(this),cancelAnimationFrame(t),t=requestAnimationFrame(d)}},s.prototype.unobserve=function(i){if(i instanceof window.Element&&r.has(i)){var n=r.get(i);n.has(this)&&(n.delete(this),n.size||(r.delete(i),o.delete(i))),n.size||r.delete(i),o.size||cancelAnimationFrame(t)}},A.DOMRectReadOnly=c,A.ResizeObserver=s,A.ResizeObserverEntry=h,A}; // eslint-disable-line\nmpl.toolbar_items = [[\"Home\", \"Reset original view\", \"fa fa-home icon-home\", \"home\"], [\"Back\", \"Back to previous view\", \"fa fa-arrow-left icon-arrow-left\", \"back\"], [\"Forward\", \"Forward to next view\", \"fa fa-arrow-right icon-arrow-right\", \"forward\"], [\"\", \"\", \"\", \"\"], [\"Pan\", \"Left button pans, Right button zooms\\nx/y fixes axis, CTRL fixes aspect\", \"fa fa-arrows icon-move\", \"pan\"], [\"Zoom\", \"Zoom to rectangle\\nx/y fixes axis, CTRL fixes aspect\", \"fa fa-square-o icon-check-empty\", \"zoom\"], [\"\", \"\", \"\", \"\"], [\"Download\", \"Download plot\", \"fa fa-floppy-o icon-save\", \"download\"]];\n\nmpl.extensions = [\"eps\", \"jpeg\", \"pdf\", \"png\", \"ps\", \"raw\", \"svg\", \"tif\"];\n\nmpl.default_extension = \"png\";/* global mpl */\n\nvar comm_websocket_adapter = function (comm) {\n    // Create a \"websocket\"-like object which calls the given IPython comm\n    // object with the appropriate methods. Currently this is a non binary\n    // socket, so there is still some room for performance tuning.\n    var ws = {};\n\n    ws.close = function () {\n        comm.close();\n    };\n    ws.send = function (m) {\n        //console.log('sending', m);\n        comm.send(m);\n    };\n    // Register the callback with on_msg.\n    comm.on_msg(function (msg) {\n        //console.log('receiving', msg['content']['data'], msg);\n        // Pass the mpl event to the overridden (by mpl) onmessage function.\n        ws.onmessage(msg['content']['data']);\n    });\n    return ws;\n};\n\nmpl.mpl_figure_comm = function (comm, msg) {\n    // This is the function which gets called when the mpl process\n    // starts-up an IPython Comm through the \"matplotlib\" channel.\n\n    var id = msg.content.data.id;\n    // Get hold of the div created by the display call when the Comm\n    // socket was opened in Python.\n    var element = document.getElementById(id);\n    var ws_proxy = comm_websocket_adapter(comm);\n\n    function ondownload(figure, _format) {\n        window.open(figure.canvas.toDataURL());\n    }\n\n    var fig = new mpl.figure(id, ws_proxy, ondownload, element);\n\n    // Call onopen now - mpl needs it, as it is assuming we've passed it a real\n    // web socket which is closed, not our websocket->open comm proxy.\n    ws_proxy.onopen();\n\n    fig.parent_element = element;\n    fig.cell_info = mpl.find_output_cell(\"<div id='\" + id + \"'></div>\");\n    if (!fig.cell_info) {\n        console.error('Failed to find cell for figure', id, fig);\n        return;\n    }\n    fig.cell_info[0].output_area.element.on(\n        'cleared',\n        { fig: fig },\n        fig._remove_fig_handler\n    );\n};\n\nmpl.figure.prototype.handle_close = function (fig, msg) {\n    var width = fig.canvas.width / fig.ratio;\n    fig.cell_info[0].output_area.element.off(\n        'cleared',\n        fig._remove_fig_handler\n    );\n    fig.resizeObserverInstance.unobserve(fig.canvas_div);\n\n    // Update the output cell to use the data from the current canvas.\n    fig.push_to_output();\n    var dataURL = fig.canvas.toDataURL();\n    // Re-enable the keyboard manager in IPython - without this line, in FF,\n    // the notebook keyboard shortcuts fail.\n    IPython.keyboard_manager.enable();\n    fig.parent_element.innerHTML =\n        '<img src=\"' + dataURL + '\" width=\"' + width + '\">';\n    fig.close_ws(fig, msg);\n};\n\nmpl.figure.prototype.close_ws = function (fig, msg) {\n    fig.send_message('closing', msg);\n    // fig.ws.close()\n};\n\nmpl.figure.prototype.push_to_output = function (_remove_interactive) {\n    // Turn the data on the canvas into data in the output cell.\n    var width = this.canvas.width / this.ratio;\n    var dataURL = this.canvas.toDataURL();\n    this.cell_info[1]['text/html'] =\n        '<img src=\"' + dataURL + '\" width=\"' + width + '\">';\n};\n\nmpl.figure.prototype.updated_canvas_event = function () {\n    // Tell IPython that the notebook contents must change.\n    IPython.notebook.set_dirty(true);\n    this.send_message('ack', {});\n    var fig = this;\n    // Wait a second, then push the new image to the DOM so\n    // that it is saved nicely (might be nice to debounce this).\n    setTimeout(function () {\n        fig.push_to_output();\n    }, 1000);\n};\n\nmpl.figure.prototype._init_toolbar = function () {\n    var fig = this;\n\n    var toolbar = document.createElement('div');\n    toolbar.classList = 'btn-toolbar';\n    this.root.appendChild(toolbar);\n\n    function on_click_closure(name) {\n        return function (_event) {\n            return fig.toolbar_button_onclick(name);\n        };\n    }\n\n    function on_mouseover_closure(tooltip) {\n        return function (event) {\n            if (!event.currentTarget.disabled) {\n                return fig.toolbar_button_onmouseover(tooltip);\n            }\n        };\n    }\n\n    fig.buttons = {};\n    var buttonGroup = document.createElement('div');\n    buttonGroup.classList = 'btn-group';\n    var button;\n    for (var toolbar_ind in mpl.toolbar_items) {\n        var name = mpl.toolbar_items[toolbar_ind][0];\n        var tooltip = mpl.toolbar_items[toolbar_ind][1];\n        var image = mpl.toolbar_items[toolbar_ind][2];\n        var method_name = mpl.toolbar_items[toolbar_ind][3];\n\n        if (!name) {\n            /* Instead of a spacer, we start a new button group. */\n            if (buttonGroup.hasChildNodes()) {\n                toolbar.appendChild(buttonGroup);\n            }\n            buttonGroup = document.createElement('div');\n            buttonGroup.classList = 'btn-group';\n            continue;\n        }\n\n        button = fig.buttons[name] = document.createElement('button');\n        button.classList = 'btn btn-default';\n        button.href = '#';\n        button.title = name;\n        button.innerHTML = '<i class=\"fa ' + image + ' fa-lg\"></i>';\n        button.addEventListener('click', on_click_closure(method_name));\n        button.addEventListener('mouseover', on_mouseover_closure(tooltip));\n        buttonGroup.appendChild(button);\n    }\n\n    if (buttonGroup.hasChildNodes()) {\n        toolbar.appendChild(buttonGroup);\n    }\n\n    // Add the status bar.\n    var status_bar = document.createElement('span');\n    status_bar.classList = 'mpl-message pull-right';\n    toolbar.appendChild(status_bar);\n    this.message = status_bar;\n\n    // Add the close button to the window.\n    var buttongrp = document.createElement('div');\n    buttongrp.classList = 'btn-group inline pull-right';\n    button = document.createElement('button');\n    button.classList = 'btn btn-mini btn-primary';\n    button.href = '#';\n    button.title = 'Stop Interaction';\n    button.innerHTML = '<i class=\"fa fa-power-off icon-remove icon-large\"></i>';\n    button.addEventListener('click', function (_evt) {\n        fig.handle_close(fig, {});\n    });\n    button.addEventListener(\n        'mouseover',\n        on_mouseover_closure('Stop Interaction')\n    );\n    buttongrp.appendChild(button);\n    var titlebar = this.root.querySelector('.ui-dialog-titlebar');\n    titlebar.insertBefore(buttongrp, titlebar.firstChild);\n};\n\nmpl.figure.prototype._remove_fig_handler = function (event) {\n    var fig = event.data.fig;\n    if (event.target !== this) {\n        // Ignore bubbled events from children.\n        return;\n    }\n    fig.close_ws(fig, {});\n};\n\nmpl.figure.prototype._root_extra_style = function (el) {\n    el.style.boxSizing = 'content-box'; // override notebook setting of border-box.\n};\n\nmpl.figure.prototype._canvas_extra_style = function (el) {\n    // this is important to make the div 'focusable\n    el.setAttribute('tabindex', 0);\n    // reach out to IPython and tell the keyboard manager to turn it's self\n    // off when our div gets focus\n\n    // location in version 3\n    if (IPython.notebook.keyboard_manager) {\n        IPython.notebook.keyboard_manager.register_events(el);\n    } else {\n        // location in version 2\n        IPython.keyboard_manager.register_events(el);\n    }\n};\n\nmpl.figure.prototype._key_event_extra = function (event, _name) {\n    var manager = IPython.notebook.keyboard_manager;\n    if (!manager) {\n        manager = IPython.keyboard_manager;\n    }\n\n    // Check for shift+enter\n    if (event.shiftKey && event.which === 13) {\n        this.canvas_div.blur();\n        // select the cell after this one\n        var index = IPython.notebook.find_cell_index(this.cell_info[0]);\n        IPython.notebook.select(index + 1);\n    }\n};\n\nmpl.figure.prototype.handle_save = function (fig, _msg) {\n    fig.ondownload(fig, null);\n};\n\nmpl.find_output_cell = function (html_output) {\n    // Return the cell and output element which can be found *uniquely* in the notebook.\n    // Note - this is a bit hacky, but it is done because the \"notebook_saving.Notebook\"\n    // IPython event is triggered only after the cells have been serialised, which for\n    // our purposes (turning an active figure into a static one), is too late.\n    var cells = IPython.notebook.get_cells();\n    var ncells = cells.length;\n    for (var i = 0; i < ncells; i++) {\n        var cell = cells[i];\n        if (cell.cell_type === 'code') {\n            for (var j = 0; j < cell.output_area.outputs.length; j++) {\n                var data = cell.output_area.outputs[j];\n                if (data.data) {\n                    // IPython >= 3 moved mimebundle to data attribute of output\n                    data = data.data;\n                }\n                if (data['text/html'] === html_output) {\n                    return [cell, data, j];\n                }\n            }\n        }\n    }\n};\n\n// Register the function which deals with the matplotlib target/channel.\n// The kernel may be null if the page has been refreshed.\nif (IPython.notebook.kernel !== null) {\n    IPython.notebook.kernel.comm_manager.register_target(\n        'matplotlib',\n        mpl.mpl_figure_comm\n    );\n}\n",
      "text/plain": [
       "<IPython.core.display.Javascript object>"
      ]
     },
     "metadata": {},
     "output_type": "display_data"
    },
    {
     "data": {
      "text/html": [
       "<div id='b35a54d7-347b-4d37-8436-1ed98602c3df'></div>"
      ],
      "text/plain": [
       "<IPython.core.display.HTML object>"
      ]
     },
     "metadata": {},
     "output_type": "display_data"
    }
   ],
   "source": [
    "#Definir parametros\n",
    "%matplotlib notebook\n",
    "box  = 5.0 \n",
    "part = 2\n",
    "\n",
    "# Initial conditions\n",
    "\n",
    "v_0=array([[0, 0],  [1, 0]]) # velocities between -1 y 1\n",
    "v_k=array([[0, 0],  [1, 0]]) # velocities between -1 y 1\n",
    "v_m=array([[0, 0],  [1, 0]]) # velocities between -1 y 1\n",
    "\n",
    "p_0=array([[0,2],  [1, 2]]) # positions\n",
    "\n",
    "p_k=array([[0,0],  [1, 0]]) # positions\n",
    "\n",
    "p_m=array([[0,4],  [1, 4]]) # positions\n",
    "\n",
    "\n",
    "\n",
    "    \n",
    "# #Building the figure\n",
    "fig, ax = plt.subplots(1, 2,figsize=(12, 5))\n",
    "# fig=plt.figure()\n",
    "# ax=fig.add_subplot(111)  \n",
    "# fig.canvas.draw()        #update the figure\n",
    "    \n",
    "    \n",
    "dt=0.01\n",
    "tiempo=0\n",
    "\n",
    "#Start simulation\n",
    "\n",
    "cont=0\n",
    "position_0=[]\n",
    "position_m=[]\n",
    "position_k=[]\n",
    "t=[]\n",
    "graphs= []\n",
    "while tiempo < 10:\n",
    "    aV_0 = vibra(part,p_0,10,10,10)\n",
    "    aV_k = vibra(part,p_k,150,10,10)\n",
    "    aV_m = vibra(part,p_m,10,150,10)\n",
    "    \n",
    "    vn_0 = v_0+aV_0*dt\n",
    "    vn_k = v_k+aV_k*dt\n",
    "    vn_m = v_m+aV_m*dt\n",
    "    \n",
    "    #adjust velocities\n",
    "    vn_0[(vn_0>0.5)] =0.5\n",
    "    vn_0[(vn_0<-0.5)]=-0.5\n",
    "    \n",
    "    vn_k[(vn_k>0.5)] =0.5\n",
    "    vn_k[(vn_k<-0.5)]=-0.5\n",
    "    \n",
    "    vn_m[(vn_m>0.5)] =0.5\n",
    "    vn_m[(vn_m<-0.5)]=-0.5\n",
    "    \n",
    "    pn_0=p_0+vn_0*dt\n",
    "    pn_k=p_k+vn_k*dt\n",
    "    pn_m=p_m+vn_m*dt\n",
    "    \n",
    "    vc_0=sqrt(vn_0[:,0]**2+vn_0[:,1]**2)\n",
    "    vc_k=sqrt(vn_k[:,0]**2+vn_k[:,1]**2)\n",
    "    vc_m=sqrt(vn_m[:,0]**2+vn_m[:,1]**2)\n",
    "    \n",
    "    cont+=1\n",
    "    \n",
    "    \n",
    "    if cont%10==0:\n",
    "        graf(pn_0,vc_0,pn_k,vc_k,pn_m,vc_m)\n",
    "        plt.savefig('image{0}.png'.format(cont))\n",
    "        image=imageio.imread('image{0}.png'.format(cont))\n",
    "        graphs.append(image)\n",
    "    tiempo=tiempo+dt\n",
    "    p_0=pn_0\n",
    "    v_0=vn_0\n",
    "    \n",
    "    p_k=pn_k\n",
    "    v_k=vn_k\n",
    "    \n",
    "    p_m=pn_m\n",
    "    v_m=vn_m\n",
    "    position_0.append(pn_0[:,0][0])\n",
    "    position_m.append(pn_m[:,0][0])\n",
    "    position_k.append(pn_k[:,0][0])\n",
    "    t.append(tiempo)\n"
   ]
  },
  {
   "cell_type": "code",
   "execution_count": 7,
   "id": "b971e2c7",
   "metadata": {
    "tags": [
     "hide-input"
    ]
   },
   "outputs": [],
   "source": [
    "imageio.mimsave('./example_2.gif', # output gif\n",
    "                graphs,          # array of input frames\n",
    "                fps = 15)      \n"
   ]
  },
  {
   "attachments": {},
   "cell_type": "markdown",
   "id": "f24e9b69",
   "metadata": {},
   "source": [
    "![SegmentLocal](./images/example_2.gif \"Variations isotope and multibonding\")"
   ]
  },
  {
   "attachments": {},
   "cell_type": "markdown",
   "id": "3b571750",
   "metadata": {},
   "source": [
    "\n",
    "```{admonition} Which facts can you conclude with this animation?\n",
    ":class: dropdown\n",
    "\n",
    "With this animation we can confirm several guess: \n",
    "\n",
    "* Increasing $k$ increase the bond order, so that molecules with double or triple bonds vibrate at higher frequencies and the oscillation amplitude gets smaller.\n",
    "* Increasing the mass of one of the atoms, either for isotopic effect or just a change in an atom to model a heteromolecule, decreases the frequency of oscillation and the oscillation is also greater.\n",
    "```\n"
   ]
  },
  {
   "attachments": {},
   "cell_type": "markdown",
   "id": "407d86fd",
   "metadata": {},
   "source": [
    "# Solid - Monoatomic chain"
   ]
  },
  {
   "attachments": {},
   "cell_type": "markdown",
   "id": "1eebc573",
   "metadata": {},
   "source": [
    "Let us consider a chain of identical atoms of mass $m$ where the equilibrium spacing between atoms is $a$. Let us define the position of the nth atom to be $xn$ and the equilibrium position of the nth atom to be $x^{eq}_n = na$. Once we allow motion of the atoms, we will have $x_n$ deviating from its equilibrium position, so we define the small variable $δx_n= x_n − x^{eq}_n$  \n",
    "\n",
    "Note that in our simple model we are allowing motion of the masses only in one dimension (i.e., we are allowing longitudinal motion of the chain, not transverse motion)\n",
    "\n",
    "For any coupled system system, a normal mode is defined to be a collective oscillation where all particles move at the same frequency. We now attempt a solution\n",
    "to Newton’s equations by using an ansatz that describes the normal modes as waves\n",
    "\n",
    "\\begin{align}\n",
    "x_n = x_n^{\\rm eq} + A e^{i\\omega t-ikna}\n",
    "\\end{align}\n",
    "\n",
    "where $x_n^{\\rm eq}=na$.\n",
    "\n",
    "\n",
    "\\begin{align}\n",
    "\\delta x_n = A e^{i\\omega t-ikna}\n",
    "\\end{align}\n",
    "\n",
    "Solving the equation we obtain: \n",
    " \n",
    "\n",
    "\\begin{align}\n",
    "\\omega(k) = \\sqrt{\\frac{4\\kappa}{m}} \\bigg| \\sin\\bigg( \\frac{ka}{2} \\bigg) \\bigg|\n",
    "\\end{align}\n",
    "\n",
    "As we have seen, this exact solutions can help us to simulate the movement of atoms, in this case we will see how atoms in a periodic lattice move in a defined normal mode."
   ]
  },
  {
   "cell_type": "code",
   "execution_count": 26,
   "id": "024fa2f5",
   "metadata": {},
   "outputs": [],
   "source": [
    "from matplotlib.animation import FuncAnimation\n",
    "from IPython.display      import HTML"
   ]
  },
  {
   "cell_type": "code",
   "execution_count": 27,
   "id": "3f537407",
   "metadata": {},
   "outputs": [],
   "source": [
    "t   = 0; κ = 1; m = 1; a = 1; A = 0.2\n",
    "n   = arange(-5,5)\n",
    "xeq = n*a\n",
    "yeq = zeros(len(xeq))\n",
    "#######\n",
    "k   = pi/a\n",
    "#######\n",
    "ω   = sqrt(4*κ/m) \n",
    "δx  = A*exp(1J*ω*t-1J*k*n*a)\n",
    "#x_0+sin(sqrt(k/m)*i)+cos(sqrt(k/m)*i)\n",
    "y   = zeros(len(xeq)) # + δx\n",
    "x   = xeq + δx"
   ]
  },
  {
   "cell_type": "code",
   "execution_count": 32,
   "id": "aedcbdea",
   "metadata": {},
   "outputs": [
    {
     "data": {
      "image/png": "[encoded data removed]",
      "text/plain": [
       "<Figure size 576x288 with 1 Axes>"
      ]
     },
     "metadata": {
      "needs_background": "light"
     },
     "output_type": "display_data"
    }
   ],
   "source": [
    "fig   = plt.figure(figsize=(8,4))\n",
    "ax    = plt.axes(xlim=(-7, 7), ylim=(-0.25, 0.25))\n",
    "ax.scatter(xeq,yeq,s=120,alpha=0.5,label=\"$x_n^eq$\",color=\"b\")\n",
    "dots  = ax.scatter( x.real, y.real,s=120,alpha=0.5,color=\"r\" )\n",
    "ax.legend(loc=0,fontsize=18)\n",
    "\n",
    "def animate(i):\n",
    "    Δt = 1e-2\n",
    "    t  = i*Δt\n",
    "    δx = A*exp(1J*ω*t-1J*k*n*a)\n",
    "    y  = zeros(len(xeq)) # + u\n",
    "    x  = xeq + δx\n",
    "    dots.set_offsets(np.c_[x.real, y.real])\n",
    "    ax.set_axis_off()\n",
    "    \n",
    "anim = FuncAnimation(fig, animate, interval=5, frames = 1001)\n"
   ]
  },
  {
   "attachments": {},
   "cell_type": "markdown",
   "id": "447528bc",
   "metadata": {},
   "source": [
    "![SegmentLocal](./images/movimiento_8_h.gif \"Normal modes solid\")"
   ]
  },
  {
   "attachments": {},
   "cell_type": "markdown",
   "id": "a40e2f30",
   "metadata": {},
   "source": []
  },
  {
   "attachments": {},
   "cell_type": "markdown",
   "id": "5817f2f6",
   "metadata": {},
   "source": [
    "# Quality Factor"
   ]
  },
  {
   "attachments": {},
   "cell_type": "markdown",
   "id": "1be5cec8",
   "metadata": {},
   "source": [
    "The quality factor (**Q**) is related to the number of cycles it takes for the motion to die down. In harmonic motion of molecules, it describes the dampness in the oscillating system, this means that we can guess the aggregation state of the compound, and moreover,  the solvent in which the molecules are solvated. \n",
    "\n",
    "The quality factor $Q$ can be calculated as:\n",
    "\n",
    "$$\n",
    "Q= \\frac{\\omega _0}{\\gamma}\n",
    "$$\n",
    "* large Q means \"will oscillate for many cycles before stopping \"\n",
    "* small Q means \"will oscillate for only a few cycles before stopping \"\n",
    "\n",
    "`````{admonition} Note\n",
    ":class: tip\n",
    "The quality factor has no units, it is just a number\n",
    "\n",
    "`````\n",
    "\n",
    "```{admonition} But, how do we know the aggregation state or the type of solvent in which our sample is? \n",
    ":class: dropdown\n",
    "\n",
    "The answer is the molecular interactions. For instance, if we have water molecules, they will form spontaneously hydrogen bonds, this process will work as a damping force. It is well known that this effect is in water is predominant in liquid state. The next question is: what is the effect of a damping force on the amplitude and more interesting, on the bands of the IR spectrum? Play a little bit with the following interactive code and try to guess the answer for this question.\n",
    "```\n",
    "\n"
   ]
  },
  {
   "cell_type": "code",
   "execution_count": 5,
   "id": "7be00881",
   "metadata": {
    "tags": [
     "hide-input"
    ]
   },
   "outputs": [],
   "source": [
    "%matplotlib inline\n",
    "from pylab import *\n",
    "from ipywidgets import *\n",
    "import matplotlib.pyplot as plt\n",
    "plt.rcParams.update({'font.size': 18})\n"
   ]
  },
  {
   "cell_type": "code",
   "execution_count": 6,
   "id": "7a33032e",
   "metadata": {
    "scrolled": false,
    "tags": [
     "hide-input"
    ]
   },
   "outputs": [
    {
     "data": {
      "application/vnd.jupyter.widget-view+json": {
       "model_id": "41e50b483870407b85f54cb23787e866",
       "version_major": 2,
       "version_minor": 0
      },
      "text/plain": [
       "interactive(children=(IntSlider(value=5, description='μ', max=10, min=1), IntSlider(value=1, description='γ', …"
      ]
     },
     "metadata": {},
     "output_type": "display_data"
    }
   ],
   "source": [
    "\n",
    "@interact(  μ=(1,10,1), γ=(1,10,1), w_0=(1,20,1))\n",
    "\n",
    "def QualityF( μ=5, γ=1, w_0=10):\n",
    "    F_0=20\n",
    "   \n",
    "    w_f= linspace(-5,20,500)\n",
    "    \n",
    "    fig,ax = plt.subplots(ncols=1,nrows=1,figsize=(8,5))\n",
    "    \n",
    "    A=(F_0/μ)/(sqrt((w_f**2-w_0**2)**2+4*w_f**2*γ**2))\n",
    "    \n",
    "#     ax.set_ylim(-3,3)\n",
    "    ax.set_xlim(0,20)\n",
    "    ax.set_ylim(0,2.1)\n",
    "    ax.set_ylabel(\"Amplitude\")\n",
    "    ax.set_xlabel(\"Frequency [ω]\")\n",
    "    ax.plot(w_f,A)\n",
    "    \n"
   ]
  },
  {
   "attachments": {},
   "cell_type": "markdown",
   "id": "783531e0",
   "metadata": {},
   "source": [
    "# Hydrogen catalysis"
   ]
  },
  {
   "attachments": {},
   "cell_type": "markdown",
   "id": "2dae8cf8",
   "metadata": {},
   "source": [
    "\n",
    "`````{admonition} Real life problem\n",
    ":class: tip \n",
    "\n",
    "Adsorption is a surface–based exothermic process that leads to the transfer of a molecule from a fluid bulk to the solid surface of the adsorbent. The substance that is adsorbed to the adsorbent is called adsorbate. The process may also be classified as physical adsorption (physisorption) or chemical sorption (chemisorption), depending on the interactions between the molecules and surface. Physical adsorption is dominated by weak Van der Waals forces and electrostatic interactions, while in chemisorption, strong chemical bonds such as covalent bonds are formed between the surface and the adsorbed species. Chemical adsorption is slow-paced compared to physical adsorption and most frequently a monomolecular layer is formed on the material surface. In contrast, physisorption usually entails the formation of a thick multilayer on the surface [1] \n",
    "\n",
    "---\n",
    "\n",
    "<sup> Source: Georgiadis, A.G.; Charisiou, N.D.; Goula, M.A. Removal of Hydrogen Sulfide From Various Industrial Gases: A Review of The Most Promising Adsorbing Materials. Catalysts 2020, 10, 521. https://doi.org/10.3390/catal10050521 </sup>\n",
    "\n",
    "\n",
    "`````\n"
   ]
  },
  {
   "attachments": {},
   "cell_type": "markdown",
   "id": "b2184a00",
   "metadata": {},
   "source": [
    "![SegmentLocal](./images/Catalysis_H2.jpg \"Catalysis H_2\")"
   ]
  },
  {
   "attachments": {},
   "cell_type": "markdown",
   "id": "51b18a76",
   "metadata": {},
   "source": [
    "`````{admonition} Real life problem\n",
    ":class: admonition\n",
    "\n",
    "Based on this problem, we can see that we have new bonds, which means a change in the chemical nature of the system\n",
    "Can you guess what would happen with the vibrations is $H_2$ molecule?\n",
    "\n",
    "`````\n"
   ]
  }
 ],
 "metadata": {
  "celltoolbar": "Tags",
  "kernelspec": {
   "display_name": "Python 3",
   "language": "python",
   "name": "python3"
  },
  "language_info": {
   "codemirror_mode": {
    "name": "ipython",
    "version": 3
   },
   "file_extension": ".py",
   "mimetype": "text/x-python",
   "name": "python",
   "nbconvert_exporter": "python",
   "pygments_lexer": "ipython3",
   "version": "3.8.8"
  }
 },
 "nbformat": 4,
 "nbformat_minor": 5
}
